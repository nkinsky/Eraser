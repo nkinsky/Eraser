{
 "cells": [
  {
   "cell_type": "markdown",
   "id": "bc4fc74f",
   "metadata": {},
   "source": [
    "This notebook quantifies chances in single unit activity, MUA, theta, and SWRs through the course of ANI administration in a male rat."
   ]
  },
  {
   "cell_type": "code",
   "execution_count": null,
   "id": "d9ebe876",
   "metadata": {},
   "outputs": [],
   "source": [
    "# Import all the functions you need\n",
    "%load_ext autoreload\n",
    "%autoreload 2\n",
    "\n",
    "import numpy as np\n",
    "import matplotlib.pyplot as plt\n",
    "import seaborn as sns\n",
    "import pandas as pd\n",
    "import sys\n",
    "from pathlib import Path\n",
    "\n",
    "# Comment here to add in for either mac or linux computer\n",
    "# sys.path.extend(['/Users/nkinsky/Documents/UM/GitHub/NeuroPy'])  # For mac laptop\n",
    "sys.path.extend(['/data/GitHub/NeuroPy'])  # for linux\n",
    "\n",
    "from neuropy import core\n",
    "from neuropy.io import (optitrackio,\n",
    "                        dlcio,\n",
    "                        )\n",
    "from neuropy.io.neuroscopeio import NeuroscopeIO\n",
    "from neuropy.io.binarysignalio import BinarysignalIO \n",
    "from neuropy.io.miniscopeio import MiniscopeIO\n",
    "from neuropy.core import Epoch\n",
    "\n",
    "plt.rcParams['pdf.fonttype'] = 42\n"
   ]
  },
  {
   "cell_type": "code",
   "execution_count": null,
   "id": "09d4ab5a",
   "metadata": {},
   "outputs": [],
   "source": [
    "# Define a class for a typical recording or set of recordings\n",
    "class ProcessData:\n",
    "    def __init__(self, basepath):\n",
    "        basepath = Path(basepath)\n",
    "        self.basepath = basepath\n",
    "        xml_files = sorted(basepath.glob(\"*.xml\"))\n",
    "        assert len(xml_files) == 1, \"Found more than one .xml file\"\n",
    "        \n",
    "        fp = xml_files[0].with_suffix(\"\")\n",
    "        self.filePrefix = fp\n",
    "        \n",
    "        self.recinfo = NeuroscopeIO(xml_files[0])\n",
    "        eegfiles = sorted(basepath.glob('*.eeg'))\n",
    "        assert len(eegfiles) == 1, \"Fewer/more than one .eeg file detected\"\n",
    "        self.eegfile = BinarysignalIO(eegfiles[0], n_channels=self.recinfo.n_channels,\n",
    "                                     sampling_rate=self.recinfo.eeg_sampling_rate,\n",
    "                                     )\n",
    "        try:\n",
    "            self.datfile = BinarysignalIO(eegfiles[0].with_suffix('.dat'),\n",
    "                                         n_channels=self.recinfo.n_channels,\n",
    "                                         sampling_rate=self.recinfo.dat_sampling_rate,\n",
    "                                         )\n",
    "        except FileNotFoundError:\n",
    "            print('No dat file found, not loading')\n",
    "                \n",
    "        \n",
    "    def __repr__(self) -> str:\n",
    "        return f\"{self.__class__.__name__}({self.recinfo.source_file.name})\"\n",
    "    \n",
    "def Wedge_saline1():\n",
    "    basepath = '/data3/Anisomycin/Recording_Rats/Wedge/2022_12_12_saline1' # for linux desktop\n",
    "    return ProcessData(basepath)\n",
    "\n",
    "def Wedge_ani1():\n",
    "    basepath = '/data3/Anisomycin/Recording_Rats/Wedge/2022_12_13_anisomycin50mg' # for linux desktop\n",
    "    return ProcessData(basepath)\n",
    "\n",
    "def Wedge_saline2():\n",
    "    basepath = '/data3/Anisomycin/Recording_Rats/Wedge/2022_12_14_saline2' # for linux desktop\n",
    "    return ProcessData(basepath)\n",
    "    \n",
    "def Wedge_saline3():\n",
    "    basepath = '/data3/Anisomycin/Recording_Rats/Wedge/2022_12_21_saline3' # for linux desktop\n",
    "    return ProcessData(basepath)"
   ]
  },
  {
   "cell_type": "markdown",
   "id": "002585f1",
   "metadata": {},
   "source": [
    "Here are some quick functions I wrote that probably are better done in NeuroPy."
   ]
  },
  {
   "cell_type": "code",
   "execution_count": null,
   "id": "4a10f6f3",
   "metadata": {},
   "outputs": [],
   "source": [
    "def load_data(dir_use):\n",
    "    clu_id = np.load(dir_use / 'spike_clusters.npy')\n",
    "    amp = np.load(dir_use / 'amplitudes.npy')\n",
    "    spike_times = np.load(dir_use / 'spike_times.npy')\n",
    "    \n",
    "    return clu_id, amp, spike_times\n",
    "\n",
    "def parse_data(spike_times, amp, clu_id, good_units):\n",
    "    SR = 30000\n",
    "    for unit in good_units:\n",
    "        unit_bool = clu_id == unit\n",
    "        clu_times.append(spike_times[unit_bool] / SR)\n",
    "        clu_amps.append(amp[unit_bool])\n",
    "\n",
    "        return clu_times, clu_amps\n",
    "    \n",
    "def plot_FR(clu_times, spike_times, inj_time_sec, plot_name=\"\"):\n",
    "    bin_size = 10  # sec\n",
    "    bins_use = np.arange(0, spike_times[-1] / 30000, bin_size)\n",
    "    fig, asp = plt.subplots(len(good_units), 1, figsize=(20, 1.95 * len(good_units)), sharex=True)\n",
    "    fig.suptitle(plot_name)\n",
    "    for ida, (a, clu_t) in enumerate(zip(asp, clu_times)):\n",
    "        sp_rate = []\n",
    "        for bin_start, bin_end in zip(bins_use[:-1], bins_use[1:]):\n",
    "            sp_rate.append(np.bitwise_and(clu_t > bin_start, clu_t < bin_end).sum() / bin_size)\n",
    "        sp_rate = np.array(sp_rate)\n",
    "        a.plot(bins_use[:-1] / 60, sp_rate)\n",
    "        a.set_title(f'Good cell # {ida}')\n",
    "        a.set_ylabel(f'Rate (Hz): {bin_size} sec bin')\n",
    "        a.set_xlabel('time (min)')\n",
    "        a.axvline(inj_time_sec / 60, color='g')\n",
    "        "
   ]
  },
  {
   "cell_type": "code",
   "execution_count": null,
   "id": "f1b9d3b3",
   "metadata": {},
   "outputs": [],
   "source": [
    "def bin_MUA(spike_times, SR=30000, bin_size=10):\n",
    "    bins_use = np.arange(0, spike_times[-1] / SR, bin_size)\n",
    "    mua_rate = []\n",
    "    for bin_start, bin_end in zip(bins_use[:-1], bins_use[1:]):\n",
    "        mua_rate.append(np.bitwise_and(spike_times / SR > bin_start, spike_times / SR < bin_end).sum() / bin_size)\n",
    "    \n",
    "    mua_times = bins_use[:-1] / 60\n",
    "    return mua_rate, mua_times\n"
   ]
  },
  {
   "cell_type": "markdown",
   "id": "c99319f0",
   "metadata": {},
   "source": [
    "Below here are code scraps for posterity."
   ]
  },
  {
   "cell_type": "code",
   "execution_count": null,
   "id": "23cbc0a4",
   "metadata": {},
   "outputs": [],
   "source": [
    "dir_use = Path('/data3/Anisomycin/Recording_Rats/Wedge/2022_12_14_saline2/spyk-circ/Wedge_saline2/Wedge_saline2.GUI')\n",
    "good_units = [4, 5, 6, 9, 11]\n",
    "clu_id, amp, spike_times = load_data(dir_use)\n",
    "clu_times, clu_amps = parse_data(spike_times, amp, clu_id, good_units)"
   ]
  },
  {
   "cell_type": "code",
   "execution_count": null,
   "id": "bf9c1117",
   "metadata": {},
   "outputs": [],
   "source": [
    "dir_use = Path('/data3/Anisomycin/Recording_Rats/Wedge/2022_12_12_saline/spyk-circ/Wedge_saline1/Wedge_saline1.GUI')\n",
    "clu_id, amp, spike_times = load_data(dir_use)\n",
    "good_units = [31, 41, 47, 53, 60, 61, 71, 74]\n",
    "clu_times, clu_amps = parse_data(spike_times, amp, clu_id, good_units)\n"
   ]
  },
  {
   "cell_type": "code",
   "execution_count": null,
   "id": "972c4fa7",
   "metadata": {},
   "outputs": [],
   "source": [
    "dir_use = Path('/data3/Anisomycin/Recording_Rats/Wedge/2022_12_13_anisomycin50mg/spyk-circ/Wedge_ani1/Wedge_ani1.GUI')\n",
    "good_units = [37, 45, 57, 66, 79, 94, 97]\n",
    "clu_id, amp, spike_times = load_data(dir_use)\n",
    "clu_times, clu_amps = parse_data(spike_times, amp, clu_id, good_units)\n",
    "plot_FR(clu_times, spike_times, 16*60, plot_name=\"Wedge ANI1 (50mg)\")\n",
    "plt.gca().set_xlim([-5, 125])"
   ]
  },
  {
   "cell_type": "code",
   "execution_count": null,
   "id": "e6870795",
   "metadata": {},
   "outputs": [],
   "source": [
    "mua_rate_ani, mua_times_ani = bin_MUA(spike_times)\n",
    "ax.plot(mua_times_ani, mua_rate_ani)\n",
    "ax.set_title('ANI')"
   ]
  }
 ],
 "metadata": {
  "kernelspec": {
   "display_name": "Python 3 (ipykernel)",
   "language": "python",
   "name": "python3"
  },
  "language_info": {
   "codemirror_mode": {
    "name": "ipython",
    "version": 3
   },
   "file_extension": ".py",
   "mimetype": "text/x-python",
   "name": "python",
   "nbconvert_exporter": "python",
   "pygments_lexer": "ipython3",
   "version": "3.9.13"
  }
 },
 "nbformat": 4,
 "nbformat_minor": 5
}
