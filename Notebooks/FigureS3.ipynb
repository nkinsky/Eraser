{
 "cells": [
  {
   "cell_type": "markdown",
   "id": "43575ee8",
   "metadata": {},
   "source": [
    "Example place fields from each group"
   ]
  },
  {
   "cell_type": "code",
   "execution_count": null,
   "id": "48863698",
   "metadata": {},
   "outputs": [],
   "source": [
    "import scipy.stats as s\n",
    "import numpy as np\n",
    "import matplotlib.pyplot as plt\n",
    "from os import path\n",
    "import seaborn as sns\n",
    "import pandas as pd\n",
    "\n",
    "# Import project specific modules and enable automatic reloading\n",
    "import sys\n",
    "from pathlib import Path\n",
    "import os\n",
    "eraser_path = Path(os.getcwd()).parent\n",
    "reinstatement_path = eraser_path.parent / 'FearReinstatement'\n",
    "sys.path.append(str(eraser_path))\n",
    "sys.path.append(str(reinstatement_path))\n",
    "%load_ext autoreload\n",
    "%autoreload 2\n",
    "\n",
    "import eraser_reference as err\n",
    "import er_plot_functions as er\n",
    "from plotting import Fig, pretty_plot, FigMirror\n",
    "import placefield_stability as pfs\n",
    "import Placefields as pf\n",
    "import discrimination as discr\n",
    "import ca_traces as trc"
   ]
  },
  {
   "cell_type": "markdown",
   "id": "78a5bc27",
   "metadata": {},
   "source": [
    "Top rows: 8 fields from learner before shock and after shock. Top row = raw behavior with red dots, next row = PFs, next row = after PFS, bottom row = raw after behavior with red dots. Left 4 = Open, Right 4 = Shock"
   ]
  },
  {
   "cell_type": "markdown",
   "id": "1f639177",
   "metadata": {},
   "source": [
    "Next rows: Non-learner, same as above"
   ]
  },
  {
   "cell_type": "markdown",
   "id": "3cccf72a",
   "metadata": {},
   "source": [
    "Bottom rows: ANI, same as above"
   ]
  }
 ],
 "metadata": {
  "kernelspec": {
   "display_name": "Python 3 (ipykernel)",
   "language": "python",
   "name": "python3"
  },
  "language_info": {
   "codemirror_mode": {
    "name": "ipython",
    "version": 3
   },
   "file_extension": ".py",
   "mimetype": "text/x-python",
   "name": "python",
   "nbconvert_exporter": "python",
   "pygments_lexer": "ipython3",
   "version": "3.9.5"
  }
 },
 "nbformat": 4,
 "nbformat_minor": 5
}
