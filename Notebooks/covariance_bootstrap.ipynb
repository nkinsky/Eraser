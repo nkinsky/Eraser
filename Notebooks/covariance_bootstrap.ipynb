{
 "cells": [
  {
   "cell_type": "markdown",
   "id": "9748b31e",
   "metadata": {},
   "source": [
    "Bootstrapping for covariance analyses"
   ]
  },
  {
   "cell_type": "code",
   "execution_count": 1,
   "id": "4b41c5ee",
   "metadata": {},
   "outputs": [
    {
     "name": "stdout",
     "output_type": "stream",
     "text": [
      "bad/empty/missing SessionDirectories.csv file - must enter all directories manually\n",
      "No SessionDirectories.pkl file found. Can't easily load files.\n"
     ]
    }
   ],
   "source": [
    "import scipy.stats as s\n",
    "import numpy as np\n",
    "import matplotlib.pyplot as plt\n",
    "from os import path\n",
    "import seaborn as sns\n",
    "import pandas as pd\n",
    "import scipy.io as sio\n",
    "import pingouin as pg\n",
    "from copy import copy, deepcopy\n",
    "from tqdm import tqdm\n",
    "import platform\n",
    "\n",
    "# Import project specific modules and enable automatic reloading\n",
    "import sys\n",
    "from pathlib import Path\n",
    "import os\n",
    "eraser_path = Path(os.getcwd()).parent\n",
    "reinstatement_path = eraser_path.parent / 'FearReinstatement'\n",
    "sys.path.append(str(eraser_path))\n",
    "sys.path.append(str(reinstatement_path))\n",
    "%load_ext autoreload\n",
    "%autoreload 2\n",
    "\n",
    "import eraser_reference as err\n",
    "import er_plot_functions as er\n",
    "from plotting import Fig, pretty_plot, FigMirror\n",
    "import placefield_stability as pfs\n",
    "import Placefields as pf\n",
    "import discrimination as discr\n",
    "import ca_traces as trc\n",
    "import freezing_analysis as fa\n",
    "from plotting import Fig, pretty_plot, FigMirror\n",
    "from helpers import contiguous_regions\n",
    "import covariance_analysis as cova\n",
    "from stats_utils import resample, bootstrap_resample, get_bootstrap_prob, get_bootstrap_prob_paired\n",
    "from subjects import save_df, load_df"
   ]
  },
  {
   "cell_type": "code",
   "execution_count": 2,
   "id": "cd4a6d6f-0545-419d-bf73-8848f15ae5e8",
   "metadata": {},
   "outputs": [],
   "source": [
    "group_data_dir = \"/Users/nkinsky/Documents/BU/Working/Eraser\" if platform.system() == \"Darwin\" else \"/home/nkinsky/Dropbox (University of Michigan)/Eraser/GroupData\"\n",
    "group_data_dir = Path(group_data_dir)"
   ]
  },
  {
   "cell_type": "code",
   "execution_count": 3,
   "id": "3747795d",
   "metadata": {},
   "outputs": [],
   "source": [
    "def add_memory_designations(df_use, key_use=\"d1_d2\", before=['-2_-1', '-1_4'], during=['4_1'], \n",
    "                            after=['1_2', '2_7']):\n",
    "    \"\"\"Add in designations for before, 4hr (during), and after ANI administration into your dataframe\"\"\"\n",
    "    df = deepcopy(df_use)\n",
    "    desig = [\"\" for a in df.itertuples()]\n",
    "    \n",
    "    def create_bool_array_from_list(bool_list):\n",
    "        bool_out = False\n",
    "        for b in bool_list:\n",
    "            bool_out = np.bitwise_or(bool_out, b)\n",
    "            \n",
    "        return bool_out\n",
    "    \n",
    "    before_bool_list = [df[key_use] == bef for bef in before]\n",
    "    before_ind = np.where(create_bool_array_from_list(before_bool_list))[0]\n",
    "    during_bool_list = [df[key_use] == dur for dur in during]\n",
    "    during_ind = np.where(create_bool_array_from_list(during_bool_list))[0]\n",
    "    after_bool_list = [df[key_use] == aft for aft in after]\n",
    "    after_ind = np.where(create_bool_array_from_list(after_bool_list))[0]\n",
    "    \n",
    "    for idd, d in enumerate(desig):\n",
    "        if idd in before_ind:\n",
    "            desig[idd] = \"Before\"\n",
    "        elif idd in during_ind:\n",
    "            desig[idd] = \"4hr\"\n",
    "        elif idd in after_ind:\n",
    "            desig[idd] = \"After\"\n",
    "\n",
    "    df['Designation'] = desig\n",
    "    \n",
    "    return df"
   ]
  },
  {
   "cell_type": "markdown",
   "id": "67c51348",
   "metadata": {},
   "source": [
    "### Calculate covariance for all cells and for freeze cells, including any that go silent in later sessions \n",
    "(conservative, silent cells push down overall covariance)\n",
    "Not tracked across days, could be different populations of cells on each day for these plots"
   ]
  },
  {
   "cell_type": "code",
   "execution_count": 4,
   "id": "707a0331-8dbc-4c02-8126-2932bc0c7eaa",
   "metadata": {},
   "outputs": [],
   "source": [
    "# Set bin size\n",
    "bin_size = 0.5 # sec\n",
    "buffer_sec_plot = (4, 4)"
   ]
  },
  {
   "cell_type": "code",
   "execution_count": null,
   "id": "ab83a884",
   "metadata": {},
   "outputs": [],
   "source": [
    "# Run through and tally covariance for all groups/neurons\n",
    "all_cov = cova.group_cov_across_days(bin_size=bin_size, arena1='Shock', arena2='Shock',\n",
    "                                               neurons='all', keep_silent=True, buffer_sec=buffer_sec_plot)\n",
    "freeze_silent_cov = cova.group_cov_across_days(bin_size=bin_size, arena1='Shock', arena2='Shock',\n",
    "                                               neurons='freeze_onset', keep_silent=True, buffer_sec=buffer_sec_plot)"
   ]
  },
  {
   "cell_type": "code",
   "execution_count": null,
   "id": "9508531c-2db8-4bbe-be5b-4f06096c5097",
   "metadata": {},
   "outputs": [],
   "source": [
    "# Now z-score to baseline days (-2 and -1), add in columns and reorganize a bit\n",
    "sigz_freeze_df, sigz_freeze_df_all = cova.cov_dict_to_df(freeze_silentsigz_all_open_df_all_cov, baseline_dict_use=all_cov, include_silent=True,\n",
    "                                                         return_all_cov=True)\n",
    "sigz_freeze_df = add_memory_designations(sigz_freeze_df)\n",
    "save_df(sigz_freeze_df_all, \"cov_sigz_freeze_df_all\")\n",
    "\n",
    "sigz_all_df, sigz_all_df_all = cova.cov_dict_to_df(all_cov, baseline_dict_use=all_cov, include_silent=True, return_all_cov=True)\n",
    "sigz_all_df = add_memory_designations(sigz_all_df)\n",
    "save_df(sigz_all_df_all, \"cov_sigz_df_all\")\n",
    "\n",
    "# Break out into 3 groups instead of grouping Learners and Non-Learners together\n",
    "sigz3way_freeze_df = cova.cov_dict_to_df(freeze_silent_cov, baseline_dict_use=all_cov, include_silent=True, \n",
    "                                        group_ctrls=False)\n",
    "sigz3way_freeze_df = add_memory_designations(sigz3way_freeze_df)\n",
    "\n",
    "sigz3way_all_df = cova.cov_dict_to_df(all_cov, baseline_dict_use=all_cov, include_silent=True, group_ctrls=False)\n",
    "sigz3way_all_df = add_memory_designations(sigz3way_all_df)\n"
   ]
  },
  {
   "cell_type": "code",
   "execution_count": null,
   "id": "988b882f-49a2-4172-9f40-7f484ddf7338",
   "metadata": {},
   "outputs": [],
   "source": [
    "# Sanity check - make sure mean of individual cells from _all_df matches mean pre-calculated in _df above\n",
    "df_comp = sigz_freeze_df_all.groupby([\"Group\", \"Mouse\", \"d1_d2\"]).mean(numeric_only=True).reset_index()\n",
    "df_comp[\"d1_d2\"] = pd.Categorical(df_comp[\"d1_d2\"], [\"-2_-1\", \"-1_4\", \"4_1\", \"1_2\", \"2_7\", \"4_2\"])\n",
    "print(df_comp[df_comp.Mouse == \"Marble07\"].sort_values(\"d1_d2\"))\n",
    "print(\"\")\n",
    "print(sigz_freeze_df.head(6))"
   ]
  },
  {
   "cell_type": "code",
   "execution_count": null,
   "id": "88451cd7",
   "metadata": {},
   "outputs": [],
   "source": [
    "# Same calculation for freeze cells but excluding peri-freeze times\n",
    "freeze_silent_wo_frz_times = cova.group_cov_across_days(bin_size=bin_size, arena1='Shock', arena2='Shock',\n",
    "                                                        neurons='freeze_onset', keep_silent=True, \n",
    "                                                        exclude_events='freeze_onset', exclude_buffer=(2, 2),\n",
    "                                                        buffer_sec=buffer_sec_plot)\n",
    "\n",
    "# Now z-score to baseline days (-2 and -1), add in columns and reorganize a bit\n",
    "sigz_wo_frz_times_df, sigz_wo_frz_times_df_all = cova.cov_dict_to_df(freeze_silent_wo_frz_times, baseline_dict_use=all_cov, \n",
    "                                                                     include_silent=True, group_ctrls=False, return_all_cov=True)\n",
    "sigz_wo_frz_times_df = add_memory_designations(sigz_wo_frz_times_df)\n",
    "save_df(sigz_wo_frz_times_df_all, \"cov_sigz_freeze_wo_frz_times_df_all\")"
   ]
  },
  {
   "cell_type": "code",
   "execution_count": null,
   "id": "9b132d88",
   "metadata": {},
   "outputs": [],
   "source": [
    "# Look at all cell covariance w/o freeze times included\n",
    "all_cov_wofrzt = cova.group_cov_across_days(bin_size=bin_size, arena1='Shock', arena2='Shock',\n",
    "                                            neurons='all', keep_silent=True, exclude_events='freeze_onset',\n",
    "                                            exclude_buffer=(2, 2), buffer_sec=buffer_sec_plot)\n",
    "\n",
    "# Now z-score to baseline days (-2 and -1), add in columns and reorganize a bit\n",
    "sigz_all_wo_frz_times_df, sigz_all_wo_frz_times_df_all = cova.cov_dict_to_df(all_cov_wofrzt, baseline_dict_use=all_cov, \n",
    "                                                                             include_silent=True, group_ctrls=False, return_all_cov=True)\n",
    "sigz_all_wo_frz_times_df = add_memory_designations(sigz_all_wo_frz_times_df)\n",
    "save_df(sigz_all_wo_frz_times_df_all, \"cov_sigz_wo_frz_times_df\")"
   ]
  },
  {
   "cell_type": "code",
   "execution_count": null,
   "id": "f69e27f5-3739-4c27-bc3c-0d471daa14b3",
   "metadata": {},
   "outputs": [],
   "source": [
    "# Calculate freeze cell covariance including freeze times only\n",
    "freeze_silent_peri_frz_only = cova.group_cov_across_days(bin_size=bin_size, arena1='Shock', arena2='Shock',\n",
    "                                                         neurons='freeze_onset', keep_silent=True, \n",
    "                                                         buffer_sec=buffer_sec_use, keep_events='freeze_onset', \n",
    "                                                         keep_buffer=buffer_sec_use)\n",
    "sigz_freeze_df_peri_frz_only, sigz_freeze_df_peri_frz_only_all = cova.cov_dict_to_df(freeze_silent_peri_frz_only, baseline_dict_use=all_cov, \n",
    "                                                                                 include_silent=True, group_ctrls=False, return_all_cov=True)\n",
    "sigz_freeze_df_peri_frz_only = add_memory_designations(sigz_freeze_df_peri_frz_only)\n",
    "\n",
    "save_df(sigz_freeze_df_peri_frz_only_all, \"cov_sigz_freeze_df_peri_frz_only_all\")\n",
    "\n",
    "freeze_silent_peri_frz_only_ERmatch = cova.group_cov_across_days(bin_size=bin_size, arena1='Shock', arena2='Shock',\n",
    "                                                                 neurons='freeze_onset', keep_silent=True, \n",
    "                                                                 buffer_sec=buffer_sec_use, keep_events='freeze_onset', \n",
    "                                                                 keep_buffer=buffer_sec_use, match_event_num=True)\n",
    "sigz_freeze_df_peri_frz_only_ERmatch, sigz_freeze_df_peri_frz_only_ERmatch_all = cova.cov_dict_to_df(freeze_silent_peri_frz_only_ERmatch, \n",
    "                                                                                                     baseline_dict_use=all_cov, \n",
    "                                                                                                     include_silent=True, group_ctrls=False,\n",
    "                                                                                                     return_all_cov=True)\n",
    "sigz_freeze_df_peri_frz_only_ERmatch = add_memory_designations(sigz_freeze_df_peri_frz_only_ERmatch)\n",
    "save_df(sigz_freeze_df_peri_frz_only_ERmatch_all, \"cov_sigz_freeze_df_peri_frz_only_ERmatch_all\")"
   ]
  },
  {
   "cell_type": "code",
   "execution_count": 9,
   "id": "e559a543-5a31-4ad8-831a-97ccbff74e82",
   "metadata": {},
   "outputs": [
    {
     "name": "stderr",
     "output_type": "stream",
     "text": [
      "/var/folders/7g/v7xwy2z52hxcjg7pfsxbb8zc0000gn/T/ipykernel_49079/3121053200.py:11: FutureWarning: ChainedAssignmentError: behaviour will change in pandas 3.0!\n",
      "You are setting values through chained assignment. Currently this works in certain cases, but when using Copy-on-Write (which will become the default behaviour in pandas 3.0) this will never work to update the original DataFrame or Series, because the intermediate object on which we are setting values will behave as a copy.\n",
      "A typical example is when you are setting values in a column of a DataFrame, like:\n",
      "\n",
      "df[\"col\"][row_indexer] = value\n",
      "\n",
      "Use `df.loc[row_indexer, \"col\"] = values` instead, to perform the assignment in a single step and ensure this keeps updating the original `df`.\n",
      "\n",
      "See the caveats in the documentation: https://pandas.pydata.org/pandas-docs/stable/user_guide/indexing.html#returning-a-view-versus-a-copy\n",
      "\n",
      "  sigz_all_open_df['Designation'].iloc[sigz_all_open_df['Designation'] == '4hr'] = 'Day -1'\n",
      "/var/folders/7g/v7xwy2z52hxcjg7pfsxbb8zc0000gn/T/ipykernel_49079/3121053200.py:11: SettingWithCopyWarning: \n",
      "A value is trying to be set on a copy of a slice from a DataFrame\n",
      "\n",
      "See the caveats in the documentation: https://pandas.pydata.org/pandas-docs/stable/user_guide/indexing.html#returning-a-view-versus-a-copy\n",
      "  sigz_all_open_df['Designation'].iloc[sigz_all_open_df['Designation'] == '4hr'] = 'Day -1'\n"
     ]
    },
    {
     "name": "stdout",
     "output_type": "stream",
     "text": [
      "cov_sigz_all_open_df_all.csv saved\n"
     ]
    }
   ],
   "source": [
    "# For all cells in neutral arena\n",
    "all_cov_open = cova.group_cov_across_days(bin_size=bin_size, arena1='Open', arena2='Open', neurons='all', \n",
    "                                          keep_silent=True, base_days=[-2, -1, 4, 1, 2, -1, 0], \n",
    "                                          reg_days=[-1, 4, 1, 2, 7, 0, 4])\n",
    "sigz_all_open_df = cova.cov_dict_to_df(all_cov_open, baseline_dict_use=all_cov_open, include_silent=True)\n",
    "sigz_all_open_df = add_memory_designations(sigz_all_open_df)\n",
    "\n",
    "sigz_all_open_df, sigz_all_open_df_all = cova.cov_dict_to_df(all_cov_open, baseline_dict_use=all_cov_open, include_silent=True,\n",
    "                                                             group_ctrls=False, return_all_cov=True)\n",
    "sigz_all_open_df = add_memory_designations(sigz_all_open_df, before=['-2_-1'], during=['-1_0'], after=['0_4'] )\n",
    "sigz_all_open_df['Designation'].iloc[sigz_all_open_df['Designation'] == '4hr'] = 'Day -1'\n",
    "save_df(sigz_all_open_df_all, \"cov_sigz_all_open_df_all\")"
   ]
  },
  {
   "cell_type": "code",
   "execution_count": 23,
   "id": "c2b296a6-d8e0-4116-ba38-885ca2fc8777",
   "metadata": {},
   "outputs": [
    {
     "name": "stderr",
     "output_type": "stream",
     "text": [
      "Marble07: 0it [00:00, ?it/s]"
     ]
    },
    {
     "name": "stdout",
     "output_type": "stream",
     "text": [
      "No tunings found for Marble07 Open day -2: run .get_tuning_sig() and .save_sig_tuning()\n",
      "No tunings found for Marble07 Open day -2: run .get_tuning_sig() and .save_sig_tuning()\n",
      "calculating significant tuning for buffer_sec=(4, 4) and nperm=1000\n",
      "generating permuted rasters - may take up to 1 minute\n"
     ]
    },
    {
     "name": "stderr",
     "output_type": "stream",
     "text": [
      "Marble07: 4it [00:26,  4.33s/it]"
     ]
    },
    {
     "name": "stdout",
     "output_type": "stream",
     "text": [
      "No tunings found for Marble07 Open day 7: run .get_tuning_sig() and .save_sig_tuning()\n"
     ]
    },
    {
     "name": "stderr",
     "output_type": "stream",
     "text": [
      "Marble07: 6it [00:29,  4.97s/it]\n",
      "Marble12: 0it [00:00, ?it/s]"
     ]
    },
    {
     "name": "stdout",
     "output_type": "stream",
     "text": [
      "No tunings found for Marble12 Open day -2: run .get_tuning_sig() and .save_sig_tuning()\n",
      "No tunings found for Marble12 Open day -2: run .get_tuning_sig() and .save_sig_tuning()\n",
      "calculating significant tuning for buffer_sec=(4, 4) and nperm=1000\n",
      "generating permuted rasters - may take up to 1 minute\n"
     ]
    },
    {
     "name": "stderr",
     "output_type": "stream",
     "text": [
      "Marble12: 4it [00:11,  2.28s/it]"
     ]
    },
    {
     "name": "stdout",
     "output_type": "stream",
     "text": [
      "No tunings found for Marble12 Open day 7: run .get_tuning_sig() and .save_sig_tuning()\n"
     ]
    },
    {
     "name": "stderr",
     "output_type": "stream",
     "text": [
      "Marble12: 6it [00:14,  2.47s/it]\n",
      "Marble24: 0it [00:00, ?it/s]"
     ]
    },
    {
     "name": "stdout",
     "output_type": "stream",
     "text": [
      "/Users/nkinsky/Documents/BU/Working/Eraser/Control Group/Marble24/20181126_1_openfield: nbadpts = 18 max_in_a_row = 3\n",
      "/Users/nkinsky/Documents/BU/Working/Eraser/Control Group/Marble24/20181126_1_openfield: nbadpts = 18 max_in_a_row = 3\n",
      "/Users/nkinsky/Documents/BU/Working/Eraser/Control Group/Marble24/20181126_1_openfield: nbadpts = 18 max_in_a_row = 3\n",
      "No tunings found for Marble24 Open day -2: run .get_tuning_sig() and .save_sig_tuning()\n",
      "/Users/nkinsky/Documents/BU/Working/Eraser/Control Group/Marble24/20181127_1_openfield: nbadpts = 10 max_in_a_row = 4\n",
      "/Users/nkinsky/Documents/BU/Working/Eraser/Control Group/Marble24/20181127_1_openfield: nbadpts = 10 max_in_a_row = 4\n",
      "/Users/nkinsky/Documents/BU/Working/Eraser/Control Group/Marble24/20181127_1_openfield: nbadpts = 10 max_in_a_row = 4\n",
      "/Users/nkinsky/Documents/BU/Working/Eraser/Control Group/Marble24/20181126_1_openfield: nbadpts = 18 max_in_a_row = 3\n",
      "/Users/nkinsky/Documents/BU/Working/Eraser/Control Group/Marble24/20181126_1_openfield: nbadpts = 18 max_in_a_row = 3\n",
      "No tunings found for Marble24 Open day -2: run .get_tuning_sig() and .save_sig_tuning()\n",
      "calculating significant tuning for buffer_sec=(4, 4) and nperm=1000\n",
      "generating permuted rasters - may take up to 1 minute\n"
     ]
    },
    {
     "name": "stderr",
     "output_type": "stream",
     "text": [
      "Marble24: 1it [00:17, 17.38s/it]"
     ]
    },
    {
     "name": "stdout",
     "output_type": "stream",
     "text": [
      "/Users/nkinsky/Documents/BU/Working/Eraser/Control Group/Marble24/20181127_1_openfield: nbadpts = 10 max_in_a_row = 4\n",
      "/Users/nkinsky/Documents/BU/Working/Eraser/Control Group/Marble24/20181127_1_openfield: nbadpts = 10 max_in_a_row = 4\n",
      "/Users/nkinsky/Documents/BU/Working/Eraser/Control Group/Marble24/20181127_1_openfield: nbadpts = 10 max_in_a_row = 4\n"
     ]
    },
    {
     "name": "stderr",
     "output_type": "stream",
     "text": [
      "Marble24: 2it [00:18,  8.04s/it]"
     ]
    },
    {
     "name": "stdout",
     "output_type": "stream",
     "text": [
      "/Users/nkinsky/Documents/BU/Working/Eraser/Control Group/Marble24/20181127_1_openfield: nbadpts = 10 max_in_a_row = 4\n",
      "/Users/nkinsky/Documents/BU/Working/Eraser/Control Group/Marble24/20181127_1_openfield: nbadpts = 10 max_in_a_row = 4\n"
     ]
    },
    {
     "name": "stderr",
     "output_type": "stream",
     "text": [
      "Marble24: 4it [00:21,  3.63s/it]"
     ]
    },
    {
     "name": "stdout",
     "output_type": "stream",
     "text": [
      "No tunings found for Marble24 Open day 7: run .get_tuning_sig() and .save_sig_tuning()\n"
     ]
    },
    {
     "name": "stderr",
     "output_type": "stream",
     "text": [
      "Marble24: 6it [00:24,  4.12s/it]\n",
      "Marble27: 0it [00:00, ?it/s]"
     ]
    },
    {
     "name": "stdout",
     "output_type": "stream",
     "text": [
      "No tunings found for Marble27 Open day -2: run .get_tuning_sig() and .save_sig_tuning()\n",
      "No tunings found for Marble27 Open day -2: run .get_tuning_sig() and .save_sig_tuning()\n",
      "calculating significant tuning for buffer_sec=(4, 4) and nperm=1000\n",
      "generating permuted rasters - may take up to 1 minute\n"
     ]
    },
    {
     "name": "stderr",
     "output_type": "stream",
     "text": [
      "Marble27: 4it [00:18,  3.23s/it]"
     ]
    },
    {
     "name": "stdout",
     "output_type": "stream",
     "text": [
      "No tunings found for Marble27 Open day 7: run .get_tuning_sig() and .save_sig_tuning()\n"
     ]
    },
    {
     "name": "stderr",
     "output_type": "stream",
     "text": [
      "Marble27: 6it [00:21,  3.65s/it]\n",
      "Marble06: 0it [00:00, ?it/s]"
     ]
    },
    {
     "name": "stdout",
     "output_type": "stream",
     "text": [
      "No tunings found for Marble06 Open day -2: run .get_tuning_sig() and .save_sig_tuning()\n",
      "No tunings found for Marble06 Open day -2: run .get_tuning_sig() and .save_sig_tuning()\n",
      "calculating significant tuning for buffer_sec=(4, 4) and nperm=1000\n",
      "generating permuted rasters - may take up to 1 minute\n"
     ]
    },
    {
     "name": "stderr",
     "output_type": "stream",
     "text": [
      "Marble06: 3it [00:31,  7.49s/it]"
     ]
    },
    {
     "name": "stdout",
     "output_type": "stream",
     "text": [
      "/Users/nkinsky/Documents/BU/Working/Eraser/Control Group/Marble6/20180421_1_openfield: nbadpts = 63 max_in_a_row = 38\n",
      "/Users/nkinsky/Documents/BU/Working/Eraser/Control Group/Marble6/20180421_1_openfield: nbadpts = 63 max_in_a_row = 38\n",
      "/Users/nkinsky/Documents/BU/Working/Eraser/Control Group/Marble6/20180421_1_openfield: nbadpts = 63 max_in_a_row = 38\n"
     ]
    },
    {
     "name": "stderr",
     "output_type": "stream",
     "text": [
      "Marble06: 4it [00:32,  5.18s/it]"
     ]
    },
    {
     "name": "stdout",
     "output_type": "stream",
     "text": [
      "/Users/nkinsky/Documents/BU/Working/Eraser/Control Group/Marble6/20180421_1_openfield: nbadpts = 63 max_in_a_row = 38\n",
      "/Users/nkinsky/Documents/BU/Working/Eraser/Control Group/Marble6/20180421_1_openfield: nbadpts = 63 max_in_a_row = 38\n",
      "/Users/nkinsky/Documents/BU/Working/Eraser/Control Group/Marble6/20180421_1_openfield: nbadpts = 63 max_in_a_row = 38\n",
      "No position data found for Marble06 Open day 7, loading neural data only\n"
     ]
    },
    {
     "name": "stderr",
     "output_type": "stream",
     "text": [
      "Marble06: 5it [00:35,  4.38s/it]"
     ]
    },
    {
     "name": "stdout",
     "output_type": "stream",
     "text": [
      "/Users/nkinsky/Documents/BU/Working/Eraser/Control Group/Marble6/20180421_1_openfield: nbadpts = 63 max_in_a_row = 38\n",
      "/Users/nkinsky/Documents/BU/Working/Eraser/Control Group/Marble6/20180421_1_openfield: nbadpts = 63 max_in_a_row = 38\n",
      "/Users/nkinsky/Documents/BU/Working/Eraser/Control Group/Marble6/20180421_1_openfield: nbadpts = 63 max_in_a_row = 38\n",
      "/Users/nkinsky/Documents/BU/Working/Eraser/Control Group/Marble6/20180421_1_openfield: nbadpts = 63 max_in_a_row = 38\n",
      "/Users/nkinsky/Documents/BU/Working/Eraser/Control Group/Marble6/20180421_1_openfield: nbadpts = 63 max_in_a_row = 38\n"
     ]
    },
    {
     "name": "stderr",
     "output_type": "stream",
     "text": [
      "Marble06: 6it [00:37,  6.21s/it]\n",
      "Marble11: 0it [00:00, ?it/s]"
     ]
    },
    {
     "name": "stdout",
     "output_type": "stream",
     "text": [
      "No tunings found for Marble11 Open day -2: run .get_tuning_sig() and .save_sig_tuning()\n",
      "No tunings found for Marble11 Open day -2: run .get_tuning_sig() and .save_sig_tuning()\n",
      "calculating significant tuning for buffer_sec=(4, 4) and nperm=1000\n",
      "generating permuted rasters - may take up to 1 minute\n"
     ]
    },
    {
     "name": "stderr",
     "output_type": "stream",
     "text": [
      "Marble11: 4it [00:47,  7.17s/it]"
     ]
    },
    {
     "name": "stdout",
     "output_type": "stream",
     "text": [
      "No tunings found for Marble11 Open day 7: run .get_tuning_sig() and .save_sig_tuning()\n"
     ]
    },
    {
     "name": "stderr",
     "output_type": "stream",
     "text": [
      "Marble11: 6it [00:50,  8.44s/it]\n",
      "Marble29: 0it [00:00, ?it/s]"
     ]
    },
    {
     "name": "stdout",
     "output_type": "stream",
     "text": [
      "No tunings found for Marble29 Open day -2: run .get_tuning_sig() and .save_sig_tuning()\n",
      "No tunings found for Marble29 Open day -2: run .get_tuning_sig() and .save_sig_tuning()\n",
      "calculating significant tuning for buffer_sec=(4, 4) and nperm=1000\n",
      "generating permuted rasters - may take up to 1 minute\n"
     ]
    },
    {
     "name": "stderr",
     "output_type": "stream",
     "text": [
      "Marble29: 4it [00:43,  6.71s/it]"
     ]
    },
    {
     "name": "stdout",
     "output_type": "stream",
     "text": [
      "No tunings found for Marble29 Open day 7: run .get_tuning_sig() and .save_sig_tuning()\n"
     ]
    },
    {
     "name": "stderr",
     "output_type": "stream",
     "text": [
      "Marble29: 6it [00:46,  7.71s/it]\n",
      "Marble17: 0it [00:00, ?it/s]"
     ]
    },
    {
     "name": "stdout",
     "output_type": "stream",
     "text": [
      "No tunings found for Marble17 Open day -2: run .get_tuning_sig() and .save_sig_tuning()\n",
      "No tunings found for Marble17 Open day -2: run .get_tuning_sig() and .save_sig_tuning()\n",
      "calculating significant tuning for buffer_sec=(4, 4) and nperm=1000\n",
      "generating permuted rasters - may take up to 1 minute\n"
     ]
    },
    {
     "name": "stderr",
     "output_type": "stream",
     "text": [
      "Marble17: 4it [00:53,  8.04s/it]"
     ]
    },
    {
     "name": "stdout",
     "output_type": "stream",
     "text": [
      "No tunings found for Marble17 Open day 7: run .get_tuning_sig() and .save_sig_tuning()\n"
     ]
    },
    {
     "name": "stderr",
     "output_type": "stream",
     "text": [
      "Marble17: 6it [00:57,  9.52s/it]\n",
      "Marble18: 0it [00:00, ?it/s]"
     ]
    },
    {
     "name": "stdout",
     "output_type": "stream",
     "text": [
      "No tunings found for Marble18 Open day -2: run .get_tuning_sig() and .save_sig_tuning()\n",
      "No tunings found for Marble18 Open day -2: run .get_tuning_sig() and .save_sig_tuning()\n",
      "calculating significant tuning for buffer_sec=(4, 4) and nperm=1000\n",
      "generating permuted rasters - may take up to 1 minute\n"
     ]
    },
    {
     "name": "stderr",
     "output_type": "stream",
     "text": [
      "Marble18: 4it [00:12,  2.34s/it]"
     ]
    },
    {
     "name": "stdout",
     "output_type": "stream",
     "text": [
      "No tunings found for Marble18 Open day 7: run .get_tuning_sig() and .save_sig_tuning()\n"
     ]
    },
    {
     "name": "stderr",
     "output_type": "stream",
     "text": [
      "Marble18: 6it [00:15,  2.51s/it]\n",
      "Marble19: 0it [00:00, ?it/s]"
     ]
    },
    {
     "name": "stdout",
     "output_type": "stream",
     "text": [
      "No tunings found for Marble19 Open day -2: run .get_tuning_sig() and .save_sig_tuning()\n",
      "No tunings found for Marble19 Open day -2: run .get_tuning_sig() and .save_sig_tuning()\n",
      "calculating significant tuning for buffer_sec=(4, 4) and nperm=1000\n",
      "generating permuted rasters - may take up to 1 minute\n"
     ]
    },
    {
     "name": "stderr",
     "output_type": "stream",
     "text": [
      "Marble19: 4it [00:38,  5.96s/it]"
     ]
    },
    {
     "name": "stdout",
     "output_type": "stream",
     "text": [
      "No tunings found for Marble19 Open day 7: run .get_tuning_sig() and .save_sig_tuning()\n"
     ]
    },
    {
     "name": "stderr",
     "output_type": "stream",
     "text": [
      "Marble19: 6it [00:41,  6.98s/it]\n",
      "Marble20: 0it [00:00, ?it/s]"
     ]
    },
    {
     "name": "stdout",
     "output_type": "stream",
     "text": [
      "No tunings found for Marble20 Open day -2: run .get_tuning_sig() and .save_sig_tuning()\n",
      "No tunings found for Marble20 Open day -2: run .get_tuning_sig() and .save_sig_tuning()\n",
      "calculating significant tuning for buffer_sec=(4, 4) and nperm=1000\n",
      "generating permuted rasters - may take up to 1 minute\n"
     ]
    },
    {
     "name": "stderr",
     "output_type": "stream",
     "text": [
      "Marble20: 4it [00:15,  2.75s/it]"
     ]
    },
    {
     "name": "stdout",
     "output_type": "stream",
     "text": [
      "No tunings found for Marble20 Open day 7: run .get_tuning_sig() and .save_sig_tuning()\n"
     ]
    },
    {
     "name": "stderr",
     "output_type": "stream",
     "text": [
      "Marble20: 6it [00:18,  3.07s/it]\n",
      "Marble25: 0it [00:00, ?it/s]"
     ]
    },
    {
     "name": "stdout",
     "output_type": "stream",
     "text": [
      "/Users/nkinsky/Documents/BU/Working/Eraser/Anisomycin Group/Marble25/20181203_1_openfield: nbadpts = 9 max_in_a_row = 6\n",
      "/Users/nkinsky/Documents/BU/Working/Eraser/Anisomycin Group/Marble25/20181203_1_openfield: nbadpts = 9 max_in_a_row = 6\n",
      "/Users/nkinsky/Documents/BU/Working/Eraser/Anisomycin Group/Marble25/20181203_1_openfield: nbadpts = 9 max_in_a_row = 6\n",
      "No tunings found for Marble25 Open day -2: run .get_tuning_sig() and .save_sig_tuning()\n",
      "/Users/nkinsky/Documents/BU/Working/Eraser/Anisomycin Group/Marble25/20181203_1_openfield: nbadpts = 9 max_in_a_row = 6\n",
      "/Users/nkinsky/Documents/BU/Working/Eraser/Anisomycin Group/Marble25/20181203_1_openfield: nbadpts = 9 max_in_a_row = 6\n",
      "No tunings found for Marble25 Open day -2: run .get_tuning_sig() and .save_sig_tuning()\n",
      "calculating significant tuning for buffer_sec=(4, 4) and nperm=1000\n",
      "generating permuted rasters - may take up to 1 minute\n"
     ]
    },
    {
     "name": "stderr",
     "output_type": "stream",
     "text": [
      "Marble25: 4it [00:51,  7.68s/it]"
     ]
    },
    {
     "name": "stdout",
     "output_type": "stream",
     "text": [
      "No tunings found for Marble25 Open day 7: run .get_tuning_sig() and .save_sig_tuning()\n"
     ]
    },
    {
     "name": "stderr",
     "output_type": "stream",
     "text": [
      "Marble25: 6it [00:54,  9.10s/it]\n"
     ]
    }
   ],
   "source": [
    "freeze_silent_open_peri_frz_only = cova.group_cov_across_days(bin_size=bin_size, arena1='Open', arena2='Open',\n",
    "                                                         neurons='freeze_onset', keep_silent=True, \n",
    "                                                         buffer_sec=buffer_sec_plot, keep_events='freeze_onset', \n",
    "                                                         keep_buffer=buffer_sec_plot)\n",
    "\n",
    "neutral_frz_df_mean, neutral_frz_df_all = cova.cov_dict_to_df(freeze_silent_open_peri_frz_only, baseline_dict_use=all_cov_open, \n",
    "                                                              include_silent=True, group_ctrls=False, return_all_cov=True)"
   ]
  },
  {
   "cell_type": "code",
   "execution_count": 26,
   "id": "aa79cf1b-2f71-4fa0-b4c2-9d888c478b5d",
   "metadata": {},
   "outputs": [
    {
     "data": {
      "text/html": [
       "<div>\n",
       "<style scoped>\n",
       "    .dataframe tbody tr th:only-of-type {\n",
       "        vertical-align: middle;\n",
       "    }\n",
       "\n",
       "    .dataframe tbody tr th {\n",
       "        vertical-align: top;\n",
       "    }\n",
       "\n",
       "    .dataframe thead th {\n",
       "        text-align: right;\n",
       "    }\n",
       "</style>\n",
       "<table border=\"1\" class=\"dataframe\">\n",
       "  <thead>\n",
       "    <tr style=\"text-align: right;\">\n",
       "      <th></th>\n",
       "      <th>d1_d2</th>\n",
       "      <th>Group</th>\n",
       "      <th>cov_z_mean</th>\n",
       "    </tr>\n",
       "  </thead>\n",
       "  <tbody>\n",
       "    <tr>\n",
       "      <th>0</th>\n",
       "      <td>-2_-1</td>\n",
       "      <td>Learners</td>\n",
       "      <td>0.107788</td>\n",
       "    </tr>\n",
       "    <tr>\n",
       "      <th>1</th>\n",
       "      <td>-1_4</td>\n",
       "      <td>Learners</td>\n",
       "      <td>0.130182</td>\n",
       "    </tr>\n",
       "    <tr>\n",
       "      <th>2</th>\n",
       "      <td>4_1</td>\n",
       "      <td>Learners</td>\n",
       "      <td>0.038578</td>\n",
       "    </tr>\n",
       "    <tr>\n",
       "      <th>3</th>\n",
       "      <td>1_2</td>\n",
       "      <td>Learners</td>\n",
       "      <td>0.389739</td>\n",
       "    </tr>\n",
       "    <tr>\n",
       "      <th>4</th>\n",
       "      <td>2_7</td>\n",
       "      <td>Learners</td>\n",
       "      <td>0.168739</td>\n",
       "    </tr>\n",
       "    <tr>\n",
       "      <th>...</th>\n",
       "      <td>...</td>\n",
       "      <td>...</td>\n",
       "      <td>...</td>\n",
       "    </tr>\n",
       "    <tr>\n",
       "      <th>67</th>\n",
       "      <td>-1_4</td>\n",
       "      <td>ANI</td>\n",
       "      <td>0.101488</td>\n",
       "    </tr>\n",
       "    <tr>\n",
       "      <th>68</th>\n",
       "      <td>4_1</td>\n",
       "      <td>ANI</td>\n",
       "      <td>1.660931</td>\n",
       "    </tr>\n",
       "    <tr>\n",
       "      <th>69</th>\n",
       "      <td>1_2</td>\n",
       "      <td>ANI</td>\n",
       "      <td>0.412801</td>\n",
       "    </tr>\n",
       "    <tr>\n",
       "      <th>70</th>\n",
       "      <td>2_7</td>\n",
       "      <td>ANI</td>\n",
       "      <td>0.381908</td>\n",
       "    </tr>\n",
       "    <tr>\n",
       "      <th>71</th>\n",
       "      <td>4_2</td>\n",
       "      <td>ANI</td>\n",
       "      <td>1.660931</td>\n",
       "    </tr>\n",
       "  </tbody>\n",
       "</table>\n",
       "<p>72 rows × 3 columns</p>\n",
       "</div>"
      ],
      "text/plain": [
       "    d1_d2     Group  cov_z_mean\n",
       "0   -2_-1  Learners    0.107788\n",
       "1    -1_4  Learners    0.130182\n",
       "2     4_1  Learners    0.038578\n",
       "3     1_2  Learners    0.389739\n",
       "4     2_7  Learners    0.168739\n",
       "..    ...       ...         ...\n",
       "67   -1_4       ANI    0.101488\n",
       "68    4_1       ANI    1.660931\n",
       "69    1_2       ANI    0.412801\n",
       "70    2_7       ANI    0.381908\n",
       "71    4_2       ANI    1.660931\n",
       "\n",
       "[72 rows x 3 columns]"
      ]
     },
     "execution_count": 26,
     "metadata": {},
     "output_type": "execute_result"
    }
   ],
   "source": [
    "neutral_frz_df_mean"
   ]
  },
  {
   "cell_type": "code",
   "execution_count": 35,
   "id": "c4304a88-d520-4a72-87e3-ecd8c9f2a6c1",
   "metadata": {},
   "outputs": [
    {
     "data": {
      "text/plain": [
       "<Axes: xlabel='Designation', ylabel='cov_z_mean'>"
      ]
     },
     "execution_count": 35,
     "metadata": {},
     "output_type": "execute_result"
    },
    {
     "data": {
      "image/png": "[encoded data removed]",
      "text/plain": [
       "<Figure size 640x480 with 1 Axes>"
      ]
     },
     "metadata": {},
     "output_type": "display_data"
    }
   ],
   "source": [
    "_, ax = plt.subplots()\n",
    "df_use = add_memory_designations(neutral_frz_df_mean)\n",
    "df_use[\"Designation\"] = pd.Categorical(df_use[\"Designation\"], [\"Before\", \"4hr\", \"After\"])\n",
    "sns.stripplot(data=df_use, x=\"Designation\", y=\"cov_z_mean\", hue=\"Group\", dodge=True, ax=ax)"
   ]
  },
  {
   "cell_type": "code",
   "execution_count": 34,
   "id": "aa1f2d4a-f296-4e90-8403-9270b405419f",
   "metadata": {},
   "outputs": [
    {
     "data": {
      "text/html": [
       "<div>\n",
       "<style scoped>\n",
       "    .dataframe tbody tr th:only-of-type {\n",
       "        vertical-align: middle;\n",
       "    }\n",
       "\n",
       "    .dataframe tbody tr th {\n",
       "        vertical-align: top;\n",
       "    }\n",
       "\n",
       "    .dataframe thead th {\n",
       "        text-align: right;\n",
       "    }\n",
       "</style>\n",
       "<table border=\"1\" class=\"dataframe\">\n",
       "  <thead>\n",
       "    <tr style=\"text-align: right;\">\n",
       "      <th></th>\n",
       "      <th>d1_d2</th>\n",
       "      <th>Group</th>\n",
       "      <th>cov_z_mean</th>\n",
       "      <th>Designation</th>\n",
       "    </tr>\n",
       "  </thead>\n",
       "  <tbody>\n",
       "    <tr>\n",
       "      <th>0</th>\n",
       "      <td>-2_-1</td>\n",
       "      <td>Learners</td>\n",
       "      <td>0.107788</td>\n",
       "      <td>Before</td>\n",
       "    </tr>\n",
       "    <tr>\n",
       "      <th>1</th>\n",
       "      <td>-1_4</td>\n",
       "      <td>Learners</td>\n",
       "      <td>0.130182</td>\n",
       "      <td>Before</td>\n",
       "    </tr>\n",
       "    <tr>\n",
       "      <th>2</th>\n",
       "      <td>4_1</td>\n",
       "      <td>Learners</td>\n",
       "      <td>0.038578</td>\n",
       "      <td>4hr</td>\n",
       "    </tr>\n",
       "    <tr>\n",
       "      <th>3</th>\n",
       "      <td>1_2</td>\n",
       "      <td>Learners</td>\n",
       "      <td>0.389739</td>\n",
       "      <td>After</td>\n",
       "    </tr>\n",
       "    <tr>\n",
       "      <th>4</th>\n",
       "      <td>2_7</td>\n",
       "      <td>Learners</td>\n",
       "      <td>0.168739</td>\n",
       "      <td>After</td>\n",
       "    </tr>\n",
       "    <tr>\n",
       "      <th>...</th>\n",
       "      <td>...</td>\n",
       "      <td>...</td>\n",
       "      <td>...</td>\n",
       "      <td>...</td>\n",
       "    </tr>\n",
       "    <tr>\n",
       "      <th>67</th>\n",
       "      <td>-1_4</td>\n",
       "      <td>ANI</td>\n",
       "      <td>0.101488</td>\n",
       "      <td>Before</td>\n",
       "    </tr>\n",
       "    <tr>\n",
       "      <th>68</th>\n",
       "      <td>4_1</td>\n",
       "      <td>ANI</td>\n",
       "      <td>1.660931</td>\n",
       "      <td>4hr</td>\n",
       "    </tr>\n",
       "    <tr>\n",
       "      <th>69</th>\n",
       "      <td>1_2</td>\n",
       "      <td>ANI</td>\n",
       "      <td>0.412801</td>\n",
       "      <td>After</td>\n",
       "    </tr>\n",
       "    <tr>\n",
       "      <th>70</th>\n",
       "      <td>2_7</td>\n",
       "      <td>ANI</td>\n",
       "      <td>0.381908</td>\n",
       "      <td>After</td>\n",
       "    </tr>\n",
       "    <tr>\n",
       "      <th>71</th>\n",
       "      <td>4_2</td>\n",
       "      <td>ANI</td>\n",
       "      <td>1.660931</td>\n",
       "      <td></td>\n",
       "    </tr>\n",
       "  </tbody>\n",
       "</table>\n",
       "<p>72 rows × 4 columns</p>\n",
       "</div>"
      ],
      "text/plain": [
       "    d1_d2     Group  cov_z_mean Designation\n",
       "0   -2_-1  Learners    0.107788      Before\n",
       "1    -1_4  Learners    0.130182      Before\n",
       "2     4_1  Learners    0.038578         4hr\n",
       "3     1_2  Learners    0.389739       After\n",
       "4     2_7  Learners    0.168739       After\n",
       "..    ...       ...         ...         ...\n",
       "67   -1_4       ANI    0.101488      Before\n",
       "68    4_1       ANI    1.660931         4hr\n",
       "69    1_2       ANI    0.412801       After\n",
       "70    2_7       ANI    0.381908       After\n",
       "71    4_2       ANI    1.660931            \n",
       "\n",
       "[72 rows x 4 columns]"
      ]
     },
     "execution_count": 34,
     "metadata": {},
     "output_type": "execute_result"
    }
   ],
   "source": [
    "df_use = add_memory_designations(neutral_frz_df_mean)\n",
    "# df_use[\"Group\"] = pd.Categorical(df_use[\"Group\"], [\"Before\", \"4hr\", \"After\"])\n",
    "df_use"
   ]
  },
  {
   "cell_type": "markdown",
   "id": "bf93632f-3c10-4e0f-8080-899a7bb67976",
   "metadata": {},
   "source": [
    "### Bootstrap"
   ]
  },
  {
   "cell_type": "markdown",
   "id": "c4cf5d60-06e9-46ff-8120-000562f5cd46",
   "metadata": {},
   "source": [
    "#### Define function(s) for bootstrapping"
   ]
  },
  {
   "cell_type": "code",
   "execution_count": 12,
   "id": "877d63cf-beac-42d2-96be-0288488e38fb",
   "metadata": {},
   "outputs": [],
   "source": [
    "def bootstrap_covariance(df, niter=10000, n_jobs=7, apply=lambda df2: df2.groupby(\"Group\").mean(numeric_only=True).reset_index()):\n",
    "    \"\"\"Bootstrap each group during Before (Days -2 and -1), 4hr, and After (Days 1 and 2) epochs.  Only choose one day from each animal\n",
    "    for the before and after epochs.\"\"\"\n",
    "\n",
    "    df_list = []\n",
    "    for group_name in df.Group.unique():\n",
    "        print(f\"Bootstrapping for {group_name} group\")\n",
    "        for epoch in [\"Before\", \"4hr\", \"After\"]:\n",
    "            if epoch == \"Before\":\n",
    "                df_use = df[(df.Group == group_name) & ((df.d1_d2 == \"-2_-1\") | (df.d1_d2 == \"-1_4\"))]\n",
    "            elif epoch == \"4hr\":\n",
    "                df_use = df[(df.Group == group_name) & (df.d1_d2 == \"4_1\")]\n",
    "            elif epoch == \"After\":\n",
    "                df_use = df[(df.Group == group_name) & ((df.d1_d2 == \"1_2\") | (df.d1_d2 == \"2_7\"))]\n",
    "            \n",
    "            df_boot_temp = bootstrap_resample(df_use, niter, n_jobs=n_jobs, level=[\"Mouse\", \"d1_d2\", \"covz\"], \n",
    "                                              n_level=[None, 1, None], apply=apply)\n",
    "            df_boot_temp[\"Epoch\"] = epoch\n",
    "            \n",
    "            df_list.append(df_boot_temp)\n",
    "    \n",
    "    df_boot_out = pd.concat(df_list, axis=0).reset_index()\n",
    "\n",
    "    return df_boot_out"
   ]
  },
  {
   "cell_type": "markdown",
   "id": "f9eb2ba9-4c3b-4ffb-95bc-87cdd5e3d023",
   "metadata": {},
   "source": [
    "#### For all cells without freeze start times included"
   ]
  },
  {
   "cell_type": "code",
   "execution_count": 5,
   "id": "9fa6ef42-1541-4009-b4c1-d0614d7e41c0",
   "metadata": {},
   "outputs": [
    {
     "name": "stdout",
     "output_type": "stream",
     "text": [
      "Bootstrapping for Learners group\n"
     ]
    },
    {
     "name": "stderr",
     "output_type": "stream",
     "text": [
      "100%|█████████████████████████████████████| 10000/10000 [08:14<00:00, 20.23it/s]\n",
      "100%|█████████████████████████████████████| 10000/10000 [02:14<00:00, 74.39it/s]\n",
      "100%|█████████████████████████████████████| 10000/10000 [05:57<00:00, 27.95it/s]\n"
     ]
    },
    {
     "name": "stdout",
     "output_type": "stream",
     "text": [
      "Bootstrapping for Non-learners group\n"
     ]
    },
    {
     "name": "stderr",
     "output_type": "stream",
     "text": [
      "100%|█████████████████████████████████████| 10000/10000 [23:05<00:00,  7.22it/s]\n",
      "100%|█████████████████████████████████████| 10000/10000 [09:00<00:00, 18.51it/s]\n",
      "100%|█████████████████████████████████████| 10000/10000 [17:51<00:00,  9.33it/s]\n"
     ]
    },
    {
     "name": "stdout",
     "output_type": "stream",
     "text": [
      "Bootstrapping for ANI group\n"
     ]
    },
    {
     "name": "stderr",
     "output_type": "stream",
     "text": [
      "100%|█████████████████████████████████████| 10000/10000 [22:09<00:00,  7.52it/s]\n",
      "100%|█████████████████████████████████████| 10000/10000 [04:14<00:00, 39.27it/s]\n",
      "100%|█████████████████████████████████████| 10000/10000 [13:35<00:00, 12.27it/s]\n"
     ]
    },
    {
     "name": "stdout",
     "output_type": "stream",
     "text": [
      "sigz_all_wo_frz_times_boot.csv saved\n"
     ]
    },
    {
     "data": {
      "text/plain": [
       "Text(0.5, 1.0, 'Re-load Check')"
      ]
     },
     "execution_count": 5,
     "metadata": {},
     "output_type": "execute_result"
    },
    {
     "data": {
      "image/png": "[encoded data removed]",
      "text/plain": [
       "<Figure size 900x400 with 2 Axes>"
      ]
     },
     "metadata": {},
     "output_type": "display_data"
    }
   ],
   "source": [
    "sigz_all_wo_frz_times_df_all = load_df(\"cov_sigz_wo_frz_times_df\", save_dir=group_data_dir)\n",
    "df_boot = bootstrap_covariance(sigz_all_wo_frz_times_df_all, niter=10000, n_jobs=12)\n",
    "\n",
    "# Plot, save, and re-plot to check if saved properly\n",
    "_, ax = plt.subplots(1, 2, figsize=(9, 4))\n",
    "sns.boxplot(data=df_boot, x=\"Epoch\", y=\"covz\", hue=\"Group\", ax=ax[0])\n",
    "ax[0].set_title(\"Original Run\")\n",
    "\n",
    "# Save\n",
    "save_df(df_boot, \"cov_sigz_all_wo_frz_times_boot\", save_dir=group_data_dir)\n",
    "\n",
    "# Replot\n",
    "df_check = load_df(\"cov_sigz_all_wo_frz_times_boot\", save_dir=group_data_dir)\n",
    "sns.boxplot(data=df_check, x=\"Epoch\", y=\"covz\", hue=\"Group\", ax=ax[1])\n",
    "ax[0].set_title(\"Re-load Check\")"
   ]
  },
  {
   "cell_type": "markdown",
   "id": "c7a9f3f6-e0e1-4947-819f-82aa10e80751",
   "metadata": {},
   "source": [
    "#### For all cells with all times included"
   ]
  },
  {
   "cell_type": "code",
   "execution_count": 14,
   "id": "c794e5f5-e9cc-413f-9a5c-1dda8302520d",
   "metadata": {},
   "outputs": [
    {
     "name": "stdout",
     "output_type": "stream",
     "text": [
      "Bootstrapping for Learners group\n"
     ]
    },
    {
     "name": "stderr",
     "output_type": "stream",
     "text": [
      "100%|█████████████████████████████████████| 10000/10000 [08:11<00:00, 20.33it/s]\n",
      "100%|█████████████████████████████████████| 10000/10000 [02:11<00:00, 76.33it/s]\n",
      "100%|█████████████████████████████████████| 10000/10000 [05:52<00:00, 28.38it/s]\n"
     ]
    },
    {
     "name": "stdout",
     "output_type": "stream",
     "text": [
      "Bootstrapping for Non-learners group\n"
     ]
    },
    {
     "name": "stderr",
     "output_type": "stream",
     "text": [
      "100%|█████████████████████████████████████| 10000/10000 [22:32<00:00,  7.40it/s]\n",
      "100%|█████████████████████████████████████| 10000/10000 [08:56<00:00, 18.62it/s]\n",
      "100%|█████████████████████████████████████| 10000/10000 [17:49<00:00,  9.35it/s]\n"
     ]
    },
    {
     "name": "stdout",
     "output_type": "stream",
     "text": [
      "Bootstrapping for ANI group\n"
     ]
    },
    {
     "name": "stderr",
     "output_type": "stream",
     "text": [
      "100%|█████████████████████████████████████| 10000/10000 [22:05<00:00,  7.54it/s]\n",
      "100%|█████████████████████████████████████| 10000/10000 [04:11<00:00, 39.77it/s]\n",
      "100%|█████████████████████████████████████| 10000/10000 [13:24<00:00, 12.44it/s]\n"
     ]
    },
    {
     "name": "stdout",
     "output_type": "stream",
     "text": [
      "cov_sigz_boot_df_boot.csv saved\n"
     ]
    },
    {
     "data": {
      "text/plain": [
       "Text(0.5, 1.0, 'Re-load Check')"
      ]
     },
     "execution_count": 14,
     "metadata": {},
     "output_type": "execute_result"
    },
    {
     "data": {
      "image/png": "[encoded data removed]",
      "text/plain": [
       "<Figure size 900x400 with 2 Axes>"
      ]
     },
     "metadata": {},
     "output_type": "display_data"
    }
   ],
   "source": [
    "niter = 10000\n",
    "n_jobs = 12\n",
    "file_name = \"cov_sigz_df_all\"\n",
    "df_use = load_df(file_name, save_dir=group_data_dir)\n",
    "df_boot = bootstrap_covariance(df_use, niter=niter, n_jobs=n_jobs)\n",
    "\n",
    "# Plot, save, and re-plot to check if saved properly\n",
    "_, ax = plt.subplots(1, 2, figsize=(9, 4))\n",
    "sns.boxplot(data=df_boot, x=\"Epoch\", y=\"covz\", hue=\"Group\", ax=ax[0])\n",
    "ax[0].set_title(\"Original Run\")\n",
    "\n",
    "# Save\n",
    "save_df(df_boot, file_name.replace(\"all\", \"boot\"), save_dir=group_data_dir)\n",
    "\n",
    "# Replot\n",
    "df_check = load_df(file_name.replace(\"all\", \"boot\"), save_dir=group_data_dir)\n",
    "sns.boxplot(data=df_check, x=\"Epoch\", y=\"covz\", hue=\"Group\", ax=ax[1])\n",
    "ax[0].set_title(\"Re-load Check\")"
   ]
  },
  {
   "cell_type": "markdown",
   "id": "66ead38f-ce91-4611-90df-2d9e822cc3d0",
   "metadata": {},
   "source": [
    "#### For Freeze cells with all times included"
   ]
  },
  {
   "cell_type": "code",
   "execution_count": 15,
   "id": "55c52cfe-9ea9-47a6-bcaa-bb4d0afb0c06",
   "metadata": {},
   "outputs": [
    {
     "name": "stdout",
     "output_type": "stream",
     "text": [
      "Bootstrapping for Learners group\n"
     ]
    },
    {
     "name": "stderr",
     "output_type": "stream",
     "text": [
      "100%|████████████████████████████████████| 10000/10000 [00:12<00:00, 809.53it/s]\n",
      "100%|███████████████████████████████████| 10000/10000 [00:08<00:00, 1115.03it/s]\n",
      "100%|███████████████████████████████████| 10000/10000 [00:09<00:00, 1047.22it/s]\n"
     ]
    },
    {
     "name": "stdout",
     "output_type": "stream",
     "text": [
      "Bootstrapping for Non-learners group\n"
     ]
    },
    {
     "name": "stderr",
     "output_type": "stream",
     "text": [
      "100%|████████████████████████████████████| 10000/10000 [00:17<00:00, 557.96it/s]\n",
      "100%|███████████████████████████████████| 10000/10000 [00:07<00:00, 1412.48it/s]\n",
      "100%|████████████████████████████████████| 10000/10000 [00:12<00:00, 801.68it/s]\n"
     ]
    },
    {
     "name": "stdout",
     "output_type": "stream",
     "text": [
      "Bootstrapping for ANI group\n"
     ]
    },
    {
     "name": "stderr",
     "output_type": "stream",
     "text": [
      "100%|████████████████████████████████████| 10000/10000 [00:22<00:00, 442.78it/s]\n",
      "100%|████████████████████████████████████| 10000/10000 [00:10<00:00, 972.20it/s]\n",
      "100%|████████████████████████████████████| 10000/10000 [00:15<00:00, 656.58it/s]\n"
     ]
    },
    {
     "name": "stdout",
     "output_type": "stream",
     "text": [
      "cov_sigz_freeze_df_boot.csv saved\n"
     ]
    },
    {
     "data": {
      "text/plain": [
       "Text(0.5, 1.0, 'Re-load Check')"
      ]
     },
     "execution_count": 15,
     "metadata": {},
     "output_type": "execute_result"
    },
    {
     "data": {
      "image/png": "[encoded data removed]",
      "text/plain": [
       "<Figure size 900x400 with 2 Axes>"
      ]
     },
     "metadata": {},
     "output_type": "display_data"
    }
   ],
   "source": [
    "niter = 10000\n",
    "n_jobs = 12\n",
    "file_name = \"cov_sigz_freeze_df_all\"\n",
    "df_use = load_df(file_name, save_dir=group_data_dir)\n",
    "df_boot = bootstrap_covariance(df_use, niter=niter, n_jobs=n_jobs)\n",
    "\n",
    "# Plot, save, and re-plot to check if saved properly\n",
    "_, ax = plt.subplots(1, 2, figsize=(9, 4))\n",
    "sns.boxplot(data=df_boot, x=\"Epoch\", y=\"covz\", hue=\"Group\", ax=ax[0])\n",
    "ax[0].set_title(\"Original Run\")\n",
    "\n",
    "# Save\n",
    "save_df(df_boot, file_name.replace(\"all\", \"boot\"), save_dir=group_data_dir)\n",
    "\n",
    "# Replot\n",
    "df_check = load_df(file_name.replace(\"all\", \"boot\"), save_dir=group_data_dir)\n",
    "sns.boxplot(data=df_check, x=\"Epoch\", y=\"covz\", hue=\"Group\", ax=ax[1])\n",
    "ax[0].set_title(\"Re-load Check\")"
   ]
  },
  {
   "cell_type": "markdown",
   "id": "7d14c2ce-39e5-41ea-90e6-00638d478300",
   "metadata": {},
   "source": [
    "#### For Freeze cells with all times included"
   ]
  },
  {
   "cell_type": "code",
   "execution_count": 16,
   "id": "7157c502-e75b-4629-ad0a-a9503e494d49",
   "metadata": {},
   "outputs": [
    {
     "name": "stdout",
     "output_type": "stream",
     "text": [
      "Bootstrapping for Learners group\n"
     ]
    },
    {
     "name": "stderr",
     "output_type": "stream",
     "text": [
      "100%|████████████████████████████████████| 10000/10000 [00:12<00:00, 804.69it/s]\n",
      "100%|███████████████████████████████████| 10000/10000 [00:09<00:00, 1071.23it/s]\n",
      "100%|███████████████████████████████████| 10000/10000 [00:09<00:00, 1036.91it/s]\n"
     ]
    },
    {
     "name": "stdout",
     "output_type": "stream",
     "text": [
      "Bootstrapping for Non-learners group\n"
     ]
    },
    {
     "name": "stderr",
     "output_type": "stream",
     "text": [
      "100%|████████████████████████████████████| 10000/10000 [00:17<00:00, 559.96it/s]\n",
      "100%|███████████████████████████████████| 10000/10000 [00:06<00:00, 1444.04it/s]\n",
      "100%|████████████████████████████████████| 10000/10000 [00:12<00:00, 827.75it/s]\n"
     ]
    },
    {
     "name": "stdout",
     "output_type": "stream",
     "text": [
      "Bootstrapping for ANI group\n"
     ]
    },
    {
     "name": "stderr",
     "output_type": "stream",
     "text": [
      "100%|████████████████████████████████████| 10000/10000 [00:22<00:00, 438.01it/s]\n",
      "100%|████████████████████████████████████| 10000/10000 [00:10<00:00, 995.04it/s]\n",
      "100%|████████████████████████████████████| 10000/10000 [00:15<00:00, 640.37it/s]\n"
     ]
    },
    {
     "name": "stdout",
     "output_type": "stream",
     "text": [
      "cov_sigz_wo_frz_times_df_boot.csv saved\n"
     ]
    },
    {
     "data": {
      "text/plain": [
       "Text(0.5, 1.0, 'Re-load Check')"
      ]
     },
     "execution_count": 16,
     "metadata": {},
     "output_type": "execute_result"
    },
    {
     "data": {
      "image/png": "[encoded data removed]",
      "text/plain": [
       "<Figure size 900x400 with 2 Axes>"
      ]
     },
     "metadata": {},
     "output_type": "display_data"
    }
   ],
   "source": [
    "niter = 10000\n",
    "n_jobs = 12\n",
    "file_name = \"cov_sigz_freeze_wo_frz_times_df_all\"\n",
    "df_use = load_df(file_name, save_dir=group_data_dir)\n",
    "df_boot = bootstrap_covariance(df_use, niter=niter, n_jobs=n_jobs)\n",
    "\n",
    "# Plot, save, and re-plot to check if saved properly\n",
    "_, ax = plt.subplots(1, 2, figsize=(9, 4))\n",
    "sns.boxplot(data=df_boot, x=\"Epoch\", y=\"covz\", hue=\"Group\", ax=ax[0])\n",
    "ax[0].set_title(\"Original Run\")\n",
    "\n",
    "# Save\n",
    "save_df(df_boot, file_name.replace(\"all\", \"boot\"), save_dir=group_data_dir)\n",
    "\n",
    "# Replot\n",
    "df_check = load_df(file_name.replace(\"all\", \"boot\"), save_dir=group_data_dir)\n",
    "sns.boxplot(data=df_check, x=\"Epoch\", y=\"covz\", hue=\"Group\", ax=ax[1])\n",
    "ax[0].set_title(\"Re-load Check\")"
   ]
  },
  {
   "cell_type": "markdown",
   "id": "c672a116-5b70-43e5-ab39-5a3b92fc6bb2",
   "metadata": {},
   "source": [
    "#### For freeze cells only during peri-freeze times"
   ]
  },
  {
   "cell_type": "code",
   "execution_count": 5,
   "id": "08a8e003-91bd-4123-89da-8ba909a39431",
   "metadata": {},
   "outputs": [
    {
     "name": "stdout",
     "output_type": "stream",
     "text": [
      "Bootstrapping for Learners group\n"
     ]
    },
    {
     "name": "stderr",
     "output_type": "stream",
     "text": [
      "100%|█████████████████████████████████████████████████████████████████████████| 10000/10000 [00:12<00:00, 780.45it/s]\n",
      "100%|████████████████████████████████████████████████████████████████████████| 10000/10000 [00:08<00:00, 1133.37it/s]\n",
      "100%|████████████████████████████████████████████████████████████████████████| 10000/10000 [00:09<00:00, 1084.04it/s]\n"
     ]
    },
    {
     "name": "stdout",
     "output_type": "stream",
     "text": [
      "Bootstrapping for Non-learners group\n"
     ]
    },
    {
     "name": "stderr",
     "output_type": "stream",
     "text": [
      "100%|█████████████████████████████████████████████████████████████████████████| 10000/10000 [00:16<00:00, 596.34it/s]\n",
      "100%|████████████████████████████████████████████████████████████████████████| 10000/10000 [00:06<00:00, 1466.43it/s]\n",
      "100%|█████████████████████████████████████████████████████████████████████████| 10000/10000 [00:11<00:00, 841.29it/s]\n"
     ]
    },
    {
     "name": "stdout",
     "output_type": "stream",
     "text": [
      "Bootstrapping for ANI group\n"
     ]
    },
    {
     "name": "stderr",
     "output_type": "stream",
     "text": [
      "100%|█████████████████████████████████████████████████████████████████████████| 10000/10000 [00:22<00:00, 453.38it/s]\n",
      "100%|████████████████████████████████████████████████████████████████████████| 10000/10000 [00:09<00:00, 1000.90it/s]\n",
      "100%|█████████████████████████████████████████████████████████████████████████| 10000/10000 [00:14<00:00, 680.04it/s]\n"
     ]
    },
    {
     "name": "stdout",
     "output_type": "stream",
     "text": [
      "cov_sigz_freeze_df_peri_frz_only_boot.csv saved\n"
     ]
    },
    {
     "data": {
      "text/plain": [
       "Text(0.5, 1.0, 'Re-load Check')"
      ]
     },
     "execution_count": 5,
     "metadata": {},
     "output_type": "execute_result"
    },
    {
     "data": {
      "image/png": "[encoded data removed]",
      "text/plain": [
       "<Figure size 900x400 with 2 Axes>"
      ]
     },
     "metadata": {},
     "output_type": "display_data"
    }
   ],
   "source": [
    "niter = 10000\n",
    "n_jobs = 12\n",
    "file_name = \"cov_sigz_freeze_df_peri_frz_only_all\"\n",
    "df_use = load_df(file_name, save_dir=group_data_dir)\n",
    "df_boot = bootstrap_covariance(df_use, niter=niter, n_jobs=n_jobs)\n",
    "\n",
    "# Plot, save, and re-plot to check if saved properly\n",
    "_, ax = plt.subplots(1, 2, figsize=(9, 4))\n",
    "sns.boxplot(data=df_boot, x=\"Epoch\", y=\"covz\", hue=\"Group\", ax=ax[0])\n",
    "ax[0].set_title(\"Original Run\")\n",
    "\n",
    "# Save\n",
    "save_df(df_boot, file_name.replace(\"all\", \"boot\"), save_dir=group_data_dir)\n",
    "\n",
    "# Replot\n",
    "df_check = load_df(file_name.replace(\"all\", \"boot\"), save_dir=group_data_dir)\n",
    "sns.boxplot(data=df_check, x=\"Epoch\", y=\"covz\", hue=\"Group\", ax=ax[1])\n",
    "ax[0].set_title(\"Re-load Check\")"
   ]
  },
  {
   "cell_type": "markdown",
   "id": "8d475791-c82c-473a-bb3e-2f9dbddf4e11",
   "metadata": {},
   "source": [
    "#### For freeze cells at peri-freeze times only after matching event numbers between groups"
   ]
  },
  {
   "cell_type": "code",
   "execution_count": 6,
   "id": "ba4fd37d-3590-4140-be18-f009211b0d9a",
   "metadata": {},
   "outputs": [
    {
     "name": "stdout",
     "output_type": "stream",
     "text": [
      "Bootstrapping for Learners group\n"
     ]
    },
    {
     "name": "stderr",
     "output_type": "stream",
     "text": [
      "100%|█████████████████████████████████████████████████████████████████████████| 10000/10000 [00:11<00:00, 840.31it/s]\n",
      "100%|████████████████████████████████████████████████████████████████████████| 10000/10000 [00:09<00:00, 1105.62it/s]\n",
      "100%|████████████████████████████████████████████████████████████████████████| 10000/10000 [00:09<00:00, 1098.43it/s]\n"
     ]
    },
    {
     "name": "stdout",
     "output_type": "stream",
     "text": [
      "Bootstrapping for Non-learners group\n"
     ]
    },
    {
     "name": "stderr",
     "output_type": "stream",
     "text": [
      "100%|█████████████████████████████████████████████████████████████████████████| 10000/10000 [00:17<00:00, 575.53it/s]\n",
      "100%|████████████████████████████████████████████████████████████████████████| 10000/10000 [00:06<00:00, 1455.94it/s]\n",
      "100%|█████████████████████████████████████████████████████████████████████████| 10000/10000 [00:11<00:00, 845.14it/s]\n"
     ]
    },
    {
     "name": "stdout",
     "output_type": "stream",
     "text": [
      "Bootstrapping for ANI group\n"
     ]
    },
    {
     "name": "stderr",
     "output_type": "stream",
     "text": [
      "100%|█████████████████████████████████████████████████████████████████████████| 10000/10000 [00:22<00:00, 454.27it/s]\n",
      "100%|█████████████████████████████████████████████████████████████████████████| 10000/10000 [00:10<00:00, 998.32it/s]\n",
      "100%|█████████████████████████████████████████████████████████████████████████| 10000/10000 [00:14<00:00, 678.01it/s]\n"
     ]
    },
    {
     "name": "stdout",
     "output_type": "stream",
     "text": [
      "cov_sigz_freeze_df_peri_frz_only_ERmatch_boot.csv saved\n"
     ]
    },
    {
     "data": {
      "text/plain": [
       "Text(0.5, 1.0, 'Re-load Check')"
      ]
     },
     "execution_count": 6,
     "metadata": {},
     "output_type": "execute_result"
    },
    {
     "data": {
      "image/png": "[encoded data removed]",
      "text/plain": [
       "<Figure size 900x400 with 2 Axes>"
      ]
     },
     "metadata": {},
     "output_type": "display_data"
    }
   ],
   "source": [
    "niter = 10000\n",
    "n_jobs = 12\n",
    "file_name = \"cov_sigz_freeze_df_peri_frz_only_ERmatch_all\"\n",
    "df_use = load_df(file_name, save_dir=group_data_dir)\n",
    "df_boot = bootstrap_covariance(df_use, niter=niter, n_jobs=n_jobs)\n",
    "\n",
    "# Plot, save, and re-plot to check if saved properly\n",
    "_, ax = plt.subplots(1, 2, figsize=(9, 4))\n",
    "sns.boxplot(data=df_boot, x=\"Epoch\", y=\"covz\", hue=\"Group\", ax=ax[0])\n",
    "ax[0].set_title(\"Original Run\")\n",
    "\n",
    "# Save\n",
    "save_df(df_boot, file_name.replace(\"all\", \"boot\"), save_dir=group_data_dir)\n",
    "\n",
    "# Replot\n",
    "df_check = load_df(file_name.replace(\"all\", \"boot\"), save_dir=group_data_dir)\n",
    "sns.boxplot(data=df_check, x=\"Epoch\", y=\"covz\", hue=\"Group\", ax=ax[1])\n",
    "ax[0].set_title(\"Re-load Check\")"
   ]
  },
  {
   "cell_type": "markdown",
   "id": "1288a9e9-0c82-4d05-82a3-0876843ebe09",
   "metadata": {},
   "source": [
    "#### For all cells in neutral arena"
   ]
  },
  {
   "cell_type": "code",
   "execution_count": 13,
   "id": "69e2b2ca-aeec-4295-a099-a774be5dcf05",
   "metadata": {},
   "outputs": [
    {
     "name": "stdout",
     "output_type": "stream",
     "text": [
      "Bootstrapping for Learners group\n"
     ]
    },
    {
     "name": "stderr",
     "output_type": "stream",
     "text": [
      "  3%|█▎                                     | 328/10000 [00:34<15:39, 10.30it/s]/Users/nkinsky/mambaforge/envs/eraser/lib/python3.9/site-packages/joblib/externals/loky/process_executor.py:752: UserWarning: A worker stopped while some jobs were given to the executor. This can be caused by a too short worker timeout or by a memory leak.\n",
      "  warnings.warn(\n",
      "  5%|█▉                                     | 496/10000 [00:50<17:21,  9.13it/s]/Users/nkinsky/mambaforge/envs/eraser/lib/python3.9/site-packages/joblib/externals/loky/process_executor.py:752: UserWarning: A worker stopped while some jobs were given to the executor. This can be caused by a too short worker timeout or by a memory leak.\n",
      "  warnings.warn(\n",
      " 15%|█████▌                                | 1454/10000 [02:33<16:05,  8.85it/s]/Users/nkinsky/mambaforge/envs/eraser/lib/python3.9/site-packages/joblib/externals/loky/process_executor.py:752: UserWarning: A worker stopped while some jobs were given to the executor. This can be caused by a too short worker timeout or by a memory leak.\n",
      "  warnings.warn(\n",
      " 15%|█████▋                                | 1503/10000 [02:38<15:21,  9.23it/s]/Users/nkinsky/mambaforge/envs/eraser/lib/python3.9/site-packages/joblib/externals/loky/process_executor.py:752: UserWarning: A worker stopped while some jobs were given to the executor. This can be caused by a too short worker timeout or by a memory leak.\n",
      "  warnings.warn(\n",
      " 16%|██████▏                               | 1634/10000 [02:52<14:46,  9.44it/s]/Users/nkinsky/mambaforge/envs/eraser/lib/python3.9/site-packages/joblib/externals/loky/process_executor.py:752: UserWarning: A worker stopped while some jobs were given to the executor. This can be caused by a too short worker timeout or by a memory leak.\n",
      "  warnings.warn(\n",
      " 21%|███████▉                              | 2103/10000 [03:40<15:58,  8.23it/s]/Users/nkinsky/mambaforge/envs/eraser/lib/python3.9/site-packages/joblib/externals/loky/process_executor.py:752: UserWarning: A worker stopped while some jobs were given to the executor. This can be caused by a too short worker timeout or by a memory leak.\n",
      "  warnings.warn(\n",
      "100%|█████████████████████████████████████| 10000/10000 [20:44<00:00,  8.03it/s]\n",
      "100%|█████████████████████████████████████| 10000/10000 [08:39<00:00, 19.26it/s]\n",
      "100%|█████████████████████████████████████| 10000/10000 [15:22<00:00, 10.84it/s]\n"
     ]
    },
    {
     "name": "stdout",
     "output_type": "stream",
     "text": [
      "Bootstrapping for Non-learners group\n"
     ]
    },
    {
     "name": "stderr",
     "output_type": "stream",
     "text": [
      " 48%|██████████████████                    | 4753/10000 [28:32<20:54,  4.18it/s]/Users/nkinsky/mambaforge/envs/eraser/lib/python3.9/site-packages/joblib/externals/loky/process_executor.py:752: UserWarning: A worker stopped while some jobs were given to the executor. This can be caused by a too short worker timeout or by a memory leak.\n",
      "  warnings.warn(\n",
      " 48%|██████████████████▏                   | 4795/10000 [28:51<34:06,  2.54it/s]/Users/nkinsky/mambaforge/envs/eraser/lib/python3.9/site-packages/joblib/externals/loky/process_executor.py:752: UserWarning: A worker stopped while some jobs were given to the executor. This can be caused by a too short worker timeout or by a memory leak.\n",
      "  warnings.warn(\n",
      " 65%|████████████████████████▊             | 6541/10000 [39:11<29:06,  1.98it/s]/Users/nkinsky/mambaforge/envs/eraser/lib/python3.9/site-packages/joblib/externals/loky/process_executor.py:752: UserWarning: A worker stopped while some jobs were given to the executor. This can be caused by a too short worker timeout or by a memory leak.\n",
      "  warnings.warn(\n",
      "100%|█████████████████████████████████████| 10000/10000 [59:56<00:00,  2.78it/s]\n",
      "100%|█████████████████████████████████████| 10000/10000 [24:07<00:00,  6.91it/s]\n",
      " 34%|███████████▏                     | 3404/10000 [30:33<411:32:59, 224.62s/it]/Users/nkinsky/mambaforge/envs/eraser/lib/python3.9/site-packages/joblib/externals/loky/process_executor.py:752: UserWarning: A worker stopped while some jobs were given to the executor. This can be caused by a too short worker timeout or by a memory leak.\n",
      "  warnings.warn(\n",
      " 35%|██████████▋                    | 3458/10000 [1:05:48<347:49:13, 191.40s/it]/Users/nkinsky/mambaforge/envs/eraser/lib/python3.9/site-packages/joblib/externals/loky/process_executor.py:752: UserWarning: A worker stopped while some jobs were given to the executor. This can be caused by a too short worker timeout or by a memory leak.\n",
      "  warnings.warn(\n",
      " 36%|████████████▏                     | 3572/10000 [1:57:11<1:55:34,  1.08s/it]/Users/nkinsky/mambaforge/envs/eraser/lib/python3.9/site-packages/joblib/externals/loky/process_executor.py:752: UserWarning: A worker stopped while some jobs were given to the executor. This can be caused by a too short worker timeout or by a memory leak.\n",
      "  warnings.warn(\n",
      " 36%|████████████▎                     | 3607/10000 [2:08:51<1:24:36,  1.26it/s]/Users/nkinsky/mambaforge/envs/eraser/lib/python3.9/site-packages/joblib/externals/loky/process_executor.py:752: UserWarning: A worker stopped while some jobs were given to the executor. This can be caused by a too short worker timeout or by a memory leak.\n",
      "  warnings.warn(\n",
      " 36%|████████████▎                     | 3632/10000 [2:24:45<7:57:24,  4.50s/it]/Users/nkinsky/mambaforge/envs/eraser/lib/python3.9/site-packages/joblib/externals/loky/process_executor.py:752: UserWarning: A worker stopped while some jobs were given to the executor. This can be caused by a too short worker timeout or by a memory leak.\n",
      "  warnings.warn(\n",
      " 37%|█████████████▍                      | 3733/10000 [3:09:52<24:56,  4.19it/s]/Users/nkinsky/mambaforge/envs/eraser/lib/python3.9/site-packages/joblib/externals/loky/process_executor.py:752: UserWarning: A worker stopped while some jobs were given to the executor. This can be caused by a too short worker timeout or by a memory leak.\n",
      "  warnings.warn(\n",
      " 38%|█████████████                     | 3825/10000 [3:59:25<2:43:17,  1.59s/it]/Users/nkinsky/mambaforge/envs/eraser/lib/python3.9/site-packages/joblib/externals/loky/process_executor.py:752: UserWarning: A worker stopped while some jobs were given to the executor. This can be caused by a too short worker timeout or by a memory leak.\n",
      "  warnings.warn(\n",
      "100%|███████████████████████████████████| 10000/10000 [4:28:35<00:00,  1.61s/it]\n"
     ]
    },
    {
     "name": "stdout",
     "output_type": "stream",
     "text": [
      "Bootstrapping for ANI group\n"
     ]
    },
    {
     "name": "stderr",
     "output_type": "stream",
     "text": [
      "100%|█████████████████████████████████████| 10000/10000 [46:03<00:00,  3.62it/s]\n",
      "100%|█████████████████████████████████████| 10000/10000 [12:04<00:00, 13.81it/s]\n",
      "100%|█████████████████████████████████████| 10000/10000 [28:36<00:00,  5.83it/s]\n"
     ]
    },
    {
     "name": "stdout",
     "output_type": "stream",
     "text": [
      "cov_sigz_boot_open_df_boot.csv saved\n"
     ]
    },
    {
     "data": {
      "text/plain": [
       "Text(0.5, 1.0, 'Re-load Check')"
      ]
     },
     "execution_count": 13,
     "metadata": {},
     "output_type": "execute_result"
    },
    {
     "data": {
      "image/png": "[encoded data removed]",
      "text/plain": [
       "<Figure size 900x400 with 2 Axes>"
      ]
     },
     "metadata": {},
     "output_type": "display_data"
    }
   ],
   "source": [
    "sigz_all_open_df_all\n",
    "niter = 10000\n",
    "n_jobs = 6\n",
    "file_name = \"cov_sigz_all_open_df_all\"\n",
    "df_use = load_df(file_name, save_dir=group_data_dir)\n",
    "df_boot = bootstrap_covariance(df_use, niter=niter, n_jobs=n_jobs)\n",
    "\n",
    "# Plot, save, and re-plot to check if saved properly\n",
    "_, ax = plt.subplots(1, 2, figsize=(9, 4))\n",
    "sns.boxplot(data=df_boot, x=\"Epoch\", y=\"covz\", hue=\"Group\", ax=ax[0])\n",
    "ax[0].set_title(\"Original Run\")\n",
    "\n",
    "# Save\n",
    "save_df(df_boot, file_name.replace(\"all\", \"boot\"), save_dir=group_data_dir)\n",
    "\n",
    "# Replot\n",
    "df_check = load_df(file_name.replace(\"all\", \"boot\"), save_dir=group_data_dir)\n",
    "sns.boxplot(data=df_check, x=\"Epoch\", y=\"covz\", hue=\"Group\", ax=ax[1])\n",
    "ax[0].set_title(\"Re-load Check\")"
   ]
  },
  {
   "cell_type": "markdown",
   "id": "97eb642f-e9ee-4116-8690-838a31380f66",
   "metadata": {},
   "source": [
    "#### For all cells in the neutral arena before conditioning\n",
    "To test if increases in covariance naturally occur before conditioning"
   ]
  },
  {
   "cell_type": "code",
   "execution_count": 14,
   "id": "cefa7018-6d7f-44da-bf90-53450a23031a",
   "metadata": {},
   "outputs": [],
   "source": [
    "def bootstrap_covariance_neutral_before(df, niter=10000, n_jobs=7, \n",
    "                                        apply=lambda df2: df2.groupby(\"Group\").mean(numeric_only=True).reset_index()):\n",
    "    \"\"\"Bootstrap each group during in neutral environment before conditioning on Day -2, Day -1, and Day 0\"\"\"\n",
    "\n",
    "    df_list = []\n",
    "    for group_name in df.Group.unique():\n",
    "        print(f\"Bootstrapping for {group_name} group\")\n",
    "        for epoch in [\"Day -2\", \"Day -1\", \"Day 0\"]:\n",
    "            if epoch == \"Day -2\":\n",
    "                df_use = df[(df.Group == group_name) & (df.d1_d2 == \"-2_-1\")]\n",
    "            elif epoch == \"Day -1\":\n",
    "                df_use = df[(df.Group == group_name) & (df.d1_d2 == \"-1_0\")]\n",
    "            elif epoch == \"Day 0\":\n",
    "                df_use = df[(df.Group == group_name) & (df.d1_d2 == \"0_4\")]\n",
    "            \n",
    "            df_boot_temp = bootstrap_resample(df_use, niter, n_jobs=n_jobs, level=[\"Mouse\", \"d1_d2\", \"covz\"], \n",
    "                                              n_level=[None, 1, None], apply=apply)\n",
    "            df_boot_temp[\"Epoch\"] = epoch\n",
    "            \n",
    "            df_list.append(df_boot_temp)\n",
    "    \n",
    "    df_boot_out = pd.concat(df_list, axis=0).reset_index()\n",
    "\n",
    "    return df_boot_out"
   ]
  },
  {
   "cell_type": "code",
   "execution_count": null,
   "id": "90dc9d18-1aad-45b2-9247-98377fc33585",
   "metadata": {},
   "outputs": [],
   "source": [
    "niter = 10000\n",
    "n_jobs = 12\n",
    "\n",
    "if (Path(group_data_dir) / \"cov_sigz_all_open_df_before_cond_all.csv\").exists():\n",
    "    df_use = load_df(file_name, save_dir=group_data_dir)\n",
    "else:\n",
    "    file_name = \"cov_sigz_all_open_df_all\"\n",
    "    df_use = load_df(file_name, save_dir=group_data_dir)\n",
    "    file_name = \"cov_sigz_all_open_df_before_cond_all\"  # Rename everything for clarity\n",
    "    save_df(df_use, file_name, save_dir=group_data_dir)\n",
    "df_boot = bootstrap_covariance_neutral_before(df_use, niter=niter, n_jobs=n_jobs)\n",
    "\n",
    "# Plot, save, and re-plot to check if saved properly\n",
    "_, ax = plt.subplots(1, 2, figsize=(9, 4))\n",
    "sns.boxplot(data=df_boot, x=\"Epoch\", y=\"covz\", hue=\"Group\", ax=ax[0])\n",
    "ax[0].set_title(\"Original Run\")\n",
    "\n",
    "# Save\n",
    "save_df(df_boot, file_name.replace(\"all\", \"boot\"), save_dir=group_data_dir)\n",
    "\n",
    "# Replot\n",
    "df_check = load_df(file_name.replace(\"all\", \"boot\"), save_dir=group_data_dir)\n",
    "sns.boxplot(data=df_check, x=\"Epoch\", y=\"covz\", hue=\"Group\", ax=ax[1])\n",
    "ax[0].set_title(\"Re-load Check\")"
   ]
  },
  {
   "cell_type": "markdown",
   "id": "a6aefd58-ad7d-49c8-8cd2-a1590d1464a0",
   "metadata": {},
   "source": [
    "### Now bootstrap tracking significantly co-varying cells across days"
   ]
  },
  {
   "cell_type": "code",
   "execution_count": 15,
   "id": "80ec1ebe-36f0-4504-abee-6759c85f1078",
   "metadata": {},
   "outputs": [],
   "source": [
    "def bootstrap_covariance_across_days(df, niter=10000, n_jobs=7, before_strs=[\"4_-2\", \"4_-1\"], during_strs=[\"4_4\"], after_strs=[\"4_1\", \"4_2\"],\n",
    "                                     apply=lambda df2: df2.groupby(\"Group\").mean(numeric_only=True).reset_index()):\n",
    "    \"\"\"Bootstrap each group across days\"\"\"\n",
    "\n",
    "    df_list = []\n",
    "    for group_name in df.Group.unique():\n",
    "        print(f\"Bootstrapping for {group_name} group\")\n",
    "        for epoch in [\"Before\", \"4hr\", \"After\"]:\n",
    "            if epoch == \"Before\":\n",
    "                df_use = df[(df.Group == group_name) & ((df.d1_d2 == before_strs[0]) | (df.d1_d2 == before_strs[1]))]\n",
    "            elif epoch == \"4hr\":\n",
    "                df_use = df[(df.Group == group_name) & (df.d1_d2 == during_strs[0])]\n",
    "            elif epoch == \"After\":\n",
    "                df_use = df[(df.Group == group_name) & ((df.d1_d2 == after_strs[0]) | (df.d1_d2 == after_strs[1]))]\n",
    "            \n",
    "            df_boot_temp = bootstrap_resample(df_use, niter, n_jobs=n_jobs, level=[\"Mouse\", \"d1_d2\", \"covz\"], \n",
    "                                              n_level=[None, 1, None], apply=apply)\n",
    "            df_boot_temp[\"Epoch\"] = epoch\n",
    "            \n",
    "            df_list.append(df_boot_temp)\n",
    "    \n",
    "    df_boot_out = pd.concat(df_list, axis=0).reset_index()\n",
    "\n",
    "    return df_boot_out"
   ]
  },
  {
   "cell_type": "code",
   "execution_count": 7,
   "id": "d6d8ddd0-ea9b-4032-bbc3-c2b3146671f0",
   "metadata": {},
   "outputs": [
    {
     "name": "stdout",
     "output_type": "stream",
     "text": [
      "Bootstrapping for Learners group\n"
     ]
    },
    {
     "name": "stderr",
     "output_type": "stream",
     "text": [
      "100%|█████████████████████████████████████████████████████████████████████████| 10000/10000 [00:11<00:00, 877.00it/s]\n",
      "100%|█████████████████████████████████████████████████████████████████████████| 10000/10000 [00:11<00:00, 860.59it/s]\n",
      "100%|████████████████████████████████████████████████████████████████████████| 10000/10000 [00:09<00:00, 1006.92it/s]\n"
     ]
    },
    {
     "name": "stdout",
     "output_type": "stream",
     "text": [
      "Bootstrapping for Non-learners group\n"
     ]
    },
    {
     "name": "stderr",
     "output_type": "stream",
     "text": [
      "100%|█████████████████████████████████████████████████████████████████████████| 10000/10000 [00:20<00:00, 494.37it/s]\n",
      "100%|█████████████████████████████████████████████████████████████████████████| 10000/10000 [00:21<00:00, 460.68it/s]\n",
      "100%|█████████████████████████████████████████████████████████████████████████| 10000/10000 [00:17<00:00, 587.09it/s]\n"
     ]
    },
    {
     "name": "stdout",
     "output_type": "stream",
     "text": [
      "Bootstrapping for ANI group\n"
     ]
    },
    {
     "name": "stderr",
     "output_type": "stream",
     "text": [
      "100%|█████████████████████████████████████████████████████████████████████████| 10000/10000 [00:11<00:00, 892.26it/s]\n",
      "100%|█████████████████████████████████████████████████████████████████████████| 10000/10000 [00:16<00:00, 622.60it/s]\n",
      "100%|████████████████████████████████████████████████████████████████████████| 10000/10000 [00:09<00:00, 1001.49it/s]\n"
     ]
    },
    {
     "name": "stdout",
     "output_type": "stream",
     "text": [
      "cov_sig4_df_reg_boot.csv saved\n"
     ]
    },
    {
     "data": {
      "text/plain": [
       "Text(0.5, 1.0, 'Re-load Check')"
      ]
     },
     "execution_count": 7,
     "metadata": {},
     "output_type": "execute_result"
    },
    {
     "data": {
      "image/png": "[encoded data removed]",
      "text/plain": [
       "<Figure size 900x400 with 2 Axes>"
      ]
     },
     "metadata": {},
     "output_type": "display_data"
    }
   ],
   "source": [
    "niter = 10000\n",
    "n_jobs = 12\n",
    "file_name = \"cov_sig4_df_reg_all\"\n",
    "df_use = load_df(file_name, save_dir=group_data_dir)\n",
    "df_boot = bootstrap_covariance_across_days(df_use, niter=niter, n_jobs=n_jobs)\n",
    "\n",
    "# Plot, save, and re-plot to check if saved properly\n",
    "_, ax = plt.subplots(1, 2, figsize=(9, 4))\n",
    "sns.boxplot(data=df_boot, x=\"Epoch\", y=\"covz\", hue=\"Group\", ax=ax[0])\n",
    "ax[0].set_title(\"Original Run\")\n",
    "\n",
    "# Save\n",
    "save_df(df_boot, file_name.replace(\"all\", \"boot\"), save_dir=group_data_dir)\n",
    "\n",
    "# Replot\n",
    "df_check = load_df(file_name.replace(\"all\", \"boot\"), save_dir=group_data_dir)\n",
    "sns.boxplot(data=df_check, x=\"Epoch\", y=\"covz\", hue=\"Group\", ax=ax[1])\n",
    "ax[0].set_title(\"Re-load Check\")"
   ]
  },
  {
   "cell_type": "code",
   "execution_count": 17,
   "id": "180ac646-f232-4dce-80b4-f758cd3c84ba",
   "metadata": {},
   "outputs": [
    {
     "name": "stdout",
     "output_type": "stream",
     "text": [
      "Bootstrapping for Learners group\n"
     ]
    },
    {
     "name": "stderr",
     "output_type": "stream",
     "text": [
      "100%|█████████████████████████████████████████████████████████████████████████| 10000/10000 [00:11<00:00, 895.68it/s]\n",
      "100%|████████████████████████████████████████████████████████████████████████| 10000/10000 [00:08<00:00, 1142.37it/s]\n",
      "100%|█████████████████████████████████████████████████████████████████████████| 10000/10000 [00:12<00:00, 777.03it/s]\n"
     ]
    },
    {
     "name": "stdout",
     "output_type": "stream",
     "text": [
      "Bootstrapping for Non-learners group\n"
     ]
    },
    {
     "name": "stderr",
     "output_type": "stream",
     "text": [
      "100%|█████████████████████████████████████████████████████████████████████████| 10000/10000 [00:17<00:00, 565.34it/s]\n",
      "100%|█████████████████████████████████████████████████████████████████████████| 10000/10000 [00:11<00:00, 844.96it/s]\n",
      "100%|█████████████████████████████████████████████████████████████████████████| 10000/10000 [00:23<00:00, 420.31it/s]\n"
     ]
    },
    {
     "name": "stdout",
     "output_type": "stream",
     "text": [
      "Bootstrapping for ANI group\n"
     ]
    },
    {
     "name": "stderr",
     "output_type": "stream",
     "text": [
      "100%|█████████████████████████████████████████████████████████████████████████| 10000/10000 [00:11<00:00, 841.32it/s]\n",
      "100%|████████████████████████████████████████████████████████████████████████| 10000/10000 [00:09<00:00, 1080.71it/s]\n",
      "100%|█████████████████████████████████████████████████████████████████████████| 10000/10000 [00:20<00:00, 483.37it/s]\n"
     ]
    },
    {
     "name": "stdout",
     "output_type": "stream",
     "text": [
      "cov_sig1_df_reg_boot.csv saved\n"
     ]
    },
    {
     "data": {
      "text/plain": [
       "Text(0.5, 1.0, 'Re-load Check')"
      ]
     },
     "execution_count": 17,
     "metadata": {},
     "output_type": "execute_result"
    },
    {
     "data": {
      "image/png": "[encoded data removed]",
      "text/plain": [
       "<Figure size 900x400 with 2 Axes>"
      ]
     },
     "metadata": {},
     "output_type": "display_data"
    }
   ],
   "source": [
    "niter = 10000\n",
    "n_jobs = 12\n",
    "file_name = \"cov_sig1_df_reg_all\"\n",
    "df_use = load_df(file_name, save_dir=group_data_dir)\n",
    "df_boot = bootstrap_covariance_across_days(df_use, niter=niter, n_jobs=n_jobs, before_strs=[\"1_-2\", \"1_-1\"], during_strs=[\"1_4\"], \n",
    "                                           after_strs=[\"1_1\", \"1_2\"])\n",
    "\n",
    "# Plot, save, and re-plot to check if saved properly\n",
    "_, ax = plt.subplots(1, 2, figsize=(9, 4))\n",
    "sns.boxplot(data=df_boot, x=\"Epoch\", y=\"covz\", hue=\"Group\", ax=ax[0])\n",
    "ax[0].set_title(\"Original Run\")\n",
    "\n",
    "# Save\n",
    "save_df(df_boot, file_name.replace(\"all\", \"boot\"), save_dir=group_data_dir)\n",
    "\n",
    "# Replot\n",
    "df_check = load_df(file_name.replace(\"all\", \"boot\"), save_dir=group_data_dir)\n",
    "sns.boxplot(data=df_check, x=\"Epoch\", y=\"covz\", hue=\"Group\", ax=ax[1])\n",
    "ax[0].set_title(\"Re-load Check\")"
   ]
  },
  {
   "cell_type": "markdown",
   "id": "8b8c841b-4ac7-4d0a-9b87-473390232bf6",
   "metadata": {},
   "source": [
    "### Bootstrap freeze-tuned cells from days 4 and 1 but tracked across days"
   ]
  },
  {
   "cell_type": "code",
   "execution_count": 41,
   "id": "be1e54de-57e3-49e5-bc9a-634c56017bb0",
   "metadata": {},
   "outputs": [
    {
     "name": "stdout",
     "output_type": "stream",
     "text": [
      "Bootstrapping for Learners group\n"
     ]
    },
    {
     "name": "stderr",
     "output_type": "stream",
     "text": [
      "100%|█████████████████████████████████████████████████████████████████████████| 10000/10000 [00:13<00:00, 739.96it/s]\n",
      "100%|█████████████████████████████████████████████████████████████████████████| 10000/10000 [00:11<00:00, 833.43it/s]\n",
      "100%|█████████████████████████████████████████████████████████████████████████| 10000/10000 [00:12<00:00, 780.45it/s]\n"
     ]
    },
    {
     "name": "stdout",
     "output_type": "stream",
     "text": [
      "Bootstrapping for Non-learners group\n"
     ]
    },
    {
     "name": "stderr",
     "output_type": "stream",
     "text": [
      "100%|█████████████████████████████████████████████████████████████████████████| 10000/10000 [00:15<00:00, 630.49it/s]\n",
      "100%|█████████████████████████████████████████████████████████████████████████| 10000/10000 [00:14<00:00, 684.12it/s]\n",
      "100%|█████████████████████████████████████████████████████████████████████████| 10000/10000 [00:13<00:00, 733.64it/s]\n"
     ]
    },
    {
     "name": "stdout",
     "output_type": "stream",
     "text": [
      "Bootstrapping for ANI group\n"
     ]
    },
    {
     "name": "stderr",
     "output_type": "stream",
     "text": [
      "100%|████████████████████████████████████████████████████████████████████████| 10000/10000 [00:08<00:00, 1196.34it/s]\n",
      "100%|█████████████████████████████████████████████████████████████████████████| 10000/10000 [00:12<00:00, 798.24it/s]\n",
      "100%|████████████████████████████████████████████████████████████████████████| 10000/10000 [00:09<00:00, 1050.27it/s]\n"
     ]
    },
    {
     "name": "stdout",
     "output_type": "stream",
     "text": [
      "cov_sig4frz_dfreg_boot.csv saved\n"
     ]
    },
    {
     "data": {
      "text/plain": [
       "Text(0.5, 1.0, 'Re-load Check')"
      ]
     },
     "execution_count": 41,
     "metadata": {},
     "output_type": "execute_result"
    },
    {
     "data": {
      "image/png": "[encoded data removed]",
      "text/plain": [
       "<Figure size 900x400 with 2 Axes>"
      ]
     },
     "metadata": {},
     "output_type": "display_data"
    }
   ],
   "source": [
    "niter = 10000\n",
    "n_jobs = 12\n",
    "file_name = \"cov_sig4frz_dfreg_all\"\n",
    "df_use = load_df(file_name, save_dir=group_data_dir)\n",
    "df_boot = bootstrap_covariance_across_days(df_use, niter=niter, n_jobs=n_jobs, before_strs=[\"4_-2\", \"4_-1\"], during_strs=[\"4_4\"], \n",
    "                                           after_strs=[\"4_1\", \"4_2\"])\n",
    "\n",
    "# Plot, save, and re-plot to check if saved properly\n",
    "_, ax = plt.subplots(1, 2, figsize=(9, 4))\n",
    "sns.boxplot(data=df_boot, x=\"Epoch\", y=\"covz\", hue=\"Group\", ax=ax[0])\n",
    "ax[0].set_title(\"Original Run\")\n",
    "\n",
    "# Save\n",
    "save_df(df_boot, file_name.replace(\"all\", \"boot\"), save_dir=group_data_dir)\n",
    "\n",
    "# Replot\n",
    "df_check = load_df(file_name.replace(\"all\", \"boot\"), save_dir=group_data_dir)\n",
    "sns.boxplot(data=df_check, x=\"Epoch\", y=\"covz\", hue=\"Group\", ax=ax[1])\n",
    "ax[0].set_title(\"Re-load Check\")"
   ]
  },
  {
   "cell_type": "code",
   "execution_count": 42,
   "id": "32b3c7e2-c5b5-4395-a9b3-5d812ad7419b",
   "metadata": {},
   "outputs": [
    {
     "name": "stdout",
     "output_type": "stream",
     "text": [
      "Bootstrapping for Learners group\n"
     ]
    },
    {
     "name": "stderr",
     "output_type": "stream",
     "text": [
      "100%|█████████████████████████████████████████████████████████████████████████| 10000/10000 [00:10<00:00, 960.84it/s]\n",
      "100%|████████████████████████████████████████████████████████████████████████| 10000/10000 [00:09<00:00, 1089.24it/s]\n",
      "100%|█████████████████████████████████████████████████████████████████████████| 10000/10000 [00:12<00:00, 826.00it/s]\n"
     ]
    },
    {
     "name": "stdout",
     "output_type": "stream",
     "text": [
      "Bootstrapping for Non-learners group\n"
     ]
    },
    {
     "name": "stderr",
     "output_type": "stream",
     "text": [
      "100%|█████████████████████████████████████████████████████████████████████████| 10000/10000 [00:13<00:00, 727.65it/s]\n",
      "100%|█████████████████████████████████████████████████████████████████████████| 10000/10000 [00:10<00:00, 965.82it/s]\n",
      "100%|█████████████████████████████████████████████████████████████████████████| 10000/10000 [00:17<00:00, 586.36it/s]\n"
     ]
    },
    {
     "name": "stdout",
     "output_type": "stream",
     "text": [
      "Bootstrapping for ANI group\n"
     ]
    },
    {
     "name": "stderr",
     "output_type": "stream",
     "text": [
      "100%|█████████████████████████████████████████████████████████████████████████| 10000/10000 [00:12<00:00, 821.75it/s]\n",
      "100%|████████████████████████████████████████████████████████████████████████| 10000/10000 [00:09<00:00, 1039.71it/s]\n",
      "100%|█████████████████████████████████████████████████████████████████████████| 10000/10000 [00:18<00:00, 555.27it/s]\n"
     ]
    },
    {
     "name": "stdout",
     "output_type": "stream",
     "text": [
      "cov_sig1frz_dfreg_boot.csv saved\n"
     ]
    },
    {
     "data": {
      "text/plain": [
       "Text(0.5, 1.0, 'Re-load Check')"
      ]
     },
     "execution_count": 42,
     "metadata": {},
     "output_type": "execute_result"
    },
    {
     "data": {
      "image/png": "[encoded data removed]",
      "text/plain": [
       "<Figure size 900x400 with 2 Axes>"
      ]
     },
     "metadata": {},
     "output_type": "display_data"
    }
   ],
   "source": [
    "niter = 10000\n",
    "n_jobs = 12\n",
    "file_name = \"cov_sig1frz_dfreg_all\"\n",
    "df_use = load_df(file_name, save_dir=group_data_dir)\n",
    "df_boot = bootstrap_covariance_across_days(df_use, niter=niter, n_jobs=n_jobs, before_strs=[\"1_-2\", \"1_-1\"], during_strs=[\"1_4\"], \n",
    "                                           after_strs=[\"1_1\", \"1_2\"])\n",
    "\n",
    "# Plot, save, and re-plot to check if saved properly\n",
    "_, ax = plt.subplots(1, 2, figsize=(9, 4))\n",
    "sns.boxplot(data=df_boot, x=\"Epoch\", y=\"covz\", hue=\"Group\", ax=ax[0])\n",
    "ax[0].set_title(\"Original Run\")\n",
    "\n",
    "# Save\n",
    "save_df(df_boot, file_name.replace(\"all\", \"boot\"), save_dir=group_data_dir)\n",
    "\n",
    "# Replot\n",
    "df_check = load_df(file_name.replace(\"all\", \"boot\"), save_dir=group_data_dir)\n",
    "sns.boxplot(data=df_check, x=\"Epoch\", y=\"covz\", hue=\"Group\", ax=ax[1])\n",
    "ax[0].set_title(\"Re-load Check\")"
   ]
  },
  {
   "cell_type": "code",
   "execution_count": 44,
   "id": "12333acc-9aa2-417d-8736-4fb913dc6cee",
   "metadata": {},
   "outputs": [
    {
     "name": "stdout",
     "output_type": "stream",
     "text": [
      "Bootstrapping for Learners group\n"
     ]
    },
    {
     "name": "stderr",
     "output_type": "stream",
     "text": [
      "100%|█████████████████████████████████████████████████████████████████████████| 10000/10000 [00:10<00:00, 970.12it/s]\n",
      "100%|████████████████████████████████████████████████████████████████████████| 10000/10000 [00:08<00:00, 1118.93it/s]\n",
      "100%|████████████████████████████████████████████████████████████████████████| 10000/10000 [00:09<00:00, 1099.49it/s]\n"
     ]
    },
    {
     "name": "stdout",
     "output_type": "stream",
     "text": [
      "Bootstrapping for Non-learners group\n"
     ]
    },
    {
     "name": "stderr",
     "output_type": "stream",
     "text": [
      "100%|█████████████████████████████████████████████████████████████████████████| 10000/10000 [00:13<00:00, 729.33it/s]\n",
      "100%|█████████████████████████████████████████████████████████████████████████| 10000/10000 [00:10<00:00, 946.81it/s]\n",
      "100%|█████████████████████████████████████████████████████████████████████████| 10000/10000 [00:10<00:00, 913.74it/s]\n"
     ]
    },
    {
     "name": "stdout",
     "output_type": "stream",
     "text": [
      "Bootstrapping for ANI group\n"
     ]
    },
    {
     "name": "stderr",
     "output_type": "stream",
     "text": [
      "100%|█████████████████████████████████████████████████████████████████████████| 10000/10000 [00:12<00:00, 820.47it/s]\n",
      "100%|████████████████████████████████████████████████████████████████████████| 10000/10000 [00:09<00:00, 1040.06it/s]\n",
      "100%|█████████████████████████████████████████████████████████████████████████| 10000/10000 [00:10<00:00, 928.58it/s]\n"
     ]
    },
    {
     "name": "stdout",
     "output_type": "stream",
     "text": [
      "cov_sig1frz_dfreg_day2only_boot.csv saved\n"
     ]
    },
    {
     "data": {
      "text/plain": [
       "Text(0.5, 1.0, 'Re-load Check')"
      ]
     },
     "execution_count": 44,
     "metadata": {},
     "output_type": "execute_result"
    },
    {
     "data": {
      "image/png": "[encoded data removed]",
      "text/plain": [
       "<Figure size 900x400 with 2 Axes>"
      ]
     },
     "metadata": {},
     "output_type": "display_data"
    }
   ],
   "source": [
    "niter = 10000\n",
    "n_jobs = 12\n",
    "file_name = \"cov_sig1frz_dfreg_all\"\n",
    "df_use = load_df(file_name, save_dir=group_data_dir)\n",
    "df_boot = bootstrap_covariance_across_days(df_use, niter=niter, n_jobs=n_jobs, before_strs=[\"1_-2\", \"1_-1\"], during_strs=[\"1_4\"], \n",
    "                                           after_strs=[\"1_2\", \"1_2\"])\n",
    "\n",
    "# Plot, save, and re-plot to check if saved properly\n",
    "_, ax = plt.subplots(1, 2, figsize=(9, 4))\n",
    "sns.boxplot(data=df_boot, x=\"Epoch\", y=\"covz\", hue=\"Group\", ax=ax[0])\n",
    "ax[0].set_title(\"Original Run\")\n",
    "\n",
    "# Save\n",
    "save_df(df_boot, file_name.replace(\"all\", \"day2only_boot\"), save_dir=group_data_dir)\n",
    "\n",
    "# Replot\n",
    "df_check = load_df(file_name.replace(\"all\", \"day2only_boot\"), save_dir=group_data_dir)\n",
    "sns.boxplot(data=df_check, x=\"Epoch\", y=\"covz\", hue=\"Group\", ax=ax[1])\n",
    "ax[0].set_title(\"Re-load Check\")"
   ]
  },
  {
   "cell_type": "code",
   "execution_count": 57,
   "id": "1c57a376-242b-460b-9870-f1e15011b7af",
   "metadata": {},
   "outputs": [
    {
     "data": {
      "text/plain": [
       "<Axes: xlabel='Designation', ylabel='covz'>"
      ]
     },
     "execution_count": 57,
     "metadata": {},
     "output_type": "execute_result"
    },
    {
     "data": {
      "image/png": "[encoded data removed]",
      "text/plain": [
       "<Figure size 900x300 with 2 Axes>"
      ]
     },
     "metadata": {},
     "output_type": "display_data"
    }
   ],
   "source": [
    "_, ax = plt.subplots(1, 2, figsize=(9, 3))\n",
    "df_use2 = add_memory_designations(df_use, before=['1_-2', '1_-1'], during=['1_4'], after=['1_1'])\n",
    "\n",
    "df_mean = df_use2.groupby([\"Group\", \"Mouse\", \"Designation\", \"d1_d2\"]).mean().reset_index()\n",
    "sns.boxplot(data=df_mean, x=\"Designation\", y=\"covz\", hue=\"Group\", dodge=True, ax=ax[0])\n",
    "\n",
    "df_use2 = add_memory_designations(df_use, before=['1_-2', '1_-1'], during=['1_4'], after=['1_2'])\n",
    "\n",
    "df_mean = df_use2.groupby([\"Group\", \"Mouse\", \"Designation\", \"d1_d2\"]).mean().reset_index()\n",
    "sns.boxplot(data=df_mean, x=\"Designation\", y=\"covz\", hue=\"Group\", dodge=True, ax=ax[1])"
   ]
  },
  {
   "cell_type": "code",
   "execution_count": 46,
   "id": "f5d5f141-c37a-4e21-b25e-09fd3198fc2c",
   "metadata": {},
   "outputs": [
    {
     "data": {
      "text/plain": [
       "array(['1_-2', '1_-1', '1_4', '1_1', '1_2'], dtype=object)"
      ]
     },
     "execution_count": 46,
     "metadata": {},
     "output_type": "execute_result"
    }
   ],
   "source": [
    "df_use.d1_d2.unique()"
   ]
  },
  {
   "cell_type": "code",
   "execution_count": 21,
   "id": "e1977204-36cd-4d3e-8b65-151baf673227",
   "metadata": {},
   "outputs": [],
   "source": [
    "df_use = add_memory_designations(df_use, before=['1_-2', '1_-1'], during=['1_4'], after=['1_1', '1_2'])"
   ]
  },
  {
   "cell_type": "code",
   "execution_count": 35,
   "id": "fcc54109-84ba-4d17-9e9a-3ece71f98f60",
   "metadata": {},
   "outputs": [
    {
     "data": {
      "text/plain": [
       "Index(['Group', 'Mouse', 'Designation', 'd1_d2', 'covz'], dtype='object')"
      ]
     },
     "execution_count": 35,
     "metadata": {},
     "output_type": "execute_result"
    }
   ],
   "source": [
    "df_mean = df_use.groupby([\"Group\", \"Mouse\", \"Designation\", \"d1_d2\"]).mean().reset_index()\n",
    "df_mean.keys()"
   ]
  },
  {
   "cell_type": "code",
   "execution_count": 38,
   "id": "3bfe368c-0131-4197-a20e-7a35ce63b1a4",
   "metadata": {},
   "outputs": [
    {
     "data": {
      "text/html": [
       "<div>\n",
       "<style scoped>\n",
       "    .dataframe tbody tr th:only-of-type {\n",
       "        vertical-align: middle;\n",
       "    }\n",
       "\n",
       "    .dataframe tbody tr th {\n",
       "        vertical-align: top;\n",
       "    }\n",
       "\n",
       "    .dataframe thead th {\n",
       "        text-align: right;\n",
       "    }\n",
       "</style>\n",
       "<table border=\"1\" class=\"dataframe\">\n",
       "  <thead>\n",
       "    <tr style=\"text-align: right;\">\n",
       "      <th></th>\n",
       "      <th>Group</th>\n",
       "      <th>Mouse</th>\n",
       "      <th>Designation</th>\n",
       "      <th>d1_d2</th>\n",
       "      <th>covz</th>\n",
       "    </tr>\n",
       "  </thead>\n",
       "  <tbody>\n",
       "    <tr>\n",
       "      <th>0</th>\n",
       "      <td>ANI</td>\n",
       "      <td>Marble17</td>\n",
       "      <td>4hr</td>\n",
       "      <td>1_4</td>\n",
       "      <td>0.429768</td>\n",
       "    </tr>\n",
       "    <tr>\n",
       "      <th>1</th>\n",
       "      <td>ANI</td>\n",
       "      <td>Marble17</td>\n",
       "      <td>After</td>\n",
       "      <td>1_1</td>\n",
       "      <td>3.477863</td>\n",
       "    </tr>\n",
       "    <tr>\n",
       "      <th>2</th>\n",
       "      <td>ANI</td>\n",
       "      <td>Marble17</td>\n",
       "      <td>After</td>\n",
       "      <td>1_2</td>\n",
       "      <td>0.157904</td>\n",
       "    </tr>\n",
       "    <tr>\n",
       "      <th>3</th>\n",
       "      <td>ANI</td>\n",
       "      <td>Marble17</td>\n",
       "      <td>Before</td>\n",
       "      <td>1_-1</td>\n",
       "      <td>0.171184</td>\n",
       "    </tr>\n",
       "    <tr>\n",
       "      <th>4</th>\n",
       "      <td>ANI</td>\n",
       "      <td>Marble17</td>\n",
       "      <td>Before</td>\n",
       "      <td>1_-2</td>\n",
       "      <td>0.271387</td>\n",
       "    </tr>\n",
       "    <tr>\n",
       "      <th>5</th>\n",
       "      <td>ANI</td>\n",
       "      <td>Marble18</td>\n",
       "      <td>4hr</td>\n",
       "      <td>1_4</td>\n",
       "      <td>3.185060</td>\n",
       "    </tr>\n",
       "    <tr>\n",
       "      <th>6</th>\n",
       "      <td>ANI</td>\n",
       "      <td>Marble18</td>\n",
       "      <td>After</td>\n",
       "      <td>1_1</td>\n",
       "      <td>4.367951</td>\n",
       "    </tr>\n",
       "    <tr>\n",
       "      <th>7</th>\n",
       "      <td>ANI</td>\n",
       "      <td>Marble18</td>\n",
       "      <td>After</td>\n",
       "      <td>1_2</td>\n",
       "      <td>3.755611</td>\n",
       "    </tr>\n",
       "    <tr>\n",
       "      <th>8</th>\n",
       "      <td>ANI</td>\n",
       "      <td>Marble18</td>\n",
       "      <td>Before</td>\n",
       "      <td>1_-1</td>\n",
       "      <td>0.647896</td>\n",
       "    </tr>\n",
       "    <tr>\n",
       "      <th>9</th>\n",
       "      <td>ANI</td>\n",
       "      <td>Marble18</td>\n",
       "      <td>Before</td>\n",
       "      <td>1_-2</td>\n",
       "      <td>0.542927</td>\n",
       "    </tr>\n",
       "    <tr>\n",
       "      <th>10</th>\n",
       "      <td>ANI</td>\n",
       "      <td>Marble19</td>\n",
       "      <td>4hr</td>\n",
       "      <td>1_4</td>\n",
       "      <td>1.639546</td>\n",
       "    </tr>\n",
       "    <tr>\n",
       "      <th>11</th>\n",
       "      <td>ANI</td>\n",
       "      <td>Marble19</td>\n",
       "      <td>After</td>\n",
       "      <td>1_1</td>\n",
       "      <td>3.864886</td>\n",
       "    </tr>\n",
       "    <tr>\n",
       "      <th>12</th>\n",
       "      <td>ANI</td>\n",
       "      <td>Marble19</td>\n",
       "      <td>After</td>\n",
       "      <td>1_2</td>\n",
       "      <td>1.384787</td>\n",
       "    </tr>\n",
       "    <tr>\n",
       "      <th>13</th>\n",
       "      <td>ANI</td>\n",
       "      <td>Marble19</td>\n",
       "      <td>Before</td>\n",
       "      <td>1_-1</td>\n",
       "      <td>0.872045</td>\n",
       "    </tr>\n",
       "    <tr>\n",
       "      <th>14</th>\n",
       "      <td>ANI</td>\n",
       "      <td>Marble19</td>\n",
       "      <td>Before</td>\n",
       "      <td>1_-2</td>\n",
       "      <td>0.628350</td>\n",
       "    </tr>\n",
       "    <tr>\n",
       "      <th>15</th>\n",
       "      <td>ANI</td>\n",
       "      <td>Marble20</td>\n",
       "      <td>4hr</td>\n",
       "      <td>1_4</td>\n",
       "      <td>-0.205612</td>\n",
       "    </tr>\n",
       "    <tr>\n",
       "      <th>16</th>\n",
       "      <td>ANI</td>\n",
       "      <td>Marble20</td>\n",
       "      <td>After</td>\n",
       "      <td>1_1</td>\n",
       "      <td>3.866443</td>\n",
       "    </tr>\n",
       "    <tr>\n",
       "      <th>17</th>\n",
       "      <td>ANI</td>\n",
       "      <td>Marble20</td>\n",
       "      <td>After</td>\n",
       "      <td>1_2</td>\n",
       "      <td>0.786700</td>\n",
       "    </tr>\n",
       "    <tr>\n",
       "      <th>18</th>\n",
       "      <td>ANI</td>\n",
       "      <td>Marble20</td>\n",
       "      <td>Before</td>\n",
       "      <td>1_-1</td>\n",
       "      <td>0.317346</td>\n",
       "    </tr>\n",
       "    <tr>\n",
       "      <th>19</th>\n",
       "      <td>ANI</td>\n",
       "      <td>Marble20</td>\n",
       "      <td>Before</td>\n",
       "      <td>1_-2</td>\n",
       "      <td>0.249828</td>\n",
       "    </tr>\n",
       "    <tr>\n",
       "      <th>20</th>\n",
       "      <td>ANI</td>\n",
       "      <td>Marble25</td>\n",
       "      <td>4hr</td>\n",
       "      <td>1_4</td>\n",
       "      <td>0.998522</td>\n",
       "    </tr>\n",
       "    <tr>\n",
       "      <th>21</th>\n",
       "      <td>ANI</td>\n",
       "      <td>Marble25</td>\n",
       "      <td>After</td>\n",
       "      <td>1_1</td>\n",
       "      <td>4.167008</td>\n",
       "    </tr>\n",
       "    <tr>\n",
       "      <th>22</th>\n",
       "      <td>ANI</td>\n",
       "      <td>Marble25</td>\n",
       "      <td>After</td>\n",
       "      <td>1_2</td>\n",
       "      <td>1.011203</td>\n",
       "    </tr>\n",
       "    <tr>\n",
       "      <th>23</th>\n",
       "      <td>ANI</td>\n",
       "      <td>Marble25</td>\n",
       "      <td>Before</td>\n",
       "      <td>1_-1</td>\n",
       "      <td>0.384625</td>\n",
       "    </tr>\n",
       "    <tr>\n",
       "      <th>24</th>\n",
       "      <td>ANI</td>\n",
       "      <td>Marble25</td>\n",
       "      <td>Before</td>\n",
       "      <td>1_-2</td>\n",
       "      <td>0.199305</td>\n",
       "    </tr>\n",
       "    <tr>\n",
       "      <th>25</th>\n",
       "      <td>Learners</td>\n",
       "      <td>Marble07</td>\n",
       "      <td>4hr</td>\n",
       "      <td>1_4</td>\n",
       "      <td>0.527795</td>\n",
       "    </tr>\n",
       "    <tr>\n",
       "      <th>26</th>\n",
       "      <td>Learners</td>\n",
       "      <td>Marble07</td>\n",
       "      <td>After</td>\n",
       "      <td>1_1</td>\n",
       "      <td>3.728253</td>\n",
       "    </tr>\n",
       "    <tr>\n",
       "      <th>27</th>\n",
       "      <td>Learners</td>\n",
       "      <td>Marble07</td>\n",
       "      <td>After</td>\n",
       "      <td>1_2</td>\n",
       "      <td>0.713442</td>\n",
       "    </tr>\n",
       "    <tr>\n",
       "      <th>28</th>\n",
       "      <td>Learners</td>\n",
       "      <td>Marble07</td>\n",
       "      <td>Before</td>\n",
       "      <td>1_-1</td>\n",
       "      <td>0.487953</td>\n",
       "    </tr>\n",
       "    <tr>\n",
       "      <th>29</th>\n",
       "      <td>Learners</td>\n",
       "      <td>Marble07</td>\n",
       "      <td>Before</td>\n",
       "      <td>1_-2</td>\n",
       "      <td>0.592693</td>\n",
       "    </tr>\n",
       "    <tr>\n",
       "      <th>30</th>\n",
       "      <td>Learners</td>\n",
       "      <td>Marble12</td>\n",
       "      <td>4hr</td>\n",
       "      <td>1_4</td>\n",
       "      <td>0.852097</td>\n",
       "    </tr>\n",
       "    <tr>\n",
       "      <th>31</th>\n",
       "      <td>Learners</td>\n",
       "      <td>Marble12</td>\n",
       "      <td>After</td>\n",
       "      <td>1_1</td>\n",
       "      <td>3.818555</td>\n",
       "    </tr>\n",
       "    <tr>\n",
       "      <th>32</th>\n",
       "      <td>Learners</td>\n",
       "      <td>Marble12</td>\n",
       "      <td>After</td>\n",
       "      <td>1_2</td>\n",
       "      <td>0.402716</td>\n",
       "    </tr>\n",
       "    <tr>\n",
       "      <th>33</th>\n",
       "      <td>Learners</td>\n",
       "      <td>Marble12</td>\n",
       "      <td>Before</td>\n",
       "      <td>1_-1</td>\n",
       "      <td>0.783470</td>\n",
       "    </tr>\n",
       "    <tr>\n",
       "      <th>34</th>\n",
       "      <td>Learners</td>\n",
       "      <td>Marble12</td>\n",
       "      <td>Before</td>\n",
       "      <td>1_-2</td>\n",
       "      <td>0.486279</td>\n",
       "    </tr>\n",
       "    <tr>\n",
       "      <th>35</th>\n",
       "      <td>Learners</td>\n",
       "      <td>Marble24</td>\n",
       "      <td>4hr</td>\n",
       "      <td>1_4</td>\n",
       "      <td>0.745758</td>\n",
       "    </tr>\n",
       "    <tr>\n",
       "      <th>36</th>\n",
       "      <td>Learners</td>\n",
       "      <td>Marble24</td>\n",
       "      <td>After</td>\n",
       "      <td>1_1</td>\n",
       "      <td>4.828685</td>\n",
       "    </tr>\n",
       "    <tr>\n",
       "      <th>37</th>\n",
       "      <td>Learners</td>\n",
       "      <td>Marble24</td>\n",
       "      <td>After</td>\n",
       "      <td>1_2</td>\n",
       "      <td>2.023363</td>\n",
       "    </tr>\n",
       "    <tr>\n",
       "      <th>38</th>\n",
       "      <td>Learners</td>\n",
       "      <td>Marble24</td>\n",
       "      <td>Before</td>\n",
       "      <td>1_-1</td>\n",
       "      <td>0.105908</td>\n",
       "    </tr>\n",
       "    <tr>\n",
       "      <th>39</th>\n",
       "      <td>Learners</td>\n",
       "      <td>Marble24</td>\n",
       "      <td>Before</td>\n",
       "      <td>1_-2</td>\n",
       "      <td>0.472259</td>\n",
       "    </tr>\n",
       "    <tr>\n",
       "      <th>40</th>\n",
       "      <td>Learners</td>\n",
       "      <td>Marble27</td>\n",
       "      <td>4hr</td>\n",
       "      <td>1_4</td>\n",
       "      <td>1.931204</td>\n",
       "    </tr>\n",
       "    <tr>\n",
       "      <th>41</th>\n",
       "      <td>Learners</td>\n",
       "      <td>Marble27</td>\n",
       "      <td>After</td>\n",
       "      <td>1_1</td>\n",
       "      <td>4.868907</td>\n",
       "    </tr>\n",
       "    <tr>\n",
       "      <th>42</th>\n",
       "      <td>Learners</td>\n",
       "      <td>Marble27</td>\n",
       "      <td>After</td>\n",
       "      <td>1_2</td>\n",
       "      <td>2.367505</td>\n",
       "    </tr>\n",
       "    <tr>\n",
       "      <th>43</th>\n",
       "      <td>Learners</td>\n",
       "      <td>Marble27</td>\n",
       "      <td>Before</td>\n",
       "      <td>1_-1</td>\n",
       "      <td>1.336096</td>\n",
       "    </tr>\n",
       "    <tr>\n",
       "      <th>44</th>\n",
       "      <td>Learners</td>\n",
       "      <td>Marble27</td>\n",
       "      <td>Before</td>\n",
       "      <td>1_-2</td>\n",
       "      <td>1.103579</td>\n",
       "    </tr>\n",
       "    <tr>\n",
       "      <th>45</th>\n",
       "      <td>Non-learners</td>\n",
       "      <td>Marble06</td>\n",
       "      <td>4hr</td>\n",
       "      <td>1_4</td>\n",
       "      <td>1.323052</td>\n",
       "    </tr>\n",
       "    <tr>\n",
       "      <th>46</th>\n",
       "      <td>Non-learners</td>\n",
       "      <td>Marble06</td>\n",
       "      <td>After</td>\n",
       "      <td>1_1</td>\n",
       "      <td>3.983497</td>\n",
       "    </tr>\n",
       "    <tr>\n",
       "      <th>47</th>\n",
       "      <td>Non-learners</td>\n",
       "      <td>Marble06</td>\n",
       "      <td>After</td>\n",
       "      <td>1_2</td>\n",
       "      <td>1.827211</td>\n",
       "    </tr>\n",
       "    <tr>\n",
       "      <th>48</th>\n",
       "      <td>Non-learners</td>\n",
       "      <td>Marble06</td>\n",
       "      <td>Before</td>\n",
       "      <td>1_-1</td>\n",
       "      <td>0.790469</td>\n",
       "    </tr>\n",
       "    <tr>\n",
       "      <th>49</th>\n",
       "      <td>Non-learners</td>\n",
       "      <td>Marble06</td>\n",
       "      <td>Before</td>\n",
       "      <td>1_-2</td>\n",
       "      <td>0.607812</td>\n",
       "    </tr>\n",
       "    <tr>\n",
       "      <th>50</th>\n",
       "      <td>Non-learners</td>\n",
       "      <td>Marble11</td>\n",
       "      <td>4hr</td>\n",
       "      <td>1_4</td>\n",
       "      <td>0.309394</td>\n",
       "    </tr>\n",
       "    <tr>\n",
       "      <th>51</th>\n",
       "      <td>Non-learners</td>\n",
       "      <td>Marble11</td>\n",
       "      <td>After</td>\n",
       "      <td>1_1</td>\n",
       "      <td>3.712552</td>\n",
       "    </tr>\n",
       "    <tr>\n",
       "      <th>52</th>\n",
       "      <td>Non-learners</td>\n",
       "      <td>Marble11</td>\n",
       "      <td>After</td>\n",
       "      <td>1_2</td>\n",
       "      <td>0.446148</td>\n",
       "    </tr>\n",
       "    <tr>\n",
       "      <th>53</th>\n",
       "      <td>Non-learners</td>\n",
       "      <td>Marble11</td>\n",
       "      <td>Before</td>\n",
       "      <td>1_-1</td>\n",
       "      <td>0.468855</td>\n",
       "    </tr>\n",
       "    <tr>\n",
       "      <th>54</th>\n",
       "      <td>Non-learners</td>\n",
       "      <td>Marble11</td>\n",
       "      <td>Before</td>\n",
       "      <td>1_-2</td>\n",
       "      <td>0.280981</td>\n",
       "    </tr>\n",
       "    <tr>\n",
       "      <th>55</th>\n",
       "      <td>Non-learners</td>\n",
       "      <td>Marble29</td>\n",
       "      <td>4hr</td>\n",
       "      <td>1_4</td>\n",
       "      <td>1.344614</td>\n",
       "    </tr>\n",
       "    <tr>\n",
       "      <th>56</th>\n",
       "      <td>Non-learners</td>\n",
       "      <td>Marble29</td>\n",
       "      <td>After</td>\n",
       "      <td>1_1</td>\n",
       "      <td>4.026459</td>\n",
       "    </tr>\n",
       "    <tr>\n",
       "      <th>57</th>\n",
       "      <td>Non-learners</td>\n",
       "      <td>Marble29</td>\n",
       "      <td>After</td>\n",
       "      <td>1_2</td>\n",
       "      <td>1.283694</td>\n",
       "    </tr>\n",
       "    <tr>\n",
       "      <th>58</th>\n",
       "      <td>Non-learners</td>\n",
       "      <td>Marble29</td>\n",
       "      <td>Before</td>\n",
       "      <td>1_-1</td>\n",
       "      <td>0.536102</td>\n",
       "    </tr>\n",
       "    <tr>\n",
       "      <th>59</th>\n",
       "      <td>Non-learners</td>\n",
       "      <td>Marble29</td>\n",
       "      <td>Before</td>\n",
       "      <td>1_-2</td>\n",
       "      <td>0.327172</td>\n",
       "    </tr>\n",
       "  </tbody>\n",
       "</table>\n",
       "</div>"
      ],
      "text/plain": [
       "           Group     Mouse Designation d1_d2      covz\n",
       "0            ANI  Marble17         4hr   1_4  0.429768\n",
       "1            ANI  Marble17       After   1_1  3.477863\n",
       "2            ANI  Marble17       After   1_2  0.157904\n",
       "3            ANI  Marble17      Before  1_-1  0.171184\n",
       "4            ANI  Marble17      Before  1_-2  0.271387\n",
       "5            ANI  Marble18         4hr   1_4  3.185060\n",
       "6            ANI  Marble18       After   1_1  4.367951\n",
       "7            ANI  Marble18       After   1_2  3.755611\n",
       "8            ANI  Marble18      Before  1_-1  0.647896\n",
       "9            ANI  Marble18      Before  1_-2  0.542927\n",
       "10           ANI  Marble19         4hr   1_4  1.639546\n",
       "11           ANI  Marble19       After   1_1  3.864886\n",
       "12           ANI  Marble19       After   1_2  1.384787\n",
       "13           ANI  Marble19      Before  1_-1  0.872045\n",
       "14           ANI  Marble19      Before  1_-2  0.628350\n",
       "15           ANI  Marble20         4hr   1_4 -0.205612\n",
       "16           ANI  Marble20       After   1_1  3.866443\n",
       "17           ANI  Marble20       After   1_2  0.786700\n",
       "18           ANI  Marble20      Before  1_-1  0.317346\n",
       "19           ANI  Marble20      Before  1_-2  0.249828\n",
       "20           ANI  Marble25         4hr   1_4  0.998522\n",
       "21           ANI  Marble25       After   1_1  4.167008\n",
       "22           ANI  Marble25       After   1_2  1.011203\n",
       "23           ANI  Marble25      Before  1_-1  0.384625\n",
       "24           ANI  Marble25      Before  1_-2  0.199305\n",
       "25      Learners  Marble07         4hr   1_4  0.527795\n",
       "26      Learners  Marble07       After   1_1  3.728253\n",
       "27      Learners  Marble07       After   1_2  0.713442\n",
       "28      Learners  Marble07      Before  1_-1  0.487953\n",
       "29      Learners  Marble07      Before  1_-2  0.592693\n",
       "30      Learners  Marble12         4hr   1_4  0.852097\n",
       "31      Learners  Marble12       After   1_1  3.818555\n",
       "32      Learners  Marble12       After   1_2  0.402716\n",
       "33      Learners  Marble12      Before  1_-1  0.783470\n",
       "34      Learners  Marble12      Before  1_-2  0.486279\n",
       "35      Learners  Marble24         4hr   1_4  0.745758\n",
       "36      Learners  Marble24       After   1_1  4.828685\n",
       "37      Learners  Marble24       After   1_2  2.023363\n",
       "38      Learners  Marble24      Before  1_-1  0.105908\n",
       "39      Learners  Marble24      Before  1_-2  0.472259\n",
       "40      Learners  Marble27         4hr   1_4  1.931204\n",
       "41      Learners  Marble27       After   1_1  4.868907\n",
       "42      Learners  Marble27       After   1_2  2.367505\n",
       "43      Learners  Marble27      Before  1_-1  1.336096\n",
       "44      Learners  Marble27      Before  1_-2  1.103579\n",
       "45  Non-learners  Marble06         4hr   1_4  1.323052\n",
       "46  Non-learners  Marble06       After   1_1  3.983497\n",
       "47  Non-learners  Marble06       After   1_2  1.827211\n",
       "48  Non-learners  Marble06      Before  1_-1  0.790469\n",
       "49  Non-learners  Marble06      Before  1_-2  0.607812\n",
       "50  Non-learners  Marble11         4hr   1_4  0.309394\n",
       "51  Non-learners  Marble11       After   1_1  3.712552\n",
       "52  Non-learners  Marble11       After   1_2  0.446148\n",
       "53  Non-learners  Marble11      Before  1_-1  0.468855\n",
       "54  Non-learners  Marble11      Before  1_-2  0.280981\n",
       "55  Non-learners  Marble29         4hr   1_4  1.344614\n",
       "56  Non-learners  Marble29       After   1_1  4.026459\n",
       "57  Non-learners  Marble29       After   1_2  1.283694\n",
       "58  Non-learners  Marble29      Before  1_-1  0.536102\n",
       "59  Non-learners  Marble29      Before  1_-2  0.327172"
      ]
     },
     "execution_count": 38,
     "metadata": {},
     "output_type": "execute_result"
    }
   ],
   "source": [
    "df_mean"
   ]
  },
  {
   "cell_type": "code",
   "execution_count": 40,
   "id": "92ca7a13-ec5f-4645-a979-baab45568ee9",
   "metadata": {},
   "outputs": [
    {
     "data": {
      "text/plain": [
       "<Axes: xlabel='Designation', ylabel='covz'>"
      ]
     },
     "execution_count": 40,
     "metadata": {},
     "output_type": "execute_result"
    },
    {
     "data": {
      "image/png": "[encoded data removed]",
      "text/plain": [
       "<Figure size 640x480 with 1 Axes>"
      ]
     },
     "metadata": {},
     "output_type": "display_data"
    }
   ],
   "source": [
    "_, ax = plt.subplots()\n",
    "\n",
    "sns.boxplot(data=df_mean, x=\"Designation\", y=\"covz\", hue=\"Group\", ax=ax)"
   ]
  },
  {
   "cell_type": "code",
   "execution_count": null,
   "id": "701807f0-fbff-46bf-aa98-e29b178b3832",
   "metadata": {},
   "outputs": [],
   "source": [
    "niter = 10000\n",
    "n_jobs = 12\n",
    "file_name = \"cov_sig1_df_reg_all\"\n",
    "df_use = load_df(file_name, save_dir=group_data_dir)\n",
    "df_boot = bootstrap_covariance_across_days(df_use, niter=niter, n_jobs=n_jobs, before_strs=[\"1_-2\", \"1_-1\"], during_strs=[\"1_4\"], \n",
    "                                           after_strs=[\"1_1\", \"1_2\"])\n",
    "\n",
    "# Plot, save, and re-plot to check if saved properly\n",
    "_, ax = plt.subplots(1, 2, figsize=(9, 4))\n",
    "sns.boxplot(data=df_boot, x=\"Epoch\", y=\"covz\", hue=\"Group\", ax=ax[0])\n",
    "ax[0].set_title(\"Original Run\")\n",
    "\n",
    "# Save\n",
    "save_df(df_boot, file_name.replace(\"all\", \"boot\"), save_dir=group_data_dir)\n",
    "\n",
    "# Replot\n",
    "df_check = load_df(file_name.replace(\"all\", \"boot\"), save_dir=group_data_dir)\n",
    "sns.boxplot(data=df_check, x=\"Epoch\", y=\"covz\", hue=\"Group\", ax=ax[1])\n",
    "ax[0].set_title(\"Re-load Check\")"
   ]
  },
  {
   "cell_type": "code",
   "execution_count": 17,
   "id": "77cd6bc5-2c7b-4b0c-92aa-aa0413e44b37",
   "metadata": {},
   "outputs": [],
   "source": [
    "df_mean = df_use.groupby([\"Group\", \"Mouse\", \"d1_d2\"]).mean().reset_index()"
   ]
  },
  {
   "cell_type": "code",
   "execution_count": 18,
   "id": "793ff86a-f393-4e91-adb5-a8a233bc96a5",
   "metadata": {},
   "outputs": [
    {
     "data": {
      "text/html": [
       "<div>\n",
       "<style scoped>\n",
       "    .dataframe tbody tr th:only-of-type {\n",
       "        vertical-align: middle;\n",
       "    }\n",
       "\n",
       "    .dataframe tbody tr th {\n",
       "        vertical-align: top;\n",
       "    }\n",
       "\n",
       "    .dataframe thead th {\n",
       "        text-align: right;\n",
       "    }\n",
       "</style>\n",
       "<table border=\"1\" class=\"dataframe\">\n",
       "  <thead>\n",
       "    <tr style=\"text-align: right;\">\n",
       "      <th></th>\n",
       "      <th>Group</th>\n",
       "      <th>Mouse</th>\n",
       "      <th>d1_d2</th>\n",
       "      <th>covz</th>\n",
       "      <th>Designation</th>\n",
       "    </tr>\n",
       "  </thead>\n",
       "  <tbody>\n",
       "    <tr>\n",
       "      <th>0</th>\n",
       "      <td>ANI</td>\n",
       "      <td>Marble17</td>\n",
       "      <td>-1_0</td>\n",
       "      <td>0.000663</td>\n",
       "      <td></td>\n",
       "    </tr>\n",
       "    <tr>\n",
       "      <th>1</th>\n",
       "      <td>ANI</td>\n",
       "      <td>Marble17</td>\n",
       "      <td>-1_4</td>\n",
       "      <td>0.000663</td>\n",
       "      <td>Before</td>\n",
       "    </tr>\n",
       "    <tr>\n",
       "      <th>2</th>\n",
       "      <td>ANI</td>\n",
       "      <td>Marble17</td>\n",
       "      <td>-2_-1</td>\n",
       "      <td>-0.000670</td>\n",
       "      <td>Before</td>\n",
       "    </tr>\n",
       "    <tr>\n",
       "      <th>3</th>\n",
       "      <td>ANI</td>\n",
       "      <td>Marble17</td>\n",
       "      <td>0_4</td>\n",
       "      <td>-0.004946</td>\n",
       "      <td></td>\n",
       "    </tr>\n",
       "    <tr>\n",
       "      <th>4</th>\n",
       "      <td>ANI</td>\n",
       "      <td>Marble17</td>\n",
       "      <td>1_2</td>\n",
       "      <td>0.000633</td>\n",
       "      <td>After</td>\n",
       "    </tr>\n",
       "    <tr>\n",
       "      <th>...</th>\n",
       "      <td>...</td>\n",
       "      <td>...</td>\n",
       "      <td>...</td>\n",
       "      <td>...</td>\n",
       "      <td>...</td>\n",
       "    </tr>\n",
       "    <tr>\n",
       "      <th>79</th>\n",
       "      <td>Non-learners</td>\n",
       "      <td>Marble29</td>\n",
       "      <td>-2_-1</td>\n",
       "      <td>0.001737</td>\n",
       "      <td>Before</td>\n",
       "    </tr>\n",
       "    <tr>\n",
       "      <th>80</th>\n",
       "      <td>Non-learners</td>\n",
       "      <td>Marble29</td>\n",
       "      <td>0_4</td>\n",
       "      <td>0.000621</td>\n",
       "      <td></td>\n",
       "    </tr>\n",
       "    <tr>\n",
       "      <th>81</th>\n",
       "      <td>Non-learners</td>\n",
       "      <td>Marble29</td>\n",
       "      <td>1_2</td>\n",
       "      <td>0.021691</td>\n",
       "      <td>After</td>\n",
       "    </tr>\n",
       "    <tr>\n",
       "      <th>82</th>\n",
       "      <td>Non-learners</td>\n",
       "      <td>Marble29</td>\n",
       "      <td>2_7</td>\n",
       "      <td>0.031571</td>\n",
       "      <td>After</td>\n",
       "    </tr>\n",
       "    <tr>\n",
       "      <th>83</th>\n",
       "      <td>Non-learners</td>\n",
       "      <td>Marble29</td>\n",
       "      <td>4_1</td>\n",
       "      <td>0.025118</td>\n",
       "      <td>4hr</td>\n",
       "    </tr>\n",
       "  </tbody>\n",
       "</table>\n",
       "<p>84 rows × 5 columns</p>\n",
       "</div>"
      ],
      "text/plain": [
       "           Group     Mouse  d1_d2      covz Designation\n",
       "0            ANI  Marble17   -1_0  0.000663            \n",
       "1            ANI  Marble17   -1_4  0.000663      Before\n",
       "2            ANI  Marble17  -2_-1 -0.000670      Before\n",
       "3            ANI  Marble17    0_4 -0.004946            \n",
       "4            ANI  Marble17    1_2  0.000633       After\n",
       "..           ...       ...    ...       ...         ...\n",
       "79  Non-learners  Marble29  -2_-1  0.001737      Before\n",
       "80  Non-learners  Marble29    0_4  0.000621            \n",
       "81  Non-learners  Marble29    1_2  0.021691       After\n",
       "82  Non-learners  Marble29    2_7  0.031571       After\n",
       "83  Non-learners  Marble29    4_1  0.025118         4hr\n",
       "\n",
       "[84 rows x 5 columns]"
      ]
     },
     "execution_count": 18,
     "metadata": {},
     "output_type": "execute_result"
    }
   ],
   "source": [
    "add_memory_designations(df_mean)"
   ]
  },
  {
   "cell_type": "code",
   "execution_count": 19,
   "id": "a21f9963-6460-421f-bd6f-aaa915802247",
   "metadata": {},
   "outputs": [
    {
     "data": {
      "text/plain": [
       "<Axes: xlabel='Designation', ylabel='covz'>"
      ]
     },
     "execution_count": 19,
     "metadata": {},
     "output_type": "execute_result"
    },
    {
     "data": {
      "image/png": "[encoded data removed]",
      "text/plain": [
       "<Figure size 640x480 with 1 Axes>"
      ]
     },
     "metadata": {},
     "output_type": "display_data"
    }
   ],
   "source": [
    "_, ax = plt.subplots()\n",
    "sns.stripplot(data=add_memory_designations(df_mean), x=\"Designation\", y=\"covz\", hue=\"Group\", dodge=True, ax=ax)"
   ]
  },
  {
   "cell_type": "code",
   "execution_count": null,
   "id": "0c2dcc47-bfbe-404c-98b5-11e5b0612e5d",
   "metadata": {},
   "outputs": [],
   "source": [
    "save_df(df_boot, \"sigz_wo_frz_times_boot\")\n",
    "df_check = load_df(\"sigz_wo_frz_times_boot\")\n",
    "_, ax = plt.subplots()\n",
    "sns.boxplot(data=df_check, x=\"Epoch\", y=\"covz\", hue=\"Group\", ax=ax)"
   ]
  },
  {
   "cell_type": "code",
   "execution_count": null,
   "id": "17acbfe9-f7cd-43ab-8ea0-deb098a3c627",
   "metadata": {},
   "outputs": [],
   "source": [
    "func = lambda df2: df2.groupby(\"Group\").mean(numeric_only=True).reset_index()\n",
    "df = sigz_all_wo_frz_times_df_all\n",
    "n_iter = 10000\n",
    "\n",
    "df_list = []\n",
    "for group_name in df.Group.unique():\n",
    "    print(f\"Bootstrapping for {group_name} group\")\n",
    "    for epoch in [\"Before\", \"4hr\", \"After\"]:\n",
    "        if epoch == \"Before\":\n",
    "            df_use = df[(df.Group == group_name) & ((df.d1_d2 == \"-2_-1\") | (df.d1_d2 == \"-1_4\"))]\n",
    "        elif epoch == \"4hr\":\n",
    "            df_use = df[(df.Group == group_name) & (df.d1_d2 == \"4_1\")]\n",
    "        elif epoch == \"After\":\n",
    "            df_use = df[(df.Group == group_name) & ((df.d1_d2 == \"1_2\") | (df.d1_d2 == \"2_7\"))]\n",
    "        \n",
    "        df_boot_temp = bootstrap_resample(df_use, 100, n_jobs=7, level=[\"Mouse\", \"d1_d2\", \"covz\"], n_level=[None, 1, None], apply=func)\n",
    "        df_boot_temp[\"Epoch\"] = epoch\n",
    "        \n",
    "        df_list.append(df_boot_temp)\n",
    "\n",
    "df_boot = pd.concat(df_list, axis=0).reset_index()\n",
    "df_boot"
   ]
  }
 ],
 "metadata": {
  "kernelspec": {
   "display_name": "Python 3 (ipykernel)",
   "language": "python",
   "name": "python3"
  },
  "language_info": {
   "codemirror_mode": {
    "name": "ipython",
    "version": 3
   },
   "file_extension": ".py",
   "mimetype": "text/x-python",
   "name": "python",
   "nbconvert_exporter": "python",
   "pygments_lexer": "ipython3",
   "version": "3.9.19"
  }
 },
 "nbformat": 4,
 "nbformat_minor": 5
}
