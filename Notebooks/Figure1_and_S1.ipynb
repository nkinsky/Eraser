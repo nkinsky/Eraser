{
 "cells": [
  {
   "cell_type": "markdown",
   "id": "26447599",
   "metadata": {},
   "source": [
    "# Figure 1: Behavior and Neural Discrimination plots"
   ]
  },
  {
   "cell_type": "markdown",
   "id": "e63b3c77",
   "metadata": {},
   "source": [
    "## NRK todo:\n",
    "1) Dump Fig1 and Fig1stats in plotting.FigMirror class and use to make identical subplots for each.\n",
    "\n",
    "2) Add in another row of subplots and dump in max projections for example session + subplots for calcium activity."
   ]
  },
  {
   "cell_type": "code",
   "execution_count": 1,
   "id": "7a85d08d",
   "metadata": {},
   "outputs": [],
   "source": [
    "import scipy.stats as s\n",
    "import numpy as np\n",
    "import matplotlib.pyplot as plt\n",
    "from os import path\n",
    "import seaborn as sns\n",
    "import pandas as pd\n",
    "import sys\n",
    "from pathlib import Path\n",
    "import os\n",
    "\n",
    "# Import project specific modules and enable automatic reloading\n",
    "eraser_path = Path(os.getcwd()).parent\n",
    "reinstatement_path = eraser_path.parent / 'FearReinstatement'\n",
    "sys.path.append(str(eraser_path))\n",
    "sys.path.append(str(reinstatement_path))\n",
    "%load_ext autoreload\n",
    "%autoreload 2\n",
    "\n",
    "import eraser_reference as err\n",
    "import er_plot_functions as erp\n",
    "from plotting import Fig, pretty_plot, FigMirror\n",
    "import placefield_stability as pfs\n",
    "import Placefields as pf\n",
    "import discrimination as discr\n",
    "import ca_traces as trc"
   ]
  },
  {
   "cell_type": "code",
   "execution_count": 4,
   "id": "80935fe5",
   "metadata": {},
   "outputs": [],
   "source": [
    "# Fix for only certain xticks appearing...\n",
    "def fix_xticks(ax, days_plot = [-2, -1, 4, 1, 2, 7]):\n",
    "    days_str = [str(e) for e in days_plot]\n",
    "    plt.sca(ax)\n",
    "    plt.xticks(list(range(len(days_plot))), days_str)\n"
   ]
  },
  {
   "cell_type": "code",
   "execution_count": 5,
   "id": "cba2f40f",
   "metadata": {},
   "outputs": [
    {
     "data": {
      "image/png": "[encoded data removed]",
      "text/html": [
       "<div style=\"vertical-align: middle;\"><strong>Set2</strong> </div><div class=\"cmap\"><img alt=\"Set2 colormap\" title=\"Set2\" style=\"border: 1px solid #555;\" src=\"data:image/png;base64,iVBORw0KGgoAAAANSUhEUgAAAgAAAABACAYAAABsv8+/AAAAE3RFWHRUaXRsZQBTZXQyIGNvbG9ybWFw8Jt8/wAAABl0RVh0RGVzY3JpcHRpb24AU2V0MiBjb2xvcm1hcHsp7GcAAAAwdEVYdEF1dGhvcgBNYXRwbG90bGliIHYzLjguMiwgaHR0cHM6Ly9tYXRwbG90bGliLm9yZw8V3hIAAAAydEVYdFNvZnR3YXJlAE1hdHBsb3RsaWIgdjMuOC4yLCBodHRwczovL21hdHBsb3RsaWIub3JnIbNBNQAAAWZJREFUeJzt1qFtAgAUAFFgBQZgIzx4mjAOhg0Yg5BgSVgAX9GK2rp2C7649yY4ecuP++VvEXZ+XKcTRp3Wx+mEUfuv3+mEUbftaTph1G75mk4Y9fl9mE4Y9fzZTCeMWk0HAADvZwAAIMgAAECQAQCAIAMAAEEGAACCDAAABBkAAAgyAAAQZAAAIMgAAECQAQCAIAMAAEEGAACCDAAABBkAAAgyAAAQZAAAIMgAAECQAQCAIAMAAEEGAACCDAAABBkAAAgyAAAQZAAAIMgAAECQAQCAIAMAAEEGAACCDAAABBkAAAgyAAAQZAAAIMgAAECQAQCAIAMAAEEGAACCDAAABBkAAAgyAAAQZAAAIMgAAECQAQCAIAMAAEEGAACCDAAABBkAAAgyAAAQZAAAIMgAAECQAQCAIAMAAEEGAACCDAAABBkAAAgyAAAQZAAAIMgAAECQAQCAIAMAAEEGAACCDAAABP0Dyt0PmA+ixo4AAAAASUVORK5CYII=\"></div><div style=\"vertical-align: middle; max-width: 514px; display: flex; justify-content: space-between;\"><div style=\"float: left;\"><div title=\"#66c2a5ff\" style=\"display: inline-block; width: 1em; height: 1em; margin: 0; vertical-align: middle; border: 1px solid #555; background-color: #66c2a5ff;\"></div> under</div><div style=\"margin: 0 auto; display: inline-block;\">bad <div title=\"#00000000\" style=\"display: inline-block; width: 1em; height: 1em; margin: 0; vertical-align: middle; border: 1px solid #555; background-color: #00000000;\"></div></div><div style=\"float: right;\">over <div title=\"#b3b3b3ff\" style=\"display: inline-block; width: 1em; height: 1em; margin: 0; vertical-align: middle; border: 1px solid #555; background-color: #b3b3b3ff;\"></div></div>"
      ],
      "text/plain": [
       "<matplotlib.colors.ListedColormap at 0x10623a9d0>"
      ]
     },
     "execution_count": 5,
     "metadata": {},
     "output_type": "execute_result"
    }
   ],
   "source": [
    "plt.get_cmap('Set2')"
   ]
  },
  {
   "cell_type": "code",
   "execution_count": null,
   "id": "1c1e16f9",
   "metadata": {},
   "outputs": [],
   "source": [
    "# Set up main figure plotting\n",
    "%matplotlib ipympl\n",
    "Fig1 = Fig(num=1, grid=(4, 4), size=(8.5, 6.5), fontsize=6)\n",
    "print(Fig1.fig.get_size_inches())"
   ]
  },
  {
   "cell_type": "code",
   "execution_count": null,
   "id": "0fe972ff",
   "metadata": {},
   "outputs": [],
   "source": [
    "# Set up main figure stats companion plot and mirror it into FigMirror class\n",
    "Fig1stats = Fig(num='Figure 1 stats', grid=(4, 4), size=(8.5, 6.5), fontsize=6)\n",
    "print(Fig1stats.fig.get_size_inches())\n",
    "Fig1comb = FigMirror(Fig1, Fig1stats)"
   ]
  },
  {
   "cell_type": "code",
   "execution_count": null,
   "id": "ab46c382",
   "metadata": {},
   "outputs": [],
   "source": [
    "# Set up FigS1 and stats fig for it\n",
    "FigS1 = Fig(num=\"Figure S1\", grid=(3, 4), size=(8.5, 4.75), fontsize=6)\n",
    "print(FigS1.fig.get_size_inches())\n",
    "FigS1stats = Fig(num='Figure S1 stats', grid=(3, 4), size=(8.5, 4.75), fontsize=6)\n",
    "print(FigS1stats.fig.get_size_inches())\n",
    "FigS1comb = FigMirror(FigS1, FigS1stats)"
   ]
  },
  {
   "cell_type": "code",
   "execution_count": null,
   "id": "5bbd7949",
   "metadata": {},
   "outputs": [],
   "source": [
    "# Designate Placeholders\n",
    "aexp = Fig1.subplot(Fig1.gs[0, 0:2])\n",
    "aexp.set_title('Exp. Outline Here')\n",
    "aexp.axis('off')\n",
    "plt.draw()"
   ]
  },
  {
   "cell_type": "markdown",
   "id": "57f62198",
   "metadata": {},
   "source": [
    "## Start with behavioral plots"
   ]
  },
  {
   "cell_type": "code",
   "execution_count": null,
   "id": "61e01fc3",
   "metadata": {
    "scrolled": true
   },
   "outputs": [],
   "source": [
    "# Plot Control mice behavior - dump into supplemental.\n",
    "axc, astatsc = FigS1comb.subplot(341)\n",
    "figc, axc, fratio_cont = er.plot_all_freezing(err.control_mice_good, ax=axc, s=9, xoffset=0.1)\n",
    "axc.set_ylim([-0.025, 0.80])\n",
    "axc.set_title('Control')\n",
    "fix_xticks(axc)\n",
    "axc.set_xlabel('')\n",
    "axc.set_xticklabels('')"
   ]
  },
  {
   "cell_type": "code",
   "execution_count": null,
   "id": "497f3eae",
   "metadata": {},
   "outputs": [],
   "source": [
    "# Increase in arena-specific freezing from days -2/-1 to days 1/2 is significant for controls\n",
    "tstatc, ptc = s.ttest_ind((fratio_cont[1, 0:2, :] - fratio_cont[0, 0:2, :]).reshape(-1),\n",
    "                           (fratio_cont[1, 3:5, :] - fratio_cont[0, 3:5, :]).reshape(-1), nan_policy='omit')\n",
    "print(ptc/2)\n",
    "print(tstatc)\n",
    "\n",
    "# astatsc = Fig1stats.subplot(343)\n",
    "astatsc.text(0.1, 0.7, 'Control Mice')\n",
    "astatsc.text(0.1, 0.6, 'un-paired one-way t-test days -2/-1 to days 1/2', fontdict=None)\n",
    "astatsc.text(0.1, 0.5, f'p={ptc/2:0.3g}')\n",
    "astatsc.text(0.1, 0.4, f'tstat={tstatc:0.3g}')\n",
    "astatsc.axis('off')"
   ]
  },
  {
   "cell_type": "code",
   "execution_count": null,
   "id": "b3c6bbb4",
   "metadata": {},
   "outputs": [],
   "source": [
    "# Plot ANI mice behavior\n",
    "axa, astatsa = Fig1comb.subplot(447)\n",
    "figa, axa, fratio_ani = er.plot_all_freezing(err.ani_mice_good, ax=axa, s=9, xoffset=0.1)\n",
    "axa.set_ylim([-0.025, 0.80])\n",
    "fix_xticks(axa)\n",
    "axa.set_xlabel('')\n",
    "axa.set_xticklabels('')\n",
    "axa.set_ylabel('')\n",
    "axa.set_title('Anisomycin')"
   ]
  },
  {
   "cell_type": "code",
   "execution_count": null,
   "id": "adcc0305",
   "metadata": {
    "scrolled": true
   },
   "outputs": [],
   "source": [
    "# Non-significant increase in freezing for ANI mice from before to after (days -2/-1 to days 1/2)\n",
    "tstata, pta = s.ttest_ind((fratio_ani[1, 0:2, :] - fratio_ani[0, 0:2, :]).reshape(-1),\n",
    "                           (fratio_ani[1, 3:5, :] - fratio_ani[0, 3:5, :]).reshape(-1), nan_policy='omit')\n",
    "print(pta/2)\n",
    "print(tstata)\n",
    "\n",
    "astatsa.text(0.1, 0.7, 'ANI Mice')\n",
    "astatsa.text(0.1, 0.6, 'un-paired one-way t-test days -2/-1 to days 1/2', fontdict=None)\n",
    "astatsa.text(0.1, 0.5, f'p={pta/2:0.3g}')\n",
    "astatsa.text(0.1, 0.4, f'tstat={tstata:0.3g}')\n",
    "astatsa.axis('off')"
   ]
  },
  {
   "cell_type": "code",
   "execution_count": null,
   "id": "bd61e5eb",
   "metadata": {},
   "outputs": [],
   "source": [
    "# Calculate Discrimination Index (DI) ratios for day 1-2\n",
    "learning_cutoff = -0.35\n",
    "\n",
    "# Controls\n",
    "DI_aft = ((fratio_cont[0, 3:5, :] - fratio_cont[1, 3:5, :]).reshape(-1))/((fratio_cont[0, 3:5, :] + \n",
    "                                                                           fratio_cont[1, 3:5, :]).reshape(-1))\n",
    "# ANI - not used due to this being a poor metric if animals don't freeze a lot, only good for specifying\n",
    "# how specific a memory is in mice that actually freeze.  See next block.\n",
    "DI_aft_ani = ((fratio_ani[0, 3:5, :] - fratio_ani[1, 3:5, :]).reshape(-1))/((fratio_ani[0, 3:5, :] + \n",
    "                                                                           fratio_ani[1, 3:5, :]).reshape(-1))"
   ]
  },
  {
   "cell_type": "code",
   "execution_count": null,
   "id": "d53eb49e",
   "metadata": {},
   "outputs": [],
   "source": [
    "# Here are all the DIs for controls averaged across days 1 and 2 - note that this metric can distort things as \n",
    "# animal 3, for example, freezes very little in either arena and so is a non-learner even though he has a lower DI\n",
    "# value, while animal 1 and animal 3 freeze in both arenas and are also a non-learner.\n",
    "DI_aft.reshape(fratio_cont[1, 3:5, :].shape).mean(axis=0)"
   ]
  },
  {
   "cell_type": "code",
   "execution_count": null,
   "id": "5727df62",
   "metadata": {},
   "outputs": [],
   "source": [
    "from itertools import compress\n",
    "# Print out learners vs. non-learners\n",
    "learn_bool = DI_aft.reshape(fratio_cont[1, 3:5, :].shape).mean(axis=0) < learning_cutoff\n",
    "# learners = err.control_mice_good[learn_bool]\n",
    "learners = list(compress(err.control_mice_good, learn_bool))\n",
    "nonlearners = list(compress(err.control_mice_good, ~learn_bool))\n",
    "print('Learners')\n",
    "print(learners)\n",
    "# Check that matches what's in your code\n",
    "print(err.learners)\n",
    "\n",
    "# Note that Marble 14 can't really be designated either way since his open field behavioral data was corrupted on\n",
    "# those days. However, he would likely be a non-learner since he barely freezes in the shock arena after shock.\n",
    "print('Non-Learners')\n",
    "print(nonlearners)\n",
    "# Check that matches what's in your code\n",
    "print(err.nonlearners)"
   ]
  },
  {
   "cell_type": "code",
   "execution_count": null,
   "id": "d09ce17c",
   "metadata": {},
   "outputs": [],
   "source": [
    "# Plot non-learners and learners\n",
    "axlrn, astatslrn = Fig1comb.subplot(443)\n",
    "_, axlrn, fratio_lrn = er.plot_all_freezing(err.learners, ax=axlrn, s=9, xoffset=0.1)\n",
    "axlrn.set_title('Learners')\n",
    "axlrn.set_ylim([-0.025, 0.80])\n",
    "\n",
    "axnlrn, astatsnl = Fig1comb.subplot(444)\n",
    "_, axnlrn, fratio_nl = er.plot_all_freezing(err.nonlearners, ax=axnlrn, s=9, xoffset=0.1)\n",
    "axnlrn.set_ylim([-0.025, 0.80])\n",
    "axnlrn.set_ylabel('')\n",
    "axnlrn.set_title('Non-Learners')"
   ]
  },
  {
   "cell_type": "code",
   "execution_count": null,
   "id": "d17c945d",
   "metadata": {},
   "outputs": [],
   "source": [
    "# Highly sig freezing for Learners\n",
    "tstatlrn, ptlrn = s.ttest_ind((fratio_lrn[1, 0:2, :] - fratio_lrn[0, 0:2, :]).reshape(-1),\n",
    "                           (fratio_lrn[1, 3:5, :] - fratio_lrn[0, 3:5, :]).reshape(-1), nan_policy='omit')\n",
    "print(ptlrn)\n",
    "print(tstatlrn)\n",
    "\n",
    "astatslrn.text(0.1, 0.7, 'Learners')\n",
    "astatslrn.text(0.1, 0.6, 'un-paired one-way t-test days -2/-1 to days 1/2', fontdict=None)\n",
    "astatslrn.text(0.1, 0.5, f'p={ptlrn/2:0.3g}')\n",
    "astatslrn.text(0.1, 0.4, f'tstat={tstatlrn:0.3g}')\n",
    "astatslrn.axis('off')"
   ]
  },
  {
   "cell_type": "code",
   "execution_count": null,
   "id": "de3c3fe9",
   "metadata": {},
   "outputs": [],
   "source": [
    "# Non-sig freezing for NonLearners\n",
    "tstatnl, ptnl = s.ttest_ind((fratio_nl[1, 0:2, :] - fratio_nl[0, 0:2, :]).reshape(-1),\n",
    "                           (fratio_nl[1, 3:5, :] - fratio_nl[0, 3:5, :]).reshape(-1), nan_policy='omit')\n",
    "\n",
    "print(ptnl)\n",
    "print(tstatnl)\n",
    "\n",
    "astatsnl.text(0.1, 0.7, 'Non-Learners')\n",
    "astatsnl.text(0.1, 0.6, 'un-paired one-way t-test days -2/-1 to days 1/2', fontdict=None)\n",
    "astatsnl.text(0.1, 0.5, f'p={ptnl/2:0.3g}')\n",
    "astatsnl.text(0.1, 0.4, f'tstat={tstatnl:0.3g}')\n",
    "astatsnl.axis('off')"
   ]
  },
  {
   "cell_type": "code",
   "execution_count": null,
   "id": "6e4addab",
   "metadata": {},
   "outputs": [],
   "source": [
    "## Run stats - group of interests are Learners vs. ANI, other comparisons included for completeness.\n",
    "pval_bwgroup_1sidedt_specific = np.ones(6)*np.nan\n",
    "pval_ani_nl_1sidedt_specific = np.ones(6)*np.nan\n",
    "pval_lrn_nl_1sidedt_specific = np.ones(6)*np.nan\n",
    "pval_bwgroup_1sidedt_shockonly = np.ones(6)*np.nan # bw lrn and ani directly, no accounting for specificity\n",
    "for id in range(0, 6):\n",
    "    \n",
    "    # ANI vs Learners\n",
    "    stats, pval = s.ttest_ind(fratio_ani[1, id, :].reshape(-1) - fratio_ani[0, id, :].reshape(-1),\n",
    "                              fratio_lrn[1, id, :].reshape(-1) - fratio_lrn[0, id, :].reshape(-1),\n",
    "                              nan_policy='omit')\n",
    "    \n",
    "    # ANI vs Non-Learners\n",
    "    stats_nla, pval_nla = s.ttest_ind(fratio_ani[1, id, :].reshape(-1) - fratio_ani[0, id, :].reshape(-1),\n",
    "                              fratio_nl[1, id, :].reshape(-1) - fratio_nl[0, id, :].reshape(-1),\n",
    "                              nan_policy='omit')\n",
    "    \n",
    "    # Learners vs Non-Learners\n",
    "    stats_lrnnl, pval_lrnnl = s.ttest_ind(fratio_nl[1, id, :].reshape(-1) - fratio_nl[0, id, :].reshape(-1),\n",
    "                              fratio_lrn[1, id, :].reshape(-1) - fratio_lrn[0, id, :].reshape(-1),\n",
    "                              nan_policy='omit')\n",
    "    \n",
    "\n",
    "    statss, pvals = s.ttest_ind(fratio_ani[1, id, :], fratio_lrn[1, id, :], nan_policy='omit')\n",
    "    pval_bwgroup_1sidedt_shockonly[id] = pvals/2\n",
    "\n",
    "    # Hypothesis is that ani freezing is less than control guys relative to neutral arena\n",
    "    # So if ani guys mean freezing relative to shock is < 0 (i.e. if stats < 0), divide the pvalue by 2\n",
    "    # If it's actually larger, then test fails and p = 1-pval/2\n",
    "    if stats < 0:\n",
    "        pval_bwgroup_1sidedt_specific[id] = pval/2\n",
    "    elif stats > 0:\n",
    "        pval_bwgroup_1sidedt_specific[id] = 1 - pval/2\n",
    "        \n",
    "    if stats_nla < 0:\n",
    "        pval_ani_nl_1sidedt_specific[id] = pval_nla/2\n",
    "    elif stats_nla > 0:\n",
    "        pval_ani_nl_1sidedt_specific[id] = 1 - pval_nla/2\n",
    "       \n",
    "    if stats_lrnnl < 0:\n",
    "        pval_lrn_nl_1sidedt_specific [id] = pval_lrnnl/2\n",
    "    elif stats_lrnnl > 0:\n",
    "        pval_lrn_nl_1sidedt_specific [id] = 1 - pval_lrnnl/2\n"
   ]
  },
  {
   "cell_type": "code",
   "execution_count": null,
   "id": "a7c837bc",
   "metadata": {},
   "outputs": [],
   "source": [
    "# Add between group stats to stats figure\n",
    "abw_grp_stats = Fig1stats.subplot(Fig1stats.gs[0, 0:2])\n",
    "days = [-2, -1, 4, 1, 2, 7]\n",
    "abw_grp_stats.text(0.1, 0.8, '1-sided t-test bw groups')\n",
    "abw_grp_stats.text(0.1, 0.7, 'Learners v ANI shock arena only')\n",
    "abw_grp_stats.text(0.1, 0.6, [f'{day}: p={p:0.3g}' for day, p in zip(days, pval_bwgroup_1sidedt_shockonly)])\n",
    "\n",
    "abw_grp_stats.text(0.1, 0.5, 'ANI vs Non-learners shock-open freezing')\n",
    "abw_grp_stats.text(0.1, 0.4, [f'{day}: p={p:0.3g}' for day, p in zip(days, pval_ani_nl_1sidedt_specific)])\n",
    "\n",
    "abw_grp_stats.text(0.1, 0.3, 'Non-Learners vs. Learners')\n",
    "abw_grp_stats.text(0.1, 0.2, [f'{day}: p={p:0.3g}' for day, p in zip(days, pval_lrn_nl_1sidedt_specific)])"
   ]
  },
  {
   "cell_type": "markdown",
   "id": "ee24e573",
   "metadata": {},
   "source": [
    "## DI between arena same day vs. within arena across days relationship"
   ]
  },
  {
   "cell_type": "code",
   "execution_count": null,
   "id": "312cfc68",
   "metadata": {},
   "outputs": [],
   "source": [
    "# Get overlap ratios and DIs for all sessions days -2/-1 and days 1/2\n",
    "overlap_win_all, overlap_bw_all = [], []\n",
    "DI_win_all, DI_bw_all = [], []\n",
    "day_pairs = [[-2, -1], [1, 2]]\n",
    "for mouse in err.all_mice_good:\n",
    "    # Get turnover between arenas on days -2 and -1 and average them\n",
    "    o_bw_temp = []\n",
    "    o_win_temp = []\n",
    "    DI_bw_temp, DI_win_temp = [], []\n",
    "    for day_pair in day_pairs:\n",
    "        for day in day_pair:\n",
    "            _, _, oboth, _, _ = pfs.get_overlap(mouse, 'Open', day, 'Shock', day, batch_map=True)\n",
    "            o_bw_temp.append(oboth)\n",
    "            DIneurons = discr.get_DI_scores(mouse, 'Open', day, 'Shock', day, batch_map_use=True)\n",
    "            DI_bw_temp.append(np.mean(np.abs(DIneurons)))\n",
    "        overlap_bw_all.append(np.nanmean(o_bw_temp))\n",
    "        DI_bw_all.append(np.nanmean(DI_bw_temp))\n",
    "\n",
    "        # Get turnover within each arena from days -2 to -1 and average them\n",
    "\n",
    "        for arena in ['Shock', 'Open']:\n",
    "            _, _, oboth, _, _ = pfs.get_overlap(mouse, arena, day_pair[0], arena, day_pair[1], \n",
    "                                                                 batch_map=True)\n",
    "            o_win_temp.append(oboth)\n",
    "            DIneurons = discr.get_DI_scores(mouse, 'Open', day_pair[0], 'Shock', day_pair[1], batch_map_use=True)\n",
    "            DI_win_temp.append(np.mean(np.abs(DIneurons)))\n",
    "        overlap_win_all.append(np.nanmean(o_win_temp))\n",
    "        DI_win_all.append(np.nanmean(DI_win_temp))\n",
    "        \n",
    "ax_olap_t_v_arena, ax_olap_t_v_arena_stats = FigS1comb.subplot(345)\n",
    "ax_olap_t_v_arena.plot(overlap_win_all, overlap_bw_all, '.')\n",
    "ax_olap_t_v_arena.set_ylabel('Cell Overlap w/in arenas (1 day lag)')\n",
    "ax_olap_t_v_arena.set_xlabel('Cell Overlap b/w arenas (same day)')\n",
    "sns.despine(ax=ax_olap_t_v_arena)\n",
    "\n",
    "ax_DI_t_v_arena, ax_DI_t_v_arena_stats = Fig1comb.subplot(448)\n",
    "ax_DI_t_v_arena.plot(DI_win_all, DI_bw_all, '.')\n",
    "ax_DI_t_v_arena.set_ylabel(r\"$\\overline{|DI_{neural}|}$ Arena\")\n",
    "ax_DI_t_v_arena.set_xlabel(r\"$\\overline{|DI_{neural}|}$ Time\")\n",
    "sns.despine(ax=ax_DI_t_v_arena)\n",
    "\n",
    "# Super significant correlation with all the points\n",
    "r, p = s.stats.spearmanr(overlap_win_all, overlap_bw_all)\n",
    "print('\\033[4mSpearman Correlation (overlap ratio) \\033[0m')\n",
    "print('r = ' + str(r))\n",
    "print('p = ' + str(p))\n",
    "ax_olap_t_v_arena_stats.text(0.1, 0.9, '\\033[4mSpearman Correlation (overlap ratio) \\033[0m')\n",
    "ax_olap_t_v_arena_stats.text(0.1, 0.8, 'r = ' + str(r))\n",
    "ax_olap_t_v_arena_stats.text(0.1, 0.7, 'p = ' + str(p))\n",
    "sns.despine(ax=ax_olap_t_v_arena_stats)\n",
    "\n",
    "rdi, pdi = s.stats.spearmanr(DI_win_all, DI_bw_all)\n",
    "print('\\033[4mSpearman Correlation (DI ratio) \\033[0m')\n",
    "print('r = ' + str(rdi))\n",
    "print('p = ' + str(pdi))\n",
    "ax_DI_t_v_arena_stats.text(0.1, 0.9, '\\033[4mSpearman Correlation (DI ratio) \\033[0m')\n",
    "ax_DI_t_v_arena_stats.text(0.1, 0.8, 'r = ' + str(rdi))\n",
    "ax_DI_t_v_arena_stats.text(0.1, 0.7, 'p = ' + str(pdi))"
   ]
  },
  {
   "cell_type": "markdown",
   "id": "b8df2f8d",
   "metadata": {},
   "source": [
    "## DI ratio plots by group"
   ]
  },
  {
   "cell_type": "code",
   "execution_count": null,
   "id": "8b53b623",
   "metadata": {
    "scrolled": true
   },
   "outputs": [],
   "source": [
    "# Calculate DI ratio for all groups\n",
    "DI_lrn = (fratio_lrn[0] - fratio_lrn[1])/(fratio_lrn[0] + fratio_lrn[1])\n",
    "DI_nl = (fratio_nl[0] - fratio_nl[1])/(fratio_nl[0] + fratio_nl[1])\n",
    "DI_a = (fratio_ani[0] - fratio_ani[1])/(fratio_ani[0] + fratio_ani[1])\n",
    "\n",
    "# Dump into nice dataframe\n",
    "DI_all = []\n",
    "days_all = []\n",
    "grp_all = []\n",
    "for DI, grp in zip([DI_lrn, DI_nl, DI_a], ['Learners', 'Non-Learners', 'ANI']):\n",
    "    DI_all.extend(DI.reshape(-1))\n",
    "    grp_all.extend([grp for _ in DI.reshape(-1)])\n",
    "    days_all.extend(np.matlib.repmat(days, DI.shape[1], 1).T.reshape(-1))\n",
    "\n",
    "DIdf = pd.DataFrame({'DI': DI_all, 'Day': days_all, 'Group': grp_all})"
   ]
  },
  {
   "cell_type": "markdown",
   "id": "deb54e20",
   "metadata": {},
   "source": [
    "Make behavioral breakdown plots showing DI is different between Learners and Non-Learners/ANI"
   ]
  },
  {
   "cell_type": "code",
   "execution_count": null,
   "id": "bc82eac5",
   "metadata": {},
   "outputs": [],
   "source": [
    "axDIaft, axDIaft_stats = Fig1comb.subplot([Fig1.gs[2, 2], Fig1stats.gs[2, 2]])\n",
    "DIaft = DIdf[((DIdf['Day'] == 1) | (DIdf['Day'] == 2))]\n",
    "sns.stripplot(x='Group', y='DI', data=DIaft, ax=axDIaft, palette='Set2', size=3)\n",
    "axDIaft.set_title('After: Days 1 and 2')\n",
    "axDIaft.set_ylabel('$DI_{beh}$')"
   ]
  },
  {
   "cell_type": "markdown",
   "id": "0e2bd8d7",
   "metadata": {},
   "source": [
    "Run stats on this plot"
   ]
  },
  {
   "cell_type": "code",
   "execution_count": null,
   "id": "fe7ece85",
   "metadata": {},
   "outputs": [],
   "source": [
    "tstat_aft_ln, p_aft_ln = s.ttest_ind(DIaft[DIaft.Group == 'Learners'].DI, DIaft[DIaft.Group == 'Non-Learners'].DI)\n",
    "tstat_aft_la, p_aft_la = s.ttest_ind(DIaft[DIaft.Group == 'Learners'].DI, DIaft[DIaft.Group == 'ANI'].DI)\n",
    "tstat_aft_na, p_aft_na = s.ttest_ind(DIaft[DIaft.Group == 'Non-Learners'].DI, DIaft[DIaft.Group == 'ANI'].DI)\n",
    "\n",
    "# axDIaft_stats = Fig1stats.subplot(346)\n",
    "groups = ['L v NL', 'L v ANI', 'NL v ANI']\n",
    "axDIaft_stats.text(0.1, 0.7, '1-sided t-test DIbehavior bw groups days 1 and 2')\n",
    "ytext = 0.6\n",
    "for grp, tstat, p in zip(groups, [tstat_aft_ln, tstat_aft_la, tstat_aft_na], [p_aft_ln, p_aft_la, p_aft_na]):\n",
    "    puse = p/2 if tstat < 0 else 1 - p/2\n",
    "    axDIaft_stats.text(0.1, ytext, f'{grp}: p={puse:0.3g} w/tstat={tstat:0.3g}')\n",
    "    ytext -= 0.1"
   ]
  },
  {
   "cell_type": "markdown",
   "id": "f292b624",
   "metadata": {},
   "source": [
    "Get cell overlap between arenas for each day and dump into DI dataframe."
   ]
  },
  {
   "cell_type": "code",
   "execution_count": null,
   "id": "d9bc4735",
   "metadata": {},
   "outputs": [],
   "source": [
    "days = [-2, -1, 4, 1, 2, 7]\n",
    "mice_grp = [err.learners, err.nonlearners, err.ani_mice_good]\n",
    "overlaps_all = []\n",
    "for mice in mice_grp:\n",
    "    grp_overlaps = []\n",
    "    for mouse in mice:\n",
    "        mouse_overlaps = []\n",
    "        for day in days:\n",
    "            _, _, overlap, _, _ = pfs.get_overlap(mouse, 'Shock', day, 'Open', day)\n",
    "            mouse_overlaps.append(overlap)\n",
    "        grp_overlaps.append(mouse_overlaps)\n",
    "    overlaps_all.append(np.asarray(grp_overlaps).T)\n",
    "\n",
    "# Now build up in same way as above for consistency\n",
    "olap_list = []\n",
    "for olap, grp in zip(overlaps_all, ['Learners', 'Non-Learners', 'ANI']):\n",
    "    olap_list.extend(olap.reshape(-1))\n",
    "DIdf.insert(2, 'Cell Overlap', olap_list)"
   ]
  },
  {
   "cell_type": "code",
   "execution_count": null,
   "id": "db8b0fbf",
   "metadata": {},
   "outputs": [],
   "source": [
    "# Calculate neural discrimination index\n",
    "\n",
    "days = [-2, -1, 4, 1, 2, 7]\n",
    "mice_grp = [err.learners, err.nonlearners, err.ani_mice_good]\n",
    "discr_all = []\n",
    "for mice in mice_grp:\n",
    "    grp_discr = []\n",
    "    for mouse in mice:\n",
    "        mouse_discr = []\n",
    "        for day in days:\n",
    "            DIneurons = discr.get_DI_scores(mouse, 'Open', day, 'Shock', day)\n",
    "            mouse_discr.append(np.mean(np.abs(DIneurons)))\n",
    "        grp_discr.append(mouse_discr)\n",
    "    discr_all.append(np.asarray(grp_discr).T)\n",
    "\n",
    "# Now build up in same way as above for consistency\n",
    "DImean_list = []\n",
    "for DImean, grp in zip(discr_all, ['Learners', 'Non-Learners', 'ANI']):\n",
    "    DImean_list.extend(DImean.reshape(-1))\n",
    "DIdf.insert(3, '|DI|mean', DImean_list)"
   ]
  },
  {
   "cell_type": "code",
   "execution_count": null,
   "id": "ab706cd7",
   "metadata": {},
   "outputs": [],
   "source": [
    "DIdf"
   ]
  },
  {
   "cell_type": "markdown",
   "id": "6c73c3ca",
   "metadata": {},
   "source": [
    "Plot DIneuron by group BEFORE shock"
   ]
  },
  {
   "cell_type": "code",
   "execution_count": null,
   "id": "b251393d",
   "metadata": {},
   "outputs": [],
   "source": [
    "axDIbef, axDIbef_stats = Fig1comb.subplot([Fig1.gs[2, 3], Fig1stats.gs[2, 3]])\n",
    "DIbef = DIdf[((DIdf['Day'] == -2) | (DIdf['Day'] == -1))]\n",
    "sns.stripplot(x='Group', y='|DI|mean', data=DIbef, ax=axDIbef, palette='Set2', size=3)\n",
    "fix_xticks(axDIbef,['Learners', 'Non-Learners', 'ANI'])\n",
    "axDIbef.set_title('Before: Days -2 and -1')\n",
    "axDIbef.set_ylabel(r\"$\\overline{|DI_{neural}|}$\")"
   ]
  },
  {
   "cell_type": "code",
   "execution_count": null,
   "id": "24039306",
   "metadata": {},
   "outputs": [],
   "source": [
    "# axDIbef_stats = Fig1stats.subplot(Fig1stats.gs[2, 1])\n",
    "statb_ln, pb_ln = s.ttest_ind(DIbef[DIbef.Group == 'Non-Learners']['|DI|mean'], \n",
    "                              DIbef[DIbef.Group == 'Learners']['|DI|mean'])\n",
    "statb_an, pb_an = s.ttest_ind(DIbef[DIbef.Group == 'ANI']['|DI|mean'], \n",
    "                              DIbef[DIbef.Group == 'Non-Learners']['|DI|mean'])\n",
    "statb_la, pb_la = s.ttest_ind(DIbef[DIbef.Group == 'ANI']['|DI|mean'],\n",
    "                              DIbef[DIbef.Group == 'Learners']['|DI|mean'])\n",
    "\n",
    "axDIbef_stats.text(0.1, 0.8, 'two-sided t-test abs(DIneural)_mean BEFORE shock days')\n",
    "axDIbef_stats.text(0.1, 0.7, f'NL vs. L p={pb_ln:0.3g} w/tstat={statb_ln:0.3g}')\n",
    "axDIbef_stats.text(0.1, 0.6, f'NL vs. ANI p={pb_an:0.3g} w/tstat={statb_an:0.3g}')\n",
    "axDIbef_stats.text(0.1, 0.5, f'ANI vs. L p={pb_la:0.3g} w/tstat={statb_la:0.3g}')\n",
    "print(pb_ln)\n",
    "print(pb_an)\n",
    "print(pb_la)"
   ]
  },
  {
   "cell_type": "markdown",
   "id": "1989949a",
   "metadata": {},
   "source": [
    "Plot DIneural v DIbehavior for AFTER sessions."
   ]
  },
  {
   "cell_type": "code",
   "execution_count": null,
   "id": "bcabd350",
   "metadata": {},
   "outputs": [],
   "source": [
    "axDIvDI, axDIvDIstats = Fig1comb.subplot([Fig1.gs[3, 2], Fig1stats.gs[3, 2]])\n",
    "DIaft = DIdf[((DIdf['Day'] == 1) | (DIdf['Day'] == 2) | (DIdf['Day'] == 7))]\n",
    "sns.scatterplot(x='DI', y='|DI|mean', data=DIaft[DIaft.Group != 'ANI'], hue='Group', ax=axDIvDI,\n",
    "                size=2, palette='Set2', legend=False)\n",
    "axDIvDI.set_xlabel(r\"$DI_{beh}$\")\n",
    "axDIvDI.set_ylabel(r\"$\\overline{|DI_{neural}|}$\")"
   ]
  },
  {
   "cell_type": "markdown",
   "id": "f2606071",
   "metadata": {},
   "source": [
    "Get Stats and plot regression lines over actual plot"
   ]
  },
  {
   "cell_type": "code",
   "execution_count": null,
   "id": "37294395",
   "metadata": {},
   "outputs": [],
   "source": [
    "# axDIvDIstats = Fig1stats.subplot(Fig1stats.gs[2, 2])\n",
    "cmap_use = plt.get_cmap('Set2')\n",
    "\n",
    "# Learners\n",
    "corr_lrn, p_corr_lrn = s.spearmanr(DIaft[DIaft.Group == 'Learners']['DI'], \n",
    "                                   DIaft[DIaft.Group == 'Learners']['|DI|mean'])\n",
    "lrn_lreg = s.linregress(DIaft[DIaft.Group == 'Learners']['DI'], DIaft[DIaft.Group == 'Learners']['|DI|mean'])\n",
    "lrn_range = np.array([np.min(DIaft[DIaft.Group == 'Learners']['DI']), \n",
    "                      np.max(DIaft[DIaft.Group == 'Learners']['DI'])])\n",
    "axDIvDI.plot(lrn_range, lrn_range*lrn_lreg.slope + lrn_lreg.intercept, linestyle='-', color=cmap_use.colors[0])\n",
    "axDIvDIstats.text(0.1, 0.7, 'Spearman rho for DIneural vs DIbeh')\n",
    "axDIvDIstats.text(0.1, 0.6, f'Learners rho={corr_lrn:0.3g}, pval={p_corr_lrn:0.3g}')\n",
    "\n",
    "# Non-Learners             \n",
    "corr_nl, p_corr_nl = s.spearmanr(DIaft[DIaft.Group == 'Non-Learners']['DI'], \n",
    "                                   DIaft[DIaft.Group == 'Non-Learners']['|DI|mean'], nan_policy='omit')\n",
    "df_aftnl = DIaft[DIaft.Group == 'Non-Learners'][~DIaft[DIaft.Group == 'Non-Learners']['DI'].isna()]  # Remove nan\n",
    "nl_lreg = s.linregress(df_aftnl['DI'], df_aftnl['|DI|mean'])\n",
    "nl_range = np.array([np.min(df_aftnl['DI']), np.max(df_aftnl['DI'])])\n",
    "axDIvDI.plot(nl_range, nl_range*nl_lreg.slope + nl_lreg.intercept, linestyle='-', color=cmap_use.colors[1])\n",
    "axDIvDIstats.text(0.1, 0.5, f'Non-Learners rho={corr_nl:0.3g}, pval={p_corr_nl:0.3g}')\n",
    "\n",
    "print(p_corr_lrn)\n",
    "print(p_corr_nl)"
   ]
  },
  {
   "cell_type": "code",
   "execution_count": null,
   "id": "82e05feb",
   "metadata": {},
   "outputs": [],
   "source": [
    "axolapvDI, axolapvDIstats = Fig1comb.subplot([Fig1.gs[3, 3], Fig1stats.gs[3, 3]])\n",
    "DIaft = DIdf[((DIdf['Day'] == 1) | (DIdf['Day'] == 2) | (DIdf['Day'] == 7))]\n",
    "sns.scatterplot(x='DI', y='Cell Overlap', data=DIaft[DIaft.Group != 'ANI'], hue='Group', ax=axolapvDI, \n",
    "                palette='Set2', size=1, legend=False)\n",
    "axolapvDI.set_xlabel(r\"$DI_{beh}$\")\n",
    "axolapvDI.set_ylabel(\"Overlap Ratio b/w arenas\")"
   ]
  },
  {
   "cell_type": "code",
   "execution_count": null,
   "id": "3c8e6d26",
   "metadata": {
    "scrolled": true
   },
   "outputs": [],
   "source": [
    "# Stats for overlap v DI\n",
    "# axolapvDIstats = Fig1stats.subplot(Fig1stats.gs[2, 3])\n",
    "\n",
    "# Learners\n",
    "olap_corr_lrn, p_olap_corr_lrn = s.spearmanr(DIaft[DIaft.Group == 'Learners']['DI'], \n",
    "                                   DIaft[DIaft.Group == 'Learners']['Cell Overlap'])\n",
    "lrn_olap_lreg = s.linregress(DIaft[DIaft.Group == 'Learners']['DI'], DIaft[DIaft.Group == 'Learners']['Cell Overlap'])\n",
    "lrn_olap_range = np.array([np.min(DIaft[DIaft.Group == 'Learners']['DI']), \n",
    "                      np.max(DIaft[DIaft.Group == 'Learners']['DI'])])\n",
    "axolapvDI.plot(lrn_olap_range, lrn_olap_range*lrn_olap_lreg.slope + lrn_olap_lreg.intercept, \n",
    "               linestyle='-', color=cmap_use.colors[0])\n",
    "axolapvDIstats.text(0.1, 0.7, 'Spearman rho for olap vs DIbeh')\n",
    "axolapvDIstats.text(0.1, 0.6, f'Learners rho={olap_corr_lrn:0.3g}, pval={p_olap_corr_lrn:0.3g}')\n",
    "\n",
    "# Non-Learners\n",
    "df_aftnl = DIaft[DIaft.Group == 'Non-Learners'][~DIaft[DIaft.Group == 'Non-Learners']['DI'].isna()]  # Remove nan\n",
    "olap_corr_nl, p_olap_corr_nl = s.spearmanr(df_aftnl['DI'], df_aftnl['Cell Overlap'], nan_policy='omit')\n",
    "nl_olap_lreg = s.linregress(df_aftnl['DI'], df_aftnl['Cell Overlap'])\n",
    "nl_olap_range = np.array([np.min(df_aftnl['DI']), np.max(df_aftnl['DI'])])\n",
    "axolapvDI.plot(nl_olap_range, nl_olap_range*nl_olap_lreg.slope + nl_olap_lreg.intercept, \n",
    "               linestyle='-', color=cmap_use.colors[1])\n",
    "axolapvDIstats.text(0.1, 0.5, f'Non-Learners rho={olap_corr_nl:0.3g}, pval={p_olap_corr_nl:0.3g}')\n",
    "\n",
    "print(olap_corr_lrn)\n",
    "print(p_olap_corr_lrn)\n",
    "print(olap_corr_nl)\n",
    "print(p_olap_corr_nl)"
   ]
  },
  {
   "cell_type": "markdown",
   "id": "afef2db8",
   "metadata": {},
   "source": [
    "### Finally generate some example traces of on/off neurons and highly discriminative neurons"
   ]
  },
  {
   "cell_type": "code",
   "execution_count": null,
   "id": "6db6a8ae",
   "metadata": {},
   "outputs": [],
   "source": [
    "import scipy.io as sio\n",
    "traces = []\n",
    "for arena in ['Open', 'Shock']:\n",
    "    dir_use = pf.get_dir('Marble11', arena, -1)\n",
    "    im_data_file = path.join(dir_use, 'FinalOutput.mat')\n",
    "    im_data = sio.loadmat(im_data_file)\n",
    "    traces.append(im_data['NeuronTraces'])\n",
    "\n",
    "traces_o = traces[0][0,0].squeeze()[0]\n",
    "traces_s = traces[1][0,0].squeeze()[0]"
   ]
  },
  {
   "cell_type": "markdown",
   "id": "92111b37",
   "metadata": {},
   "source": [
    "For notebook only - as a reference to make sure sorting is working properly (it is!)"
   ]
  },
  {
   "cell_type": "code",
   "execution_count": null,
   "id": "ad0e128f",
   "metadata": {},
   "outputs": [],
   "source": [
    "_, axtest = plt.subplots(1, 2)\n",
    "day = -1\n",
    "\n",
    "# Import calcium activity\n",
    "traces_o, psa_o = trc.load_traces('Marble11', 'Open', day, psa=True)\n",
    "traces_s, psa_s = trc.load_traces('Marble11', 'Shock', day, psa=True)\n",
    "neuron_map = pfs.get_neuronmap('Marble11', 'Open', day, 'Shock', day)\n",
    "\n",
    "# Keep only neurons active in both sessions\n",
    "neuron_map_base = np.where(neuron_map >= 0)\n",
    "neuron_map_reg = neuron_map[neuron_map >= 0]\n",
    "psa_o2 = psa_o[neuron_map_base]\n",
    "psa_s2 = psa_s[neuron_map_reg]\n",
    "traces_o2 = traces_o[neuron_map_base]\n",
    "traces_s2 = traces_s[neuron_map_reg]\n",
    "\n",
    "# Calculate and sort by DI\n",
    "DIneuron = discr.get_DI_scores('Marble11', 'Open', day, 'Shock', day)\n",
    "iDI = np.argsort(DIneuron)\n",
    "\n",
    "# Plot each\n",
    "sns.heatmap(psa_o2[iDI], ax=axtest[0])\n",
    "sns.heatmap(psa_s2[iDI], ax=axtest[1])"
   ]
  },
  {
   "cell_type": "markdown",
   "id": "d95912e6",
   "metadata": {},
   "source": [
    "Plot traces of neurons highly active in one arena vs the other."
   ]
  },
  {
   "cell_type": "code",
   "execution_count": null,
   "id": "45343491",
   "metadata": {},
   "outputs": [],
   "source": [
    "ax00 = Fig1.subplot(Fig1.gs[2, 0])\n",
    "ax01 = Fig1.subplot(Fig1.gs[2, 1])\n",
    "ax10 = Fig1.subplot(Fig1.gs[3, 0])\n",
    "ax11 = Fig1.subplot(Fig1.gs[3, 1])\n",
    "\n",
    "# This will need to go into 4 separate sub-plots. Trying to cram this into one subplot looks terrible.\n",
    "# subfig = Fig1.add_subfigure(Fig1.gs[1:, 0])\n",
    "# axtest = subfig.subplots(2, 2)\n",
    "\n",
    "plt.rcParams['lines.linewidth'] = 0.5\n",
    "trc.plot_traces(traces_o2[iDI][0:6], psabool=psa_o2[iDI][0:6], normalize_traces=True, SR=20, ax=ax00)\n",
    "ax00.set_title('Neutral Arena')\n",
    "for a in [ax00, ax01]:\n",
    "    sns.despine(ax=a, bottom=True)\n",
    "    a.axes.xaxis.set_visible(False)\n",
    "trc.plot_traces(traces_s2[iDI][0:6], psabool=psa_s2[iDI][0:6], normalize_traces=True, SR=20, ax=ax01)\n",
    "ax01.set_title('Shock Arena')\n",
    "trc.plot_traces(traces_o2[iDI][-6:], psabool=psa_o2[iDI][-6:], normalize_traces=True, SR=20, ax=ax10)\n",
    "trc.plot_traces(traces_s2[iDI][-6:], psabool=psa_s2[iDI][-6:], normalize_traces=True, SR=20, ax=ax11)\n",
    "for a in [ax01, ax11]:\n",
    "    sns.despine(ax=a, left=True)\n",
    "    a.axes.yaxis.set_visible(False)\n",
    "sns.despine(ax=ax01, bottom=True, left=True)\n",
    "\n",
    "ax00.set_ylabel('Shock preferring \\n dF/F (au)')\n",
    "ax10.set_ylabel('Neutral preferring \\n dF/F (au)')"
   ]
  },
  {
   "cell_type": "markdown",
   "id": "5862b711",
   "metadata": {},
   "source": [
    "Last, plot neuron outlines active in one arena versus the other."
   ]
  },
  {
   "cell_type": "code",
   "execution_count": null,
   "id": "3da74585",
   "metadata": {},
   "outputs": [],
   "source": [
    "# Learner example - Marble24\n",
    "axroi_lrn = Fig1.subplot(445)\n",
    "trc.plot_ROIs_bw_sessions('Marble24', 'Open', -1, 'Shock', -1, ax=axroi_lrn)\n",
    "axroi_lrn.set_title('Learner')\n",
    "\n",
    "# Non-Learner example - Marble29\n",
    "axroi_nl = Fig1.subplot(446)\n",
    "trc.plot_ROIs_bw_sessions('Marble29', 'Open', -2, 'Shock', -2, ax=axroi_nl)\n",
    "axroi_nl.set_title('Non-Learner')"
   ]
  },
  {
   "cell_type": "markdown",
   "id": "c20eab25",
   "metadata": {},
   "source": [
    "## Misc supplemental plots here"
   ]
  },
  {
   "cell_type": "code",
   "execution_count": null,
   "id": "88547d01",
   "metadata": {},
   "outputs": [],
   "source": [
    "# ANI DI ratios - Plot into supplemental\n",
    "ahista = FigS1.subplot(344)\n",
    "DI_aft_ani = ((fratio_ani[0, 3:5, :] - fratio_ani[1, 3:5, :]).reshape(-1))/((fratio_ani[0, 3:5, :] + \n",
    "                                                                           fratio_ani[1, 3:5, :]).reshape(-1))\n",
    "\n",
    "ahista.hist(DI_aft_ani, histtype='step')\n",
    "ahista.set_title('ANI: After')\n",
    "ahista.set_xlabel('$DI_{beh}$')"
   ]
  },
  {
   "cell_type": "code",
   "execution_count": null,
   "id": "b085df9e",
   "metadata": {},
   "outputs": [],
   "source": [
    "# Supplemental to anticipate reviewer question: \n",
    "# Exclude Marble29 who is freezing a bunch before even being shocked in shock arena\n",
    "ax29, ax29stats = FigS1comb.subplot(342)\n",
    "figcn29, axcn29, fratio_contn29 = er.plot_all_freezing(err.control_mice_good[0:-1], ax=ax29, s=9, xoffset=0.1)\n",
    "axcn29.set_ylim([-0.025, 0.80])\n",
    "axcn29.set_title('Control - No Marble29')\n",
    "fix_xticks(axcn29)"
   ]
  },
  {
   "cell_type": "code",
   "execution_count": null,
   "id": "a21e3ff8",
   "metadata": {},
   "outputs": [],
   "source": [
    "# Increase in arena-specific freezing from days -2/-1 to days 1/2 is significant for controls\n",
    "tstat_no29, pt_no29 = s.ttest_ind((fratio_contn29[1, 0:2, :] - fratio_contn29[0, 0:2, :]).reshape(-1),\n",
    "                           (fratio_contn29[1, 3:5, :] - fratio_contn29[0, 3:5, :]).reshape(-1), nan_policy='omit')\n",
    "print(pt_no29/2)\n",
    "print(tstat_no29)\n",
    "\n",
    "ax29stats = FigS1stats.subplot(342)\n",
    "ax29stats.text(0.1, 0.7, 'Control Mice - No Marble 29')\n",
    "ax29stats.text(0.1, 0.6, 'un-paired one-way t-test days -2/-1 to days 1/2', fontdict=None)\n",
    "ax29stats.text(0.1, 0.5, f'p={pt_no29/2:0.3g}')\n",
    "ax29stats.text(0.1, 0.4, f'tstat={tstat_no29:0.3g}')\n",
    "ax29stats.axis('off')"
   ]
  },
  {
   "cell_type": "code",
   "execution_count": null,
   "id": "60362ac2",
   "metadata": {},
   "outputs": [],
   "source": [
    "# Plot Discrimination Index (DI) ratios for day 1-2 for control mice\n",
    "learning_cutoff = -0.35\n",
    "\n",
    "# Controls\n",
    "DI_aft = ((fratio_cont[0, 3:5, :] - fratio_cont[1, 3:5, :]).reshape(-1))/((fratio_cont[0, 3:5, :] + \n",
    "                                                                           fratio_cont[1, 3:5, :]).reshape(-1))\n",
    "# subfighist = Fig1.fig.add_subfigure(Fig1.gs[1, 0])\n",
    "# ahist = subfighist.subplots(1, 2, sharey=True)\n",
    "ahist = FigS1.subplot(343)\n",
    "_, bins, cbar = ahist.hist(DI_aft, 6)\n",
    "ahist.set_ylabel('Count')\n",
    "ahist.set_xlabel('$DI_{beh}$')\n",
    "ahist.axvline(learning_cutoff, linestyle='--', color='k')\n",
    "\n",
    "# ANI - not used due to this being a poor metric if animals don't freeze a lot, only good for specifying\n",
    "# how specific a memory is in mice that actually freeze.  See next block.\n",
    "DI_aft_ani = ((fratio_ani[0, 3:5, :] - fratio_ani[1, 3:5, :]).reshape(-1))/((fratio_ani[0, 3:5, :] + \n",
    "                                                                           fratio_ani[1, 3:5, :]).reshape(-1))"
   ]
  },
  {
   "cell_type": "markdown",
   "id": "0e52a87a-d7ab-4882-ac29-629a4b54f1d5",
   "metadata": {},
   "source": [
    "## Is freezing in shock box correlated with freezing in the control box?"
   ]
  },
  {
   "cell_type": "code",
   "execution_count": 6,
   "id": "eda1ee3d-91df-4866-b1b6-eb89eb63a0a8",
   "metadata": {},
   "outputs": [
    {
     "name": "stdout",
     "output_type": "stream",
     "text": [
      "/Users/nkinsky/Documents/BU/Working/Eraser/Control Group/Marble6/20180421_1_openfield: nbadpts = 63 max_in_a_row = 38\n",
      "['Unknown file missing and/or IndexError for Marble06 Open 7']\n",
      "Freezing left as NaN for this session\n",
      "['Unknown file missing and/or IndexError for Marble06 Shock 7']\n",
      "Freezing left as NaN for this session\n",
      "['Unknown file missing and/or IndexError for Marble14 Open 4']\n",
      "Freezing left as NaN for this session\n",
      "['Unknown file missing and/or IndexError for Marble14 Open 1']\n",
      "Freezing left as NaN for this session\n",
      "/Users/nkinsky/Documents/BU/Working/Eraser/Control Group/Marble14_10Hz/20180818_1_openfield: nbadpts = 488 max_in_a_row = 82\n",
      "['Unknown file missing and/or IndexError for Marble14 Open 7']\n",
      "Freezing left as NaN for this session\n",
      "/Users/nkinsky/Documents/BU/Working/Eraser/Control Group/Marble24/20181126_1_openfield: nbadpts = 18 max_in_a_row = 3\n",
      "/Users/nkinsky/Documents/BU/Working/Eraser/Control Group/Marble24/20181127_1_openfield: nbadpts = 10 max_in_a_row = 4\n"
     ]
    },
    {
     "data": {
      "text/html": [
       "<div>\n",
       "<style scoped>\n",
       "    .dataframe tbody tr th:only-of-type {\n",
       "        vertical-align: middle;\n",
       "    }\n",
       "\n",
       "    .dataframe tbody tr th {\n",
       "        vertical-align: top;\n",
       "    }\n",
       "\n",
       "    .dataframe thead th {\n",
       "        text-align: right;\n",
       "    }\n",
       "</style>\n",
       "<table border=\"1\" class=\"dataframe\">\n",
       "  <thead>\n",
       "    <tr style=\"text-align: right;\">\n",
       "      <th></th>\n",
       "      <th>Mouse</th>\n",
       "      <th>Day</th>\n",
       "      <th>Open</th>\n",
       "      <th>Shock</th>\n",
       "    </tr>\n",
       "  </thead>\n",
       "  <tbody>\n",
       "    <tr>\n",
       "      <th>30</th>\n",
       "      <td>Marble24</td>\n",
       "      <td>-2</td>\n",
       "      <td>0.050728</td>\n",
       "      <td>0.075690</td>\n",
       "    </tr>\n",
       "    <tr>\n",
       "      <th>6</th>\n",
       "      <td>Marble07</td>\n",
       "      <td>-2</td>\n",
       "      <td>0.088444</td>\n",
       "      <td>0.067231</td>\n",
       "    </tr>\n",
       "    <tr>\n",
       "      <th>47</th>\n",
       "      <td>Marble29</td>\n",
       "      <td>7</td>\n",
       "      <td>0.431760</td>\n",
       "      <td>0.793856</td>\n",
       "    </tr>\n",
       "    <tr>\n",
       "      <th>10</th>\n",
       "      <td>Marble07</td>\n",
       "      <td>2</td>\n",
       "      <td>0.282493</td>\n",
       "      <td>0.501336</td>\n",
       "    </tr>\n",
       "    <tr>\n",
       "      <th>25</th>\n",
       "      <td>Marble14</td>\n",
       "      <td>-1</td>\n",
       "      <td>0.006623</td>\n",
       "      <td>0.067231</td>\n",
       "    </tr>\n",
       "  </tbody>\n",
       "</table>\n",
       "</div>"
      ],
      "text/plain": [
       "       Mouse  Day      Open     Shock\n",
       "30  Marble24   -2  0.050728  0.075690\n",
       "6   Marble07   -2  0.088444  0.067231\n",
       "47  Marble29    7  0.431760  0.793856\n",
       "10  Marble07    2  0.282493  0.501336\n",
       "25  Marble14   -1  0.006623  0.067231"
      ]
     },
     "execution_count": 6,
     "metadata": {},
     "output_type": "execute_result"
    }
   ],
   "source": [
    "err.control_mice_good\n",
    "days = [-2, -1, 4, 1, 2, 7]\n",
    "df_list = []\n",
    "for mouse in err.control_mice_good:\n",
    "    fratios = erp.get_all_freezing(mouse, day_des=days, arenas=[\"Open\", \"Shock\"])\n",
    "    df = pd.DataFrame({\"Mouse\": mouse, \"Day\": days, \"Open\": fratios[0, :], \"Shock\": fratios[1, :]})\n",
    "    # df_list.append(df.melt(id_vars=[\"Mouse\", \"Day\"], value_vars=[\"Open\", \"Shock\"], var_name=\"Arena\", value_name=\"Frz Ratio\"))\n",
    "    df_list.append(df)\n",
    "df_frz = pd.concat(df_list).reset_index().drop(columns=\"index\")\n",
    "df_frz = df_frz[~np.isnan(df_frz.Open)]  # Exclude animals with missing data from EITHER arena\n",
    "df_frz.sample(5)"
   ]
  },
  {
   "cell_type": "code",
   "execution_count": 8,
   "id": "fd59f377-be67-4916-86d0-951d0585cb6e",
   "metadata": {},
   "outputs": [],
   "source": [
    "# Make animal markert plot consistently\n",
    "df_frz[\"Mouse\"] = pd.Categorical(df_frz[\"Mouse\"], df_frz[\"Mouse\"].unique())"
   ]
  },
  {
   "cell_type": "code",
   "execution_count": 9,
   "id": "8c04d6dd-fc9b-482a-8476-d2367aca8e4a",
   "metadata": {},
   "outputs": [
    {
     "data": {
      "image/png": "[encoded data removed]",
      "text/plain": [
       "<Figure size 800x500 with 6 Axes>"
      ]
     },
     "metadata": {},
     "output_type": "display_data"
    }
   ],
   "source": [
    "fig, ax = plt.subplots(2, 3, figsize=(8,5), tight_layout=True)\n",
    "# sns.set(font_scale=1)\n",
    "for day, a in zip(days, ax.reshape(-1)):\n",
    "    df_day = df_frz[df_frz.Day == day]\n",
    "    sns.scatterplot(data=df_day, x=\"Open\", y=\"Shock\", style=\"Mouse\", hue=\"Mouse\", ax=a, legend=False)\n",
    "    a.set_xlabel(\"Neutral Arena Frz. Ratio\")\n",
    "    a.set_ylabel(\"Shock Arena Frz. Ratio\")\n",
    "    # a.set_xticklabels(a.get_xticklabels(), fontsize=10)\n",
    "\n",
    "    # Run stats\n",
    "    df_good = df_day[~np.isnan(df_day.Open)]\n",
    "    res = s.linregress(df_good.Open, df_good.Shock)\n",
    "    day_str = \" \".join([\"Day\", str(day)]) if day != 4 else \"4 hour\"\n",
    "    a.set_title(f\"{day_str}\\nr={res.rvalue:.3g}, p={res.pvalue:.3g}\")\n",
    "    \n",
    "sns.despine(fig=fig)"
   ]
  },
  {
   "cell_type": "code",
   "execution_count": null,
   "id": "305460d9-95a9-4c83-a539-f3f1caa256d0",
   "metadata": {},
   "outputs": [],
   "source": [
    "# NRK try the below but with some other stuff\n",
    "# figx, axc = plt.subplots(2, 2, figsize=(8, 6))\n",
    "# for a, a2, arena in zip(axc[0], axc[1], [\"Open\", \"Shock\"]):\n",
    "#     sns.scatterplot(data=df_frz2[df_frz2.Arena == arena], x=\"Day\", y=\"Frz Ratio\", hue=\"Mouse\", style=\"Mouse\", legend=False, ax=a)\n",
    "#     sns.stripplot(data=df_frz2[df_frz2.Arena == arena], x=\"Day\", y=\"Frz Ratio\", hue=\"Mouse\", legend=False, ax=a2)"
   ]
  },
  {
   "cell_type": "code",
   "execution_count": null,
   "id": "f58f3f15-1480-4590-80b7-818510711ab6",
   "metadata": {},
   "outputs": [],
   "source": [
    "def fix_xlabels(axbad, session_names=True, rotate=False):\n",
    "    if session_names:\n",
    "        axbad.set_xticks(axbad.get_xticks())\n",
    "        axbad.set_xticklabels([f\"Day {_.get_text()}\" if _.get_text() != '4' else \"4 Hour\" for _ in axc.get_xticklabels()], ha=\"right\")\n",
    "    if rotate:\n",
    "        axbad.tick_params(axis=\"x\", labelrotation=30)\n",
    "    axbad.set_xlabel('Session')"
   ]
  },
  {
   "cell_type": "code",
   "execution_count": null,
   "id": "cd5d9fd6-8964-477c-b957-b2d225d21f7c",
   "metadata": {},
   "outputs": [],
   "source": [
    "%matplotlib ipympl\n",
    "FigR1 = Fig(num=\"Reviewer1\", grid=(4, 4), size=(8.5, 6.5), fontsize=6)\n",
    "print(FigR1.fig.get_size_inches())"
   ]
  },
  {
   "cell_type": "code",
   "execution_count": null,
   "id": "bd58fd5b-b276-4ea2-80ec-c6235c6670e4",
   "metadata": {},
   "outputs": [],
   "source": [
    "# figcc, axcc = plt.subplots(1, 3, figsize=(12, 3.5), tight_layout=True)\n",
    "from plotting import fix_open_legend\n",
    "aall = FigR1.subplot(441)\n",
    "alrn = FigR1.subplot(442)\n",
    "anl = FigR1.subplot(443)\n",
    "figxx, axcc = FigR1.fig, [aall, alrn, anl]\n",
    "\n",
    "axc = axcc[0]\n",
    "sns.stripplot(data=df_frz2, x='Day', y ='Frz Ratio', hue=\"Arena\", dodge=True, size=4, linewidth=0.4, edgecolor='w', ax=axc)\n",
    "\n",
    "for idd, day in enumerate(days):\n",
    "    for (x0, y0), (x1, y1) in zip(axc.collections[idd*2].get_offsets(), axc.collections[idd*2+1].get_offsets()):\n",
    "        axc.plot([x0, x1], [y0, y1], ls='--', color='black')\n",
    "axc.set_title(\"All Control Mice\")\n",
    "\n",
    "for axc, grp in zip(axcc[1:], [\"Learner\", \"Non-Learner\"]):\n",
    "    df_use = df_frz2[df_frz2.Group == grp]\n",
    "    sns.stripplot(data=df_use, x='Day', y ='Frz Ratio', hue=\"Arena\", dodge=True, size=4, linewidth=0.4, edgecolor='w', ax=axc)\n",
    "\n",
    "    for idd, day in enumerate(days):\n",
    "        for (x0, y0), (x1, y1) in zip(axc.collections[idd*2].get_offsets(), axc.collections[idd*2+1].get_offsets()):\n",
    "            axc.plot([x0, x1], [y0, y1], ls='--', color='black')\n",
    "    axc.set_title(f\"{grp}s\")\n",
    "\n",
    "[fix_xlabels(axc, rotate=30) for axc in axcc];\n",
    "\n",
    "sns.despine(fig=figcc)\n",
    "fix_open_legend(axcc)\n",
    "FigR1.fig"
   ]
  },
  {
   "cell_type": "markdown",
   "id": "4563b812-ba4f-4309-a34a-e57aa058f079",
   "metadata": {},
   "source": [
    "## Save Figures"
   ]
  },
  {
   "cell_type": "code",
   "execution_count": null,
   "id": "27218d69",
   "metadata": {},
   "outputs": [],
   "source": [
    "Fig1.savefig(Path('/Users/nkinsky/Documents/BU/Working/Eraser/plots/Fig1'), scriptname='Figure1Notebook')"
   ]
  },
  {
   "cell_type": "code",
   "execution_count": null,
   "id": "72b7b34e",
   "metadata": {},
   "outputs": [],
   "source": [
    "Fig1stats.savefig(Path('/Users/nkinsky/Documents/BU/Working/Eraser/plots/Fig1stats'), scriptname='Figure1Notebook')"
   ]
  },
  {
   "cell_type": "code",
   "execution_count": null,
   "id": "ec8406d5",
   "metadata": {},
   "outputs": [],
   "source": [
    "FigS1.savefig(Path('/Users/nkinsky/Documents/BU/Working/Eraser/plots/FigS1'), scriptname='Figure1Notebook')"
   ]
  },
  {
   "cell_type": "code",
   "execution_count": null,
   "id": "8f2c572b",
   "metadata": {},
   "outputs": [],
   "source": [
    "FigS1stats.savefig(Path('/Users/nkinsky/Documents/BU/Working/Eraser/plots/FigS1stats'), scriptname='Figure1Notebook')\n"
   ]
  },
  {
   "cell_type": "code",
   "execution_count": null,
   "id": "d6331a1e-70d6-4c4f-bbb9-8830b783b28b",
   "metadata": {},
   "outputs": [],
   "source": []
  },
  {
   "cell_type": "code",
   "execution_count": null,
   "id": "74d785a4-4f25-4790-912c-62f002034aeb",
   "metadata": {},
   "outputs": [],
   "source": [
    "FigR1.savefig('FigR1_generalized_freezing', scriptname='Figure1Notebook')"
   ]
  }
 ],
 "metadata": {
  "kernelspec": {
   "display_name": "Python 3 (ipykernel)",
   "language": "python",
   "name": "python3"
  },
  "language_info": {
   "codemirror_mode": {
    "name": "ipython",
    "version": 3
   },
   "file_extension": ".py",
   "mimetype": "text/x-python",
   "name": "python",
   "nbconvert_exporter": "python",
   "pygments_lexer": "ipython3",
   "version": "3.9.5"
  }
 },
 "nbformat": 4,
 "nbformat_minor": 5
}
