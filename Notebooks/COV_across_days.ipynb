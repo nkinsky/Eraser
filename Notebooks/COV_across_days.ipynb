{
 "cells": [
  {
   "cell_type": "markdown",
   "id": "91d8a358",
   "metadata": {},
   "source": [
    "This notebook does two things: 1) tracks the co-firing of cells as it increases/decreases on each day, and 2) tests whether day 4 (learning-related) increases in syncrony persist with the same cell pairs between controls and ANI mice."
   ]
  },
  {
   "cell_type": "markdown",
   "id": "b7a9abaf",
   "metadata": {},
   "source": [
    "## NRK todo: remake all analyses not tracking cells across days with d1_d2 as same day, e.g. '4_4'.  The clarity will make life easier in future!\n",
    "\n",
    "#2 - Figure out plots to add to final figure, layout with gridspec (put stats off to side), and plot with appropriate font size, lineweights, etc. so that you don't have to mess with them at all in illustrator afterward.\n",
    "\n",
    "#3 - Same thing as #2 but for supplemental figures, e.g. tracking cells across days for control days (e.g. day -1 freeze cells, day -1 cells with high covariance)."
   ]
  },
  {
   "cell_type": "code",
   "execution_count": null,
   "id": "456dc2d9",
   "metadata": {},
   "outputs": [],
   "source": [
    "# Import useful modules\n",
    "import numpy as np\n",
    "import seaborn as sns\n",
    "import matplotlib.pyplot as plt\n",
    "import scipy.stats as stats\n",
    "import matplotlib.gridspec as gridspec\n",
    "import pandas as pd\n",
    "from tqdm import tqdm\n",
    "\n",
    "# Import project specific modules and enable automatic reloading\n",
    "import sys\n",
    "from pathlib import Path\n",
    "import os\n",
    "eraser_path = Path(os.getcwd()).parent\n",
    "reinstatement_path = eraser_path.parent / 'FearReinstatement'\n",
    "sys.path.append(str(eraser_path))\n",
    "sys.path.append(str(reinstatement_path))\n",
    "%load_ext autoreload\n",
    "%autoreload 2\n",
    "\n",
    "from session_directory import find_eraser_directory as get_dir\n",
    "import er_plot_functions as erp\n",
    "import Placefields as pf\n",
    "import freezing_analysis as fa\n",
    "import helpers \n",
    "import eraser_reference as err\n",
    "import covariance_analysis as cova\n",
    "\n",
    "# Project save directory here\n",
    "print_dir = '/Users/nkinsky/Documents/BU/Working/Eraser/plots'\n",
    "save_dir = '/Users/nkinsky/Documents/BU/Working/Eraser'\n",
    "\n",
    "plt.rcParams['pdf.fonttype'] = 42\n",
    "# plt.rcParams['']\n",
    "plt.rcParams['font.sans-serif'] = \"Arial\""
   ]
  },
  {
   "cell_type": "code",
   "execution_count": null,
   "id": "959b4d22",
   "metadata": {},
   "outputs": [],
   "source": [
    "# Helper functions to block printing output\n",
    "import sys, os\n",
    "\n",
    "# Disable\n",
    "def blockPrint():\n",
    "    sys.stdout = open(os.devnull, 'w')\n",
    "\n",
    "# Restore\n",
    "def enablePrint():\n",
    "    sys.stdout = sys.__stdout__\n"
   ]
  },
  {
   "cell_type": "markdown",
   "id": "58f65af9",
   "metadata": {},
   "source": [
    "## Bug here - why isn't this fix working!!!\n",
    "Should be fixed now - re-test all code below with updates, make sure to change 'before', 'during', and 'after' inputs and get rid of any refs to 'add_reg_memory_designation' function"
   ]
  },
  {
   "cell_type": "code",
   "execution_count": null,
   "id": "aef2b091",
   "metadata": {},
   "outputs": [],
   "source": [
    "from copy import deepcopy\n",
    "\n",
    "def add_memory_designations(df_use, before=['-2_-1', '-1_4'], during=['4_1'], after=['1_2', '2_7']):\n",
    "    \"\"\"Add in designations for before, 4hr (during), and after ANI administration into your dataframe\"\"\"\n",
    "    df = deepcopy(df_use)\n",
    "    desig = [\"\" for a in df.itertuples()]\n",
    "    \n",
    "    def create_bool_array_from_list(bool_list):\n",
    "        bool_out = False\n",
    "        for b in bool_list:\n",
    "            bool_out = np.bitwise_or(bool_out, b)\n",
    "            \n",
    "        return bool_out\n",
    "    \n",
    "    before_bool_list = [df[\"d1_d2\"] == bef for bef in before]\n",
    "    before_ind = np.where(create_bool_array_from_list(before_bool_list))[0]\n",
    "    during_bool_list = [df[\"d1_d2\"] == dur for dur in during]\n",
    "    during_ind = np.where(create_bool_array_from_list(during_bool_list))[0]\n",
    "    after_bool_list = [df[\"d1_d2\"] == aft for aft in after]\n",
    "    after_ind = np.where(create_bool_array_from_list(after_bool_list))[0]\n",
    "    \n",
    "       # Old hardcoded method below for reference/bug checking\n",
    "#     before_ind = np.where((df[\"d1_d2\"] == \"-2_-1\") | (df[\"d1_d2\"] == \"-1_4\"))[0]\n",
    "#     during_ind = np.where(df[\"d1_d2\"] == \"4_1\")[0]\n",
    "#     after_ind = np.where((df[\"d1_d2\"] == \"1_2\") | (df[\"d1_d2\"] == \"2_7\"))[0]\n",
    "    for idd, d in enumerate(desig):\n",
    "        if idd in before_ind:\n",
    "            desig[idd] = \"Before\"\n",
    "        elif idd in during_ind:\n",
    "            desig[idd] = \"4hr\"\n",
    "        elif idd in after_ind:\n",
    "            desig[idd] = \"After\"\n",
    "    df.insert(1, \"Designation\", desig)\n",
    "    \n",
    "    return df"
   ]
  },
  {
   "cell_type": "code",
   "execution_count": null,
   "id": "e06e8974",
   "metadata": {},
   "outputs": [],
   "source": [
    "def stats_before_after(df_use, key_use, ax=None, fontsize=None):\n",
    "    \"\"\"Compares mean covariances in a DataFrame. Pools days before (-2 and -1) and days after (1 and 2) shock + \n",
    "    injection. Compares across and within groups.\n",
    "    :param reg: True = use reg_memory_designations, False = use regular memory degisnations\"\"\"\n",
    "    \n",
    "    df_before = df_use[df_use['Designation'] == 'Before']\n",
    "    df_after = df_use[df_use['Designation'] == 'After']\n",
    "    df4 = df_use[df_use['Designation'] == '4hr'] \n",
    "        \n",
    "    stat_bef, p_bef = stats.ttest_ind(df_before[df_before['Group'] == 'Ctrl'][key_use], \n",
    "                                     df_before[df_before['Group'] == 'ANI'][key_use], nan_policy='omit')\n",
    "    stat_aft, p_aft = stats.ttest_ind(df_after[df_after['Group'] == 'Ctrl'][key_use], \n",
    "                                     df_after[df_after['Group'] == 'ANI'][key_use], nan_policy='omit')\n",
    "    stat_ctrl, p_ctrl = stats.ttest_ind(df_before[df_before['Group'] == 'Ctrl'][key_use], \n",
    "                                     df_after[df_after['Group'] == 'Ctrl'][key_use], nan_policy='omit')\n",
    "    stat_ani, p_ani = stats.ttest_ind(df_before[df_before['Group'] == 'ANI'][key_use], \n",
    "                                     df_after[df_after['Group'] == 'ANI'][key_use], nan_policy='omit')\n",
    "    stat_dur, p_dur = stats.ttest_ind(df4[df4['Group'] == 'Ctrl'][key_use],\n",
    "                                     df4[df4['Group'] == 'ANI'][key_use], nan_policy='omit')\n",
    "    stat_b4c, p_b4c = stats.ttest_ind(df_before[df_before['Group'] == 'Ctrl'][key_use],\n",
    "                                      df4[df4['Group'] == 'Ctrl'][key_use], nan_policy='omit')\n",
    "    stat_b4a, p_b4a = stats.ttest_ind(df_before[df_before['Group'] == 'ANI'][key_use],\n",
    "                                      df4[df4['Group'] == 'ANI'][key_use], nan_policy='omit')\n",
    "    stat_4ac, p_4ac = stats.ttest_ind(df4[df4['Group'] == 'Ctrl'][key_use], \n",
    "                                     df_after[df_after['Group'] == 'Ctrl'][key_use], nan_policy='omit')\n",
    "    stat_4aa, p_4aa = stats.ttest_ind(df4[df4['Group'] == 'ANI'][key_use], \n",
    "                                     df_after[df_after['Group'] == 'ANI'][key_use], nan_policy='omit')\n",
    "    \n",
    "    if ax is None:  # Print to screen\n",
    "        print(f'p={p_bef:0.3g} baseline b/w groups')\n",
    "        print(f'p={p_aft:0.3g} day 1-2 b/w groups')\n",
    "        print(f'p={p_ctrl:0.3g} before-after Ctrl')\n",
    "        print(f'p={p_ani:0.3g} before-after ANI')\n",
    "        print(f'p={p_dur:0.3g} 4 hrs b/w groups')\n",
    "    else:  # Print into specified axes\n",
    "        if fontsize is None:\n",
    "            fsize = 12.0\n",
    "        else:\n",
    "            fsize = 4.0\n",
    "        ax.text(0.1, 0.9, f'p={p_4aa:0.3g} 4 hr v after ANI', fontsize=fsize)\n",
    "        ax.text(0.1, 0.8, f'p={p_4ac:0.3g} 4 hr v after Ctrl', fontsize=fsize)\n",
    "        ax.text(0.1, 0.7, f'p={p_b4a:0.3g} before v 4 hr ANI', fontsize=fsize)\n",
    "        ax.text(0.1, 0.6, f'p={p_b4c:0.3g} before v 4 hr Ctrl', fontsize=fsize)\n",
    "        ax.text(0.1, 0.5, f'p={p_bef:0.3g} baseline b/w groups', fontsize=fsize)\n",
    "        ax.text(0.1, 0.4, f'p={p_aft:0.3g} day 1-2 b/w groups', fontsize=fsize)\n",
    "        ax.text(0.1, 0.3, f'p={p_ctrl:0.3g} before-after Ctrl', fontsize=fsize)\n",
    "        ax.text(0.1, 0.2, f'p={p_ani:0.3g} before-after ANI', fontsize=fsize)\n",
    "        ax.text(0.1, 0.1, f'p={p_dur:0.3g} 4 hrs b/w groups', fontsize=fsize)"
   ]
  },
  {
   "cell_type": "markdown",
   "id": "9155970b",
   "metadata": {},
   "source": [
    "Step 0: Set up all dicts for plotting."
   ]
  },
  {
   "cell_type": "code",
   "execution_count": null,
   "id": "f2646545",
   "metadata": {
    "scrolled": true
   },
   "outputs": [],
   "source": [
    "bin_size = 0.5 # sec\n",
    "all_cov = cova.group_cov_across_days(bin_size=bin_size, arena1='Shock', arena2='Shock',\n",
    "                                               neurons='all', keep_silent=True)\n",
    "freeze_silent_cov = cova.group_cov_across_days(bin_size=bin_size, arena1='Shock', arena2='Shock',\n",
    "                                               neurons='freeze_onset', keep_silent=True)"
   ]
  },
  {
   "cell_type": "markdown",
   "id": "3be65f07",
   "metadata": {},
   "source": [
    "Plot #1: Freeze cell covariance before (day -1 and -2), 4 hr, and after (day 1 and 2), all normalized to day -2.  "
   ]
  },
  {
   "cell_type": "markdown",
   "id": "90aa39b4",
   "metadata": {},
   "source": [
    "NRK important note - try with keep_silent=False - all the above is probably driven by silent cells!  They are listed as 0 when they should be NaN by definition since the variance of a cell that fires no events is NaN, right?\n",
    "\n",
    "### NO! I'm only looking at base day covariances, which don't include silent cells! All good!"
   ]
  },
  {
   "cell_type": "code",
   "execution_count": null,
   "id": "5911d7bd",
   "metadata": {},
   "outputs": [],
   "source": [
    "sigz_freeze_df = cova.cov_dict_to_df(freeze_silent_cov, baseline_dict_use=all_cov, include_silent=True)\n",
    "sigz_freeze_df = add_memory_designations(sigz_freeze_df)"
   ]
  },
  {
   "cell_type": "code",
   "execution_count": null,
   "id": "8e683eaa",
   "metadata": {
    "scrolled": false
   },
   "outputs": [],
   "source": [
    "sigz_df = sigz_freeze_df\n",
    "\n",
    "pairs_plot = ['-2_-1', '-1_4', '4_1', '1_2', '2_7']\n",
    "fig, ax = plt.subplots(1, len(pairs_plot), figsize=(3*len(pairs_plot), 2.5))\n",
    "for a, d1_d2 in zip(ax, pairs_plot):\n",
    "    sns.stripplot(x='Group', y='cov_z_mean', data=sigz_df[sigz_df['d1_d2'] == d1_d2], ax=a)\n",
    "    sns.despine(ax=a)\n",
    "    a.set_title(d1_d2.split('_')[0])\n",
    "    df_use = sigz_df[sigz_df['d1_d2'] == d1_d2]\n",
    "    stat, pval = stats.ttest_ind(df_use[df_use['Group'] == 'Ctrl']['cov_z_mean'], \n",
    "                                 df_use[df_use['Group'] == 'ANI']['cov_z_mean'])\n",
    "    \n",
    "    a.text(0, -0.4, f'p_t = {pval:.3g}')\n",
    "    \n",
    "erp.match_max_lims(ax, axis='y')"
   ]
  },
  {
   "cell_type": "markdown",
   "id": "dc7b591a",
   "metadata": {},
   "source": [
    "### Set up figure to contain all covariance plots together, nicely aligned!"
   ]
  },
  {
   "cell_type": "code",
   "execution_count": null,
   "id": "6005e6bd",
   "metadata": {},
   "outputs": [],
   "source": [
    "%matplotlib notebook\n",
    "figcv = plt.figure(figsize=(7, 4))\n",
    "gs = gridspec.GridSpec(4, 4, figure=figcv)\n",
    "axfrz_stat = figcv.add_subplot(gs[0,0])\n",
    "axfrz_plot = figcv.add_subplot(gs[1,0])\n",
    "axall_stat = figcv.add_subplot(gs[0,2])\n",
    "axall_plot = figcv.add_subplot(gs[1,2])"
   ]
  },
  {
   "cell_type": "code",
   "execution_count": null,
   "id": "c9fad41d",
   "metadata": {
    "scrolled": false
   },
   "outputs": [],
   "source": [
    "%matplotlib inline\n",
    "fig, ax = plt.subplots(1, 2, figsize=(12, 4))\n",
    "for ida, (ap, astat, f) in enumerate(zip([axfrz_plot, ax[0]], [axfrz_stat, ax[1]], [figcv, fig])):\n",
    "    if ida == 0:\n",
    "        sns.set_context(\"paper\", font_scale=2)\n",
    "    else:\n",
    "        sns.set_context(\"notebook\")\n",
    "    gfg = sns.stripplot(x=\"Designation\", y=\"cov_z_mean\", hue=\"Group\", size=1.25,\n",
    "                  data=sigz_freeze_df[~(sigz_freeze_df['Designation'] == '')], dodge=True, ax=ap)\n",
    "    gfg.legend(fontsize=6, markerscale=0.15)\n",
    "    ap.set_title('Freeze Cell Covariance', fontsize=8)\n",
    "    ap.set_ylabel(r'$\\mathregular{\\overline{Z}}$', fontsize=8)\n",
    "    ap.set_xlabel('', fontsize=8)\n",
    "    ap.tick_params(axis='both', which='major', labelsize=8, grid_linewidth=1)\n",
    "    plt.setp(ap.spines.values(), linewidth=1)\n",
    "    sns.despine(ax=ap)\n",
    "    stats_before_after(sigz_freeze_df, 'cov_z_mean', ax=astat, fontsize=6)\n",
    "    sns.despine(ax=astat, bottom=True, left=True)\n",
    "    astat.tick_params(axis='both', left=False, bottom=False, labelleft=False, labelbottom=False)\n",
    "fig.savefig(print_dir + \"/cov_before_after_freeze_cells.pdf\")"
   ]
  },
  {
   "cell_type": "markdown",
   "id": "32e11d08",
   "metadata": {},
   "source": [
    "Plot #2: Same as #1 but for all cells"
   ]
  },
  {
   "cell_type": "code",
   "execution_count": null,
   "id": "cc204573",
   "metadata": {},
   "outputs": [],
   "source": [
    "allz_df = cova.cov_dict_to_df(all_cov, baseline_dict_use=all_cov, include_silent=True)\n",
    "allz_df = add_memory_designations(allz_df)"
   ]
  },
  {
   "cell_type": "code",
   "execution_count": null,
   "id": "62ac22d9",
   "metadata": {
    "scrolled": true
   },
   "outputs": [],
   "source": [
    "allz_df_copy = deepcopy(allz_df)\n",
    "allz_df_copy.drop(['Designation'], axis=1, inplace=True)\n",
    "print(allz_df.head(3))\n",
    "print(allz_df_copy.head(3))\n",
    "print(add_memory_designations(allz_df_copy).head(3))"
   ]
  },
  {
   "cell_type": "code",
   "execution_count": null,
   "id": "aeef4cd7",
   "metadata": {
    "scrolled": true
   },
   "outputs": [],
   "source": [
    "sigz_df = allz_df\n",
    "\n",
    "pairs_plot = ['-2_-1', '-1_4', '4_1', '1_2', '2_7']\n",
    "fig, ax = plt.subplots(1, len(pairs_plot), figsize=(3*len(pairs_plot), 2.5))\n",
    "for a, d1_d2 in zip(ax, pairs_plot):\n",
    "    sns.stripplot(x='Group', y='cov_z_mean', data=sigz_df[sigz_df['d1_d2'] == d1_d2], ax=a)\n",
    "    sns.despine(ax=a)\n",
    "    a.set_title(d1_d2.split('_')[0])\n",
    "    df_use = sigz_df[sigz_df['d1_d2'] == d1_d2]\n",
    "    stat, pval = stats.ttest_ind(df_use[df_use['Group'] == 'Ctrl']['cov_z_mean'], \n",
    "                                 df_use[df_use['Group'] == 'ANI']['cov_z_mean'])\n",
    "    \n",
    "    a.text(0, 0.3, f'p_t = {pval:.3g}')\n",
    "    \n",
    "erp.match_max_lims(ax, axis='y')"
   ]
  },
  {
   "cell_type": "code",
   "execution_count": null,
   "id": "4971ef43",
   "metadata": {},
   "outputs": [],
   "source": [
    "from copy import deepcopy\n",
    "smallfigParams = deepcopy(plt.rcParams)\n",
    "plotfontsize = 8.0\n",
    "smallfigParams['axes.labelsize'] = plotfontsize\n",
    "smallfigParams['axes.linewidth'] = 1.0\n",
    "smallfigParams['axes.titlesize'] = plotfontsize\n",
    "smallfigParams['font.size'] = plotfontsize\n",
    "smallfigParams['legend.fontsize'] = 6\n",
    "smallfigParams['legend.markerscale'] = 0.25\n",
    "smallfigParams['xtick.labelsize'] = plotfontsize\n",
    "smallfigParams['xtick.major.width'] = 1.0\n",
    "smallfigParams['xtick.major.width'] = 1.0\n",
    "smallfigParams['ytick.labelsize'] = plotfontsize\n",
    "smallfigParams['ytick.major.width'] = 1.0\n",
    "smallfigParams['ytick.major.width'] = 1.0"
   ]
  },
  {
   "cell_type": "code",
   "execution_count": null,
   "id": "ab2c70e7",
   "metadata": {},
   "outputs": [],
   "source": [
    "import matplotlib.pyplot as plt"
   ]
  },
  {
   "cell_type": "code",
   "execution_count": null,
   "id": "d3d71e21",
   "metadata": {},
   "outputs": [],
   "source": [
    "import matplotlib as mpl\n",
    "fig1, ax1 = plt.subplots(1, 2)\n",
    "\n",
    "plt.rcParams = smallfigParams\n",
    "ax1[0].plot([0, 1])\n",
    "ax1[0].set_xlabel('test small')\n",
    "plt.rcdefaults\n",
    "\n",
    "ax1[1].plot([1, 0])\n",
    "ax1[1].set_xlabel('test normal')"
   ]
  },
  {
   "cell_type": "code",
   "execution_count": null,
   "id": "3c3dcdc1",
   "metadata": {},
   "outputs": [],
   "source": [
    "plt.rcParams"
   ]
  },
  {
   "cell_type": "code",
   "execution_count": null,
   "id": "f13f881b",
   "metadata": {
    "scrolled": false
   },
   "outputs": [],
   "source": [
    "fig, ax = plt.subplots(1,2, figsize=(12, 4))\n",
    "for ap, astat, f in zip([axall_plot, ax[0]], [axall_stat, ax[1]], [figcv, fig]):\n",
    "    gfg = sns.stripplot(x=\"Designation\", y=\"cov_z_mean\", hue=\"Group\", size=1.25,\n",
    "                  data=allz_df[~(allz_df['Designation'] == '')], dodge=True, ax=ap)\n",
    "    gfg.legend(fontsize=6, markerscale=0.15)\n",
    "    ap.set_title('All Cell Covariance', fontsize=8)\n",
    "    ap.set_ylabel(r'$\\mathregular{\\overline{Z}}$', fontsize=8)\n",
    "    ap.set_xlabel('', fontsize=8)\n",
    "    ap.tick_params(axis='both', which='major', labelsize=8, grid_linewidth=1)\n",
    "    plt.setp(ap.spines.values(), linewidth=1)\n",
    "    sns.despine(ax=ap)\n",
    "    stats_before_after(allz_df, \"cov_z_mean\", astat, fontsize=8)\n",
    "    sns.despine(ax=astat, bottom=True, left=True)\n",
    "    astat.tick_params(axis='both', left=False, bottom=False, labelleft=False, labelbottom=False)\n",
    "fig.savefig(print_dir + \"/cov_before_after_all_cells.pdf\")"
   ]
  },
  {
   "cell_type": "code",
   "execution_count": null,
   "id": "5311e376",
   "metadata": {},
   "outputs": [],
   "source": [
    "# NRK - add in ticks and ticklabels manually.\n",
    "# Next, figure out if you are either setting things manually or using a params file to make plotting easier and\n",
    "# avoid having to set font sizes separately for each plot!"
   ]
  },
  {
   "cell_type": "code",
   "execution_count": null,
   "id": "4cc9e2f4",
   "metadata": {},
   "outputs": [],
   "source": [
    "# Save to manuscript figure\n",
    "figcv.savefig(print_dir + \"/cov_frz_all_combined_resize.pdf\")"
   ]
  },
  {
   "cell_type": "markdown",
   "id": "d9a6a463",
   "metadata": {},
   "source": [
    "Plot #3: Same as #1 and #2 but for all cells on 4 hr session which have covariance > 2std above mean.  This one might be messy due to lots of cell turnover in ANI mice."
   ]
  },
  {
   "cell_type": "code",
   "execution_count": null,
   "id": "49e3de32",
   "metadata": {
    "scrolled": false
   },
   "outputs": [],
   "source": [
    "sig4_cov_dict = cova.group_sig_cov_across_days(bin_size=bin_size, arena1='Shock',\n",
    "                                              arena2='Shock', base_days=[4, 4, 4, 4, 4],\n",
    "                                              reg_days=[-2, -1, 4, 1, 2], thresh=2,\n",
    "                                              keep_silent=False)"
   ]
  },
  {
   "cell_type": "code",
   "execution_count": null,
   "id": "d0109964",
   "metadata": {},
   "outputs": [],
   "source": [
    "# Clean up and reshape dataframe\n",
    "sig4_dfreg = cova.cov_dict_to_df(sig4_cov_dict, all_cov, register=True)\n",
    "sig4_dfreg = add_memory_designations(sig4_dfreg, before=['4_-2', '4_-1'], during='4_4', after=['4_1', '4_2'])"
   ]
  },
  {
   "cell_type": "code",
   "execution_count": null,
   "id": "809cdc65",
   "metadata": {},
   "outputs": [],
   "source": [
    "fig, ax = plt.subplots(1,2, figsize=(12, 4))\n",
    "sns.swarmplot(x=\"Designation\", y=\"cov_z_mean\", hue=\"Group\", data=sig4_dfreg, dodge=True, ax=ax[0])\n",
    "ax[0].set_title('4hr sig cells')\n",
    "sns.despine(fig=fig)\n",
    "stats_before_after(sig4_dfreg, 'cov_z_mean', ax[1])\n",
    "fig.savefig(print_dir + \"/cov_before_after_sig4_cells_registered_across_days.pdf\")"
   ]
  },
  {
   "cell_type": "markdown",
   "id": "ce5e8ab7",
   "metadata": {},
   "source": [
    "Plot #4: ID freeze cells on 4 hr session and track covariance forward/backward across whole experiment.  Include silent cells in code, but plot two ways: 1) turnover in freeze cell population between sessions, and 2) change in covariance from 4 hr session forward/backward in time.  "
   ]
  },
  {
   "cell_type": "code",
   "execution_count": null,
   "id": "6c3e15d7",
   "metadata": {},
   "outputs": [],
   "source": [
    "freeze_4hr_reg = cova.group_cov_across_days(bin_size=bin_size, arena1='Shock', arena2='Shock',\n",
    "                                            neurons='freeze_onset', keep_silent=True,\n",
    "                                            base_days=[4, 4, 4, 4, 4], reg_days=[-2, -1, 4, 1, 2])"
   ]
  },
  {
   "cell_type": "code",
   "execution_count": null,
   "id": "a8a1e812",
   "metadata": {},
   "outputs": [],
   "source": [
    "# Clean up and reshape dataframe\n",
    "sig4frz_dfreg = cova.cov_dict_to_df(freeze_4hr_reg, all_cov, register=True)\n",
    "sig4frz_dfreg = add_memory_designations(sig4frz_dfreg, before=['4_-2', '4_-1'], during=['4_4'], after=['4_1', '4_2'])"
   ]
  },
  {
   "cell_type": "markdown",
   "id": "84977579",
   "metadata": {},
   "source": [
    "### Now construct another set of plots tracking freeze cells from 4hr or 1 day session across days"
   ]
  },
  {
   "cell_type": "code",
   "execution_count": null,
   "id": "e2c9ff92",
   "metadata": {},
   "outputs": [],
   "source": [
    "figfrzreg = plt.figure(figsize=(12, 8))\n",
    "gs = gridspec.GridSpec(2, 2, figure=figfrzreg)\n",
    "ax4stat = figfrzreg.add_subplot(gs[0, 0])\n",
    "ax4plot = figfrzreg.add_subplot(gs[1, 0])\n",
    "ax1stat = figfrzreg.add_subplot(gs[0, 1])\n",
    "ax1plot = figfrzreg.add_subplot(gs[1, 1])"
   ]
  },
  {
   "cell_type": "code",
   "execution_count": null,
   "id": "9b244271",
   "metadata": {
    "scrolled": false
   },
   "outputs": [],
   "source": [
    "fig, ax = plt.subplots(1,2, figsize=(12, 4))\n",
    "for ap, astat, f in zip([ax4plot, ax[0]], [ax4stat, ax[1]], [figfrzreg, fig]):\n",
    "    sns.swarmplot(x=\"Designation\", y=\"cov_z_mean\", hue=\"Group\", data=sig4frz_dfreg, dodge=True, ax=ap)\n",
    "    ap.set_title('4 hr freeze cells reg across days')\n",
    "    ap.set_xlabel('')\n",
    "    ap.set_ylabel(r'$\\overline{Z}$')\n",
    "    sns.despine(fig=f)\n",
    "    stats_before_after(sig4frz_dfreg, 'cov_z_mean', astat)\n",
    "# fig.savefig(print_dir + \"/cov_before_after_sig1_cells_registered_across_days.pdf\")"
   ]
  },
  {
   "cell_type": "markdown",
   "id": "4d372532",
   "metadata": {},
   "source": [
    "Plot #4b: ID freeze cells on 1 day session and track covariance forward/backward across whole experiment.  Include silent cells in code, but plot two ways: 1) turnover in freeze cell population between sessions, and 2) change in covariance from 4 hr session forward/backward in time.  "
   ]
  },
  {
   "cell_type": "markdown",
   "id": "ef160920",
   "metadata": {},
   "source": [
    "Plot #5: Same as #4 but do control plot (ID cells on day -1) and plot of consolidated cells (ID cells on day 1)."
   ]
  },
  {
   "cell_type": "code",
   "execution_count": null,
   "id": "a9911fcf",
   "metadata": {
    "scrolled": true
   },
   "outputs": [],
   "source": [
    "sig1_cov_dict = cova.group_sig_cov_across_days(bin_size=bin_size, arena1='Shock',\n",
    "                                              arena2='Shock', base_days=[1, 1, 1, 1, 1],\n",
    "                                              reg_days=[-2, -1, 4, 1, 2], thresh=2,\n",
    "                                              keep_silent=False)"
   ]
  },
  {
   "cell_type": "markdown",
   "id": "7289c611",
   "metadata": {},
   "source": [
    "## NRK - look at actual dictionary you created - how many cells? Make sure it isn't just carried by one to two cells that actually register"
   ]
  },
  {
   "cell_type": "code",
   "execution_count": null,
   "id": "6844ae14",
   "metadata": {},
   "outputs": [],
   "source": [
    "# Clean up and reshape dataframe\n",
    "sig1_dfreg = cova.cov_dict_to_df(sig1_cov_dict, all_cov, register=True)\n",
    "sig1_dfreg = add_memory_designations(sig1_dfreg, before=['1_-2', '1_-1'], during=['1_4'], after=['1_2'])"
   ]
  },
  {
   "cell_type": "code",
   "execution_count": null,
   "id": "42535f6b",
   "metadata": {
    "scrolled": true
   },
   "outputs": [],
   "source": [
    "fig, ax = plt.subplots(1,2, figsize=(12, 4))\n",
    "sns.swarmplot(x=\"Designation\", y=\"cov_z_mean\", hue=\"Group\", data=sig1_dfreg, dodge=True, ax=ax[0])\n",
    "ax[0].set_title('1 day sig cells')\n",
    "sns.despine(fig=fig)\n",
    "stats_before_after(sig1_dfreg, 'cov_z_mean', ax[1])\n",
    "# fig.savefig(print_dir + \"/cov_before_after_sig1_cells_registered_across_days.pdf\")"
   ]
  },
  {
   "cell_type": "markdown",
   "id": "b5baf9f7",
   "metadata": {},
   "source": [
    "Plot #6: More for ANI turnover plots, but plot turnover from day -2 to day -1 for ANI vs Ctrls and compare to day -1 to day 7 - hypothesis is that ANI induces some sort of change in the cells active during later time points, and day -1 to day 7 is the first point at which we see no suppression of activity by ANI."
   ]
  },
  {
   "cell_type": "code",
   "execution_count": null,
   "id": "daa72bd8",
   "metadata": {
    "scrolled": false
   },
   "outputs": [],
   "source": [
    "sig1frz_cov_dict = cova.group_cov_across_days(bin_size=bin_size, arena1='Shock', neurons='freeze_onset',\n",
    "                                              arena2='Shock', base_days=[1, 1, 1, 1, 1],\n",
    "                                              reg_days=[-2, -1, 4, 1, 2], keep_silent=False)\n",
    "sig2frz_cov_dict = cova.group_cov_across_days(bin_size=bin_size, arena1='Shock', neurons='freeze_onset',\n",
    "                                              arena2='Shock', base_days=[2, 2, 2, 2, 2],\n",
    "                                              reg_days=[-2, -1, 4, 1, 2], keep_silent=False)\n",
    "# Not sure how to interpret keeping silent cells in with across-day registration...\n",
    "# sig1frz_cov_dict_wsilent = cova.group_cov_across_days(bin_size=bin_size, arena1='Shock', neurons='freeze_onset',\n",
    "#                                               arena2='Shock', base_days=[1, 1, 1, 1, 1],\n",
    "#                                               reg_days=[-2, -1, 4, 1, 2], keep_silent=True)"
   ]
  },
  {
   "cell_type": "code",
   "execution_count": null,
   "id": "e7e42716",
   "metadata": {},
   "outputs": [],
   "source": [
    "# Clean up and reshape dataframe\n",
    "sig1frz_dfreg = cova.cov_dict_to_df(sig1frz_cov_dict, all_cov, register=True)\n",
    "sig1frz_dfreg = add_memory_designations(sig1frz_dfreg, before=['1_-2', '1_-1'], during=['1_4'], after=['1_1', '1_2'])\n",
    "\n",
    "sig2frz_dfreg = cova.cov_dict_to_df(sig2frz_cov_dict, all_cov, register=True)\n",
    "sig2frz_dfreg = add_memory_designations(sig2frz_dfreg, before=['2_-2', '2_-1'], during=['2_4'], after=['2_1', '2_2'])"
   ]
  },
  {
   "cell_type": "code",
   "execution_count": null,
   "id": "a4cbe8ed",
   "metadata": {},
   "outputs": [],
   "source": [
    "sigz_df = sig1frz_dfreg\n",
    "\n",
    "pairs_plot = ['1_-2','1_-1', '1_4', '1_1', '1_2']\n",
    "fig, ax = plt.subplots(1, len(pairs_plot), figsize=(3*len(pairs_plot), 2.5))\n",
    "for a, d1_d2 in zip(ax, pairs_plot):\n",
    "    sns.stripplot(x='Group', y='cov_z_mean', data=sigz_df[sigz_df['d1_d2'] == d1_d2], ax=a)\n",
    "    sns.despine(ax=a)\n",
    "    a.set_title(d1_d2.split('_')[1])\n",
    "    df_use = sigz_df[sigz_df['d1_d2'] == d1_d2]\n",
    "    stat, pval = stats.ttest_ind(df_use[df_use['Group'] == 'Ctrl']['cov_z_mean'], \n",
    "                                 df_use[df_use['Group'] == 'ANI']['cov_z_mean'])\n",
    "    \n",
    "    a.text(0, -0.3, f'p_t = {pval:.3g}')\n",
    "    \n",
    "erp.match_max_lims(ax, axis='y')"
   ]
  },
  {
   "cell_type": "code",
   "execution_count": null,
   "id": "de49c934",
   "metadata": {
    "scrolled": false
   },
   "outputs": [],
   "source": [
    "fig, ax = plt.subplots(1,2, figsize=(12, 4))\n",
    "for ap, astat, f in zip([ax1plot, ax[0]], [ax1stat, ax[1]], [figfrzreg, fig]):\n",
    "    sns.swarmplot(x=\"Designation\", y=\"cov_z_mean\", hue=\"Group\", data=sig1frz_dfreg, dodge=True, ax=ap)\n",
    "    ap.set_title('1 day frz cells - Tracked across sessions')\n",
    "    ap.set_xlabel('')\n",
    "    ap.set_ylabel(r'$\\overline{Z}$')\n",
    "    sns.despine(fig=f)\n",
    "    stats_before_after(sig1frz_dfreg, 'cov_z_mean', astat)"
   ]
  },
  {
   "cell_type": "code",
   "execution_count": null,
   "id": "e3cb5774",
   "metadata": {},
   "outputs": [],
   "source": [
    "# Save to manuscript figure - supplemental?\n",
    "figfrzreg.savefig(print_dir + '/cov_frz_1and4_reg.pdf')"
   ]
  },
  {
   "cell_type": "code",
   "execution_count": null,
   "id": "39b25bb3",
   "metadata": {
    "scrolled": true
   },
   "outputs": [],
   "source": [
    "sigz_df = sig2frz_dfreg\n",
    "\n",
    "pairs_plot = ['2_-2','2_-1', '2_4', '2_1', '2_2']\n",
    "fig, ax = plt.subplots(1, len(pairs_plot), figsize=(3*len(pairs_plot), 2.5))\n",
    "for a, d1_d2 in zip(ax, pairs_plot):\n",
    "    sns.stripplot(x='Group', y='cov_z_mean', data=sigz_df[sigz_df['d1_d2'] == d1_d2], ax=a)\n",
    "    sns.despine(ax=a)\n",
    "    a.set_title(d1_d2.split('_')[1])\n",
    "    df_use = sigz_df[sigz_df['d1_d2'] == d1_d2]\n",
    "    stat, pval = stats.ttest_ind(df_use[df_use['Group'] == 'Ctrl']['cov_z_mean'], \n",
    "                                 df_use[df_use['Group'] == 'ANI']['cov_z_mean'], nan_policy='omit')\n",
    "    \n",
    "    a.text(0, -0.3, f'p_t = {pval:.3g}')\n",
    "    \n",
    "erp.match_max_lims(ax, axis='y')"
   ]
  },
  {
   "cell_type": "code",
   "execution_count": null,
   "id": "d6e3910a",
   "metadata": {
    "scrolled": true
   },
   "outputs": [],
   "source": [
    "fig, ax = plt.subplots(1,2, figsize=(12, 4))\n",
    "sns.swarmplot(x=\"Designation\", y=\"cov_z_mean\", hue=\"Group\", data=sig2frz_dfreg, dodge=True, ax=ax[0])\n",
    "ax[0].set_title('2 day frz cells - Tracked across sessions')\n",
    "sns.despine(fig=fig)\n",
    "stats_before_after(sig2frz_dfreg, 'cov_z_mean', ax[1])"
   ]
  }
 ],
 "metadata": {
  "kernelspec": {
   "display_name": "Python 3 (ipykernel)",
   "language": "python",
   "name": "python3"
  },
  "language_info": {
   "codemirror_mode": {
    "name": "ipython",
    "version": 3
   },
   "file_extension": ".py",
   "mimetype": "text/x-python",
   "name": "python",
   "nbconvert_exporter": "python",
   "pygments_lexer": "ipython3",
   "version": "3.9.5"
  }
 },
 "nbformat": 4,
 "nbformat_minor": 5
}
