{
 "cells": [
  {
   "cell_type": "markdown",
   "id": "91d8a358",
   "metadata": {},
   "source": [
    "This notebook does two things: 1) tracks the co-firing of cells as it increases/decreases on each day, and 2) tests whether day 4 (learning-related) increases in syncrony persist with the same cell pairs between controls and ANI mice."
   ]
  },
  {
   "cell_type": "code",
   "execution_count": 40,
   "id": "456dc2d9",
   "metadata": {},
   "outputs": [
    {
     "name": "stdout",
     "output_type": "stream",
     "text": [
      "The autoreload extension is already loaded. To reload it, use:\n",
      "  %reload_ext autoreload\n"
     ]
    }
   ],
   "source": [
    "# Import useful modules\n",
    "import numpy as np\n",
    "import seaborn as sns\n",
    "import matplotlib.pyplot as plt\n",
    "import scipy.stats as stats\n",
    "import matplotlib.gridspec as gridspec\n",
    "import pandas as pd\n",
    "from tqdm import tqdm\n",
    "\n",
    "# Import project specific modules and enable automatic reloading\n",
    "import sys\n",
    "from pathlib import Path\n",
    "import os\n",
    "eraser_path = Path(os.getcwd()).parent\n",
    "reinstatement_path = eraser_path.parent / 'FearReinstatement'\n",
    "sys.path.append(str(eraser_path))\n",
    "sys.path.append(str(reinstatement_path))\n",
    "%load_ext autoreload\n",
    "%autoreload 2\n",
    "\n",
    "from session_directory import find_eraser_directory as get_dir\n",
    "import er_plot_functions as erp\n",
    "import Placefields as pf\n",
    "import freezing_analysis as fa\n",
    "import helpers \n",
    "import eraser_reference as err\n",
    "import covariance_analysis as cova\n",
    "\n",
    "# Project save directory here\n",
    "print_dir = '/Users/nkinsky/Documents/BU/Working/Eraser/plots'\n",
    "save_dir = '/Users/nkinsky/Documents/BU/Working/Eraser'\n",
    "\n",
    "plt.rcParams['pdf.fonttype'] = 42\n",
    "# plt.rcParams['']\n",
    "plt.rcParams['font.sans-serif'] = \"Arial\""
   ]
  },
  {
   "cell_type": "code",
   "execution_count": null,
   "id": "959b4d22",
   "metadata": {},
   "outputs": [],
   "source": [
    "# Helper functions to block printing output\n",
    "import sys, os\n",
    "\n",
    "# Disable\n",
    "def blockPrint():\n",
    "    sys.stdout = open(os.devnull, 'w')\n",
    "\n",
    "# Restore\n",
    "def enablePrint():\n",
    "    sys.stdout = sys.__stdout__\n"
   ]
  },
  {
   "cell_type": "code",
   "execution_count": 9,
   "id": "aef2b091",
   "metadata": {},
   "outputs": [],
   "source": [
    "from copy import deepcopy\n",
    "\n",
    "def add_memory_designations(df_use):\n",
    "    \"\"\"Add in designations for before, 4hr (during), and after ANI administration into your dataframe\"\"\"\n",
    "    df = deepcopy(df_use)\n",
    "    desig = [\"\" for a in df.itertuples()]\n",
    "    before_ind = np.where((df[\"d1_d2\"] == \"-2_-1\") | (df[\"d1_d2\"] == \"-1_4\"))[0]\n",
    "    during_ind = np.where(df[\"d1_d2\"] == \"4_1\")[0]\n",
    "    after_ind = np.where((df[\"d1_d2\"] == \"1_2\") | (df[\"d1_d2\"] == \"2_7\"))[0]\n",
    "    for idd, d in enumerate(desig):\n",
    "        if idd in before_ind:\n",
    "            desig[idd] = \"Before\"\n",
    "        elif idd in during_ind:\n",
    "            desig[idd] = \"4hr\"\n",
    "        elif idd in after_ind:\n",
    "            desig[idd] = \"After\"\n",
    "    df.insert(1, \"Designation\", desig)\n",
    "    \n",
    "    return df"
   ]
  },
  {
   "cell_type": "code",
   "execution_count": 23,
   "id": "e06e8974",
   "metadata": {},
   "outputs": [],
   "source": [
    "def stats_before_after(df_use, key_use, ax=None):\n",
    "    \"\"\"Compares mean covariances in a DataFrame. Pools days before (-2 and -1) and days after (1 and 2) shock + \n",
    "    injection. Compares across and within groups.\"\"\"\n",
    "    \n",
    "    df_after = df_use[np.bitwise_or(df_use['d1_d2'] == '1_2', df_use['d1_d2'] == '2_7')]\n",
    "    df_before = df_use[np.bitwise_or(df_use['d1_d2'] == '-2_-1', df_use['d1_d2'] == '-1_4')]\n",
    "    df4 = df_use[df_use['d1_d2'] == '4_1']\n",
    "    stat_bef, p_bef = stats.ttest_ind(df_before[df_before['Group'] == 'Ctrl'][key_use], \n",
    "                                     df_before[df_before['Group'] == 'ANI'][key_use])\n",
    "    stat_aft, p_aft = stats.ttest_ind(df_after[df_after['Group'] == 'Ctrl'][key_use], \n",
    "                                     df_after[df_after['Group'] == 'ANI'][key_use])\n",
    "    stat_ctrl, p_ctrl = stats.ttest_ind(df_before[df_before['Group'] == 'Ctrl'][key_use], \n",
    "                                     df_after[df_after['Group'] == 'Ctrl'][key_use])\n",
    "    stat_ani, p_ani = stats.ttest_ind(df_before[df_before['Group'] == 'ANI'][key_use], \n",
    "                                     df_after[df_after['Group'] == 'ANI'][key_use])\n",
    "    stat_dur, p_dur = stats.ttest_ind(df4[df4['Group'] == 'Ctrl'][key_use],\n",
    "                                     df4[df4['Group'] == 'ANI'][key_use])\n",
    "    \n",
    "    if ax is None:  # Print to screen\n",
    "        print(f'p={p_bef:0.3g} baseline b/w groups')\n",
    "        print(f'p={p_aft:0.3g} day 1-2 b/w groups')\n",
    "        print(f'p={p_ctrl:0.3g} before-after Ctrl')\n",
    "        print(f'p={p_ani:0.3g} before-after ANI')\n",
    "        print(f'p={p_dur:0.3g} 4 hrs b/w groups')\n",
    "    else:  # Print into specified axes\n",
    "        ax.text(0.1, 0.5, f'p={p_bef:0.3g} baseline b/w groups')\n",
    "        ax.text(0.1, 0.4, f'p={p_aft:0.3g} day 1-2 b/w groups')\n",
    "        ax.text(0.1, 0.3, f'p={p_ctrl:0.3g} before-after Ctrl')\n",
    "        ax.text(0.1, 0.2, f'p={p_ani:0.3g} before-after ANI')\n",
    "        ax.text(0.1, 0.1, f'p={p_dur:0.3g} 4 hrs b/w groups')"
   ]
  },
  {
   "cell_type": "markdown",
   "id": "9155970b",
   "metadata": {},
   "source": [
    "Step 0: Set up all dicts for plotting."
   ]
  },
  {
   "cell_type": "code",
   "execution_count": 7,
   "id": "f2646545",
   "metadata": {
    "scrolled": false
   },
   "outputs": [
    {
     "name": "stderr",
     "output_type": "stream",
     "text": [
      "Marble07: 5it [00:03,  1.37it/s]"
     ]
    },
    {
     "name": "stdout",
     "output_type": "stream",
     "text": [
      "No tunings found for Marble07 Shock day 7: run .get_tuning_sig() and .save_sig_tuning()\n"
     ]
    },
    {
     "name": "stderr",
     "output_type": "stream",
     "text": [
      "Marble07: 6it [00:04,  1.37it/s]\n",
      "Marble12: 5it [00:03,  1.59it/s]"
     ]
    },
    {
     "name": "stdout",
     "output_type": "stream",
     "text": [
      "No tunings found for Marble12 Shock day 7: run .get_tuning_sig() and .save_sig_tuning()\n"
     ]
    },
    {
     "name": "stderr",
     "output_type": "stream",
     "text": [
      "Marble12: 6it [00:03,  1.59it/s]\n",
      "Marble24: 5it [00:03,  1.54it/s]"
     ]
    },
    {
     "name": "stdout",
     "output_type": "stream",
     "text": [
      "No tunings found for Marble24 Shock day 7: run .get_tuning_sig() and .save_sig_tuning()\n"
     ]
    },
    {
     "name": "stderr",
     "output_type": "stream",
     "text": [
      "Marble24: 6it [00:03,  1.57it/s]\n",
      "Marble27: 5it [00:03,  1.54it/s]"
     ]
    },
    {
     "name": "stdout",
     "output_type": "stream",
     "text": [
      "No tunings found for Marble27 Shock day 7: run .get_tuning_sig() and .save_sig_tuning()\n"
     ]
    },
    {
     "name": "stderr",
     "output_type": "stream",
     "text": [
      "Marble27: 6it [00:03,  1.54it/s]\n",
      "Marble06: 4it [00:02,  1.50it/s]"
     ]
    },
    {
     "name": "stdout",
     "output_type": "stream",
     "text": [
      "No position data found for Marble06 Shock day 7, loading neural data only\n"
     ]
    },
    {
     "name": "stderr",
     "output_type": "stream",
     "text": [
      "Marble06: 6it [00:05,  1.07it/s]\n",
      "Marble11: 5it [00:04,  1.08it/s]"
     ]
    },
    {
     "name": "stdout",
     "output_type": "stream",
     "text": [
      "No tunings found for Marble11 Shock day 7: run .get_tuning_sig() and .save_sig_tuning()\n"
     ]
    },
    {
     "name": "stderr",
     "output_type": "stream",
     "text": [
      "Marble11: 6it [00:05,  1.07it/s]\n",
      "Marble29: 5it [00:03,  1.48it/s]"
     ]
    },
    {
     "name": "stdout",
     "output_type": "stream",
     "text": [
      "No tunings found for Marble29 Shock day 7: run .get_tuning_sig() and .save_sig_tuning()\n"
     ]
    },
    {
     "name": "stderr",
     "output_type": "stream",
     "text": [
      "Marble29: 6it [00:04,  1.47it/s]\n",
      "Marble17: 5it [00:03,  1.28it/s]"
     ]
    },
    {
     "name": "stdout",
     "output_type": "stream",
     "text": [
      "No tunings found for Marble17 Shock day 7: run .get_tuning_sig() and .save_sig_tuning()\n"
     ]
    },
    {
     "name": "stderr",
     "output_type": "stream",
     "text": [
      "Marble17: 6it [00:04,  1.27it/s]\n",
      "Marble18: 5it [00:03,  1.65it/s]"
     ]
    },
    {
     "name": "stdout",
     "output_type": "stream",
     "text": [
      "No tunings found for Marble18 Shock day 7: run .get_tuning_sig() and .save_sig_tuning()\n"
     ]
    },
    {
     "name": "stderr",
     "output_type": "stream",
     "text": [
      "Marble18: 6it [00:03,  1.66it/s]\n",
      "Marble19: 5it [00:03,  1.44it/s]"
     ]
    },
    {
     "name": "stdout",
     "output_type": "stream",
     "text": [
      "No tunings found for Marble19 Shock day 7: run .get_tuning_sig() and .save_sig_tuning()\n"
     ]
    },
    {
     "name": "stderr",
     "output_type": "stream",
     "text": [
      "Marble19: 6it [00:04,  1.46it/s]\n",
      "Marble20: 5it [00:03,  1.59it/s]"
     ]
    },
    {
     "name": "stdout",
     "output_type": "stream",
     "text": [
      "No tunings found for Marble20 Shock day 7: run .get_tuning_sig() and .save_sig_tuning()\n"
     ]
    },
    {
     "name": "stderr",
     "output_type": "stream",
     "text": [
      "Marble20: 6it [00:03,  1.62it/s]\n",
      "Marble25: 5it [00:03,  1.43it/s]"
     ]
    },
    {
     "name": "stdout",
     "output_type": "stream",
     "text": [
      "No tunings found for Marble25 Shock day 7: run .get_tuning_sig() and .save_sig_tuning()\n"
     ]
    },
    {
     "name": "stderr",
     "output_type": "stream",
     "text": [
      "Marble25: 6it [00:04,  1.44it/s]\n",
      "Marble07: 4it [00:03,  1.01it/s]"
     ]
    },
    {
     "name": "stdout",
     "output_type": "stream",
     "text": [
      "No tunings found for Marble07 Shock day 7: run .get_tuning_sig() and .save_sig_tuning()\n"
     ]
    },
    {
     "name": "stderr",
     "output_type": "stream",
     "text": [
      "Marble07: 6it [00:05,  1.01it/s]\n",
      "Marble12: 4it [00:03,  1.18it/s]"
     ]
    },
    {
     "name": "stdout",
     "output_type": "stream",
     "text": [
      "No tunings found for Marble12 Shock day 7: run .get_tuning_sig() and .save_sig_tuning()\n"
     ]
    },
    {
     "name": "stderr",
     "output_type": "stream",
     "text": [
      "Marble12: 6it [00:05,  1.18it/s]\n",
      "Marble24: 4it [00:03,  1.17it/s]"
     ]
    },
    {
     "name": "stdout",
     "output_type": "stream",
     "text": [
      "No tunings found for Marble24 Shock day 7: run .get_tuning_sig() and .save_sig_tuning()\n"
     ]
    },
    {
     "name": "stderr",
     "output_type": "stream",
     "text": [
      "Marble24: 6it [00:05,  1.16it/s]\n",
      "Marble27: 4it [00:04,  1.03it/s]"
     ]
    },
    {
     "name": "stdout",
     "output_type": "stream",
     "text": [
      "No tunings found for Marble27 Shock day 7: run .get_tuning_sig() and .save_sig_tuning()\n"
     ]
    },
    {
     "name": "stderr",
     "output_type": "stream",
     "text": [
      "Marble27: 6it [00:05,  1.04it/s]\n",
      "Marble06: 4it [00:03,  1.08it/s]"
     ]
    },
    {
     "name": "stdout",
     "output_type": "stream",
     "text": [
      "No position data found for Marble06 Shock day 7, loading neural data only\n"
     ]
    },
    {
     "name": "stderr",
     "output_type": "stream",
     "text": [
      "Marble06: 6it [00:07,  1.18s/it]\n",
      "Marble11: 4it [00:04,  1.19s/it]"
     ]
    },
    {
     "name": "stdout",
     "output_type": "stream",
     "text": [
      "No tunings found for Marble11 Shock day 7: run .get_tuning_sig() and .save_sig_tuning()\n"
     ]
    },
    {
     "name": "stderr",
     "output_type": "stream",
     "text": [
      "Marble11: 6it [00:07,  1.19s/it]\n",
      "Marble29: 4it [00:03,  1.09it/s]"
     ]
    },
    {
     "name": "stdout",
     "output_type": "stream",
     "text": [
      "No tunings found for Marble29 Shock day 7: run .get_tuning_sig() and .save_sig_tuning()\n"
     ]
    },
    {
     "name": "stderr",
     "output_type": "stream",
     "text": [
      "Marble29: 6it [00:05,  1.08it/s]\n",
      "Marble17: 4it [00:04,  1.05s/it]"
     ]
    },
    {
     "name": "stdout",
     "output_type": "stream",
     "text": [
      "No tunings found for Marble17 Shock day 7: run .get_tuning_sig() and .save_sig_tuning()\n"
     ]
    },
    {
     "name": "stderr",
     "output_type": "stream",
     "text": [
      "Marble17: 6it [00:06,  1.04s/it]\n",
      "Marble18: 4it [00:03,  1.22it/s]"
     ]
    },
    {
     "name": "stdout",
     "output_type": "stream",
     "text": [
      "No tunings found for Marble18 Shock day 7: run .get_tuning_sig() and .save_sig_tuning()\n"
     ]
    },
    {
     "name": "stderr",
     "output_type": "stream",
     "text": [
      "Marble18: 6it [00:04,  1.22it/s]\n",
      "Marble19: 4it [00:03,  1.09it/s]"
     ]
    },
    {
     "name": "stdout",
     "output_type": "stream",
     "text": [
      "No tunings found for Marble19 Shock day 7: run .get_tuning_sig() and .save_sig_tuning()\n"
     ]
    },
    {
     "name": "stderr",
     "output_type": "stream",
     "text": [
      "Marble19: 6it [00:05,  1.08it/s]\n",
      "Marble20: 4it [00:03,  1.21it/s]"
     ]
    },
    {
     "name": "stdout",
     "output_type": "stream",
     "text": [
      "No tunings found for Marble20 Shock day 7: run .get_tuning_sig() and .save_sig_tuning()\n"
     ]
    },
    {
     "name": "stderr",
     "output_type": "stream",
     "text": [
      "Marble20: 6it [00:04,  1.20it/s]\n",
      "Marble25: 4it [00:03,  1.07it/s]"
     ]
    },
    {
     "name": "stdout",
     "output_type": "stream",
     "text": [
      "No tunings found for Marble25 Shock day 7: run .get_tuning_sig() and .save_sig_tuning()\n"
     ]
    },
    {
     "name": "stderr",
     "output_type": "stream",
     "text": [
      "Marble25: 6it [00:05,  1.06it/s]\n"
     ]
    }
   ],
   "source": [
    "bin_size = 0.5 # sec\n",
    "all_cov = cova.group_cov_across_days(bin_size=bin_size, arena1='Shock', arena2='Shock',\n",
    "                                               neurons='all', keep_silent=True)\n",
    "freeze_silent_cov = cova.group_cov_across_days(bin_size=bin_size, arena1='Shock', arena2='Shock',\n",
    "                                               neurons='freeze_onset', keep_silent=True)"
   ]
  },
  {
   "cell_type": "markdown",
   "id": "3be65f07",
   "metadata": {},
   "source": [
    "Plot #1: Freeze cell covariance before (day -1 and -2), 4 hr, and after (day 1 and 2), all normalized to day -2.  "
   ]
  },
  {
   "cell_type": "code",
   "execution_count": 10,
   "id": "5911d7bd",
   "metadata": {},
   "outputs": [],
   "source": [
    "sigz_freeze_df = cova.cov_dict_to_df(freeze_silent_cov, baseline_dict_use=all_cov, include_silent=True)\n",
    "sigz_freeze_df = add_memory_designations(sigz_freeze_df)"
   ]
  },
  {
   "cell_type": "code",
   "execution_count": 17,
   "id": "8e683eaa",
   "metadata": {
    "scrolled": false
   },
   "outputs": [
    {
     "data": {
      "image/png": "[encoded data removed]",
      "text/plain": [
       "<Figure size 1080x180 with 5 Axes>"
      ]
     },
     "metadata": {
      "needs_background": "light"
     },
     "output_type": "display_data"
    }
   ],
   "source": [
    "sigz_df = sigz_freeze_df\n",
    "\n",
    "pairs_plot = ['-2_-1', '-1_4', '4_1', '1_2', '2_7']\n",
    "fig, ax = plt.subplots(1, len(pairs_plot), figsize=(3*len(pairs_plot), 2.5))\n",
    "for a, d1_d2 in zip(ax, pairs_plot):\n",
    "    sns.stripplot(x='Group', y='cov_z_mean', data=sigz_df[sigz_df['d1_d2'] == d1_d2], ax=a)\n",
    "    sns.despine(ax=a)\n",
    "    a.set_title(d1_d2.split('_')[0])\n",
    "    df_use = sigz_df[sigz_df['d1_d2'] == d1_d2]\n",
    "    stat, pval = stats.ttest_ind(df_use[df_use['Group'] == 'Ctrl']['cov_z_mean'], \n",
    "                                 df_use[df_use['Group'] == 'ANI']['cov_z_mean'])\n",
    "    \n",
    "    a.text(0, -0.4, f'p_t = {pval:.3g}')\n",
    "    \n",
    "erp.match_max_lims(ax, axis='y')"
   ]
  },
  {
   "cell_type": "code",
   "execution_count": 34,
   "id": "c9fad41d",
   "metadata": {},
   "outputs": [
    {
     "data": {
      "image/png": "[encoded data removed]",
      "text/plain": [
       "<Figure size 864x288 with 2 Axes>"
      ]
     },
     "metadata": {
      "needs_background": "light"
     },
     "output_type": "display_data"
    }
   ],
   "source": [
    "fig, ax = plt.subplots(1, 2, figsize=(12, 4))\n",
    "sns.swarmplot(x=\"Designation\", y=\"cov_z_mean\", hue=\"Group\", data=sigz_freeze_df, dodge=True, ax=ax[0])\n",
    "ax[0].set_title('Freeze Cells')\n",
    "sns.despine(fig=fig)\n",
    "stats_before_after(sigz_df, 'cov_z_mean', ax=ax[1])\n",
    "fig.savefig(print_dir + \"/cov_before_after_freeze_cells.pdf\")"
   ]
  },
  {
   "cell_type": "markdown",
   "id": "32e11d08",
   "metadata": {},
   "source": [
    "Plot #2: Same as #1 but for all cells"
   ]
  },
  {
   "cell_type": "code",
   "execution_count": 13,
   "id": "cc204573",
   "metadata": {},
   "outputs": [],
   "source": [
    "allz_df = cova.cov_dict_to_df(all_cov, baseline_dict_use=all_cov, include_silent=True)\n",
    "allz_df = add_memory_designations(allz_df)"
   ]
  },
  {
   "cell_type": "code",
   "execution_count": 21,
   "id": "aeef4cd7",
   "metadata": {
    "scrolled": true
   },
   "outputs": [
    {
     "data": {
      "image/png": "[encoded data removed]",
      "text/plain": [
       "<Figure size 1080x180 with 5 Axes>"
      ]
     },
     "metadata": {
      "needs_background": "light"
     },
     "output_type": "display_data"
    }
   ],
   "source": [
    "sigz_df = allz_df\n",
    "\n",
    "pairs_plot = ['-2_-1', '-1_4', '4_1', '1_2', '2_7']\n",
    "fig, ax = plt.subplots(1, len(pairs_plot), figsize=(3*len(pairs_plot), 2.5))\n",
    "for a, d1_d2 in zip(ax, pairs_plot):\n",
    "    sns.stripplot(x='Group', y='cov_z_mean', data=sigz_df[sigz_df['d1_d2'] == d1_d2], ax=a)\n",
    "    sns.despine(ax=a)\n",
    "    a.set_title(d1_d2.split('_')[0])\n",
    "    df_use = sigz_df[sigz_df['d1_d2'] == d1_d2]\n",
    "    stat, pval = stats.ttest_ind(df_use[df_use['Group'] == 'Ctrl']['cov_z_mean'], \n",
    "                                 df_use[df_use['Group'] == 'ANI']['cov_z_mean'])\n",
    "    \n",
    "    a.text(0, 0.3, f'p_t = {pval:.3g}')\n",
    "    \n",
    "erp.match_max_lims(ax, axis='y')"
   ]
  },
  {
   "cell_type": "code",
   "execution_count": 38,
   "id": "d19c1d48",
   "metadata": {
    "scrolled": true
   },
   "outputs": [
    {
     "name": "stdout",
     "output_type": "stream",
     "text": [
      "['sans-serif']\n"
     ]
    }
   ],
   "source": [
    "print(plt.rcParams['font.family'])"
   ]
  },
  {
   "cell_type": "code",
   "execution_count": 39,
   "id": "a76b9df5",
   "metadata": {},
   "outputs": [
    {
     "data": {
      "text/plain": [
       "['sans-serif']"
      ]
     },
     "execution_count": 39,
     "metadata": {},
     "output_type": "execute_result"
    }
   ],
   "source": [
    "plt.rcParams['font.sans-serif']"
   ]
  },
  {
   "cell_type": "code",
   "execution_count": 41,
   "id": "f13f881b",
   "metadata": {
    "scrolled": false
   },
   "outputs": [
    {
     "data": {
      "image/png": "[encoded data removed]",
      "text/plain": [
       "<Figure size 864x288 with 2 Axes>"
      ]
     },
     "metadata": {
      "needs_background": "light"
     },
     "output_type": "display_data"
    }
   ],
   "source": [
    "fig, ax = plt.subplots(1,2, figsize=(12, 4))\n",
    "sns.swarmplot(x=\"Designation\", y=\"cov_z_mean\", hue=\"Group\", data=allz_df, dodge=True, ax=ax[0])\n",
    "ax[0].set_title('All Cells')\n",
    "sns.despine(fig=fig)\n",
    "stats_before_after(sigz_df, 'cov_z_mean', ax[1])\n",
    "fig.savefig(print_dir + \"/cov_before_after_all_cells.pdf\")"
   ]
  },
  {
   "cell_type": "markdown",
   "id": "d9a6a463",
   "metadata": {},
   "source": [
    "Plot #3: Same as #1 and #2 but for all cells on 4 hr session which have covariance > 2std above mean.  This one might be messy due to lots of cell turnover in ANI mice."
   ]
  },
  {
   "cell_type": "markdown",
   "id": "ce5e8ab7",
   "metadata": {},
   "source": [
    "Plot #4: ID freeze cells on 4 hr session and track covariance forward/backward across whole experiment.  Include silent cells in code, but plot two ways: 1) turnover in freeze cell population between sessions, and 2) change in covariance from 4 hr session forward/backward in time.  "
   ]
  },
  {
   "cell_type": "markdown",
   "id": "ef160920",
   "metadata": {},
   "source": [
    "Plot #5: Same as #4 but do control plot (ID cells on day -1) and plot of consolidated cells (ID cells on day 1)."
   ]
  },
  {
   "cell_type": "markdown",
   "id": "5748a59c",
   "metadata": {},
   "source": [
    "Plot #6: More for ANI turnover plots, but plot turnover from day -2 to day -1 for ANI vs Ctrls and compare to day -1 to day 7 - hypothesis is that ANI induces some sort of change in the cells active during later time points, and day -1 to day 7 is the first point at which we see no suppression of activity by ANI."
   ]
  }
 ],
 "metadata": {
  "kernelspec": {
   "display_name": "Python 3 (ipykernel)",
   "language": "python",
   "name": "python3"
  },
  "language_info": {
   "codemirror_mode": {
    "name": "ipython",
    "version": 3
   },
   "file_extension": ".py",
   "mimetype": "text/x-python",
   "name": "python",
   "nbconvert_exporter": "python",
   "pygments_lexer": "ipython3",
   "version": "3.9.5"
  }
 },
 "nbformat": 4,
 "nbformat_minor": 5
}
