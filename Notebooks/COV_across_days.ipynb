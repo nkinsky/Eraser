{
 "cells": [
  {
   "cell_type": "markdown",
   "id": "91d8a358",
   "metadata": {},
   "source": [
    "This notebook does two things: 1) tracks the co-firing of cells as it increases/decreases on each day, and 2) tests whether day 4 (learning-related) increases in syncrony persist with the same cell pairs between controls and ANI mice."
   ]
  },
  {
   "cell_type": "markdown",
   "id": "b7a9abaf",
   "metadata": {},
   "source": [
    "## NRK todo: remake all analyses not tracking cells across days with d1_d2 as same day, e.g. '4_4'.  The clarity will make life easier in future!\n",
    "\n",
    "#2 - Figure out plots to add to final figure, layout with gridspec (put stats off to side), and plot with appropriate font size, lineweights, etc. so that you don't have to mess with them at all in illustrator afterward.\n",
    "\n",
    "#3 - Same thing as #2 but for supplemental figures, e.g. tracking cells across days for control days (e.g. day -1 freeze cells, day -1 cells with high covariance)."
   ]
  },
  {
   "cell_type": "code",
   "execution_count": 1,
   "id": "456dc2d9",
   "metadata": {},
   "outputs": [],
   "source": [
    "# Import useful modules\n",
    "import numpy as np\n",
    "import seaborn as sns\n",
    "import matplotlib.pyplot as plt\n",
    "import scipy.stats as stats\n",
    "import matplotlib.gridspec as gridspec\n",
    "import pandas as pd\n",
    "from tqdm import tqdm\n",
    "\n",
    "# Import project specific modules and enable automatic reloading\n",
    "import sys\n",
    "from pathlib import Path\n",
    "import os\n",
    "eraser_path = Path(os.getcwd()).parent\n",
    "reinstatement_path = eraser_path.parent / 'FearReinstatement'\n",
    "sys.path.append(str(eraser_path))\n",
    "sys.path.append(str(reinstatement_path))\n",
    "%load_ext autoreload\n",
    "%autoreload 2\n",
    "\n",
    "from session_directory import find_eraser_directory as get_dir\n",
    "import er_plot_functions as erp\n",
    "import Placefields as pf\n",
    "import freezing_analysis as fa\n",
    "import helpers \n",
    "import eraser_reference as err\n",
    "import covariance_analysis as cova\n",
    "\n",
    "# Project save directory here\n",
    "print_dir = '/Users/nkinsky/Documents/BU/Working/Eraser/plots'\n",
    "save_dir = '/Users/nkinsky/Documents/BU/Working/Eraser'\n",
    "\n",
    "plt.rcParams['pdf.fonttype'] = 42\n",
    "# plt.rcParams['']\n",
    "plt.rcParams['font.sans-serif'] = \"Arial\""
   ]
  },
  {
   "cell_type": "code",
   "execution_count": 2,
   "id": "959b4d22",
   "metadata": {},
   "outputs": [],
   "source": [
    "# Helper functions to block printing output\n",
    "import sys, os\n",
    "\n",
    "# Disable\n",
    "def blockPrint():\n",
    "    sys.stdout = open(os.devnull, 'w')\n",
    "\n",
    "# Restore\n",
    "def enablePrint():\n",
    "    sys.stdout = sys.__stdout__\n"
   ]
  },
  {
   "cell_type": "markdown",
   "id": "58f65af9",
   "metadata": {},
   "source": [
    "## Bug here - why isn't this fix working!!!\n",
    "Should be fixed now - re-test all code below with updates, make sure to change 'before', 'during', and 'after' inputs and get rid of any refs to 'add_reg_memory_designation' function"
   ]
  },
  {
   "cell_type": "code",
   "execution_count": 3,
   "id": "aef2b091",
   "metadata": {},
   "outputs": [],
   "source": [
    "from copy import deepcopy\n",
    "\n",
    "def add_memory_designations(df_use, before=['-2_-1', '-1_4'], during=['4_1'], after=['1_2', '2_7']):\n",
    "    \"\"\"Add in designations for before, 4hr (during), and after ANI administration into your dataframe\"\"\"\n",
    "    df = deepcopy(df_use)\n",
    "    desig = [\"\" for a in df.itertuples()]\n",
    "    \n",
    "    def create_bool_array_from_list(bool_list):\n",
    "        bool_out = False\n",
    "        for b in bool_list:\n",
    "            bool_out = np.bitwise_or(bool_out, b)\n",
    "            \n",
    "        return bool_out\n",
    "    \n",
    "    before_bool_list = [df[\"d1_d2\"] == bef for bef in before]\n",
    "    before_ind = np.where(create_bool_array_from_list(before_bool_list))[0]\n",
    "    during_bool_list = [df[\"d1_d2\"] == dur for dur in during]\n",
    "    during_ind = np.where(create_bool_array_from_list(during_bool_list))[0]\n",
    "    after_bool_list = [df[\"d1_d2\"] == aft for aft in after]\n",
    "    after_ind = np.where(create_bool_array_from_list(after_bool_list))[0]\n",
    "    \n",
    "       # Old hardcoded method below for reference/bug checking\n",
    "#     before_ind = np.where((df[\"d1_d2\"] == \"-2_-1\") | (df[\"d1_d2\"] == \"-1_4\"))[0]\n",
    "#     during_ind = np.where(df[\"d1_d2\"] == \"4_1\")[0]\n",
    "#     after_ind = np.where((df[\"d1_d2\"] == \"1_2\") | (df[\"d1_d2\"] == \"2_7\"))[0]\n",
    "    for idd, d in enumerate(desig):\n",
    "        if idd in before_ind:\n",
    "            desig[idd] = \"Before\"\n",
    "        elif idd in during_ind:\n",
    "            desig[idd] = \"4hr\"\n",
    "        elif idd in after_ind:\n",
    "            desig[idd] = \"After\"\n",
    "    df.insert(1, \"Designation\", desig)\n",
    "    \n",
    "    return df"
   ]
  },
  {
   "cell_type": "code",
   "execution_count": 4,
   "id": "e06e8974",
   "metadata": {},
   "outputs": [],
   "source": [
    "def stats_before_after(df_use, key_use, ax=None, fontsize=None):\n",
    "    \"\"\"Compares mean covariances in a DataFrame. Pools days before (-2 and -1) and days after (1 and 2) shock + \n",
    "    injection. Compares across and within groups.\n",
    "    :param reg: True = use reg_memory_designations, False = use regular memory degisnations\"\"\"\n",
    "    \n",
    "    df_before = df_use[df_use['Designation'] == 'Before']\n",
    "    df_after = df_use[df_use['Designation'] == 'After']\n",
    "    df4 = df_use[df_use['Designation'] == '4hr'] \n",
    "        \n",
    "    stat_bef, p_bef = stats.ttest_ind(df_before[df_before['Group'] == 'Ctrl'][key_use], \n",
    "                                     df_before[df_before['Group'] == 'ANI'][key_use], nan_policy='omit')\n",
    "    stat_aft, p_aft = stats.ttest_ind(df_after[df_after['Group'] == 'Ctrl'][key_use], \n",
    "                                     df_after[df_after['Group'] == 'ANI'][key_use], nan_policy='omit')\n",
    "    stat_ctrl, p_ctrl = stats.ttest_ind(df_before[df_before['Group'] == 'Ctrl'][key_use], \n",
    "                                     df_after[df_after['Group'] == 'Ctrl'][key_use], nan_policy='omit')\n",
    "    stat_ani, p_ani = stats.ttest_ind(df_before[df_before['Group'] == 'ANI'][key_use], \n",
    "                                     df_after[df_after['Group'] == 'ANI'][key_use], nan_policy='omit')\n",
    "    stat_dur, p_dur = stats.ttest_ind(df4[df4['Group'] == 'Ctrl'][key_use],\n",
    "                                     df4[df4['Group'] == 'ANI'][key_use], nan_policy='omit')\n",
    "    stat_b4c, p_b4c = stats.ttest_ind(df_before[df_before['Group'] == 'Ctrl'][key_use],\n",
    "                                      df4[df4['Group'] == 'Ctrl'][key_use], nan_policy='omit')\n",
    "    stat_b4a, p_b4a = stats.ttest_ind(df_before[df_before['Group'] == 'ANI'][key_use],\n",
    "                                      df4[df4['Group'] == 'ANI'][key_use], nan_policy='omit')\n",
    "    stat_4ac, p_4ac = stats.ttest_ind(df4[df4['Group'] == 'Ctrl'][key_use], \n",
    "                                     df_after[df_after['Group'] == 'Ctrl'][key_use], nan_policy='omit')\n",
    "    stat_4aa, p_4aa = stats.ttest_ind(df4[df4['Group'] == 'ANI'][key_use], \n",
    "                                     df_after[df_after['Group'] == 'ANI'][key_use], nan_policy='omit')\n",
    "    \n",
    "    if ax is None:  # Print to screen\n",
    "        print(f'p={p_bef:0.3g} baseline b/w groups')\n",
    "        print(f'p={p_aft:0.3g} day 1-2 b/w groups')\n",
    "        print(f'p={p_ctrl:0.3g} before-after Ctrl')\n",
    "        print(f'p={p_ani:0.3g} before-after ANI')\n",
    "        print(f'p={p_dur:0.3g} 4 hrs b/w groups')\n",
    "    else:  # Print into specified axes\n",
    "        if fontsize is None:\n",
    "            fsize = 12.0\n",
    "        else:\n",
    "            fsize = 4.0\n",
    "        ax.text(0.1, 0.9, f'p={p_4aa:0.3g} 4 hr v after ANI', fontsize=fsize)\n",
    "        ax.text(0.1, 0.8, f'p={p_4ac:0.3g} 4 hr v after Ctrl', fontsize=fsize)\n",
    "        ax.text(0.1, 0.7, f'p={p_b4a:0.3g} before v 4 hr ANI', fontsize=fsize)\n",
    "        ax.text(0.1, 0.6, f'p={p_b4c:0.3g} before v 4 hr Ctrl', fontsize=fsize)\n",
    "        ax.text(0.1, 0.5, f'p={p_bef:0.3g} baseline b/w groups', fontsize=fsize)\n",
    "        ax.text(0.1, 0.4, f'p={p_aft:0.3g} day 1-2 b/w groups', fontsize=fsize)\n",
    "        ax.text(0.1, 0.3, f'p={p_ctrl:0.3g} before-after Ctrl', fontsize=fsize)\n",
    "        ax.text(0.1, 0.2, f'p={p_ani:0.3g} before-after ANI', fontsize=fsize)\n",
    "        ax.text(0.1, 0.1, f'p={p_dur:0.3g} 4 hrs b/w groups', fontsize=fsize)"
   ]
  },
  {
   "cell_type": "markdown",
   "id": "9155970b",
   "metadata": {},
   "source": [
    "Step 0: Set up all dicts for plotting."
   ]
  },
  {
   "cell_type": "code",
   "execution_count": 5,
   "id": "f2646545",
   "metadata": {
    "scrolled": true
   },
   "outputs": [
    {
     "name": "stderr",
     "output_type": "stream",
     "text": [
      "Marble07: 0it [00:00, ?it/s]/Users/nkinsky/miniconda3/envs/eraser/lib/python3.9/site-packages/outdated/utils.py:14: OutdatedPackageWarning: The package outdated is out of date. Your version is 0.2.1, the latest is 0.2.2.\n",
      "Set the environment variable OUTDATED_IGNORE=1 to disable these warnings.\n",
      "  return warn(\n",
      "Marble07: 5it [00:04,  1.24it/s]"
     ]
    },
    {
     "name": "stdout",
     "output_type": "stream",
     "text": [
      "No tunings found for Marble07 Shock day 7: run .get_tuning_sig() and .save_sig_tuning()\n"
     ]
    },
    {
     "name": "stderr",
     "output_type": "stream",
     "text": [
      "Marble07: 6it [00:04,  1.23it/s]\n",
      "Marble12: 5it [00:03,  1.52it/s]"
     ]
    },
    {
     "name": "stdout",
     "output_type": "stream",
     "text": [
      "No tunings found for Marble12 Shock day 7: run .get_tuning_sig() and .save_sig_tuning()\n"
     ]
    },
    {
     "name": "stderr",
     "output_type": "stream",
     "text": [
      "Marble12: 6it [00:03,  1.54it/s]\n",
      "Marble24: 5it [00:03,  1.35it/s]"
     ]
    },
    {
     "name": "stdout",
     "output_type": "stream",
     "text": [
      "No tunings found for Marble24 Shock day 7: run .get_tuning_sig() and .save_sig_tuning()\n"
     ]
    },
    {
     "name": "stderr",
     "output_type": "stream",
     "text": [
      "Marble24: 6it [00:04,  1.38it/s]\n",
      "Marble27: 5it [00:03,  1.46it/s]"
     ]
    },
    {
     "name": "stdout",
     "output_type": "stream",
     "text": [
      "No tunings found for Marble27 Shock day 7: run .get_tuning_sig() and .save_sig_tuning()\n"
     ]
    },
    {
     "name": "stderr",
     "output_type": "stream",
     "text": [
      "Marble27: 6it [00:04,  1.47it/s]\n",
      "Marble06: 4it [00:02,  1.46it/s]"
     ]
    },
    {
     "name": "stdout",
     "output_type": "stream",
     "text": [
      "No position data found for Marble06 Shock day 7, loading neural data only\n"
     ]
    },
    {
     "name": "stderr",
     "output_type": "stream",
     "text": [
      "Marble06: 6it [00:06,  1.00s/it]\n",
      "Marble11: 5it [00:05,  1.09s/it]"
     ]
    },
    {
     "name": "stdout",
     "output_type": "stream",
     "text": [
      "No tunings found for Marble11 Shock day 7: run .get_tuning_sig() and .save_sig_tuning()\n"
     ]
    },
    {
     "name": "stderr",
     "output_type": "stream",
     "text": [
      "Marble11: 6it [00:06,  1.09s/it]\n",
      "Marble29: 5it [00:03,  1.40it/s]"
     ]
    },
    {
     "name": "stdout",
     "output_type": "stream",
     "text": [
      "No tunings found for Marble29 Shock day 7: run .get_tuning_sig() and .save_sig_tuning()\n"
     ]
    },
    {
     "name": "stderr",
     "output_type": "stream",
     "text": [
      "Marble29: 6it [00:04,  1.38it/s]\n",
      "Marble17: 5it [00:04,  1.06it/s]"
     ]
    },
    {
     "name": "stdout",
     "output_type": "stream",
     "text": [
      "No tunings found for Marble17 Shock day 7: run .get_tuning_sig() and .save_sig_tuning()\n"
     ]
    },
    {
     "name": "stderr",
     "output_type": "stream",
     "text": [
      "Marble17: 6it [00:05,  1.11it/s]\n",
      "Marble18: 5it [00:03,  1.54it/s]"
     ]
    },
    {
     "name": "stdout",
     "output_type": "stream",
     "text": [
      "No tunings found for Marble18 Shock day 7: run .get_tuning_sig() and .save_sig_tuning()\n"
     ]
    },
    {
     "name": "stderr",
     "output_type": "stream",
     "text": [
      "Marble18: 6it [00:03,  1.52it/s]\n",
      "Marble19: 5it [00:03,  1.36it/s]"
     ]
    },
    {
     "name": "stdout",
     "output_type": "stream",
     "text": [
      "No tunings found for Marble19 Shock day 7: run .get_tuning_sig() and .save_sig_tuning()\n"
     ]
    },
    {
     "name": "stderr",
     "output_type": "stream",
     "text": [
      "Marble19: 6it [00:04,  1.36it/s]\n",
      "Marble20: 5it [00:03,  1.55it/s]"
     ]
    },
    {
     "name": "stdout",
     "output_type": "stream",
     "text": [
      "No tunings found for Marble20 Shock day 7: run .get_tuning_sig() and .save_sig_tuning()\n"
     ]
    },
    {
     "name": "stderr",
     "output_type": "stream",
     "text": [
      "Marble20: 6it [00:03,  1.55it/s]\n",
      "Marble25: 5it [00:03,  1.37it/s]"
     ]
    },
    {
     "name": "stdout",
     "output_type": "stream",
     "text": [
      "No tunings found for Marble25 Shock day 7: run .get_tuning_sig() and .save_sig_tuning()\n"
     ]
    },
    {
     "name": "stderr",
     "output_type": "stream",
     "text": [
      "Marble25: 6it [00:04,  1.37it/s]\n",
      "Marble07: 4it [00:04,  1.05s/it]"
     ]
    },
    {
     "name": "stdout",
     "output_type": "stream",
     "text": [
      "No tunings found for Marble07 Shock day 7: run .get_tuning_sig() and .save_sig_tuning()\n"
     ]
    },
    {
     "name": "stderr",
     "output_type": "stream",
     "text": [
      "Marble07: 6it [00:06,  1.05s/it]\n",
      "Marble12: 4it [00:03,  1.14it/s]"
     ]
    },
    {
     "name": "stdout",
     "output_type": "stream",
     "text": [
      "No tunings found for Marble12 Shock day 7: run .get_tuning_sig() and .save_sig_tuning()\n"
     ]
    },
    {
     "name": "stderr",
     "output_type": "stream",
     "text": [
      "Marble12: 6it [00:05,  1.11it/s]\n",
      "Marble24: 4it [00:03,  1.12it/s]"
     ]
    },
    {
     "name": "stdout",
     "output_type": "stream",
     "text": [
      "No tunings found for Marble24 Shock day 7: run .get_tuning_sig() and .save_sig_tuning()\n"
     ]
    },
    {
     "name": "stderr",
     "output_type": "stream",
     "text": [
      "Marble24: 6it [00:05,  1.10it/s]\n",
      "Marble27: 4it [00:03,  1.10it/s]"
     ]
    },
    {
     "name": "stdout",
     "output_type": "stream",
     "text": [
      "No tunings found for Marble27 Shock day 7: run .get_tuning_sig() and .save_sig_tuning()\n"
     ]
    },
    {
     "name": "stderr",
     "output_type": "stream",
     "text": [
      "Marble27: 6it [00:05,  1.09it/s]\n",
      "Marble06: 4it [00:03,  1.05it/s]"
     ]
    },
    {
     "name": "stdout",
     "output_type": "stream",
     "text": [
      "No position data found for Marble06 Shock day 7, loading neural data only\n"
     ]
    },
    {
     "name": "stderr",
     "output_type": "stream",
     "text": [
      "Marble06: 6it [00:07,  1.25s/it]\n",
      "Marble11: 4it [00:05,  1.29s/it]"
     ]
    },
    {
     "name": "stdout",
     "output_type": "stream",
     "text": [
      "No tunings found for Marble11 Shock day 7: run .get_tuning_sig() and .save_sig_tuning()\n"
     ]
    },
    {
     "name": "stderr",
     "output_type": "stream",
     "text": [
      "Marble11: 6it [00:07,  1.27s/it]\n",
      "Marble29: 4it [00:03,  1.05it/s]"
     ]
    },
    {
     "name": "stdout",
     "output_type": "stream",
     "text": [
      "No tunings found for Marble29 Shock day 7: run .get_tuning_sig() and .save_sig_tuning()\n"
     ]
    },
    {
     "name": "stderr",
     "output_type": "stream",
     "text": [
      "Marble29: 6it [00:05,  1.04it/s]\n",
      "Marble17: 4it [00:04,  1.07s/it]"
     ]
    },
    {
     "name": "stdout",
     "output_type": "stream",
     "text": [
      "No tunings found for Marble17 Shock day 7: run .get_tuning_sig() and .save_sig_tuning()\n"
     ]
    },
    {
     "name": "stderr",
     "output_type": "stream",
     "text": [
      "Marble17: 6it [00:06,  1.06s/it]\n",
      "Marble18: 4it [00:03,  1.20it/s]"
     ]
    },
    {
     "name": "stdout",
     "output_type": "stream",
     "text": [
      "No tunings found for Marble18 Shock day 7: run .get_tuning_sig() and .save_sig_tuning()\n"
     ]
    },
    {
     "name": "stderr",
     "output_type": "stream",
     "text": [
      "Marble18: 6it [00:04,  1.20it/s]\n",
      "Marble19: 4it [00:03,  1.05it/s]"
     ]
    },
    {
     "name": "stdout",
     "output_type": "stream",
     "text": [
      "No tunings found for Marble19 Shock day 7: run .get_tuning_sig() and .save_sig_tuning()\n"
     ]
    },
    {
     "name": "stderr",
     "output_type": "stream",
     "text": [
      "Marble19: 6it [00:05,  1.06it/s]\n",
      "Marble20: 4it [00:03,  1.19it/s]"
     ]
    },
    {
     "name": "stdout",
     "output_type": "stream",
     "text": [
      "No tunings found for Marble20 Shock day 7: run .get_tuning_sig() and .save_sig_tuning()\n"
     ]
    },
    {
     "name": "stderr",
     "output_type": "stream",
     "text": [
      "Marble20: 6it [00:05,  1.19it/s]\n",
      "Marble25: 4it [00:03,  1.06it/s]"
     ]
    },
    {
     "name": "stdout",
     "output_type": "stream",
     "text": [
      "No tunings found for Marble25 Shock day 7: run .get_tuning_sig() and .save_sig_tuning()\n"
     ]
    },
    {
     "name": "stderr",
     "output_type": "stream",
     "text": [
      "Marble25: 6it [00:05,  1.05it/s]\n"
     ]
    }
   ],
   "source": [
    "bin_size = 0.5 # sec\n",
    "all_cov = cova.group_cov_across_days(bin_size=bin_size, arena1='Shock', arena2='Shock',\n",
    "                                               neurons='all', keep_silent=True)\n",
    "freeze_silent_cov = cova.group_cov_across_days(bin_size=bin_size, arena1='Shock', arena2='Shock',\n",
    "                                               neurons='freeze_onset', keep_silent=True)"
   ]
  },
  {
   "cell_type": "markdown",
   "id": "3be65f07",
   "metadata": {},
   "source": [
    "Plot #1: Freeze cell covariance before (day -1 and -2), 4 hr, and after (day 1 and 2), all normalized to day -2.  "
   ]
  },
  {
   "cell_type": "markdown",
   "id": "90aa39b4",
   "metadata": {},
   "source": [
    "NRK important note - try with keep_silent=False - all the above is probably driven by silent cells!  They are listed as 0 when they should be NaN by definition since the variance of a cell that fires no events is NaN, right?\n",
    "\n",
    "### NO! I'm only looking at base day covariances, which don't include silent cells! All good!"
   ]
  },
  {
   "cell_type": "code",
   "execution_count": 6,
   "id": "5911d7bd",
   "metadata": {},
   "outputs": [],
   "source": [
    "sigz_freeze_df = cova.cov_dict_to_df(freeze_silent_cov, baseline_dict_use=all_cov, include_silent=True)\n",
    "sigz_freeze_df = add_memory_designations(sigz_freeze_df)"
   ]
  },
  {
   "cell_type": "code",
   "execution_count": 7,
   "id": "8e683eaa",
   "metadata": {
    "scrolled": true
   },
   "outputs": [
    {
     "data": {
      "image/png": "[encoded data removed]",
      "text/plain": [
       "<Figure size 1080x180 with 5 Axes>"
      ]
     },
     "metadata": {
      "needs_background": "light"
     },
     "output_type": "display_data"
    }
   ],
   "source": [
    "sigz_df = sigz_freeze_df\n",
    "\n",
    "pairs_plot = ['-2_-1', '-1_4', '4_1', '1_2', '2_7']\n",
    "fig, ax = plt.subplots(1, len(pairs_plot), figsize=(3*len(pairs_plot), 2.5))\n",
    "for a, d1_d2 in zip(ax, pairs_plot):\n",
    "    sns.stripplot(x='Group', y='cov_z_mean', data=sigz_df[sigz_df['d1_d2'] == d1_d2], ax=a)\n",
    "    sns.despine(ax=a)\n",
    "    a.set_title(d1_d2.split('_')[0])\n",
    "    df_use = sigz_df[sigz_df['d1_d2'] == d1_d2]\n",
    "    stat, pval = stats.ttest_ind(df_use[df_use['Group'] == 'Ctrl']['cov_z_mean'], \n",
    "                                 df_use[df_use['Group'] == 'ANI']['cov_z_mean'])\n",
    "    \n",
    "    a.text(0, -0.4, f'p_t = {pval:.3g}')\n",
    "    \n",
    "erp.match_max_lims(ax, axis='y')"
   ]
  },
  {
   "cell_type": "markdown",
   "id": "dc7b591a",
   "metadata": {},
   "source": [
    "### Set up figure to contain all covariance plots together, nicely aligned!"
   ]
  },
  {
   "cell_type": "code",
   "execution_count": 8,
   "id": "6005e6bd",
   "metadata": {},
   "outputs": [
    {
     "data": {
      "application/javascript": [
       "/* Put everything inside the global mpl namespace */\n",
       "/* global mpl */\n",
       "window.mpl = {};\n",
       "\n",
       "mpl.get_websocket_type = function () {\n",
       "    if (typeof WebSocket !== 'undefined') {\n",
       "        return WebSocket;\n",
       "    } else if (typeof MozWebSocket !== 'undefined') {\n",
       "        return MozWebSocket;\n",
       "    } else {\n",
       "        alert(\n",
       "            'Your browser does not have WebSocket support. ' +\n",
       "                'Please try Chrome, Safari or Firefox ≥ 6. ' +\n",
       "                'Firefox 4 and 5 are also supported but you ' +\n",
       "                'have to enable WebSockets in about:config.'\n",
       "        );\n",
       "    }\n",
       "};\n",
       "\n",
       "mpl.figure = function (figure_id, websocket, ondownload, parent_element) {\n",
       "    this.id = figure_id;\n",
       "\n",
       "    this.ws = websocket;\n",
       "\n",
       "    this.supports_binary = this.ws.binaryType !== undefined;\n",
       "\n",
       "    if (!this.supports_binary) {\n",
       "        var warnings = document.getElementById('mpl-warnings');\n",
       "        if (warnings) {\n",
       "            warnings.style.display = 'block';\n",
       "            warnings.textContent =\n",
       "                'This browser does not support binary websocket messages. ' +\n",
       "                'Performance may be slow.';\n",
       "        }\n",
       "    }\n",
       "\n",
       "    this.imageObj = new Image();\n",
       "\n",
       "    this.context = undefined;\n",
       "    this.message = undefined;\n",
       "    this.canvas = undefined;\n",
       "    this.rubberband_canvas = undefined;\n",
       "    this.rubberband_context = undefined;\n",
       "    this.format_dropdown = undefined;\n",
       "\n",
       "    this.image_mode = 'full';\n",
       "\n",
       "    this.root = document.createElement('div');\n",
       "    this.root.setAttribute('style', 'display: inline-block');\n",
       "    this._root_extra_style(this.root);\n",
       "\n",
       "    parent_element.appendChild(this.root);\n",
       "\n",
       "    this._init_header(this);\n",
       "    this._init_canvas(this);\n",
       "    this._init_toolbar(this);\n",
       "\n",
       "    var fig = this;\n",
       "\n",
       "    this.waiting = false;\n",
       "\n",
       "    this.ws.onopen = function () {\n",
       "        fig.send_message('supports_binary', { value: fig.supports_binary });\n",
       "        fig.send_message('send_image_mode', {});\n",
       "        if (fig.ratio !== 1) {\n",
       "            fig.send_message('set_dpi_ratio', { dpi_ratio: fig.ratio });\n",
       "        }\n",
       "        fig.send_message('refresh', {});\n",
       "    };\n",
       "\n",
       "    this.imageObj.onload = function () {\n",
       "        if (fig.image_mode === 'full') {\n",
       "            // Full images could contain transparency (where diff images\n",
       "            // almost always do), so we need to clear the canvas so that\n",
       "            // there is no ghosting.\n",
       "            fig.context.clearRect(0, 0, fig.canvas.width, fig.canvas.height);\n",
       "        }\n",
       "        fig.context.drawImage(fig.imageObj, 0, 0);\n",
       "    };\n",
       "\n",
       "    this.imageObj.onunload = function () {\n",
       "        fig.ws.close();\n",
       "    };\n",
       "\n",
       "    this.ws.onmessage = this._make_on_message_function(this);\n",
       "\n",
       "    this.ondownload = ondownload;\n",
       "};\n",
       "\n",
       "mpl.figure.prototype._init_header = function () {\n",
       "    var titlebar = document.createElement('div');\n",
       "    titlebar.classList =\n",
       "        'ui-dialog-titlebar ui-widget-header ui-corner-all ui-helper-clearfix';\n",
       "    var titletext = document.createElement('div');\n",
       "    titletext.classList = 'ui-dialog-title';\n",
       "    titletext.setAttribute(\n",
       "        'style',\n",
       "        'width: 100%; text-align: center; padding: 3px;'\n",
       "    );\n",
       "    titlebar.appendChild(titletext);\n",
       "    this.root.appendChild(titlebar);\n",
       "    this.header = titletext;\n",
       "};\n",
       "\n",
       "mpl.figure.prototype._canvas_extra_style = function (_canvas_div) {};\n",
       "\n",
       "mpl.figure.prototype._root_extra_style = function (_canvas_div) {};\n",
       "\n",
       "mpl.figure.prototype._init_canvas = function () {\n",
       "    var fig = this;\n",
       "\n",
       "    var canvas_div = (this.canvas_div = document.createElement('div'));\n",
       "    canvas_div.setAttribute(\n",
       "        'style',\n",
       "        'border: 1px solid #ddd;' +\n",
       "            'box-sizing: content-box;' +\n",
       "            'clear: both;' +\n",
       "            'min-height: 1px;' +\n",
       "            'min-width: 1px;' +\n",
       "            'outline: 0;' +\n",
       "            'overflow: hidden;' +\n",
       "            'position: relative;' +\n",
       "            'resize: both;'\n",
       "    );\n",
       "\n",
       "    function on_keyboard_event_closure(name) {\n",
       "        return function (event) {\n",
       "            return fig.key_event(event, name);\n",
       "        };\n",
       "    }\n",
       "\n",
       "    canvas_div.addEventListener(\n",
       "        'keydown',\n",
       "        on_keyboard_event_closure('key_press')\n",
       "    );\n",
       "    canvas_div.addEventListener(\n",
       "        'keyup',\n",
       "        on_keyboard_event_closure('key_release')\n",
       "    );\n",
       "\n",
       "    this._canvas_extra_style(canvas_div);\n",
       "    this.root.appendChild(canvas_div);\n",
       "\n",
       "    var canvas = (this.canvas = document.createElement('canvas'));\n",
       "    canvas.classList.add('mpl-canvas');\n",
       "    canvas.setAttribute('style', 'box-sizing: content-box;');\n",
       "\n",
       "    this.context = canvas.getContext('2d');\n",
       "\n",
       "    var backingStore =\n",
       "        this.context.backingStorePixelRatio ||\n",
       "        this.context.webkitBackingStorePixelRatio ||\n",
       "        this.context.mozBackingStorePixelRatio ||\n",
       "        this.context.msBackingStorePixelRatio ||\n",
       "        this.context.oBackingStorePixelRatio ||\n",
       "        this.context.backingStorePixelRatio ||\n",
       "        1;\n",
       "\n",
       "    this.ratio = (window.devicePixelRatio || 1) / backingStore;\n",
       "\n",
       "    var rubberband_canvas = (this.rubberband_canvas = document.createElement(\n",
       "        'canvas'\n",
       "    ));\n",
       "    rubberband_canvas.setAttribute(\n",
       "        'style',\n",
       "        'box-sizing: content-box; position: absolute; left: 0; top: 0; z-index: 1;'\n",
       "    );\n",
       "\n",
       "    // Apply a ponyfill if ResizeObserver is not implemented by browser.\n",
       "    if (this.ResizeObserver === undefined) {\n",
       "        if (window.ResizeObserver !== undefined) {\n",
       "            this.ResizeObserver = window.ResizeObserver;\n",
       "        } else {\n",
       "            var obs = _JSXTOOLS_RESIZE_OBSERVER({});\n",
       "            this.ResizeObserver = obs.ResizeObserver;\n",
       "        }\n",
       "    }\n",
       "\n",
       "    this.resizeObserverInstance = new this.ResizeObserver(function (entries) {\n",
       "        var nentries = entries.length;\n",
       "        for (var i = 0; i < nentries; i++) {\n",
       "            var entry = entries[i];\n",
       "            var width, height;\n",
       "            if (entry.contentBoxSize) {\n",
       "                if (entry.contentBoxSize instanceof Array) {\n",
       "                    // Chrome 84 implements new version of spec.\n",
       "                    width = entry.contentBoxSize[0].inlineSize;\n",
       "                    height = entry.contentBoxSize[0].blockSize;\n",
       "                } else {\n",
       "                    // Firefox implements old version of spec.\n",
       "                    width = entry.contentBoxSize.inlineSize;\n",
       "                    height = entry.contentBoxSize.blockSize;\n",
       "                }\n",
       "            } else {\n",
       "                // Chrome <84 implements even older version of spec.\n",
       "                width = entry.contentRect.width;\n",
       "                height = entry.contentRect.height;\n",
       "            }\n",
       "\n",
       "            // Keep the size of the canvas and rubber band canvas in sync with\n",
       "            // the canvas container.\n",
       "            if (entry.devicePixelContentBoxSize) {\n",
       "                // Chrome 84 implements new version of spec.\n",
       "                canvas.setAttribute(\n",
       "                    'width',\n",
       "                    entry.devicePixelContentBoxSize[0].inlineSize\n",
       "                );\n",
       "                canvas.setAttribute(\n",
       "                    'height',\n",
       "                    entry.devicePixelContentBoxSize[0].blockSize\n",
       "                );\n",
       "            } else {\n",
       "                canvas.setAttribute('width', width * fig.ratio);\n",
       "                canvas.setAttribute('height', height * fig.ratio);\n",
       "            }\n",
       "            canvas.setAttribute(\n",
       "                'style',\n",
       "                'width: ' + width + 'px; height: ' + height + 'px;'\n",
       "            );\n",
       "\n",
       "            rubberband_canvas.setAttribute('width', width);\n",
       "            rubberband_canvas.setAttribute('height', height);\n",
       "\n",
       "            // And update the size in Python. We ignore the initial 0/0 size\n",
       "            // that occurs as the element is placed into the DOM, which should\n",
       "            // otherwise not happen due to the minimum size styling.\n",
       "            if (fig.ws.readyState == 1 && width != 0 && height != 0) {\n",
       "                fig.request_resize(width, height);\n",
       "            }\n",
       "        }\n",
       "    });\n",
       "    this.resizeObserverInstance.observe(canvas_div);\n",
       "\n",
       "    function on_mouse_event_closure(name) {\n",
       "        return function (event) {\n",
       "            return fig.mouse_event(event, name);\n",
       "        };\n",
       "    }\n",
       "\n",
       "    rubberband_canvas.addEventListener(\n",
       "        'mousedown',\n",
       "        on_mouse_event_closure('button_press')\n",
       "    );\n",
       "    rubberband_canvas.addEventListener(\n",
       "        'mouseup',\n",
       "        on_mouse_event_closure('button_release')\n",
       "    );\n",
       "    rubberband_canvas.addEventListener(\n",
       "        'dblclick',\n",
       "        on_mouse_event_closure('dblclick')\n",
       "    );\n",
       "    // Throttle sequential mouse events to 1 every 20ms.\n",
       "    rubberband_canvas.addEventListener(\n",
       "        'mousemove',\n",
       "        on_mouse_event_closure('motion_notify')\n",
       "    );\n",
       "\n",
       "    rubberband_canvas.addEventListener(\n",
       "        'mouseenter',\n",
       "        on_mouse_event_closure('figure_enter')\n",
       "    );\n",
       "    rubberband_canvas.addEventListener(\n",
       "        'mouseleave',\n",
       "        on_mouse_event_closure('figure_leave')\n",
       "    );\n",
       "\n",
       "    canvas_div.addEventListener('wheel', function (event) {\n",
       "        if (event.deltaY < 0) {\n",
       "            event.step = 1;\n",
       "        } else {\n",
       "            event.step = -1;\n",
       "        }\n",
       "        on_mouse_event_closure('scroll')(event);\n",
       "    });\n",
       "\n",
       "    canvas_div.appendChild(canvas);\n",
       "    canvas_div.appendChild(rubberband_canvas);\n",
       "\n",
       "    this.rubberband_context = rubberband_canvas.getContext('2d');\n",
       "    this.rubberband_context.strokeStyle = '#000000';\n",
       "\n",
       "    this._resize_canvas = function (width, height, forward) {\n",
       "        if (forward) {\n",
       "            canvas_div.style.width = width + 'px';\n",
       "            canvas_div.style.height = height + 'px';\n",
       "        }\n",
       "    };\n",
       "\n",
       "    // Disable right mouse context menu.\n",
       "    this.rubberband_canvas.addEventListener('contextmenu', function (_e) {\n",
       "        event.preventDefault();\n",
       "        return false;\n",
       "    });\n",
       "\n",
       "    function set_focus() {\n",
       "        canvas.focus();\n",
       "        canvas_div.focus();\n",
       "    }\n",
       "\n",
       "    window.setTimeout(set_focus, 100);\n",
       "};\n",
       "\n",
       "mpl.figure.prototype._init_toolbar = function () {\n",
       "    var fig = this;\n",
       "\n",
       "    var toolbar = document.createElement('div');\n",
       "    toolbar.classList = 'mpl-toolbar';\n",
       "    this.root.appendChild(toolbar);\n",
       "\n",
       "    function on_click_closure(name) {\n",
       "        return function (_event) {\n",
       "            return fig.toolbar_button_onclick(name);\n",
       "        };\n",
       "    }\n",
       "\n",
       "    function on_mouseover_closure(tooltip) {\n",
       "        return function (event) {\n",
       "            if (!event.currentTarget.disabled) {\n",
       "                return fig.toolbar_button_onmouseover(tooltip);\n",
       "            }\n",
       "        };\n",
       "    }\n",
       "\n",
       "    fig.buttons = {};\n",
       "    var buttonGroup = document.createElement('div');\n",
       "    buttonGroup.classList = 'mpl-button-group';\n",
       "    for (var toolbar_ind in mpl.toolbar_items) {\n",
       "        var name = mpl.toolbar_items[toolbar_ind][0];\n",
       "        var tooltip = mpl.toolbar_items[toolbar_ind][1];\n",
       "        var image = mpl.toolbar_items[toolbar_ind][2];\n",
       "        var method_name = mpl.toolbar_items[toolbar_ind][3];\n",
       "\n",
       "        if (!name) {\n",
       "            /* Instead of a spacer, we start a new button group. */\n",
       "            if (buttonGroup.hasChildNodes()) {\n",
       "                toolbar.appendChild(buttonGroup);\n",
       "            }\n",
       "            buttonGroup = document.createElement('div');\n",
       "            buttonGroup.classList = 'mpl-button-group';\n",
       "            continue;\n",
       "        }\n",
       "\n",
       "        var button = (fig.buttons[name] = document.createElement('button'));\n",
       "        button.classList = 'mpl-widget';\n",
       "        button.setAttribute('role', 'button');\n",
       "        button.setAttribute('aria-disabled', 'false');\n",
       "        button.addEventListener('click', on_click_closure(method_name));\n",
       "        button.addEventListener('mouseover', on_mouseover_closure(tooltip));\n",
       "\n",
       "        var icon_img = document.createElement('img');\n",
       "        icon_img.src = '_images/' + image + '.png';\n",
       "        icon_img.srcset = '_images/' + image + '_large.png 2x';\n",
       "        icon_img.alt = tooltip;\n",
       "        button.appendChild(icon_img);\n",
       "\n",
       "        buttonGroup.appendChild(button);\n",
       "    }\n",
       "\n",
       "    if (buttonGroup.hasChildNodes()) {\n",
       "        toolbar.appendChild(buttonGroup);\n",
       "    }\n",
       "\n",
       "    var fmt_picker = document.createElement('select');\n",
       "    fmt_picker.classList = 'mpl-widget';\n",
       "    toolbar.appendChild(fmt_picker);\n",
       "    this.format_dropdown = fmt_picker;\n",
       "\n",
       "    for (var ind in mpl.extensions) {\n",
       "        var fmt = mpl.extensions[ind];\n",
       "        var option = document.createElement('option');\n",
       "        option.selected = fmt === mpl.default_extension;\n",
       "        option.innerHTML = fmt;\n",
       "        fmt_picker.appendChild(option);\n",
       "    }\n",
       "\n",
       "    var status_bar = document.createElement('span');\n",
       "    status_bar.classList = 'mpl-message';\n",
       "    toolbar.appendChild(status_bar);\n",
       "    this.message = status_bar;\n",
       "};\n",
       "\n",
       "mpl.figure.prototype.request_resize = function (x_pixels, y_pixels) {\n",
       "    // Request matplotlib to resize the figure. Matplotlib will then trigger a resize in the client,\n",
       "    // which will in turn request a refresh of the image.\n",
       "    this.send_message('resize', { width: x_pixels, height: y_pixels });\n",
       "};\n",
       "\n",
       "mpl.figure.prototype.send_message = function (type, properties) {\n",
       "    properties['type'] = type;\n",
       "    properties['figure_id'] = this.id;\n",
       "    this.ws.send(JSON.stringify(properties));\n",
       "};\n",
       "\n",
       "mpl.figure.prototype.send_draw_message = function () {\n",
       "    if (!this.waiting) {\n",
       "        this.waiting = true;\n",
       "        this.ws.send(JSON.stringify({ type: 'draw', figure_id: this.id }));\n",
       "    }\n",
       "};\n",
       "\n",
       "mpl.figure.prototype.handle_save = function (fig, _msg) {\n",
       "    var format_dropdown = fig.format_dropdown;\n",
       "    var format = format_dropdown.options[format_dropdown.selectedIndex].value;\n",
       "    fig.ondownload(fig, format);\n",
       "};\n",
       "\n",
       "mpl.figure.prototype.handle_resize = function (fig, msg) {\n",
       "    var size = msg['size'];\n",
       "    if (size[0] !== fig.canvas.width || size[1] !== fig.canvas.height) {\n",
       "        fig._resize_canvas(size[0], size[1], msg['forward']);\n",
       "        fig.send_message('refresh', {});\n",
       "    }\n",
       "};\n",
       "\n",
       "mpl.figure.prototype.handle_rubberband = function (fig, msg) {\n",
       "    var x0 = msg['x0'] / fig.ratio;\n",
       "    var y0 = (fig.canvas.height - msg['y0']) / fig.ratio;\n",
       "    var x1 = msg['x1'] / fig.ratio;\n",
       "    var y1 = (fig.canvas.height - msg['y1']) / fig.ratio;\n",
       "    x0 = Math.floor(x0) + 0.5;\n",
       "    y0 = Math.floor(y0) + 0.5;\n",
       "    x1 = Math.floor(x1) + 0.5;\n",
       "    y1 = Math.floor(y1) + 0.5;\n",
       "    var min_x = Math.min(x0, x1);\n",
       "    var min_y = Math.min(y0, y1);\n",
       "    var width = Math.abs(x1 - x0);\n",
       "    var height = Math.abs(y1 - y0);\n",
       "\n",
       "    fig.rubberband_context.clearRect(\n",
       "        0,\n",
       "        0,\n",
       "        fig.canvas.width / fig.ratio,\n",
       "        fig.canvas.height / fig.ratio\n",
       "    );\n",
       "\n",
       "    fig.rubberband_context.strokeRect(min_x, min_y, width, height);\n",
       "};\n",
       "\n",
       "mpl.figure.prototype.handle_figure_label = function (fig, msg) {\n",
       "    // Updates the figure title.\n",
       "    fig.header.textContent = msg['label'];\n",
       "};\n",
       "\n",
       "mpl.figure.prototype.handle_cursor = function (fig, msg) {\n",
       "    var cursor = msg['cursor'];\n",
       "    switch (cursor) {\n",
       "        case 0:\n",
       "            cursor = 'pointer';\n",
       "            break;\n",
       "        case 1:\n",
       "            cursor = 'default';\n",
       "            break;\n",
       "        case 2:\n",
       "            cursor = 'crosshair';\n",
       "            break;\n",
       "        case 3:\n",
       "            cursor = 'move';\n",
       "            break;\n",
       "    }\n",
       "    fig.rubberband_canvas.style.cursor = cursor;\n",
       "};\n",
       "\n",
       "mpl.figure.prototype.handle_message = function (fig, msg) {\n",
       "    fig.message.textContent = msg['message'];\n",
       "};\n",
       "\n",
       "mpl.figure.prototype.handle_draw = function (fig, _msg) {\n",
       "    // Request the server to send over a new figure.\n",
       "    fig.send_draw_message();\n",
       "};\n",
       "\n",
       "mpl.figure.prototype.handle_image_mode = function (fig, msg) {\n",
       "    fig.image_mode = msg['mode'];\n",
       "};\n",
       "\n",
       "mpl.figure.prototype.handle_history_buttons = function (fig, msg) {\n",
       "    for (var key in msg) {\n",
       "        if (!(key in fig.buttons)) {\n",
       "            continue;\n",
       "        }\n",
       "        fig.buttons[key].disabled = !msg[key];\n",
       "        fig.buttons[key].setAttribute('aria-disabled', !msg[key]);\n",
       "    }\n",
       "};\n",
       "\n",
       "mpl.figure.prototype.handle_navigate_mode = function (fig, msg) {\n",
       "    if (msg['mode'] === 'PAN') {\n",
       "        fig.buttons['Pan'].classList.add('active');\n",
       "        fig.buttons['Zoom'].classList.remove('active');\n",
       "    } else if (msg['mode'] === 'ZOOM') {\n",
       "        fig.buttons['Pan'].classList.remove('active');\n",
       "        fig.buttons['Zoom'].classList.add('active');\n",
       "    } else {\n",
       "        fig.buttons['Pan'].classList.remove('active');\n",
       "        fig.buttons['Zoom'].classList.remove('active');\n",
       "    }\n",
       "};\n",
       "\n",
       "mpl.figure.prototype.updated_canvas_event = function () {\n",
       "    // Called whenever the canvas gets updated.\n",
       "    this.send_message('ack', {});\n",
       "};\n",
       "\n",
       "// A function to construct a web socket function for onmessage handling.\n",
       "// Called in the figure constructor.\n",
       "mpl.figure.prototype._make_on_message_function = function (fig) {\n",
       "    return function socket_on_message(evt) {\n",
       "        if (evt.data instanceof Blob) {\n",
       "            var img = evt.data;\n",
       "            if (img.type !== 'image/png') {\n",
       "                /* FIXME: We get \"Resource interpreted as Image but\n",
       "                 * transferred with MIME type text/plain:\" errors on\n",
       "                 * Chrome.  But how to set the MIME type?  It doesn't seem\n",
       "                 * to be part of the websocket stream */\n",
       "                img.type = 'image/png';\n",
       "            }\n",
       "\n",
       "            /* Free the memory for the previous frames */\n",
       "            if (fig.imageObj.src) {\n",
       "                (window.URL || window.webkitURL).revokeObjectURL(\n",
       "                    fig.imageObj.src\n",
       "                );\n",
       "            }\n",
       "\n",
       "            fig.imageObj.src = (window.URL || window.webkitURL).createObjectURL(\n",
       "                img\n",
       "            );\n",
       "            fig.updated_canvas_event();\n",
       "            fig.waiting = false;\n",
       "            return;\n",
       "        } else if (\n",
       "            typeof evt.data === 'string' &&\n",
       "            evt.data.slice(0, 21) === 'data:image/png;base64'\n",
       "        ) {\n",
       "            fig.imageObj.src = evt.data;\n",
       "            fig.updated_canvas_event();\n",
       "            fig.waiting = false;\n",
       "            return;\n",
       "        }\n",
       "\n",
       "        var msg = JSON.parse(evt.data);\n",
       "        var msg_type = msg['type'];\n",
       "\n",
       "        // Call the  \"handle_{type}\" callback, which takes\n",
       "        // the figure and JSON message as its only arguments.\n",
       "        try {\n",
       "            var callback = fig['handle_' + msg_type];\n",
       "        } catch (e) {\n",
       "            console.log(\n",
       "                \"No handler for the '\" + msg_type + \"' message type: \",\n",
       "                msg\n",
       "            );\n",
       "            return;\n",
       "        }\n",
       "\n",
       "        if (callback) {\n",
       "            try {\n",
       "                // console.log(\"Handling '\" + msg_type + \"' message: \", msg);\n",
       "                callback(fig, msg);\n",
       "            } catch (e) {\n",
       "                console.log(\n",
       "                    \"Exception inside the 'handler_\" + msg_type + \"' callback:\",\n",
       "                    e,\n",
       "                    e.stack,\n",
       "                    msg\n",
       "                );\n",
       "            }\n",
       "        }\n",
       "    };\n",
       "};\n",
       "\n",
       "// from http://stackoverflow.com/questions/1114465/getting-mouse-location-in-canvas\n",
       "mpl.findpos = function (e) {\n",
       "    //this section is from http://www.quirksmode.org/js/events_properties.html\n",
       "    var targ;\n",
       "    if (!e) {\n",
       "        e = window.event;\n",
       "    }\n",
       "    if (e.target) {\n",
       "        targ = e.target;\n",
       "    } else if (e.srcElement) {\n",
       "        targ = e.srcElement;\n",
       "    }\n",
       "    if (targ.nodeType === 3) {\n",
       "        // defeat Safari bug\n",
       "        targ = targ.parentNode;\n",
       "    }\n",
       "\n",
       "    // pageX,Y are the mouse positions relative to the document\n",
       "    var boundingRect = targ.getBoundingClientRect();\n",
       "    var x = e.pageX - (boundingRect.left + document.body.scrollLeft);\n",
       "    var y = e.pageY - (boundingRect.top + document.body.scrollTop);\n",
       "\n",
       "    return { x: x, y: y };\n",
       "};\n",
       "\n",
       "/*\n",
       " * return a copy of an object with only non-object keys\n",
       " * we need this to avoid circular references\n",
       " * http://stackoverflow.com/a/24161582/3208463\n",
       " */\n",
       "function simpleKeys(original) {\n",
       "    return Object.keys(original).reduce(function (obj, key) {\n",
       "        if (typeof original[key] !== 'object') {\n",
       "            obj[key] = original[key];\n",
       "        }\n",
       "        return obj;\n",
       "    }, {});\n",
       "}\n",
       "\n",
       "mpl.figure.prototype.mouse_event = function (event, name) {\n",
       "    var canvas_pos = mpl.findpos(event);\n",
       "\n",
       "    if (name === 'button_press') {\n",
       "        this.canvas.focus();\n",
       "        this.canvas_div.focus();\n",
       "    }\n",
       "\n",
       "    var x = canvas_pos.x * this.ratio;\n",
       "    var y = canvas_pos.y * this.ratio;\n",
       "\n",
       "    this.send_message(name, {\n",
       "        x: x,\n",
       "        y: y,\n",
       "        button: event.button,\n",
       "        step: event.step,\n",
       "        guiEvent: simpleKeys(event),\n",
       "    });\n",
       "\n",
       "    /* This prevents the web browser from automatically changing to\n",
       "     * the text insertion cursor when the button is pressed.  We want\n",
       "     * to control all of the cursor setting manually through the\n",
       "     * 'cursor' event from matplotlib */\n",
       "    event.preventDefault();\n",
       "    return false;\n",
       "};\n",
       "\n",
       "mpl.figure.prototype._key_event_extra = function (_event, _name) {\n",
       "    // Handle any extra behaviour associated with a key event\n",
       "};\n",
       "\n",
       "mpl.figure.prototype.key_event = function (event, name) {\n",
       "    // Prevent repeat events\n",
       "    if (name === 'key_press') {\n",
       "        if (event.key === this._key) {\n",
       "            return;\n",
       "        } else {\n",
       "            this._key = event.key;\n",
       "        }\n",
       "    }\n",
       "    if (name === 'key_release') {\n",
       "        this._key = null;\n",
       "    }\n",
       "\n",
       "    var value = '';\n",
       "    if (event.ctrlKey && event.key !== 'Control') {\n",
       "        value += 'ctrl+';\n",
       "    }\n",
       "    else if (event.altKey && event.key !== 'Alt') {\n",
       "        value += 'alt+';\n",
       "    }\n",
       "    else if (event.shiftKey && event.key !== 'Shift') {\n",
       "        value += 'shift+';\n",
       "    }\n",
       "\n",
       "    value += 'k' + event.key;\n",
       "\n",
       "    this._key_event_extra(event, name);\n",
       "\n",
       "    this.send_message(name, { key: value, guiEvent: simpleKeys(event) });\n",
       "    return false;\n",
       "};\n",
       "\n",
       "mpl.figure.prototype.toolbar_button_onclick = function (name) {\n",
       "    if (name === 'download') {\n",
       "        this.handle_save(this, null);\n",
       "    } else {\n",
       "        this.send_message('toolbar_button', { name: name });\n",
       "    }\n",
       "};\n",
       "\n",
       "mpl.figure.prototype.toolbar_button_onmouseover = function (tooltip) {\n",
       "    this.message.textContent = tooltip;\n",
       "};\n",
       "\n",
       "///////////////// REMAINING CONTENT GENERATED BY embed_js.py /////////////////\n",
       "// prettier-ignore\n",
       "var _JSXTOOLS_RESIZE_OBSERVER=function(A){var t,i=new WeakMap,n=new WeakMap,a=new WeakMap,r=new WeakMap,o=new Set;function s(e){if(!(this instanceof s))throw new TypeError(\"Constructor requires 'new' operator\");i.set(this,e)}function h(){throw new TypeError(\"Function is not a constructor\")}function c(e,t,i,n){e=0 in arguments?Number(arguments[0]):0,t=1 in arguments?Number(arguments[1]):0,i=2 in arguments?Number(arguments[2]):0,n=3 in arguments?Number(arguments[3]):0,this.right=(this.x=this.left=e)+(this.width=i),this.bottom=(this.y=this.top=t)+(this.height=n),Object.freeze(this)}function d(){t=requestAnimationFrame(d);var s=new WeakMap,p=new Set;o.forEach((function(t){r.get(t).forEach((function(i){var r=t instanceof window.SVGElement,o=a.get(t),d=r?0:parseFloat(o.paddingTop),f=r?0:parseFloat(o.paddingRight),l=r?0:parseFloat(o.paddingBottom),u=r?0:parseFloat(o.paddingLeft),g=r?0:parseFloat(o.borderTopWidth),m=r?0:parseFloat(o.borderRightWidth),w=r?0:parseFloat(o.borderBottomWidth),b=u+f,F=d+l,v=(r?0:parseFloat(o.borderLeftWidth))+m,W=g+w,y=r?0:t.offsetHeight-W-t.clientHeight,E=r?0:t.offsetWidth-v-t.clientWidth,R=b+v,z=F+W,M=r?t.width:parseFloat(o.width)-R-E,O=r?t.height:parseFloat(o.height)-z-y;if(n.has(t)){var k=n.get(t);if(k[0]===M&&k[1]===O)return}n.set(t,[M,O]);var S=Object.create(h.prototype);S.target=t,S.contentRect=new c(u,d,M,O),s.has(i)||(s.set(i,[]),p.add(i)),s.get(i).push(S)}))})),p.forEach((function(e){i.get(e).call(e,s.get(e),e)}))}return s.prototype.observe=function(i){if(i instanceof window.Element){r.has(i)||(r.set(i,new Set),o.add(i),a.set(i,window.getComputedStyle(i)));var n=r.get(i);n.has(this)||n.add(this),cancelAnimationFrame(t),t=requestAnimationFrame(d)}},s.prototype.unobserve=function(i){if(i instanceof window.Element&&r.has(i)){var n=r.get(i);n.has(this)&&(n.delete(this),n.size||(r.delete(i),o.delete(i))),n.size||r.delete(i),o.size||cancelAnimationFrame(t)}},A.DOMRectReadOnly=c,A.ResizeObserver=s,A.ResizeObserverEntry=h,A}; // eslint-disable-line\n",
       "mpl.toolbar_items = [[\"Home\", \"Reset original view\", \"fa fa-home icon-home\", \"home\"], [\"Back\", \"Back to previous view\", \"fa fa-arrow-left icon-arrow-left\", \"back\"], [\"Forward\", \"Forward to next view\", \"fa fa-arrow-right icon-arrow-right\", \"forward\"], [\"\", \"\", \"\", \"\"], [\"Pan\", \"Left button pans, Right button zooms\\nx/y fixes axis, CTRL fixes aspect\", \"fa fa-arrows icon-move\", \"pan\"], [\"Zoom\", \"Zoom to rectangle\\nx/y fixes axis, CTRL fixes aspect\", \"fa fa-square-o icon-check-empty\", \"zoom\"], [\"\", \"\", \"\", \"\"], [\"Download\", \"Download plot\", \"fa fa-floppy-o icon-save\", \"download\"]];\n",
       "\n",
       "mpl.extensions = [\"eps\", \"jpeg\", \"pgf\", \"pdf\", \"png\", \"ps\", \"raw\", \"svg\", \"tif\"];\n",
       "\n",
       "mpl.default_extension = \"png\";/* global mpl */\n",
       "\n",
       "var comm_websocket_adapter = function (comm) {\n",
       "    // Create a \"websocket\"-like object which calls the given IPython comm\n",
       "    // object with the appropriate methods. Currently this is a non binary\n",
       "    // socket, so there is still some room for performance tuning.\n",
       "    var ws = {};\n",
       "\n",
       "    ws.binaryType = comm.kernel.ws.binaryType;\n",
       "    ws.readyState = comm.kernel.ws.readyState;\n",
       "    function updateReadyState(_event) {\n",
       "        if (comm.kernel.ws) {\n",
       "            ws.readyState = comm.kernel.ws.readyState;\n",
       "        } else {\n",
       "            ws.readyState = 3; // Closed state.\n",
       "        }\n",
       "    }\n",
       "    comm.kernel.ws.addEventListener('open', updateReadyState);\n",
       "    comm.kernel.ws.addEventListener('close', updateReadyState);\n",
       "    comm.kernel.ws.addEventListener('error', updateReadyState);\n",
       "\n",
       "    ws.close = function () {\n",
       "        comm.close();\n",
       "    };\n",
       "    ws.send = function (m) {\n",
       "        //console.log('sending', m);\n",
       "        comm.send(m);\n",
       "    };\n",
       "    // Register the callback with on_msg.\n",
       "    comm.on_msg(function (msg) {\n",
       "        //console.log('receiving', msg['content']['data'], msg);\n",
       "        var data = msg['content']['data'];\n",
       "        if (data['blob'] !== undefined) {\n",
       "            data = {\n",
       "                data: new Blob(msg['buffers'], { type: data['blob'] }),\n",
       "            };\n",
       "        }\n",
       "        // Pass the mpl event to the overridden (by mpl) onmessage function.\n",
       "        ws.onmessage(data);\n",
       "    });\n",
       "    return ws;\n",
       "};\n",
       "\n",
       "mpl.mpl_figure_comm = function (comm, msg) {\n",
       "    // This is the function which gets called when the mpl process\n",
       "    // starts-up an IPython Comm through the \"matplotlib\" channel.\n",
       "\n",
       "    var id = msg.content.data.id;\n",
       "    // Get hold of the div created by the display call when the Comm\n",
       "    // socket was opened in Python.\n",
       "    var element = document.getElementById(id);\n",
       "    var ws_proxy = comm_websocket_adapter(comm);\n",
       "\n",
       "    function ondownload(figure, _format) {\n",
       "        window.open(figure.canvas.toDataURL());\n",
       "    }\n",
       "\n",
       "    var fig = new mpl.figure(id, ws_proxy, ondownload, element);\n",
       "\n",
       "    // Call onopen now - mpl needs it, as it is assuming we've passed it a real\n",
       "    // web socket which is closed, not our websocket->open comm proxy.\n",
       "    ws_proxy.onopen();\n",
       "\n",
       "    fig.parent_element = element;\n",
       "    fig.cell_info = mpl.find_output_cell(\"<div id='\" + id + \"'></div>\");\n",
       "    if (!fig.cell_info) {\n",
       "        console.error('Failed to find cell for figure', id, fig);\n",
       "        return;\n",
       "    }\n",
       "    fig.cell_info[0].output_area.element.on(\n",
       "        'cleared',\n",
       "        { fig: fig },\n",
       "        fig._remove_fig_handler\n",
       "    );\n",
       "};\n",
       "\n",
       "mpl.figure.prototype.handle_close = function (fig, msg) {\n",
       "    var width = fig.canvas.width / fig.ratio;\n",
       "    fig.cell_info[0].output_area.element.off(\n",
       "        'cleared',\n",
       "        fig._remove_fig_handler\n",
       "    );\n",
       "    fig.resizeObserverInstance.unobserve(fig.canvas_div);\n",
       "\n",
       "    // Update the output cell to use the data from the current canvas.\n",
       "    fig.push_to_output();\n",
       "    var dataURL = fig.canvas.toDataURL();\n",
       "    // Re-enable the keyboard manager in IPython - without this line, in FF,\n",
       "    // the notebook keyboard shortcuts fail.\n",
       "    IPython.keyboard_manager.enable();\n",
       "    fig.parent_element.innerHTML =\n",
       "        '<img src=\"' + dataURL + '\" width=\"' + width + '\">';\n",
       "    fig.close_ws(fig, msg);\n",
       "};\n",
       "\n",
       "mpl.figure.prototype.close_ws = function (fig, msg) {\n",
       "    fig.send_message('closing', msg);\n",
       "    // fig.ws.close()\n",
       "};\n",
       "\n",
       "mpl.figure.prototype.push_to_output = function (_remove_interactive) {\n",
       "    // Turn the data on the canvas into data in the output cell.\n",
       "    var width = this.canvas.width / this.ratio;\n",
       "    var dataURL = this.canvas.toDataURL();\n",
       "    this.cell_info[1]['text/html'] =\n",
       "        '<img src=\"' + dataURL + '\" width=\"' + width + '\">';\n",
       "};\n",
       "\n",
       "mpl.figure.prototype.updated_canvas_event = function () {\n",
       "    // Tell IPython that the notebook contents must change.\n",
       "    IPython.notebook.set_dirty(true);\n",
       "    this.send_message('ack', {});\n",
       "    var fig = this;\n",
       "    // Wait a second, then push the new image to the DOM so\n",
       "    // that it is saved nicely (might be nice to debounce this).\n",
       "    setTimeout(function () {\n",
       "        fig.push_to_output();\n",
       "    }, 1000);\n",
       "};\n",
       "\n",
       "mpl.figure.prototype._init_toolbar = function () {\n",
       "    var fig = this;\n",
       "\n",
       "    var toolbar = document.createElement('div');\n",
       "    toolbar.classList = 'btn-toolbar';\n",
       "    this.root.appendChild(toolbar);\n",
       "\n",
       "    function on_click_closure(name) {\n",
       "        return function (_event) {\n",
       "            return fig.toolbar_button_onclick(name);\n",
       "        };\n",
       "    }\n",
       "\n",
       "    function on_mouseover_closure(tooltip) {\n",
       "        return function (event) {\n",
       "            if (!event.currentTarget.disabled) {\n",
       "                return fig.toolbar_button_onmouseover(tooltip);\n",
       "            }\n",
       "        };\n",
       "    }\n",
       "\n",
       "    fig.buttons = {};\n",
       "    var buttonGroup = document.createElement('div');\n",
       "    buttonGroup.classList = 'btn-group';\n",
       "    var button;\n",
       "    for (var toolbar_ind in mpl.toolbar_items) {\n",
       "        var name = mpl.toolbar_items[toolbar_ind][0];\n",
       "        var tooltip = mpl.toolbar_items[toolbar_ind][1];\n",
       "        var image = mpl.toolbar_items[toolbar_ind][2];\n",
       "        var method_name = mpl.toolbar_items[toolbar_ind][3];\n",
       "\n",
       "        if (!name) {\n",
       "            /* Instead of a spacer, we start a new button group. */\n",
       "            if (buttonGroup.hasChildNodes()) {\n",
       "                toolbar.appendChild(buttonGroup);\n",
       "            }\n",
       "            buttonGroup = document.createElement('div');\n",
       "            buttonGroup.classList = 'btn-group';\n",
       "            continue;\n",
       "        }\n",
       "\n",
       "        button = fig.buttons[name] = document.createElement('button');\n",
       "        button.classList = 'btn btn-default';\n",
       "        button.href = '#';\n",
       "        button.title = name;\n",
       "        button.innerHTML = '<i class=\"fa ' + image + ' fa-lg\"></i>';\n",
       "        button.addEventListener('click', on_click_closure(method_name));\n",
       "        button.addEventListener('mouseover', on_mouseover_closure(tooltip));\n",
       "        buttonGroup.appendChild(button);\n",
       "    }\n",
       "\n",
       "    if (buttonGroup.hasChildNodes()) {\n",
       "        toolbar.appendChild(buttonGroup);\n",
       "    }\n",
       "\n",
       "    // Add the status bar.\n",
       "    var status_bar = document.createElement('span');\n",
       "    status_bar.classList = 'mpl-message pull-right';\n",
       "    toolbar.appendChild(status_bar);\n",
       "    this.message = status_bar;\n",
       "\n",
       "    // Add the close button to the window.\n",
       "    var buttongrp = document.createElement('div');\n",
       "    buttongrp.classList = 'btn-group inline pull-right';\n",
       "    button = document.createElement('button');\n",
       "    button.classList = 'btn btn-mini btn-primary';\n",
       "    button.href = '#';\n",
       "    button.title = 'Stop Interaction';\n",
       "    button.innerHTML = '<i class=\"fa fa-power-off icon-remove icon-large\"></i>';\n",
       "    button.addEventListener('click', function (_evt) {\n",
       "        fig.handle_close(fig, {});\n",
       "    });\n",
       "    button.addEventListener(\n",
       "        'mouseover',\n",
       "        on_mouseover_closure('Stop Interaction')\n",
       "    );\n",
       "    buttongrp.appendChild(button);\n",
       "    var titlebar = this.root.querySelector('.ui-dialog-titlebar');\n",
       "    titlebar.insertBefore(buttongrp, titlebar.firstChild);\n",
       "};\n",
       "\n",
       "mpl.figure.prototype._remove_fig_handler = function (event) {\n",
       "    var fig = event.data.fig;\n",
       "    if (event.target !== this) {\n",
       "        // Ignore bubbled events from children.\n",
       "        return;\n",
       "    }\n",
       "    fig.close_ws(fig, {});\n",
       "};\n",
       "\n",
       "mpl.figure.prototype._root_extra_style = function (el) {\n",
       "    el.style.boxSizing = 'content-box'; // override notebook setting of border-box.\n",
       "};\n",
       "\n",
       "mpl.figure.prototype._canvas_extra_style = function (el) {\n",
       "    // this is important to make the div 'focusable\n",
       "    el.setAttribute('tabindex', 0);\n",
       "    // reach out to IPython and tell the keyboard manager to turn it's self\n",
       "    // off when our div gets focus\n",
       "\n",
       "    // location in version 3\n",
       "    if (IPython.notebook.keyboard_manager) {\n",
       "        IPython.notebook.keyboard_manager.register_events(el);\n",
       "    } else {\n",
       "        // location in version 2\n",
       "        IPython.keyboard_manager.register_events(el);\n",
       "    }\n",
       "};\n",
       "\n",
       "mpl.figure.prototype._key_event_extra = function (event, _name) {\n",
       "    var manager = IPython.notebook.keyboard_manager;\n",
       "    if (!manager) {\n",
       "        manager = IPython.keyboard_manager;\n",
       "    }\n",
       "\n",
       "    // Check for shift+enter\n",
       "    if (event.shiftKey && event.which === 13) {\n",
       "        this.canvas_div.blur();\n",
       "        // select the cell after this one\n",
       "        var index = IPython.notebook.find_cell_index(this.cell_info[0]);\n",
       "        IPython.notebook.select(index + 1);\n",
       "    }\n",
       "};\n",
       "\n",
       "mpl.figure.prototype.handle_save = function (fig, _msg) {\n",
       "    fig.ondownload(fig, null);\n",
       "};\n",
       "\n",
       "mpl.find_output_cell = function (html_output) {\n",
       "    // Return the cell and output element which can be found *uniquely* in the notebook.\n",
       "    // Note - this is a bit hacky, but it is done because the \"notebook_saving.Notebook\"\n",
       "    // IPython event is triggered only after the cells have been serialised, which for\n",
       "    // our purposes (turning an active figure into a static one), is too late.\n",
       "    var cells = IPython.notebook.get_cells();\n",
       "    var ncells = cells.length;\n",
       "    for (var i = 0; i < ncells; i++) {\n",
       "        var cell = cells[i];\n",
       "        if (cell.cell_type === 'code') {\n",
       "            for (var j = 0; j < cell.output_area.outputs.length; j++) {\n",
       "                var data = cell.output_area.outputs[j];\n",
       "                if (data.data) {\n",
       "                    // IPython >= 3 moved mimebundle to data attribute of output\n",
       "                    data = data.data;\n",
       "                }\n",
       "                if (data['text/html'] === html_output) {\n",
       "                    return [cell, data, j];\n",
       "                }\n",
       "            }\n",
       "        }\n",
       "    }\n",
       "};\n",
       "\n",
       "// Register the function which deals with the matplotlib target/channel.\n",
       "// The kernel may be null if the page has been refreshed.\n",
       "if (IPython.notebook.kernel !== null) {\n",
       "    IPython.notebook.kernel.comm_manager.register_target(\n",
       "        'matplotlib',\n",
       "        mpl.mpl_figure_comm\n",
       "    );\n",
       "}\n"
      ],
      "text/plain": [
       "<IPython.core.display.Javascript object>"
      ]
     },
     "metadata": {},
     "output_type": "display_data"
    },
    {
     "data": {
      "text/html": [
       "<img src=\"data:image/png;base64,iVBORw0KGgoAAAANSUhEUgAAASwAAACWCAYAAABkW7XSAAAAAXNSR0IArs4c6QAABGJJREFUeF7t1AEJAAAMAsHZv/RyPNwSyDncOQIECEQEFskpJgECBM5geQICBDICBitTlaAECBgsP0CAQEbAYGWqEpQAAYPlBwgQyAgYrExVghIgYLD8AAECGQGDlalKUAIEDJYfIEAgI2CwMlUJSoCAwfIDBAhkBAxWpipBCRAwWH6AAIGMgMHKVCUoAQIGyw8QIJARMFiZqgQlQMBg+QECBDICBitTlaAECBgsP0CAQEbAYGWqEpQAAYPlBwgQyAgYrExVghIgYLD8AAECGQGDlalKUAIEDJYfIEAgI2CwMlUJSoCAwfIDBAhkBAxWpipBCRAwWH6AAIGMgMHKVCUoAQIGyw8QIJARMFiZqgQlQMBg+QECBDICBitTlaAECBgsP0CAQEbAYGWqEpQAAYPlBwgQyAgYrExVghIgYLD8AAECGQGDlalKUAIEDJYfIEAgI2CwMlUJSoCAwfIDBAhkBAxWpipBCRAwWH6AAIGMgMHKVCUoAQIGyw8QIJARMFiZqgQlQMBg+QECBDICBitTlaAECBgsP0CAQEbAYGWqEpQAAYPlBwgQyAgYrExVghIgYLD8AAECGQGDlalKUAIEDJYfIEAgI2CwMlUJSoCAwfIDBAhkBAxWpipBCRAwWH6AAIGMgMHKVCUoAQIGyw8QIJARMFiZqgQlQMBg+QECBDICBitTlaAECBgsP0CAQEbAYGWqEpQAAYPlBwgQyAgYrExVghIgYLD8AAECGQGDlalKUAIEDJYfIEAgI2CwMlUJSoCAwfIDBAhkBAxWpipBCRAwWH6AAIGMgMHKVCUoAQIGyw8QIJARMFiZqgQlQMBg+QECBDICBitTlaAECBgsP0CAQEbAYGWqEpQAAYPlBwgQyAgYrExVghIgYLD8AAECGQGDlalKUAIEDJYfIEAgI2CwMlUJSoCAwfIDBAhkBAxWpipBCRAwWH6AAIGMgMHKVCUoAQIGyw8QIJARMFiZqgQlQMBg+QECBDICBitTlaAECBgsP0CAQEbAYGWqEpQAAYPlBwgQyAgYrExVghIgYLD8AAECGQGDlalKUAIEDJYfIEAgI2CwMlUJSoCAwfIDBAhkBAxWpipBCRAwWH6AAIGMgMHKVCUoAQIGyw8QIJARMFiZqgQlQMBg+QECBDICBitTlaAECBgsP0CAQEbAYGWqEpQAAYPlBwgQyAgYrExVghIgYLD8AAECGQGDlalKUAIEDJYfIEAgI2CwMlUJSoCAwfIDBAhkBAxWpipBCRAwWH6AAIGMgMHKVCUoAQIGyw8QIJARMFiZqgQlQMBg+QECBDICBitTlaAECBgsP0CAQEbAYGWqEpQAAYPlBwgQyAgYrExVghIgYLD8AAECGQGDlalKUAIEDJYfIEAgI2CwMlUJSoCAwfIDBAhkBAxWpipBCRAwWH6AAIGMgMHKVCUoAQIGyw8QIJARMFiZqgQlQMBg+QECBDICBitTlaAECBgsP0CAQEbAYGWqEpQAgQdWMQCX4yW9owAAAABJRU5ErkJggg==\" width=\"150\">"
      ],
      "text/plain": [
       "<IPython.core.display.HTML object>"
      ]
     },
     "metadata": {},
     "output_type": "display_data"
    }
   ],
   "source": [
    "%matplotlib notebook\n",
    "figcv = plt.figure(figsize=(7, 4))\n",
    "gs = gridspec.GridSpec(4, 4, figure=figcv)\n",
    "axfrz_stat = figcv.add_subplot(gs[0,0])\n",
    "axfrz_plot = figcv.add_subplot(gs[1,0])\n",
    "axall_stat = figcv.add_subplot(gs[0,2])\n",
    "axall_plot = figcv.add_subplot(gs[1,2])"
   ]
  },
  {
   "cell_type": "code",
   "execution_count": 9,
   "id": "c9fad41d",
   "metadata": {
    "scrolled": false
   },
   "outputs": [
    {
     "data": {
      "image/png": "[encoded data removed]",
      "text/plain": [
       "<Figure size 864x288 with 2 Axes>"
      ]
     },
     "metadata": {
      "needs_background": "light"
     },
     "output_type": "display_data"
    }
   ],
   "source": [
    "%matplotlib inline\n",
    "fig, ax = plt.subplots(1, 2, figsize=(12, 4))\n",
    "for ida, (ap, astat, f) in enumerate(zip([axfrz_plot, ax[0]], [axfrz_stat, ax[1]], [figcv, fig])):\n",
    "    if ida == 0:\n",
    "        sns.set_context(\"paper\", font_scale=2)\n",
    "    else:\n",
    "        sns.set_context(\"notebook\")\n",
    "    gfg = sns.stripplot(x=\"Designation\", y=\"cov_z_mean\", hue=\"Group\", size=1.25,\n",
    "                  data=sigz_freeze_df[~(sigz_freeze_df['Designation'] == '')], dodge=True, ax=ap)\n",
    "    gfg.legend(fontsize=6, markerscale=0.15)\n",
    "    ap.set_title('Freeze Cell Covariance', fontsize=8)\n",
    "    ap.set_ylabel(r'$\\mathregular{\\overline{Z}}$', fontsize=8)\n",
    "    ap.set_xlabel('', fontsize=8)\n",
    "    ap.tick_params(axis='both', which='major', labelsize=8, grid_linewidth=1)\n",
    "    plt.setp(ap.spines.values(), linewidth=1)\n",
    "    sns.despine(ax=ap)\n",
    "    stats_before_after(sigz_freeze_df, 'cov_z_mean', ax=astat, fontsize=6)\n",
    "    sns.despine(ax=astat, bottom=True, left=True)\n",
    "    astat.tick_params(axis='both', left=False, bottom=False, labelleft=False, labelbottom=False)\n",
    "fig.savefig(print_dir + \"/cov_before_after_freeze_cells.pdf\")"
   ]
  },
  {
   "cell_type": "markdown",
   "id": "32e11d08",
   "metadata": {},
   "source": [
    "Plot #2: Same as #1 but for all cells"
   ]
  },
  {
   "cell_type": "code",
   "execution_count": 10,
   "id": "cc204573",
   "metadata": {},
   "outputs": [],
   "source": [
    "allz_df = cova.cov_dict_to_df(all_cov, baseline_dict_use=all_cov, include_silent=True)\n",
    "allz_df = add_memory_designations(allz_df)"
   ]
  },
  {
   "cell_type": "code",
   "execution_count": 11,
   "id": "62ac22d9",
   "metadata": {
    "scrolled": true
   },
   "outputs": [
    {
     "name": "stdout",
     "output_type": "stream",
     "text": [
      "   d1_d2 Designation Group  cov_z_mean\n",
      "0  -2_-1      Before  Ctrl   -0.005070\n",
      "1   -1_4      Before  Ctrl    0.006094\n",
      "2    4_1         4hr  Ctrl    0.020956\n",
      "   d1_d2 Group  cov_z_mean\n",
      "0  -2_-1  Ctrl   -0.005070\n",
      "1   -1_4  Ctrl    0.006094\n",
      "2    4_1  Ctrl    0.020956\n",
      "   d1_d2 Designation Group  cov_z_mean\n",
      "0  -2_-1      Before  Ctrl   -0.005070\n",
      "1   -1_4      Before  Ctrl    0.006094\n",
      "2    4_1         4hr  Ctrl    0.020956\n"
     ]
    }
   ],
   "source": [
    "allz_df_copy = deepcopy(allz_df)\n",
    "allz_df_copy.drop(['Designation'], axis=1, inplace=True)\n",
    "print(allz_df.head(3))\n",
    "print(allz_df_copy.head(3))\n",
    "print(add_memory_designations(allz_df_copy).head(3))"
   ]
  },
  {
   "cell_type": "code",
   "execution_count": 12,
   "id": "aeef4cd7",
   "metadata": {
    "scrolled": true
   },
   "outputs": [
    {
     "data": {
      "image/png": "[encoded data removed]",
      "text/plain": [
       "<Figure size 1080x180 with 5 Axes>"
      ]
     },
     "metadata": {
      "needs_background": "light"
     },
     "output_type": "display_data"
    }
   ],
   "source": [
    "sigz_df = allz_df\n",
    "\n",
    "pairs_plot = ['-2_-1', '-1_4', '4_1', '1_2', '2_7']\n",
    "fig, ax = plt.subplots(1, len(pairs_plot), figsize=(3*len(pairs_plot), 2.5))\n",
    "for a, d1_d2 in zip(ax, pairs_plot):\n",
    "    sns.stripplot(x='Group', y='cov_z_mean', data=sigz_df[sigz_df['d1_d2'] == d1_d2], ax=a)\n",
    "    sns.despine(ax=a)\n",
    "    a.set_title(d1_d2.split('_')[0])\n",
    "    df_use = sigz_df[sigz_df['d1_d2'] == d1_d2]\n",
    "    stat, pval = stats.ttest_ind(df_use[df_use['Group'] == 'Ctrl']['cov_z_mean'], \n",
    "                                 df_use[df_use['Group'] == 'ANI']['cov_z_mean'])\n",
    "    \n",
    "    a.text(0, 0.3, f'p_t = {pval:.3g}')\n",
    "    \n",
    "erp.match_max_lims(ax, axis='y')"
   ]
  },
  {
   "cell_type": "code",
   "execution_count": 13,
   "id": "4971ef43",
   "metadata": {},
   "outputs": [],
   "source": [
    "from copy import deepcopy\n",
    "smallfigParams = deepcopy(plt.rcParams)\n",
    "plotfontsize = 8.0\n",
    "smallfigParams['axes.labelsize'] = plotfontsize\n",
    "smallfigParams['axes.linewidth'] = 1.0\n",
    "smallfigParams['axes.titlesize'] = plotfontsize\n",
    "smallfigParams['font.size'] = plotfontsize\n",
    "smallfigParams['legend.fontsize'] = 6\n",
    "smallfigParams['legend.markerscale'] = 0.25\n",
    "smallfigParams['xtick.labelsize'] = plotfontsize\n",
    "smallfigParams['xtick.major.width'] = 1.0\n",
    "smallfigParams['xtick.major.width'] = 1.0\n",
    "smallfigParams['ytick.labelsize'] = plotfontsize\n",
    "smallfigParams['ytick.major.width'] = 1.0\n",
    "smallfigParams['ytick.major.width'] = 1.0"
   ]
  },
  {
   "cell_type": "code",
   "execution_count": 14,
   "id": "ab2c70e7",
   "metadata": {},
   "outputs": [],
   "source": [
    "import matplotlib.pyplot as plt"
   ]
  },
  {
   "cell_type": "code",
   "execution_count": 15,
   "id": "d3d71e21",
   "metadata": {},
   "outputs": [
    {
     "data": {
      "text/plain": [
       "Text(0.5, 0, 'test normal')"
      ]
     },
     "execution_count": 15,
     "metadata": {},
     "output_type": "execute_result"
    },
    {
     "data": {
      "image/png": "[encoded data removed]",
      "text/plain": [
       "<Figure size 432x288 with 2 Axes>"
      ]
     },
     "metadata": {
      "needs_background": "light"
     },
     "output_type": "display_data"
    }
   ],
   "source": [
    "import matplotlib as mpl\n",
    "fig1, ax1 = plt.subplots(1, 2)\n",
    "\n",
    "plt.rcParams = smallfigParams\n",
    "ax1[0].plot([0, 1])\n",
    "ax1[0].set_xlabel('test small')\n",
    "plt.rcdefaults\n",
    "\n",
    "ax1[1].plot([1, 0])\n",
    "ax1[1].set_xlabel('test normal')"
   ]
  },
  {
   "cell_type": "code",
   "execution_count": 16,
   "id": "3c3dcdc1",
   "metadata": {},
   "outputs": [
    {
     "data": {
      "text/plain": [
       "RcParams({'_internal.classic_mode': False,\n",
       "          'agg.path.chunksize': 0,\n",
       "          'animation.avconv_args': [],\n",
       "          'animation.avconv_path': 'avconv',\n",
       "          'animation.bitrate': -1,\n",
       "          'animation.codec': 'h264',\n",
       "          'animation.convert_args': [],\n",
       "          'animation.convert_path': 'convert',\n",
       "          'animation.embed_limit': 20.0,\n",
       "          'animation.ffmpeg_args': [],\n",
       "          'animation.ffmpeg_path': 'ffmpeg',\n",
       "          'animation.frame_format': 'png',\n",
       "          'animation.html': 'none',\n",
       "          'animation.html_args': [],\n",
       "          'animation.writer': 'ffmpeg',\n",
       "          'axes.autolimit_mode': 'data',\n",
       "          'axes.axisbelow': 'line',\n",
       "          'axes.edgecolor': 'black',\n",
       "          'axes.facecolor': 'white',\n",
       "          'axes.formatter.limits': [-5, 6],\n",
       "          'axes.formatter.min_exponent': 0,\n",
       "          'axes.formatter.offset_threshold': 4,\n",
       "          'axes.formatter.use_locale': False,\n",
       "          'axes.formatter.use_mathtext': False,\n",
       "          'axes.formatter.useoffset': True,\n",
       "          'axes.grid': False,\n",
       "          'axes.grid.axis': 'both',\n",
       "          'axes.grid.which': 'major',\n",
       "          'axes.labelcolor': 'black',\n",
       "          'axes.labelpad': 4.0,\n",
       "          'axes.labelsize': 8.0,\n",
       "          'axes.labelweight': 'normal',\n",
       "          'axes.linewidth': 1.0,\n",
       "          'axes.prop_cycle': cycler('color', ['#1f77b4', '#ff7f0e', '#2ca02c', '#d62728', '#9467bd', '#8c564b', '#e377c2', '#7f7f7f', '#bcbd22', '#17becf']),\n",
       "          'axes.spines.bottom': True,\n",
       "          'axes.spines.left': True,\n",
       "          'axes.spines.right': True,\n",
       "          'axes.spines.top': True,\n",
       "          'axes.titlecolor': 'auto',\n",
       "          'axes.titlelocation': 'center',\n",
       "          'axes.titlepad': 6.0,\n",
       "          'axes.titlesize': 8.0,\n",
       "          'axes.titleweight': 'normal',\n",
       "          'axes.titley': None,\n",
       "          'axes.unicode_minus': True,\n",
       "          'axes.xmargin': 0.05,\n",
       "          'axes.ymargin': 0.05,\n",
       "          'axes.zmargin': 0.05,\n",
       "          'axes3d.grid': True,\n",
       "          'backend': 'module://matplotlib_inline.backend_inline',\n",
       "          'backend_fallback': True,\n",
       "          'boxplot.bootstrap': None,\n",
       "          'boxplot.boxprops.color': 'black',\n",
       "          'boxplot.boxprops.linestyle': '-',\n",
       "          'boxplot.boxprops.linewidth': 1.0,\n",
       "          'boxplot.capprops.color': 'black',\n",
       "          'boxplot.capprops.linestyle': '-',\n",
       "          'boxplot.capprops.linewidth': 1.0,\n",
       "          'boxplot.flierprops.color': 'black',\n",
       "          'boxplot.flierprops.linestyle': 'none',\n",
       "          'boxplot.flierprops.linewidth': 1.0,\n",
       "          'boxplot.flierprops.marker': 'o',\n",
       "          'boxplot.flierprops.markeredgecolor': 'black',\n",
       "          'boxplot.flierprops.markeredgewidth': 1.0,\n",
       "          'boxplot.flierprops.markerfacecolor': 'none',\n",
       "          'boxplot.flierprops.markersize': 6.0,\n",
       "          'boxplot.meanline': False,\n",
       "          'boxplot.meanprops.color': 'C2',\n",
       "          'boxplot.meanprops.linestyle': '--',\n",
       "          'boxplot.meanprops.linewidth': 1.0,\n",
       "          'boxplot.meanprops.marker': '^',\n",
       "          'boxplot.meanprops.markeredgecolor': 'C2',\n",
       "          'boxplot.meanprops.markerfacecolor': 'C2',\n",
       "          'boxplot.meanprops.markersize': 6.0,\n",
       "          'boxplot.medianprops.color': 'C1',\n",
       "          'boxplot.medianprops.linestyle': '-',\n",
       "          'boxplot.medianprops.linewidth': 1.0,\n",
       "          'boxplot.notch': False,\n",
       "          'boxplot.patchartist': False,\n",
       "          'boxplot.showbox': True,\n",
       "          'boxplot.showcaps': True,\n",
       "          'boxplot.showfliers': True,\n",
       "          'boxplot.showmeans': False,\n",
       "          'boxplot.vertical': True,\n",
       "          'boxplot.whiskerprops.color': 'black',\n",
       "          'boxplot.whiskerprops.linestyle': '-',\n",
       "          'boxplot.whiskerprops.linewidth': 1.0,\n",
       "          'boxplot.whiskers': 1.5,\n",
       "          'contour.corner_mask': True,\n",
       "          'contour.linewidth': None,\n",
       "          'contour.negative_linestyle': 'dashed',\n",
       "          'date.autoformatter.day': '%Y-%m-%d',\n",
       "          'date.autoformatter.hour': '%m-%d %H',\n",
       "          'date.autoformatter.microsecond': '%M:%S.%f',\n",
       "          'date.autoformatter.minute': '%d %H:%M',\n",
       "          'date.autoformatter.month': '%Y-%m',\n",
       "          'date.autoformatter.second': '%H:%M:%S',\n",
       "          'date.autoformatter.year': '%Y',\n",
       "          'date.converter': None,\n",
       "          'date.epoch': '1970-01-01T00:00:00',\n",
       "          'date.interval_multiples': None,\n",
       "          'docstring.hardcopy': False,\n",
       "          'errorbar.capsize': 0.0,\n",
       "          'figure.autolayout': False,\n",
       "          'figure.constrained_layout.h_pad': 0.04167,\n",
       "          'figure.constrained_layout.hspace': 0.02,\n",
       "          'figure.constrained_layout.use': False,\n",
       "          'figure.constrained_layout.w_pad': 0.04167,\n",
       "          'figure.constrained_layout.wspace': 0.02,\n",
       "          'figure.dpi': 72.0,\n",
       "          'figure.edgecolor': (1, 1, 1, 0),\n",
       "          'figure.facecolor': (1, 1, 1, 0),\n",
       "          'figure.figsize': [6.0, 4.0],\n",
       "          'figure.frameon': True,\n",
       "          'figure.max_open_warning': 20,\n",
       "          'figure.raise_window': True,\n",
       "          'figure.subplot.bottom': 0.125,\n",
       "          'figure.subplot.hspace': 0.2,\n",
       "          'figure.subplot.left': 0.125,\n",
       "          'figure.subplot.right': 0.9,\n",
       "          'figure.subplot.top': 0.88,\n",
       "          'figure.subplot.wspace': 0.2,\n",
       "          'figure.titlesize': 'large',\n",
       "          'figure.titleweight': 'normal',\n",
       "          'font.cursive': ['Apple Chancery',\n",
       "                           'Textile',\n",
       "                           'Zapf Chancery',\n",
       "                           'Sand',\n",
       "                           'Script MT',\n",
       "                           'Felipa',\n",
       "                           'Comic Neue',\n",
       "                           'Comic Sans MS',\n",
       "                           'cursive'],\n",
       "          'font.family': ['sans-serif'],\n",
       "          'font.fantasy': ['Chicago',\n",
       "                           'Charcoal',\n",
       "                           'Impact',\n",
       "                           'Western',\n",
       "                           'Humor Sans',\n",
       "                           'xkcd',\n",
       "                           'fantasy'],\n",
       "          'font.monospace': ['DejaVu Sans Mono',\n",
       "                             'Bitstream Vera Sans Mono',\n",
       "                             'Computer Modern Typewriter',\n",
       "                             'Andale Mono',\n",
       "                             'Nimbus Mono L',\n",
       "                             'Courier New',\n",
       "                             'Courier',\n",
       "                             'Fixed',\n",
       "                             'Terminal',\n",
       "                             'monospace'],\n",
       "          'font.sans-serif': ['Arial'],\n",
       "          'font.serif': ['DejaVu Serif',\n",
       "                         'Bitstream Vera Serif',\n",
       "                         'Computer Modern Roman',\n",
       "                         'New Century Schoolbook',\n",
       "                         'Century Schoolbook L',\n",
       "                         'Utopia',\n",
       "                         'ITC Bookman',\n",
       "                         'Bookman',\n",
       "                         'Nimbus Roman No9 L',\n",
       "                         'Times New Roman',\n",
       "                         'Times',\n",
       "                         'Palatino',\n",
       "                         'Charter',\n",
       "                         'serif'],\n",
       "          'font.size': 8.0,\n",
       "          'font.stretch': 'normal',\n",
       "          'font.style': 'normal',\n",
       "          'font.variant': 'normal',\n",
       "          'font.weight': 'normal',\n",
       "          'grid.alpha': 1.0,\n",
       "          'grid.color': '#b0b0b0',\n",
       "          'grid.linestyle': '-',\n",
       "          'grid.linewidth': 1.0,\n",
       "          'hatch.color': 'black',\n",
       "          'hatch.linewidth': 1.0,\n",
       "          'hist.bins': 10,\n",
       "          'image.aspect': 'equal',\n",
       "          'image.cmap': 'viridis',\n",
       "          'image.composite_image': True,\n",
       "          'image.interpolation': 'antialiased',\n",
       "          'image.lut': 256,\n",
       "          'image.origin': 'upper',\n",
       "          'image.resample': True,\n",
       "          'interactive': True,\n",
       "          'keymap.all_axes': ['a'],\n",
       "          'keymap.back': ['left', 'c', 'backspace', 'MouseButton.BACK'],\n",
       "          'keymap.copy': ['ctrl+c', 'cmd+c'],\n",
       "          'keymap.forward': ['right', 'v', 'MouseButton.FORWARD'],\n",
       "          'keymap.fullscreen': ['f', 'ctrl+f'],\n",
       "          'keymap.grid': ['g'],\n",
       "          'keymap.grid_minor': ['G'],\n",
       "          'keymap.help': ['f1'],\n",
       "          'keymap.home': ['h', 'r', 'home'],\n",
       "          'keymap.pan': ['p'],\n",
       "          'keymap.quit': ['ctrl+w', 'cmd+w', 'q'],\n",
       "          'keymap.quit_all': [],\n",
       "          'keymap.save': ['s', 'ctrl+s'],\n",
       "          'keymap.xscale': ['k', 'L'],\n",
       "          'keymap.yscale': ['l'],\n",
       "          'keymap.zoom': ['o'],\n",
       "          'legend.borderaxespad': 0.5,\n",
       "          'legend.borderpad': 0.4,\n",
       "          'legend.columnspacing': 2.0,\n",
       "          'legend.edgecolor': '0.8',\n",
       "          'legend.facecolor': 'inherit',\n",
       "          'legend.fancybox': True,\n",
       "          'legend.fontsize': 6.0,\n",
       "          'legend.framealpha': 0.8,\n",
       "          'legend.frameon': True,\n",
       "          'legend.handleheight': 0.7,\n",
       "          'legend.handlelength': 2.0,\n",
       "          'legend.handletextpad': 0.8,\n",
       "          'legend.labelspacing': 0.5,\n",
       "          'legend.loc': 'best',\n",
       "          'legend.markerscale': 0.25,\n",
       "          'legend.numpoints': 1,\n",
       "          'legend.scatterpoints': 1,\n",
       "          'legend.shadow': False,\n",
       "          'legend.title_fontsize': 12.0,\n",
       "          'lines.antialiased': True,\n",
       "          'lines.color': 'C0',\n",
       "          'lines.dash_capstyle': <CapStyle.butt: 'butt'>,\n",
       "          'lines.dash_joinstyle': <JoinStyle.round: 'round'>,\n",
       "          'lines.dashdot_pattern': [6.4, 1.6, 1.0, 1.6],\n",
       "          'lines.dashed_pattern': [3.7, 1.6],\n",
       "          'lines.dotted_pattern': [1.0, 1.65],\n",
       "          'lines.linestyle': '-',\n",
       "          'lines.linewidth': 1.5,\n",
       "          'lines.marker': 'None',\n",
       "          'lines.markeredgecolor': 'auto',\n",
       "          'lines.markeredgewidth': 1.0,\n",
       "          'lines.markerfacecolor': 'auto',\n",
       "          'lines.markersize': 6.0,\n",
       "          'lines.scale_dashes': True,\n",
       "          'lines.solid_capstyle': <CapStyle.projecting: 'projecting'>,\n",
       "          'lines.solid_joinstyle': <JoinStyle.round: 'round'>,\n",
       "          'markers.fillstyle': 'full',\n",
       "          'mathtext.bf': 'sans:bold',\n",
       "          'mathtext.cal': 'cursive',\n",
       "          'mathtext.default': 'it',\n",
       "          'mathtext.fallback': 'cm',\n",
       "          'mathtext.fallback_to_cm': None,\n",
       "          'mathtext.fontset': 'dejavusans',\n",
       "          'mathtext.it': 'sans:italic',\n",
       "          'mathtext.rm': 'sans',\n",
       "          'mathtext.sf': 'sans',\n",
       "          'mathtext.tt': 'monospace',\n",
       "          'patch.antialiased': True,\n",
       "          'patch.edgecolor': 'black',\n",
       "          'patch.facecolor': 'C0',\n",
       "          'patch.force_edgecolor': False,\n",
       "          'patch.linewidth': 1.0,\n",
       "          'path.effects': [],\n",
       "          'path.simplify': True,\n",
       "          'path.simplify_threshold': 0.111111111111,\n",
       "          'path.sketch': None,\n",
       "          'path.snap': True,\n",
       "          'pcolor.shading': 'flat',\n",
       "          'pcolormesh.snap': True,\n",
       "          'pdf.compression': 6,\n",
       "          'pdf.fonttype': 42,\n",
       "          'pdf.inheritcolor': False,\n",
       "          'pdf.use14corefonts': False,\n",
       "          'pgf.preamble': '',\n",
       "          'pgf.rcfonts': True,\n",
       "          'pgf.texsystem': 'xelatex',\n",
       "          'polaraxes.grid': True,\n",
       "          'ps.distiller.res': 6000,\n",
       "          'ps.fonttype': 3,\n",
       "          'ps.papersize': 'letter',\n",
       "          'ps.useafm': False,\n",
       "          'ps.usedistiller': None,\n",
       "          'savefig.bbox': None,\n",
       "          'savefig.directory': '~',\n",
       "          'savefig.dpi': 'figure',\n",
       "          'savefig.edgecolor': 'auto',\n",
       "          'savefig.facecolor': 'auto',\n",
       "          'savefig.format': 'png',\n",
       "          'savefig.jpeg_quality': 95,\n",
       "          'savefig.orientation': 'portrait',\n",
       "          'savefig.pad_inches': 0.1,\n",
       "          'savefig.transparent': False,\n",
       "          'scatter.edgecolors': 'face',\n",
       "          'scatter.marker': 'o',\n",
       "          'svg.fonttype': 'path',\n",
       "          'svg.hashsalt': None,\n",
       "          'svg.image_inline': True,\n",
       "          'text.antialiased': True,\n",
       "          'text.color': 'black',\n",
       "          'text.hinting': 'force_autohint',\n",
       "          'text.hinting_factor': 8,\n",
       "          'text.kerning_factor': 0,\n",
       "          'text.latex.preamble': '',\n",
       "          'text.latex.preview': False,\n",
       "          'text.usetex': False,\n",
       "          'timezone': 'UTC',\n",
       "          'tk.window_focus': False,\n",
       "          'toolbar': 'toolbar2',\n",
       "          'webagg.address': '127.0.0.1',\n",
       "          'webagg.open_in_browser': True,\n",
       "          'webagg.port': 8988,\n",
       "          'webagg.port_retries': 50,\n",
       "          'xaxis.labellocation': 'center',\n",
       "          'xtick.alignment': 'center',\n",
       "          'xtick.bottom': True,\n",
       "          'xtick.color': 'black',\n",
       "          'xtick.direction': 'out',\n",
       "          'xtick.labelbottom': True,\n",
       "          'xtick.labelcolor': 'inherit',\n",
       "          'xtick.labelsize': 8.0,\n",
       "          'xtick.labeltop': False,\n",
       "          'xtick.major.bottom': True,\n",
       "          'xtick.major.pad': 3.5,\n",
       "          'xtick.major.size': 6.0,\n",
       "          'xtick.major.top': True,\n",
       "          'xtick.major.width': 1.0,\n",
       "          'xtick.minor.bottom': True,\n",
       "          'xtick.minor.pad': 3.4,\n",
       "          'xtick.minor.size': 4.0,\n",
       "          'xtick.minor.top': True,\n",
       "          'xtick.minor.visible': False,\n",
       "          'xtick.minor.width': 1.0,\n",
       "          'xtick.top': False,\n",
       "          'yaxis.labellocation': 'center',\n",
       "          'ytick.alignment': 'center_baseline',\n",
       "          'ytick.color': 'black',\n",
       "          'ytick.direction': 'out',\n",
       "          'ytick.labelcolor': 'inherit',\n",
       "          'ytick.labelleft': True,\n",
       "          'ytick.labelright': False,\n",
       "          'ytick.labelsize': 8.0,\n",
       "          'ytick.left': True,\n",
       "          'ytick.major.left': True,\n",
       "          'ytick.major.pad': 3.5,\n",
       "          'ytick.major.right': True,\n",
       "          'ytick.major.size': 6.0,\n",
       "          'ytick.major.width': 1.0,\n",
       "          'ytick.minor.left': True,\n",
       "          'ytick.minor.pad': 3.4,\n",
       "          'ytick.minor.right': True,\n",
       "          'ytick.minor.size': 4.0,\n",
       "          'ytick.minor.visible': False,\n",
       "          'ytick.minor.width': 1.0,\n",
       "          'ytick.right': False})"
      ]
     },
     "execution_count": 16,
     "metadata": {},
     "output_type": "execute_result"
    }
   ],
   "source": [
    "plt.rcParams"
   ]
  },
  {
   "cell_type": "code",
   "execution_count": 17,
   "id": "f13f881b",
   "metadata": {
    "scrolled": false
   },
   "outputs": [
    {
     "data": {
      "image/png": "[encoded data removed]",
      "text/plain": [
       "<Figure size 864x288 with 2 Axes>"
      ]
     },
     "metadata": {
      "needs_background": "light"
     },
     "output_type": "display_data"
    }
   ],
   "source": [
    "fig, ax = plt.subplots(1,2, figsize=(12, 4))\n",
    "for ap, astat, f in zip([axall_plot, ax[0]], [axall_stat, ax[1]], [figcv, fig]):\n",
    "    gfg = sns.stripplot(x=\"Designation\", y=\"cov_z_mean\", hue=\"Group\", size=1.25,\n",
    "                  data=allz_df[~(allz_df['Designation'] == '')], dodge=True, ax=ap)\n",
    "    gfg.legend(fontsize=6, markerscale=0.15)\n",
    "    ap.set_title('All Cell Covariance', fontsize=8)\n",
    "    ap.set_ylabel(r'$\\mathregular{\\overline{Z}}$', fontsize=8)\n",
    "    ap.set_xlabel('', fontsize=8)\n",
    "    ap.tick_params(axis='both', which='major', labelsize=8, grid_linewidth=1)\n",
    "    plt.setp(ap.spines.values(), linewidth=1)\n",
    "    sns.despine(ax=ap)\n",
    "    stats_before_after(allz_df, \"cov_z_mean\", astat, fontsize=8)\n",
    "    sns.despine(ax=astat, bottom=True, left=True)\n",
    "    astat.tick_params(axis='both', left=False, bottom=False, labelleft=False, labelbottom=False)\n",
    "fig.savefig(print_dir + \"/cov_before_after_all_cells.pdf\")"
   ]
  },
  {
   "cell_type": "code",
   "execution_count": 18,
   "id": "5311e376",
   "metadata": {},
   "outputs": [],
   "source": [
    "# NRK - add in ticks and ticklabels manually.\n",
    "# Next, figure out if you are either setting things manually or using a params file to make plotting easier and\n",
    "# avoid having to set font sizes separately for each plot!"
   ]
  },
  {
   "cell_type": "code",
   "execution_count": 19,
   "id": "4cc9e2f4",
   "metadata": {},
   "outputs": [],
   "source": [
    "# Save to manuscript figure\n",
    "figcv.savefig(print_dir + \"/cov_frz_all_combined_resize.pdf\")"
   ]
  },
  {
   "cell_type": "markdown",
   "id": "d9a6a463",
   "metadata": {},
   "source": [
    "Plot #3: Same as #1 and #2 but for all cells on 4 hr session which have covariance > 2std above mean.  This one might be messy due to lots of cell turnover in ANI mice."
   ]
  },
  {
   "cell_type": "code",
   "execution_count": 20,
   "id": "49e3de32",
   "metadata": {
    "scrolled": false
   },
   "outputs": [
    {
     "name": "stderr",
     "output_type": "stream",
     "text": [
      "Marble07: 5it [00:03,  1.35it/s]\n",
      "Marble12: 5it [00:03,  1.60it/s]\n",
      "Marble24: 5it [00:03,  1.62it/s]\n",
      "Marble27: 5it [00:03,  1.53it/s]\n",
      "Marble06: 5it [00:03,  1.48it/s]\n",
      "Marble11: 5it [00:04,  1.09it/s]\n",
      "Marble29: 5it [00:03,  1.43it/s]\n",
      "Marble17: 5it [00:03,  1.28it/s]\n",
      "Marble18: 5it [00:03,  1.66it/s]\n",
      "Marble19: 5it [00:03,  1.50it/s]\n",
      "Marble20: 5it [00:03,  1.66it/s]\n",
      "Marble25: 5it [00:03,  1.48it/s]\n"
     ]
    }
   ],
   "source": [
    "sig4_cov_dict = cova.group_sig_cov_across_days(bin_size=bin_size, arena1='Shock',\n",
    "                                              arena2='Shock', base_days=[4, 4, 4, 4, 4],\n",
    "                                              reg_days=[-2, -1, 4, 1, 2], thresh=2,\n",
    "                                              keep_silent=False)"
   ]
  },
  {
   "cell_type": "code",
   "execution_count": 21,
   "id": "d0109964",
   "metadata": {},
   "outputs": [],
   "source": [
    "# Clean up and reshape dataframe\n",
    "sig4_dfreg = cova.cov_dict_to_df(sig4_cov_dict, all_cov, register=True)\n",
    "sig4_dfreg = add_memory_designations(sig4_dfreg, before=['4_-2', '4_-1'], during='4_4', after=['4_1', '4_2'])"
   ]
  },
  {
   "cell_type": "code",
   "execution_count": 22,
   "id": "809cdc65",
   "metadata": {},
   "outputs": [
    {
     "data": {
      "image/png": "[encoded data removed]",
      "text/plain": [
       "<Figure size 864x288 with 2 Axes>"
      ]
     },
     "metadata": {
      "needs_background": "light"
     },
     "output_type": "display_data"
    }
   ],
   "source": [
    "fig, ax = plt.subplots(1,2, figsize=(12, 4))\n",
    "sns.swarmplot(x=\"Designation\", y=\"cov_z_mean\", hue=\"Group\", data=sig4_dfreg, dodge=True, ax=ax[0])\n",
    "ax[0].set_title('4hr sig cells')\n",
    "sns.despine(fig=fig)\n",
    "stats_before_after(sig4_dfreg, 'cov_z_mean', ax[1])\n",
    "fig.savefig(print_dir + \"/cov_before_after_sig4_cells_registered_across_days.pdf\")"
   ]
  },
  {
   "cell_type": "markdown",
   "id": "ce5e8ab7",
   "metadata": {},
   "source": [
    "Plot #4: ID freeze cells on 4 hr session and track covariance forward/backward across whole experiment.  Include silent cells in code, but plot two ways: 1) turnover in freeze cell population between sessions, and 2) change in covariance from 4 hr session forward/backward in time.  "
   ]
  },
  {
   "cell_type": "code",
   "execution_count": 23,
   "id": "6c3e15d7",
   "metadata": {},
   "outputs": [
    {
     "name": "stderr",
     "output_type": "stream",
     "text": [
      "Marble07: 5it [00:04,  1.01it/s]\n",
      "Marble12: 5it [00:04,  1.18it/s]\n",
      "Marble24: 5it [00:04,  1.21it/s]\n",
      "Marble27: 5it [00:04,  1.11it/s]\n",
      "Marble06: 5it [00:04,  1.10it/s]\n",
      "Marble11: 5it [00:05,  1.19s/it]\n",
      "Marble29: 5it [00:04,  1.10it/s]\n",
      "Marble17: 5it [00:05,  1.04s/it]\n",
      "Marble18: 5it [00:04,  1.20it/s]\n",
      "Marble19: 5it [00:04,  1.11it/s]\n",
      "Marble20: 5it [00:04,  1.23it/s]\n",
      "Marble25: 5it [00:04,  1.11it/s]\n"
     ]
    }
   ],
   "source": [
    "freeze_4hr_reg = cova.group_cov_across_days(bin_size=bin_size, arena1='Shock', arena2='Shock',\n",
    "                                            neurons='freeze_onset', keep_silent=True,\n",
    "                                            base_days=[4, 4, 4, 4, 4], reg_days=[-2, -1, 4, 1, 2])"
   ]
  },
  {
   "cell_type": "code",
   "execution_count": 24,
   "id": "a8a1e812",
   "metadata": {},
   "outputs": [],
   "source": [
    "# Clean up and reshape dataframe\n",
    "sig4frz_dfreg = cova.cov_dict_to_df(freeze_4hr_reg, all_cov, register=True)\n",
    "sig4frz_dfreg = add_memory_designations(sig4frz_dfreg, before=['4_-2', '4_-1'], during=['4_4'], after=['4_1', '4_2'])"
   ]
  },
  {
   "cell_type": "markdown",
   "id": "84977579",
   "metadata": {},
   "source": [
    "### Now construct another set of plots tracking freeze cells from 4hr or 1 day session across days"
   ]
  },
  {
   "cell_type": "code",
   "execution_count": 25,
   "id": "e2c9ff92",
   "metadata": {},
   "outputs": [
    {
     "data": {
      "image/png": "[encoded data removed]",
      "text/plain": [
       "<Figure size 864x576 with 4 Axes>"
      ]
     },
     "metadata": {
      "needs_background": "light"
     },
     "output_type": "display_data"
    }
   ],
   "source": [
    "figfrzreg = plt.figure(figsize=(12, 8))\n",
    "gs = gridspec.GridSpec(2, 2, figure=figfrzreg)\n",
    "ax4stat = figfrzreg.add_subplot(gs[0, 0])\n",
    "ax4plot = figfrzreg.add_subplot(gs[1, 0])\n",
    "ax1stat = figfrzreg.add_subplot(gs[0, 1])\n",
    "ax1plot = figfrzreg.add_subplot(gs[1, 1])"
   ]
  },
  {
   "cell_type": "code",
   "execution_count": 26,
   "id": "9b244271",
   "metadata": {
    "scrolled": false
   },
   "outputs": [
    {
     "data": {
      "image/png": "[encoded data removed]",
      "text/plain": [
       "<Figure size 864x288 with 2 Axes>"
      ]
     },
     "metadata": {
      "needs_background": "light"
     },
     "output_type": "display_data"
    }
   ],
   "source": [
    "fig, ax = plt.subplots(1,2, figsize=(12, 4))\n",
    "for ap, astat, f in zip([ax4plot, ax[0]], [ax4stat, ax[1]], [figfrzreg, fig]):\n",
    "    sns.swarmplot(x=\"Designation\", y=\"cov_z_mean\", hue=\"Group\", data=sig4frz_dfreg, dodge=True, ax=ap)\n",
    "    ap.set_title('4 hr freeze cells reg across days')\n",
    "    ap.set_xlabel('')\n",
    "    ap.set_ylabel(r'$\\overline{Z}$')\n",
    "    sns.despine(fig=f)\n",
    "    stats_before_after(sig4frz_dfreg, 'cov_z_mean', astat)\n",
    "# fig.savefig(print_dir + \"/cov_before_after_sig1_cells_registered_across_days.pdf\")"
   ]
  },
  {
   "cell_type": "markdown",
   "id": "4d372532",
   "metadata": {},
   "source": [
    "Plot #4b: ID freeze cells on 1 day session and track covariance forward/backward across whole experiment.  Include silent cells in code, but plot two ways: 1) turnover in freeze cell population between sessions, and 2) change in covariance from 4 hr session forward/backward in time.  "
   ]
  },
  {
   "cell_type": "markdown",
   "id": "ef160920",
   "metadata": {},
   "source": [
    "Plot #5: Same as #4 but do control plot (ID cells on day -1) and plot of consolidated cells (ID cells on day 1)."
   ]
  },
  {
   "cell_type": "code",
   "execution_count": 27,
   "id": "a9911fcf",
   "metadata": {
    "scrolled": true
   },
   "outputs": [
    {
     "name": "stderr",
     "output_type": "stream",
     "text": [
      "Marble07: 5it [00:03,  1.38it/s]\n",
      "Marble12: 5it [00:03,  1.61it/s]\n",
      "Marble24: 5it [00:03,  1.57it/s]\n",
      "Marble27: 5it [00:03,  1.54it/s]\n",
      "Marble06: 5it [00:03,  1.50it/s]\n",
      "Marble11: 5it [00:04,  1.09it/s]\n",
      "Marble29: 5it [00:03,  1.47it/s]\n",
      "Marble17: 5it [00:03,  1.27it/s]\n",
      "Marble18: 5it [00:03,  1.65it/s]\n",
      "Marble19: 5it [00:03,  1.46it/s]\n",
      "Marble20: 5it [00:03,  1.64it/s]\n",
      "Marble25: 5it [00:03,  1.42it/s]\n"
     ]
    }
   ],
   "source": [
    "sig1_cov_dict = cova.group_sig_cov_across_days(bin_size=bin_size, arena1='Shock',\n",
    "                                              arena2='Shock', base_days=[1, 1, 1, 1, 1],\n",
    "                                              reg_days=[-2, -1, 4, 1, 2], thresh=2,\n",
    "                                              keep_silent=False)"
   ]
  },
  {
   "cell_type": "markdown",
   "id": "7289c611",
   "metadata": {},
   "source": [
    "## NRK - look at actual dictionary you created - how many cells? Make sure it isn't just carried by one to two cells that actually register"
   ]
  },
  {
   "cell_type": "code",
   "execution_count": 28,
   "id": "6844ae14",
   "metadata": {},
   "outputs": [],
   "source": [
    "# Clean up and reshape dataframe\n",
    "sig1_dfreg = cova.cov_dict_to_df(sig1_cov_dict, all_cov, register=True)\n",
    "sig1_dfreg = add_memory_designations(sig1_dfreg, before=['1_-2', '1_-1'], during=['1_4'], after=['1_2'])"
   ]
  },
  {
   "cell_type": "code",
   "execution_count": 29,
   "id": "42535f6b",
   "metadata": {
    "scrolled": true
   },
   "outputs": [
    {
     "data": {
      "image/png": "[encoded data removed]",
      "text/plain": [
       "<Figure size 864x288 with 2 Axes>"
      ]
     },
     "metadata": {
      "needs_background": "light"
     },
     "output_type": "display_data"
    }
   ],
   "source": [
    "fig, ax = plt.subplots(1,2, figsize=(12, 4))\n",
    "sns.swarmplot(x=\"Designation\", y=\"cov_z_mean\", hue=\"Group\", data=sig1_dfreg, dodge=True, ax=ax[0])\n",
    "ax[0].set_title('1 day sig cells')\n",
    "sns.despine(fig=fig)\n",
    "stats_before_after(sig1_dfreg, 'cov_z_mean', ax[1])\n",
    "# fig.savefig(print_dir + \"/cov_before_after_sig1_cells_registered_across_days.pdf\")"
   ]
  },
  {
   "cell_type": "markdown",
   "id": "b5baf9f7",
   "metadata": {},
   "source": [
    "Plot #6: More for ANI turnover plots, but plot turnover from day -2 to day -1 for ANI vs Ctrls and compare to day -1 to day 7 - hypothesis is that ANI induces some sort of change in the cells active during later time points, and day -1 to day 7 is the first point at which we see no suppression of activity by ANI."
   ]
  },
  {
   "cell_type": "code",
   "execution_count": 30,
   "id": "daa72bd8",
   "metadata": {
    "scrolled": false
   },
   "outputs": [
    {
     "name": "stderr",
     "output_type": "stream",
     "text": [
      "Marble07: 5it [00:04,  1.01it/s]\n",
      "Marble12: 5it [00:04,  1.18it/s]\n",
      "Marble24: 5it [00:04,  1.15it/s]\n",
      "Marble27: 5it [00:04,  1.12it/s]\n",
      "Marble06: 5it [00:05,  1.17s/it]\n",
      "Marble11: 5it [00:06,  1.24s/it]\n",
      "Marble29: 5it [00:04,  1.06it/s]\n",
      "Marble17: 5it [00:05,  1.08s/it]\n",
      "Marble18: 5it [00:04,  1.21it/s]\n",
      "Marble19: 5it [00:04,  1.05it/s]\n",
      "Marble20: 5it [00:04,  1.20it/s]\n",
      "Marble25: 5it [00:04,  1.05it/s]\n",
      "Marble07: 5it [00:04,  1.01it/s]\n",
      "Marble12: 5it [00:04,  1.17it/s]\n",
      "Marble24: 5it [00:04,  1.08it/s]\n",
      "Marble27: 5it [00:04,  1.14it/s]\n",
      "Marble06: 5it [00:04,  1.10it/s]\n",
      "Marble11: 5it [00:06,  1.20s/it]\n",
      "Marble29: 5it [00:04,  1.08it/s]\n",
      "Marble17: 5it [00:05,  1.03s/it]\n",
      "Marble18: 5it [00:04,  1.20it/s]\n",
      "Marble19: 5it [00:04,  1.07it/s]\n",
      "Marble20: 5it [00:04,  1.19it/s]\n",
      "Marble25: 5it [00:04,  1.04it/s]\n"
     ]
    }
   ],
   "source": [
    "sig1frz_cov_dict = cova.group_cov_across_days(bin_size=bin_size, arena1='Shock', neurons='freeze_onset',\n",
    "                                              arena2='Shock', base_days=[1, 1, 1, 1, 1],\n",
    "                                              reg_days=[-2, -1, 4, 1, 2], keep_silent=False)\n",
    "sig2frz_cov_dict = cova.group_cov_across_days(bin_size=bin_size, arena1='Shock', neurons='freeze_onset',\n",
    "                                              arena2='Shock', base_days=[2, 2, 2, 2, 2],\n",
    "                                              reg_days=[-2, -1, 4, 1, 2], keep_silent=False)\n",
    "# Not sure how to interpret keeping silent cells in with across-day registration...\n",
    "# sig1frz_cov_dict_wsilent = cova.group_cov_across_days(bin_size=bin_size, arena1='Shock', neurons='freeze_onset',\n",
    "#                                               arena2='Shock', base_days=[1, 1, 1, 1, 1],\n",
    "#                                               reg_days=[-2, -1, 4, 1, 2], keep_silent=True)"
   ]
  },
  {
   "cell_type": "code",
   "execution_count": 31,
   "id": "e7e42716",
   "metadata": {},
   "outputs": [
    {
     "name": "stderr",
     "output_type": "stream",
     "text": [
      "/Users/nkinsky/miniconda3/envs/eraser/lib/python3.9/site-packages/numpy/core/fromnumeric.py:3440: RuntimeWarning: Mean of empty slice.\n",
      "  return _methods._mean(a, axis=axis, dtype=dtype,\n",
      "/Users/nkinsky/miniconda3/envs/eraser/lib/python3.9/site-packages/numpy/core/_methods.py:189: RuntimeWarning: invalid value encountered in double_scalars\n",
      "  ret = ret.dtype.type(ret / rcount)\n"
     ]
    }
   ],
   "source": [
    "# Clean up and reshape dataframe\n",
    "sig1frz_dfreg = cova.cov_dict_to_df(sig1frz_cov_dict, all_cov, register=True)\n",
    "sig1frz_dfreg = add_memory_designations(sig1frz_dfreg, before=['1_-2', '1_-1'], during=['1_4'], after=['1_1', '1_2'])\n",
    "\n",
    "sig2frz_dfreg = cova.cov_dict_to_df(sig2frz_cov_dict, all_cov, register=True)\n",
    "sig2frz_dfreg = add_memory_designations(sig2frz_dfreg, before=['2_-2', '2_-1'], during=['2_4'], after=['2_1', '2_2'])"
   ]
  },
  {
   "cell_type": "code",
   "execution_count": 32,
   "id": "a4cbe8ed",
   "metadata": {},
   "outputs": [
    {
     "data": {
      "image/png": "[encoded data removed]",
      "text/plain": [
       "<Figure size 1080x180 with 5 Axes>"
      ]
     },
     "metadata": {
      "needs_background": "light"
     },
     "output_type": "display_data"
    }
   ],
   "source": [
    "sigz_df = sig1frz_dfreg\n",
    "\n",
    "pairs_plot = ['1_-2','1_-1', '1_4', '1_1', '1_2']\n",
    "fig, ax = plt.subplots(1, len(pairs_plot), figsize=(3*len(pairs_plot), 2.5))\n",
    "for a, d1_d2 in zip(ax, pairs_plot):\n",
    "    sns.stripplot(x='Group', y='cov_z_mean', data=sigz_df[sigz_df['d1_d2'] == d1_d2], ax=a)\n",
    "    sns.despine(ax=a)\n",
    "    a.set_title(d1_d2.split('_')[1])\n",
    "    df_use = sigz_df[sigz_df['d1_d2'] == d1_d2]\n",
    "    stat, pval = stats.ttest_ind(df_use[df_use['Group'] == 'Ctrl']['cov_z_mean'], \n",
    "                                 df_use[df_use['Group'] == 'ANI']['cov_z_mean'])\n",
    "    \n",
    "    a.text(0, -0.3, f'p_t = {pval:.3g}')\n",
    "    \n",
    "erp.match_max_lims(ax, axis='y')"
   ]
  },
  {
   "cell_type": "code",
   "execution_count": 33,
   "id": "de49c934",
   "metadata": {
    "scrolled": false
   },
   "outputs": [
    {
     "data": {
      "image/png": "[encoded data removed]",
      "text/plain": [
       "<Figure size 864x288 with 2 Axes>"
      ]
     },
     "metadata": {
      "needs_background": "light"
     },
     "output_type": "display_data"
    }
   ],
   "source": [
    "fig, ax = plt.subplots(1,2, figsize=(12, 4))\n",
    "for ap, astat, f in zip([ax1plot, ax[0]], [ax1stat, ax[1]], [figfrzreg, fig]):\n",
    "    sns.swarmplot(x=\"Designation\", y=\"cov_z_mean\", hue=\"Group\", data=sig1frz_dfreg, dodge=True, ax=ap)\n",
    "    ap.set_title('1 day frz cells - Tracked across sessions')\n",
    "    ap.set_xlabel('')\n",
    "    ap.set_ylabel(r'$\\overline{Z}$')\n",
    "    sns.despine(fig=f)\n",
    "    stats_before_after(sig1frz_dfreg, 'cov_z_mean', astat)"
   ]
  },
  {
   "cell_type": "code",
   "execution_count": 34,
   "id": "e3cb5774",
   "metadata": {},
   "outputs": [],
   "source": [
    "# Save to manuscript figure - supplemental?\n",
    "figfrzreg.savefig(print_dir + '/cov_frz_1and4_reg.pdf')"
   ]
  },
  {
   "cell_type": "code",
   "execution_count": 35,
   "id": "39b25bb3",
   "metadata": {
    "scrolled": true
   },
   "outputs": [
    {
     "data": {
      "image/png": "[encoded data removed]",
      "text/plain": [
       "<Figure size 1080x180 with 5 Axes>"
      ]
     },
     "metadata": {
      "needs_background": "light"
     },
     "output_type": "display_data"
    }
   ],
   "source": [
    "sigz_df = sig2frz_dfreg\n",
    "\n",
    "pairs_plot = ['2_-2','2_-1', '2_4', '2_1', '2_2']\n",
    "fig, ax = plt.subplots(1, len(pairs_plot), figsize=(3*len(pairs_plot), 2.5))\n",
    "for a, d1_d2 in zip(ax, pairs_plot):\n",
    "    sns.stripplot(x='Group', y='cov_z_mean', data=sigz_df[sigz_df['d1_d2'] == d1_d2], ax=a)\n",
    "    sns.despine(ax=a)\n",
    "    a.set_title(d1_d2.split('_')[1])\n",
    "    df_use = sigz_df[sigz_df['d1_d2'] == d1_d2]\n",
    "    stat, pval = stats.ttest_ind(df_use[df_use['Group'] == 'Ctrl']['cov_z_mean'], \n",
    "                                 df_use[df_use['Group'] == 'ANI']['cov_z_mean'], nan_policy='omit')\n",
    "    \n",
    "    a.text(0, -0.3, f'p_t = {pval:.3g}')\n",
    "    \n",
    "erp.match_max_lims(ax, axis='y')"
   ]
  },
  {
   "cell_type": "code",
   "execution_count": 36,
   "id": "d6e3910a",
   "metadata": {
    "scrolled": true
   },
   "outputs": [
    {
     "data": {
      "image/png": "[encoded data removed]",
      "text/plain": [
       "<Figure size 864x288 with 2 Axes>"
      ]
     },
     "metadata": {
      "needs_background": "light"
     },
     "output_type": "display_data"
    }
   ],
   "source": [
    "fig, ax = plt.subplots(1,2, figsize=(12, 4))\n",
    "sns.swarmplot(x=\"Designation\", y=\"cov_z_mean\", hue=\"Group\", data=sig2frz_dfreg, dodge=True, ax=ax[0])\n",
    "ax[0].set_title('2 day frz cells - Tracked across sessions')\n",
    "sns.despine(fig=fig)\n",
    "stats_before_after(sig2frz_dfreg, 'cov_z_mean', ax[1])"
   ]
  }
 ],
 "metadata": {
  "kernelspec": {
   "display_name": "Python 3 (ipykernel)",
   "language": "python",
   "name": "python3"
  },
  "language_info": {
   "codemirror_mode": {
    "name": "ipython",
    "version": 3
   },
   "file_extension": ".py",
   "mimetype": "text/x-python",
   "name": "python",
   "nbconvert_exporter": "python",
   "pygments_lexer": "ipython3",
   "version": "3.9.5"
  }
 },
 "nbformat": 4,
 "nbformat_minor": 5
}
