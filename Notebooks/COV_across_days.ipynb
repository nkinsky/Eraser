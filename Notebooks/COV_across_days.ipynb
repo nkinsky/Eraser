{
 "cells": [
  {
   "cell_type": "markdown",
   "id": "91d8a358",
   "metadata": {},
   "source": [
    "This notebook does two things: 1) tracks the co-firing of cells as it increases/decreases on each day, and 2) tests whether day 4 (learning-related) increases in syncrony persist with the same cell pairs between controls and ANI mice."
   ]
  },
  {
   "cell_type": "markdown",
   "id": "b7a9abaf",
   "metadata": {},
   "source": [
    "## NRK todo: remake all analyses not tracking cells across days with d1_d2 as same day, e.g. '4_4'.  The clarity will make life easier in future!\n",
    "\n",
    "#2 - Figure out plots to add to final figure, layout with gridspec (put stats off to side), and plot with appropriate font size, lineweights, etc. so that you don't have to mess with them at all in illustrator afterward.\n",
    "\n",
    "#3 - Same thing as #2 but for supplemental figures, e.g. tracking cells across days for control days (e.g. day -1 freeze cells, day -1 cells with high covariance)."
   ]
  },
  {
   "cell_type": "code",
   "execution_count": 1,
   "id": "456dc2d9",
   "metadata": {},
   "outputs": [],
   "source": [
    "# Import useful modules\n",
    "import numpy as np\n",
    "import seaborn as sns\n",
    "import matplotlib.pyplot as plt\n",
    "import scipy.stats as stats\n",
    "import matplotlib.gridspec as gridspec\n",
    "import pandas as pd\n",
    "from tqdm import tqdm\n",
    "\n",
    "# Import project specific modules and enable automatic reloading\n",
    "import sys\n",
    "from pathlib import Path\n",
    "import os\n",
    "eraser_path = Path(os.getcwd()).parent\n",
    "reinstatement_path = eraser_path.parent / 'FearReinstatement'\n",
    "sys.path.append(str(eraser_path))\n",
    "sys.path.append(str(reinstatement_path))\n",
    "%load_ext autoreload\n",
    "%autoreload 2\n",
    "\n",
    "from session_directory import find_eraser_directory as get_dir\n",
    "import er_plot_functions as erp\n",
    "import Placefields as pf\n",
    "import freezing_analysis as fa\n",
    "import helpers \n",
    "import eraser_reference as err\n",
    "import covariance_analysis as cova\n",
    "\n",
    "# Project save directory here\n",
    "print_dir = '/Users/nkinsky/Documents/BU/Working/Eraser/plots'\n",
    "save_dir = '/Users/nkinsky/Documents/BU/Working/Eraser'\n",
    "\n",
    "plt.rcParams['pdf.fonttype'] = 42\n",
    "# plt.rcParams['']\n",
    "plt.rcParams['font.sans-serif'] = \"Arial\""
   ]
  },
  {
   "cell_type": "code",
   "execution_count": 2,
   "id": "959b4d22",
   "metadata": {},
   "outputs": [],
   "source": [
    "# Helper functions to block printing output\n",
    "import sys, os\n",
    "\n",
    "# Disable\n",
    "def blockPrint():\n",
    "    sys.stdout = open(os.devnull, 'w')\n",
    "\n",
    "# Restore\n",
    "def enablePrint():\n",
    "    sys.stdout = sys.__stdout__\n"
   ]
  },
  {
   "cell_type": "markdown",
   "id": "58f65af9",
   "metadata": {},
   "source": [
    "## Bug here - why isn't this fix working!!!\n",
    "Should be fixed now - re-test all code below with updates, make sure to change 'before', 'during', and 'after' inputs and get rid of any refs to 'add_reg_memory_designation' function"
   ]
  },
  {
   "cell_type": "code",
   "execution_count": 3,
   "id": "aef2b091",
   "metadata": {},
   "outputs": [],
   "source": [
    "from copy import deepcopy\n",
    "\n",
    "def add_memory_designations(df_use, before=['-2_-1', '-1_4'], during=['4_1'], after=['1_2', '2_7']):\n",
    "    \"\"\"Add in designations for before, 4hr (during), and after ANI administration into your dataframe\"\"\"\n",
    "    df = deepcopy(df_use)\n",
    "    desig = [\"\" for a in df.itertuples()]\n",
    "    \n",
    "    def create_bool_array_from_list(bool_list):\n",
    "        bool_out = False\n",
    "        for b in bool_list:\n",
    "            bool_out = np.bitwise_or(bool_out, b)\n",
    "            \n",
    "        return bool_out\n",
    "    \n",
    "    before_bool_list = [df[\"d1_d2\"] == bef for bef in before]\n",
    "    before_ind = np.where(create_bool_array_from_list(before_bool_list))[0]\n",
    "    during_bool_list = [df[\"d1_d2\"] == dur for dur in during]\n",
    "    during_ind = np.where(create_bool_array_from_list(during_bool_list))[0]\n",
    "    after_bool_list = [df[\"d1_d2\"] == aft for aft in after]\n",
    "    after_ind = np.where(create_bool_array_from_list(after_bool_list))[0]\n",
    "    \n",
    "       # Old hardcoded method below for reference/bug checking\n",
    "#     before_ind = np.where((df[\"d1_d2\"] == \"-2_-1\") | (df[\"d1_d2\"] == \"-1_4\"))[0]\n",
    "#     during_ind = np.where(df[\"d1_d2\"] == \"4_1\")[0]\n",
    "#     after_ind = np.where((df[\"d1_d2\"] == \"1_2\") | (df[\"d1_d2\"] == \"2_7\"))[0]\n",
    "    for idd, d in enumerate(desig):\n",
    "        if idd in before_ind:\n",
    "            desig[idd] = \"Before\"\n",
    "        elif idd in during_ind:\n",
    "            desig[idd] = \"4hr\"\n",
    "        elif idd in after_ind:\n",
    "            desig[idd] = \"After\"\n",
    "    df.insert(1, \"Designation\", desig)\n",
    "    \n",
    "    return df"
   ]
  },
  {
   "cell_type": "code",
   "execution_count": 4,
   "id": "e06e8974",
   "metadata": {},
   "outputs": [],
   "source": [
    "def stats_before_after(df_use, key_use, ax=None, fontsize=None):\n",
    "    \"\"\"Compares mean covariances in a DataFrame. Pools days before (-2 and -1) and days after (1 and 2) shock + \n",
    "    injection. Compares across and within groups.\n",
    "    :param reg: True = use reg_memory_designations, False = use regular memory degisnations\"\"\"\n",
    "    \n",
    "    df_before = df_use[df_use['Designation'] == 'Before']\n",
    "    df_after = df_use[df_use['Designation'] == 'After']\n",
    "    df4 = df_use[df_use['Designation'] == '4hr'] \n",
    "        \n",
    "    stat_bef, p_bef = stats.ttest_ind(df_before[df_before['Group'] == 'Ctrl'][key_use], \n",
    "                                     df_before[df_before['Group'] == 'ANI'][key_use], nan_policy='omit')\n",
    "    stat_aft, p_aft = stats.ttest_ind(df_after[df_after['Group'] == 'Ctrl'][key_use], \n",
    "                                     df_after[df_after['Group'] == 'ANI'][key_use], nan_policy='omit')\n",
    "    stat_ctrl, p_ctrl = stats.ttest_ind(df_before[df_before['Group'] == 'Ctrl'][key_use], \n",
    "                                     df_after[df_after['Group'] == 'Ctrl'][key_use], nan_policy='omit')\n",
    "    stat_ani, p_ani = stats.ttest_ind(df_before[df_before['Group'] == 'ANI'][key_use], \n",
    "                                     df_after[df_after['Group'] == 'ANI'][key_use], nan_policy='omit')\n",
    "    stat_dur, p_dur = stats.ttest_ind(df4[df4['Group'] == 'Ctrl'][key_use],\n",
    "                                     df4[df4['Group'] == 'ANI'][key_use], nan_policy='omit')\n",
    "    stat_b4c, p_b4c = stats.ttest_ind(df_before[df_before['Group'] == 'Ctrl'][key_use],\n",
    "                                      df4[df4['Group'] == 'Ctrl'][key_use], nan_policy='omit')\n",
    "    stat_b4a, p_b4a = stats.ttest_ind(df_before[df_before['Group'] == 'ANI'][key_use],\n",
    "                                      df4[df4['Group'] == 'ANI'][key_use], nan_policy='omit')\n",
    "    stat_4ac, p_4ac = stats.ttest_ind(df4[df4['Group'] == 'Ctrl'][key_use], \n",
    "                                     df_after[df_after['Group'] == 'Ctrl'][key_use], nan_policy='omit')\n",
    "    stat_4aa, p_4aa = stats.ttest_ind(df4[df4['Group'] == 'ANI'][key_use], \n",
    "                                     df_after[df_after['Group'] == 'ANI'][key_use], nan_policy='omit')\n",
    "    \n",
    "    if ax is None:  # Print to screen\n",
    "        print(f'p={p_bef:0.3g} baseline b/w groups')\n",
    "        print(f'p={p_aft:0.3g} day 1-2 b/w groups')\n",
    "        print(f'p={p_ctrl:0.3g} before-after Ctrl')\n",
    "        print(f'p={p_ani:0.3g} before-after ANI')\n",
    "        print(f'p={p_dur:0.3g} 4 hrs b/w groups')\n",
    "    else:  # Print into specified axes\n",
    "        if fontsize is None:\n",
    "            fsize = 12.0\n",
    "        else:\n",
    "            fsize = 4.0\n",
    "        ax.text(0.1, 0.9, f'p={p_4aa:0.3g} 4 hr v after ANI', fontsize=fsize)\n",
    "        ax.text(0.1, 0.8, f'p={p_4ac:0.3g} 4 hr v after Ctrl', fontsize=fsize)\n",
    "        ax.text(0.1, 0.7, f'p={p_b4a:0.3g} before v 4 hr ANI', fontsize=fsize)\n",
    "        ax.text(0.1, 0.6, f'p={p_b4c:0.3g} before v 4 hr Ctrl', fontsize=fsize)\n",
    "        ax.text(0.1, 0.5, f'p={p_bef:0.3g} baseline b/w groups', fontsize=fsize)\n",
    "        ax.text(0.1, 0.4, f'p={p_aft:0.3g} day 1-2 b/w groups', fontsize=fsize)\n",
    "        ax.text(0.1, 0.3, f'p={p_ctrl:0.3g} before-after Ctrl', fontsize=fsize)\n",
    "        ax.text(0.1, 0.2, f'p={p_ani:0.3g} before-after ANI', fontsize=fsize)\n",
    "        ax.text(0.1, 0.1, f'p={p_dur:0.3g} 4 hrs b/w groups', fontsize=fsize)"
   ]
  },
  {
   "cell_type": "markdown",
   "id": "9155970b",
   "metadata": {},
   "source": [
    "Step 0: Set up all dicts for plotting."
   ]
  },
  {
   "cell_type": "code",
   "execution_count": 5,
   "id": "f2646545",
   "metadata": {
    "scrolled": true
   },
   "outputs": [
    {
     "name": "stderr",
     "output_type": "stream",
     "text": [
      "Marble07: 5it [00:03,  1.34it/s]"
     ]
    },
    {
     "name": "stdout",
     "output_type": "stream",
     "text": [
      "No tunings found for Marble07 Shock day 7: run .get_tuning_sig() and .save_sig_tuning()\n"
     ]
    },
    {
     "name": "stderr",
     "output_type": "stream",
     "text": [
      "Marble07: 6it [00:04,  1.32it/s]\n",
      "Marble12: 5it [00:03,  1.59it/s]"
     ]
    },
    {
     "name": "stdout",
     "output_type": "stream",
     "text": [
      "No tunings found for Marble12 Shock day 7: run .get_tuning_sig() and .save_sig_tuning()\n"
     ]
    },
    {
     "name": "stderr",
     "output_type": "stream",
     "text": [
      "Marble12: 6it [00:03,  1.60it/s]\n",
      "Marble24: 5it [00:03,  1.54it/s]"
     ]
    },
    {
     "name": "stdout",
     "output_type": "stream",
     "text": [
      "No tunings found for Marble24 Shock day 7: run .get_tuning_sig() and .save_sig_tuning()\n"
     ]
    },
    {
     "name": "stderr",
     "output_type": "stream",
     "text": [
      "Marble24: 6it [00:03,  1.57it/s]\n",
      "Marble27: 5it [00:03,  1.53it/s]"
     ]
    },
    {
     "name": "stdout",
     "output_type": "stream",
     "text": [
      "No tunings found for Marble27 Shock day 7: run .get_tuning_sig() and .save_sig_tuning()\n"
     ]
    },
    {
     "name": "stderr",
     "output_type": "stream",
     "text": [
      "Marble27: 6it [00:03,  1.52it/s]\n",
      "Marble06: 4it [00:02,  1.50it/s]"
     ]
    },
    {
     "name": "stdout",
     "output_type": "stream",
     "text": [
      "No position data found for Marble06 Shock day 7, loading neural data only\n"
     ]
    },
    {
     "name": "stderr",
     "output_type": "stream",
     "text": [
      "Marble06: 6it [00:05,  1.06it/s]\n",
      "Marble11: 5it [00:04,  1.08it/s]"
     ]
    },
    {
     "name": "stdout",
     "output_type": "stream",
     "text": [
      "No tunings found for Marble11 Shock day 7: run .get_tuning_sig() and .save_sig_tuning()\n"
     ]
    },
    {
     "name": "stderr",
     "output_type": "stream",
     "text": [
      "Marble11: 6it [00:05,  1.09it/s]\n",
      "Marble29: 5it [00:03,  1.47it/s]"
     ]
    },
    {
     "name": "stdout",
     "output_type": "stream",
     "text": [
      "No tunings found for Marble29 Shock day 7: run .get_tuning_sig() and .save_sig_tuning()\n"
     ]
    },
    {
     "name": "stderr",
     "output_type": "stream",
     "text": [
      "Marble29: 6it [00:04,  1.47it/s]\n",
      "Marble17: 5it [00:03,  1.28it/s]"
     ]
    },
    {
     "name": "stdout",
     "output_type": "stream",
     "text": [
      "No tunings found for Marble17 Shock day 7: run .get_tuning_sig() and .save_sig_tuning()\n"
     ]
    },
    {
     "name": "stderr",
     "output_type": "stream",
     "text": [
      "Marble17: 6it [00:04,  1.27it/s]\n",
      "Marble18: 5it [00:03,  1.61it/s]"
     ]
    },
    {
     "name": "stdout",
     "output_type": "stream",
     "text": [
      "No tunings found for Marble18 Shock day 7: run .get_tuning_sig() and .save_sig_tuning()\n"
     ]
    },
    {
     "name": "stderr",
     "output_type": "stream",
     "text": [
      "Marble18: 6it [00:03,  1.57it/s]\n",
      "Marble19: 5it [00:03,  1.43it/s]"
     ]
    },
    {
     "name": "stdout",
     "output_type": "stream",
     "text": [
      "No tunings found for Marble19 Shock day 7: run .get_tuning_sig() and .save_sig_tuning()\n"
     ]
    },
    {
     "name": "stderr",
     "output_type": "stream",
     "text": [
      "Marble19: 6it [00:04,  1.44it/s]\n",
      "Marble20: 5it [00:03,  1.61it/s]"
     ]
    },
    {
     "name": "stdout",
     "output_type": "stream",
     "text": [
      "No tunings found for Marble20 Shock day 7: run .get_tuning_sig() and .save_sig_tuning()\n"
     ]
    },
    {
     "name": "stderr",
     "output_type": "stream",
     "text": [
      "Marble20: 6it [00:03,  1.62it/s]\n",
      "Marble25: 5it [00:03,  1.43it/s]"
     ]
    },
    {
     "name": "stdout",
     "output_type": "stream",
     "text": [
      "No tunings found for Marble25 Shock day 7: run .get_tuning_sig() and .save_sig_tuning()\n"
     ]
    },
    {
     "name": "stderr",
     "output_type": "stream",
     "text": [
      "Marble25: 6it [00:04,  1.43it/s]\n",
      "Marble07: 4it [00:04,  1.00s/it]"
     ]
    },
    {
     "name": "stdout",
     "output_type": "stream",
     "text": [
      "No tunings found for Marble07 Shock day 7: run .get_tuning_sig() and .save_sig_tuning()\n"
     ]
    },
    {
     "name": "stderr",
     "output_type": "stream",
     "text": [
      "Marble07: 6it [00:06,  1.01s/it]\n",
      "Marble12: 4it [00:03,  1.17it/s]"
     ]
    },
    {
     "name": "stdout",
     "output_type": "stream",
     "text": [
      "No tunings found for Marble12 Shock day 7: run .get_tuning_sig() and .save_sig_tuning()\n"
     ]
    },
    {
     "name": "stderr",
     "output_type": "stream",
     "text": [
      "Marble12: 6it [00:05,  1.16it/s]\n",
      "Marble24: 4it [00:03,  1.15it/s]"
     ]
    },
    {
     "name": "stdout",
     "output_type": "stream",
     "text": [
      "No tunings found for Marble24 Shock day 7: run .get_tuning_sig() and .save_sig_tuning()\n"
     ]
    },
    {
     "name": "stderr",
     "output_type": "stream",
     "text": [
      "Marble24: 6it [00:05,  1.15it/s]\n",
      "Marble27: 4it [00:03,  1.11it/s]"
     ]
    },
    {
     "name": "stdout",
     "output_type": "stream",
     "text": [
      "No tunings found for Marble27 Shock day 7: run .get_tuning_sig() and .save_sig_tuning()\n"
     ]
    },
    {
     "name": "stderr",
     "output_type": "stream",
     "text": [
      "Marble27: 6it [00:05,  1.11it/s]\n",
      "Marble06: 4it [00:03,  1.10it/s]"
     ]
    },
    {
     "name": "stdout",
     "output_type": "stream",
     "text": [
      "No position data found for Marble06 Shock day 7, loading neural data only\n"
     ]
    },
    {
     "name": "stderr",
     "output_type": "stream",
     "text": [
      "Marble06: 6it [00:07,  1.18s/it]\n",
      "Marble11: 4it [00:04,  1.22s/it]"
     ]
    },
    {
     "name": "stdout",
     "output_type": "stream",
     "text": [
      "No tunings found for Marble11 Shock day 7: run .get_tuning_sig() and .save_sig_tuning()\n"
     ]
    },
    {
     "name": "stderr",
     "output_type": "stream",
     "text": [
      "Marble11: 6it [00:07,  1.23s/it]\n",
      "Marble29: 4it [00:03,  1.06it/s]"
     ]
    },
    {
     "name": "stdout",
     "output_type": "stream",
     "text": [
      "No tunings found for Marble29 Shock day 7: run .get_tuning_sig() and .save_sig_tuning()\n"
     ]
    },
    {
     "name": "stderr",
     "output_type": "stream",
     "text": [
      "Marble29: 6it [00:05,  1.05it/s]\n",
      "Marble17: 4it [00:04,  1.06s/it]"
     ]
    },
    {
     "name": "stdout",
     "output_type": "stream",
     "text": [
      "No tunings found for Marble17 Shock day 7: run .get_tuning_sig() and .save_sig_tuning()\n"
     ]
    },
    {
     "name": "stderr",
     "output_type": "stream",
     "text": [
      "Marble17: 6it [00:06,  1.06s/it]\n",
      "Marble18: 4it [00:03,  1.19it/s]"
     ]
    },
    {
     "name": "stdout",
     "output_type": "stream",
     "text": [
      "No tunings found for Marble18 Shock day 7: run .get_tuning_sig() and .save_sig_tuning()\n"
     ]
    },
    {
     "name": "stderr",
     "output_type": "stream",
     "text": [
      "Marble18: 6it [00:05,  1.19it/s]\n",
      "Marble19: 4it [00:03,  1.08it/s]"
     ]
    },
    {
     "name": "stdout",
     "output_type": "stream",
     "text": [
      "No tunings found for Marble19 Shock day 7: run .get_tuning_sig() and .save_sig_tuning()\n"
     ]
    },
    {
     "name": "stderr",
     "output_type": "stream",
     "text": [
      "Marble19: 6it [00:05,  1.07it/s]\n",
      "Marble20: 4it [00:03,  1.18it/s]"
     ]
    },
    {
     "name": "stdout",
     "output_type": "stream",
     "text": [
      "No tunings found for Marble20 Shock day 7: run .get_tuning_sig() and .save_sig_tuning()\n"
     ]
    },
    {
     "name": "stderr",
     "output_type": "stream",
     "text": [
      "Marble20: 6it [00:05,  1.17it/s]\n",
      "Marble25: 4it [00:03,  1.06it/s]"
     ]
    },
    {
     "name": "stdout",
     "output_type": "stream",
     "text": [
      "No tunings found for Marble25 Shock day 7: run .get_tuning_sig() and .save_sig_tuning()\n"
     ]
    },
    {
     "name": "stderr",
     "output_type": "stream",
     "text": [
      "Marble25: 6it [00:05,  1.05it/s]\n"
     ]
    }
   ],
   "source": [
    "bin_size = 0.5 # sec\n",
    "all_cov = cova.group_cov_across_days(bin_size=bin_size, arena1='Shock', arena2='Shock',\n",
    "                                               neurons='all', keep_silent=True)\n",
    "freeze_silent_cov = cova.group_cov_across_days(bin_size=bin_size, arena1='Shock', arena2='Shock',\n",
    "                                               neurons='freeze_onset', keep_silent=True)"
   ]
  },
  {
   "cell_type": "markdown",
   "id": "3be65f07",
   "metadata": {},
   "source": [
    "Plot #1: Freeze cell covariance before (day -1 and -2), 4 hr, and after (day 1 and 2), all normalized to day -2.  "
   ]
  },
  {
   "cell_type": "markdown",
   "id": "90aa39b4",
   "metadata": {},
   "source": [
    "NRK important note - try with keep_silent=False - all the above is probably driven by silent cells!  They are listed as 0 when they should be NaN by definition since the variance of a cell that fires no events is NaN, right?\n",
    "\n",
    "### NO! I'm only looking at base day covariances, which don't include silent cells! All good!"
   ]
  },
  {
   "cell_type": "code",
   "execution_count": 6,
   "id": "5911d7bd",
   "metadata": {},
   "outputs": [],
   "source": [
    "sigz_freeze_df = cova.cov_dict_to_df(freeze_silent_cov, baseline_dict_use=all_cov, include_silent=True)\n",
    "sigz_freeze_df = add_memory_designations(sigz_freeze_df)"
   ]
  },
  {
   "cell_type": "code",
   "execution_count": 7,
   "id": "8e683eaa",
   "metadata": {
    "scrolled": false
   },
   "outputs": [
    {
     "data": {
      "image/png": "[encoded data removed]",
      "text/plain": [
       "<Figure size 1080x180 with 5 Axes>"
      ]
     },
     "metadata": {
      "needs_background": "light"
     },
     "output_type": "display_data"
    }
   ],
   "source": [
    "sigz_df = sigz_freeze_df\n",
    "\n",
    "pairs_plot = ['-2_-1', '-1_4', '4_1', '1_2', '2_7']\n",
    "fig, ax = plt.subplots(1, len(pairs_plot), figsize=(3*len(pairs_plot), 2.5))\n",
    "for a, d1_d2 in zip(ax, pairs_plot):\n",
    "    sns.stripplot(x='Group', y='cov_z_mean', data=sigz_df[sigz_df['d1_d2'] == d1_d2], ax=a)\n",
    "    sns.despine(ax=a)\n",
    "    a.set_title(d1_d2.split('_')[0])\n",
    "    df_use = sigz_df[sigz_df['d1_d2'] == d1_d2]\n",
    "    stat, pval = stats.ttest_ind(df_use[df_use['Group'] == 'Ctrl']['cov_z_mean'], \n",
    "                                 df_use[df_use['Group'] == 'ANI']['cov_z_mean'])\n",
    "    \n",
    "    a.text(0, -0.4, f'p_t = {pval:.3g}')\n",
    "    \n",
    "erp.match_max_lims(ax, axis='y')"
   ]
  },
  {
   "cell_type": "markdown",
   "id": "dc7b591a",
   "metadata": {},
   "source": [
    "### Set up figure to contain all covariance plots together, nicely aligned!"
   ]
  },
  {
   "cell_type": "code",
   "execution_count": 49,
   "id": "6005e6bd",
   "metadata": {},
   "outputs": [
    {
     "data": {
      "application/javascript": [
       "/* Put everything inside the global mpl namespace */\n",
       "/* global mpl */\n",
       "window.mpl = {};\n",
       "\n",
       "mpl.get_websocket_type = function () {\n",
       "    if (typeof WebSocket !== 'undefined') {\n",
       "        return WebSocket;\n",
       "    } else if (typeof MozWebSocket !== 'undefined') {\n",
       "        return MozWebSocket;\n",
       "    } else {\n",
       "        alert(\n",
       "            'Your browser does not have WebSocket support. ' +\n",
       "                'Please try Chrome, Safari or Firefox ≥ 6. ' +\n",
       "                'Firefox 4 and 5 are also supported but you ' +\n",
       "                'have to enable WebSockets in about:config.'\n",
       "        );\n",
       "    }\n",
       "};\n",
       "\n",
       "mpl.figure = function (figure_id, websocket, ondownload, parent_element) {\n",
       "    this.id = figure_id;\n",
       "\n",
       "    this.ws = websocket;\n",
       "\n",
       "    this.supports_binary = this.ws.binaryType !== undefined;\n",
       "\n",
       "    if (!this.supports_binary) {\n",
       "        var warnings = document.getElementById('mpl-warnings');\n",
       "        if (warnings) {\n",
       "            warnings.style.display = 'block';\n",
       "            warnings.textContent =\n",
       "                'This browser does not support binary websocket messages. ' +\n",
       "                'Performance may be slow.';\n",
       "        }\n",
       "    }\n",
       "\n",
       "    this.imageObj = new Image();\n",
       "\n",
       "    this.context = undefined;\n",
       "    this.message = undefined;\n",
       "    this.canvas = undefined;\n",
       "    this.rubberband_canvas = undefined;\n",
       "    this.rubberband_context = undefined;\n",
       "    this.format_dropdown = undefined;\n",
       "\n",
       "    this.image_mode = 'full';\n",
       "\n",
       "    this.root = document.createElement('div');\n",
       "    this.root.setAttribute('style', 'display: inline-block');\n",
       "    this._root_extra_style(this.root);\n",
       "\n",
       "    parent_element.appendChild(this.root);\n",
       "\n",
       "    this._init_header(this);\n",
       "    this._init_canvas(this);\n",
       "    this._init_toolbar(this);\n",
       "\n",
       "    var fig = this;\n",
       "\n",
       "    this.waiting = false;\n",
       "\n",
       "    this.ws.onopen = function () {\n",
       "        fig.send_message('supports_binary', { value: fig.supports_binary });\n",
       "        fig.send_message('send_image_mode', {});\n",
       "        if (fig.ratio !== 1) {\n",
       "            fig.send_message('set_dpi_ratio', { dpi_ratio: fig.ratio });\n",
       "        }\n",
       "        fig.send_message('refresh', {});\n",
       "    };\n",
       "\n",
       "    this.imageObj.onload = function () {\n",
       "        if (fig.image_mode === 'full') {\n",
       "            // Full images could contain transparency (where diff images\n",
       "            // almost always do), so we need to clear the canvas so that\n",
       "            // there is no ghosting.\n",
       "            fig.context.clearRect(0, 0, fig.canvas.width, fig.canvas.height);\n",
       "        }\n",
       "        fig.context.drawImage(fig.imageObj, 0, 0);\n",
       "    };\n",
       "\n",
       "    this.imageObj.onunload = function () {\n",
       "        fig.ws.close();\n",
       "    };\n",
       "\n",
       "    this.ws.onmessage = this._make_on_message_function(this);\n",
       "\n",
       "    this.ondownload = ondownload;\n",
       "};\n",
       "\n",
       "mpl.figure.prototype._init_header = function () {\n",
       "    var titlebar = document.createElement('div');\n",
       "    titlebar.classList =\n",
       "        'ui-dialog-titlebar ui-widget-header ui-corner-all ui-helper-clearfix';\n",
       "    var titletext = document.createElement('div');\n",
       "    titletext.classList = 'ui-dialog-title';\n",
       "    titletext.setAttribute(\n",
       "        'style',\n",
       "        'width: 100%; text-align: center; padding: 3px;'\n",
       "    );\n",
       "    titlebar.appendChild(titletext);\n",
       "    this.root.appendChild(titlebar);\n",
       "    this.header = titletext;\n",
       "};\n",
       "\n",
       "mpl.figure.prototype._canvas_extra_style = function (_canvas_div) {};\n",
       "\n",
       "mpl.figure.prototype._root_extra_style = function (_canvas_div) {};\n",
       "\n",
       "mpl.figure.prototype._init_canvas = function () {\n",
       "    var fig = this;\n",
       "\n",
       "    var canvas_div = (this.canvas_div = document.createElement('div'));\n",
       "    canvas_div.setAttribute(\n",
       "        'style',\n",
       "        'border: 1px solid #ddd;' +\n",
       "            'box-sizing: content-box;' +\n",
       "            'clear: both;' +\n",
       "            'min-height: 1px;' +\n",
       "            'min-width: 1px;' +\n",
       "            'outline: 0;' +\n",
       "            'overflow: hidden;' +\n",
       "            'position: relative;' +\n",
       "            'resize: both;'\n",
       "    );\n",
       "\n",
       "    function on_keyboard_event_closure(name) {\n",
       "        return function (event) {\n",
       "            return fig.key_event(event, name);\n",
       "        };\n",
       "    }\n",
       "\n",
       "    canvas_div.addEventListener(\n",
       "        'keydown',\n",
       "        on_keyboard_event_closure('key_press')\n",
       "    );\n",
       "    canvas_div.addEventListener(\n",
       "        'keyup',\n",
       "        on_keyboard_event_closure('key_release')\n",
       "    );\n",
       "\n",
       "    this._canvas_extra_style(canvas_div);\n",
       "    this.root.appendChild(canvas_div);\n",
       "\n",
       "    var canvas = (this.canvas = document.createElement('canvas'));\n",
       "    canvas.classList.add('mpl-canvas');\n",
       "    canvas.setAttribute('style', 'box-sizing: content-box;');\n",
       "\n",
       "    this.context = canvas.getContext('2d');\n",
       "\n",
       "    var backingStore =\n",
       "        this.context.backingStorePixelRatio ||\n",
       "        this.context.webkitBackingStorePixelRatio ||\n",
       "        this.context.mozBackingStorePixelRatio ||\n",
       "        this.context.msBackingStorePixelRatio ||\n",
       "        this.context.oBackingStorePixelRatio ||\n",
       "        this.context.backingStorePixelRatio ||\n",
       "        1;\n",
       "\n",
       "    this.ratio = (window.devicePixelRatio || 1) / backingStore;\n",
       "\n",
       "    var rubberband_canvas = (this.rubberband_canvas = document.createElement(\n",
       "        'canvas'\n",
       "    ));\n",
       "    rubberband_canvas.setAttribute(\n",
       "        'style',\n",
       "        'box-sizing: content-box; position: absolute; left: 0; top: 0; z-index: 1;'\n",
       "    );\n",
       "\n",
       "    // Apply a ponyfill if ResizeObserver is not implemented by browser.\n",
       "    if (this.ResizeObserver === undefined) {\n",
       "        if (window.ResizeObserver !== undefined) {\n",
       "            this.ResizeObserver = window.ResizeObserver;\n",
       "        } else {\n",
       "            var obs = _JSXTOOLS_RESIZE_OBSERVER({});\n",
       "            this.ResizeObserver = obs.ResizeObserver;\n",
       "        }\n",
       "    }\n",
       "\n",
       "    this.resizeObserverInstance = new this.ResizeObserver(function (entries) {\n",
       "        var nentries = entries.length;\n",
       "        for (var i = 0; i < nentries; i++) {\n",
       "            var entry = entries[i];\n",
       "            var width, height;\n",
       "            if (entry.contentBoxSize) {\n",
       "                if (entry.contentBoxSize instanceof Array) {\n",
       "                    // Chrome 84 implements new version of spec.\n",
       "                    width = entry.contentBoxSize[0].inlineSize;\n",
       "                    height = entry.contentBoxSize[0].blockSize;\n",
       "                } else {\n",
       "                    // Firefox implements old version of spec.\n",
       "                    width = entry.contentBoxSize.inlineSize;\n",
       "                    height = entry.contentBoxSize.blockSize;\n",
       "                }\n",
       "            } else {\n",
       "                // Chrome <84 implements even older version of spec.\n",
       "                width = entry.contentRect.width;\n",
       "                height = entry.contentRect.height;\n",
       "            }\n",
       "\n",
       "            // Keep the size of the canvas and rubber band canvas in sync with\n",
       "            // the canvas container.\n",
       "            if (entry.devicePixelContentBoxSize) {\n",
       "                // Chrome 84 implements new version of spec.\n",
       "                canvas.setAttribute(\n",
       "                    'width',\n",
       "                    entry.devicePixelContentBoxSize[0].inlineSize\n",
       "                );\n",
       "                canvas.setAttribute(\n",
       "                    'height',\n",
       "                    entry.devicePixelContentBoxSize[0].blockSize\n",
       "                );\n",
       "            } else {\n",
       "                canvas.setAttribute('width', width * fig.ratio);\n",
       "                canvas.setAttribute('height', height * fig.ratio);\n",
       "            }\n",
       "            canvas.setAttribute(\n",
       "                'style',\n",
       "                'width: ' + width + 'px; height: ' + height + 'px;'\n",
       "            );\n",
       "\n",
       "            rubberband_canvas.setAttribute('width', width);\n",
       "            rubberband_canvas.setAttribute('height', height);\n",
       "\n",
       "            // And update the size in Python. We ignore the initial 0/0 size\n",
       "            // that occurs as the element is placed into the DOM, which should\n",
       "            // otherwise not happen due to the minimum size styling.\n",
       "            if (fig.ws.readyState == 1 && width != 0 && height != 0) {\n",
       "                fig.request_resize(width, height);\n",
       "            }\n",
       "        }\n",
       "    });\n",
       "    this.resizeObserverInstance.observe(canvas_div);\n",
       "\n",
       "    function on_mouse_event_closure(name) {\n",
       "        return function (event) {\n",
       "            return fig.mouse_event(event, name);\n",
       "        };\n",
       "    }\n",
       "\n",
       "    rubberband_canvas.addEventListener(\n",
       "        'mousedown',\n",
       "        on_mouse_event_closure('button_press')\n",
       "    );\n",
       "    rubberband_canvas.addEventListener(\n",
       "        'mouseup',\n",
       "        on_mouse_event_closure('button_release')\n",
       "    );\n",
       "    rubberband_canvas.addEventListener(\n",
       "        'dblclick',\n",
       "        on_mouse_event_closure('dblclick')\n",
       "    );\n",
       "    // Throttle sequential mouse events to 1 every 20ms.\n",
       "    rubberband_canvas.addEventListener(\n",
       "        'mousemove',\n",
       "        on_mouse_event_closure('motion_notify')\n",
       "    );\n",
       "\n",
       "    rubberband_canvas.addEventListener(\n",
       "        'mouseenter',\n",
       "        on_mouse_event_closure('figure_enter')\n",
       "    );\n",
       "    rubberband_canvas.addEventListener(\n",
       "        'mouseleave',\n",
       "        on_mouse_event_closure('figure_leave')\n",
       "    );\n",
       "\n",
       "    canvas_div.addEventListener('wheel', function (event) {\n",
       "        if (event.deltaY < 0) {\n",
       "            event.step = 1;\n",
       "        } else {\n",
       "            event.step = -1;\n",
       "        }\n",
       "        on_mouse_event_closure('scroll')(event);\n",
       "    });\n",
       "\n",
       "    canvas_div.appendChild(canvas);\n",
       "    canvas_div.appendChild(rubberband_canvas);\n",
       "\n",
       "    this.rubberband_context = rubberband_canvas.getContext('2d');\n",
       "    this.rubberband_context.strokeStyle = '#000000';\n",
       "\n",
       "    this._resize_canvas = function (width, height, forward) {\n",
       "        if (forward) {\n",
       "            canvas_div.style.width = width + 'px';\n",
       "            canvas_div.style.height = height + 'px';\n",
       "        }\n",
       "    };\n",
       "\n",
       "    // Disable right mouse context menu.\n",
       "    this.rubberband_canvas.addEventListener('contextmenu', function (_e) {\n",
       "        event.preventDefault();\n",
       "        return false;\n",
       "    });\n",
       "\n",
       "    function set_focus() {\n",
       "        canvas.focus();\n",
       "        canvas_div.focus();\n",
       "    }\n",
       "\n",
       "    window.setTimeout(set_focus, 100);\n",
       "};\n",
       "\n",
       "mpl.figure.prototype._init_toolbar = function () {\n",
       "    var fig = this;\n",
       "\n",
       "    var toolbar = document.createElement('div');\n",
       "    toolbar.classList = 'mpl-toolbar';\n",
       "    this.root.appendChild(toolbar);\n",
       "\n",
       "    function on_click_closure(name) {\n",
       "        return function (_event) {\n",
       "            return fig.toolbar_button_onclick(name);\n",
       "        };\n",
       "    }\n",
       "\n",
       "    function on_mouseover_closure(tooltip) {\n",
       "        return function (event) {\n",
       "            if (!event.currentTarget.disabled) {\n",
       "                return fig.toolbar_button_onmouseover(tooltip);\n",
       "            }\n",
       "        };\n",
       "    }\n",
       "\n",
       "    fig.buttons = {};\n",
       "    var buttonGroup = document.createElement('div');\n",
       "    buttonGroup.classList = 'mpl-button-group';\n",
       "    for (var toolbar_ind in mpl.toolbar_items) {\n",
       "        var name = mpl.toolbar_items[toolbar_ind][0];\n",
       "        var tooltip = mpl.toolbar_items[toolbar_ind][1];\n",
       "        var image = mpl.toolbar_items[toolbar_ind][2];\n",
       "        var method_name = mpl.toolbar_items[toolbar_ind][3];\n",
       "\n",
       "        if (!name) {\n",
       "            /* Instead of a spacer, we start a new button group. */\n",
       "            if (buttonGroup.hasChildNodes()) {\n",
       "                toolbar.appendChild(buttonGroup);\n",
       "            }\n",
       "            buttonGroup = document.createElement('div');\n",
       "            buttonGroup.classList = 'mpl-button-group';\n",
       "            continue;\n",
       "        }\n",
       "\n",
       "        var button = (fig.buttons[name] = document.createElement('button'));\n",
       "        button.classList = 'mpl-widget';\n",
       "        button.setAttribute('role', 'button');\n",
       "        button.setAttribute('aria-disabled', 'false');\n",
       "        button.addEventListener('click', on_click_closure(method_name));\n",
       "        button.addEventListener('mouseover', on_mouseover_closure(tooltip));\n",
       "\n",
       "        var icon_img = document.createElement('img');\n",
       "        icon_img.src = '_images/' + image + '.png';\n",
       "        icon_img.srcset = '_images/' + image + '_large.png 2x';\n",
       "        icon_img.alt = tooltip;\n",
       "        button.appendChild(icon_img);\n",
       "\n",
       "        buttonGroup.appendChild(button);\n",
       "    }\n",
       "\n",
       "    if (buttonGroup.hasChildNodes()) {\n",
       "        toolbar.appendChild(buttonGroup);\n",
       "    }\n",
       "\n",
       "    var fmt_picker = document.createElement('select');\n",
       "    fmt_picker.classList = 'mpl-widget';\n",
       "    toolbar.appendChild(fmt_picker);\n",
       "    this.format_dropdown = fmt_picker;\n",
       "\n",
       "    for (var ind in mpl.extensions) {\n",
       "        var fmt = mpl.extensions[ind];\n",
       "        var option = document.createElement('option');\n",
       "        option.selected = fmt === mpl.default_extension;\n",
       "        option.innerHTML = fmt;\n",
       "        fmt_picker.appendChild(option);\n",
       "    }\n",
       "\n",
       "    var status_bar = document.createElement('span');\n",
       "    status_bar.classList = 'mpl-message';\n",
       "    toolbar.appendChild(status_bar);\n",
       "    this.message = status_bar;\n",
       "};\n",
       "\n",
       "mpl.figure.prototype.request_resize = function (x_pixels, y_pixels) {\n",
       "    // Request matplotlib to resize the figure. Matplotlib will then trigger a resize in the client,\n",
       "    // which will in turn request a refresh of the image.\n",
       "    this.send_message('resize', { width: x_pixels, height: y_pixels });\n",
       "};\n",
       "\n",
       "mpl.figure.prototype.send_message = function (type, properties) {\n",
       "    properties['type'] = type;\n",
       "    properties['figure_id'] = this.id;\n",
       "    this.ws.send(JSON.stringify(properties));\n",
       "};\n",
       "\n",
       "mpl.figure.prototype.send_draw_message = function () {\n",
       "    if (!this.waiting) {\n",
       "        this.waiting = true;\n",
       "        this.ws.send(JSON.stringify({ type: 'draw', figure_id: this.id }));\n",
       "    }\n",
       "};\n",
       "\n",
       "mpl.figure.prototype.handle_save = function (fig, _msg) {\n",
       "    var format_dropdown = fig.format_dropdown;\n",
       "    var format = format_dropdown.options[format_dropdown.selectedIndex].value;\n",
       "    fig.ondownload(fig, format);\n",
       "};\n",
       "\n",
       "mpl.figure.prototype.handle_resize = function (fig, msg) {\n",
       "    var size = msg['size'];\n",
       "    if (size[0] !== fig.canvas.width || size[1] !== fig.canvas.height) {\n",
       "        fig._resize_canvas(size[0], size[1], msg['forward']);\n",
       "        fig.send_message('refresh', {});\n",
       "    }\n",
       "};\n",
       "\n",
       "mpl.figure.prototype.handle_rubberband = function (fig, msg) {\n",
       "    var x0 = msg['x0'] / fig.ratio;\n",
       "    var y0 = (fig.canvas.height - msg['y0']) / fig.ratio;\n",
       "    var x1 = msg['x1'] / fig.ratio;\n",
       "    var y1 = (fig.canvas.height - msg['y1']) / fig.ratio;\n",
       "    x0 = Math.floor(x0) + 0.5;\n",
       "    y0 = Math.floor(y0) + 0.5;\n",
       "    x1 = Math.floor(x1) + 0.5;\n",
       "    y1 = Math.floor(y1) + 0.5;\n",
       "    var min_x = Math.min(x0, x1);\n",
       "    var min_y = Math.min(y0, y1);\n",
       "    var width = Math.abs(x1 - x0);\n",
       "    var height = Math.abs(y1 - y0);\n",
       "\n",
       "    fig.rubberband_context.clearRect(\n",
       "        0,\n",
       "        0,\n",
       "        fig.canvas.width / fig.ratio,\n",
       "        fig.canvas.height / fig.ratio\n",
       "    );\n",
       "\n",
       "    fig.rubberband_context.strokeRect(min_x, min_y, width, height);\n",
       "};\n",
       "\n",
       "mpl.figure.prototype.handle_figure_label = function (fig, msg) {\n",
       "    // Updates the figure title.\n",
       "    fig.header.textContent = msg['label'];\n",
       "};\n",
       "\n",
       "mpl.figure.prototype.handle_cursor = function (fig, msg) {\n",
       "    var cursor = msg['cursor'];\n",
       "    switch (cursor) {\n",
       "        case 0:\n",
       "            cursor = 'pointer';\n",
       "            break;\n",
       "        case 1:\n",
       "            cursor = 'default';\n",
       "            break;\n",
       "        case 2:\n",
       "            cursor = 'crosshair';\n",
       "            break;\n",
       "        case 3:\n",
       "            cursor = 'move';\n",
       "            break;\n",
       "    }\n",
       "    fig.rubberband_canvas.style.cursor = cursor;\n",
       "};\n",
       "\n",
       "mpl.figure.prototype.handle_message = function (fig, msg) {\n",
       "    fig.message.textContent = msg['message'];\n",
       "};\n",
       "\n",
       "mpl.figure.prototype.handle_draw = function (fig, _msg) {\n",
       "    // Request the server to send over a new figure.\n",
       "    fig.send_draw_message();\n",
       "};\n",
       "\n",
       "mpl.figure.prototype.handle_image_mode = function (fig, msg) {\n",
       "    fig.image_mode = msg['mode'];\n",
       "};\n",
       "\n",
       "mpl.figure.prototype.handle_history_buttons = function (fig, msg) {\n",
       "    for (var key in msg) {\n",
       "        if (!(key in fig.buttons)) {\n",
       "            continue;\n",
       "        }\n",
       "        fig.buttons[key].disabled = !msg[key];\n",
       "        fig.buttons[key].setAttribute('aria-disabled', !msg[key]);\n",
       "    }\n",
       "};\n",
       "\n",
       "mpl.figure.prototype.handle_navigate_mode = function (fig, msg) {\n",
       "    if (msg['mode'] === 'PAN') {\n",
       "        fig.buttons['Pan'].classList.add('active');\n",
       "        fig.buttons['Zoom'].classList.remove('active');\n",
       "    } else if (msg['mode'] === 'ZOOM') {\n",
       "        fig.buttons['Pan'].classList.remove('active');\n",
       "        fig.buttons['Zoom'].classList.add('active');\n",
       "    } else {\n",
       "        fig.buttons['Pan'].classList.remove('active');\n",
       "        fig.buttons['Zoom'].classList.remove('active');\n",
       "    }\n",
       "};\n",
       "\n",
       "mpl.figure.prototype.updated_canvas_event = function () {\n",
       "    // Called whenever the canvas gets updated.\n",
       "    this.send_message('ack', {});\n",
       "};\n",
       "\n",
       "// A function to construct a web socket function for onmessage handling.\n",
       "// Called in the figure constructor.\n",
       "mpl.figure.prototype._make_on_message_function = function (fig) {\n",
       "    return function socket_on_message(evt) {\n",
       "        if (evt.data instanceof Blob) {\n",
       "            var img = evt.data;\n",
       "            if (img.type !== 'image/png') {\n",
       "                /* FIXME: We get \"Resource interpreted as Image but\n",
       "                 * transferred with MIME type text/plain:\" errors on\n",
       "                 * Chrome.  But how to set the MIME type?  It doesn't seem\n",
       "                 * to be part of the websocket stream */\n",
       "                img.type = 'image/png';\n",
       "            }\n",
       "\n",
       "            /* Free the memory for the previous frames */\n",
       "            if (fig.imageObj.src) {\n",
       "                (window.URL || window.webkitURL).revokeObjectURL(\n",
       "                    fig.imageObj.src\n",
       "                );\n",
       "            }\n",
       "\n",
       "            fig.imageObj.src = (window.URL || window.webkitURL).createObjectURL(\n",
       "                img\n",
       "            );\n",
       "            fig.updated_canvas_event();\n",
       "            fig.waiting = false;\n",
       "            return;\n",
       "        } else if (\n",
       "            typeof evt.data === 'string' &&\n",
       "            evt.data.slice(0, 21) === 'data:image/png;base64'\n",
       "        ) {\n",
       "            fig.imageObj.src = evt.data;\n",
       "            fig.updated_canvas_event();\n",
       "            fig.waiting = false;\n",
       "            return;\n",
       "        }\n",
       "\n",
       "        var msg = JSON.parse(evt.data);\n",
       "        var msg_type = msg['type'];\n",
       "\n",
       "        // Call the  \"handle_{type}\" callback, which takes\n",
       "        // the figure and JSON message as its only arguments.\n",
       "        try {\n",
       "            var callback = fig['handle_' + msg_type];\n",
       "        } catch (e) {\n",
       "            console.log(\n",
       "                \"No handler for the '\" + msg_type + \"' message type: \",\n",
       "                msg\n",
       "            );\n",
       "            return;\n",
       "        }\n",
       "\n",
       "        if (callback) {\n",
       "            try {\n",
       "                // console.log(\"Handling '\" + msg_type + \"' message: \", msg);\n",
       "                callback(fig, msg);\n",
       "            } catch (e) {\n",
       "                console.log(\n",
       "                    \"Exception inside the 'handler_\" + msg_type + \"' callback:\",\n",
       "                    e,\n",
       "                    e.stack,\n",
       "                    msg\n",
       "                );\n",
       "            }\n",
       "        }\n",
       "    };\n",
       "};\n",
       "\n",
       "// from http://stackoverflow.com/questions/1114465/getting-mouse-location-in-canvas\n",
       "mpl.findpos = function (e) {\n",
       "    //this section is from http://www.quirksmode.org/js/events_properties.html\n",
       "    var targ;\n",
       "    if (!e) {\n",
       "        e = window.event;\n",
       "    }\n",
       "    if (e.target) {\n",
       "        targ = e.target;\n",
       "    } else if (e.srcElement) {\n",
       "        targ = e.srcElement;\n",
       "    }\n",
       "    if (targ.nodeType === 3) {\n",
       "        // defeat Safari bug\n",
       "        targ = targ.parentNode;\n",
       "    }\n",
       "\n",
       "    // pageX,Y are the mouse positions relative to the document\n",
       "    var boundingRect = targ.getBoundingClientRect();\n",
       "    var x = e.pageX - (boundingRect.left + document.body.scrollLeft);\n",
       "    var y = e.pageY - (boundingRect.top + document.body.scrollTop);\n",
       "\n",
       "    return { x: x, y: y };\n",
       "};\n",
       "\n",
       "/*\n",
       " * return a copy of an object with only non-object keys\n",
       " * we need this to avoid circular references\n",
       " * http://stackoverflow.com/a/24161582/3208463\n",
       " */\n",
       "function simpleKeys(original) {\n",
       "    return Object.keys(original).reduce(function (obj, key) {\n",
       "        if (typeof original[key] !== 'object') {\n",
       "            obj[key] = original[key];\n",
       "        }\n",
       "        return obj;\n",
       "    }, {});\n",
       "}\n",
       "\n",
       "mpl.figure.prototype.mouse_event = function (event, name) {\n",
       "    var canvas_pos = mpl.findpos(event);\n",
       "\n",
       "    if (name === 'button_press') {\n",
       "        this.canvas.focus();\n",
       "        this.canvas_div.focus();\n",
       "    }\n",
       "\n",
       "    var x = canvas_pos.x * this.ratio;\n",
       "    var y = canvas_pos.y * this.ratio;\n",
       "\n",
       "    this.send_message(name, {\n",
       "        x: x,\n",
       "        y: y,\n",
       "        button: event.button,\n",
       "        step: event.step,\n",
       "        guiEvent: simpleKeys(event),\n",
       "    });\n",
       "\n",
       "    /* This prevents the web browser from automatically changing to\n",
       "     * the text insertion cursor when the button is pressed.  We want\n",
       "     * to control all of the cursor setting manually through the\n",
       "     * 'cursor' event from matplotlib */\n",
       "    event.preventDefault();\n",
       "    return false;\n",
       "};\n",
       "\n",
       "mpl.figure.prototype._key_event_extra = function (_event, _name) {\n",
       "    // Handle any extra behaviour associated with a key event\n",
       "};\n",
       "\n",
       "mpl.figure.prototype.key_event = function (event, name) {\n",
       "    // Prevent repeat events\n",
       "    if (name === 'key_press') {\n",
       "        if (event.key === this._key) {\n",
       "            return;\n",
       "        } else {\n",
       "            this._key = event.key;\n",
       "        }\n",
       "    }\n",
       "    if (name === 'key_release') {\n",
       "        this._key = null;\n",
       "    }\n",
       "\n",
       "    var value = '';\n",
       "    if (event.ctrlKey && event.key !== 'Control') {\n",
       "        value += 'ctrl+';\n",
       "    }\n",
       "    else if (event.altKey && event.key !== 'Alt') {\n",
       "        value += 'alt+';\n",
       "    }\n",
       "    else if (event.shiftKey && event.key !== 'Shift') {\n",
       "        value += 'shift+';\n",
       "    }\n",
       "\n",
       "    value += 'k' + event.key;\n",
       "\n",
       "    this._key_event_extra(event, name);\n",
       "\n",
       "    this.send_message(name, { key: value, guiEvent: simpleKeys(event) });\n",
       "    return false;\n",
       "};\n",
       "\n",
       "mpl.figure.prototype.toolbar_button_onclick = function (name) {\n",
       "    if (name === 'download') {\n",
       "        this.handle_save(this, null);\n",
       "    } else {\n",
       "        this.send_message('toolbar_button', { name: name });\n",
       "    }\n",
       "};\n",
       "\n",
       "mpl.figure.prototype.toolbar_button_onmouseover = function (tooltip) {\n",
       "    this.message.textContent = tooltip;\n",
       "};\n",
       "\n",
       "///////////////// REMAINING CONTENT GENERATED BY embed_js.py /////////////////\n",
       "// prettier-ignore\n",
       "var _JSXTOOLS_RESIZE_OBSERVER=function(A){var t,i=new WeakMap,n=new WeakMap,a=new WeakMap,r=new WeakMap,o=new Set;function s(e){if(!(this instanceof s))throw new TypeError(\"Constructor requires 'new' operator\");i.set(this,e)}function h(){throw new TypeError(\"Function is not a constructor\")}function c(e,t,i,n){e=0 in arguments?Number(arguments[0]):0,t=1 in arguments?Number(arguments[1]):0,i=2 in arguments?Number(arguments[2]):0,n=3 in arguments?Number(arguments[3]):0,this.right=(this.x=this.left=e)+(this.width=i),this.bottom=(this.y=this.top=t)+(this.height=n),Object.freeze(this)}function d(){t=requestAnimationFrame(d);var s=new WeakMap,p=new Set;o.forEach((function(t){r.get(t).forEach((function(i){var r=t instanceof window.SVGElement,o=a.get(t),d=r?0:parseFloat(o.paddingTop),f=r?0:parseFloat(o.paddingRight),l=r?0:parseFloat(o.paddingBottom),u=r?0:parseFloat(o.paddingLeft),g=r?0:parseFloat(o.borderTopWidth),m=r?0:parseFloat(o.borderRightWidth),w=r?0:parseFloat(o.borderBottomWidth),b=u+f,F=d+l,v=(r?0:parseFloat(o.borderLeftWidth))+m,W=g+w,y=r?0:t.offsetHeight-W-t.clientHeight,E=r?0:t.offsetWidth-v-t.clientWidth,R=b+v,z=F+W,M=r?t.width:parseFloat(o.width)-R-E,O=r?t.height:parseFloat(o.height)-z-y;if(n.has(t)){var k=n.get(t);if(k[0]===M&&k[1]===O)return}n.set(t,[M,O]);var S=Object.create(h.prototype);S.target=t,S.contentRect=new c(u,d,M,O),s.has(i)||(s.set(i,[]),p.add(i)),s.get(i).push(S)}))})),p.forEach((function(e){i.get(e).call(e,s.get(e),e)}))}return s.prototype.observe=function(i){if(i instanceof window.Element){r.has(i)||(r.set(i,new Set),o.add(i),a.set(i,window.getComputedStyle(i)));var n=r.get(i);n.has(this)||n.add(this),cancelAnimationFrame(t),t=requestAnimationFrame(d)}},s.prototype.unobserve=function(i){if(i instanceof window.Element&&r.has(i)){var n=r.get(i);n.has(this)&&(n.delete(this),n.size||(r.delete(i),o.delete(i))),n.size||r.delete(i),o.size||cancelAnimationFrame(t)}},A.DOMRectReadOnly=c,A.ResizeObserver=s,A.ResizeObserverEntry=h,A}; // eslint-disable-line\n",
       "mpl.toolbar_items = [[\"Home\", \"Reset original view\", \"fa fa-home icon-home\", \"home\"], [\"Back\", \"Back to previous view\", \"fa fa-arrow-left icon-arrow-left\", \"back\"], [\"Forward\", \"Forward to next view\", \"fa fa-arrow-right icon-arrow-right\", \"forward\"], [\"\", \"\", \"\", \"\"], [\"Pan\", \"Left button pans, Right button zooms\\nx/y fixes axis, CTRL fixes aspect\", \"fa fa-arrows icon-move\", \"pan\"], [\"Zoom\", \"Zoom to rectangle\\nx/y fixes axis, CTRL fixes aspect\", \"fa fa-square-o icon-check-empty\", \"zoom\"], [\"\", \"\", \"\", \"\"], [\"Download\", \"Download plot\", \"fa fa-floppy-o icon-save\", \"download\"]];\n",
       "\n",
       "mpl.extensions = [\"eps\", \"jpeg\", \"pgf\", \"pdf\", \"png\", \"ps\", \"raw\", \"svg\", \"tif\"];\n",
       "\n",
       "mpl.default_extension = \"png\";/* global mpl */\n",
       "\n",
       "var comm_websocket_adapter = function (comm) {\n",
       "    // Create a \"websocket\"-like object which calls the given IPython comm\n",
       "    // object with the appropriate methods. Currently this is a non binary\n",
       "    // socket, so there is still some room for performance tuning.\n",
       "    var ws = {};\n",
       "\n",
       "    ws.binaryType = comm.kernel.ws.binaryType;\n",
       "    ws.readyState = comm.kernel.ws.readyState;\n",
       "    function updateReadyState(_event) {\n",
       "        if (comm.kernel.ws) {\n",
       "            ws.readyState = comm.kernel.ws.readyState;\n",
       "        } else {\n",
       "            ws.readyState = 3; // Closed state.\n",
       "        }\n",
       "    }\n",
       "    comm.kernel.ws.addEventListener('open', updateReadyState);\n",
       "    comm.kernel.ws.addEventListener('close', updateReadyState);\n",
       "    comm.kernel.ws.addEventListener('error', updateReadyState);\n",
       "\n",
       "    ws.close = function () {\n",
       "        comm.close();\n",
       "    };\n",
       "    ws.send = function (m) {\n",
       "        //console.log('sending', m);\n",
       "        comm.send(m);\n",
       "    };\n",
       "    // Register the callback with on_msg.\n",
       "    comm.on_msg(function (msg) {\n",
       "        //console.log('receiving', msg['content']['data'], msg);\n",
       "        var data = msg['content']['data'];\n",
       "        if (data['blob'] !== undefined) {\n",
       "            data = {\n",
       "                data: new Blob(msg['buffers'], { type: data['blob'] }),\n",
       "            };\n",
       "        }\n",
       "        // Pass the mpl event to the overridden (by mpl) onmessage function.\n",
       "        ws.onmessage(data);\n",
       "    });\n",
       "    return ws;\n",
       "};\n",
       "\n",
       "mpl.mpl_figure_comm = function (comm, msg) {\n",
       "    // This is the function which gets called when the mpl process\n",
       "    // starts-up an IPython Comm through the \"matplotlib\" channel.\n",
       "\n",
       "    var id = msg.content.data.id;\n",
       "    // Get hold of the div created by the display call when the Comm\n",
       "    // socket was opened in Python.\n",
       "    var element = document.getElementById(id);\n",
       "    var ws_proxy = comm_websocket_adapter(comm);\n",
       "\n",
       "    function ondownload(figure, _format) {\n",
       "        window.open(figure.canvas.toDataURL());\n",
       "    }\n",
       "\n",
       "    var fig = new mpl.figure(id, ws_proxy, ondownload, element);\n",
       "\n",
       "    // Call onopen now - mpl needs it, as it is assuming we've passed it a real\n",
       "    // web socket which is closed, not our websocket->open comm proxy.\n",
       "    ws_proxy.onopen();\n",
       "\n",
       "    fig.parent_element = element;\n",
       "    fig.cell_info = mpl.find_output_cell(\"<div id='\" + id + \"'></div>\");\n",
       "    if (!fig.cell_info) {\n",
       "        console.error('Failed to find cell for figure', id, fig);\n",
       "        return;\n",
       "    }\n",
       "    fig.cell_info[0].output_area.element.on(\n",
       "        'cleared',\n",
       "        { fig: fig },\n",
       "        fig._remove_fig_handler\n",
       "    );\n",
       "};\n",
       "\n",
       "mpl.figure.prototype.handle_close = function (fig, msg) {\n",
       "    var width = fig.canvas.width / fig.ratio;\n",
       "    fig.cell_info[0].output_area.element.off(\n",
       "        'cleared',\n",
       "        fig._remove_fig_handler\n",
       "    );\n",
       "    fig.resizeObserverInstance.unobserve(fig.canvas_div);\n",
       "\n",
       "    // Update the output cell to use the data from the current canvas.\n",
       "    fig.push_to_output();\n",
       "    var dataURL = fig.canvas.toDataURL();\n",
       "    // Re-enable the keyboard manager in IPython - without this line, in FF,\n",
       "    // the notebook keyboard shortcuts fail.\n",
       "    IPython.keyboard_manager.enable();\n",
       "    fig.parent_element.innerHTML =\n",
       "        '<img src=\"' + dataURL + '\" width=\"' + width + '\">';\n",
       "    fig.close_ws(fig, msg);\n",
       "};\n",
       "\n",
       "mpl.figure.prototype.close_ws = function (fig, msg) {\n",
       "    fig.send_message('closing', msg);\n",
       "    // fig.ws.close()\n",
       "};\n",
       "\n",
       "mpl.figure.prototype.push_to_output = function (_remove_interactive) {\n",
       "    // Turn the data on the canvas into data in the output cell.\n",
       "    var width = this.canvas.width / this.ratio;\n",
       "    var dataURL = this.canvas.toDataURL();\n",
       "    this.cell_info[1]['text/html'] =\n",
       "        '<img src=\"' + dataURL + '\" width=\"' + width + '\">';\n",
       "};\n",
       "\n",
       "mpl.figure.prototype.updated_canvas_event = function () {\n",
       "    // Tell IPython that the notebook contents must change.\n",
       "    IPython.notebook.set_dirty(true);\n",
       "    this.send_message('ack', {});\n",
       "    var fig = this;\n",
       "    // Wait a second, then push the new image to the DOM so\n",
       "    // that it is saved nicely (might be nice to debounce this).\n",
       "    setTimeout(function () {\n",
       "        fig.push_to_output();\n",
       "    }, 1000);\n",
       "};\n",
       "\n",
       "mpl.figure.prototype._init_toolbar = function () {\n",
       "    var fig = this;\n",
       "\n",
       "    var toolbar = document.createElement('div');\n",
       "    toolbar.classList = 'btn-toolbar';\n",
       "    this.root.appendChild(toolbar);\n",
       "\n",
       "    function on_click_closure(name) {\n",
       "        return function (_event) {\n",
       "            return fig.toolbar_button_onclick(name);\n",
       "        };\n",
       "    }\n",
       "\n",
       "    function on_mouseover_closure(tooltip) {\n",
       "        return function (event) {\n",
       "            if (!event.currentTarget.disabled) {\n",
       "                return fig.toolbar_button_onmouseover(tooltip);\n",
       "            }\n",
       "        };\n",
       "    }\n",
       "\n",
       "    fig.buttons = {};\n",
       "    var buttonGroup = document.createElement('div');\n",
       "    buttonGroup.classList = 'btn-group';\n",
       "    var button;\n",
       "    for (var toolbar_ind in mpl.toolbar_items) {\n",
       "        var name = mpl.toolbar_items[toolbar_ind][0];\n",
       "        var tooltip = mpl.toolbar_items[toolbar_ind][1];\n",
       "        var image = mpl.toolbar_items[toolbar_ind][2];\n",
       "        var method_name = mpl.toolbar_items[toolbar_ind][3];\n",
       "\n",
       "        if (!name) {\n",
       "            /* Instead of a spacer, we start a new button group. */\n",
       "            if (buttonGroup.hasChildNodes()) {\n",
       "                toolbar.appendChild(buttonGroup);\n",
       "            }\n",
       "            buttonGroup = document.createElement('div');\n",
       "            buttonGroup.classList = 'btn-group';\n",
       "            continue;\n",
       "        }\n",
       "\n",
       "        button = fig.buttons[name] = document.createElement('button');\n",
       "        button.classList = 'btn btn-default';\n",
       "        button.href = '#';\n",
       "        button.title = name;\n",
       "        button.innerHTML = '<i class=\"fa ' + image + ' fa-lg\"></i>';\n",
       "        button.addEventListener('click', on_click_closure(method_name));\n",
       "        button.addEventListener('mouseover', on_mouseover_closure(tooltip));\n",
       "        buttonGroup.appendChild(button);\n",
       "    }\n",
       "\n",
       "    if (buttonGroup.hasChildNodes()) {\n",
       "        toolbar.appendChild(buttonGroup);\n",
       "    }\n",
       "\n",
       "    // Add the status bar.\n",
       "    var status_bar = document.createElement('span');\n",
       "    status_bar.classList = 'mpl-message pull-right';\n",
       "    toolbar.appendChild(status_bar);\n",
       "    this.message = status_bar;\n",
       "\n",
       "    // Add the close button to the window.\n",
       "    var buttongrp = document.createElement('div');\n",
       "    buttongrp.classList = 'btn-group inline pull-right';\n",
       "    button = document.createElement('button');\n",
       "    button.classList = 'btn btn-mini btn-primary';\n",
       "    button.href = '#';\n",
       "    button.title = 'Stop Interaction';\n",
       "    button.innerHTML = '<i class=\"fa fa-power-off icon-remove icon-large\"></i>';\n",
       "    button.addEventListener('click', function (_evt) {\n",
       "        fig.handle_close(fig, {});\n",
       "    });\n",
       "    button.addEventListener(\n",
       "        'mouseover',\n",
       "        on_mouseover_closure('Stop Interaction')\n",
       "    );\n",
       "    buttongrp.appendChild(button);\n",
       "    var titlebar = this.root.querySelector('.ui-dialog-titlebar');\n",
       "    titlebar.insertBefore(buttongrp, titlebar.firstChild);\n",
       "};\n",
       "\n",
       "mpl.figure.prototype._remove_fig_handler = function (event) {\n",
       "    var fig = event.data.fig;\n",
       "    if (event.target !== this) {\n",
       "        // Ignore bubbled events from children.\n",
       "        return;\n",
       "    }\n",
       "    fig.close_ws(fig, {});\n",
       "};\n",
       "\n",
       "mpl.figure.prototype._root_extra_style = function (el) {\n",
       "    el.style.boxSizing = 'content-box'; // override notebook setting of border-box.\n",
       "};\n",
       "\n",
       "mpl.figure.prototype._canvas_extra_style = function (el) {\n",
       "    // this is important to make the div 'focusable\n",
       "    el.setAttribute('tabindex', 0);\n",
       "    // reach out to IPython and tell the keyboard manager to turn it's self\n",
       "    // off when our div gets focus\n",
       "\n",
       "    // location in version 3\n",
       "    if (IPython.notebook.keyboard_manager) {\n",
       "        IPython.notebook.keyboard_manager.register_events(el);\n",
       "    } else {\n",
       "        // location in version 2\n",
       "        IPython.keyboard_manager.register_events(el);\n",
       "    }\n",
       "};\n",
       "\n",
       "mpl.figure.prototype._key_event_extra = function (event, _name) {\n",
       "    var manager = IPython.notebook.keyboard_manager;\n",
       "    if (!manager) {\n",
       "        manager = IPython.keyboard_manager;\n",
       "    }\n",
       "\n",
       "    // Check for shift+enter\n",
       "    if (event.shiftKey && event.which === 13) {\n",
       "        this.canvas_div.blur();\n",
       "        // select the cell after this one\n",
       "        var index = IPython.notebook.find_cell_index(this.cell_info[0]);\n",
       "        IPython.notebook.select(index + 1);\n",
       "    }\n",
       "};\n",
       "\n",
       "mpl.figure.prototype.handle_save = function (fig, _msg) {\n",
       "    fig.ondownload(fig, null);\n",
       "};\n",
       "\n",
       "mpl.find_output_cell = function (html_output) {\n",
       "    // Return the cell and output element which can be found *uniquely* in the notebook.\n",
       "    // Note - this is a bit hacky, but it is done because the \"notebook_saving.Notebook\"\n",
       "    // IPython event is triggered only after the cells have been serialised, which for\n",
       "    // our purposes (turning an active figure into a static one), is too late.\n",
       "    var cells = IPython.notebook.get_cells();\n",
       "    var ncells = cells.length;\n",
       "    for (var i = 0; i < ncells; i++) {\n",
       "        var cell = cells[i];\n",
       "        if (cell.cell_type === 'code') {\n",
       "            for (var j = 0; j < cell.output_area.outputs.length; j++) {\n",
       "                var data = cell.output_area.outputs[j];\n",
       "                if (data.data) {\n",
       "                    // IPython >= 3 moved mimebundle to data attribute of output\n",
       "                    data = data.data;\n",
       "                }\n",
       "                if (data['text/html'] === html_output) {\n",
       "                    return [cell, data, j];\n",
       "                }\n",
       "            }\n",
       "        }\n",
       "    }\n",
       "};\n",
       "\n",
       "// Register the function which deals with the matplotlib target/channel.\n",
       "// The kernel may be null if the page has been refreshed.\n",
       "if (IPython.notebook.kernel !== null) {\n",
       "    IPython.notebook.kernel.comm_manager.register_target(\n",
       "        'matplotlib',\n",
       "        mpl.mpl_figure_comm\n",
       "    );\n",
       "}\n"
      ],
      "text/plain": [
       "<IPython.core.display.Javascript object>"
      ]
     },
     "metadata": {},
     "output_type": "display_data"
    },
    {
     "data": {
      "text/html": [
       "<img src=\"data:image/png;base64,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\" width=\"504\">"
      ],
      "text/plain": [
       "<IPython.core.display.HTML object>"
      ]
     },
     "metadata": {},
     "output_type": "display_data"
    }
   ],
   "source": [
    "%matplotlib notebook\n",
    "figcv = plt.figure(figsize=(7, 4))\n",
    "gs = gridspec.GridSpec(4, 4, figure=figcv)\n",
    "axfrz_stat = figcv.add_subplot(gs[0,0])\n",
    "axfrz_plot = figcv.add_subplot(gs[1,0])\n",
    "axall_stat = figcv.add_subplot(gs[0,2])\n",
    "axall_plot = figcv.add_subplot(gs[1,2])"
   ]
  },
  {
   "cell_type": "code",
   "execution_count": 50,
   "id": "c9fad41d",
   "metadata": {
    "scrolled": false
   },
   "outputs": [
    {
     "data": {
      "image/png": "[encoded data removed]",
      "text/plain": [
       "<Figure size 864x288 with 2 Axes>"
      ]
     },
     "metadata": {
      "needs_background": "light"
     },
     "output_type": "display_data"
    }
   ],
   "source": [
    "%matplotlib inline\n",
    "fig, ax = plt.subplots(1, 2, figsize=(12, 4))\n",
    "for ida, (ap, astat, f) in enumerate(zip([axfrz_plot, ax[0]], [axfrz_stat, ax[1]], [figcv, fig])):\n",
    "    if ida == 0:\n",
    "        sns.set_context(\"paper\", font_scale=2)\n",
    "    else:\n",
    "        sns.set_context(\"notebook\")\n",
    "    gfg = sns.stripplot(x=\"Designation\", y=\"cov_z_mean\", hue=\"Group\", size=1.25,\n",
    "                  data=sigz_freeze_df[~(sigz_freeze_df['Designation'] == '')], dodge=True, ax=ap)\n",
    "    gfg.legend(fontsize=6, markerscale=0.15)\n",
    "    ap.set_title('Freeze Cell Covariance', fontsize=8)\n",
    "    ap.set_ylabel(r'$\\mathregular{\\overline{Z}}$', fontsize=8)\n",
    "    ap.set_xlabel('', fontsize=8)\n",
    "    ap.tick_params(axis='both', which='major', labelsize=8, grid_linewidth=1)\n",
    "    plt.setp(ap.spines.values(), linewidth=1)\n",
    "    sns.despine(ax=ap)\n",
    "    stats_before_after(sigz_freeze_df, 'cov_z_mean', ax=astat, fontsize=6)\n",
    "    sns.despine(ax=astat, bottom=True, left=True)\n",
    "    astat.tick_params(axis='both', left=False, bottom=False, labelleft=False, labelbottom=False)\n",
    "fig.savefig(print_dir + \"/cov_before_after_freeze_cells.pdf\")"
   ]
  },
  {
   "cell_type": "markdown",
   "id": "32e11d08",
   "metadata": {},
   "source": [
    "Plot #2: Same as #1 but for all cells"
   ]
  },
  {
   "cell_type": "code",
   "execution_count": 11,
   "id": "cc204573",
   "metadata": {},
   "outputs": [],
   "source": [
    "allz_df = cova.cov_dict_to_df(all_cov, baseline_dict_use=all_cov, include_silent=True)\n",
    "allz_df = add_memory_designations(allz_df)"
   ]
  },
  {
   "cell_type": "code",
   "execution_count": 12,
   "id": "62ac22d9",
   "metadata": {
    "scrolled": true
   },
   "outputs": [
    {
     "name": "stdout",
     "output_type": "stream",
     "text": [
      "   d1_d2 Designation Group  cov_z_mean\n",
      "0  -2_-1      Before  Ctrl   -0.005070\n",
      "1   -1_4      Before  Ctrl    0.006094\n",
      "2    4_1         4hr  Ctrl    0.020956\n",
      "   d1_d2 Group  cov_z_mean\n",
      "0  -2_-1  Ctrl   -0.005070\n",
      "1   -1_4  Ctrl    0.006094\n",
      "2    4_1  Ctrl    0.020956\n",
      "   d1_d2 Designation Group  cov_z_mean\n",
      "0  -2_-1      Before  Ctrl   -0.005070\n",
      "1   -1_4      Before  Ctrl    0.006094\n",
      "2    4_1         4hr  Ctrl    0.020956\n"
     ]
    }
   ],
   "source": [
    "allz_df_copy = deepcopy(allz_df)\n",
    "allz_df_copy.drop(['Designation'], axis=1, inplace=True)\n",
    "print(allz_df.head(3))\n",
    "print(allz_df_copy.head(3))\n",
    "print(add_memory_designations(allz_df_copy).head(3))"
   ]
  },
  {
   "cell_type": "code",
   "execution_count": 13,
   "id": "aeef4cd7",
   "metadata": {
    "scrolled": true
   },
   "outputs": [
    {
     "data": {
      "image/png": "[encoded data removed]",
      "text/plain": [
       "<Figure size 1080x180 with 5 Axes>"
      ]
     },
     "metadata": {
      "needs_background": "light"
     },
     "output_type": "display_data"
    }
   ],
   "source": [
    "sigz_df = allz_df\n",
    "\n",
    "pairs_plot = ['-2_-1', '-1_4', '4_1', '1_2', '2_7']\n",
    "fig, ax = plt.subplots(1, len(pairs_plot), figsize=(3*len(pairs_plot), 2.5))\n",
    "for a, d1_d2 in zip(ax, pairs_plot):\n",
    "    sns.stripplot(x='Group', y='cov_z_mean', data=sigz_df[sigz_df['d1_d2'] == d1_d2], ax=a)\n",
    "    sns.despine(ax=a)\n",
    "    a.set_title(d1_d2.split('_')[0])\n",
    "    df_use = sigz_df[sigz_df['d1_d2'] == d1_d2]\n",
    "    stat, pval = stats.ttest_ind(df_use[df_use['Group'] == 'Ctrl']['cov_z_mean'], \n",
    "                                 df_use[df_use['Group'] == 'ANI']['cov_z_mean'])\n",
    "    \n",
    "    a.text(0, 0.3, f'p_t = {pval:.3g}')\n",
    "    \n",
    "erp.match_max_lims(ax, axis='y')"
   ]
  },
  {
   "cell_type": "code",
   "execution_count": null,
   "id": "4971ef43",
   "metadata": {},
   "outputs": [],
   "source": [
    "from copy import deepcopy\n",
    "smallfigParams = deepcopy(plt.rcParams)\n",
    "plotfontsize = 8.0\n",
    "smallfigParams['axes.labelsize'] = plotfontsize\n",
    "smallfigParams['axes.linewidth'] = 1.0\n",
    "smallfigParams['axes.titlesize'] = plotfontsize\n",
    "smallfigParams['font.size'] = plotfontsize\n",
    "smallfigParams['legend.fontsize'] = 6\n",
    "smallfigParams['legend.markerscale'] = 0.25\n",
    "smallfigParams['xtick.labelsize'] = plotfontsize\n",
    "smallfigParams['xtick.major.width'] = 1.0\n",
    "smallfigParams['xtick.major.width'] = 1.0\n",
    "smallfigParams['ytick.labelsize'] = plotfontsize\n",
    "smallfigParams['ytick.major.width'] = 1.0\n",
    "smallfigParams['ytick.major.width'] = 1.0"
   ]
  },
  {
   "cell_type": "code",
   "execution_count": null,
   "id": "ab2c70e7",
   "metadata": {},
   "outputs": [],
   "source": [
    "import matplotlib.pyplot as plt"
   ]
  },
  {
   "cell_type": "code",
   "execution_count": null,
   "id": "d3d71e21",
   "metadata": {},
   "outputs": [],
   "source": [
    "import matplotlib as mpl\n",
    "fig1, ax1 = plt.subplots(1, 2)\n",
    "\n",
    "plt.rcParams = smallfigParams\n",
    "ax1[0].plot([0, 1])\n",
    "ax1[0].set_xlabel('test small')\n",
    "plt.rcdefaults\n",
    "\n",
    "ax1[1].plot([1, 0])\n",
    "ax1[1].set_xlabel('test normal')"
   ]
  },
  {
   "cell_type": "code",
   "execution_count": null,
   "id": "3c3dcdc1",
   "metadata": {},
   "outputs": [],
   "source": [
    "plt.rcParams"
   ]
  },
  {
   "cell_type": "code",
   "execution_count": 51,
   "id": "f13f881b",
   "metadata": {
    "scrolled": false
   },
   "outputs": [
    {
     "data": {
      "image/png": "[encoded data removed]",
      "text/plain": [
       "<Figure size 864x288 with 2 Axes>"
      ]
     },
     "metadata": {
      "needs_background": "light"
     },
     "output_type": "display_data"
    }
   ],
   "source": [
    "fig, ax = plt.subplots(1,2, figsize=(12, 4))\n",
    "for ap, astat, f in zip([axall_plot, ax[0]], [axall_stat, ax[1]], [figcv, fig]):\n",
    "    gfg = sns.stripplot(x=\"Designation\", y=\"cov_z_mean\", hue=\"Group\", size=1.25,\n",
    "                  data=allz_df[~(allz_df['Designation'] == '')], dodge=True, ax=ap)\n",
    "    gfg.legend(fontsize=6, markerscale=0.15)\n",
    "    ap.set_title('All Cell Covariance', fontsize=8)\n",
    "    ap.set_ylabel(r'$\\mathregular{\\overline{Z}}$', fontsize=8)\n",
    "    ap.set_xlabel('', fontsize=8)\n",
    "    ap.tick_params(axis='both', which='major', labelsize=8, grid_linewidth=1)\n",
    "    plt.setp(ap.spines.values(), linewidth=1)\n",
    "    sns.despine(ax=ap)\n",
    "    stats_before_after(allz_df, \"cov_z_mean\", astat, fontsize=8)\n",
    "    sns.despine(ax=astat, bottom=True, left=True)\n",
    "    astat.tick_params(axis='both', left=False, bottom=False, labelleft=False, labelbottom=False)\n",
    "fig.savefig(print_dir + \"/cov_before_after_all_cells.pdf\")"
   ]
  },
  {
   "cell_type": "code",
   "execution_count": 55,
   "id": "5311e376",
   "metadata": {},
   "outputs": [],
   "source": [
    "# NRK - add in ticks and ticklabels manually.\n",
    "# Next, figure out if you are either setting things manually or using a params file to make plotting easier and\n",
    "# avoid having to set font sizes separately for each plot!"
   ]
  },
  {
   "cell_type": "code",
   "execution_count": 52,
   "id": "4cc9e2f4",
   "metadata": {},
   "outputs": [],
   "source": [
    "# Save to manuscript figure\n",
    "figcv.savefig(print_dir + \"/cov_frz_all_combined_resize.pdf\")"
   ]
  },
  {
   "cell_type": "markdown",
   "id": "d9a6a463",
   "metadata": {},
   "source": [
    "Plot #3: Same as #1 and #2 but for all cells on 4 hr session which have covariance > 2std above mean.  This one might be messy due to lots of cell turnover in ANI mice."
   ]
  },
  {
   "cell_type": "code",
   "execution_count": null,
   "id": "49e3de32",
   "metadata": {
    "scrolled": false
   },
   "outputs": [],
   "source": [
    "sig4_cov_dict = cova.group_sig_cov_across_days(bin_size=bin_size, arena1='Shock',\n",
    "                                              arena2='Shock', base_days=[4, 4, 4, 4, 4],\n",
    "                                              reg_days=[-2, -1, 4, 1, 2], thresh=2,\n",
    "                                              keep_silent=False)"
   ]
  },
  {
   "cell_type": "code",
   "execution_count": null,
   "id": "d0109964",
   "metadata": {},
   "outputs": [],
   "source": [
    "# Clean up and reshape dataframe\n",
    "sig4_dfreg = cova.cov_dict_to_df(sig4_cov_dict, all_cov, register=True)\n",
    "sig4_dfreg = add_memory_designations(sig4_dfreg, before=['4_-2', '4_-1'], during='4_4', after=['4_1', '4_2'])"
   ]
  },
  {
   "cell_type": "code",
   "execution_count": null,
   "id": "809cdc65",
   "metadata": {},
   "outputs": [],
   "source": [
    "fig, ax = plt.subplots(1,2, figsize=(12, 4))\n",
    "sns.swarmplot(x=\"Designation\", y=\"cov_z_mean\", hue=\"Group\", data=sig4_dfreg, dodge=True, ax=ax[0])\n",
    "ax[0].set_title('4hr sig cells')\n",
    "sns.despine(fig=fig)\n",
    "stats_before_after(sig4_dfreg, 'cov_z_mean', ax[1])\n",
    "fig.savefig(print_dir + \"/cov_before_after_sig4_cells_registered_across_days.pdf\")"
   ]
  },
  {
   "cell_type": "markdown",
   "id": "ce5e8ab7",
   "metadata": {},
   "source": [
    "Plot #4: ID freeze cells on 4 hr session and track covariance forward/backward across whole experiment.  Include silent cells in code, but plot two ways: 1) turnover in freeze cell population between sessions, and 2) change in covariance from 4 hr session forward/backward in time.  "
   ]
  },
  {
   "cell_type": "code",
   "execution_count": null,
   "id": "6c3e15d7",
   "metadata": {},
   "outputs": [],
   "source": [
    "freeze_4hr_reg = cova.group_cov_across_days(bin_size=bin_size, arena1='Shock', arena2='Shock',\n",
    "                                            neurons='freeze_onset', keep_silent=True,\n",
    "                                            base_days=[4, 4, 4, 4, 4], reg_days=[-2, -1, 4, 1, 2])"
   ]
  },
  {
   "cell_type": "code",
   "execution_count": null,
   "id": "a8a1e812",
   "metadata": {},
   "outputs": [],
   "source": [
    "# Clean up and reshape dataframe\n",
    "sig4frz_dfreg = cova.cov_dict_to_df(freeze_4hr_reg, all_cov, register=True)\n",
    "sig4frz_dfreg = add_memory_designations(sig4frz_dfreg, before=['4_-2', '4_-1'], during=['4_4'], after=['4_1', '4_2'])"
   ]
  },
  {
   "cell_type": "markdown",
   "id": "84977579",
   "metadata": {},
   "source": [
    "### Now construct another set of plots tracking freeze cells from 4hr or 1 day session across days"
   ]
  },
  {
   "cell_type": "code",
   "execution_count": null,
   "id": "e2c9ff92",
   "metadata": {},
   "outputs": [],
   "source": [
    "figfrzreg = plt.figure(figsize=(12, 8))\n",
    "gs = gridspec.GridSpec(2, 2, figure=figfrzreg)\n",
    "ax4stat = figfrzreg.add_subplot(gs[0, 0])\n",
    "ax4plot = figfrzreg.add_subplot(gs[1, 0])\n",
    "ax1stat = figfrzreg.add_subplot(gs[0, 1])\n",
    "ax1plot = figfrzreg.add_subplot(gs[1, 1])"
   ]
  },
  {
   "cell_type": "code",
   "execution_count": null,
   "id": "9b244271",
   "metadata": {
    "scrolled": false
   },
   "outputs": [],
   "source": [
    "fig, ax = plt.subplots(1,2, figsize=(12, 4))\n",
    "for ap, astat, f in zip([ax4plot, ax[0]], [ax4stat, ax[1]], [figfrzreg, fig]):\n",
    "    sns.swarmplot(x=\"Designation\", y=\"cov_z_mean\", hue=\"Group\", data=sig4frz_dfreg, dodge=True, ax=ap)\n",
    "    ap.set_title('4 hr freeze cells reg across days')\n",
    "    ap.set_xlabel('')\n",
    "    ap.set_ylabel(r'$\\overline{Z}$')\n",
    "    sns.despine(fig=f)\n",
    "    stats_before_after(sig4frz_dfreg, 'cov_z_mean', astat)\n",
    "# fig.savefig(print_dir + \"/cov_before_after_sig1_cells_registered_across_days.pdf\")"
   ]
  },
  {
   "cell_type": "markdown",
   "id": "4d372532",
   "metadata": {},
   "source": [
    "Plot #4b: ID freeze cells on 1 day session and track covariance forward/backward across whole experiment.  Include silent cells in code, but plot two ways: 1) turnover in freeze cell population between sessions, and 2) change in covariance from 4 hr session forward/backward in time.  "
   ]
  },
  {
   "cell_type": "markdown",
   "id": "ef160920",
   "metadata": {},
   "source": [
    "Plot #5: Same as #4 but do control plot (ID cells on day -1) and plot of consolidated cells (ID cells on day 1)."
   ]
  },
  {
   "cell_type": "code",
   "execution_count": null,
   "id": "a9911fcf",
   "metadata": {
    "scrolled": true
   },
   "outputs": [],
   "source": [
    "sig1_cov_dict = cova.group_sig_cov_across_days(bin_size=bin_size, arena1='Shock',\n",
    "                                              arena2='Shock', base_days=[1, 1, 1, 1, 1],\n",
    "                                              reg_days=[-2, -1, 4, 1, 2], thresh=2,\n",
    "                                              keep_silent=False)"
   ]
  },
  {
   "cell_type": "markdown",
   "id": "7289c611",
   "metadata": {},
   "source": [
    "## NRK - look at actual dictionary you created - how many cells? Make sure it isn't just carried by one to two cells that actually register"
   ]
  },
  {
   "cell_type": "code",
   "execution_count": null,
   "id": "6844ae14",
   "metadata": {},
   "outputs": [],
   "source": [
    "# Clean up and reshape dataframe\n",
    "sig1_dfreg = cova.cov_dict_to_df(sig1_cov_dict, all_cov, register=True)\n",
    "sig1_dfreg = add_memory_designations(sig1_dfreg, before=['1_-2', '1_-1'], during=['1_4'], after=['1_2'])"
   ]
  },
  {
   "cell_type": "code",
   "execution_count": null,
   "id": "42535f6b",
   "metadata": {
    "scrolled": true
   },
   "outputs": [],
   "source": [
    "fig, ax = plt.subplots(1,2, figsize=(12, 4))\n",
    "sns.swarmplot(x=\"Designation\", y=\"cov_z_mean\", hue=\"Group\", data=sig1_dfreg, dodge=True, ax=ax[0])\n",
    "ax[0].set_title('1 day sig cells')\n",
    "sns.despine(fig=fig)\n",
    "stats_before_after(sig1_dfreg, 'cov_z_mean', ax[1])\n",
    "# fig.savefig(print_dir + \"/cov_before_after_sig1_cells_registered_across_days.pdf\")"
   ]
  },
  {
   "cell_type": "markdown",
   "id": "b5baf9f7",
   "metadata": {},
   "source": [
    "Plot #6: More for ANI turnover plots, but plot turnover from day -2 to day -1 for ANI vs Ctrls and compare to day -1 to day 7 - hypothesis is that ANI induces some sort of change in the cells active during later time points, and day -1 to day 7 is the first point at which we see no suppression of activity by ANI."
   ]
  },
  {
   "cell_type": "code",
   "execution_count": null,
   "id": "daa72bd8",
   "metadata": {
    "scrolled": false
   },
   "outputs": [],
   "source": [
    "sig1frz_cov_dict = cova.group_cov_across_days(bin_size=bin_size, arena1='Shock', neurons='freeze_onset',\n",
    "                                              arena2='Shock', base_days=[1, 1, 1, 1, 1],\n",
    "                                              reg_days=[-2, -1, 4, 1, 2], keep_silent=False)\n",
    "sig2frz_cov_dict = cova.group_cov_across_days(bin_size=bin_size, arena1='Shock', neurons='freeze_onset',\n",
    "                                              arena2='Shock', base_days=[2, 2, 2, 2, 2],\n",
    "                                              reg_days=[-2, -1, 4, 1, 2], keep_silent=False)\n",
    "# Not sure how to interpret keeping silent cells in with across-day registration...\n",
    "# sig1frz_cov_dict_wsilent = cova.group_cov_across_days(bin_size=bin_size, arena1='Shock', neurons='freeze_onset',\n",
    "#                                               arena2='Shock', base_days=[1, 1, 1, 1, 1],\n",
    "#                                               reg_days=[-2, -1, 4, 1, 2], keep_silent=True)"
   ]
  },
  {
   "cell_type": "code",
   "execution_count": null,
   "id": "e7e42716",
   "metadata": {},
   "outputs": [],
   "source": [
    "# Clean up and reshape dataframe\n",
    "sig1frz_dfreg = cova.cov_dict_to_df(sig1frz_cov_dict, all_cov, register=True)\n",
    "sig1frz_dfreg = add_memory_designations(sig1frz_dfreg, before=['1_-2', '1_-1'], during=['1_4'], after=['1_1', '1_2'])\n",
    "\n",
    "sig2frz_dfreg = cova.cov_dict_to_df(sig2frz_cov_dict, all_cov, register=True)\n",
    "sig2frz_dfreg = add_memory_designations(sig2frz_dfreg, before=['2_-2', '2_-1'], during=['2_4'], after=['2_1', '2_2'])"
   ]
  },
  {
   "cell_type": "code",
   "execution_count": null,
   "id": "a4cbe8ed",
   "metadata": {},
   "outputs": [],
   "source": [
    "sigz_df = sig1frz_dfreg\n",
    "\n",
    "pairs_plot = ['1_-2','1_-1', '1_4', '1_1', '1_2']\n",
    "fig, ax = plt.subplots(1, len(pairs_plot), figsize=(3*len(pairs_plot), 2.5))\n",
    "for a, d1_d2 in zip(ax, pairs_plot):\n",
    "    sns.stripplot(x='Group', y='cov_z_mean', data=sigz_df[sigz_df['d1_d2'] == d1_d2], ax=a)\n",
    "    sns.despine(ax=a)\n",
    "    a.set_title(d1_d2.split('_')[1])\n",
    "    df_use = sigz_df[sigz_df['d1_d2'] == d1_d2]\n",
    "    stat, pval = stats.ttest_ind(df_use[df_use['Group'] == 'Ctrl']['cov_z_mean'], \n",
    "                                 df_use[df_use['Group'] == 'ANI']['cov_z_mean'])\n",
    "    \n",
    "    a.text(0, -0.3, f'p_t = {pval:.3g}')\n",
    "    \n",
    "erp.match_max_lims(ax, axis='y')"
   ]
  },
  {
   "cell_type": "code",
   "execution_count": null,
   "id": "de49c934",
   "metadata": {
    "scrolled": false
   },
   "outputs": [],
   "source": [
    "fig, ax = plt.subplots(1,2, figsize=(12, 4))\n",
    "for ap, astat, f in zip([ax1plot, ax[0]], [ax1stat, ax[1]], [figfrzreg, fig]):\n",
    "    sns.swarmplot(x=\"Designation\", y=\"cov_z_mean\", hue=\"Group\", data=sig1frz_dfreg, dodge=True, ax=ap)\n",
    "    ap.set_title('1 day frz cells - Tracked across sessions')\n",
    "    ap.set_xlabel('')\n",
    "    ap.set_ylabel(r'$\\overline{Z}$')\n",
    "    sns.despine(fig=f)\n",
    "    stats_before_after(sig1frz_dfreg, 'cov_z_mean', astat)"
   ]
  },
  {
   "cell_type": "code",
   "execution_count": null,
   "id": "e3cb5774",
   "metadata": {},
   "outputs": [],
   "source": [
    "# Save to manuscript figure - supplemental?\n",
    "figfrzreg.savefig(print_dir + '/cov_frz_1and4_reg.pdf')"
   ]
  },
  {
   "cell_type": "code",
   "execution_count": null,
   "id": "39b25bb3",
   "metadata": {
    "scrolled": true
   },
   "outputs": [],
   "source": [
    "sigz_df = sig2frz_dfreg\n",
    "\n",
    "pairs_plot = ['2_-2','2_-1', '2_4', '2_1', '2_2']\n",
    "fig, ax = plt.subplots(1, len(pairs_plot), figsize=(3*len(pairs_plot), 2.5))\n",
    "for a, d1_d2 in zip(ax, pairs_plot):\n",
    "    sns.stripplot(x='Group', y='cov_z_mean', data=sigz_df[sigz_df['d1_d2'] == d1_d2], ax=a)\n",
    "    sns.despine(ax=a)\n",
    "    a.set_title(d1_d2.split('_')[1])\n",
    "    df_use = sigz_df[sigz_df['d1_d2'] == d1_d2]\n",
    "    stat, pval = stats.ttest_ind(df_use[df_use['Group'] == 'Ctrl']['cov_z_mean'], \n",
    "                                 df_use[df_use['Group'] == 'ANI']['cov_z_mean'], nan_policy='omit')\n",
    "    \n",
    "    a.text(0, -0.3, f'p_t = {pval:.3g}')\n",
    "    \n",
    "erp.match_max_lims(ax, axis='y')"
   ]
  },
  {
   "cell_type": "code",
   "execution_count": null,
   "id": "d6e3910a",
   "metadata": {
    "scrolled": true
   },
   "outputs": [],
   "source": [
    "fig, ax = plt.subplots(1,2, figsize=(12, 4))\n",
    "sns.swarmplot(x=\"Designation\", y=\"cov_z_mean\", hue=\"Group\", data=sig2frz_dfreg, dodge=True, ax=ax[0])\n",
    "ax[0].set_title('2 day frz cells - Tracked across sessions')\n",
    "sns.despine(fig=fig)\n",
    "stats_before_after(sig2frz_dfreg, 'cov_z_mean', ax[1])"
   ]
  }
 ],
 "metadata": {
  "kernelspec": {
   "display_name": "Python 3 (ipykernel)",
   "language": "python",
   "name": "python3"
  },
  "language_info": {
   "codemirror_mode": {
    "name": "ipython",
    "version": 3
   },
   "file_extension": ".py",
   "mimetype": "text/x-python",
   "name": "python",
   "nbconvert_exporter": "python",
   "pygments_lexer": "ipython3",
   "version": "3.9.5"
  }
 },
 "nbformat": 4,
 "nbformat_minor": 5
}
