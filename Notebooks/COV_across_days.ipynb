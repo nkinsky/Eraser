{
 "cells": [
  {
   "cell_type": "markdown",
   "id": "a3edeabc",
   "metadata": {},
   "source": [
    "This notebook does two things: 1) tracks the co-firing of cells as it increases/decreases on each day, and 2) tests whether day 4 (learning-related) increases in syncrony persist with the same cell pairs between controls and ANI mice."
   ]
  },
  {
   "cell_type": "code",
   "execution_count": null,
   "id": "06a7bb69",
   "metadata": {},
   "outputs": [],
   "source": [
    "# Import useful modules\n",
    "import numpy as np\n",
    "import seaborn as sns\n",
    "import matplotlib.pyplot as plt\n",
    "import scipy.stats as stats\n",
    "import matplotlib.gridspec as gridspec\n",
    "import pandas as pd\n",
    "from tqdm import tqdm\n",
    "\n",
    "# Import project specific modules and enable automatic reloading\n",
    "import sys\n",
    "from pathlib import Path\n",
    "import os\n",
    "eraser_path = Path(os.getcwd()).parent\n",
    "reinstatement_path = eraser_path.parent / 'FearReinstatement'\n",
    "sys.path.append(str(eraser_path))\n",
    "sys.path.append(str(reinstatement_path))\n",
    "%load_ext autoreload\n",
    "%autoreload 2\n",
    "\n",
    "from session_directory import find_eraser_directory as get_dir\n",
    "import er_plot_functions as erp\n",
    "import Placefields as pf\n",
    "import freezing_analysis as fa\n",
    "import helpers \n",
    "import eraser_reference as err\n",
    "\n",
    "# Project save directory here\n",
    "print_dir = '/Users/nkinsky/Documents/BU/Working/Eraser/plots'\n",
    "save_dir = '/Users/nkinsky/Documents/BU/Working/Eraser'"
   ]
  },
  {
   "cell_type": "code",
   "execution_count": null,
   "id": "dde7d810",
   "metadata": {},
   "outputs": [],
   "source": [
    "# Helper functions to block printing output\n",
    "import sys, os\n",
    "\n",
    "# Disable\n",
    "def blockPrint():\n",
    "    sys.stdout = open(os.devnull, 'w')\n",
    "\n",
    "# Restore\n",
    "def enablePrint():\n",
    "    sys.stdout = sys.__stdout__\n"
   ]
  },
  {
   "cell_type": "markdown",
   "id": "f275701a",
   "metadata": {},
   "source": [
    "Plot #1: Freeze cell covariance before (day -1 and -2), 4 hr, and after (day 1 and 2), all normalized to day -2.  "
   ]
  },
  {
   "cell_type": "markdown",
   "id": "db158ebc",
   "metadata": {},
   "source": [
    "Plot #2: Same as #1 but for all cells"
   ]
  },
  {
   "cell_type": "markdown",
   "id": "37a3d90c",
   "metadata": {},
   "source": [
    "Plot #3: Same as #1 and #2 but for all cells on 4 hr session which have covariance > 2std above mean.  This one might be messy due to lots of cell turnover in ANI mice."
   ]
  },
  {
   "cell_type": "markdown",
   "id": "d9891608",
   "metadata": {},
   "source": [
    "Plot #4: ID freeze cells on 4 hr session and track covariance forward/backward across whole experiment.  Include silent cells in code, but plot two ways: 1) turnover in freeze cell population between sessions, and 2) change in covariance from 4 hr session forward/backward in time.  "
   ]
  },
  {
   "cell_type": "markdown",
   "id": "b2b1083b",
   "metadata": {},
   "source": [
    "Plot #5: Same as #4 but do control plot (ID cells on day -1) and plot of consolidated cells (ID cells on day 1)."
   ]
  }
 ],
 "metadata": {
  "kernelspec": {
   "display_name": "Python 3 (ipykernel)",
   "language": "python",
   "name": "python3"
  },
  "language_info": {
   "codemirror_mode": {
    "name": "ipython",
    "version": 3
   },
   "file_extension": ".py",
   "mimetype": "text/x-python",
   "name": "python",
   "nbconvert_exporter": "python",
   "pygments_lexer": "ipython3",
   "version": "3.9.5"
  }
 },
 "nbformat": 4,
 "nbformat_minor": 5
}
