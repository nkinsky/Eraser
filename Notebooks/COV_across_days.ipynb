{
 "cells": [
  {
   "cell_type": "markdown",
   "id": "91d8a358",
   "metadata": {},
   "source": [
    "This notebook does two things: 1) tracks the co-firing of cells as it increases/decreases on each day, and 2) tests whether day 4 (learning-related) increases in syncrony persist with the same cell pairs between controls and ANI mice."
   ]
  },
  {
   "cell_type": "markdown",
   "id": "b7a9abaf",
   "metadata": {},
   "source": [
    "## NRK todo: remake all analyses not tracking cells across days with d1_d2 as same day, e.g. '4_4'.  The clarity will make life easier in future!\n",
    "\n",
    "#2 - Figure out plots to add to final figure, layout with gridspec (put stats off to side), and plot with appropriate font size, lineweights, etc. so that you don't have to mess with them at all in illustrator afterward.\n",
    "\n",
    "#3 - Same thing as #2 but for supplemental figures, e.g. tracking cells across days for control days (e.g. day -1 freeze cells, day -1 cells with high covariance)."
   ]
  },
  {
   "cell_type": "code",
   "execution_count": 1,
   "id": "456dc2d9",
   "metadata": {},
   "outputs": [],
   "source": [
    "# Import useful modules\n",
    "import numpy as np\n",
    "import seaborn as sns\n",
    "import matplotlib.pyplot as plt\n",
    "import scipy.stats as stats\n",
    "import matplotlib.gridspec as gridspec\n",
    "import pandas as pd\n",
    "from tqdm import tqdm\n",
    "\n",
    "# Import project specific modules and enable automatic reloading\n",
    "import sys\n",
    "from pathlib import Path\n",
    "import os\n",
    "eraser_path = Path(os.getcwd()).parent\n",
    "reinstatement_path = eraser_path.parent / 'FearReinstatement'\n",
    "sys.path.append(str(eraser_path))\n",
    "sys.path.append(str(reinstatement_path))\n",
    "%load_ext autoreload\n",
    "%autoreload 2\n",
    "\n",
    "from session_directory import find_eraser_directory as get_dir\n",
    "import er_plot_functions as erp\n",
    "import Placefields as pf\n",
    "import freezing_analysis as fa\n",
    "import helpers \n",
    "import eraser_reference as err\n",
    "import covariance_analysis as cova\n",
    "\n",
    "# Project save directory here\n",
    "print_dir = '/Users/nkinsky/Documents/BU/Working/Eraser/plots'\n",
    "save_dir = '/Users/nkinsky/Documents/BU/Working/Eraser'\n",
    "\n",
    "plt.rcParams['pdf.fonttype'] = 42\n",
    "# plt.rcParams['']\n",
    "plt.rcParams['font.sans-serif'] = \"Arial\""
   ]
  },
  {
   "cell_type": "code",
   "execution_count": 2,
   "id": "959b4d22",
   "metadata": {},
   "outputs": [],
   "source": [
    "# Helper functions to block printing output\n",
    "import sys, os\n",
    "\n",
    "# Disable\n",
    "def blockPrint():\n",
    "    sys.stdout = open(os.devnull, 'w')\n",
    "\n",
    "# Restore\n",
    "def enablePrint():\n",
    "    sys.stdout = sys.__stdout__\n"
   ]
  },
  {
   "cell_type": "markdown",
   "id": "58f65af9",
   "metadata": {},
   "source": [
    "## Bug here - why isn't this fix working!!!\n",
    "Should be fixed now - re-test all code below with updates, make sure to change 'before', 'during', and 'after' inputs and get rid of any refs to 'add_reg_memory_designation' function"
   ]
  },
  {
   "cell_type": "code",
   "execution_count": 3,
   "id": "aef2b091",
   "metadata": {},
   "outputs": [],
   "source": [
    "from copy import deepcopy\n",
    "\n",
    "def add_memory_designations(df_use, before=['-2_-1', '-1_4'], during=['4_1'], after=['1_2', '2_7']):\n",
    "    \"\"\"Add in designations for before, 4hr (during), and after ANI administration into your dataframe\"\"\"\n",
    "    df = deepcopy(df_use)\n",
    "    desig = [\"\" for a in df.itertuples()]\n",
    "    \n",
    "    def create_bool_array_from_list(bool_list):\n",
    "        bool_out = False\n",
    "        for b in bool_list:\n",
    "            bool_out = np.bitwise_or(bool_out, b)\n",
    "            \n",
    "        return bool_out\n",
    "    \n",
    "    before_bool_list = [df[\"d1_d2\"] == bef for bef in before]\n",
    "    before_ind = np.where(create_bool_array_from_list(before_bool_list))[0]\n",
    "    during_bool_list = [df[\"d1_d2\"] == dur for dur in during]\n",
    "    during_ind = np.where(create_bool_array_from_list(during_bool_list))[0]\n",
    "    after_bool_list = [df[\"d1_d2\"] == aft for aft in after]\n",
    "    after_ind = np.where(create_bool_array_from_list(after_bool_list))[0]\n",
    "    \n",
    "       # Old hardcoded method below for reference/bug checking\n",
    "#     before_ind = np.where((df[\"d1_d2\"] == \"-2_-1\") | (df[\"d1_d2\"] == \"-1_4\"))[0]\n",
    "#     during_ind = np.where(df[\"d1_d2\"] == \"4_1\")[0]\n",
    "#     after_ind = np.where((df[\"d1_d2\"] == \"1_2\") | (df[\"d1_d2\"] == \"2_7\"))[0]\n",
    "    for idd, d in enumerate(desig):\n",
    "        if idd in before_ind:\n",
    "            desig[idd] = \"Before\"\n",
    "        elif idd in during_ind:\n",
    "            desig[idd] = \"4hr\"\n",
    "        elif idd in after_ind:\n",
    "            desig[idd] = \"After\"\n",
    "    df.insert(1, \"Designation\", desig)\n",
    "    \n",
    "    return df"
   ]
  },
  {
   "cell_type": "code",
   "execution_count": 51,
   "id": "e06e8974",
   "metadata": {},
   "outputs": [],
   "source": [
    "def stats_before_after(df_use, key_use, ax=None, fontsize=None):\n",
    "    \"\"\"Compares mean covariances in a DataFrame. Pools days before (-2 and -1) and days after (1 and 2) shock + \n",
    "    injection. Compares across and within groups.\n",
    "    :param reg: True = use reg_memory_designations, False = use regular memory degisnations\"\"\"\n",
    "    \n",
    "    df_before = df_use[df_use['Designation'] == 'Before']\n",
    "    df_after = df_use[df_use['Designation'] == 'After']\n",
    "    df4 = df_use[df_use['Designation'] == '4hr'] \n",
    "        \n",
    "    stat_bef, p_bef = stats.ttest_ind(df_before[df_before['Group'] == 'Ctrl'][key_use], \n",
    "                                     df_before[df_before['Group'] == 'ANI'][key_use], nan_policy='omit')\n",
    "    stat_aft, p_aft = stats.ttest_ind(df_after[df_after['Group'] == 'Ctrl'][key_use], \n",
    "                                     df_after[df_after['Group'] == 'ANI'][key_use], nan_policy='omit')\n",
    "    stat_ctrl, p_ctrl = stats.ttest_ind(df_before[df_before['Group'] == 'Ctrl'][key_use], \n",
    "                                     df_after[df_after['Group'] == 'Ctrl'][key_use], nan_policy='omit')\n",
    "    stat_ani, p_ani = stats.ttest_ind(df_before[df_before['Group'] == 'ANI'][key_use], \n",
    "                                     df_after[df_after['Group'] == 'ANI'][key_use], nan_policy='omit')\n",
    "    stat_dur, p_dur = stats.ttest_ind(df4[df4['Group'] == 'Ctrl'][key_use],\n",
    "                                     df4[df4['Group'] == 'ANI'][key_use], nan_policy='omit')\n",
    "    stat_b4c, p_b4c = stats.ttest_ind(df_before[df_before['Group'] == 'Ctrl'][key_use],\n",
    "                                      df4[df4['Group'] == 'Ctrl'][key_use], nan_policy='omit')\n",
    "    stat_b4a, p_b4a = stats.ttest_ind(df_before[df_before['Group'] == 'ANI'][key_use],\n",
    "                                      df4[df4['Group'] == 'ANI'][key_use], nan_policy='omit')\n",
    "    stat_4ac, p_4ac = stats.ttest_ind(df4[df4['Group'] == 'Ctrl'][key_use], \n",
    "                                     df_after[df_after['Group'] == 'Ctrl'][key_use], nan_policy='omit')\n",
    "    stat_4aa, p_4aa = stats.ttest_ind(df4[df4['Group'] == 'ANI'][key_use], \n",
    "                                     df_after[df_after['Group'] == 'ANI'][key_use], nan_policy='omit')\n",
    "    \n",
    "    if ax is None:  # Print to screen\n",
    "        print(f'p={p_bef:0.3g} baseline b/w groups')\n",
    "        print(f'p={p_aft:0.3g} day 1-2 b/w groups')\n",
    "        print(f'p={p_ctrl:0.3g} before-after Ctrl')\n",
    "        print(f'p={p_ani:0.3g} before-after ANI')\n",
    "        print(f'p={p_dur:0.3g} 4 hrs b/w groups')\n",
    "    else:  # Print into specified axes\n",
    "        if fontsize is None:\n",
    "            fsize = 12.0\n",
    "        else:\n",
    "            fsize = 4.0\n",
    "        ax.text(0.1, 0.9, f'p={p_4aa:0.3g} 4 hr v after ANI', fontsize=fsize)\n",
    "        ax.text(0.1, 0.8, f'p={p_4ac:0.3g} 4 hr v after Ctrl', fontsize=fsize)\n",
    "        ax.text(0.1, 0.7, f'p={p_b4a:0.3g} before v 4 hr ANI', fontsize=fsize)\n",
    "        ax.text(0.1, 0.6, f'p={p_b4c:0.3g} before v 4 hr Ctrl', fontsize=fsize)\n",
    "        ax.text(0.1, 0.5, f'p={p_bef:0.3g} baseline b/w groups', fontsize=fsize)\n",
    "        ax.text(0.1, 0.4, f'p={p_aft:0.3g} day 1-2 b/w groups', fontsize=fsize)\n",
    "        ax.text(0.1, 0.3, f'p={p_ctrl:0.3g} before-after Ctrl', fontsize=fsize)\n",
    "        ax.text(0.1, 0.2, f'p={p_ani:0.3g} before-after ANI', fontsize=fsize)\n",
    "        ax.text(0.1, 0.1, f'p={p_dur:0.3g} 4 hrs b/w groups', fontsize=fsize)"
   ]
  },
  {
   "cell_type": "markdown",
   "id": "9155970b",
   "metadata": {},
   "source": [
    "Step 0: Set up all dicts for plotting."
   ]
  },
  {
   "cell_type": "code",
   "execution_count": 5,
   "id": "f2646545",
   "metadata": {
    "scrolled": true
   },
   "outputs": [
    {
     "name": "stderr",
     "output_type": "stream",
     "text": [
      "Marble07: 5it [00:03,  1.31it/s]"
     ]
    },
    {
     "name": "stdout",
     "output_type": "stream",
     "text": [
      "No tunings found for Marble07 Shock day 7: run .get_tuning_sig() and .save_sig_tuning()\n"
     ]
    },
    {
     "name": "stderr",
     "output_type": "stream",
     "text": [
      "Marble07: 6it [00:04,  1.30it/s]\n",
      "Marble12: 5it [00:03,  1.53it/s]"
     ]
    },
    {
     "name": "stdout",
     "output_type": "stream",
     "text": [
      "No tunings found for Marble12 Shock day 7: run .get_tuning_sig() and .save_sig_tuning()\n"
     ]
    },
    {
     "name": "stderr",
     "output_type": "stream",
     "text": [
      "Marble12: 6it [00:03,  1.54it/s]\n",
      "Marble24: 5it [00:03,  1.50it/s]"
     ]
    },
    {
     "name": "stdout",
     "output_type": "stream",
     "text": [
      "No tunings found for Marble24 Shock day 7: run .get_tuning_sig() and .save_sig_tuning()\n"
     ]
    },
    {
     "name": "stderr",
     "output_type": "stream",
     "text": [
      "Marble24: 6it [00:03,  1.52it/s]\n",
      "Marble27: 5it [00:03,  1.49it/s]"
     ]
    },
    {
     "name": "stdout",
     "output_type": "stream",
     "text": [
      "No tunings found for Marble27 Shock day 7: run .get_tuning_sig() and .save_sig_tuning()\n"
     ]
    },
    {
     "name": "stderr",
     "output_type": "stream",
     "text": [
      "Marble27: 6it [00:04,  1.47it/s]\n",
      "Marble06: 4it [00:02,  1.46it/s]"
     ]
    },
    {
     "name": "stdout",
     "output_type": "stream",
     "text": [
      "No position data found for Marble06 Shock day 7, loading neural data only\n"
     ]
    },
    {
     "name": "stderr",
     "output_type": "stream",
     "text": [
      "Marble06: 6it [00:05,  1.03it/s]\n",
      "Marble11: 5it [00:04,  1.05it/s]"
     ]
    },
    {
     "name": "stdout",
     "output_type": "stream",
     "text": [
      "No tunings found for Marble11 Shock day 7: run .get_tuning_sig() and .save_sig_tuning()\n"
     ]
    },
    {
     "name": "stderr",
     "output_type": "stream",
     "text": [
      "Marble11: 6it [00:05,  1.05it/s]\n",
      "Marble29: 5it [00:03,  1.42it/s]"
     ]
    },
    {
     "name": "stdout",
     "output_type": "stream",
     "text": [
      "No tunings found for Marble29 Shock day 7: run .get_tuning_sig() and .save_sig_tuning()\n"
     ]
    },
    {
     "name": "stderr",
     "output_type": "stream",
     "text": [
      "Marble29: 6it [00:04,  1.40it/s]\n",
      "Marble17: 5it [00:04,  1.25it/s]"
     ]
    },
    {
     "name": "stdout",
     "output_type": "stream",
     "text": [
      "No tunings found for Marble17 Shock day 7: run .get_tuning_sig() and .save_sig_tuning()\n"
     ]
    },
    {
     "name": "stderr",
     "output_type": "stream",
     "text": [
      "Marble17: 6it [00:04,  1.24it/s]\n",
      "Marble18: 5it [00:03,  1.56it/s]"
     ]
    },
    {
     "name": "stdout",
     "output_type": "stream",
     "text": [
      "No tunings found for Marble18 Shock day 7: run .get_tuning_sig() and .save_sig_tuning()\n"
     ]
    },
    {
     "name": "stderr",
     "output_type": "stream",
     "text": [
      "Marble18: 6it [00:03,  1.58it/s]\n",
      "Marble19: 5it [00:03,  1.41it/s]"
     ]
    },
    {
     "name": "stdout",
     "output_type": "stream",
     "text": [
      "No tunings found for Marble19 Shock day 7: run .get_tuning_sig() and .save_sig_tuning()\n"
     ]
    },
    {
     "name": "stderr",
     "output_type": "stream",
     "text": [
      "Marble19: 6it [00:04,  1.43it/s]\n",
      "Marble20: 5it [00:03,  1.57it/s]"
     ]
    },
    {
     "name": "stdout",
     "output_type": "stream",
     "text": [
      "No tunings found for Marble20 Shock day 7: run .get_tuning_sig() and .save_sig_tuning()\n"
     ]
    },
    {
     "name": "stderr",
     "output_type": "stream",
     "text": [
      "Marble20: 6it [00:03,  1.58it/s]\n",
      "Marble25: 5it [00:03,  1.41it/s]"
     ]
    },
    {
     "name": "stdout",
     "output_type": "stream",
     "text": [
      "No tunings found for Marble25 Shock day 7: run .get_tuning_sig() and .save_sig_tuning()\n"
     ]
    },
    {
     "name": "stderr",
     "output_type": "stream",
     "text": [
      "Marble25: 6it [00:04,  1.41it/s]\n",
      "Marble07: 4it [00:04,  1.02s/it]"
     ]
    },
    {
     "name": "stdout",
     "output_type": "stream",
     "text": [
      "No tunings found for Marble07 Shock day 7: run .get_tuning_sig() and .save_sig_tuning()\n"
     ]
    },
    {
     "name": "stderr",
     "output_type": "stream",
     "text": [
      "Marble07: 6it [00:06,  1.02s/it]\n",
      "Marble12: 4it [00:03,  1.13it/s]"
     ]
    },
    {
     "name": "stdout",
     "output_type": "stream",
     "text": [
      "No tunings found for Marble12 Shock day 7: run .get_tuning_sig() and .save_sig_tuning()\n"
     ]
    },
    {
     "name": "stderr",
     "output_type": "stream",
     "text": [
      "Marble12: 6it [00:05,  1.13it/s]\n",
      "Marble24: 4it [00:03,  1.13it/s]"
     ]
    },
    {
     "name": "stdout",
     "output_type": "stream",
     "text": [
      "No tunings found for Marble24 Shock day 7: run .get_tuning_sig() and .save_sig_tuning()\n"
     ]
    },
    {
     "name": "stderr",
     "output_type": "stream",
     "text": [
      "Marble24: 6it [00:05,  1.12it/s]\n",
      "Marble27: 4it [00:03,  1.08it/s]"
     ]
    },
    {
     "name": "stdout",
     "output_type": "stream",
     "text": [
      "No tunings found for Marble27 Shock day 7: run .get_tuning_sig() and .save_sig_tuning()\n"
     ]
    },
    {
     "name": "stderr",
     "output_type": "stream",
     "text": [
      "Marble27: 6it [00:05,  1.09it/s]\n",
      "Marble06: 4it [00:03,  1.07it/s]"
     ]
    },
    {
     "name": "stdout",
     "output_type": "stream",
     "text": [
      "No position data found for Marble06 Shock day 7, loading neural data only\n"
     ]
    },
    {
     "name": "stderr",
     "output_type": "stream",
     "text": [
      "Marble06: 6it [00:07,  1.22s/it]\n",
      "Marble11: 4it [00:04,  1.22s/it]"
     ]
    },
    {
     "name": "stdout",
     "output_type": "stream",
     "text": [
      "No tunings found for Marble11 Shock day 7: run .get_tuning_sig() and .save_sig_tuning()\n"
     ]
    },
    {
     "name": "stderr",
     "output_type": "stream",
     "text": [
      "Marble11: 6it [00:07,  1.22s/it]\n",
      "Marble29: 4it [00:03,  1.05it/s]"
     ]
    },
    {
     "name": "stdout",
     "output_type": "stream",
     "text": [
      "No tunings found for Marble29 Shock day 7: run .get_tuning_sig() and .save_sig_tuning()\n"
     ]
    },
    {
     "name": "stderr",
     "output_type": "stream",
     "text": [
      "Marble29: 6it [00:05,  1.05it/s]\n",
      "Marble17: 4it [00:04,  1.07s/it]"
     ]
    },
    {
     "name": "stdout",
     "output_type": "stream",
     "text": [
      "No tunings found for Marble17 Shock day 7: run .get_tuning_sig() and .save_sig_tuning()\n"
     ]
    },
    {
     "name": "stderr",
     "output_type": "stream",
     "text": [
      "Marble17: 6it [00:06,  1.07s/it]\n",
      "Marble18: 4it [00:03,  1.16it/s]"
     ]
    },
    {
     "name": "stdout",
     "output_type": "stream",
     "text": [
      "No tunings found for Marble18 Shock day 7: run .get_tuning_sig() and .save_sig_tuning()\n"
     ]
    },
    {
     "name": "stderr",
     "output_type": "stream",
     "text": [
      "Marble18: 6it [00:05,  1.16it/s]\n",
      "Marble19: 4it [00:03,  1.04it/s]"
     ]
    },
    {
     "name": "stdout",
     "output_type": "stream",
     "text": [
      "No tunings found for Marble19 Shock day 7: run .get_tuning_sig() and .save_sig_tuning()\n"
     ]
    },
    {
     "name": "stderr",
     "output_type": "stream",
     "text": [
      "Marble19: 6it [00:05,  1.04it/s]\n",
      "Marble20: 4it [00:03,  1.16it/s]"
     ]
    },
    {
     "name": "stdout",
     "output_type": "stream",
     "text": [
      "No tunings found for Marble20 Shock day 7: run .get_tuning_sig() and .save_sig_tuning()\n"
     ]
    },
    {
     "name": "stderr",
     "output_type": "stream",
     "text": [
      "Marble20: 6it [00:05,  1.16it/s]\n",
      "Marble25: 4it [00:04,  1.01s/it]"
     ]
    },
    {
     "name": "stdout",
     "output_type": "stream",
     "text": [
      "No tunings found for Marble25 Shock day 7: run .get_tuning_sig() and .save_sig_tuning()\n"
     ]
    },
    {
     "name": "stderr",
     "output_type": "stream",
     "text": [
      "Marble25: 6it [00:06,  1.01s/it]\n"
     ]
    }
   ],
   "source": [
    "bin_size = 0.5 # sec\n",
    "all_cov = cova.group_cov_across_days(bin_size=bin_size, arena1='Shock', arena2='Shock',\n",
    "                                               neurons='all', keep_silent=True)\n",
    "freeze_silent_cov = cova.group_cov_across_days(bin_size=bin_size, arena1='Shock', arena2='Shock',\n",
    "                                               neurons='freeze_onset', keep_silent=True)"
   ]
  },
  {
   "cell_type": "markdown",
   "id": "3be65f07",
   "metadata": {},
   "source": [
    "Plot #1: Freeze cell covariance before (day -1 and -2), 4 hr, and after (day 1 and 2), all normalized to day -2.  "
   ]
  },
  {
   "cell_type": "markdown",
   "id": "90aa39b4",
   "metadata": {},
   "source": [
    "NRK important note - try with keep_silent=False - all the above is probably driven by silent cells!  They are listed as 0 when they should be NaN by definition since the variance of a cell that fires no events is NaN, right?\n",
    "\n",
    "### NO! I'm only looking at base day covariances, which don't include silent cells! All good!"
   ]
  },
  {
   "cell_type": "code",
   "execution_count": 6,
   "id": "5911d7bd",
   "metadata": {},
   "outputs": [],
   "source": [
    "sigz_freeze_df = cova.cov_dict_to_df(freeze_silent_cov, baseline_dict_use=all_cov, include_silent=True)\n",
    "sigz_freeze_df = add_memory_designations(sigz_freeze_df)"
   ]
  },
  {
   "cell_type": "code",
   "execution_count": 7,
   "id": "8e683eaa",
   "metadata": {
    "scrolled": false
   },
   "outputs": [
    {
     "data": {
      "image/png": "[encoded data removed]",
      "text/plain": [
       "<Figure size 1080x180 with 5 Axes>"
      ]
     },
     "metadata": {
      "needs_background": "light"
     },
     "output_type": "display_data"
    }
   ],
   "source": [
    "sigz_df = sigz_freeze_df\n",
    "\n",
    "pairs_plot = ['-2_-1', '-1_4', '4_1', '1_2', '2_7']\n",
    "fig, ax = plt.subplots(1, len(pairs_plot), figsize=(3*len(pairs_plot), 2.5))\n",
    "for a, d1_d2 in zip(ax, pairs_plot):\n",
    "    sns.stripplot(x='Group', y='cov_z_mean', data=sigz_df[sigz_df['d1_d2'] == d1_d2], ax=a)\n",
    "    sns.despine(ax=a)\n",
    "    a.set_title(d1_d2.split('_')[0])\n",
    "    df_use = sigz_df[sigz_df['d1_d2'] == d1_d2]\n",
    "    stat, pval = stats.ttest_ind(df_use[df_use['Group'] == 'Ctrl']['cov_z_mean'], \n",
    "                                 df_use[df_use['Group'] == 'ANI']['cov_z_mean'])\n",
    "    \n",
    "    a.text(0, -0.4, f'p_t = {pval:.3g}')\n",
    "    \n",
    "erp.match_max_lims(ax, axis='y')"
   ]
  },
  {
   "cell_type": "markdown",
   "id": "dc7b591a",
   "metadata": {},
   "source": [
    "### Set up figure to contain all covariance plots together, nicely aligned!"
   ]
  },
  {
   "cell_type": "code",
   "execution_count": 96,
   "id": "6005e6bd",
   "metadata": {},
   "outputs": [
    {
     "data": {
      "application/javascript": [
       "/* Put everything inside the global mpl namespace */\n",
       "/* global mpl */\n",
       "window.mpl = {};\n",
       "\n",
       "mpl.get_websocket_type = function () {\n",
       "    if (typeof WebSocket !== 'undefined') {\n",
       "        return WebSocket;\n",
       "    } else if (typeof MozWebSocket !== 'undefined') {\n",
       "        return MozWebSocket;\n",
       "    } else {\n",
       "        alert(\n",
       "            'Your browser does not have WebSocket support. ' +\n",
       "                'Please try Chrome, Safari or Firefox ≥ 6. ' +\n",
       "                'Firefox 4 and 5 are also supported but you ' +\n",
       "                'have to enable WebSockets in about:config.'\n",
       "        );\n",
       "    }\n",
       "};\n",
       "\n",
       "mpl.figure = function (figure_id, websocket, ondownload, parent_element) {\n",
       "    this.id = figure_id;\n",
       "\n",
       "    this.ws = websocket;\n",
       "\n",
       "    this.supports_binary = this.ws.binaryType !== undefined;\n",
       "\n",
       "    if (!this.supports_binary) {\n",
       "        var warnings = document.getElementById('mpl-warnings');\n",
       "        if (warnings) {\n",
       "            warnings.style.display = 'block';\n",
       "            warnings.textContent =\n",
       "                'This browser does not support binary websocket messages. ' +\n",
       "                'Performance may be slow.';\n",
       "        }\n",
       "    }\n",
       "\n",
       "    this.imageObj = new Image();\n",
       "\n",
       "    this.context = undefined;\n",
       "    this.message = undefined;\n",
       "    this.canvas = undefined;\n",
       "    this.rubberband_canvas = undefined;\n",
       "    this.rubberband_context = undefined;\n",
       "    this.format_dropdown = undefined;\n",
       "\n",
       "    this.image_mode = 'full';\n",
       "\n",
       "    this.root = document.createElement('div');\n",
       "    this.root.setAttribute('style', 'display: inline-block');\n",
       "    this._root_extra_style(this.root);\n",
       "\n",
       "    parent_element.appendChild(this.root);\n",
       "\n",
       "    this._init_header(this);\n",
       "    this._init_canvas(this);\n",
       "    this._init_toolbar(this);\n",
       "\n",
       "    var fig = this;\n",
       "\n",
       "    this.waiting = false;\n",
       "\n",
       "    this.ws.onopen = function () {\n",
       "        fig.send_message('supports_binary', { value: fig.supports_binary });\n",
       "        fig.send_message('send_image_mode', {});\n",
       "        if (fig.ratio !== 1) {\n",
       "            fig.send_message('set_dpi_ratio', { dpi_ratio: fig.ratio });\n",
       "        }\n",
       "        fig.send_message('refresh', {});\n",
       "    };\n",
       "\n",
       "    this.imageObj.onload = function () {\n",
       "        if (fig.image_mode === 'full') {\n",
       "            // Full images could contain transparency (where diff images\n",
       "            // almost always do), so we need to clear the canvas so that\n",
       "            // there is no ghosting.\n",
       "            fig.context.clearRect(0, 0, fig.canvas.width, fig.canvas.height);\n",
       "        }\n",
       "        fig.context.drawImage(fig.imageObj, 0, 0);\n",
       "    };\n",
       "\n",
       "    this.imageObj.onunload = function () {\n",
       "        fig.ws.close();\n",
       "    };\n",
       "\n",
       "    this.ws.onmessage = this._make_on_message_function(this);\n",
       "\n",
       "    this.ondownload = ondownload;\n",
       "};\n",
       "\n",
       "mpl.figure.prototype._init_header = function () {\n",
       "    var titlebar = document.createElement('div');\n",
       "    titlebar.classList =\n",
       "        'ui-dialog-titlebar ui-widget-header ui-corner-all ui-helper-clearfix';\n",
       "    var titletext = document.createElement('div');\n",
       "    titletext.classList = 'ui-dialog-title';\n",
       "    titletext.setAttribute(\n",
       "        'style',\n",
       "        'width: 100%; text-align: center; padding: 3px;'\n",
       "    );\n",
       "    titlebar.appendChild(titletext);\n",
       "    this.root.appendChild(titlebar);\n",
       "    this.header = titletext;\n",
       "};\n",
       "\n",
       "mpl.figure.prototype._canvas_extra_style = function (_canvas_div) {};\n",
       "\n",
       "mpl.figure.prototype._root_extra_style = function (_canvas_div) {};\n",
       "\n",
       "mpl.figure.prototype._init_canvas = function () {\n",
       "    var fig = this;\n",
       "\n",
       "    var canvas_div = (this.canvas_div = document.createElement('div'));\n",
       "    canvas_div.setAttribute(\n",
       "        'style',\n",
       "        'border: 1px solid #ddd;' +\n",
       "            'box-sizing: content-box;' +\n",
       "            'clear: both;' +\n",
       "            'min-height: 1px;' +\n",
       "            'min-width: 1px;' +\n",
       "            'outline: 0;' +\n",
       "            'overflow: hidden;' +\n",
       "            'position: relative;' +\n",
       "            'resize: both;'\n",
       "    );\n",
       "\n",
       "    function on_keyboard_event_closure(name) {\n",
       "        return function (event) {\n",
       "            return fig.key_event(event, name);\n",
       "        };\n",
       "    }\n",
       "\n",
       "    canvas_div.addEventListener(\n",
       "        'keydown',\n",
       "        on_keyboard_event_closure('key_press')\n",
       "    );\n",
       "    canvas_div.addEventListener(\n",
       "        'keyup',\n",
       "        on_keyboard_event_closure('key_release')\n",
       "    );\n",
       "\n",
       "    this._canvas_extra_style(canvas_div);\n",
       "    this.root.appendChild(canvas_div);\n",
       "\n",
       "    var canvas = (this.canvas = document.createElement('canvas'));\n",
       "    canvas.classList.add('mpl-canvas');\n",
       "    canvas.setAttribute('style', 'box-sizing: content-box;');\n",
       "\n",
       "    this.context = canvas.getContext('2d');\n",
       "\n",
       "    var backingStore =\n",
       "        this.context.backingStorePixelRatio ||\n",
       "        this.context.webkitBackingStorePixelRatio ||\n",
       "        this.context.mozBackingStorePixelRatio ||\n",
       "        this.context.msBackingStorePixelRatio ||\n",
       "        this.context.oBackingStorePixelRatio ||\n",
       "        this.context.backingStorePixelRatio ||\n",
       "        1;\n",
       "\n",
       "    this.ratio = (window.devicePixelRatio || 1) / backingStore;\n",
       "\n",
       "    var rubberband_canvas = (this.rubberband_canvas = document.createElement(\n",
       "        'canvas'\n",
       "    ));\n",
       "    rubberband_canvas.setAttribute(\n",
       "        'style',\n",
       "        'box-sizing: content-box; position: absolute; left: 0; top: 0; z-index: 1;'\n",
       "    );\n",
       "\n",
       "    // Apply a ponyfill if ResizeObserver is not implemented by browser.\n",
       "    if (this.ResizeObserver === undefined) {\n",
       "        if (window.ResizeObserver !== undefined) {\n",
       "            this.ResizeObserver = window.ResizeObserver;\n",
       "        } else {\n",
       "            var obs = _JSXTOOLS_RESIZE_OBSERVER({});\n",
       "            this.ResizeObserver = obs.ResizeObserver;\n",
       "        }\n",
       "    }\n",
       "\n",
       "    this.resizeObserverInstance = new this.ResizeObserver(function (entries) {\n",
       "        var nentries = entries.length;\n",
       "        for (var i = 0; i < nentries; i++) {\n",
       "            var entry = entries[i];\n",
       "            var width, height;\n",
       "            if (entry.contentBoxSize) {\n",
       "                if (entry.contentBoxSize instanceof Array) {\n",
       "                    // Chrome 84 implements new version of spec.\n",
       "                    width = entry.contentBoxSize[0].inlineSize;\n",
       "                    height = entry.contentBoxSize[0].blockSize;\n",
       "                } else {\n",
       "                    // Firefox implements old version of spec.\n",
       "                    width = entry.contentBoxSize.inlineSize;\n",
       "                    height = entry.contentBoxSize.blockSize;\n",
       "                }\n",
       "            } else {\n",
       "                // Chrome <84 implements even older version of spec.\n",
       "                width = entry.contentRect.width;\n",
       "                height = entry.contentRect.height;\n",
       "            }\n",
       "\n",
       "            // Keep the size of the canvas and rubber band canvas in sync with\n",
       "            // the canvas container.\n",
       "            if (entry.devicePixelContentBoxSize) {\n",
       "                // Chrome 84 implements new version of spec.\n",
       "                canvas.setAttribute(\n",
       "                    'width',\n",
       "                    entry.devicePixelContentBoxSize[0].inlineSize\n",
       "                );\n",
       "                canvas.setAttribute(\n",
       "                    'height',\n",
       "                    entry.devicePixelContentBoxSize[0].blockSize\n",
       "                );\n",
       "            } else {\n",
       "                canvas.setAttribute('width', width * fig.ratio);\n",
       "                canvas.setAttribute('height', height * fig.ratio);\n",
       "            }\n",
       "            canvas.setAttribute(\n",
       "                'style',\n",
       "                'width: ' + width + 'px; height: ' + height + 'px;'\n",
       "            );\n",
       "\n",
       "            rubberband_canvas.setAttribute('width', width);\n",
       "            rubberband_canvas.setAttribute('height', height);\n",
       "\n",
       "            // And update the size in Python. We ignore the initial 0/0 size\n",
       "            // that occurs as the element is placed into the DOM, which should\n",
       "            // otherwise not happen due to the minimum size styling.\n",
       "            if (fig.ws.readyState == 1 && width != 0 && height != 0) {\n",
       "                fig.request_resize(width, height);\n",
       "            }\n",
       "        }\n",
       "    });\n",
       "    this.resizeObserverInstance.observe(canvas_div);\n",
       "\n",
       "    function on_mouse_event_closure(name) {\n",
       "        return function (event) {\n",
       "            return fig.mouse_event(event, name);\n",
       "        };\n",
       "    }\n",
       "\n",
       "    rubberband_canvas.addEventListener(\n",
       "        'mousedown',\n",
       "        on_mouse_event_closure('button_press')\n",
       "    );\n",
       "    rubberband_canvas.addEventListener(\n",
       "        'mouseup',\n",
       "        on_mouse_event_closure('button_release')\n",
       "    );\n",
       "    rubberband_canvas.addEventListener(\n",
       "        'dblclick',\n",
       "        on_mouse_event_closure('dblclick')\n",
       "    );\n",
       "    // Throttle sequential mouse events to 1 every 20ms.\n",
       "    rubberband_canvas.addEventListener(\n",
       "        'mousemove',\n",
       "        on_mouse_event_closure('motion_notify')\n",
       "    );\n",
       "\n",
       "    rubberband_canvas.addEventListener(\n",
       "        'mouseenter',\n",
       "        on_mouse_event_closure('figure_enter')\n",
       "    );\n",
       "    rubberband_canvas.addEventListener(\n",
       "        'mouseleave',\n",
       "        on_mouse_event_closure('figure_leave')\n",
       "    );\n",
       "\n",
       "    canvas_div.addEventListener('wheel', function (event) {\n",
       "        if (event.deltaY < 0) {\n",
       "            event.step = 1;\n",
       "        } else {\n",
       "            event.step = -1;\n",
       "        }\n",
       "        on_mouse_event_closure('scroll')(event);\n",
       "    });\n",
       "\n",
       "    canvas_div.appendChild(canvas);\n",
       "    canvas_div.appendChild(rubberband_canvas);\n",
       "\n",
       "    this.rubberband_context = rubberband_canvas.getContext('2d');\n",
       "    this.rubberband_context.strokeStyle = '#000000';\n",
       "\n",
       "    this._resize_canvas = function (width, height, forward) {\n",
       "        if (forward) {\n",
       "            canvas_div.style.width = width + 'px';\n",
       "            canvas_div.style.height = height + 'px';\n",
       "        }\n",
       "    };\n",
       "\n",
       "    // Disable right mouse context menu.\n",
       "    this.rubberband_canvas.addEventListener('contextmenu', function (_e) {\n",
       "        event.preventDefault();\n",
       "        return false;\n",
       "    });\n",
       "\n",
       "    function set_focus() {\n",
       "        canvas.focus();\n",
       "        canvas_div.focus();\n",
       "    }\n",
       "\n",
       "    window.setTimeout(set_focus, 100);\n",
       "};\n",
       "\n",
       "mpl.figure.prototype._init_toolbar = function () {\n",
       "    var fig = this;\n",
       "\n",
       "    var toolbar = document.createElement('div');\n",
       "    toolbar.classList = 'mpl-toolbar';\n",
       "    this.root.appendChild(toolbar);\n",
       "\n",
       "    function on_click_closure(name) {\n",
       "        return function (_event) {\n",
       "            return fig.toolbar_button_onclick(name);\n",
       "        };\n",
       "    }\n",
       "\n",
       "    function on_mouseover_closure(tooltip) {\n",
       "        return function (event) {\n",
       "            if (!event.currentTarget.disabled) {\n",
       "                return fig.toolbar_button_onmouseover(tooltip);\n",
       "            }\n",
       "        };\n",
       "    }\n",
       "\n",
       "    fig.buttons = {};\n",
       "    var buttonGroup = document.createElement('div');\n",
       "    buttonGroup.classList = 'mpl-button-group';\n",
       "    for (var toolbar_ind in mpl.toolbar_items) {\n",
       "        var name = mpl.toolbar_items[toolbar_ind][0];\n",
       "        var tooltip = mpl.toolbar_items[toolbar_ind][1];\n",
       "        var image = mpl.toolbar_items[toolbar_ind][2];\n",
       "        var method_name = mpl.toolbar_items[toolbar_ind][3];\n",
       "\n",
       "        if (!name) {\n",
       "            /* Instead of a spacer, we start a new button group. */\n",
       "            if (buttonGroup.hasChildNodes()) {\n",
       "                toolbar.appendChild(buttonGroup);\n",
       "            }\n",
       "            buttonGroup = document.createElement('div');\n",
       "            buttonGroup.classList = 'mpl-button-group';\n",
       "            continue;\n",
       "        }\n",
       "\n",
       "        var button = (fig.buttons[name] = document.createElement('button'));\n",
       "        button.classList = 'mpl-widget';\n",
       "        button.setAttribute('role', 'button');\n",
       "        button.setAttribute('aria-disabled', 'false');\n",
       "        button.addEventListener('click', on_click_closure(method_name));\n",
       "        button.addEventListener('mouseover', on_mouseover_closure(tooltip));\n",
       "\n",
       "        var icon_img = document.createElement('img');\n",
       "        icon_img.src = '_images/' + image + '.png';\n",
       "        icon_img.srcset = '_images/' + image + '_large.png 2x';\n",
       "        icon_img.alt = tooltip;\n",
       "        button.appendChild(icon_img);\n",
       "\n",
       "        buttonGroup.appendChild(button);\n",
       "    }\n",
       "\n",
       "    if (buttonGroup.hasChildNodes()) {\n",
       "        toolbar.appendChild(buttonGroup);\n",
       "    }\n",
       "\n",
       "    var fmt_picker = document.createElement('select');\n",
       "    fmt_picker.classList = 'mpl-widget';\n",
       "    toolbar.appendChild(fmt_picker);\n",
       "    this.format_dropdown = fmt_picker;\n",
       "\n",
       "    for (var ind in mpl.extensions) {\n",
       "        var fmt = mpl.extensions[ind];\n",
       "        var option = document.createElement('option');\n",
       "        option.selected = fmt === mpl.default_extension;\n",
       "        option.innerHTML = fmt;\n",
       "        fmt_picker.appendChild(option);\n",
       "    }\n",
       "\n",
       "    var status_bar = document.createElement('span');\n",
       "    status_bar.classList = 'mpl-message';\n",
       "    toolbar.appendChild(status_bar);\n",
       "    this.message = status_bar;\n",
       "};\n",
       "\n",
       "mpl.figure.prototype.request_resize = function (x_pixels, y_pixels) {\n",
       "    // Request matplotlib to resize the figure. Matplotlib will then trigger a resize in the client,\n",
       "    // which will in turn request a refresh of the image.\n",
       "    this.send_message('resize', { width: x_pixels, height: y_pixels });\n",
       "};\n",
       "\n",
       "mpl.figure.prototype.send_message = function (type, properties) {\n",
       "    properties['type'] = type;\n",
       "    properties['figure_id'] = this.id;\n",
       "    this.ws.send(JSON.stringify(properties));\n",
       "};\n",
       "\n",
       "mpl.figure.prototype.send_draw_message = function () {\n",
       "    if (!this.waiting) {\n",
       "        this.waiting = true;\n",
       "        this.ws.send(JSON.stringify({ type: 'draw', figure_id: this.id }));\n",
       "    }\n",
       "};\n",
       "\n",
       "mpl.figure.prototype.handle_save = function (fig, _msg) {\n",
       "    var format_dropdown = fig.format_dropdown;\n",
       "    var format = format_dropdown.options[format_dropdown.selectedIndex].value;\n",
       "    fig.ondownload(fig, format);\n",
       "};\n",
       "\n",
       "mpl.figure.prototype.handle_resize = function (fig, msg) {\n",
       "    var size = msg['size'];\n",
       "    if (size[0] !== fig.canvas.width || size[1] !== fig.canvas.height) {\n",
       "        fig._resize_canvas(size[0], size[1], msg['forward']);\n",
       "        fig.send_message('refresh', {});\n",
       "    }\n",
       "};\n",
       "\n",
       "mpl.figure.prototype.handle_rubberband = function (fig, msg) {\n",
       "    var x0 = msg['x0'] / fig.ratio;\n",
       "    var y0 = (fig.canvas.height - msg['y0']) / fig.ratio;\n",
       "    var x1 = msg['x1'] / fig.ratio;\n",
       "    var y1 = (fig.canvas.height - msg['y1']) / fig.ratio;\n",
       "    x0 = Math.floor(x0) + 0.5;\n",
       "    y0 = Math.floor(y0) + 0.5;\n",
       "    x1 = Math.floor(x1) + 0.5;\n",
       "    y1 = Math.floor(y1) + 0.5;\n",
       "    var min_x = Math.min(x0, x1);\n",
       "    var min_y = Math.min(y0, y1);\n",
       "    var width = Math.abs(x1 - x0);\n",
       "    var height = Math.abs(y1 - y0);\n",
       "\n",
       "    fig.rubberband_context.clearRect(\n",
       "        0,\n",
       "        0,\n",
       "        fig.canvas.width / fig.ratio,\n",
       "        fig.canvas.height / fig.ratio\n",
       "    );\n",
       "\n",
       "    fig.rubberband_context.strokeRect(min_x, min_y, width, height);\n",
       "};\n",
       "\n",
       "mpl.figure.prototype.handle_figure_label = function (fig, msg) {\n",
       "    // Updates the figure title.\n",
       "    fig.header.textContent = msg['label'];\n",
       "};\n",
       "\n",
       "mpl.figure.prototype.handle_cursor = function (fig, msg) {\n",
       "    var cursor = msg['cursor'];\n",
       "    switch (cursor) {\n",
       "        case 0:\n",
       "            cursor = 'pointer';\n",
       "            break;\n",
       "        case 1:\n",
       "            cursor = 'default';\n",
       "            break;\n",
       "        case 2:\n",
       "            cursor = 'crosshair';\n",
       "            break;\n",
       "        case 3:\n",
       "            cursor = 'move';\n",
       "            break;\n",
       "    }\n",
       "    fig.rubberband_canvas.style.cursor = cursor;\n",
       "};\n",
       "\n",
       "mpl.figure.prototype.handle_message = function (fig, msg) {\n",
       "    fig.message.textContent = msg['message'];\n",
       "};\n",
       "\n",
       "mpl.figure.prototype.handle_draw = function (fig, _msg) {\n",
       "    // Request the server to send over a new figure.\n",
       "    fig.send_draw_message();\n",
       "};\n",
       "\n",
       "mpl.figure.prototype.handle_image_mode = function (fig, msg) {\n",
       "    fig.image_mode = msg['mode'];\n",
       "};\n",
       "\n",
       "mpl.figure.prototype.handle_history_buttons = function (fig, msg) {\n",
       "    for (var key in msg) {\n",
       "        if (!(key in fig.buttons)) {\n",
       "            continue;\n",
       "        }\n",
       "        fig.buttons[key].disabled = !msg[key];\n",
       "        fig.buttons[key].setAttribute('aria-disabled', !msg[key]);\n",
       "    }\n",
       "};\n",
       "\n",
       "mpl.figure.prototype.handle_navigate_mode = function (fig, msg) {\n",
       "    if (msg['mode'] === 'PAN') {\n",
       "        fig.buttons['Pan'].classList.add('active');\n",
       "        fig.buttons['Zoom'].classList.remove('active');\n",
       "    } else if (msg['mode'] === 'ZOOM') {\n",
       "        fig.buttons['Pan'].classList.remove('active');\n",
       "        fig.buttons['Zoom'].classList.add('active');\n",
       "    } else {\n",
       "        fig.buttons['Pan'].classList.remove('active');\n",
       "        fig.buttons['Zoom'].classList.remove('active');\n",
       "    }\n",
       "};\n",
       "\n",
       "mpl.figure.prototype.updated_canvas_event = function () {\n",
       "    // Called whenever the canvas gets updated.\n",
       "    this.send_message('ack', {});\n",
       "};\n",
       "\n",
       "// A function to construct a web socket function for onmessage handling.\n",
       "// Called in the figure constructor.\n",
       "mpl.figure.prototype._make_on_message_function = function (fig) {\n",
       "    return function socket_on_message(evt) {\n",
       "        if (evt.data instanceof Blob) {\n",
       "            var img = evt.data;\n",
       "            if (img.type !== 'image/png') {\n",
       "                /* FIXME: We get \"Resource interpreted as Image but\n",
       "                 * transferred with MIME type text/plain:\" errors on\n",
       "                 * Chrome.  But how to set the MIME type?  It doesn't seem\n",
       "                 * to be part of the websocket stream */\n",
       "                img.type = 'image/png';\n",
       "            }\n",
       "\n",
       "            /* Free the memory for the previous frames */\n",
       "            if (fig.imageObj.src) {\n",
       "                (window.URL || window.webkitURL).revokeObjectURL(\n",
       "                    fig.imageObj.src\n",
       "                );\n",
       "            }\n",
       "\n",
       "            fig.imageObj.src = (window.URL || window.webkitURL).createObjectURL(\n",
       "                img\n",
       "            );\n",
       "            fig.updated_canvas_event();\n",
       "            fig.waiting = false;\n",
       "            return;\n",
       "        } else if (\n",
       "            typeof evt.data === 'string' &&\n",
       "            evt.data.slice(0, 21) === 'data:image/png;base64'\n",
       "        ) {\n",
       "            fig.imageObj.src = evt.data;\n",
       "            fig.updated_canvas_event();\n",
       "            fig.waiting = false;\n",
       "            return;\n",
       "        }\n",
       "\n",
       "        var msg = JSON.parse(evt.data);\n",
       "        var msg_type = msg['type'];\n",
       "\n",
       "        // Call the  \"handle_{type}\" callback, which takes\n",
       "        // the figure and JSON message as its only arguments.\n",
       "        try {\n",
       "            var callback = fig['handle_' + msg_type];\n",
       "        } catch (e) {\n",
       "            console.log(\n",
       "                \"No handler for the '\" + msg_type + \"' message type: \",\n",
       "                msg\n",
       "            );\n",
       "            return;\n",
       "        }\n",
       "\n",
       "        if (callback) {\n",
       "            try {\n",
       "                // console.log(\"Handling '\" + msg_type + \"' message: \", msg);\n",
       "                callback(fig, msg);\n",
       "            } catch (e) {\n",
       "                console.log(\n",
       "                    \"Exception inside the 'handler_\" + msg_type + \"' callback:\",\n",
       "                    e,\n",
       "                    e.stack,\n",
       "                    msg\n",
       "                );\n",
       "            }\n",
       "        }\n",
       "    };\n",
       "};\n",
       "\n",
       "// from http://stackoverflow.com/questions/1114465/getting-mouse-location-in-canvas\n",
       "mpl.findpos = function (e) {\n",
       "    //this section is from http://www.quirksmode.org/js/events_properties.html\n",
       "    var targ;\n",
       "    if (!e) {\n",
       "        e = window.event;\n",
       "    }\n",
       "    if (e.target) {\n",
       "        targ = e.target;\n",
       "    } else if (e.srcElement) {\n",
       "        targ = e.srcElement;\n",
       "    }\n",
       "    if (targ.nodeType === 3) {\n",
       "        // defeat Safari bug\n",
       "        targ = targ.parentNode;\n",
       "    }\n",
       "\n",
       "    // pageX,Y are the mouse positions relative to the document\n",
       "    var boundingRect = targ.getBoundingClientRect();\n",
       "    var x = e.pageX - (boundingRect.left + document.body.scrollLeft);\n",
       "    var y = e.pageY - (boundingRect.top + document.body.scrollTop);\n",
       "\n",
       "    return { x: x, y: y };\n",
       "};\n",
       "\n",
       "/*\n",
       " * return a copy of an object with only non-object keys\n",
       " * we need this to avoid circular references\n",
       " * http://stackoverflow.com/a/24161582/3208463\n",
       " */\n",
       "function simpleKeys(original) {\n",
       "    return Object.keys(original).reduce(function (obj, key) {\n",
       "        if (typeof original[key] !== 'object') {\n",
       "            obj[key] = original[key];\n",
       "        }\n",
       "        return obj;\n",
       "    }, {});\n",
       "}\n",
       "\n",
       "mpl.figure.prototype.mouse_event = function (event, name) {\n",
       "    var canvas_pos = mpl.findpos(event);\n",
       "\n",
       "    if (name === 'button_press') {\n",
       "        this.canvas.focus();\n",
       "        this.canvas_div.focus();\n",
       "    }\n",
       "\n",
       "    var x = canvas_pos.x * this.ratio;\n",
       "    var y = canvas_pos.y * this.ratio;\n",
       "\n",
       "    this.send_message(name, {\n",
       "        x: x,\n",
       "        y: y,\n",
       "        button: event.button,\n",
       "        step: event.step,\n",
       "        guiEvent: simpleKeys(event),\n",
       "    });\n",
       "\n",
       "    /* This prevents the web browser from automatically changing to\n",
       "     * the text insertion cursor when the button is pressed.  We want\n",
       "     * to control all of the cursor setting manually through the\n",
       "     * 'cursor' event from matplotlib */\n",
       "    event.preventDefault();\n",
       "    return false;\n",
       "};\n",
       "\n",
       "mpl.figure.prototype._key_event_extra = function (_event, _name) {\n",
       "    // Handle any extra behaviour associated with a key event\n",
       "};\n",
       "\n",
       "mpl.figure.prototype.key_event = function (event, name) {\n",
       "    // Prevent repeat events\n",
       "    if (name === 'key_press') {\n",
       "        if (event.key === this._key) {\n",
       "            return;\n",
       "        } else {\n",
       "            this._key = event.key;\n",
       "        }\n",
       "    }\n",
       "    if (name === 'key_release') {\n",
       "        this._key = null;\n",
       "    }\n",
       "\n",
       "    var value = '';\n",
       "    if (event.ctrlKey && event.key !== 'Control') {\n",
       "        value += 'ctrl+';\n",
       "    }\n",
       "    else if (event.altKey && event.key !== 'Alt') {\n",
       "        value += 'alt+';\n",
       "    }\n",
       "    else if (event.shiftKey && event.key !== 'Shift') {\n",
       "        value += 'shift+';\n",
       "    }\n",
       "\n",
       "    value += 'k' + event.key;\n",
       "\n",
       "    this._key_event_extra(event, name);\n",
       "\n",
       "    this.send_message(name, { key: value, guiEvent: simpleKeys(event) });\n",
       "    return false;\n",
       "};\n",
       "\n",
       "mpl.figure.prototype.toolbar_button_onclick = function (name) {\n",
       "    if (name === 'download') {\n",
       "        this.handle_save(this, null);\n",
       "    } else {\n",
       "        this.send_message('toolbar_button', { name: name });\n",
       "    }\n",
       "};\n",
       "\n",
       "mpl.figure.prototype.toolbar_button_onmouseover = function (tooltip) {\n",
       "    this.message.textContent = tooltip;\n",
       "};\n",
       "\n",
       "///////////////// REMAINING CONTENT GENERATED BY embed_js.py /////////////////\n",
       "// prettier-ignore\n",
       "var _JSXTOOLS_RESIZE_OBSERVER=function(A){var t,i=new WeakMap,n=new WeakMap,a=new WeakMap,r=new WeakMap,o=new Set;function s(e){if(!(this instanceof s))throw new TypeError(\"Constructor requires 'new' operator\");i.set(this,e)}function h(){throw new TypeError(\"Function is not a constructor\")}function c(e,t,i,n){e=0 in arguments?Number(arguments[0]):0,t=1 in arguments?Number(arguments[1]):0,i=2 in arguments?Number(arguments[2]):0,n=3 in arguments?Number(arguments[3]):0,this.right=(this.x=this.left=e)+(this.width=i),this.bottom=(this.y=this.top=t)+(this.height=n),Object.freeze(this)}function d(){t=requestAnimationFrame(d);var s=new WeakMap,p=new Set;o.forEach((function(t){r.get(t).forEach((function(i){var r=t instanceof window.SVGElement,o=a.get(t),d=r?0:parseFloat(o.paddingTop),f=r?0:parseFloat(o.paddingRight),l=r?0:parseFloat(o.paddingBottom),u=r?0:parseFloat(o.paddingLeft),g=r?0:parseFloat(o.borderTopWidth),m=r?0:parseFloat(o.borderRightWidth),w=r?0:parseFloat(o.borderBottomWidth),b=u+f,F=d+l,v=(r?0:parseFloat(o.borderLeftWidth))+m,W=g+w,y=r?0:t.offsetHeight-W-t.clientHeight,E=r?0:t.offsetWidth-v-t.clientWidth,R=b+v,z=F+W,M=r?t.width:parseFloat(o.width)-R-E,O=r?t.height:parseFloat(o.height)-z-y;if(n.has(t)){var k=n.get(t);if(k[0]===M&&k[1]===O)return}n.set(t,[M,O]);var S=Object.create(h.prototype);S.target=t,S.contentRect=new c(u,d,M,O),s.has(i)||(s.set(i,[]),p.add(i)),s.get(i).push(S)}))})),p.forEach((function(e){i.get(e).call(e,s.get(e),e)}))}return s.prototype.observe=function(i){if(i instanceof window.Element){r.has(i)||(r.set(i,new Set),o.add(i),a.set(i,window.getComputedStyle(i)));var n=r.get(i);n.has(this)||n.add(this),cancelAnimationFrame(t),t=requestAnimationFrame(d)}},s.prototype.unobserve=function(i){if(i instanceof window.Element&&r.has(i)){var n=r.get(i);n.has(this)&&(n.delete(this),n.size||(r.delete(i),o.delete(i))),n.size||r.delete(i),o.size||cancelAnimationFrame(t)}},A.DOMRectReadOnly=c,A.ResizeObserver=s,A.ResizeObserverEntry=h,A}; // eslint-disable-line\n",
       "mpl.toolbar_items = [[\"Home\", \"Reset original view\", \"fa fa-home icon-home\", \"home\"], [\"Back\", \"Back to previous view\", \"fa fa-arrow-left icon-arrow-left\", \"back\"], [\"Forward\", \"Forward to next view\", \"fa fa-arrow-right icon-arrow-right\", \"forward\"], [\"\", \"\", \"\", \"\"], [\"Pan\", \"Left button pans, Right button zooms\\nx/y fixes axis, CTRL fixes aspect\", \"fa fa-arrows icon-move\", \"pan\"], [\"Zoom\", \"Zoom to rectangle\\nx/y fixes axis, CTRL fixes aspect\", \"fa fa-square-o icon-check-empty\", \"zoom\"], [\"\", \"\", \"\", \"\"], [\"Download\", \"Download plot\", \"fa fa-floppy-o icon-save\", \"download\"]];\n",
       "\n",
       "mpl.extensions = [\"eps\", \"jpeg\", \"pgf\", \"pdf\", \"png\", \"ps\", \"raw\", \"svg\", \"tif\"];\n",
       "\n",
       "mpl.default_extension = \"png\";/* global mpl */\n",
       "\n",
       "var comm_websocket_adapter = function (comm) {\n",
       "    // Create a \"websocket\"-like object which calls the given IPython comm\n",
       "    // object with the appropriate methods. Currently this is a non binary\n",
       "    // socket, so there is still some room for performance tuning.\n",
       "    var ws = {};\n",
       "\n",
       "    ws.binaryType = comm.kernel.ws.binaryType;\n",
       "    ws.readyState = comm.kernel.ws.readyState;\n",
       "    function updateReadyState(_event) {\n",
       "        if (comm.kernel.ws) {\n",
       "            ws.readyState = comm.kernel.ws.readyState;\n",
       "        } else {\n",
       "            ws.readyState = 3; // Closed state.\n",
       "        }\n",
       "    }\n",
       "    comm.kernel.ws.addEventListener('open', updateReadyState);\n",
       "    comm.kernel.ws.addEventListener('close', updateReadyState);\n",
       "    comm.kernel.ws.addEventListener('error', updateReadyState);\n",
       "\n",
       "    ws.close = function () {\n",
       "        comm.close();\n",
       "    };\n",
       "    ws.send = function (m) {\n",
       "        //console.log('sending', m);\n",
       "        comm.send(m);\n",
       "    };\n",
       "    // Register the callback with on_msg.\n",
       "    comm.on_msg(function (msg) {\n",
       "        //console.log('receiving', msg['content']['data'], msg);\n",
       "        var data = msg['content']['data'];\n",
       "        if (data['blob'] !== undefined) {\n",
       "            data = {\n",
       "                data: new Blob(msg['buffers'], { type: data['blob'] }),\n",
       "            };\n",
       "        }\n",
       "        // Pass the mpl event to the overridden (by mpl) onmessage function.\n",
       "        ws.onmessage(data);\n",
       "    });\n",
       "    return ws;\n",
       "};\n",
       "\n",
       "mpl.mpl_figure_comm = function (comm, msg) {\n",
       "    // This is the function which gets called when the mpl process\n",
       "    // starts-up an IPython Comm through the \"matplotlib\" channel.\n",
       "\n",
       "    var id = msg.content.data.id;\n",
       "    // Get hold of the div created by the display call when the Comm\n",
       "    // socket was opened in Python.\n",
       "    var element = document.getElementById(id);\n",
       "    var ws_proxy = comm_websocket_adapter(comm);\n",
       "\n",
       "    function ondownload(figure, _format) {\n",
       "        window.open(figure.canvas.toDataURL());\n",
       "    }\n",
       "\n",
       "    var fig = new mpl.figure(id, ws_proxy, ondownload, element);\n",
       "\n",
       "    // Call onopen now - mpl needs it, as it is assuming we've passed it a real\n",
       "    // web socket which is closed, not our websocket->open comm proxy.\n",
       "    ws_proxy.onopen();\n",
       "\n",
       "    fig.parent_element = element;\n",
       "    fig.cell_info = mpl.find_output_cell(\"<div id='\" + id + \"'></div>\");\n",
       "    if (!fig.cell_info) {\n",
       "        console.error('Failed to find cell for figure', id, fig);\n",
       "        return;\n",
       "    }\n",
       "    fig.cell_info[0].output_area.element.on(\n",
       "        'cleared',\n",
       "        { fig: fig },\n",
       "        fig._remove_fig_handler\n",
       "    );\n",
       "};\n",
       "\n",
       "mpl.figure.prototype.handle_close = function (fig, msg) {\n",
       "    var width = fig.canvas.width / fig.ratio;\n",
       "    fig.cell_info[0].output_area.element.off(\n",
       "        'cleared',\n",
       "        fig._remove_fig_handler\n",
       "    );\n",
       "    fig.resizeObserverInstance.unobserve(fig.canvas_div);\n",
       "\n",
       "    // Update the output cell to use the data from the current canvas.\n",
       "    fig.push_to_output();\n",
       "    var dataURL = fig.canvas.toDataURL();\n",
       "    // Re-enable the keyboard manager in IPython - without this line, in FF,\n",
       "    // the notebook keyboard shortcuts fail.\n",
       "    IPython.keyboard_manager.enable();\n",
       "    fig.parent_element.innerHTML =\n",
       "        '<img src=\"' + dataURL + '\" width=\"' + width + '\">';\n",
       "    fig.close_ws(fig, msg);\n",
       "};\n",
       "\n",
       "mpl.figure.prototype.close_ws = function (fig, msg) {\n",
       "    fig.send_message('closing', msg);\n",
       "    // fig.ws.close()\n",
       "};\n",
       "\n",
       "mpl.figure.prototype.push_to_output = function (_remove_interactive) {\n",
       "    // Turn the data on the canvas into data in the output cell.\n",
       "    var width = this.canvas.width / this.ratio;\n",
       "    var dataURL = this.canvas.toDataURL();\n",
       "    this.cell_info[1]['text/html'] =\n",
       "        '<img src=\"' + dataURL + '\" width=\"' + width + '\">';\n",
       "};\n",
       "\n",
       "mpl.figure.prototype.updated_canvas_event = function () {\n",
       "    // Tell IPython that the notebook contents must change.\n",
       "    IPython.notebook.set_dirty(true);\n",
       "    this.send_message('ack', {});\n",
       "    var fig = this;\n",
       "    // Wait a second, then push the new image to the DOM so\n",
       "    // that it is saved nicely (might be nice to debounce this).\n",
       "    setTimeout(function () {\n",
       "        fig.push_to_output();\n",
       "    }, 1000);\n",
       "};\n",
       "\n",
       "mpl.figure.prototype._init_toolbar = function () {\n",
       "    var fig = this;\n",
       "\n",
       "    var toolbar = document.createElement('div');\n",
       "    toolbar.classList = 'btn-toolbar';\n",
       "    this.root.appendChild(toolbar);\n",
       "\n",
       "    function on_click_closure(name) {\n",
       "        return function (_event) {\n",
       "            return fig.toolbar_button_onclick(name);\n",
       "        };\n",
       "    }\n",
       "\n",
       "    function on_mouseover_closure(tooltip) {\n",
       "        return function (event) {\n",
       "            if (!event.currentTarget.disabled) {\n",
       "                return fig.toolbar_button_onmouseover(tooltip);\n",
       "            }\n",
       "        };\n",
       "    }\n",
       "\n",
       "    fig.buttons = {};\n",
       "    var buttonGroup = document.createElement('div');\n",
       "    buttonGroup.classList = 'btn-group';\n",
       "    var button;\n",
       "    for (var toolbar_ind in mpl.toolbar_items) {\n",
       "        var name = mpl.toolbar_items[toolbar_ind][0];\n",
       "        var tooltip = mpl.toolbar_items[toolbar_ind][1];\n",
       "        var image = mpl.toolbar_items[toolbar_ind][2];\n",
       "        var method_name = mpl.toolbar_items[toolbar_ind][3];\n",
       "\n",
       "        if (!name) {\n",
       "            /* Instead of a spacer, we start a new button group. */\n",
       "            if (buttonGroup.hasChildNodes()) {\n",
       "                toolbar.appendChild(buttonGroup);\n",
       "            }\n",
       "            buttonGroup = document.createElement('div');\n",
       "            buttonGroup.classList = 'btn-group';\n",
       "            continue;\n",
       "        }\n",
       "\n",
       "        button = fig.buttons[name] = document.createElement('button');\n",
       "        button.classList = 'btn btn-default';\n",
       "        button.href = '#';\n",
       "        button.title = name;\n",
       "        button.innerHTML = '<i class=\"fa ' + image + ' fa-lg\"></i>';\n",
       "        button.addEventListener('click', on_click_closure(method_name));\n",
       "        button.addEventListener('mouseover', on_mouseover_closure(tooltip));\n",
       "        buttonGroup.appendChild(button);\n",
       "    }\n",
       "\n",
       "    if (buttonGroup.hasChildNodes()) {\n",
       "        toolbar.appendChild(buttonGroup);\n",
       "    }\n",
       "\n",
       "    // Add the status bar.\n",
       "    var status_bar = document.createElement('span');\n",
       "    status_bar.classList = 'mpl-message pull-right';\n",
       "    toolbar.appendChild(status_bar);\n",
       "    this.message = status_bar;\n",
       "\n",
       "    // Add the close button to the window.\n",
       "    var buttongrp = document.createElement('div');\n",
       "    buttongrp.classList = 'btn-group inline pull-right';\n",
       "    button = document.createElement('button');\n",
       "    button.classList = 'btn btn-mini btn-primary';\n",
       "    button.href = '#';\n",
       "    button.title = 'Stop Interaction';\n",
       "    button.innerHTML = '<i class=\"fa fa-power-off icon-remove icon-large\"></i>';\n",
       "    button.addEventListener('click', function (_evt) {\n",
       "        fig.handle_close(fig, {});\n",
       "    });\n",
       "    button.addEventListener(\n",
       "        'mouseover',\n",
       "        on_mouseover_closure('Stop Interaction')\n",
       "    );\n",
       "    buttongrp.appendChild(button);\n",
       "    var titlebar = this.root.querySelector('.ui-dialog-titlebar');\n",
       "    titlebar.insertBefore(buttongrp, titlebar.firstChild);\n",
       "};\n",
       "\n",
       "mpl.figure.prototype._remove_fig_handler = function (event) {\n",
       "    var fig = event.data.fig;\n",
       "    if (event.target !== this) {\n",
       "        // Ignore bubbled events from children.\n",
       "        return;\n",
       "    }\n",
       "    fig.close_ws(fig, {});\n",
       "};\n",
       "\n",
       "mpl.figure.prototype._root_extra_style = function (el) {\n",
       "    el.style.boxSizing = 'content-box'; // override notebook setting of border-box.\n",
       "};\n",
       "\n",
       "mpl.figure.prototype._canvas_extra_style = function (el) {\n",
       "    // this is important to make the div 'focusable\n",
       "    el.setAttribute('tabindex', 0);\n",
       "    // reach out to IPython and tell the keyboard manager to turn it's self\n",
       "    // off when our div gets focus\n",
       "\n",
       "    // location in version 3\n",
       "    if (IPython.notebook.keyboard_manager) {\n",
       "        IPython.notebook.keyboard_manager.register_events(el);\n",
       "    } else {\n",
       "        // location in version 2\n",
       "        IPython.keyboard_manager.register_events(el);\n",
       "    }\n",
       "};\n",
       "\n",
       "mpl.figure.prototype._key_event_extra = function (event, _name) {\n",
       "    var manager = IPython.notebook.keyboard_manager;\n",
       "    if (!manager) {\n",
       "        manager = IPython.keyboard_manager;\n",
       "    }\n",
       "\n",
       "    // Check for shift+enter\n",
       "    if (event.shiftKey && event.which === 13) {\n",
       "        this.canvas_div.blur();\n",
       "        // select the cell after this one\n",
       "        var index = IPython.notebook.find_cell_index(this.cell_info[0]);\n",
       "        IPython.notebook.select(index + 1);\n",
       "    }\n",
       "};\n",
       "\n",
       "mpl.figure.prototype.handle_save = function (fig, _msg) {\n",
       "    fig.ondownload(fig, null);\n",
       "};\n",
       "\n",
       "mpl.find_output_cell = function (html_output) {\n",
       "    // Return the cell and output element which can be found *uniquely* in the notebook.\n",
       "    // Note - this is a bit hacky, but it is done because the \"notebook_saving.Notebook\"\n",
       "    // IPython event is triggered only after the cells have been serialised, which for\n",
       "    // our purposes (turning an active figure into a static one), is too late.\n",
       "    var cells = IPython.notebook.get_cells();\n",
       "    var ncells = cells.length;\n",
       "    for (var i = 0; i < ncells; i++) {\n",
       "        var cell = cells[i];\n",
       "        if (cell.cell_type === 'code') {\n",
       "            for (var j = 0; j < cell.output_area.outputs.length; j++) {\n",
       "                var data = cell.output_area.outputs[j];\n",
       "                if (data.data) {\n",
       "                    // IPython >= 3 moved mimebundle to data attribute of output\n",
       "                    data = data.data;\n",
       "                }\n",
       "                if (data['text/html'] === html_output) {\n",
       "                    return [cell, data, j];\n",
       "                }\n",
       "            }\n",
       "        }\n",
       "    }\n",
       "};\n",
       "\n",
       "// Register the function which deals with the matplotlib target/channel.\n",
       "// The kernel may be null if the page has been refreshed.\n",
       "if (IPython.notebook.kernel !== null) {\n",
       "    IPython.notebook.kernel.comm_manager.register_target(\n",
       "        'matplotlib',\n",
       "        mpl.mpl_figure_comm\n",
       "    );\n",
       "}\n"
      ],
      "text/plain": [
       "<IPython.core.display.Javascript object>"
      ]
     },
     "metadata": {},
     "output_type": "display_data"
    },
    {
     "data": {
      "text/html": [
       "<img src=\"data:image/png;base64,iVBORw0KGgoAAAANSUhEUgAACQAAAAWgCAYAAAAL4nzeAAAAAXNSR0IArs4c6QAAIABJREFUeF7s3X2wrVV9H/Bvwkt8IUOwUwsREV9qGhgpGiUmmLlISKqJtLFpmpeOhKStJDQ10jGkivI2wNhkWmktdqTNYBMmjXamWkdrqGKvGVNrCSpTBJNaUQt2UHAAO9ELRDvP7UPn9nCee8/eZ6+7n9/anzNzQ+bcZ6/9W5/f7/6x1nzd+9vihwABAgQIECBAgAABAgQIECBAgAABAgQIECBAgAABAgQIECBAgACBsgLfVrZyhRMgQIAAAQIECBAgQIAAAQIECBAgQIAAAQIECBAgQIAAAQIECBAgEAEgQ0CAAAECBAgQIECAAAECBAgQIECAAAECBAgQIECAAAECBAgQIECgsIAAUOHmKZ0AAQIECBAgQIAAAQIECBAgQIAAAQIECBAgQIAAAQIECBAgQICAAJAZIECAAAECBAgQIECAAAECBAgQIECAAAECBAgQIECAAAECBAgQIFBYQACocPOUToAAAQIECBAgQIAAAQIECBAgQIAAAQIECBAgQIAAAQIECBAgQEAAyAwQIECAAAECBAgQIECAAAECBAgQIECAAAECBAgQIECAAAECBAgQKCwgAFS4eUonQIAAAQIECBAgQIAAAQIECBAgQIAAAQIECBAgQIAAAQIECBAgIABkBggQIECAAAECBAgQIECAAAECBAgQIECAAAECBAgQIECAAAECBAgUFhAAKtw8pRMgQIAAAQIECBAgQIAAAQIECBAgQIAAAQIECBAgQIAAAQIECBAQADIDBAgQIECAAAECBAgQIECAAAECBAgQIECAAAECBAgQIECAAAECBAoLCAAVbp7SCRAgQIAAAQIECBAgQIAAAQIECBAgQIAAAQIECBAgQIAAAQIECAgAmQECBAgQIECAAAECBAgQIECAAAECBAgQIECAAAECBAgQIECAAAEChQUEgAo3T+kECBAgQIAAAQIECBAgQIAAAQIECBAgQIAAAQIECBAgQIAAAQIEBIDMAAECBAgQIECAAAECBAgQIECAAAECBAgQIECAAAECBAgQIECAAIHCAgJAhZundAIECBAgQIAAAQIECBAgQIAAAQIECBAgQIAAAQIECBAgQIAAAQICQGaAAAECBAgQIECAAAECBAgQIECAAAECBAgQIECAAAECBAgQIECAQGEBAaDCzVM6AQIECBAgQIAAAQIECBAgQIAAAQIECBAgQIAAAQIECBAgQIAAAQEgM0CAAAECBAgQIECAAAECBAgQIECAAAECBAgQIECAAAECBAgQIECgsIAAUOHmKZ0AAQIECBAgQIAAAQIECBAgQIAAAQIECBAgQIAAAQIECBAgQICAAJAZIECAAAECBAgQIECAAAECBAgQIECAAAECBAgQIECAAAECBAgQIFBYQACocPOUToAAAQIECBAgQIAAAQIECBAgQIAAAQIECBAgQIAAAQIECBAgQEAAyAwQIECAAAECBAgQIECAAAECBAgQIECAAAECBAgQIECAAAECBAgQKCwgAFS4eUonQIAAAQIECBAgQIAAAQIECBAgQIAAAQIECBAgQIAAAQIECBAgIABkBggQIECAAAECBAgQIECAAAECBAgQIECAAAECBAgQIECAAAECBAgUFhAAKtw8pRMgQIAAAQIECBAgQIAAAQIECBAgQIAAAQIECBAgQIAAAQIECBAQADIDBAgQIECAAAECBAgQIECAAAECBAgQIECAAAECBAgQIECAAAECBAoLCAAVbp7SCRAgQIAAAQIECBAgQIAAAQIECBAgQIAAAQIECBAgQIAAAQIECAgAmQECBAgQIECAAAECBAgQIECAAAECBAgQIECAAAECBAgQIECAAAEChQUEgAo3T+kECBAgQIAAAQIECBAgQIAAAQIECBAgQIAAAQIECBAgQIAAAQIEBIDMAAECBAgQIECAAAECBAgQIECAAAECBAgQIECAAAECBAgQIECAAIHCAgJAhZundAIECBAgQIAAAQIECBAgQIAAAQIECBAgQIAAAQIECBAgQIAAAQICQGaAAAECBAgQIECAAAECBAgQIECAAAECBAgQIECAAAECBAgQIECAQGEBAaDCzVM6AQIECBAgQIAAAQIECBAgQIAAAQIECBAgQIAAAQIECBAgQIAAAQEgM0CAAAECBAgQIECAAAECBAgQIECAAAECBAgQIECAAAECBAgQIECgsIAAUOHmKZ0AAQIECBAgQIAAAQIECBAgQIAAAQIECBAgQIAAAQIECBAgQICAAJAZIECAAAECBAgQIECAAAECBAgQIECAAAECBAgQIECAAAECBAgQIFBYQACocPOUToAAAQIECBAgQIAAAQIECBAgQIAAAQIECBAgQIAAAQIECBAgQEAAyAwQIECAAAECBAgQIECAAAECBAgQIECAAAECBAgQIECAAAECBAgQKCwgAFS4eUonQIAAAQIECBAgQIAAAQIECBAgQIAAAQIECBAgQIAAAQIECBAgIABkBggQIECAAAECBAgQIECAAAECBAgQIECAAAECBAgQIECAAAECBAgUFhAAKtw8pRMgQIAAAQIECBAgQIAAAQIECBAgQIAAAQIECBAgQIAAAQIECBAQADIDBAgQIECAAAECBAgQIECAAAECBAgQIECAAAECBAgQIECAAAECBAoLCAAVbp7SCRAgQIAAAQIECBAgQIAAAQIECBAgQIAAAQIECBAgQIAAAQIECAgAmQECBAgQIECAAAECBAgQIECAAAECBAgQIECAAAECBAgQIECAAAEChQUEgAo3T+kECBAgQIAAAQIECBAgQIAAAQIECBAgQIAAAQIECBAgQIAAAQIEBIDMAAECBAgQIECAAAECBAgQIECAAAECBAgQIECAAAECBAgQIECAAIHCAgJAhZundAIECBAgQIAAAQIECBAgQIAAAQIECBAgQIAAAQIECBAgQIAAAQICQGaAAAECBAgQIECAAAECBAgQIECAAAECBAgQIECAAAECBAgQIECAQGEBAaDCzVM6AQIECBAgQIAAAQIECBAgQIAAAQIECBAgQIAAAQIECBAgQIAAAQEgM0CAAAECBAgQIECAAAECBAgQIECAAAECBAgQIECAAAECBAgQIECgsIAAUOHmKZ0AAQIECBAgQIAAAQIECBAgQIAAAQIECBAgQIAAAQIECBAgQICAAJAZIECAAAECBAgQIECAAAECBAgQIECAAAECBAgQIECAAAECBAgQIFBYQACocPOUToAAAQIECBAgQIAAAQIECBAgQIAAAQIECBAgQIAAAQIECBAgQEAAyAwQIECAAAECBAgQIECAAAECBAgQIECAAAECBAgQIECAAAECBAgQKCwgAFS4eUonQIAAAQIECBAgQIAAAQIECBAgQIAAAQIECBAgQIAAAQIECBAgIABkBggQIECAAAECBAgQIECAAAECBAgQIECAAAECBAgQIECAAAECBAgUFhAAKtw8pRMgQIAAAQIECBAgQIAAAQIECBAgQIAAAQIECBAgQIAAAQIECBAQADIDBAgQIECAAAECBAgQIECAAAECBAgQIECAAAECBAgQIECAAAECBAoLCAAVbp7SCRAgQIAAAQIECBAgQIAAAQIECBAgQIAAAQIECBAgQIAAAQIECAgAmQECBAgQIECAAAECBAgQIECAAAECBAgQIECAAAECBAgQIECAAAEChQUEgAo3T+kECBAgQIAAAQIECBAgQIAAAQIECBAgQIAAAQIECBAgQIAAAQIEBIDMAAECBAgQIECAAAECBAgQIECAAAECBAgQIECAAAECBAgQIECAAIHCAgJAhZundAIECBAgQIAAAQIECBAgQIAAAQIECBAgQIAAAQIECBAgQIAAAQICQGaAAAECBAgQIECAAAECBAgQIECAAAECBAgQIECAAAECBAgQIECAQGEBAaDCzVM6AQIECBAgQIAAAQIECBAgQIAAAQIECBAgQIAAAQIECBAgQIAAAQEgM0CAAAECBAgQIECAAAECBAgQIECAAAECBAgQIECAAAECBAgQIECgsIAAUOHmKZ0AAQIECBAgQIAAAQIECBAgQIAAAQIECBAgQIAAAQIECBAgQICAAJAZIECAAAECBAgQIECAAAECBAgQIECAAAECBAgQIECAAAECBAgQIFBYQACocPOUToAAAQIECBAgQIAAAQIECBAgQIAAAQIECBAgQIAAAQIECBAgQEAAyAwQIECAAAECBAgQIECAAAECBAgQIECAAAECBAgQIECAAAECBAgQKCwgAFS4eUonQIAAAQIECBAgQIAAAQIECBAgQIAAAQIECBAgQIAAAQIECBAgIABkBggQIECAAAECBAgQIECAAAECBAgQIECAAAECBAgQIECAAAECBAgUFhAAKtw8pRMgQIAAAQIECBAgQIAAAQIECBAgQIAAAQIECBAgQIAAAQIECBAQADIDBAgQIECAAAECBAgQIECAAAECBAgQIECAAAECBAgQIECAAAECBAoLCAAVbp7SCRAgQIAAAQIECBAgQIAAAQIECBAgQIAAAQIECBAgQIAAAQIECAgAmQECBAgQIECAAAECBAgQIECAAAECBAgQIECAAAECBAgQIECAAAEChQUEgAo3T+kECBAgQIAAAQIECBAgQIAAAQIECBAgQIAAAQIECBAgQIAAAQIEBIDMAAECBAgQIECAAAECBAgQIECAAAECBAgQIECAAAECBAgQIECAAIHCAgJAhZundAIECBAgQIAAAQIECBAgQIAAAQIECBAgQIAAAQIECBAgQIAAAQICQGaAAAECBAgQIECAAAECBAgQIECAAAECBAgQIECAAAECBAgQIECAQGEBAaDCzVM6AQIECBAgQIAAAQIECBAgQIAAAQIECBAgQIAAAQIECBAgQIAAAQEgM0CAAAECBAgQIECAAAECBAgQIECAAAECBAgQIECAAAECBAgQIECgsIAAUOHmKZ0AAQIECBAgQIAAAQIECBAgQIAAAQIECBAgQIAAAQIECBAgQICAAJAZIECAAAECBAgQIECAAAECBAgQIECAAAECBAgQIECAAAECBAgQIFBYQACocPOUToAAAQIECBAgQIAAAQIECBAgQIAAAQIECBAgQIAAAQIECBAgQEAAyAwQIECAAAECBAgQIECAAAECBAgQIECAAAECBAgQIECAAAECBAgQKCwgAFS4eUonQIAAAQIECBAgQIAAAQIECBAgQIAAAQIECBAgQIAAAQIECBAgIABkBggQIECAAAECBAgQIECAAAECBAgQIECAAAECBAgQIECAAAECBAgUFhAAKtw8pRMgQIAAAQIECBAgQIAAAQIECBAgQIAAAQIECBAgQIAAAQIECBAQADIDBAgQIECAAAECBAgQIECAAAECBAgQIECAAAECBAgQIECAAAECBAoLCAAVbp7SCRAgQIAAAQIECBAgQIAAAQIECBAgQIAAAQIECBAgQIAAAQIECAgAmQECBAgQIECAAAECBAgQIECAAAECBAgQIECAAAECBAgQIECAAAEChQUEgAo3T+kECBAgQIAAAQIECBAgQIAAAQIECBAgQIAAAQIECBAgQIAAAQIEBIDMAAECBAgQIECAAAECBAgQIECAAAECBAgQIECAAAECBAgQIECAAIHCAgJAhZundAIECBAgQIAAAQIECBAgQIAAAQIECBAgQIAAAQIECBAgQIAAAQICQGaAAAECBAgQIECAAAECBAgQIECAAAECBAgQIECAAAECBAgQIECAQGEBAaDCzVM6AQIECBAgQIAAAQIECBAgQIAAAQIECBAgQIAAAQIECBAgQIAAAQEgM0CAAAECBAgQIECAAAECBAgQIECAAAECBAgQIECAAAECBAgQIECgsIAAUOHmKZ0AAQIECBAgQIAAAQIECBAgQIAAAQIECBAgQIAAAQIECBAgQICAAJAZIECAAAECBAgQIECAAAECBAgQIECAAAECBAgQIECAAAECBAgQIFBYQACocPOUToAAAQIECBAgQIAAAQIECBAgQIAAAQIECBAgQIAAAQIECBAgQEAAyAwQIECAAAECBAgQIECAAAECBAgQIECAAAECBAgQIECAAAECBAgQKCwgAFS4eUonQIAAAQIECBAgQIAAAQIECBAgQIAAAQIECBAgQIAAAQIECBAgIABkBggQIECAAAECBAgQIECAAAECBAgQIECAAAECBAgQIECAAAECBAgUFhAAKtw8pRMgQIAAAQIECBAgQIAAAQIECBAgQIAAAQIECBAgQIAAAQIECBAQADIDBAgQIECAAAECBAgQIECAAAECBAgQIECAAAECBAgQIECAAAECBAoLCAAVbp7SCRAgQIAAAQIECBAgQIAAAQIECBAgQIAAAQIECBAgQIAAAQIECAgAmQECBAgQIECAAAECBAgQIECAAAECBAgQIECAAAECBAgQIECAAAEChQUEgAo3T+kECBAgQIAAAQIECBAgQIAAAQIECBAgQIAAAQIECBAgQIAAAQIEBIDMAAECBAgQIECAAAECBAgQIECAAAECBAgQIECAAAECBAgQIECAAIHCAgJAhZundAIECBAgQIAAAQIECBAgQIAAAQIECBAgQIAAAQIECBAgQIAAAQICQGaAAAECBAgQIECAAAECBAgQIECAAAECBAgQIECAAAECBAgQIECAQGEBAaDCzVM6AQIECBAgQIAAAQIECBAgQIAAAQIECBAgQIAAAQIECBAgQIAAAQEgM0CAAAECBAgQIECAAAECBAgQIECAAAECBAgQIECAAAECBAgQIECgsIAAUOHmKZ0AAQIECBAgQIAAAQIECBAgQIAAAQIECBAgQIAAAQIECBAgQICAAJAZIECAAAECBAgQIECAAAECBAgQIECAAAECBAgQIECAAAECBAgQIFBYQACocPOUToAAAQIECBAgQIAAAQIECBAgQIAAAQIECBAgQIAAAQIECBAgQEAAyAwQIECAAAECBAgQIECAAAECBAgQIECAAAECBAgQIECAAAECBAgQKCwgAFS4eUonQIAAAQIECBAgQIAAAQIECBAgQIAAAQIECBAgQIAAAQIECBAgIABkBggQIECAAAECBAgQIECAAAECBAgQIECAAAECBAgQIECAAAECBAgUFhAAKtw8pRMgQIAAAQIECBAgQIAAAQIECBAgQIAAAQIECBAgQIAAAQIECBAQADIDBAgQIECAAAECBAgQIECAAAECBAgQIECAAAECBAgQIECAAAECBAoLCAAVbp7SCRAgQIAAAQIECBAgQIAAAQIECBAgQIAAAQIECBAgQIAAAQIECAgAmQECBAgQIECAAAECBAgQIECAAAECBAgQIECAAAECBAgQIECAAAEChQUEgAo3T+kECBAgQIAAAQIECBAgQIAAAQIECBAgQIAAAQIECBAgQIAAAQIEBIDMAAECBAgQIECAAAECBAgQIECAAAECBAgQIECAAAECBAgQIECAAIHCAgJAhZundAIECBAgQIAAAQIECBAgQIAAAQIECBAgQIAAAQIECBAgQIAAAQICQGaAAAECBAgQIECAAAECBAgQIECAAAECBAgQIECAAAECBAgQIECAQGEBAaDCzVM6AQIECBAgQIAAAQIECBAgQIAAAQIECBAgQIAAAQIECBAgQIAAAQEgM0CAAAECBAgQIECAAAECBAgQIECAAAECBAgQIECAAAECBAgQIECgsIAAUOHmKZ0AAQIECBAgQIAAAQIECBAgQIAAAQIECBAgQIAAAQIECBAgQICAAJAZIECAAAECBAgQIECAAAECBAgQIECAAAECBAgQIECAAAECBAgQIFBYQACocPOUToAAAQIECBAgQIAAAQIECBAgQIAAAQIECBAgQIAAAQIECBAgQEAAyAwQIECAAAECBAgQIECAAAECBAgQIECAAAECBAgQIECAAAECBAgQKCwgAFS4eUonQIAAAQIECBAgQIAAAQIECBAgQIAAAQIECBAgQIAAAQIECBAgIABkBggQIECAAAECBAgQIECAAAECBAgQIECAAAECBAgQIECAAAECBAgUFhAAKtw8pRMgQIAAAQIECBAgQIAAAQIECBAgQIAAAQIECBAgQIAAAQIECBAQADIDBAgQIECAAAECBAgQIECAAAECBAgQIECAAAECBAgQIECAAAECBAoLCAAVbp7SCRAgQIAAAQIECBAgQIAAAQIECBAgQIAAAQIECBAgQIAAAQIECAgAmQECBAgQIECAAAECBAgQIECAAAECBAgQIECAAAECBAgQIECAAAEChQUEgAo3T+kECBAgQIAAAQIECBAgQIAAAQIECBAgQIAAAQIECBAgQIAAAQIEBIDMAAECBAgQIECAAAECBAgQIECAAAECBAgQIECAAAECBAgQIECAAIHCAgJAhZundAIECBAgQIAAAQIECBAgQIAAAQIECBAgQIAAAQIECBAgQIAAAQICQGaAAAECBAgQIECAAAECBAgQIECAAAECBAgQIECAAAECBAgQIECAQGEBAaDCzVM6AQIECBAgQIAAAQIECBAgQIAAAQIECBAgQIAAAQIECBAgQIAAAQEgM0CAAAECBAgQIECAAAECBAgQIECAAAECBAgQIECAAAECBAgQIECgsIAAUOHmKZ0AAQIECBAgQIAAAQIECBAgQIAAAQIECBAgQIAAAQIECBAgQICAAJAZIECAAAECBAgQIECAAAECBAgQIECAAAECBAgQIECAAAECBAgQIFBYQACocPOUToAAAQIECBAgQIAAAQIECBAgQIAAAQIECBAgQIAAAQIECBAgQEAAyAwQIECAAAECBAgQIECAAAECBAgQIECAAAECBAgQIECAAAECBAgQKCwgAFS4eUonQIAAAQIECBAgQIAAAQIECBAgQIAAAQIECBAgQIAAAQIECBAgIABkBggQIECAAAECBAgQIECAAAECBAgQIECAAAECBAgQIECAAAECBAgUFhAAKtw8pRMgQIAAAQIECBAgQIAAAQIECBAgQIAAAQIECBAgQIAAAQIECBAQADIDBAgQIECAAAECBAgQIECAAAECBAgQIECAAAECBAgQIECAAAECBAoLCAAVbp7SCRAgQIAAAQIECBAgQIAAAQIECBAgQIAAAQIECBAgQIAAAQIECAgAmQECBAgQIECAAAECBAgQIECAAAECBAgQIECAAAECBAgQIECAAAEChQUEgAo3T+kECBAgQIAAAQIECBAgQIAAAQIECBAgQIAAAQIECBAgQIAAAQIEBIDMAAECBAgQIECAAAECBAgQIECAAAECBAgQIECAAAECBAgQIECAAIHCAgJAhZundAIECBAgQIAAAQIECBAgQIAAAQIECBAgQIAAAQIECBAgQIAAAQICQGaAAAECBAgQIECAAAECBAgQIECAAAECBAgQIECAAAECBAgQIECAQGEBAaDCzVM6AQIECBAgQIAAAQIECBAgQIAAAQIECBAgQIAAAQIECBAgQIAAAQEgM0CAAAECBAgQIECAAAECBAgQIECAAAECBAgQIECAAAECBAgQIECgsIAAUOHmKZ0AAQIECBAgQIAAAQIECBAgQIAAAQIECBAgQIAAAQIECBAgQICAAJAZIECAAAECBAgQIECAAAECBAgQIECAAAECBAgQIECAAAECBAgQIFBYQACocPOUTmBC4PwkNyT5oSQfXUDpu5NcluRHkpyQ5ItJbkzyG0n2LbCORwkQIECAAAECBAgQIEBg8wScRTev53ZMgAABAgQIECBAgAABAgQIzEhAAGhGzVAKgRUI/ECS/5jkmAUDQCcm+ViS4b+fTPK5JGcmOT7J3iQ/muSRFdRnCQIECBAgQIAAAQIECBDoT8BZtL+e2hEBAgQIECBAgAABAgQIECBQTEAAqFjDlEvgIAJ/Pck7knzn+MwinwD03iTnJnlTkqvG1z85yXuSnJPkdUn+MX0CBAgQIECAAAECBAgQILBFwFnUSBAgQIAAAQIECBAgQIAAAQIEZiAgADSDJiiBwC4Fhk/tuSbJq5L8aZKvJfkLC3wC0PckuXP81J/nJvnmAfWcNP7+7iQn77JOLydAgAABAgQIECBAgACBfgScRfvppZ0QIECAAAECBAgQIECAAAECHQgIAHXQRFvYeIHhU39+PskfJfnFJG9NsmeBANBrkvzTJNcmuWgbzf+a5EVJTk1yx8ZrAyBAgAABAgQIECBAgACBQcBZ1BwQIECAAAECBAgQIECAAAECBGYkIAA0o2YohcCSAv8wyZeS3Dh+es/eBQNAb0/y6iR/J8lvbVPDb4+fLvQzSd65ZI1eRoAAAQIECBAgQIAAAQJ9CTiL9tVPuyFAgAABAgQIECBAgAABAgSKCwgAFW+g8glsI7BoAOi9Sc5N8uNJ/sM26/2jJBcn+dUk/4w4AQIECBAgQIAAAQIECBBwFjUDBAgQIECAAAECBAgQIECAAIF5CQgAzasfqiGwCoFFA0A3Jzk7yUuTDK/d+nN5ksuSXJLkmkMUeH6S4c9Ofr4vyRFJvprkszt5gWcIECBAoEuB5yQ5JsldSZ7f5Q5tigABAgQIbIbAOs+ig7Dz6GbMmV0SIEBglQLOo6vUtBYBAgQIECBAgMDaBQSA1t4CBRBYucCil64fTHJOkrOSfGSbaq5IcmmSNya5+hDVPhYWWvmmLEiAAAEC3Qs8mOS7ut+lDRIgQIAAgX4F1nkWHVSdR/udLTsjQIBAawHn0dbC1idAgAABAgQIEDgsAgJAh4XZmxA4rAKLXrq+O8lPJHl5kt/fptLHvgLsoiTXHmIni/wvLn8gydHHHntsTj/99MMK5M0IECBAYD4Cn/rUp/Lgg8Nda+5JcuJ8KlMJAQIECBAgsKDAOs+iQ6nOows2zOMECBDYdAHn0U2fAPsnQIAAAQIECPQnIADUX0/tiMCil67XJbkwyS8kecc2fL+d5FVJfibJO1fIu7/OPXv2ZO/e7b65kdq5AAAgAElEQVR5bIXvZCkCBAgQmK3AWWedlY98ZP8H0A3/Z/g0Oj8ECBAgQIBATYEqZ9FB13m05oypmgABAisVcB5dKafFCBAgQIAAAQIEZiAgADSDJiiBwIoFFr10/eUkb0vym0ku3qaWW5K8MMmpSe5YYa0uXFeIaSkCBAhUFXDhWrVz6iZAgAABAo8TqHIWHQp3HjXABAgQIBDnUUNAgAABAgQIECDQm4AAUG8dtR8C40Vmkh9K8tEdgDwzyeeS/HGSU5J884DXnDT+3d1JTt7BWos84sJ1ES3PEiBAoFMBF66dNta2CBAgQGATBRYNAK3rLDr0xnl0EyfUngkQILBFwHnUSBAgQIAAAQIECPQmIADUW0fth8DBA0BDoOdJSe4b/zzm9YEkL0tydZI3jr98cpJ3J/mRJK9J8tYV47pwXTGo5QgQIFBRwIVrxa6pmQABAgQIbCtwsADQnM6iQ/HOo4aYAAECBHwCkBkgQIAAAQIECBDoTkAAqLuW2hCB/3uROfEJQI/93RVJLj/A6llJ/jDJ8UluHz8N6AeTnJBkCAf91SSPrtjWheuKQS1HgACBigICQBW7pmYCBAgQILCtQJWz6FC886ghJkCAAAEBIDNAgAABAgQIECDQnYAAUHcttSECSwWABranJ7kyycuTHDt+9dfvJLk2yTcauLpwbYBqSQIECFQTEACq1jH1EiBAgACBSYFlAkDrOIsO7+k8apAJECBAQADIDBAgQIAAAQIECHQnIADUXUttiEAZAReuZVqlUAIECLQTEABqZ2tlAgQIECBAYFLAedRwECBAgIAAkBkgQIAAAQIECBDoTkAAqLuW2hCBMgIuXMu0SqEECBBoJyAA1M7WygQIECBAgMCkgPOo4SBAgAABASAzQIAAAQIECBAg0J2AAFB3LbUhAmUEXLiWaZVCCRAg0E5AAKidrZUJECBAgACBSQHnUcNBgAABAgJAZoAAAQIECBAgQKA7AQGg7lpqQwTKCLhwLdMqhRIgQKCdgABQO1srEyBAgAABApMCzqOGgwABAgQEgMwAAQIECBAgQIBAdwICQN211IYIlBFw4VqmVQolQIBAOwEBoHa2ViZAgAABAgQmBZxHDQcBAgQICACZAQIECBAgQIAAge4EBIC6a6kNESgj4MK1TKsUSoAAgXYCAkDtbK1MgAABAgQITAo4jxoOAgQIEBAAMgMECBAgQIAAAQLdCQgAdddSGyJQRsCFa5lWKZQAAQLtBASA2tlamQABAgQIEJgUcB41HAQIECAgAGQGCBAgQIAAAQIEuhMQAOqupTZEoIyAC9cyrVIoAQIE2gkIALWztTIBAgQIECAwKeA8ajgIECBAQADIDBAgQIAAAQIECHQnIADUXUttiEAZAReuZVqlUAIECLQTEABqZ2tlAgQIECBAYFLAedRwECBAgIAAkBkgQIAAAQIECBDoTkAAqLuW2hCBMgIuXMu0SqEECBBoJyAA1M7WygQIECBAgMCkgPOo4SBAgAABASAzQIAAAQIECBAg0J2AAFB3LbUhAmUEXLiWaZVCCRAg0E5AAKidrZUJECBAgACBSQHnUcNBgAABAgJAZoAAAQIECBAgQKA7AQGg7lpqQwTKCLhwLdMqhRIgQKCdgABQO1srEyBAgAABApMCzqOGgwABAgQEgMwAAQIECBAgQIBAdwICQN211IYIlBFw4VqmVQolQIBAOwEBoHa2ViZAgAABAgQmBZxHDQcBAgQICACZAQIECBAgQIAAge4EBIC6a6kNESgj4MK1TKsUSoAAgXYCAkDtbK1MgAABAgQITAo4jxoOAgQIEBAAMgMECBAgQIAAAQLdCQgAdddSGyJQRsCFa5lWKZQAAQLtBASA2tlamQABAgQIEJgUcB41HAQIECAgAGQGCBAgQIAAAQIEuhMQAOqupTZEoIyAC9cyrVIoAQIE2gkIALWztTIBAgQIECAwKeA8ajgIECBAQADIDBAgQIAAAQIECHQnIADUXUttiEAZAReuZVqlUAIECLQTEABqZ2tlAgQIECBAYFLAedRwECBAgIAAkBkgQIAAAQIECBDoTkAAqLuW2hCBMgIuXMu0SqEECBBoJyAA1M7WygQIECBAgMCkgPOo4SBAgAABASAzQIAAAQIECBAg0J2AAFB3LbUhAmUEXLiWaZVCCRAg0E5AAKidrZUJECBAgACBSQHnUcNBgAABAgJAZoAAAQIECBAgQKA7AQGg7lpqQwTKCLhwLdMqhRIgQKCdgABQO1srEyBAgAABApMCzqOGgwABAgQEgMwAAQIECBAgQIBAdwICQN211IYIlBFw4VqmVQolQIBAOwEBoHa2ViZAgAABAgQmBZxHDQcBAgQICACZAQIECBAgQIAAge4EBIC6a6kNESgj4MK1TKsUSoAAgXYCAkDtbK1MgAABAgQITAo4jxoOAgQIEBAAMgMECBAgQIAAAQLdCQgAdddSGyJQRsCFa5lWKZQAAQLtBASA2tlamQABAgQIEJgUcB41HAQIECAgAGQGCBAgQIAAAQIEuhMQAOqupTZEoIyAC9cyrVIoAQIE2gkIALWztTIBAgQIECAwKeA8ajgIECBAQADIDBAgQIAAAQIECHQnIADUXUttiEAZAReuZVqlUAIECLQTEABqZ2tlAgQIECBAYFLAedRwECBAgIAAkBkgQIAAAQIECBDoTkAAqLuW2hCBMgIuXMu0SqEECBBoJyAA1M7WygQIECBAgMCkgPOo4SBAgAABASAzQIAAAQIECBAg0J2AAFB3LbUhAmUEXLiWaZVCCRAg0E5AAKidrZUJECBAgACBSQHnUcNBgAABAgJAZoAAAQIECBAgQKA7AQGg7lpqQwTKCLhwLdMqhRIgQKCdgABQO1srEyBAgAABApMCzqOGgwABAgQEgMwAAQIECBAgQIBAdwICQN211IYIlBFw4VqmVQolQIBAOwEBoHa2ViZAgAABAgQmBZxHDQcBAgQICACZAQIECBAgQIAAge4EBIC6a6kNESgj4MK1TKsUSoAAgXYCAkDtbK1MgAABAgQITAo4jxoOAgQIEBAAMgMECBAgQIAAAQLdCQgAdddSGyJQRsCFa5lWKZQAAQLtBASA2tlamQABAgQIEJgUcB41HAQIECAgAGQGCBAgQIAAAQIEuhMQAOqupTa0oQLnJHlDktOSHJ3k1iRvTnLTAh7fm+SyJGcnOS7JvUk+kOTKJP9zgXV2+qgL151KeY4AAQIdCwgAddxcWyNAgACBTRFwHt2UTtsnAQIEOhNwHu2sobZDgAABAgQIECAQASBDQKC+wPlJbkiyL8mHkxyR5KVJjkpyQZLrd7DFM8bXPjnJf0vy2TFM9Owk9yU5M8mf7GCdRR4RAFpEy7MECBDoVMCFa6eNtS0CBAgQ2BQB59FN6bR9EiBAoEMB59EOm2pLBAgQIECAAIENFxAA2vABsP3yAickuSvJN5K8JMnt445elORD46cBPSfJPYfY6R8l+b4kFyW5dnx2CBL98yS/lOR9Sc5dsZYA0IpBLUeAAIGKAi5cK3ZNzQQIECBAYL+A86hBIECAAIHSAs6jpduneAIECBAgQIAAgW0EBICMBYHaAtckeX2Sy5NcsWUrlyS5avwKr+GrvaZ+npLk/iRfTfLntjz055N8OclDSY5dMZUA0IpBLUeAAIGKAi5cK3ZNzQQIECBAYL+A86hBIECAAIHSAs6jpduneAIECBAgQIAAgW0EBICMBYHaAp9I8vwkpye5bctWTkny6SS3JBm+4mvqZwj2PJDkkSRD4OfBAx783iR3JPl8kmeumEoAaMWgliNAgEBFAReuFbumZgIECBAgsF/AedQgECBAgEBpAefR0u1TPAECBAgQIECAwDYCAkDGgkBdgeHf79eTHJXkiUke3rKVI5PsG78e7Jgk3zrIVj+W5MVJbk7y2iT/I8nzkrx9DBf9SpLrVkwlALRiUMsRIECgooAL14pdUzMBAgQIEIjzqCEgQIAAgfICzqPlW2gDBAgQIECAAAECWwQEgIwEgboCj31111eSPHViG/eOfzd8ys/wNV5TP89O8r4kf2nLA19LckGSf9OASQCoAaolCRAgUE3AhWu1jqmXAAECBAjsF3AeNQgECBAgUF7AebR8C22AAAECBAgQIEBgi4AAkJEgUFfg6Um+mOQLSU6e2Mbw1V3PSPK0JF86yFaHTxB6TZIrk3xm/Mqv4ROAhq/9Gj7W/SfH3x1K6/wkw5+d/AxfW3bsnj17snfvkAXyQ4AAAQKbKODCdRO7bs8ECBAg0IGA82gHTbQFAgQIbLqA8+imT4D9EyBAgAABAgT6ExAA6q+ndrQ5AkOo5+4xmDMEdbb7GcJBJyU5Mck9E898x/jVX8NXgP1ckneNz317ksuSXJrks0lO3eZrxrYuefn4mh13QQBox1QeJECAQJcCLly7bKtNESBAgED/As6j/ffYDgkQINC9gPNo9y22QQIECBAgQIDAxgkIAG1cy224I4Hha70eSDJ8zdfxE/t67CvAjhuf3e6xX0ryL5K8Lcnf2+aBm5OcneS8JL9zCD+fANTRgNkKAQIEDoeAC9fDoew9CBAgQIDAygWcR1dOakECBAgQONwCzqOHW9z7ESBAgAABAgQItBYQAGotbH0C7QSGf78PJRm+vusJSR7d8lZHJtk3fmrP8MzUz+8l+ekkr0zynm0eel2S30zyliT/YIXbGb73a49PAFqhqKUIECBQUMCFa8GmKZkAAQIECCTOo6aAAAECBMoLOI+Wb6ENECBAgAABAgQIbBEQADISBGoLfDzJGePXc92xZSvDV3bdnuSW8Zmpnf5+kr+S5Nwk79vmodeO4Z/rkvzKCrkEgFaIaSkCBAhUFXDhWrVz6iZAgAABAnEeNQQECBAgUFrAebR0+xRPgAABAgQIECCwjYAAkLEgUFvgiiSXJrkkyTVbtjL87qokwzOXH2Sb1yb51fFrwC7c5rn3J/mxJK9O8i9XyCUAtEJMSxEgQKCqgAvXqp1TNwECBAgQ2H/WdB41CAQIECBQVsB5tGzrFE6AAAECBAgQIDAhIABkNAjUFjg5yZ3j13ydneTWcTsvTHJzkqOSDM98efz9SUmelOS+8c/w6+cl+VSSbyb5m0nefQDJRUn+SZKvJHl2kq+tkEsAaIWYliJAgEBVAReuVTunbgIECBAgsP+s6TxqEAgQIECgrIDzaNnWKZwAAQIECBAgQGBCQADIaBCoLzB8as/w9VyPjKGf4d/1EAY6Msl5SW48YIv7QzfbfCrQsMZbk3z7GAa6a/xasecm+d9JXpHkIyumEgBaMajlCBAgUFHAhWvFrqmZAAECBAj8PwHnUcNAgAABAmUFnEfLtk7hBAgQIECAAAECEwICQEaDQB8CQ0Dn4iQvSLIvyW1Jrh4DQQfucCoANDxzZpJfG//7XeOnBn1wXOe/N2ASAGqAakkCBAhUE3DhWq1j6iVAgAABAo8TcB41FAQIECBQUsB5tGTbFE2AAAECBAgQIHAQAQEg40GAwLoEBIDWJe99CRAgMCMBF64zaoZSCBAgQIDA5gg4j25Or+2UAAECkwLOo4aDAAECBAgQIECgNwEBoN46aj8E6gi4cK3TK5USIECgmYAL12a0FiZAgAABAgSmBZxHTQcBAgQIxHnUEBAgQIAAAQIECPQmIADUW0fth0AdAReudXqlUgIECDQTcOHajNbCBAgQIECAwLSA86jpIECAAAEBIDNAgAABAgQIECDQnYAAUHcttSECZQRcuJZplUIJECDQTkAAqJ2tlQkQIECAAIFJAedRw0GAAAECAkBmgAABAgQIECBAoDsBAaDuWmpDBMoIuHAt0yqFEiBAoJ2AAFA7WysTIECAAAECkwLOo4aDAAECBASAzAABAgQIECBAgEB3AgJA3bXUhgiUEXDhWqZVCiVAgEA7AQGgdrZWJkCAAAECBCYFnEcNBwECBAgIAJkBAgQIECBAgACB7gQEgLprqQ0RKCPgwrVMqxRKgACBdgICQO1srUyAAAECBAhMCjiPGg4CBAgQEAAyAwQIECBAgAABAt0JCAB111IbIlBGwIVrmVYplAABAu0EBIDa2VqZAAECBAgQmBRwHjUcBAgQICAAZAYIECBAgAABAgS6ExAA6q6lNkSgjIAL1zKtUigBAgTaCQgAtbO1MgECBAgQIDAp4DxqOAgQIEBAAMgMECBAgAABAgQIdCcgANRdS22IQBkBF65lWqVQAgQItBMQAGpna2UCBAgQIEBgUsB51HAQIECAgACQGSBAgAABAgQIEOhOQACou5baEIEyAi5cy7RKoQQIEGgnIADUztbKBAgQIECAwKSA86jhIECAAAEBIDNAgAABAgQIECDQnYAAUHcttSECZQRcuJZplUIJECDQTkAAqJ2tlQkQIECAAIFJAedRw0GAAAECAkBmgAABAgQIECBAoDsBAaDuWmpDBMoIuHAt0yqFEiBAoJ2AAFA7WysTIECAAAECkwLOo4aDAAECBASAzAABAgQIECBAgEB3AgJA3bXUhgiUEXDhWqZVCiVAgEA7AQGgdrZWJkCAAAECBCYFnEcNBwECBAgIAJkBAgQIECBAgACB7gQEgLprqQ0RKCPgwrVMqxRKgACBdgICQO1srUyAAAECBAhMCjiPGg4CBAgQEAAyAwQIECBAgAABAt0JCAB111IbIlBGwIVrmVYplAABAu0EBIDa2VqZAAECBAgQmBRwHjUcBAgQICAAZAYIECBAgAABAgS6ExAA6q6lNkSgjIAL1zKtUigBAgTaCQgAtbO1MgECBAgQIDAp4DxqOAgQIEBAAMgMECBAgAABAgQIdCcgANRdS22IQBkBF65lWqVQAgQItBMQAGpna2UCBAgQIEBgUsB51HAQIECAgACQGSBAgAABAgQIEOhOQACou5baEIEyAi5cy7RKoQQIEGgnIADUztbKBAgQIECAwKSA86jhIECAAAEBIDNAgAABAgQIECDQnYAAUHcttSECZQRcuJZplUIJECDQTkAAqJ2tlQkQIECAAIFJAedRw0GAAAECAkBmgAABAgQIECBAoDsBAaDuWmpDBMoIuHAt0yqFEiBAoJ2AAFA7WysTIECAAAECkwLOo4aDAAECBASAzAABAgQIECBAgEB3AgJA3bXUhgiUEXDhWqZVCiVAgEA7AQGgdrZWJkCAAAECBCYFnEcNBwECBAgIAJkBAgQIECBAgACB7gQEgLprqQ0RKCPgwrVMqxRKgACBdgICQO1srUyAAAECBAhMCjiPGg4CBAgQEAAyAwQIECBAgAABAt0JCAB111IbIlBGwIVrmVYplAABAu0EBIDa2VqZAAECBAgQmBRwHjUcBAgQICAAZAYIECBAgAABAgS6ExAA6q6lNkSgjIAL1zKtUigBAgTaCQgAtbO1MgECBAgQIDAp4DxqOAgQIEBAAMgMECBAgAABAgQIdCcgANRdS22IQBkBF65lWqVQAgQItBMQAGpna2UCBAgQIEBgUsB51HAQIECAgACQGSBAgAABAgQIEOhOQACou5baEIEyAi5cy7RKoQQIEGgnIADUztbKBAgQIECAwKSA86jhIECAAAEBIDNAgAABAgQIECDQnYAAUHcttSECZQRcuJZplUIJECDQTkAAqJ2tlQkQIECAAIFJAedRw0GAAAECAkBmgAABAgQIECBAoDsBAaDuWmpDBMoIuHAt0yqFEiBAoJ2AAFA7WysTIECAAAECkwLOo4aDAAECBASAzAABAgQIECBAgEB3AgJA3bXUhgiUEXDhWqZVCiVAgEA7AQGgdrZWJkCAAAECBCYFnEcNBwECBAgIAJkBAgQIECBAgACB7gQEgLprqQ0RKCPgwrVMqxRKgACBdgICQO1srUyAAAECBAhMCjiPGg4CBAgQEAAyAwQIECBAgAABAt0JCAB111Ib2lCBc5K8IclpSY5OcmuSNye5aQGPo5L8/STnJXlukkeT3DKu88EF1tnpoy5cdyrlOQIECHQsIADUcXNtjQABAgQ2RcB5dFM6bZ8ECBDoTMB5tLOG2g4BAgQIECBAgEAEgAwBgfoC5ye5Icm+JB9OckSSlyYZAj0XJLl+B1v8jiTvT/LDSe5P8tEkxyf5/iTfSvLKJP9+B+ss8ogA0CJaniVAgECnAi5cO22sbREgQIDApgg4j25Kp+2TAAECHQo4j3bYVFsiQIAAAQIECGy4gADQhg+A7ZcXOCHJXUm+keQlSW4fd/SiJB8aPw3oOUnuOcROr0hyaZIhlPPXkjw0Pv9TSd6Z5KtjIGj4VKBV/QgArUrSOgQIECgs4MK1cPOUToAAAQKbLuA8uukTYP8ECBAoLuA8WryByidAgAABAgQIEHicgACQoSBQW+CaJK9PcnmSIcRz4M8lSa5KcmWSyw6yzScmuTfJn41f/fWVLc++O8lfHj8F6LYVcgkArRDTUgQIEKgq4MK1aufUTYAAAQIE4jxqCAgQIECgtIDzaOn2KZ4AAQIECBAgQGAbAQEgY0GgtsAnkjw/yelJtoZzTkny6SS3JDnjINv8iSRDyOetSV5zGDkEgA4jtrciQIDAXAVcuM61M+oiQIAAAQKHFHAePSSRBwgQIEBgzgLOo3PujtoIECBAgAABAgSWERAAWkbNawjMQ2D49/v1JEclGT7F5+EtZR2ZZN/49WDHJPnWRNnDJwS9KcmrkrwryU8mOTPJEUn+cPwKsEcabFkAqAGqJQkQIFBNwIVrtY6plwABAgQI7BdwHjUIBAgQIFBewHm0fAttgAABAgQIECBAYIuAAJCRIFBX4ClJ7k8yfGXXUye2MXy11/B3xyZ5aOKZ303ys0l+Psnrkjxvy3PDJwu9PMn/WjGVANCKQS1HgACBigIuXCt2Tc0ECBAgQCDOo4aAAAECBMoLOI+Wb6ENECBAgAABAgQIbBEQADISBOoKPD3JF5N8IcnJE9v4fJJnJHlaki9NPPP+JD+W5IExUHRhkv+S5FlJ3pLkrCT/OclLDvIpQo8tfX6S4c9OfoavLTt2z5492bt3yAL5IUCAAIFNFHDhuoldt2cCBAgQ6EDAebSDJtoCAQIENl3AeXTTJ8D+CRAgQIAAAQL9CQgA9ddTO9ocgSHUc3eSIeTzzIltD+Ggk5KcmOSeiWduTnL2+FVhpyb53AHPDV8t9plxjR9N8sFD8F6e5LJFWiAAtIiWZwkQINCfgAvX/npqRwQIECCwEQLOoxvRZpskQIBA3wLOo3331+4IECBAgAABApsoIAC0iV23514Ehq/1Gj61Z/iar+MnNvXYV4AdNz673WPvTXJukvckeeU2D1yV5JIk14z/PZifTwDqZbrsgwABAodJwIXrYYL2NgQIECBAYLUCzqOr9bQaAQIECKxBwHl0DejekgABAgQIECBAoKmAAFBTXosTaCow/Pt9KMnwKT1PSPLolnc7Msm+JA+Pz0wV81tJfjHJtUku2uahv5vk+vHPBSvc0fC9X3t8AtAKRS1FgACBggIuXAs2TckECBAgQCBxHjUFBAgQIFBewHm0fAttgAABAgQIECBAYIuAAJCRIFBb4ONJzkgyfHXXHVu2Mvzu9iS3jM9M7fS1Sd6S5F1Jfnqbh96U5MokVyd54wq5BIBWiGkpAgQIVBVw4Vq1c+omQIAAAQJxHjUEBAgQIFBawHm0dPsUT4AAAQIECBAgsI2AAJCxIFBb4Ioklx7wFV0H7mb42q7h67uGZy4/yDa/J8lnxq8IOznJg1ue/WiSM5O8LMlNK+QSAFohpqUIECBQVcCFa9XOqZsAAQIECOw/azqPGgQCBAgQKCvgPFq2dQonQIAAAQIECBCYEBAAMhoEagsMgZ07x6/5OjvJreN2Xpjk5iRHJRme+fL4+5OSPCnJfeOfx3b/viQ/nuQ9SX4uydfHv/i1JL8xvsfzkvzZCrkEgFaIaSkCBAhUFXDhWrVz6iZAgAABAvvPms6jBoEAAQIEygo4j5ZtncIJECBAgAABAgQmBASAjAaB+gIXJrkuySNj6Gf4dz2EgY5Mcl6SGw/Y4v7QzTafCnRCkv+UZPg0oHuTfCzJXxy/WuyBJOccEC5alZgA0KokrUOAAIHCAi5cCzdP6QQIECBAIHEeNQUECBAgUFbAebRs6xROgAABAgQIECAwISAAZDQI9CHwiiQXJ3lBkn1Jbkty9RgIOnCHUwGg4ZnvTPLrSX4qyTOSfDXJh5JcmeSzDZgEgBqgWpIAAQLVBFy4VuuYegkQIECAwOMEnEcNBQECBAiUFHAeLdk2RRMgQIAAAQIECBxEQADIeBAgsC4BAaB1yXtfAgQIzEjAheuMmqEUAgQIECCwOQLOo5vTazslQIDApIDzqOEgQIAAAQIECBDoTUAAqLeO2g+BOgIuXOv0SqUECBBoJuDCtRmthQkQIECAAIFpAedR00GAAAECcR41BAQIECBAgAABAr0JCAD11lH7IVBHwIVrnV6plAABAs0EXLg2o7UwAQIECBAgMC3gPGo6CBAgQEAAyAwQIECAAAECBAh0JyAA1F1LbYhAGQEXrmVapVACBAi0ExAAamdrZQIECBAgQGBSwHnUcBAgQICAAJAZIECAAAECBAgQ6E5AAKi7ltoQgTICLlzLtEqhBAgQaCcgANTO1soECBAgQIDApIDzqOEgQIAAAQEgM0CAAAECBAgQINCdgABQdy21IQJlBFy4lmmVQgkQINBOQACona2VCRAgQIAAgUkB51HDQYAAAQICQGaAAAECBAgQIECgOwEBoO5aakMEygi4cC3TKoUSIECgnYAAUDtbKxMgQIAAAQKTAs6jhoMAAQIEBIDMAAECBAgQIECAQHcCAkDdtdSGCJQRcOFaplUKJUCAQDsBAaB2tlYmQIAAAQIEJgWcRw0HAQIECAgAmQECBAgQIECAAIHuBASAumupDREoI+DCtUyrFEqAAIF2AlIvcIwAACAASURBVAJA7WytTIAAAQIECEwKOI8aDgIECBAQADIDBAgQIECAAAEC3QkIAHXXUhsiUEbAhWuZVimUAAEC7QQEgNrZWpkAAQIECBCYFHAeNRwECBAgIABkBggQIECAAAECBLoTEADqrqU2RKCMgAvXMq1SKAECBNoJCAC1s7UyAQIECBAgMCngPGo4CBAgQEAAyAwQIECAAAECBAh0JyAA1F1LbYhAGQEXrmVapVACBAi0ExAAamdrZQIECBAgQGBSwHnUcBAgQICAAJAZIECAAAECBAgQ6E5AAKi7ltoQgTICLlzLtEqhBAgQaCcgANTO1soECBAgQIDApIDzqOEgQIAAAQEgM0CAAAECBAgQINCdgABQdy21IQJlBFy4lmmVQgkQINBOQACona2VCRAgQIAAgUkB51HDQYAAAQICQGaAAAECBAgQIECgOwEBoO5aakMEygi4cC3TKoUSIECgnYAAUDtbKxMgQIAAAQKTAs6jhoMAAQIEBIDMAAECBAgQIECAQHcCAkDdtdSGCJQRcOFaplUKJUCAQDsBAaB2tlYmQIAAAQIEJgWcRw0HAQIECAgAmQECBAgQIECAAIHuBASAumupDREoI+DCtUyrFEqAAIF2AgJA7WytTIAAAQIECEwKOI8aDgIECBAQADIDBAgQIECAAAEC3QkIAHXXUhsiUEbAhWuZVimUAAEC7QQEgNrZWpkAAQIECBCYFHAeNRwECBAgIABkBggQIECAAAECBLoTEADqrqU2RKCMgAvXMq1SKAECBNoJCAC1s7UyAQIECBAgMCngPGo4CBAgQEAAyAwQIECAAAECBAh0JyAA1F1LbYhAGQEXrmVapVACBAi0ExAAamdrZQIECBAgQGBSwHnUcBAgQICAAJAZIECAAAECBAgQ6E5AAKi7ltoQgTICLlzLtEqhBAgQaCcgANTO1soECBAgQIDApIDzqOEgQIAAAQEgM0CAAAECBAgQINCdgABQdy21IQJlBFy4lmmVQgkQINBOQACona2VCRAgQIAAgUkB51HDQYAAAQICQGaAAAECBAgQIECgOwEBoO5aakMEygi4cC3TKoUSIECgnYAAUDtbKxMgQIAAAQKTAs6jhoMAAQIEBIDMAAECBAgQIECAQHcCAkDdtdSGCJQRcOFaplUKJUCAQDsBAaB2tlYmQIAAAQIEJgWcRw0HAQIECAgAmQECBAgQIECAAIHuBASAumupDREoI+DCtUyrFEqAAIF2AgJA7WytTIAAAQIECEwKOI8aDgIECBAQADIDBAgQIECAAAEC3QkIAHXXUhsiUEbAhWuZVimUAAEC7QQEgNrZWpkAAQIECBCYFHAeNRwECBAgIABkBggQIECAAAECBLoTEADqrqU2RKCMgAvXMq1SKAECBNoJCAC1s7UyAQIECBAgMCngPGo4CBAgQEAAyAwQIECAAAECBAh0JyAA1F1LbYhAGQEXrmVapVACBAi0ExAAamdrZQIECBAgQGBSwHnUcBAgQICAAJAZIECAAAECBAgQ6E5AAKi7ltoQgTICLlzLtEqhBAgQaCcgANTO1soECBAgQIDApIDzqOEgQIAAAQEgM0CAAAECBAgQINCdgABQdy21IQJlBFy4lmmVQgkQINBOQACona2VCRAgQIAAgUkB51HDQYAAAQICQGaAAAECBAgQIECgOwEBoO5aakMEygi4cC3TKoUSIECgnYAAUDtbKxMgQIAAAQKTAs6jhoMAAQIEBIDMAAECBAgQIECAQHcCAkDdtdSGCJQRcOFaplUKJUCAQDsBAaB2tlYmQIAAAQIEJgWcRw0HAQIECAgAmQECBAgQIECAAIHuBASAumupDW2owDlJ3pDktCRHJ7k1yZuT3LQLj7cneXWSX0jyjl2sM/VSF64NUC1JgACBagICQNU6pl4CBAgQIPA4AedRQ0GAAAECJQWcR0u2TdEECBAgQIAAAQIHERAAMh4E6gucn+SGJPuSfDjJEUlemuSoJBckuX6JLb4syQfG1wkALQHoJQQIECCwMwEXrjtz8hQBAgQIEJipgPPoTBujLAIECBA4tIDz6KGNPEGAAAECBAgQIFBLQACoVr9US2CrwAlJ7kryjSQvSXL7+MCLknxo/DSg5yS5ZwG6p4zrDGsPPwJAC+B5lAABAgQWE3DhupiXpwkQIECAwIwEnEdn1AylECBAgMDiAs6ji5t5BQECBAgQIECAwLwFBIDm3R/VETiUwDVJXp/k8iRXbHn4kiRXJbkyyWWHWuiAv/+9JK9M8skk3y8AtICcRwkQIEBgYQEXrguTeQEBAgQIEJiLgPPoXDqhDgIECBBYSsB5dCk2LyJAgAABAgQIEJixgADQjJujNAI7EPhEkucnOT3JbVuePyXJp5PckuSMHaw1PPKzSX43yRAeelaSvy0AtEM5jxEgQIDAUgIuXJdi8yICBAgQIDAHAefROXRBDQQIECCwtIDz6NJ0XkiAAAECBAgQIDBTAQGgmTZGWQR2IDD8+/16kqOSPDHJw1tec2SSfePXgx2T5FuHWPO7x6/++pMkZyZ5uwDQDrrgEQIECBDYlYAL113xeTEBAgQIEFiXgPPouuS9LwECBAisTMB5dGWUFiJAgAABAgQIEJiJgADQTBqhDAJLCDwlyf1JvpLkqROvv3f8u2OTPHSI9/hAkj3jJwr9cZJ/JQC0RFe8hAABAgQWEnDhuhCXhwkQIECAwFwEnEfn0gl1ECBAgMDSAs6jS9N5IQECBAgQIECAwEwFBIBm2hhlEdiBwNOTfDHJF5KcPPH855M8I8nTknzpIGv+cpK3JbkoybXjc8sEgM5PMvzZyc/wtWXH7tmzJ3v37t3J854hQIAAgQ4FXLh22FRbIkCAAIFNEHAe3YQu2yMBAgQ6F3Ae7bzBtkeAAAECBAgQ2EABAaANbLotdyMwhHruTjKEfJ45sashHHRSkhOT3DPxzLOT3Jbk1iRnHfBVYcsEgC5PctkiwgJAi2h5lgABAv0JuHDtr6d2RIAAAQIbIeA8uhFttkkCBAj0LeA82nd/7Y4AAQIECBAgsIkCAkCb2HV77kVg+FqvB5IMX/N1/MSmHvsKsOPGZ7c+dkSSP0hy2vjnrgMeWCYA5BOAepku+yBAgMBhEnDhepigvQ0BAgQIEFitgPPoaj2tRoAAAQJrEHAeXQO6tyRAgAABAgQIEGgqIADUlNfiBJoKDP9+H0ryxCRPSPLolnc7Msm+JA+Pz2xXzN9I8m+TfC7Jx7Y88OIkw6cDDb8f/v7fjX9Wtanhe7/2+ASgVXFahwABAjUFXLjW7JuqCRAgQGDjBZxHN34EABAgQKC+gPNo/R7aAQECBAgQIECAwP8vIABkIgjUFvh4kjOSnJrkji1bGX53e5Jbxme22+nwiT037JDgiiTDV3yt6kcAaFWS1iFAgEBhAReuhZundAIECBDYdAHn0U2fAPsnQIBAcQHn0eINVD4BAgQIECBAgMDjBASADAWB2gJDKOfSJJckuWbLVobfXZVk2eDOMl8BtoimANAiWp4lQIBApwIuXDttrG0RIECAwCYIOI9uQpftkQABAh0LOI923FxbI0CAAAECBAhsqIAA0IY23ra7ETg5yZ3j13ydneTWcWcvTHJzkqOSDM98efz9SUmelOS+8c/BIASAuhkTGyFAgMB8BVy4zrc3KiNAgAABAocQcB41IgQIECBQWsB5tHT7FE+AAAECBAgQILCNgACQsSBQX+DCJNcleWQM/Qz/rocw0JFJzkty4wFb3P+pOzv8VCABoPqzYQcECBCYvYAL19m3SIEECBAgQOBgAs6j5oMAAQIEygo4j5ZtncIJECBAgAABAgQmBASAjAaBPgRekeTiJC9Isi/JbUmuHgNBB+5QAKiPftsFAQIEuhFw4dpNK22EAAECBDZXwHl0c3tv5wQIECgt4Dxaun2KJ0CAAAECBAgQ2EZAAMhYECCwLoH9YaQ9e/Zk797h//VDgAABApso4MJ1E7tuzwQIECBAYO0CzqNrb4ECCBAgsH4B59H190AFBAgQIECAAAECqxUQAFqtp9UIENi5gAvXnVt5kgABAt0KuHDttrU2RoAAAQIE5izgPDrn7qiNAAECh0nAefQwQXsbAgQIECBAgACBwyYgAHTYqL0RAQJbBFy4GgkCBAgQiAtXQ0CAAAECBAisQcB5dA3o3pIAAQJzE3AenVtH1EOAAAECBAgQILBbAQGg3Qp6PQECywq4cF1WzusIECDQkYAL146aaSsECBAgQKCOgPNonV6plAABAs0EnEeb0VqYAAECBAgQIEBgTQICQGuC97YECMSFqyEgQIAAAZ8AZAYIECBAgACBdQg4j65D3XsSIEBgZgICQDNriHIIECBAgAABAgR2LSAAtGtCCxAgsKSAC9cl4byMAAECPQm4cO2pm/ZCgAABAgTKCDiPlmmVQgkQINBOwHm0na2VCRAgQIAAAQIE1iMgALQed+9KgEB8ApAhIECAAIH4BCBDQIAAAQIECKxDQABoHerekwABAjMTEACaWUOUQ4AAAQIECBAgsGsBAaBdE1qAAIElBVy4LgnnZQQIEOhJwIVrT920FwIECBAgUEbAebRMqxRKgACBdgLOo+1srUyAAAECBAgQILAeAQGg9bh7VwIEfAKQGSBAgACB+AQgQ0CAAAECBAisRUAAaC3s3pQAAQLzEhAAmlc/VEOAAAECBAgQILB7AQGg3RtagQCB5QRcuC7n5lUECBDoSsCFa1fttBkCBAgQIFBFwHm0SqfUSYAAgYYCzqMNcS1NgAABAgQIECCwFgEBoLWwe1MCBOITgAwBAQIECPgEIDNAgAABAgQIrEdAAGg97t6VAAECsxIQAJpVOxRDgAABAgQIECCwAgEBoBUgWoIAgaUEXLguxeZFBAgQ6EvAhWtf/bQbAgQIECBQRMB5tEijlEmAAIGWAs6jLXWtTYAAAQIECBAgsA4BAaB1qHtPAgQGAReu5oAAAQIE4sLVEBAgQIAAAQJrEHAeXQO6tyRAgMDcBJxH59YR9RAgQIAAAQIECOxWQABot4JeT4DAsgIuXJeV8zoCBAh0JODCtaNm2goBAgQIEKgj4Dxap1cqJUCAQDMB59FmtBYmQIAAAQIECBBYk4AA0JrgvS0BAj4ByAwQIECAQHwCkCEgQIAAAQIE1iEgALQOde9JgACBmQkIAM2sIcohQIAAAQIECBDYtYAA0K4JLUCAwJICLlyXhPMyAgQI9CTgwrWnbtoLAQIECBAoI+A8WqZVCiVAgEA7AefRdrZWJkCAAAECBAgQWI+AANB63L0rAQLxCUCGgAABAgR8ApAZIECAAAECBNYiIAC0FnZvSoAAgXkJCADNqx+qIUCAAAECBAgQ2L2AANDuDa1AgMByAi5cl3PzKgIECHQl4MK1q3baDAECBAgQqCLgPFqlU+okQIBAQwHn0Ya4liZAgAABAgQIEFiLgADQWti9KQEC8QlAhoAAAQIE4hOADAEBAgQIECCwFgEBoLWwe1MCBAjMS0AAaF79UA0BAgQIECBAgMDuBQSAdm9oBQIElhNw4bqcm1cRIECgKwEXrl2102YIECBAgEAVAefRKp1SJwECBBoKOI82xLU0AQIECBAgQIDAWgQEgNbC7k0JEPAJQGaAAAECBAYBF67mgAABAgQIEFiDgADQGtC9JQECBOYm4Dw6t46ohwABAgQIECBAYLcCAkC7FfR6AgSWFXDhuqyc1xEgQKAjAReuHTXTVggQIECAQB0B59E6vVIpAQIEmgk4jzajtTABAgQIECBAgMCaBASA1gTvbQkQiAtXQ0CAAAECPgHIDBAgQIAAAQLrEHAeXYe69yRAgMDMBASAZtYQ5RAgQIAAAQIECOxaQABo14QWIEBgSQEXrkvCeRkBAgR6EnDh2lM37YUAAQIECJQRcB4t0yqFEiBAoJ2A82g7WysTIECAAAECBAisR0AAaD3u3pUAgfgEIENAgAABAvEJQIaAAAECBAgQWIeAANA61L0nAQIEZiYgADSzhiiHAAECBAgQIEBg1wICQLsmtAABAksKuHBdEs7LCBAg0JOAC9eeumkvBAgQIECgjIDzaJlWKZQAAQLtBJxH29lamQABAgQIECBAYD0CAkDrcfeuBAj4BCAzQIAAAQLxCUCGgAABAgQIEFiLgADQWti9KQECBOYlIAA0r36ohgABAgQIECBAYPcCAkC7N7QCAQLLCbhwXc7NqwgQINCVgAvXrtppMwQIECBAoIqA82iVTqmTAAECDQWcRxviWpoAAQIECBAgQGAtAgJAa2H3pgQIxCcAGQICBAgQ8AlAZoAAAQIECBBYj4AA0HrcvSsBAgRmJSAANKt2KIYAAQIECBAgQGAFAgJAK0C0BAECSwm4cF2KzYsIECDQl4AL1776aTcECBAgQKCIgPNokUYpkwABAi0FnEdb6lqbAAECBAgQIEBgHQICQOtQ954ECAwCLlzNAQECBAjEhashIECAAAECBNYg4Dy6BnRvSYAAgbkJOI/OrSPqIUCAAAECBAgQ2K2AANBuBb2ewDwEzknyhiSnJTk6ya1J3pzkpgXKe3GSX0/yg0mOS3J/kg8nuSrJnQuss9NHXbjuVMpzBAgQ6FjAhWvHzbU1AgQIENgUAefRTem0fRIgQKAzAefRzhpqOwQIECBAgAABAhEAMgQE6gucn+SGJPvGwM4RSV6a5KgkFyS5fgdb/FtJ/nWS4bWfTPKFJKckeW6SP03y8iR/sIN1FnlEAOj/sHc/QLvmdUH/3yO7Kn+cDSoFhWUR0oSBUIFUsAVCE5XSzL+/AdEUlBSliFKU3WVgx3RKlDChHAiZEpsJYiAkwJbUyDYUJgQ14l9A8c8BbIIFhN9c63Xq+PDcZ5/73vs6z/O97tczc8Q557q/9/fz+nzu8zyf737OdW2j5VoCBAisVMCB60oTKywCBAgQOBQB/eihZFqcBAgQWKGAfnSFSRUSAQIECBAgQODABQwAHXgBCH94gTtUb6k+Uj2gev0c0X2rV8x3A7pb9c4LRPpnqjdXt66+qXrhfO3098Pfr66t3l5N63xsj2IGgPaIaSkCBAiMKuDAddTM2TcBAgQIEEg/qggIECBAYGgB/ejQ6bN5AgQIECBAgACBYwQMACkLAmMLTMM5P1JdXV1zJJQnzo/venJ11QXCnO4S9PPVc6vvPOa636q+uHpg9ao9chkA2iOmpQgQIDCqgAPXUTNn3wQIECBA4MZ/LKIfVQgECBAgMKyAfnTY1Nk4AQIECBAgQIDABgEDQEqDwNgC54Zz7l297kgo0yO8fqe6vrrfBcL8/up7q5+ZHwN29NLnV99SfUf1L/fIZQBoj5iWIkCAwKgCDlxHzZx9EyBAgACB9KOKgAABAgSGFtCPDp0+mydAgAABAgQIEDhGwACQsiAwrsD0+f1wdWl1y+qjR0K5pLphfjzYbapP7hDqp1W/X921+kvVr+2wxqaXGADaI6alCBAgMKqAA9dRM2ffBAgQIHDgAvrRAy8A4RMgQGANAvrRNWRRDAQIECBAgAABAucLGABSDwTGFbhd9f7qvdVnbwjj3fOfXVZ9aIdQv7v6hepd1Z2rj++wxqaXGADaI6alCBAgMKqAA9dRM2ffBAgQIHDgAvrRAy8A4RMgQGANAvrRNWRRDAQIECBAgAABAucLGABSDwTGFbhT9fbqbdUVG8J46zy483nzEM820X5pNQ3pTHcPekT1iyd48SOr6ddJvqbHll125ZVXdt1109v4IkCAAIFDFHDgeohZFzMBAgQIrEBAP7qCJAqBAAEChy6gHz30ChA/AQIECBAgQGB9AgaA1pdTER2OwDTU845qGvK5y4awp+Ggy6s7Vu/cgua+1a9U07/q/Pnq+0/42qurq0547Y2XGQDaRsu1BAgQWJ+AA9f15VREBAgQIHAQAvrRg0izIAkQILBuAf3ouvMrOgIECBAgQIDAIQoYADrErIt5LQLTY70+UE2P+br9hqDOPQLstvO1J4n9a6vnz3f+eXb1PdUnTvLC+e4/7gB0QiyXESBAgEA5cFUFBAgQIEBgSAH96JBps2kCBAgQOF9AP6oeCBAgQIAAAQIE1iZgAGhtGRXPIQlMn98PVbesPrP6+JHgL6luqD46X3MSm0dXz6huUf2j6vHVJ0/ywh2umZ77daU7AO0g5yUECBBYkYAD1xUlUygECBAgcEgC+tFDyrZYCRAgsFIB/ehKEyssAgQIECBAgMABCxgAOuDkC30VAr9Z3a+6R/WGIxFNv/f66vr5mpsK+EnVNfPdfv5O9bSbesHN/HMDQDcT0MsJECCwBgEHrmvIohgIECBA4EAF9KMHmnhhEyBAYC0C+tG1ZFIcBAgQIECAAAEC5wQMAKkFAmMLTAM70+DOE6trj4Qy/d5T5qGeq28izB+sfrb6WPXw+RFgS8sYAFpa2PoECBAYQMCB6wBJskUCBAgQIHC8gH5UZRAgQIDA0AL60aHTZ/MECBAgQIAAAQLHCBgAUhYExha4onrj/JivB1evmcO5T/XK6tJquuY98+9fXt2qet/8a/rte86vm6799uqXLhKJAaCLBO1tCBAgcJYFHLie5ezYGwECBAgQuKCAflSBECBAgMDQAvrRodNn8wQIECBAgAABAscIGABSFgTGF3hM9Yz57j3T0M/0uZ6GgS6pHlE977wQbxy6OXJXoGng51urD1QvuQDHM6tf2yOXAaA9YlqKAAECowo4cB01c/ZNgAABAgRuFNCPKgQCBAgQGFZAPzps6mycAAECBAgQIEBgg4ABIKVBYB0CX189ofqS6obqddVT57sAnR/hcQNA/6v6nBMwfFf1nBNcd9JLDACdVMp1BAgQWLGAA9cVJ1doBAgQIHAoAvrRQ8m0OAkQILAyAf3oyhIqHAIECBAgQIAAgRvvFOKLAAECpyFgAOg01L0nAQIEzpiAA9czlhDbIUCAAAEChyGgHz2MPIuSAAECFxTQjyoQAgQIECBAgACBtQkYAFpbRsVDYBwBB67j5MpOCRAgsJiAA9fFaC1MgAABAgQIbBbQj6oOAgQIEEg/qggIECBAgAABAgTWJmAAaG0ZFQ+BcQQcuI6TKzslQIDAYgIOXBejtTABAgQIECCwWUA/qjoIECBAwACQGiBAgAABAgQIEFidgAGg1aVUQASGEXDgOkyqbJQAAQLLCRgAWs7WygQIECBAgMBGAf2o4iBAgAABA0BqgAABAgQIECBAYHUCBoBWl1IBERhGwIHrMKmyUQIECCwnYABoOVsrEyBAgAABAhsF9KOKgwABAgQMAKkBAgQIECBAgACB1QkYAFpdSgVEYBgBB67DpMpGCRAgsJyAAaDlbK1MgAABAgQIbBTQjyoOAgQIEDAApAYIECBAgAABAgRWJ2AAaHUpFRCBYQQcuA6TKhslQIDAcgIGgJaztTIBAgQIECCwUUA/qjgIECBAwACQGiBAgAABAgQIEFidgAGg1aVUQASGEXDgOkyqbJQAAQLLCRgAWs7WygQIECBAgMBGAf2o4iBAgAABA0BqgAABAgQIECBAYHUCBoBWl1IBERhGwIHrMKmyUQIECCwnYABoOVsrEyBAgAABAhsF9KOKgwABAgQMAKkBAgQIECBAgACB1QkYAFpdSgVEYBgBB67DpMpGCRAgsJyAAaDlbK1MgAABAgQIbBTQjyoOAgQIEDAApAYIECBAgAABAgRWJ2AAaHUpFRCBYQQcuA6TKhslQIDAcgIGgJaztTIBAgQIECCwUUA/qjgIECBAwACQGiBAgAABAgQIEFidgAGg1aVUQASGEXDgOkyqbJQAAQLLCRgAWs7WygQIECBAgMBGAf2o4iBAgAABA0BqgAABAgQIECBAYHUCBoBWl1IBERhGwIHrMKmyUQIECCwnYABoOVsrEyBAgAABAhsF9KOKgwABAgQMAKkBAgQIECBAgACB1QkYAFpdSgVEYBgBB67DpMpGCRAgsJyAAaDlbK1MgAABAgQIbBTQjyoOAgQIEDAApAYIECBAgAABAgRWJ2AAaHUpFRCBYQQcuA6TKhslQIDAcgIGgJaztTIBAgQIECCwUUA/qjgIECBAwACQGiBAgAABAgQIEFidgAGg1aVUQASGEXDgOkyqbJQAAQLLCRgAWs7WygQIECBAgMBGAf2o4iBAgAABA0BqgAABAgQIECBAYHUCBoBWl1IBERhGwIHrMKmyUQIECCwnYABoOVsrEyBAgAABAhsF9KOKgwABAgQMAKkBAgQIECBAgACB1QkYAFpdSgVEYBgBB67DpMpGCRAgsJyAAaDlbK1MgAABAgQIbBTQjyoOAgQIEDAApAYIECBAgAABAgRWJ2AAaHUpFRCBYQQcuA6TKhslQIDAcgIGgJaztTIBAgQIECCwUUA/qjgIECBAwACQGiBAgAABAgQIEFidgAGg1aVUQASGEXDgOkyqbJQAAQLLCRgAWs7WygQIECBAgMBGAf2o4iBAgAABA0BqgAABAgQIECBAYHUCBoBWl1IBERhGwIHrMKmyUQIECCwnYABoOVsrEyBAgAABAhsF9KOKgwABAgQMAKkBAgQIECBAgACB1QkYAFpdSgVEYBgBB67DpMpGCRAgsJyAAaDlbK1MgAABAgQIbBTQjyoOAgQIEDAApAYIECBAgAABAgRWJ2AAaHUpFRCBYQQcuA6TKhslQIDAcgIGgJaztTIBAgQIECCwUUA/qjgIECBAwACQGiBAgAABAgQIEFidgAGg1aVUQASGEXDgOkyqbJQAAQLLCRgAWs7WygQIECBAgMBGAf2o4iBAgAABA0BqgAABAgQIECBAYHUCBoBWl1IBERhGwIHrMKmyUQIECCwnYABoOVsrEyBAgAABAhsF9KOKgwABAgQMAKkBAgQIECBAgACB1QkYAFpdSgVEYBgBB67DpMpGCRAgsJyAAaDlbK1MgAAB3mPbIgAAIABJREFUAgQIbBTQjyoOAgQIEDAApAYIECBAgAABAgRWJ2AAaHUpFRCBYQQcuA6TKhslQIDAcgIGgJaztTIBAgQIECCwUUA/qjgIECBAwACQGiBAgAABAgQIEFidgAGg1aVUQASGEXDgOkyqbJQAAQLLCRgAWs7WygQIECBAgMBGAf2o4iBAgAABA0BqgAABAgQIECBAYHUCBoBWl1IBERhGwIHrMKmyUQIECCwnYABoOVsrEyBAgAABAhsF9KOKgwABAgQMAKkBAgQIECBAgACB1QkYAFpdSgVEYBgBB67DpMpGCRAgsJyAAaDlbK1MgAABAgQIbBTQjyoOAgQIEDAApAYIECBAgAABAgRWJ2AAaHUpFRCBYQQcuA6TKhslQIDAcgIGgJaztTIBAgQIECCwUUA/qjgIECBAwACQGiBAgAABAgQIEFidgAGg1aVUQAcq8JDqR6t7VZ9evab6ieplW3h8bnVV9VXVHaq3V8+rfrK6YYt1TnqpA9eTSrmOAAECKxYwALTi5AqNAAECBA5FQD96KJkWJwECBFYmoB9dWUKFQ4AAAQIECBAgkAEgRUBgfIFHVs+eh3R+tbpF9aDq0urR1bNOEOIdq1dX0//+dvXm6v7V7atpUOerq4+dYJ1tLjEAtI2WawkQILBSAQeuK02ssAgQIEDgUAT0o4eSaXESIEBghQL60RUmVUgECBAgQIAAgQMXMAB04AUg/OEFpjv1vKX6SPWA6vVzRPetXjHfDehu1TtvItIXVQ+rfrx6ynztrasXVtO/5nx89Q/3rGUAaM+gliNAgMCIAg5cR8yaPRMgQIAAgRsF9KMKgQABAgSGFtCPDp0+mydAgAABAgQIEDhGwACQsiAwtsC11Y9UV1fXHAnlifMwz5PnR3ttivQLqzfOd/35guoT5114+fz776iu2DOVAaA9g1qOAAECIwo4cB0xa/ZMgAABAgRuFNCPKgQCBAgQGFpAPzp0+myeAAECBAgQIEDgGAEDQMqCwNgCv1V9cXXv6nVHQrl79TvV9dX9LhDmY6ufqZ5WPe6Y6/5zNd1R6B7VG/bIZQBoj5iWIkCAwKgCDlxHzZx9EyBAgACB9KOKgAABAgSGFtCPDp0+mydAgAABAgQIEDhGwACQsiAwrsD0+f1wdWl1y+qjR0K5pLphfjzYbapPbgj1mdWjqu+pfuGYa55bPbz6tur5e+QyALRHTEsRIEBgVAEHrqNmzr4JECBA4MAF9KMHXgDCJ0CAwBoE9KNryKIYCBAgQIAAAQIEzhcwAKQeCIwrcLvq/dV7q8/eEMa75z+7rPrQhmteVD2s+rrq3x5zzT+onlD9UPWze+QyALRHTEsRIEBgVAEHrqNmzr4JECBA4MAF9KMHXgDCJ0CAwBoE9KNryKIYCBAgQIAAAQIEzhcwAKQeCIwrcKfq7dXbqis2hPHW6s7V51Xv2nDNK6sHVw+qpqGco19XV1dVT6yuvQmuR1bTr5N8fXn16Zdddln3vvf0BDNfBAgQIHCIAq997Wv74Ac/OIX+zuqOh2ggZgIECBAgMKCAfnTApNkyAQIECPxJAf2oiiBAgAABAgQIEFibgAGgtWVUPIckMA31vKOahnzusiHwaTjo8vk/qE7/YfW4r5dXD6keWL3qmAuuqZ5U/Vj11JsAPjcsdEh5ECsBAgQI7EdgeqzlrfazlFUIECBAgACBhQX0owsDW54AAQIELqqAfvSicnszAgQIECBAgACBpQQMAC0la10CywtMj/X6QDU95uv2G97u3CPAbjtfe9xlL6i+oXpo9SvHXHDuEWCPq552E2FtcwegB1S3qD5avXp5rtW8w3S7pCn30+0yXruaqJYNhNluvty47Saw/atuvCNc9b+rz9r+5V5BgAABAgQInIKAfvQU0E/5LfUHuyWAG7fdBLZ/lVrb3mx6hX50NzevIkCAAAECBAgQOKMCBoDOaGJsi8AJBKbP74eqW1afWX38yGsuqW6YB2ymazZ9PaN6TPVd1XOOuei51cOrb6uef4J9nfSS6XFjV853HZruPuTrZALcTuZ0/lXMtjebXsGN224C279KrW1v5hUECBAgQOC0BfSjp52Bi//+fmbbzZwbt90Etn+VWtvezNnHbmZeRYAAAQIECBAgcIYFDACd4eTYGoETCPxmdb/qHtUbjlw//d7rq+vnazYt9/3Vz1U/VT3hmIum199nw3ucYIsbL3EwsZset+3dmG1v5hBsNzNuu7n5jO7m5lUECBAgQOC0BfSjp52Bi/v+fmbbzZsbt90Etn+VWtveTA+/m5lXESBAgAABAgQInGEBA0BnODm2RuAEAtdUT6qeWF175Prp955STddcfYG17lK9ufq96u7VJ8679vL5z95RXXGC/WxziYOJbbT+37Xctndjtr2ZQ7DdzLjt5uYzupubVxEgQIAAgdMW0I+edgYu7vv7mW03b27cdhPY/lVqbXszPfxuZl5FgAABAgQIECBwhgUMAJ3h5NgagRMITEM5b5wf8/Xg6jXza6Y79ryyunQe3HnP/PvTQM+tqvfNv869xUurr6meWv3Y/Ju3rl5QfVX12OrpJ9jPNpc4mNhG6/9dy217N2bbmzkE282M225uPqO7uXkVAQIECBA4bQH96Gln4OK+v5/ZdvPmxm03ge1fpda2N9PD72bmVQQIECBAgAABAmdYwADQGU6OrRE4ocBjqmdUH5uHfqbP9TQMdEn1iOp5561z7jDg6F2BPr/6jer282PDprsBfUV1h2oaDvqr1cdPuJ+TXuZg4qRSf/I6btu7MdvezCHYbmbcdnPzGd3NzasIECBAgMBZENCPnoUsXJw9+JltN2du3HYT2P5Vam17Mz38bmZeRYAAAQIECBAgcIYFDACd4eTYGoEtBL6+ekL1JdUN1evmu/lMdwE6/2vTANB0zZ2qJ1cPrS6bH/31i9XTqo9ssZeTXupg4qRSx+fwVdUDd1vi4F6l1nZLOTduuwls/yq1tr2ZVxAgQIAAgbMkoB89S9lYbi9+ZtvNlhu33QS2f5Va295segW33dy8igABAgQIECBA4IwKGAA6o4mxLQIHIKDB3i3J3LZ3Y7a9mUOw3cy47ebmM7qbm1cRIECAAAECuwv4+WN7O2bbm+kPdjPjtpubzyi33QS8igABAgQIECBAYFUCBoBWlU7BEBhKwMHEbunitr0bs+3NHLjuZsZtNzef0d3cvIoAAQIECBDYXcDPH9vbMdveTH+wmxm33dx8RrntJuBVBAgQIECAAAECqxIwALSqdAqGwFACDiZ2Sxe37d2YbW/mwHU3M267ufmM7ubmVQQIECBAgMDuAn7+2N6O2fZm+oPdzLjt5uYzym03Aa8iQIAAAQIECBBYlYABoFWlUzAEhhJwMLFburht78ZsezMHrruZcdvNzWd0NzevIkCAAAECBHYX8PPH9nbMtjfTH+xmxm03N59RbrsJeBUBAgQIECBAgMCqBAwArSqdgiEwlMAjqyuqt1bPGWrnp7tZbtv7M9vebHoFN267CWz/KrW2vZlXECBAgAABAjdPwM8f2/sx295MX7WbGbfd3HxGue0m4FUECBAgQIAAAQKrEjAAtKp0CoYAAQIECBAgQIAAAQIECBAgQIAAAQIECBAgQIAAAQIECBAgQODQBAwAHVrGxUuAAAECBAgQIECAAAECBAgQIECAAAECBAgQIECAAAECBAgQILAqAQNAq0qnYAgQIECAAAECBAgQIECAAAECBAgQIECAAAECBAgQIECAAAECBA5NwADQoWVcvAQIECBAgAABAgQIECBAgAABAgQIECBAgAABAgQIECBAgAABAqsSMAC0qnQKhgABAgQIECBAgAABAgQIECBAgAABAgQIECBAgAABAgQIECBA4NAEDAAdWsbFS4AAAQIECBAgQIAAAQIECBAgQIAAAQIECBAgQIAAAQIECBAgsCoBA0CrSqdgCJwJgYdUP1rdq/r06jXVT1Qv22J3n1tdVX1VdYfq7dXzqp+sbthinVEu3YfZl1V/r/qK6rbV+6tfrZ5SvXEUiC33uQ+3o2/5zOpR1XdVz9lyPyNcvg+zS6sfrB5RfUH18er6+XP+8hEQdtjjPty+aP577cHzZ/Td1UurJ1f/Y4c9jfSSR1bPrr6y+vUtNn5o3wu2oHEpAQIECBAgcIzAPn5mO8SfP/bhdmj96D7MDq0XneLdh5t+dLdzNv2oftQPDgQIECBAgAABAgciYADoQBItTAIXSeDcf+SdhnSm4ZNbVA+qpgOaR1fPOsE+7li9upr+97erN1f3r25fXVd9dfWxE6wzyiX7MPv/qn8+e09mb6vuPg9n/J/qodV/GAXkhPvch9vRt/qaeSBj+v01DgDtw+wzqpdUf3keMpuGOabP5l+sPll9Y/VvTpjDUS7bh9v95r8Tb1391+pN85DkXav3zX/H/f4oIFvu88urf1fdZssBoEP7XrAlq8sJECBAgACBIwL7+JntEH/+2IfbofWj+zA7tF50incfbvrR3c7Z9KP6UT80ECBAgAABAgQIHJCAAaADSrZQCSwsMN2p5y3VR6oHVK+f3+++1SvmuwHdrXrnTezjRdXDqh+f714zXT79R/MXzv9a7PHVP1w4lou1/D7M/sw8JDUZfdPsNO1/+vv971fXzndQmuzXMji1D7ejOb7dXLPT2tPX2gaA9mV2TfWkeRjvr1Ufmr2+uXp+9QfzQNB0V6A1fO3L7b9UX1o9rnraDDMNSP7j6vuqF89/763B7PwY/vp8J63Pmn9zmzsAHdL3grXlXTwECBAgQOBiC+zrZ7ZD+/ljH26H1o/uw+zQetEp3n256Uf/uHq2PWfTj/6xm370Yn939n4ECBAgQIAAAQKnImAA6FTYvSmBVQpMgyY/Ul1dTYcy5389cR7mmR51Mz3aa9PXF86Pq5ru+jM9WugT5114+Tzo8o7qipUI7sNsurPSz1fPrb7zGJffqr64emD1Km4bBX5pvnvNdAel6W42axsA2ket3bKaHlv1R/Pn871HNF9Q/YXZ8XVq7f8KTMNl0yP5puGoP33E5c9W75kHqS5bidkUxvSv56eae3g13YXsD6vP2eLA9dC+F6wo9UIhQIAAAQKnIrCPn3UP8eePfbgdWj+6D7OjH5K196JTvPtw04/uds6mH9WPnso3Zm9KgAABAgQIECBwegIGgE7P3jsTWJvAuUGTe1dH/+P/9Diq36mur6ZbD2/6emz1M/MdMqY7ZRz9+s/zv3S6R/WGFQDuw+z7q++d3abHgB39mu7K8i3Vd1T/cgVmUwj7cDuf4turf1FNg2qfX/3NFQ4A7cPsG6ppyOfp1fRZPYSvfbhNgz0fmO/ANQ38fPA8uC+a/y57a3WXFYE+Zx5InP6l6XfPNXPlFgNAh/a9YEWpFwoBAgQIEDgVgX38zHaIP3/sw+3Q+tF9mB1aL7qvHl4/+if/ej3pOZt+9I/PMPSjp/Lt2ZsSIECAAAECBAichoABoNNQ954E1icw/V3y4erSavpXWR89EuIl1Q3z48FuU31yA8Ezq0dV31P9wjHXTHe5me4o8W3z44ZGltyX2YUMPq36/equ1V+qfm1ksHnv+3b73PnRX5PT/aupBtc2ALQvs+kOXtOj+abP4C/Pj5ybzKZHWf3G/Jlcy2PmpnLbl9u01qurL6teWf1w9d+re871Ng1N/kD1jBV8Ps+FMD1+8F3V8+Y7uV235YHrIX0vWFHahUKAAAECBE5FYF8/sx3azx/7cjukfnTfZofQi+6zr9KP/slP20nP2fSjpR89lW/P3pQAAQIECBAgQOC0BAwAnZa89yWwLoFztxSeHgn02RtCmx4dNP3Z9K+PPrThmhdVD6u+rvq3x1zzD6onVD9U/ezghPsyuxDDdOeNaZBq+g/xd64+PrjZtP19u710HkyYHpP2e9U/W+EA0L7MprskTXdLmh419/h5gOX8kpru/PXQ6n+uoM72XWvTEN6Lqz9/xGZ6NNb02IS13J1rU+q3PXA9pO8FK/m4CIMAAQIECJyawL5+1j20nz/25XZI/ei+zQ6hF91nX6Uf/dRP20nO2aZX6Ue3uwPQoX0/OLVv4N6YAAECBAgQIEBgGQEDQMu4WpXAoQncqXp79bbqig3BT4+4mYZQPm8eSDnusunuGA+uHtQf/wudo19XV1fNj2qaniE/8te+zDYZfOlsON1x6RHVL46Mdd7e9+k23a7+56rpcXNPm99jjQNA+zJ7SfW18+Os3l89pvpP82PTfrp6YPUfqwdc4C5fI5XhvtymmKc7o02PlZj+1ervVtPfh9MdgKbHfk2PEfim+fdG8tlmr9sOAB3S94JtHF1LgAABAgQIfKrAvn5mO7SfP/bldkj96D7NDqUXnepjX2760U/9tJ3knE0/uv0dgA7t+4GfLQgQIECAAAECBFYmYABoZQkVDoFTEpiGet4x/wfs6T9oH/c1DQddXt2xeueGa15ePWQeJHjVMddcUz2p+rHqqacU677edl9mx+3nvtWvzHfL+flqOlxcy9e+3KZ/ATfdseY1c72deyzdGgeA9mV27hDsI9U9qjefV1TTgMs02DJ9xr+6mj7Lo3/ty+0z5kd/TY8A+4758WmTzfSIvmmgcfo77U2z6dHHJ45ueG7/2w4AHdL3grXkWBwECBAgQOC0BPb1M9uh/fyxL7dD6kf3ZXZIvehUH/ty049+6qftJOds+tHtB4AO7fvBaX3/9r4ECBAgQIAAAQILCRgAWgjWsgQOTGB6rNcHqun2w7ffEPu5WxPfdr72uMteUH3D/BihaYDl6Ne5R4Cdf8eWUan3ZXY0/ukOLc+vpjv/PLv6nuoToyIds+99uN2i+g/VveZfbznvfdY4ALQPs4no3G2wX1h94zG5ecp5d+d64gpqbl9u31f9k/luU3/rGJdzB9lrulPX0TC3HQA6pO8FK/ioCIEAAQIECJyqwL5+Zju0nz/25XZI/eg+zA6tF53qYx9u+tHj/5o9yTmbfnT7AaBD+35wqt/EvTkBAgQIECBAgMD+BQwA7d/UigQOUWD6u+RD82NuPrP6+BGES6obqunuFtOdQjZ9PWN+rNB3Vc855qLnVg+vvm0echnZel9m5xs8upoMp0PFf1Q9fiWPYjo/xn24/Y3qX813sHn1kSKa7tIy/YvM6fenO9z86/mXWqtfqL57flzaNIR39Ot7q2fNv6ZaHP1rH7U2GfxS9a3z0NQ0PHX0a/qc/lQ1PUbtb4+OtmH/2w4AHdL3gpWmXFgECBAgQOCiCezrZ7ZD+/ljX26H1I/uw+zQetGpPvbhNq2jH/2Tf62e9JxNP7r9ANChfT+4aN+wvREBAgQIECBAgMDFETAAdHGcvQuBQxD4zep+82Ns3nAk4OlxQa+vrp+v2eQxParq5+b/GP6EYy6aXn+fDe8xovE+zM7FPT1GaHpE2nS3n78zD2mMaHKSPd9ct0fOd0c6yXtNplef5MIzfs3NNZvC++F5SOWX54GWoyH/ePXk+fF802P61vC1D7fpbmZ/pXpY9eJjUM65ToeMP7AGtGNi2HYA6NC+F6w07cIiQIAAAQIXTWAfP7Md4s8f+3A7tH705podYi861cjNddOP1q7nbPrR7QeADvH7wUX7hu2NCBAgQIAAAQIElhcwALS8sXcgcCgC06DENIQyPfrn2iNBT783PR7opoYp7jLfdeX3qrsfeXTV5fOfvaO6YiWo+zCbKH6w+tnqY/MdkqZHgK35a19uxxmt8RFgU5z7MPvC6nfnR/hNn8EPHgH89er+1ddUL1tJAe7D7WnVD82PAXvMMS4vqaZH9z2q+qcrcTsaxrYDQIf2vWClaRcWAQIECBC4aAL7+JntEH/+2IfbofWj+zI7pF5UP7r7X4X7qDf96PYDQIf4/WD3KvVKAgQIECBAgACBMydgAOjMpcSGCAwrMA0EvHF+zNeDq9fMkUx37Hlldek8uPOe+fengZ5bVe+bf50L/KXzAMFTq3N3Ebl1NT2D+6uqx1ZPH1bpT258H2b3nK0n32+fHze0Ep6NYezDbdPiax0A2pfZdAebr6umR1l9R/XhGfLvVj85/x0w1eQfraQI9+E2ebx2Hmj8lvnvsnM806PUpsf1vXd+9NwfrsTtaBgXGgDyvWClSRcWAQIECBC4iAL7+Jlt2u4h9aJTvPtwO7R+dB9mh9aL7qvWpnX0o39cPducs+lHLzwApB+9iN+svRUBAgQIECBAgMDFETAAdHGcvQuBQxGY7m4xPcZmuhPNNPQz/R0zDQNNzyZ/RPW88yDO/Qfho3cF+vzqN6rbz48Nm+4G9BXVHeYD2b9afXxFoDfX7Nzz3D9QTXcS2fT1zOrXuN3k47zWOgA0pf7m1tq0xvQ5/PfVdDegd1evrv7c/Fi+qQYfct7w31rKbR9u0xrT4OKnzcNAb5nNvqD639XXV69aC9gxcVxoAMj3ghUnXmgECBAgQOAiCuzjZ7ZD60X30SMcYj+6j1o77qOx5l50H7WmH939nE0/WldWX1lNdy4+/0s/ehG/UXsrAgQIECBAgACBiyNgAOjiOHsXAockMP2H7CdUX1LdUL2umu7mMw0EnaTJnq65U/Xk6qHVZfOjv36xmm5d/JEVYt4cs/9Vfc4JTL6res4JrhvpkpvjtinOtR+67sPss6q/V31zdefqD6pXzJ/ZN41UQFvsdR9u0+PRpjslTf/7p6rpbmgvn/9+/G9b7GXES3cZADrE7wUj5taeCRAgQIDAWRLYx89sh9aLTvm7OW6H2o/eHLND7UVvbq2dc9OP7nbOph/dbgBIP3qWvrvbCwECBAgQIECAwFYCBoC24nIxAQIECBAgQIAAAQIECBAgQIAAAQIECBAgQIAAAQIECBAgQIAAgbMlYADobOXDbggQIECAAAECBAgQIECAAAECBAgQIECAAAECBAgQIECAAAECBAhsJWAAaCsuFxMgQIAAAQIECBAgQIAAAQIECBAgQIAAAQIECBAgQIAAAQIECBA4WwIGgM5WPuyGAAECBAgQIECAAAECBAgQIECAAAECBAgQIECAAAECBAgQIECAwFYCBoC24nIxgSEEHlk9u/rK6te32PHnVldVX1XdoXp79bzqJ6sbtljHpQQIECBAgAABAgQIECBweAJ60cPLuYgJECBAgAABAgQIECBAgACBMyRgAOgMJcNWCOxB4Murf1fdZssBoDtWr66m//3t6s3V/avbV9dVX119bA/7swQBAgQIECBAgAABAgQIrE9AL7q+nIqIAAECBAgQIECAAAECBAgQGEzAANBgCbNdAhcQ+OvVc6rPmq/Z5g5AL6oeVv149ZT59beuXlg9pHp89Q/pEyBAgAABAgQIECBAgACBIwJ6USVBgAABAgQIECBAgAABAgQIEDgDAgaAzkASbIHAzRSY7tpzbfXw6v9Uf1h9zhZ3APrC6o3zXX++oPrEefu5fP79d1RX3Mx9ejkBAgQIECBAgAABAgQIrEdAL7qeXIqEAAECBAgQIECAAAECBAgQWIGAAaAVJFEIBy8w3fXnO6v/Un139fTqyi0GgB5b/Uz1tOpxx2j+5+q+1T2qNxy8NgACBAgQIECAAAECBAgQmAT0ouqAAAECBAgQIECAAAECBAgQIHCGBAwAnaFk2AqBHQX+fvWu6nnz3Xuu23IA6JnVo6rvqX7hmD08d7670LdVz99xj15GgAABAgQIECBAgAABAusS0IuuK5+iIUCAAAECBAgQIECAAAECBAYXMAA0eAJtn8AxAtsOAL2oelj1ddW/PWa9f1A9ofqh6meJEyBAgAABAgQIECBAgAABvagaIECAAAECBAgQIECAAAECBAicLQEDQGcrH3ZDYB8C2w4AvbJ6cPWganrt0a+rq6uqJ1bX3sQGH1lNv07y9aXVLao/qN50khe4hgABAgRWKXC36jbVW6ovXmWEgiJAgAABAochcJq96CSsHz2MOhMlAQIE9imgH92nprUIECBAgAABAgROXcAA0KmnwAYI7F1g20PXl1cPqR5YveqY3VxTPan6seqpN7Hbc8NCew/KggQIECCweoEPVn9q9VEKkAABAgQIrFfgNHvRSVU/ut7aEhkBAgSWFtCPLi1sfQIECBAgQIAAgYsiYADoojB7EwIXVWDbQ9cXVN9QPbT6lWN2eu4RYI+rnnYTkWzzLy6/vPr0yy67rHvf+94XFcibESBAgMDZEXjta1/bBz84nbX2zuqOZ2dndkKAAAECBAhsKXCavei0Vf3olglzOQECBA5dQD966BUgfgIECBAgQIDA+gQMAK0vpyIisO2h6zOqx1TfVT3nGL7nVg+vvq16/h55b9znlVde2XXXHffksT2+k6UIECBA4MwKPPCBD+xVr7rxBnTT/5nuRueLAAECBAgQGFNglF500tWPjlljdk2AAIG9CuhH98ppMQIECBAgQIAAgTMgYADoDCTBFgjsWWDbQ9fvr36u+qnqCcfs5frqPtU9qjfsca8OXPeIaSkCBAiMKuDAddTM2TcBAgQIEPgUgVF60Wnj+lEFTIAAAQLpRxUBAQIECBAgQIDA2gQMAK0to+IhMB9kVl9Z/foJQO5Svbn6veru1SfOe83l85+9o7riBGttc4kD1220XEuAAIGVCjhwXWlihUWAAAEChyiw7QDQafWiU270o4dYoWImQIDAEQH9qJIgQIAAAQIECBBYm4ABoLVlVDwELjwANA303Kp63/zrnNdLq6+pnlr92Pybt65eUH1V9djq6XvGdeC6Z1DLESBAYEQBB64jZs2eCRAgQIDAsQIXGgA6S73otHn9qCImQIAAAXcAUgMECBAgQIAAAQKrEzAAtLqUCojAHx9kbrgD0Lk/u6a6+jyrz69+o7p99fr5bkBfUd2hmoaD/mr18T3bOnDdM6jlCBAgMKKAAaARs2bPBAgQIEDgWIFRetFp8/pRRUyAAAECBoDzQnpAAAAgAElEQVTUAAECBAgQIECAwOoEDACtLqUCIrDTANDEdqfqydVDq8vmR3/9YvW06iMLuDpwXQDVkgQIEBhNwADQaBmzXwIECBAgsFFglwGg0+hFp/fUjypkAgQIEDAApAYIECBAgAABAgRWJ2AAaHUpFRCBYQQcuA6TKhslQIDAcgIGgJaztTIBAgQIECCwUUA/qjgIECBAwACQGiBAgAABAgQIEFidgAGg1aVUQASGEXDgOkyqbJQAAQLLCRgAWs7WygQIECBAgMBGAf2o4iBAgAABA0BqgAABAgQIECBAYHUCBoBWl1IBERhGwIHrMKmyUQIECCwnYABoOVsrEyBAgAABAhsF9KOKgwABAgQMAKkBAgQIECBAgACB1QkYAFpdSgVEYBgBB67DpMpGCRAgsJyAAaDlbK1MgAABAgQIbBTQjyoOAgQIEDAApAYIECBAgAABAgRWJ2AAaHUpFRCBYQQcuA6TKhslQIDAcgIGgJaztTIBAgQIECCwUUA/qjgIECBAwACQGiBAgAABAgQIEFidgAGg1aVUQASGEXDgOkyqbJQAAQLLCRgAWs7WygQIECBAgMBGAf2o4iBAgAABA0BqgAABAgQIECBAYHUCBoBWl1IBERhGwIHrMKmyUQIECCwnYABoOVsrEyBAgAABAhsF9KOKgwABAgQMAKkBAgQIECBAgACB1QkYAFpdSgVEYBgBB67DpMpGCRAgsJyAAaDlbK1MgAABAgQIbBTQjyoOAgQIEDAApAYIECBAgAABAgRWJ2AAaHUpFRCBYQQcuA6TKhslQIDAcgIGgJaztTIBAgQIECCwUUA/qjgIECBAwACQGiBAgAABAgQIEFidgAGg1aVUQASGEXDgOkyqbJQAAQLLCRgAWs7WygQIECBAgMBGAf2o4iBAgAABA0BqgAABAgQIECBAYHUCBoBWl1IBERhGwIHrMKmyUQIECCwnYABoOVsrEyBAgAABAhsF9KOKgwABAgQMAKkBAgQIECBAgACB1QkYAFpdSgVEYBgBB67DpMpGCRAgsJyAAaDlbK1MgAABAgQIbBTQjyoOAgQIEDAApAYIECBAgAABAgRWJ2AAaHUpFRCBYQQcuA6TKhslQIDAcgIGgJaztTIBAgQIECCwUUA/qjgIECBAwACQGiBAgAABAgQIEFidgAGg1aVUQASGEXDgOkyqbJQAAQLLCRgAWs7WygQIECBAgMBGAf2o4iBAgAABA0BqgAABAgQIECBAYHUCBoBWl1IBERhGwIHrMKmyUQIECCwnYABoOVsrEyBAgAABAhsF9KOKgwABAgQMAKkBAgQIECBAgACB1QkYAFpdSgVEYBgBB67DpMpGCRAgsJyAAaDlbK1MgAABAgQIbBTQjyoOAgQIEDAApAYIECBAgAABAgRWJ2AAaHUpFRCBYQQcuA6TKhslQIDAcgIGgJaztTIBAgQIECCwUUA/qjgIECBAwACQGiBAgAABAgQIEFidgAGg1aVUQASGEXDgOkyqbJQAAQLLCRgAWs7WygQIECBAgMBGAf2o4iBAgAABA0BqgAABAgQIECBAYHUCBoBWl1IBERhGwIHrMKmyUQIECCwnYABoOVsrEyBAgAABAhsF9KOKgwABAgQMAKkBAgQIECBAgACB1QkYAFpdSgVEYBgBB67DpMpGCRAgsJyAAaDlbK1MgAABAgQIbBTQjyoOAgQIEDAApAYIECBAgAABAgRWJ2AAaHUpFRCBYQQcuA6TKhslQIDAcgIGgJaztTIBAgQIECCwUUA/qjgIECBAwACQGiBAgAABAgQIEFidgAGg1aVUQASGEXDgOkyqbJQAAQLLCRgAWs7WygQIECBAgMBGAf2o4iBAgAABA0BqgAABAgQIECBAYHUCBoBWl1IBERhGwIHrMKmyUQIECCwnYABoOVsrEyBAgAABAhsF9KOKgwABAgQMAKkBAgQIECBAgACB1QkYAFpdSgVEYBgBB67DpMpGCRAgsJyAAaDlbK1MgAABAgQIbBTQjyoOAgQIEDAApAYIECBAgAABAgRWJ2AAaHUpFRCBYQQcuA6TKhslQIDAcgIGgJaztTIBAgQIECCwUUA/qjgIECBAwACQGiBAgAABAgQIEFidgAGg1aVUQASGEXDgOkyqbJQAAQLLCRgAWs7WygQIECBAgMBGAf2o4iBAgAABA0BqgAABAgQIECBAYHUCBoBWl1IBERhGwIHrMKmyUQIECCwnYABoOVsrEyBAgAABAhsF9KOKgwABAgQMAKkBAgQIECBAgACB1QkYAFpdSgVEYBgBB67DpMpGCRAgsJyAAaDlbK1MgAABAgQIbBTQjyoOAgQIEDAApAYIECBAgAABAgRWJ2AAaHUpFRCBYQQcuA6TKhslQIDAcgIGgJaztTIBAgQIECCwUUA/qjgIECBAwACQGiBAgAABAgQIEFidgAGg1aVUQASGEXDgOkyqbJQAAQLLCRgAWs7WygQIECBAgMBGAf2o4iBAgAABA0BqgAABAgQIECBAYHUCBoBWl1IBERhGwIHrMKmyUQIECCwnYABoOVsrEyBAgAABAhsF9KOKgwABAgQMAKkBAgQIECBAgACB1QkYAFpdSgVEYBgBB67DpMpGCRAgsJyAAaDlbK1MgAABAgQIbBTQjyoOAgQIEDAApAYIECBAgAABAgRWJ2AAaHUpFdCBCjyk+tHqXtWnV6+pfqJ62RYeX1RdVT24um317uql1ZOr/7HFOie91IHrSaVcR4AAgRULGABacXKFRoAAAQKHIqAfPZRMi5MAAQIrE9CPriyhwiFAgAABAgQIEMgAkCIgML7AI6tnVzdUv1rdonpQdWn16OpZJwjxfvNrb1391+pN8zDRXav3Vfevfv8E62xziQGgbbRcS4AAgZUKOHBdaWKFRYAAAQKHIqAfPZRMi5MAAQIrFNCPrjCpQiJAgAABAgQIHLiAAaADLwDhDy9wh+ot1UeqB1SvnyO6b/WK+W5Ad6veeROR/pfqS6vHVU+br50Gif5x9X3Vi6uH7VnLANCeQS1HgACBEQUcuI6YNXsmQIAAAQI3CuhHFQIBAgQIDC2gHx06fTZPgAABAgQIECBwjIABIGVBYGyBa6sfqa6urjkSyhOrp8yP8Joe7bXp63bV+6s/qP70kYv+bPWe6kPVZXumMgC0Z1DLESBAYEQBB64jZs2eCRAgQIDAjQL6UYVAgAABAkML6EeHTp/NEyBAgAABAgQIHCNgAEhZEBhb4LeqL67uXb3uSCh3r36nur6aHvG16Wsa7PlA9bFqGvj54HkXflH1huqt1V32TGUAaM+gliNAgMCIAg5cR8yaPRMgQIAAgRsF9KMKgQABAgSGFtCPDp0+mydAgAABAgQIEDhGwACQsiAwrsD0+f1wdWl1y+qjR0K5pLphfjzYbapPXiDUV1dfVr2y+uHqv1f3rJ45Dxf9QPWMPVMZANozqOUIECAwooAD1xGzZs8ECBAgQCD9qCIgQIAAgeEF9KPDp1AABAgQIECAAAECRwQMACkJAuMKnHt013urz94QxrvnP5vu8jM9xmvT112rF1d//sgFf1g9uvqXCzAZAFoA1ZIECBAYTcCB62gZs18CBAgQIHCjgH5UIRAgQIDA8AL60eFTKAACBAgQIECAAIEjAgaAlASBcQXuVL29elt1xYYwpkd33bn6vOpdFwh1uoPQY6snV787P/JrugPQ9Niv6bbu3zT/3k1pPbKafp3ka3ps2WVXXnll1103zQL5IkCAAIFDFHDgeohZFzMBAgQIrEBAP7qCJAqBAAEChy6gHz30ChA/AQIECBAgQGB9AgaA1pdTER2OwDTU8455MGca1DnuaxoOury6Y/XODdd8xvzor+kRYN9R/fJ83adVV1VPqt5U3eOYx4wdXfLq+TUnzoIBoBNTuZAAAQKrFHDgusq0CooAAQIE1i+gH11/jkVIgACB1QvoR1efYgESIECAAAECBA5OwADQwaVcwCsSmB7r9YFqeszX7TfEde4RYLedrz3usu+r/kn1c9XfOuaCV1YPrh5R/eJN+LkD0IoKTCgECBC4GAIOXC+GsvcgQIAAAQJ7F9CP7p3UggQIECBwsQX0oxdb3PsRIECAAAECBAgsLWAAaGlh6xNYTmD6/H6omh7f9ZnVx4+81SXVDfNde6ZrNn39UvWt1TdWLzzmosdXP1X9dPW39xjO9NyvK90BaI+iliJAgMCAAg5cB0yaLRMgQIAAgdKPqgICBAgQGF5APzp8CgVAgAABAgQIECBwRMAAkJIgMLbAb1b3mx/P9YYjoUyP7Hp9df18zaZIf6X6K9XDqhcfc9EPz8M/z6h+YI9cBoD2iGkpAgQIjCrgwHXUzNk3AQIECBBIP6oICBAgQGBoAf3o0OmzeQIECBAgQIAAgWMEDAApCwJjC1xTPal6YnXtkVCm33tKNV1z9QXCfFr1Q/NjwB5zzHUvqb62elT1T/fIZQBoj5iWIkCAwKgCDlxHzZx9EyBAgACBG3tN/ahCIECAAIFhBfSjw6bOxgkQIECAAAECBDYIGABSGgTGFriieuP8mK8HV6+Zw7lP9crq0mq65j3z719e3ap63/xr+u17Vq+tPlF9S/WC80geV/2j6r3VXas/3COXAaA9YlqKAAECowo4cB01c/ZNgAABAgRu7DX1owqBAAECBIYV0I8OmzobJ0CAAAECBAgQ2CBgAEhpEBhfYLprz/R4ro/NQz/T53oaBrqkekT1vPNCvHHo5pi7Ak1rPL36tHkY6C3zY8W+oPrf1ddXr9ozlQGgPYNajgABAiMKOHAdMWv2TIAAAQIE/q+AflQxECBAgMCwAvrRYVNn4wQIECBAgAABAhsEDAApDQLrEJgGdJ5QfUl1Q/W66qnzQND5EW4aAJquuX/1d+f//VPzXYNePq/z3xZgMgC0AKolCRAgMJqAA9fRMma/BAgQIEDgUwT0o4qCAAECBIYU0I8OmTabJkCAAAECBAgQuICAASDlQYDAaQkYADotee9LgACBMyTgwPUMJcNWCBAgQIDA4QjoRw8n1yIlQIDARgH9qOIgQIAAAQIECBBYm4ABoLVlVDwExhFw4DpOruyUAAECiwk4cF2M1sIECBAgQIDAZgH9qOogQIAAgfSjioAAAQIECBAgQGBtAgaA1pZR8RAYR8CB6zi5slMCBAgsJuDAdTFaCxMgQIAAAQKbBfSjqoMAAQIEDACpAQIECBAgQIAAgdUJGABaXUoFRGAYAQeuw6TKRgkQILCcgAGg5WytTIAAAQIECGwU0I8qDgIECBAwAKQGCBAgQIAAAQIEVidgAGh1KRUQgWEEHLgOkyobJUCAwHICBoCWs7UyAQIECBAgsFFAP6o4CBAgQMAAkBogQIAAAQIECBBYnYABoNWlVEAEhhFw4DpMqmyUAAECywkYAFrO1soECBAgQIDARgH9qOIgQIAAAQNAaoAAAQIECBAgQGB1AgaAVpdSAREYRsCB6zCpslECBAgsJ2AAaDlbKxMgQIAAAQIbBfSjioMAAQIEDACpAQIECBAgQIAAgdUJGABaXUoFRGAYAQeuw6TKRgkQILCcgAGg5WytTIAAAQIECGwU0I8qDgIECBAwAKQGCBAgQIAAAQIEVidgAGh1KRUQgWEEHLgOkyobJUCAwHICBoCWs7UyAQIECBAgsFFAP6o4CBAgQMAAkBogQIAAAQIECBBYnYABoNWlVEAEhhFw4DpMqmyUAAECywkYAFrO1soECBAgQIDARgH9qOIgQIAAAQNAaoAAAQIECBAgQGB1AgaAVpdSAREYRsCB6zCpslECBAgsJ2AAaDlbKxMgQIAAAQIbBfSjioMAAQIEDACpAQIECBAgQIAAgdUJGABaXUoFRGAYAQeuw6TKRgkQILCcgAGg5WytTIAAAQIECGwU0I8qDgIECBAwAKQGCBAgQIAAAQIEVidgAGh1KRUQgWEEHLgOkyobJUCAwHICBoCWs7UyAQIECBAgsFFAP6o4CBAgQMAAkBogQIAAAQIECBBYnYABoNWlVEAEhhFw4DpMqmyUAAECywkYAFrO1soECBAgQIDARgH9qOIgQIAAAQNAaoAAAQIECBAgQGB1AgaAVpdSAREYRsCB6zCpslECBAgsJ2AAaDlbKxMgQIAAAQIbBfSjioMAAQIEDACpAQIECBAgQIAAgdUJGABaXUoFRGAYAQeuw6TKRgkQILCcgAGg5WytTIAAAQIECGwU0I8qDgIECBAwAKQGCBAgQIAAAQIEVidgAGh1KRUQgWEEHLgOkyobJUCAwHICBoCWs7UyAQIECBAgsFFAP6o4CBAgQMAAkBogQIAAAQIECBBYnYABoNWlVEAEhhFw4DpMqmyUAAECywkYAFrO1soECBAgQIDARgH9qOIgQIAAAQNAaoAAAQIECBAgQGB1AgaAVpdSAREYRsCB6zCpslECBAgsJ2AAaDlbKxMgQIAAAQIbBfSjioMAAQIEDACpAQIECBAgQIAAgdUJGABaXUoFRGAYAQeuw6TKRgkQILCcgAGg5WytTIAAAQIECGwU0I8qDgIECBAwAKQGCBAgQIAAAQIEVidgAGh1KRUQgWEEHLgOkyobJUCAwHICBoCWs7UyAQIECBAgsFFAP6o4CBAgQMAAkBogQIAAAQIECBBYnYABoNWlVEAEhhFw4DpMqmyUAAECywkYAFrO1soECBAgQIDARgH9qOIgQIAAAQNAaoAAAQIECBAgQGB1AgaAVpdSAREYRsCB6zCpslECBAgsJ2AAaDlbKxMgQIAAAQIbBfSjioMAAQIEDACpAQIECBAgQIAAgdUJGABaXUoFRGAYAQeuw6TKRgkQILCcgAGg5WytTIAAAQIECGwU0I8qDgIECBAwAKQGCBAgQIAAAQIEVidgAGh1KRUQgWEEHLgOkyobJUCAwHICBoCWs7UyAQIECBAgsFFAP6o4CBAgQMAAkBogQIAAAQIECBBYnYABoNWlVEAEhhFw4DpMqmyUAAECywkYAFrO1soECBAgQIDARgH9qOIgQIAAAQNAaoAAAQIECBAgQGB1AgaAVpdSAREYRsCB6zCpslECBAgsJ2AAaDlbKxMgQIAAAQIbBfSjioMAAQIEDACpAQIECBAgQIAAgdUJGABaXUoFRGAYAQeuw6TKRgkQILCcgAGg5WytTIAAAQIECGwU0I8qDgIECBAwAKQGCBAgQIAAAQIEVidgAGh1KRUQgWEEHLgOkyobJUCAwHICBoCWs7UyAQIECBAgsFFAP6o4CBAgQMAAkBogQIAAAQIECBBYnYABoNWlVEAEhhFw4DpMqmyUAAECywkYAFrO1soECBAgQIDARgH9qOIgQIAAAQNAaoAAAQIECBAgQGB1AgaAVpdSAREYRsCB6zCpslECBAgsJ2AAaDlbKxMgQIAAAQIbBfSjioMAAQIEDACpAQIECBAgQIAAgdUJGABaXUoFdKACD6l+tLpX9enVa6qfqF62hcel1Q9Wj6i+oPp4df28zsu3WOeklzpwPamU6wgQILBiAQNAK06u0AgQIEDgUAT0o4eSaXESIEBgZQL60ZUlVDgECBAgQIAAAQIZAFIEBMYXeGT17OqG6lerW1QPqqaBnkdXzzpBiJ9RvaT6y9X7q1+vbl/9xeqT1TdW/+YE62xziQGgbbRcS4AAgZUKOHBdaWKFRYAAAQKHIqAfPZRMi5MAAQIrFNCPrjCpQiJAgAABAgQIHLiAAaADLwDhDy9wh+ot1UeqB1SvnyO6b/WK+W5Ad6veeRORXlM9qZqGcv5a9aH5+m+unl/9wTwQNN0VaF9fBoD2JWkdAgQIDCzgwHXg5Nk6AQIECBy6gH700CtA/AQIEBhcQD86eAJtnwABAgQIECBA4FMEDAApCgJjC1xb/Uh1dTUN8Zz/9cTqKdWTq6suEOYtq3dXfzQ/+uu9R659QfUX5rsAvW6PXAaA9ohpKQIECIwq4MB11MzZNwECBAgQSD+qCAgQIEBgaAH96NDps3kCBAgQIECAAIFjBAwAKQsCYwv8VvXF1b2ro8M5d69+p7q+ut8FwvyGahryeXr12IvIYQDoImJ7KwIECJxVAQeuZzUz9kWAAAECBG5SQD96k0QuIECAAIGzLKAfPcvZsTcCBAgQIECAAIFdBAwA7aLmNQTOhsD0+f1wdWk13cXno0e2dUl1w/x4sNtUn9yw7ekOQT9ePbz65eqbqvtXt6h+Y34E2McWCNkA0AKoliRAgMBoAg5cR8uY/RIgQIAAgRsF9KMKgQABAgSGF9CPDp9CARAgQIAAAQIECBwRMACkJAiMK3C76v3V9Miuz94QxvRor+nPLqs+tOGaf1F9e/Wd1eOrex65brqz0EOr/7lnKgNAewa1HAECBEYUcOA6YtbsmQABAgQIpB9VBAQIECAwvIB+dPgUCoAAAQIECBAgQOCIgAEgJUFgXIE7VW+v3lZdsSGMt1Z3rj6veteGa15SfW31gXmg6DHVf6o+v/rp6oHVf6wecIG7CJ1b+pHV9OskX9Njyy678soru+66aRbIFwECBAgcooAD10PMupgJECBAYAUC+tEVJFEIBAgQOHQB/eihV4D4CRAgQIAAAQLrEzAAtL6ciuhwBKahnndU05DPXTaEPQ0HXV7dsXrnhmteWT14flTYPao3n3fd9Gix353X+Orq5TfBe3V11TYpMAC0jZZrCRAgsD4BB67ry6mICBAgQOAgBPSjB5FmQRIgQGDdAvrRdedXdAQIECBAgACBQxQwAHSIWRfzWgSmx3pNd+2ZHvN1+w1BnXsE2G3na4+77EXVw6oXVt94zAVPqZ5YXTv/74X83AFoLdUlDgIECFwkAQeuFwna2xAgQIAAgf0K6Ef362k1AgQIEDgFAf3oKaB7SwIECBAgQIAAgUUFDAAtymtxAosKTJ/fD1XTXXo+s/r4kXe7pLqh+uh8zabN/EL13dXTqscdc9H3Vs+afz16jxFNz/260h2A9ihqKQIECAwo4MB1wKTZMgECBAgQKP2oKiBAgACB4QX0o8OnUAAECBAgQIAAAQJHBAwAKQkCYwv8ZnW/anp01xuOhDL93uur6+drNkX6w9VPV79cfesxF/149eTqqdWP7ZHLANAeMS1FgACBUQUcuI6aOfsmQIAAAQLpRxUBAQIECAwtoB8dOn02T4AAAQIECBAgcIyAASBlQWBsgWuqJ533iK7zo5ke2zU9vmu65uoLhPmF1e/Ojwi7ovrgkWt/vbp/9TXVy/bIZQBoj5iWIkCAwKgCDlxHzZx9EyBAgACBG3tN/ahCIECAAIFhBfSjw6bOxgkQIECAAAECBDYIGABSGgTGFpgGdt44P+brwdVr5nDuU72yurSarnnP/PuXV7eq3jf/Ohf9i6uvq15YfUf14fkP/m71k/N73LP6oz1yGQDaI6alCBAgMKqAA9dRM2ffBAgQIEDgxl5TP6oQCBAgQGBYAf3osKmzcQIECBAgQIAAgQ0CBoCUBoHxBR5TPaP62Dz0M32up2GgS6pHVM87L8Qbh26OuSvQHap/X013A3p39erqz82PFvtA9ZDzhov2JWYAaF+S1iFAgMDAAg5cB06erRMgQIAAgdKPqgICBAgQGFZAPzps6mycAAECBAgQIEBgg4ABIKVBYB0CX189ofqS6obqddVT54Gg8yPcNAA0XfNZ1d+rvrm6c/UH1SuqJ1dvWoDJANACqJYkQIDAaAIOXEfLmP0SIECAAIFPEdCPKgoCBAgQGFJAPzpk2myaAAECBAgQIEDgAgIGgJQHAQKnJWAA6LTkvS8BAgTOkIAD1zOUDFshQIAAAQKHI6AfPZxci5QAAQIbBfSjioMAAQIECBAgQGBtAgaA1pZR8RAYR8CB6zi5slMCBAgsJuDAdTFaCxMgQIAAAQKbBfSjqoMAAQIE0o8qAgIECBAgQIAAgbUJGABaW0bFQ2AcAQeu4+TKTgkQILCYgAPXxWgtTIAAAQIECGwW0I+qDgIECBAwAKQGCBAgQIAAAQIEVidgAGh1KRUQgWEEHLgOkyobJUCAwHICBoCWs7UyAQIECBAgsFFAP6o4CBAgQMAAkBogQIAAAQIECBBYnYABoNWlVEAEhhFw4DpMqmyUAAECywkYAFrO1soECBAgQIDARgH9qOIgQIAAAQNAaoAAAQIECBAgQGB1AgaAVpdSAREYRsCB6zCpslECBAgsJ2AAaDlbKxMgQIAAAQIbBfSjioMAAQIEDACpAQIECBAgQIAAgdUJGABaXUoFRGAYAQeuw6TKRgkQILCcgAGg5WytTIAAAQIECGwU0I8qDgIECBAwAKQGCBAgQIAAAQIEVidgAGh1KRUQgWEEHLgOkyobJUCAwHICBoCWs7UyAQIECBAgsFFAP6o4CBAgQMAAkBogQIAAAQIECBBYnYABoNWlVEAEhhFw4DpMqmyUAAECywkYAFrO1soECBAgQIDARgH9qOIgQIAAAQNAaoAAAQIECBAgQGB1AgaAVpdSAREYRsCB6zCpslECBAgsJ2AAaDlbKxMgQIAAAQIbBfSjioMAAQIEDACpAQIECBAgQIAAgdUJGABaXUoFRGAYAQeuw6TKRgkQILCcgAGg5WytTIAAAQIECGwU0I8qDgIECBAwAKQGCBAgQIAAAQIEVidgAGh1KRUQgWEEHLgOkyobJUCAwHICBoCWs7UyAQIECBAgsFFAP6o4CBAgQMAAkBogQIAAAQIECBBYnYABoNWlVEAEhhFw4DpMqmyUAAECywkYAFrO1soECBAgQIDARgH9qOIgQIAAAQNAaoAAAQIECBAgQGB1AgaAVpdSAREYRsCB6zCpslECBAgsJ2AAaDlbKxMgQIAAAQIbBfSjioMAAQIEDACpAQIECBAgQIAAgdUJGABaXUoFRGAYAQeuw6TKRgkQILCcgAGg5WytTIAAAQIECGwU0I8qDgIECBAwAKQGCBAgQIAAAWgQoAYAACAASURBVAIEVidgAGh1KRUQgWEEHLgOkyobJUCAwHICBoCWs7UyAQIECBAgsFFAP6o4CBAgQMAAkBogQIAAAQIECBBYnYABoNWlVEAEhhFw4DpMqmyUAAECywkYAFrO1soECBAgQIDARgH9qOIgQIAAAQNAaoAAAQIECBAgQGB1AgaAVpdSAREYRsCB6zCpslECBAgsJ2AAaDlbKxMgQIAAAQIbBfSjioMAAQIEDACpAQIECBAgQIAAgdUJGABaXUoFRGAYAQeuw6TKRgkQILCcgAGg5WytTIAAAQIECGwU0I8qDgIECBAwAKQGCBAgQIAAAQIEVidgAGh1KRUQgWEEHLgOkyobJUCAwHICBoCWs7UyAQIECBAgsFFAP6o4CBAgQMAAkBogQIAAAQIECBBYnYABoNWlVEAEhhFw4DpMqmyUAAECywkYAFrO1soECBAgQIDARgH9qOIgQIAAAQNAaoAAAQIECBAgQGB1AgaAVpdSAREYRsCB6zCpslECBAgsJ2AAaDlbKxMgQIAAAQIbBfSjioMAAQIEDACpAQIECBAgQIAAgdUJGABaXUoFRGAYAQeuw6TKRgkQILCcgAGg5WytTIAAAQIECGwU0I8qDgIECBAwAKQGCBAgQIAAAQIEVidgAGh1KRUQgWEEHLgOkyobJUCAwHICBoCWs7UyAQIECBAgsFFAP6o4CBAgQMAAkBogQIAAAQIECBBYnYABoNWlVEAEhhFw4DpMqmyUAAECywkYAFrO1soECBAgQIDARgH9qOIgQIAAAQNAaoAAAQIECBAgQGB1AgaAVpdSAREYRsCB6zCpslECBAgsJ2AAaDlbKxMgQIAAAQIbBfSjioMAAQIEDACpAQIECBAgQIAAgdUJGABaXUoFRGAYAQeuw6TKRgkQILCcgAGg5WytTIAAAQIECGwU0I8qDgIECBAwAKQGCBAgQIAAAQIEVidgAGh1KRUQgWEEHLgOkyobJUCAwHICBoCWs7UyAQIECBAgsFFAP6o4CBAgQMAAkBogQIAAAQIECBBYnYABoNWlVEAEhhFw4DpMqmyUAAECywkYAFrO1soECBAgQIDARgH9qOIgQIAAAQNAaoAAAQIECBAgQGB1AgaAVpdSAREYRsCB6zCpslECBAgsJ2AAaDlbKxMgQIAAAQIbBfSjioMAAQIEDACpAQIECBAgQIAAgdUJGABaXUoFRGAYAQeuw6TKRgkQILCcgAGg5WytTIAAAQIECGwU0I8qDgIECBAwAKQGCBAgQIAAAQIEVidgAGh1KRXQgQo8pPrR6l7Vp1evqX6ietnN8Hhm9ajqu6rn3Ix1Nr3UgesCqJYkQIDAaAIGgEbLmP0SIECAAIFPEdCPKgoCBAgQGFJAPzpk2myaAAECBAgQIEDgAgIGgJQHgfEFHlk9u7qh+tXqFtWDqkurR1fP2iHEr6leOr/OANAOgF5CgAABAicTcOB6MidXESBAgACBMyqgHz2jibEtAgQIELhpAf3oTRu5ggABAgQIECBAYCwBA0Bj5ctuCRwVuEP1luoj1QOq188X3Ld6xXw3oLtV79yC7nbzOtPa05cBoC3wXEqAAAEC2wk4cN3Oy9UECBAgQOAMCehHz1AybIUAAQIEthfQj25v5hUECBAgQIAAAQJnW8AA0NnOj90RuCmBa6sfqa6urjly8ROrp1RPrq66qYXO+/Nfqr6x+u3qLxoA2kLOpQQIECCwtYAD163JvIAAAQIECJwVAf3oWcmEfRAgQIDATgL60Z3YvIgAAQIECBAgQOAMCxgAOsPJsTUCJxD4reqLq3tXrzty/d2r36mur+53grWmS769+hfVNDz0+dXfNAB0QjmXESBAgMBOAg5cd2LzIgIECBAgcBYE9KNnIQv2QIAAAQI7C+hHd6bzQgIECBAgQIAAgTMqYADojCbGtgicQGD6/H64urS6ZfXRI6+5pLphfjzYbapP3sSanzs/+uv3q/tXzzQAdIIsuIQAAQIEbpaAA9ebxefFBAgQIEDgtAT0o6cl730JECBAYG8C+tG9UVqIAAECBAgQIEDgjAgYADojibANAjsI3K56f/Xe6rM3vP7d859dVn3oJt7jpdWV8x2Ffq/6ZwaAdsiKlxAgQIDAVgIOXLficjEBAgQIEDgrAvrRs5IJ+yBAgACBnQX0ozvTeSEBAgQIECBAgMAZFTAAdEYTY1sETiBwp+rt1duqKzZc/9bqztXnVe+6wJrfX/1c9bjqafN1uwwAPbKafp3ka3ps2WVXXnll11133Umudw0BAgQIrFDAgesKkyokAgQIEDgEAf3oIWRZjAQIEFi5gH505QkWHgECBAgQIEDgAAUMAB1g0oW8GoFpqOcd1TTkc5cNUU3DQZdXd6zeueGau1avq15TPfC8R4XtMgB0dXXVNsIGgLbRci0BAgTWJ+DAdX05FREBAgQIHISAfvQg0ixIAgQIrFtAP7ru/IqOAAECBAgQIHCIAgaADjHrYl6LwPRYrw9U02O+br8hqHOPALvtfO3Ry25R/YfqXvOvt5x3wS4DQO4AtJbqEgcBAgQukoAD14sE7W0IECBAgMB+BfSj+/W0GgECBAicgoB+9BTQvSUBAgQIECBAgMCiAgaAFuW1OIFFBabP74eqW1afWX38yLtdUt1QfXS+5rjN/I3qX1Vvrl595IIvq6a7A02/P/35v55/7Suo6blfV7oD0L44rUOAAIExBRy4jpk3uyZAgACBgxfQjx58CQAgQIDA+AL60fFzKAICBAgQIECAAIE/KWAASEUQGFvgN6v7Vfeo3nAklOn3Xl9dP19zXKTTHXuefUKCa6rpEV/7+jIAtC9J6xAgQGBgAQeuAyfP1gkQIEDg0AX0o4deAeInQIDA4AL60cETaPsECBAgQIAAAQKfImAASFEQGFtgGsp5UvXE6tojoUy/95Rq18GdXR4Bto2mAaBttFxLgACBlQo4cF1pYoVFgAABAocgoB89hCyLkQABAisW0I+uOLlCI0CAAAECBAgcqIABoANNvLBXI3BF9cb5MV8Prl4zR3af6pXVpdV0zXvm37+8ulX1vvnXhSAMAK2mTARCgACBsyvgwPXs5sbOCBAgQIDATQjoR5UIAQIECAwtoB8dOn02T4AAAQIECBAgcIyAASBlQWB8gcdUz6g+Ng/9TJ/raRjokuoR1fPOC/HGu+6c8K5ABoDGrw0RECBA4MwLOHA98ymyQQIECBAgcCEB/aj6IECAAIFhBfSjw6bOxgkQIECAAAECBDYIGABSGgTWIfD11ROqL6luqF5XPXUeCDo/QgNA68i3KAgQILAaAQeuq0mlQAgQIEDgcAX0o4ebe5ETIEBgaAH96NDps3kCBAgQIECAAIFjBAwAKQsCBE5L4MZhpCuvvLLrrpv+X18ECBAgcIgCDlwPMetiJkCAAAECpy6gHz31FNgAAQIETl9AP3r6ObADAgQIECBAgACB/QoYANqvp9UIEDi5gAPXk1u5kgABAqsVcOC62tQKjAABAgQInGUB/ehZzo69ESBA4CIJ6EcvErS3IUCAAAECBAgQuGgCBoAuGrU3IkDgiIADVyVBgAABAjlwVQQECBAgQIDAKQjoR08B3VsSIEDgrAnoR89aRuyHAAECBAgQIEDg5goYALq5gl5PgMCuAg5cd5XzOgIECKxIwIHripIpFAIECBAgMI6AfnScXNkpAQIEFhPQjy5Ga2ECBAgQIECAAIFTEjAAdErw3pYAgRy4KgICBAgQcAcgNUCAAAECBAichoB+9DTUvScBAgTOmIABoDOWENshQIAAAQIECBC42QIGgG42oQUIENhRwIHrjnBeRoAAgTUJOHBdUzbFQoAAAQIEhhHQjw6TKhslQIDAcgL60eVsrUyAAAECBAgQIHA6AgaATsfduxIgkDsAKQICBAgQyB2AFAEBAgQIECBwGgIGgE5D3XsSIEDgjAkYADpjCbEdAgQIECBAgACBmy1gAOhmE1qAAIEdBRy47gjnZQQIEFiTgAPXNWVTLAQIECBAYBgB/egwqbJRAgQILCegH13O1soECBAgQIAAAQKnI2AA6HTcvSsBAu4ApAYIECBAIHcAUgQECBAgQIDAqQgYADoVdm9KgACBsyVgAOhs5cNuCBAgQIAAAQIEbr6AAaCbb2gFAgR2E3DgupubVxEgQGBVAg5cV5VOwRAgQIAAgVEE9KOjZMo+CRAgsKCAfnRBXEsTIECAAAECBAicioABoFNh96YECOQOQIqAAAECBNwBSA0QIECAAAECpyNgAOh03L0rAQIEzpSAAaAzlQ6bIUCAAAECBAgQ2IOAAaA9IFqCAIGdBBy47sTmRQQIEFiXgAPXdeVTNAQIECBAYBAB/eggibJNAgQILCmgH11S19oECBAgQIAAAQKnIWAA6DTUvef/z969ANt31fUB/w4kyMtJoVaCQAhIocJI8QFFQAMRKBGwWKoCDjFQBKECWml8RCFhIONjtAEbCrQMEZgKdqZQRgTKozy0KaZRmEZQS3k1ofJyQnSEQITOCvvWy+Wef87ad+971l77c2b+k5mbtfde6/Nb556z1v/735sAgSJgw9U8IECAAIHYcDUJCBAgQIAAgR0IWI/uAN0lCRAg0JqA9WhrFdEfAgQIECBAgACBowoIAB1V0PEECIwVsOE6Vs5xBAgQ6EjAhmtHxTQUAgQIECCwHAHr0eXUSk8JECAwm4D16Gy0TkyAAAECBAgQILAjAQGgHcG7LAEC7gBkDhAgQIBA3AHIJCBAgAABAgR2ISAAtAt11yRAgEBjAgJAjRVEdwgQIECAAAECBI4sIAB0ZEInIEBgpIAN15FwDiNAgEBPAjZce6qmsRAgQIAAgcUIWI8uplQ6SoAAgfkErEfns3VmAgQIECBAgACB3QgIAO3G3VUJEIg7AJkEBAgQIOAOQOYAAQIECBAgsBMBAaCdsLsoAQIE2hIQAGqrHnpDgAABAgQIECBwdAEBoKMbOgMBAuMEbLiOc3MUAQIEuhKw4dpVOQ2GAAECBAgsRcB6dCmV0k8CBAjMKGA9OiOuUxMgQIAAAQIECOxEQABoJ+wuSoBA3AHIJCBAgACBuAOQSUCAAAECBAjsREAAaCfsLkqAAIG2BASA2qqH3hAgQIAAAQIECBxdQADo6IbOQIDAOAEbruPcHEWAAIGuBGy4dlVOgyFAgAABAksRsB5dSqX0kwABAjMKWI/OiOvUBAgQIECAAAECOxEQANoJu4sSIOAOQOYAAQIECBQBG67mAQECBAgQILADAQGgHaC7JAECBFoTsB5trSL6Q4AAAQIECBAgcFQBAaCjCjqeAIGxAjZcx8o5jgABAh0J2HDtqJiGQoAAAQIEliNgPbqcWukpAQIEZhOwHp2N1okJECBAgAABAgR2JCAAtCN4lyVAIDZcTQICBAgQcAcgc4AAAQIECBDYhYD16C7UXZMAAQKNCQgANVYQ3SFAgAABAgQIEDiygADQkQmdgACBkQI2XEfCOYwAAQI9Cdhw7amaxkKAAAECBBYjYD26mFLpKAECBOYTsB6dz9aZCRAgQIAAAQIEdiMgALQbd1clQCDuAGQSECBAgEDcAcgkIECAAAECBHYhIAC0C3XXJECAQGMCAkCNFUR3CBAgQIAAAQIEjiwgAHRkQicgQGCkgA3XkXAOI0CAQE8CNlx7qqaxECBAgACBxQhYjy6mVDpKgACB+QSsR+ezdWYCBAgQIECAAIHdCAgA7cbdVQkQcAcgc4AAAQIE4g5AJgEBAgQIECCwEwEBoJ2wuygBAgTaEhAAaqseekOAAAECBAgQIHB0AQGgoxs6AwEC4wRsuI5zcxQBAgS6ErDh2lU5DYYAAQIECCxFwHp0KZXSTwIECMwoYD06I65TEyBAgAABAgQI7ERAAGgn7C5KgEDcAcgkIECAAAF3ADIHCBAgQIAAgd0ICADtxt1VCRAg0JSAAFBT5dAZAgQIECBAgACBCQQEgCZAdAoCBEYJ2HAdxeYgAgQI9CVgw7WvehoNAQIECBBYiID16EIKpZsECBCYU8B6dE5d5yZAgAABAgQIENiFgADQLtRdkwCBImDD1TwgQIAAgdhwNQkIECBAgACBHQhYj+4A3SUJECDQmoD1aGsV0R8CBAgQIECAAIGjCggAHVXQ8QTaEHhwkp9Pcs8kN0lyeZJfSvLmiu7dN8nPJLlfklsl+UyStyd5XpIPVJxn26Y2XLeV0o4AAQIdC9hw7bi4hkaAAAECaxGwHl1LpY2TAAECnQlYj3ZWUMMhQIAAAQIECBCIAJBJQGD5AuckeXmSa4fAzo2TPCjJyUmekuSlWwzxR5L8ZpJy7B8l+WiSuye5a5K/TnJWkndtcZ6aJgJANVraEiBAoFMBG66dFtawCBAgQGAtAtaja6m0cRIgQKBDAevRDotqSAQIECBAgACBlQsIAK18Ahj+4gVum+TDST6f5AFJrhhGdO8kbx3uBnSXJFedYKTfkORDSW6R5NFJXje0Lb8ffjbJhUk+lqSc54sTigkATYjpVAQIEFiqgA3XpVZOvwkQIECAQKxHTQICBAgQWLSA9eiiy6fzBAgQIECAAAEChwgIAJkWBJYtUMI5P5fk/CQXHBjKecPju56b5DknGGa5S9CLk7wiyY8e0u4Pk3xbkgcmeeeEXAJAE2I6FQECBJYqYMN1qZXTbwIECBAgcP0/FrEeNREIECBAYLEC1qOLLZ2OEyBAgAABAgQIbBAQADI1CCxbYC+cc68k7zswlPIIrz9OclmS+5xgmE9N8mNJXjA8Buxg09ck+aEkj0vyWxNyCQBNiOlUBAgQWKqADdelVk6/CRAgQIBArEdNAgIECBBYtID16KLLp/MECBAgQIAAAQKHCAgAmRYElitQ3r+fS3Jykpsl+cKBoZyU5Nrh8WC3TPLlEUO9UZI/S/LNSb4nybtHnGPTIQJAE2I6FQECBJYqYMN1qZXTbwIECBBYuYD16MongOETIECgBwHr0R6qaAwECBAgQIAAAQL7BQSAzAcCyxW4dZLPJPlUkm/cMIxPDP/vlCTXjBjqE5O8LMnHk9wxyXUjzrHpEAGgCTGdigABAksVsOG61MrpNwECBAisXMB6dOUTwPAJECDQg4D1aA9VNAYCBAgQIECAAIH9AgJA5gOB5QrcIcnHknw0yekbhvGRIbhzuyHEUzPa70hSQjrl7kFnJ3nlFgefk6T82eZVHlt2yhlnnJF3vKNcxosAAQIE1ihgw3WNVTdmAgQIEOhAwHq0gyIaAgECBNYuYD269hlg/AQIECBAgACB/gQEgPqrqRGtR6CEeq5MUkI+d9ow7BIOOi3J7ZNcVUFz7yRvSlL+VeeLkzx1y2PPT/KcLdte30wAqEZLWwIECPQnYMO1v5oaEQECBAisQsB6dBVlNkgCBAj0LWA92nd9jY4AAQIECBAgsEYBAaA1Vt2YexEoj/W6Okl5zNepGwa19wiwWw1ttxn79yV5zXDnn5cneVKSL21z4HD3H3cA2hJLMwIECBBIbLiaBQQIECBAYJEC1qOLLJtOEyBAgMB+AetR84EAAQIECBAgQKA3AQGg3ipqPGsSKO/fa5LcLMlNk1x3YPAnJbk2yReGNtvYPCXJxUlunOTXkzwryZe3OXBEm/LcrzPcAWiEnEMIECDQkYAN146KaSgECBAgsCYB69E1VdtYCRAg0KmA9WinhTUsAgQIECBAgMCKBQSAVlx8Q+9C4D1J7pPkHknef2BE5WdXJLlsaHNDA352kguGu/38dJKLbuiAI/5/AaAjAjqcAAECPQjYcO2hisZAgAABAisVsB5daeENmwABAr0IWI/2UknjIECAAAECBAgQ2BMQADIXCCxboAR2SnDnvCQXHhhK+dnzhlDP+TcwzKcneWGSLyZ5/PAIsLllBIDmFnZ+AgQILEDAhusCiqSLBAgQIEDgcAHrUTODAAECBBYtYD266PLpPAECBAgQIECAwCECAkCmBYFlC5ye5APDY77OTHL5MJzvTPK2JCcnKW0+Ofz8tCQ3T/Lp4U/58bcOx5W2j03y6mMiEQA6JmiXIUCAQMsCNlxbro6+ESBAgACBEwpYj5ogBAgQILBoAevRRZdP5wkQIECAAAECBA4REAAyLQgsX+BpSS4e7t5TQj/lfV3CQCclOTvJq/YN8frQzYG7ApXAzw8nuTrJG07A8ZIk756QSwBoQkynIkCAwFIFbLgutXL6TYAAAQIErhewHjURCBAgQGCxAtajiy2djhMgQIAAAQIECGwQEAAyNQj0IfCIJOcm+fYk1yZ5X5LnD3cB2j/CwwJAf57kNlswPCHJJVu027aJANC2UtoRIECgYwEbrh0X19AIECBAYC0C1qNrqbRxEiBAoDMB69HOCmo4BAgQIECAAAEC198pxIsAAQK7EBAA2oW6axIgQKAxARuujRVEdwgQIECAwDoErEfXUWejJECAwAkFrEdNEAIECBAgQIAAgd4EBIB6q6jxEFiOgA3X5dRKTwkQIDCbgA3X2WidmAABAgQIENgsYD1qdhAgQIBArEdNAgIECBAgQIAAgd4EBIB6q6jxEFiOgA3X5dRKTwkQIDCbgA3X2WidmAABAgQIENgsYD1qdhAgQICAAJA5QIAAAQIECBAg0J2AAFB3JTUgAosRsOG6mFLpKAECBOYTEACaz9aZCRAgQIAAgY0C1qMmBwECBAgIAJkDBAgQIECAAAEC3QkIAHVXUgMisBgBG66LKZWOEiBAYD4BAaD5bJ2ZAAECBAgQ2ChgPWpyECBAgIAAkDlAgAABAgQIECDQnYAAUHclNSACixGw4bqYUukoAQIE5hMQAJrP1pkJECBAgACBjQLWoyYHAQIECAgAmQMECBAgQIAAAQLdCQgAdVdSAyKwGAEbrosplY4SIEBgPgEBoPlsnZkAAQIECBDYKGA9anIQIECAgACQOUCAAAECBAgQINCdgABQdyU1IAKLEbDhuphS6SgBAgTmExAAms/WmQkQIECAAIGNAtajJgcBAgQICACZAwQIECBAgAABAt0JCAB1V1IDIrAYARuuiymVjhIgQGA+AQGg+WydmQABAgQIENgoYD1qchAgQICAAJA5QIAAAQIECBAg0J2AAFB3JTUgAosRsOG6mFLpKAECBOYTEACaz9aZCRAgQIAAgY0C1qMmBwECBAgIAJkDBAgQIECAAAEC3QkIAHVXUgMisBgBG66LKZWOEiBAYD4BAaD5bJ2ZAAECBAgQ2ChgPWpyECBAgIAAkDlAgAABAgQIECDQnYAAUHclNSACixGw4bqYUukoAQIE5hMQAJrP1pkJECBAgACBjQLWoyYHAQIECAgAmQMECBAgQIAAAQLdCQgAdVdSAyKwGAEbrosplY4SIEBgPgEBoPlsnZkAAQIECBDYKGA9anIQIECAgACQOUCAAAECBAgQINCdgABQdyU1IAKLEbDhuphS6SgBAgTmExAAms/WmQkQIECAAIGNAtajJgcBAgQICACZAwQIECBAgAABAt0JCAB1V1IDIrAYARuuiymVjhIgQGA+AQGg+WydmQABAgQIENgoYD1qchAgQICAAJA5QIAAAQIECBAg0J2AAFB3JTUgAosRsOG6mFLpKAECBOYTEACaz9aZCRAgQIAAgY0C1qMmBwECBAgIAJkDBAgQIECAAAEC3QkIAHVXUgMisBgBG66LKZWOEiBAYD4BAaD5bJ2ZAAECBAgQ2ChgPWpyECBAgIAAkDlAgAABAgQIECDQnYAAUHclNSACixGw4bqYUukoAQIE5hMQAJrP1pkJECBAgACBjQLWoyYHAQIECAgAmQMECBAgQIAAAQLdCQgAdVdSAyKwGAEbrosplY4SIEBgPgEBoPlsnZkAAQIECBDYKGA9anIQIECAgACQOUCAAAECBAgQINCdgABQdyU1IAKLEbDhuphS6SgBAgTmExAAms/WmQkQIECAAIGNAtajJgcBAgQICACZAwQIECBAgAABAt0JCAB1V1IDIrAYARuuiymVjhIgQGA+AQGg+WydmQABAgQIENgoYD1qchAgQICAAJA5QIAAAQIECBAg0J2AAFB3JTUgAosRsOG6mFLpKAECBOYTEACaz9aZCRAgQIAAgY0C1qMmBwECBAgIAJkDBAgQIECAAAEC3QkIAHVXUgMisBgBG66LKZWOEiBAYD4BAaD5bJ2ZAAECBAgQ2ChgPWpyECBAgIAAkDlAgAABAgQIECDQnYAAUHclNSACixGw4bqYUukoAQIE5hMQAJrP1pkJECBAgACBjQLWoyYHAQIECAgAmQMECBAgQIAAAQLdCQgAdVdSAyKwGAEbrosplY4SIEBgPgEBoPlsnZkAAQIECBDYKGA9anIQIECAgACQOUCAAAECBAgQINCdgABQdyU1IAKLEbDhuphS6SgBAgTmExAAms/WmQkQIECAAIGNAtajJgcBAgQICACZAwQIECBAgAABAt0JCAB1V1IDIrAYARuuiymVjhIgQGA+AQGg+WydmQABAgQIENgoYD1qchAgQICAAJA5QIAAAQIECBAg0J2AAFB3JTUgAosRsOG6mFLpKAECBOYTEACaz9aZCRAgQIAAgY0C1qMmBwECBAgIAJkDBAgQIECAAAEC3QkIAHVXUgMisBgBG66LKZWOEiBAYD4BAaD5bJ2ZAAECBAgQ2ChgPWpyECBAgIAAkDlAgAABAgQIECDQnYAAUHclNSACixGw4bqYUukoAQIE5hMQAJrP1pkJECBAgACBjQLWoyYHAQIECAgAmQMECBAgQIAAAQLdCQgAdVdSAyKwGAEbrosplY4SIEBgPgEBoPlsnZkAAQIECBDYKGA9anIQIECAgACQOUCAAAECBAgQINCdgABQdyU1IAKLEbDhuphS6SgBAgTmExAAms/WmQkQIECAAIGNAtajJgcBAgQICACZAwQIECBAgAABAt0JCAB1V1ID/v6yjQAAIABJREFUWqnAg5P8fJJ7JrlJksuT/FKSN1d4fFOS5yR5SJLbJvlYklcl+ZUk11acZ9umNly3ldKOAAECHQsIAHVcXEMjQIAAgbUIWI+updLGSYAAgc4ErEc7K6jhECBAgAABAgQIRADIJCCwfIFzkrx8COm8PcmNkzwoyclJnpLkpVsM8fZJLk1S/vtHST6U5P5JTk1SgjoPTfLFLc5T00QAqEZLWwIECHQqYMO108IaFgECBAisRcB6dC2VNk4CBAh0KGA92mFRDYkAAQIECBAgsHIBAaCVTwDDX7xAuVPPh5N8PskDklwxjOjeSd463A3oLkmuuoGRvj7JI5P8YpLnDW1vkeR1Scq/5nxWkl+bWEsAaGJQpyNAgMASBWy4LrFq+kyAAAECBK4XsB41EQgQIEBg0QLWo4sun84TIECAAAECBAgcIiAAZFoQWLbAhUl+Lsn5SS44MJTzhjDPc4dHe20a6d2SfGC4689dk3xpX8PThp9fmeT0iakEgCYGdToCBAgsUcCG6xKrps8ECBAgQOB6AetRE4EAAQIEFi1gPbro8uk8AQIECBAgQIDAIQICQKYFgWUL/GGSb0tyryTvOzCUuyf54ySXJbnPCYb5jCQvSHJRkp86pN0fJCl3FLpHkvdPyCUANCGmUxEgQGCpAjZcl1o5/SZAgAABArEeNQkIECBAYNEC1qOLLp/OEyBAgAABAgQIHCIgAGRaEFiuQHn/fi7JyUluluQLB4ZyUpJrh8eD3TLJlzcM9SVJnpzkSUledkibVyR5fJLHJHnNhFwCQBNiOhUBAgSWKmDDdamV028CBAgQWLmA9ejKJ4DhEyBAoAcB69EeqmgMBAgQIECAAAEC+wUEgMwHAssVuHWSzyT5VJJv3DCMTwz/75Qk12xo8/okj0zy8CS/e0ibX05ybpJnJnnhhFwCQBNiOhUBAgSWKmDDdamV028CBAgQWLmA9ejKJ4DhEyBAoAcB69EeqmgMBAgQIECAAAEC+wUEgMwHAssVuEOSjyX5aJLTNwzjI0numOR2ST6+oc3bkpyZ5EFJSijn4Ov8JM9Jcl6SC2+A65wk5c82r+9KcpNTTjkl97pXeYKZFwECBAisUeC9731vPvvZz5ahX5Xk9ms0MGYCBAgQILBAAevRBRZNlwkQIEDgqwWsR80IAgQIECBAgACB3gQEgHqrqPGsSaCEeq5MUkI+d9ow8BIOOm34C9XyF6uHvd6S5MFJHpjknYc0uCDJs5P8QpLn3wDwXlhoTXUwVgIECBCYRqA81vLm05zKWQgQIECAAIGZBaxHZwZ2egIECBA4VgHr0WPldjECBAgQIECAAIG5BASA5pJ1XgLzC5THel2dpDzm69QNl9t7BNithraHNXttkkclOSvJmw5psPcIsJ9KctENDKvmDkAPSHLjJF9Icun8XN1codwuqdS+3C7jvd2Mat6BMBvny43bOIH6o66/I1ySv0ry9fWHO4IAAQIECBDYgYD16A7Qd3xJ64NxBeDGbZxA/VHmWr1ZOcJ6dJybowgQIECAAAECBBoVEABqtDC6RWALgfL+vSbJzZLcNMl1B445Kcm1Q8CmtNn0ujjJ05I8IcklhzR6RZLHJ3lMktds0a9tm5THjZ0x3HWo3H3IazsBbts57W/FrN6sHMGN2ziB+qPMtXozRxAgQIAAgV0LWI/uugLHf33f2caZc+M2TqD+KHOt3szexzgzRxEgQIAAAQIECDQsIADUcHF0jcAWAu9Jcp8k90jy/gPty8+uSHLZ0GbT6Z6a5EVJfjXJuYc0Ksd/54ZrbNHFjU1sTIzT41bvxqzezCbYODNu49y8R8e5OYoAAQIECOxawHp01xU43uv7zjbOmxu3cQL1R5lr9WbW8OPMHEWAAAECBAgQINCwgABQw8XRNQJbCFyQ5NlJzkty4YH25WfPS1LanH+Cc90pyYeS/GmSuyf50r62pw3/78okp2/Rn5omNiZqtP62Lbd6N2b1ZjbBxplxG+fmPTrOzVEECBAgQGDXAtaju67A8V7fd7Zx3ty4jROoP8pcqzezhh9n5igCBAgQIECAAIGGBQSAGi6OrhHYQqCEcj4wPObrzCSXD8eUO/a8LcnJQ3Dnk8PPS6Dn5kk+PfzZu8QbkzwsyfOT/MLww1skeW2ShyR5RpLf2KI/NU1sTNRo/W1bbvVuzOrNbIKNM+M2zs17dJybowgQIECAwK4FrEd3XYHjvb7vbOO8uXEbJ1B/lLlWb2YNP87MUQQIECBAgAABAg0LCAA1XBxdI7ClwNOSXJzki0Pop7yvSxjopCRnJ3nVvvPsbQYcvCvQnZP8fpJTh8eGlbsB3S/JbZOUcND3J7luy/5s28zGxLZSX92OW70bs3ozm2DjzLiNc/MeHefmKAIECBAg0IKA9WgLVTiePvjONs6ZG7dxAvVHmWv1Ztbw48wcRYAAAQIECBAg0LCAAFDDxdE1AhUCj0hybpJvT3JtkvcNd/MpdwHa/9oUACpt7pDkuUnOSnLK8OivVya5KMnnK/qybVMbE9tKHV7DdyZ54LhTrO4oc21cyblxGydQf5S5Vm/mCAIECBAg0JKA9WhL1ZivL76zjbPlxm2cQP1R5lq9WTmC2zg3RxEgQIAAAQIECDQqIADUaGF0i8AKBCywxxWZW70bs3ozm2DjzLiNc/MeHefmKAIECBAgQGC8gO8f9XbM6s2sD8aZcRvn5j3KbZyAowgQIECAAAECBLoSEADqqpwGQ2BRAjYmxpWLW70bs3ozG67jzLiNc/MeHefmKAIECBAgQGC8gO8f9XbM6s2sD8aZcRvn5j3KbZyAowgQIECAAAECBLoSEADqqpwGQ2BRAjYmxpWLW70bs3ozG67jzLiNc/MeHefmKAIECBAgQGC8gO8f9XbM6s2sD8aZcRvn5j3KbZyAowgQIECAAAECBLoSEADqqpwGQ2BRAjYmxpWLW70bs3ozG67jzLiNc/MeHefmKAIECBAgQGC8gO8f9XbM6s2sD8aZcRvn5j3KbZyAowgQIECAAAECBLoSEADqqpwGQ2BRAuckOT3JR5Jcsqie77az3Or9mdWblSO4cRsnUH+UuVZv5ggCBAgQIEDgaAK+f9T7Mas3s64aZ8ZtnJv3KLdxAo4iQIAAAQIECBDoSkAAqKtyGgwBAgQIECBAgAABAgQIECBAgAABAgQIECBAgAABAgQIECBAgMDaBASA1lZx4yVAgAABAgQIECBAgAABAgQIECBAgAABAgQIECBAgAABAgQIEOhKQACoq3IaDAECBAgQIECAAAECBAgQIECAAAECBAgQIECAAAECBAgQIECAwNoEBIDWVnHjJUCAAAECBAgQIECAAAECBAgQIECAAAECBAgQIECAAAECBAgQ6EpAAKirchoMAQIECBAgQIAAAQIECBAgQIAAAQIECBAgQIAAAQIECBAgQIDA2gQEgNZWceMlQIAAAQIECBAgQIAAAQIECBAgQIAAAQIECBAgQIAAAQIECBDoSkAAqKtyGgyBJgQenOTnk9wzyU2SXJ7kl5K8uaJ335TkOUkekuS2ST6W5FVJfiXJtRXnWUrTKczum+Rnktwvya2SfCbJ25M8L8kHlgJR2c8p3A5e8iVJnpzkCUkuqezPEppPYXZykqcnOTvJXZNcl+Sy4X3+liUgjOjjFG7fMvxeO3N4j34iyRuTPDfJ/xnRpyUdck6Slyf57iS/V9HxtX0WVNBoSoAAAQIECBwiMMV3tjV+/5jCbW3r0SnM1rYWLeOdws16dNw+m/Wo9agvDgQIECBAgAABAisREABaSaENk8AxCez9JW8J6ZTwyY2TPChJ2aB5SpKXbtGP2ye5NEn57x8l+VCS+yc5Nck7kjw0yRe3OM9Smkxh9iNJfnPwLmYfTXL3IZzx10nOSvKupYBs2c8p3A5e6mFDIKP8vMcA0BRmX5fkDUm+dwiZlTBHeW/+oyRfTvIDSf7zljVcSrMp3O4z/E68RZL/meSDQ0jym5N8evgd92dLAans53cl+S9JblkZAFrbZ0Elq+YECBAgQIDAAYEpvrOt8fvHFG5rW49OYba2tWgZ7xRu1qPj9tmsR61HfWkgQIAAAQIECBBYkYAA0IqKbagEZhYod+r5cJLPJ3lAkiuG6907yVuHuwHdJclVN9CP1yd5ZJJfHO5eU5qXvzR/3fCvxZ6V5NdmHstxnX4Ks28YQlLF6NGDU+l/+f3+s0kuHO6gVOx7CU5N4Xawxrce5mw5d3n1FgCayuyCJM8ewnj/JMk1g9cPJnlNkr8YAkHlrkA9vKZy+x9JviPJTyW5aIApAcl/k+THk/zO8HuvB7P9Y/inw520vn74Yc0dgNb0WdBb3Y2HAAECBAgct8BU39nW9v1jCre1rUenMFvbWrSMdyo369GvzJ7afTbr0a+4WY8e96ez6xEgQIAAAQIECOxEQABoJ+wuSqBLgRI0+bkk5ycpmzL7X+cNYZ7yqJvyaK9Nr7sNj6sqd/0pjxb60r6Gpw1BlyuTnN6J4BRm5c5KL07yiiQ/eojLHyb5tiQPTPJObhsFXj3cvabcQanczaa3ANAUc+1mScpjq/5meH9+6oDma5P8w8Hxfeba/xco4bLySL4Sjvq7B1z+XpJPDkGqUzoxK8Mo/3q+zLnHJyl3IfvLJLep2HBd22dBR6U3FAIECBAgsBOBKb7rrvH7xxRua1uPTmF28E3S+1q0jHcKN+vRcfts1qPWozv5YHZRAgQIECBAgACB3QkIAO3O3pUJ9CawFzS5V5KDf/lfHkf1x0kuS1JuPbzp9YwkLxjukFHulHHw9QfDv3S6R5L3dwA4hdlTk/zY4FYeA3bwVe7K8kNJHpfktzowK0OYwm0/xWOT/IckJah25yT/vMMA0BRmj0pSQj6/kaS8V9fwmsKtBHuuHu7AVQI/n90H9y3D77KPJLlTR6CXDIHE8i9NnzjMmTMqAkBr+yzoqPSGQoAAAQIEdiIwxXe2NX7/mMJtbevRKczWthadag1vPfrVv1633WezHv3KHob16E4+nl2UAAECBAgQIEBgFwICQLtQd00C/QmU3yWfS3JykvKvsr5wYIgnJbl2eDzYLZN8eQPBS5I8OcmTkrzskDblLjfljhKPGR43tGTJqcxOZHCjJH+W5JuTfE+Sdy8ZbOj71G7fNDz6qzjdP0mZg70FgKYyK3fwKo/mK+/B3x4eOVfMyqOsfn94T/bymLky3aZyK+e6NMl9k7wtyU8m+d9JvnWYbyU0+RNJLu7g/bk3hPL4wY8nedVwJ7d3VG64rumzoKOyGwoBAgQIENiJwFTf2db2/WMqtzWtR6c2W8NadMp1lfXoV7/btt1nsx5NrEd38vHsogQIECBAgAABArsSEADalbzrEuhLYO+WwuWRQN+4YWjl0UHl/5V/fXTNhjavT/LIJA9P8ruHtPnlJOcmeWaSFy6ccCqzEzGUO2+UIFX5i/g7Jrlu4Wal+1O7vXEIJpTHpP1pkn/fYQBoKrNyl6Ryt6TyqLlnDQGW/VOq3PnrrCT/t4N5NvVcKyG830nyDw7YlEdjlccm9HJ3rk2lr91wXdNnQSdvF8MgQIAAAQI7E5jqu+7avn9M5bam9ejUZmtYi065rrIe/dp32zb7bOUo69G6OwCt7fNgZx/gLkyAAAECBAgQIDCPgADQPK7OSmBtAndI8rEkH01y+obBl0fclBDK7YZAymHNyt0xzkzyoHzlX+gcfJ2f5DnDo5rKM+SX/JrKbJPBdwyG5Y5LZyd55ZKx9vV9Srdyu/oXJSmPm7touEaPAaCpzN6Q5PuGx1l9JsnTkvz34bFp/zrJA5P8tyQPOMFdvpY0DadyK2Mud0Yrj5Uo/2r1T5KU34flDkDlsV/lMQKPHn62JJ+avtYGgNb0WVDjqC0BAgQIECDwtQJTfWdb2/ePqdzWtB6d0mwta9EyP6Zysx792nfbNvts1qP1dwBa2+eB7xYECBAgQIAAAQKdCQgAdVZQwyGwI4ES6rly+Avs8hfah71KOOi0JLdPctWGNm9J8uAhSPDOQ9pckOTZSX4hyfN3NNapLjuV2WH9uXeSNw13y3lxkrK52MtrKrfyL+DKHWsuH+bb3mPpegwATWW2twn2+ST3SPKhfZOqBFxKsKW8xx+apLyXl/6ayu3rhkd/lUeAPW54fFqxKY/oK4HG8jvtg4PpwccnLt1wr/+1AaA1fRb0UmPjIECAAAECuxKY6jvb2r5/TOW2pvXoVGZrWouW+TGVm/Xo177bttlnsx6tDwCt7fNgV5/frkuAAAECBAgQIDCTgADQTLBOS2BlAuWxXlcnKbcfPnXD2PduTXyroe1hzV6b5FHDY4RKgOXga+8RYPvv2LJU6qnMDo6/3KHlNUnKnX9enuRJSb60VKRD+j2F242TvCvJPYc/H953nR4DQFOYFaK922C/LskPHFKb5+27O9d5Hcy5qdx+PMm/He429S8OcdnbyO7pTl0Hh1kbAFrTZ0EHbxVDIECAAAECOxWY6jvb2r5/TOW2pvXoFGZrW4uW+TGFm/Xo4b9mt9lnsx6tDwCt7fNgpx/iLk6AAAECBAgQIDC9gADQ9KbOSGCNAuV3yTXDY25umuS6AwgnJbk2Sbm7RblTyKbXxcNjhZ6Q5JJDGr0iyeOTPGYIuSzZeiqz/QZPSVIMy6biryd5ViePYto/xinc/lmS/zjcwebSA5Oo3KWl/IvM8vNyh5v/NPwx15KXJXni8Li0EsI7+PqxJC8d/pS5uPTXFHOtGLw6yQ8PoakSnjr4Ku/TX01SHqP2L5eOtqH/tQGgNX0WdFpywyJAgAABAscmMNV3trV9/5jKbU3r0SnM1rYWLfNjCrdyHuvRr/61uu0+m/VofQBobZ8Hx/aB7UIECBAgQIAAAQLHIyAAdDzOrkJgDQLvSXKf4TE27z8w4PK4oCuSXDa02eRRHlX1ouEvw889pFE5/js3XGOJxlOY7Y27PEaoPCKt3O3np4eQxhJNtunzUd3OGe6OtM21iun52zRsvM1RzcrwfnIIqfz2EGg5OORfTPLc4fF85TF9PbymcCt3M/vHSR6Z5HcOQdlzLZuMP9ED2iFjqA0Are2zoNOyGxYBAgQIEDg2gSm+s63x+8cUbmtbjx7VbI1r0TJHjupmPZqM3WezHq0PAK3x8+DYPrBdiAABAgQIECBAYH4BAaD5jV2BwFoESlCihFDKo38uPDDo8rPyeKAbClPcabjryp8mufuBR1edNvy/K5Oc3gnqFGaF4ulJXpjki8MdksojwHp+TeV2mFGPjwAr45zC7G5J/mR4hF95D372AODvJbl/kocleXMnE3AKt4uSPHN4DNjTDnF5Q5Ly6L4nJ/l3nbgdHEZtAGhtnwWdlt2wCBAgQIDAsQlM8Z1tjd8/pnBb23p0KrM1rUWtR8f/KpxivlmP1geA1vh5MH6WOpIAAQIECBAgQKA5AQGg5kqiQwQWK1ACAR8YHvN1ZpLLh5GUO/a8LcnJQ3Dnk8PPS6Dn5kk+PfzZG/gbhwDB85Ps3UXkFknKM7gfkuQZSX5jsUpf3fEpzL51sC6+jx0eN9QJz8ZhTOG26eS9BoCmMit3sHl4kvIoq8cl+dwA+a+S/MrwO6DMyb/pZBJO4VY83jsEGn9o+F22x1MepVYe1/ep4dFzf9mJ28FhnCgA5LOg06IbFgECBAgQOEaBKb6zle6uaS1axjuF29rWo1OYrW0tOtVcK+exHv3K7KnZZ7MePXEAyHr0GD+sXYoAAQIECBAgQOB4BASAjsfZVQisRaDc3aI8xqbciaaEfsrvmBIGKs8mPzvJq/ZB7P2F8MG7At05ye8nOXV4bFi5G9D9ktx22JD9/iTXdQR6VLO957lfnaTcSWTT6yVJ3s3tBh/n1WsAqJT+qHOtnKO8D/9rknI3oE8kuTTJ3x8ey1fm4IP3hf96mW5TuJVzlODijYYw0IcHs7sm+askj0jyzl7ADhnHiQJAPgs6LryhESBAgACBYxSY4jvb2taiU6wR1rgenWKuHfbW6HktOsVcsx4dv89mPZqckeS7k5Q7F+9/WY8e4we1SxEgQIAAAQIECByPgADQ8Ti7CoE1CZS/yD43ybcnuTbJ+5KUu/mUQNA2i+zS5g5JnpvkrCSnDI/+emWScuviz3eIeRSzP09ymy1MnpDkki3aLanJUdw2jbP3TdcpzL4+yc8k+cEkd0zyF0neOrxnP7ikCVTR1yncyuPRyp2Syn//TpJyN7S3DL8f/1dFX5bYdEwAaI2fBUusrT4TIECAAIGWBKb4zra2tWip31Hc1roePYrZWteiR51re27Wo+P22axH6wJA1qMtfbrrCwECBAgQIECAQJWAAFAVl8YECBAgQIAAAQIECBAgQIAAAQIECBAgQIAAAQIECBAgQIAAAQIE2hIQAGqrHnpDgAABAgQIECBAgAABAgQIECBAgAABAgQIECBAgAABAgQIECBAoEpAAKiKS2MCBAgQIECAAAECBAgQIECAAAECBAgQIECAAAECBAgQIECAAAECbQkIALVVD70hQIAAAQIECBAgQIAAAQIECBAgQIAAAQIECBAgQIAAAQIECBAgUCUgAFTFpTEBAgQIECBAgAABAgQIECBAgAABAgQIECBAgAABAgQIECBAgACBtgQEgNqqh94QIECAAAECBAgQIECAAAECBAgQIECAAAECBAgQIECAAAECBAgQqBIQAKri0pgAAQIECBAgQIAAAQIECBAgQIAAAQIECBAgQIAAAQIECBAgQIBAWwICQG3VQ28IECBAgAABAgQIECBAgAABAgQIECBAgAABAgQIECBAgAABAgQIVAkIAFVxaUyAAAECBAgQIECAAAECBAgQIECAAAECBAgQIECAAAECBAgQIECgLQEBoLbqoTcECBAgQIAAAQIECBAgQIAAAQIECBAgQIAAAQIECBAgQIAAAQIEqgQEgKq4NCZAgAABAgQIECBAgAABAgQIECBAgAABAgQIECBAgAABAgQIECDQloAAUFv10BsCBAgQIECAAAECBAgQIECAAAECBAgQIECAAAECBAgQIECAAAECVQICQFVcGhMgQIAAAQIECBAgQIAAAQIECBAgQIAAAQIECBAgQIAAAQIECBBoS0AAqK166A0BAgQIECBAgAABAgQIECBAgAABAgQIECBAgAABAgQIECBAgACBKgEBoCoujQkQIECAAAECBAgQIECAAAECBAgQIECAAAECBAgQIECAAAECBAi0JSAA1FY99IYAAQIECBAgQIAAAQIECBAgQIAAAQIECBAgQIAAAQIECBAgQIBAlYAAUBWXxgQIECBAgAABAgQIECBAgAABAgQIECBAgAABAgQIECBAgAABAgTaEhAAaqseekOAAAECBAgQIECAAAECBAgQIECAAAECBAgQIECAAAECBAgQIECgSkAAqIpLYwIECBAgQIAAAQIECBAgQIAAAQIECBAgQIAAAQIECBAgQIAAAQJtCQgAtVUPvSFAgAABAgQIECBAgAABAgQIECBAgAABAgQIECBAgAABAgQIECBQJSAAVMWlMQECBAgQIECAAAECBAgQIECAAAECBAgQIECAAAECBAgQIECAAIG2BASA2qqH3hAgQIAAAQIECBAgQIAAAQIECBAgQIAAAQIECBAgQIAAAQIECBCoEhAAquLSmAABAgQIECBAgAABAgQIECBAgAABAgQIECBAgAABAgQIECBAgEBbAgJAbdVDbwgQIECAAAECBAgQIECAAAECBAgQIECAAAECBAgQIECAAAECBAhUCQgAVXFpTIAAAQIECBAgQIAAAQIECBAgQIAAAQIECBAgQIAAAQIECBAgQKAtAQGgtuqhNwQIECBAgAABAgQIECBAgAABAgQIECBAgAABAgQIECBAgAABAgSqBASAqrg0JkCAAAECBAgQIECAAAECBAgQIECAAAECBAgQIECAAAECBAgQINCWgABQW/XQGwIECBAgQIAAAQIECBAgQIAAAQIECBAgQIAAAQIECBAgQIAAAQJVAgJAVVwaEyBAgAABAgQIECBAgAABAgQIECBAgAABAgQIECBAgAABAgQIEGhLQACorXroDQECBAgQIECAAAECBAgQIECAAAECBAgQIECAAAECBAgQIECAAIEqAQGgKi6NCRAgQIAAAQIECBAgQIAAAQIECBAgQIAAAQIECBAgQIAAAQIECLQlIADUVj30hgABAgQIECBAgAABAgQIECBAgAABAgQIECBAgAABAgQIECBAgECVgABQFZfGBAgQIECAAAECBAgQIECAAAECBAgQIECAAAECBAgQIECAAAECBNoSEABqqx56Q4AAAQIECBAgQIAAAQIECBAgQIAAAQIECBAgQIAAAQIECBAgQKBKQACoiktjAgQIECBAgAABAgQIECBAgAABAgQIECBAgAABAgQIECBAgAABAm0JCAC1VQ+9IUCAAAECBAgQIECAAAECBAgQIECAAAECBAgQIECAAAECBAgQIFAlIABUxaUxAQIECBAgQIAAAQIECBAgQIAAAQIECBAgQIAAAQIECBAgQIAAgbYEBIDaqofeECBAgAABAgQIECBAgAABAgQIECBAgAABAgQIECBAgAABAgQIEKgSEACq4tKYAAECBAgQIECAAAECBAgQIECAAAECBAgQIECAAAECBAgQIECAQFsCAkBt1UNvCBAgQIAAAQIECBAgQIAAAQIECBAgQIAAAQIECBAgQIAAAQIECFQJCABVcWlMgAABAgQIECBAgAABAgQIECBAgAABAgQIECBAgAABAgQIECBAoC0BAaC26qE3BAgQIECAAAECBAgQIECAAAECBAgQIECAAAECBAgQIECAAAECBKoEBICquDQmQIAAAQIECBAgQIAAAQIECBAgQIAAAQIECBAgQIAAAQIECBAg0JaAAFBb9dAbAgQIECDDQQByAAAgAElEQVRAgAABAgQIECBAgAABAgQIECBAgAABAgQIECBAgAABAlUCAkBVXBoTIECAAAECBAgQIECAAAECBAgQIECAAAECBAgQIECAAAECBAgQaEtAAKiteugNAQIECBAgQIAAAQIECBAgQIAAAQIECBAgQIAAAQIECBAgQIAAgSoBAaAqLo0JECBAgAABAgQIECBAgAABAgQIECBAgAABAgQIECBAgAABAgQItCUgANRWPfSGAAECBAgQIECAAAECBAgQIECAAAECBAgQIECAAAECBAgQIECAQJWAAFAVl8YECBAgQIAAAQIECBAgQIAAAQIECBAgQIAAAQIECBAgQIAAAQIE2hIQAGqrHnpDgAABAgQIECBAgAABAgQIECBAgAABAgQIECBAgAABAgQIECBAoEpAAKiKS2MCBAgQIECAAAECBAgQIECAAAECBAgQIECAAAECBAgQIECAAAECbQkIALVVD70hQIAAAQIECBAgQIAAAQIECBAgQIAAAQIECBAgQIAAAQIECBAgUCUgAFTFpTEBAgQIECBAgAABAgQIECBAgAABAgQIECBAgAABAgQIECBAgACBtgQEgNqqh94QIECAAAECBAgQIECAAAECBAgQIECAAAECBAgQIECAAAECBAgQqBIQAKri0pgAAQIECBAgQIAAAQIECBAgQIAAAQIECBAgQIAAAQIECBAgQIBAWwICQG3VQ28IECBAgAABAgQIECBAgAABAgQIECBAgAABAgQIECBAgAABAgQIVAkIAFVxaUyAAAECBAgQIECAAAECBAgQIECAAAECBAgQIECAAAECBAgQIECgLQEBoLbqoTcECBAgQIAAAQIECBAgQIAAAQIECBAgQIAAAQIECBAgQIAAAQIEqgQEgKq4NCZAgAABAgQIECBAgAABAgQIECBAgAABAgQIECBAgAABAgQIECDQloAAUFv10BsCBAgQIECAAAECBAgQIECAAAECBAgQIECAAAECBAgQIECAAAECVQICQFVcGhMgQIAAAQIECBAgQIAAAQIECBAgQIAAAQIECBAgQIAAAQIECBBoS0AAqK166A0BAgQIECBAgAABAgQIECBAgAABAgQIECBAgAABAgQIECBAgACBKgEBoCoujQkQIECAAAECBAgQIECAAAECBAgQIECAAAECBAgQIECAAAECBAi0JSAA1FY99IYAAQIECBAgQIAAAQIECBAgQIAAAQIECBAgQIAAAQIECBAgQIBAlYAAUBWXxgQIECBAgAABAgQIECBAgAABAgQIECBAgAABAgQIECBAgAABAgTaEhAAaqseekOAAAECBAgQIECAAAECBAgQIECAAAECBAgQIECAAAECBAgQIECgSkAAqIpLYwIECBAgQIAAAQIECBAgQIAAAQIECBAgQIAAAQIECBAgQIAAAQJtCQgAtVUPvSFAgAABAgQIECBAgAABAgQIECBAgAABAgQIECBAgAABAgQIECBQJSAAVMWlMQECBAgQIECAAAECBAgQIECAAAECBAgQIECAAAECBAgQIECAAIG2BASA2qqH3hAgQIAAAQIECBAgQIAAAQIECBAgQIAAAQIECBAgQIAAAQIECBCoEhAAquLSmAABAgQIECBAgAABAgQIECBAgAABAgQIECBAgAABAgQIECBAgEBbAgJAbdVDbwgQIECAAAECBAgQIECAAAECBAgQIECAAAECBAgQIECAAAECBAhUCQgAVXFpTIAAAQIECBAgQIAAAQIECBAgQIAAAQIECBAgQIAAAQIECBAgQKAtAQGgtuqhNwQIECBAgAABAgQIECBAgAABAgQIECBAgAABAgQIECBAgAABAgSqBASAqrg0JkCAAAECBAgQIECAAAECBAgQIECAAAECBAgQIECAAAECBAgQINCWgABQW/XQGwIECBAgQIAAAQIECBAgQIAAAQIECBAgQIAAAQIECBAgQIAAAQJVAgJAVVwaEyBAgAABAgQIECBAgAABAgQIECBAgAABAgQIECBAgAABAgQIEGhLQACorXroDQECBAgQIECAAAECBAgQIECAAAECBAgQIECAAAECBAgQIECAAIEqAQGgKi6NCRAgQIAAAQIECBAgQIAAAQIECBAgQIAAAQIECBAgQIAAAQIECLQlIADUVj30hgABAgQIECBAgAABAgQIECBAgAABAgQIECBAgAABAgQIECBAgECVgABQFZfGBAgQIECAAAECBAgQIECAAAECBAgQIECAAAECBAgQIECAAAECBNoSEABqqx56Q4AAAQIECBAgQIAAAQIECBAgQIAAAQIECBAgQIAAAQIECBAgQKBKQACoiktjAgQIECBAgAABAgQIECBAgAABAgQIECBAgAABAgQIECBAgAABAm0JCAC1VQ+9IUCAAAECBAgQIECAAAECBAgQIECAAAECBAgQIECAAAECBAgQIFAlIABUxaUxAQIECBAgQIAAAQIECBAgQIAAAQIECBAgQIAAAQIECBAgQIAAgbYEBIDaqofeECBAgAABAgQIECBAgAABAgQIECBAgAABAgQIECBAgAABAgQIEKgSEACq4tKYAAECBAgQIECAAAECBAgQIECAAAECBAgQIECAAAECBAgQIECAQFsCAkBt1UNvCBAgQIAAAQIECBAgQIAAAQIECBAgQIAAAQIECBAgQIAAAQIECFQJCABVcWlMgAABAgQIECBAgAABAgQIECBAgAABAgQIECBAgAABAgQIECBAoC0BAaC26qE3BAgQIECAAAECBAgQIECAAAECBAgQIECAAAECBAgQIECAAAECBKoEBICquDQmQIAAAQIECBAgQIAAAQIECBAgQIAAAQIECBAgQIAAAQIECBAg0JaAAFBb9dAbAgQIECBAgAABAgQIECBAgAABAgQIECBAgAABAgQIECBAgAABAlUCAkBVXBoTIECAAAECBAgQIECAAAECBAgQIECAAAECBAgQIECAAAECBAgQaEtAAKiteugNAQIECBAgQIAAAQIECBAgQIAAAQIECBAgQIAAAQIECBAgQIAAgSoBAaAqLo0JECBAgAABAgQIECBAgAABAgQIECBAgAABAgQIECBAgAABAgQItCUgANRWPfSGAAECBAgQIECAAAECBAgQIECAAAECBAgQIECAAAECBAgQIECAQJWAAFAVl8YECBAgQIAAAQIECBAgQIAAAQIECBAgQIAAAQIECBAgQIAAAQIE2hIQAGqrHnpDgAABAgQIECBAgAABAgQIECBAgAABAgQIECBAgAABAgQIECBAoEpAAKiKS2MCBAgQIECAAAECBAgQIECAAAECBAgQIECAAAECBAgQIECAAAECbQkIALVVD70hQIAAAQIECBAgQIAAAQIECBAgQIAAAQIECBAgQIAAAQIECBAgUCUgAFTFpTEBAgQIECBAgAABAgQIECBAgAABAgQIECBAgAABAgQIECBAgACBtgQEgNqqh94QIECAAAECBAgQIECAAAECBAgQIECAAAECBAgQIECAAAECBAgQqBIQAKri0pgAAQIECBAgQIAAAQIECBAgQIAAAQIECBAgQIAAAQIECBAgQIBAWwICQG3VQ28IECBAgAABAgQIECBAgAABAgQIECBAgAABAgQIECBAgAABAgQIVAkIAFVxaUyAAAECBAgQIECAAAECBAgQIECAAAECBAgQIECAAAECBAgQIECgLQEBoLbqoTcECBAgQIAAAQIECBAgQIAAAQIECBAgQIAAAQIECBAgQIAAAQIEqgQEgKq4NCZAgAABAgQIECBAgAABAgQIECBAgAABAgQIECBAgAABAgQIECDQloAAUFv10BsCBAgQIECAAAECBAgQIECAAAECBAgQIECAAAECBAgQIECAAAECVQICQFVcGhMgQIAAAQIECBAgQIAAAQIECBAgQIAAAQIECBAgQIAAAQIECBBoS0AAqK166A0BAgQIECBAgAABAgQIECBAgAABAgQIECBAgAABAgQIECBAgACBKgEBoCoujQkQIECAAAECBAgQIECAAAECBAgQIECAAAECBAgQIECAAAECBAi0JSAA1FY99IYAAQIECBAgQIAAAQIECBAgQIAAAQIECBAgQIAAAQIECBAgQIBAlYAAUBWXxgQIECBAgAABAgQIECBAgAABAgQIECBAgAABAgQIECBAgAABAgTaEhAAaqseekOAAAECBAgQIECAAAECBAgQIECAAAECBAgQIECAAAECBAgQIECgSkAAqIpLYwIECBAgQIAAAQIECBAgQIAAAQIECBAgQIAAAQIECBAgQIAAAQJtCQgAtVUPvSFAgAABAgQIECBAgAABAgQIECBAgAABAgQIECBAgAABAgQIECBQJSAAVMWlMQECBAgQIECAAAECBAgQIECAAAECBAgQIECAAAECBAgQIECAAIG2BASA2qqH3hAgQIAAAQIECBAgQIAAAQIECBAgQIAAAQIECBAgQIAAAQIECBCoEhAAquLSmAABAgQIECBAgAABAgQIECBAgAABAgQIECBAgAABAgQIECBAgEBbAgJAbdVDbwgQIECAAAECBAgQIECAAAECBAgQIECAAAECBAgQIECAAAECBAhUCQgAVXFpTIAAAQIECBAgQIAAAQIECBAgQIAAAQIECBAgQIAAAQIECBAgQKAtAQGgtuqhNwQIECBAgAABAgQIECBAgAABAgQIECBAgAABAgQIECBAgAABAgSqBASAqrg0JkCAAAECBAgQIECAAAECBAgQIECAAAECBAgQIECAAAECBAgQINCWgABQW/XQGwIECBAgQIAAAQIECBAgQIAAAQIECBAgQIAAAQIECBAgQIAAAQJVAgJAVVwaEyBAgAABAgQIECBAgAABAgQIECBAgAABAgQIECBAgAABAgQIEGhLQACorXroDQECBAgQIECAAAECBAgQIECAAAECBAgQIECAAAECBAgQIECAAIEqAQGgKi6NCRAgQIAAAQIECBAgQIAAAQIECBAgQIAAAQIECBAgQIAAAQIECLQlIADUVj30hgABAgQIECBAgAABAgQIECBAgAABAgQIECBAgAABAgQIECBAgECVgABQFZfGBAgQIECAAAECBAgQIECAAAECBAgQIECAAAECBAgQIECAAAECBNoSEABqqx56Q4AAAQIECBAgQIAAAQIECBAgQIAAAQIECBAgQIAAAQIECBAgQKBKQACoiktjAgQIECBAgAABAgQIECBAgAABAgQIECBAgAABAgQIECBAgAABAm0JCAC1VQ+9IUCAAAECBAgQIECAAAECBAgQIECAAAECBAgQIECAAAECBAgQIFAlIABUxaUxAQIECBAgQIAAAQIECBAgQIAAAQIECBAgQIAAAQIECBAgQIAAgbYEBIDaqofeECBAgAABAgQIECBAgAABAgQIECBAgAABAgQIECBAgAABAgQIEKgSEACq4tKYAAECBAgQIECAAAECBAgQIECAAAECBAgQIECAAAECBAgQIECAQFsCAkBt1UNvCBAgQIAAAQIECBAgQIAAAQIECBAgQIAAAQIECBAgQIAAAQIECFQJCABVcWlMgAABAgQIECBAgAABAgQIECBAgAABAgQIECBAgAABAgQIECBAoC0BAaC26qE3BAgQIECAAAECBAgQIECAAAECBAgQIECAAAECBAgQIECAAAECBKoEBICquDQmQIAAAQIECBAgQIAAAQIECBAgQIAAAQIECBAgQIAAAQIECBAg0JaAAFBb9dAbAgQIECBAgAABAgQIECBAgAABAgQIECBAgAABAgQIECBAgAABAlUCAkBVXBoTIECAAAECBAgQIECAAAECBAgQIECAAAECBAgQIECAAAECBAgQaEtAAKiteugNAQIECBAgQIAAAQIECBAgQIAAAQIECBAgQIAAAQIECBAgQIAAgSoBAaAqLo0JECBAgAABAgQIECBAgAABAgQIECBAgAABAgQIECBAgAABAgQItCUgANRWPfSGAAECBAgQIECAAAECBAgQIECAAAECBAgQIECAAAECBAgQIECAQJWAAFAVl8YECBAgQIAAAQIECBAgQIAAAQIECBAgQIAAAQIECBAgQIAAAQIE2hIQAGqrHnpDgAABAgQIECBAgAABAgQIECBAgAABAgQIECBAgAABAgQIECBAoEpAAKiKS2MCBAgQIECAAAECBAgQIECAAAECBAgQIECAAAECBAgQIECAAAECbQkIALVVD70hQIAAAQIECBAgQIAAAQIECBAgQIAAAQIECBAgQIAAAQIECBAgUCUgAFTFpTEBAgQIECBAgAABAgQIECBAgAABAgQIECBAgAABAgQIECBAgACBtgQEgNqqh94QIECAAAECBAgQIECAAAECBAgQIECAAAECBAgQIECAAAECBAgQqBIQAKri0pgAAQIECBAgQIAAAQIECBAgQIAAAQIECBAgQIAAAQIECBAgQIBAWwICQG3VQ28IECBAgAABAgQIECBAgAABAgQIECBAgAABAgQIECBAgAABAgQIVAkIAFVxaUyAAAECBAgQIECAAAECBAgQIECAAAECBAgQIECAAAECBAgQIECgLQEBoLbqoTcECBAgQIAAAQIECBAgQIAAAQIECBAgQIAAAQIECBAgQIAAAQIEqgQEgKq4NCZAgAABAgQIECBAgAABAgQIECBAgAABAgQIECBAgAABAgQIECDQloAAUFv10BsCBAgQIECAAAECBAgQIECAAAECBAgQIECAAAECBAgQIECAAAECVQICQFVcGhMgQIAAAQIECBAgQIAAAQIECBAgQIAAAQIECBAgQIAAAQIECBBoS0AAqK166A0BAgQIECBAgAABAgQIECBAgAABAgQIECBAgAABAgQIECBAgACBKgEBoCoujQkQIECAAAECBAgQIECAAAECBAgQIECAAAECBAgQIECAAAECBAi0JSAA1FY99IYAAQIECBAgQIAAAQIECBAgQIAAAQIECBAgQIAAAQIECBAgQIBAlYAAUBWXxgQIECBAgAABAgQIECBAgAABAgQIECBAgAABAgQIECBAgAABAgTaEhAAaqseekOAAAECBAgQIECAAAECBAgQIECAAAECBAgQIECAAAECBAgQIECgSkAAqIpLYwIECBAgQIAAAQIECBAgQIAAAQIECBAgQIAAAQIECBAgQIAAAQJtCQgAtVUPvSFAgAABAgQIECBAgAABAgQIECBAgAABAgQIECBAgAABAgQIECBQJSAAVMWlMQECBAgQIECAAAECBAgQIECAAAECBAgQIECAAAECBAgQIECAAIG2BASA2qqH3hAgQIAAAQIECBAgQIAAAQIECBAgQIAAAQIECBAgQIAAAQIECBCoEhAAquLSmAABAgQIECBAgAABAgQIECBAgAABAgQIECBAgAABAgQIECBAgEBbAgJAbdVDbwgQIECAAAECBAgQIECAAAECBAgQIECAAAECBAgQIECAAAECBAhUCQgAVXFpTIAAAQIECBAgQIAAAQIECBAgQIAAAQIECBAgQIAAAQIECBAgQKAtAQGgtuqhNwQIECBAgAABAgQIECBAgAABAgQIECBAgAABAgQIECBAgAABAgSqBASAqrg0JkCAAAECBAgQIECAAAECBAgQIECAAAECBAgQIECAAAECBAgQINCWgABQW/XQGwIECBAgQIAAAQIECBAgQIAAAQIECBAgQIAAAQIECBAgQIAAAQJVAgJAVVwaEyBAgAABAgQIECBAgAABAgQIECBAgAABAgQIECBAgAABAgQIEGhLQACorXroDQECBAgQIECAAAECBAgQIECAAAECBAgQIECAAAECBAgQIECAAIEqAQGgKi6NCRAgQIAAAQIECBAgQIAAAQIECBAgQIAAAQIECBAgQIAAAQIECLQlIADUVj30hgABAgQIECBAgAABAgQIECBAgAABAgQIECBAgAABAgQIECBAgECVgABQFZfGBAgQIECAAAECBAgQIECAAAECBAgQIECAAAECBAgQIECAAAECBNoSEABqqx56Q4AAAQIECBAgQIAAAQIECBAgQIAAAQIECBAgQIAAAQIECBAgQKBKQACoiktjAgQIECBAgAABAgQIECBAgAABAgQIECBAgAABAgQIECBAgAABAm0JCAC1VQ+9IUCAAAECBAgQIECAAAECBAgQIECAAAECBAgQIECAAAECBAgQIFAlIABUxaUxAQIECBAgQIAAAQIECBAgQIAAAQIECBAgQIAAAQIECBAgQIAAgbYEBIDaqofeECBAgAABAgQIECBAgAABAgQIECBAgAABAgQIECBAgAABAgQIEKgSEACq4tKYAAECBAgQIECAAAECBAgQIECAAAECBAgQIECAAAECBAgQIECAQFsCAkBt1UNvCBAgQIAAAQIECBAgQIAAAQIECBAgQIAAAQIECBAgQIAAAQIECFQJCABVcWlMgAABAgQIECBAgAABAgQIECBAgAABAgQIECBAgAABAgQIECBAoC0BAaC26qE3BAgQIECAAAECBAgQIECAAAECBAgQIECAAAECBAgQIECAAAECBKoEBICquDQmQIAAAQIECBAgQIAAAQIECBAgQIAAAQIECBAgQIAAAQIECBAg0JaAAFBb9dAbAgQIECBAgAABAgQIECBAgAABAgQIECBAgAABAgQIECBAgAABAlUCAkBVXBoTIECAAAECBAgQIECAAAECBAgQIECAAAECBAgQIECAAAECBAgQaEtAAKiteugNAQIECBAgQIAAAQIECBAgQIAAAQIECBAgQIAAAQIECBAgQIAAgSoBAaAqLo0JECBAgAABAgQIECBAgAABAgQIECBAgAABAgQIECBAgAABAgQItCUgANRWPfSGAAECBAgQIECAAAECBAgQIECAAAECBAgQIECAAAECBAgQIECAQJWAAFAVl8YECBAgQIAAAQIECBAgQIAAAQIECBAgQIAAAQIECBAgQIAAAQIE2hIQAGqrHnpDgAABAgQIECBAgAABAgQIECBAgAABAgQIECBAgAABAgQIECBAoEpAAKiKS2MCBAgQIECAAAECBAgQIECAAAECBAgQIECAAAECBAgQIECAAAECbQkIALVVD70hQIAAAQIECBAgQIAAAQIECBAgQIAAAQIECBAgQIAAAQIECBAgUCUgAFTFpTEBAgQIECBAgAABAgQIECBAgAABAgQIECBAgAABAgQIECBAgACBtgQEgNqqh94QIECAAAECBAgQIECAAAECBAgQIECAAAECBAgQIECAAAECBAgQqBIQAKri0pgAAQIECBAgQIAAAQIECBAgQIAAAQIECBAgQIAAAQIECBAgQIBAWwICQG3VQ28IECBAgAABAgQIECBAgAABAgQIECBAgAABAgQIECBAgAABAgQIVAkIAFVxaUyAAAECBAgQIECAAAECBAgQIECAAAECBAgQIECAAAECBAgQIECgLQEBoLbqoTcECBAgQIAAAQIECBAgQIAAAQIECBAgQIAAAQIECBAgQIAAAQIEqgQEgKq4NCZAgAABAgQIECBAgAABAgQIECBAgAABAgQIECBAgAABAgQIECDQloAAUFv10BsCBAgQIECAAAECBAgQIECAAAECBAgQIECAAAECBAgQIECAAAECVQICQFVcGhMgQIAAAQIECBAgQIAAAQIECBAgQIAAAQIECBAgQIAAAQIECBBoS0AAqK166A0BAgQIECBAgAABAgQIECBAgAABAgQIECBAgAABAgQIECBAgACBKgEBoCoujQkQIECAAAECBAgQIECAAAECBAgQIECAAAECBAgQIECAAAECBAi0JSAA1FY99IYAAQIECBAgQIAAAQIECBAgQIAAAQIECBAgQIAAAQIECBAgQIBAlYAAUBWXxgQIECBAgAABAgQIECBAgAABAgQIECBAgAABAgQIECBAgAABAgTaEhAAaqseekOAAAECBAgQIECAAAECBAgQIECAAAECBAgQIECAAAECBAgQIECgSkAAqIpLYwIECBAgQIAAAQIECBAgQIAAAQIECBAgQIAAAQIECBAgQIAAAQJtCQgAtVUPvSFAgAABAgQIECBAgAABAgQIECBAgAABAgQIECBAgAABAgQIECBQJSAAVMWlMQECBAgQIECAAAECBAgQIECAAAECBAgQIECAAAECBAgQIECAAIG2BASA2qqH3hAgQIAAAQIECBAgQIAAAQIECBAgQIAAAQIECBAgQIAAAQIECBCoEhAAquLSmAABAgQIECBAgAABAgQIECBAgAABAgQIECBAgAABAgQIECBAgEBbAgJAbdVDbwgQIECAAAECBAgQIECAAAECBAgQIECAAAECBAgQIECAAAECBAhUCQgAVXFpTIAAAQIECBAgQIAAAQIECBAgQIAAAQIECBAgQIAAAQIECBAgQKAtAQGgtuqhNwQIECBAgAABAgQIECBAgAABAgQIECBAgAABAgQIECBAgAABAgSqBASAqrg0JkCAAAECBAgQIECAAAECBAgQIECAAAECBAgQIECAAAECBAgQINCWgABQW/XQGwIECBAgQIAAAQIECBAgQIAAAQIECBAgQIAAAQIECBAgQIAAAQJVAgJAVVwaEyBAgAABAgQIECBAgAABAgQIECBAgAABAgQIECBAgAABAgQIEGhLQACorXroDQECBAgQIECAAAECBAgQIECAAAECBAgQIECAAAECBAgQIECAAIEqAQGgKi6NCRAgQIAAAQIECBAgQIAAAQIECBAgQIAAAQIECBAgQIAAAQIECLQlIADUVj30hgABAgQIECBAgAABAgQIECBAgAABAgQIECBAgAABAgQIECBAgECVgABQFZfGBAgQIECAAAECBAgQIECAAAECBAgQIECAAAECBAgQIECAAAECBNoSEABqqx56Q4AAAQIECBAgQIAAAQIECBAgQFyz2jkAACAASURBVIAAAQIECBAgQIAAAQIECBAgQKBKQACoiktjAgQIECBAgAABAgQIECBAgAABAgQIECBAgAABAgQIECBAgAABAm0JCAC1VQ+9IUCAAAECBAgQIECAAAECBAgQIECAAAECBAgQIECAAAECBAgQIFAlIABUxaUxAQIECBAgQIAAAQIECBAgQIAAAQIECBAgQIAAAQIECBAgQIAAgbYEBIDaqofeECBAgAABAgQIECBAgAABAgQIECBAgAABAgQIECBAgAABAgQIEKgSEACq4tKYAAECBAgQIECAAAECBAgQIECAAAECBAgQIECAAAECBAgQIECAQFsCAkBt1UNvCBAgQIAAAQIECBAgQIAAAQIECBAgQIAAAQIECBAgQIAAAQIECFQJCABVcWlMgAABAgQIECBAgAABAgQIECBAgAABAgQIECBAgAABAgQIECBAoC0BAaC26qE3BAgQIECAAAECBAgQIECAAAECBAgQIECAAAECBAgQIECAAAECBKoEBICquDQmQIAAAQIECBAgQIAAAQIECBAg8P/YtUMiAAAABGL9W5MB92IewQ0LAQIECBAgQIAAAQIECBAgQIBAS8ABqLWHNgQIECBAgAABAgQIECBAgAABAgQIECBAgAABAgQIECBAgAABAgQuAQegi0uYAAECBAgQIECAAAECBAgQIECAAAECBAgQIECAAAECBAgQIECAQEvAAai1hzYECBAgQIAAAQIECBAgQIAAAQIECBAgQIAAAQIECBAgQIAAAQIELgEHoItLmAABAgQIECBAgAABAgQIECBAgAABAgQIECBAgAABAgQIECBAgEBLwAGotYc2BAgQIECAAAECBAgQIECAAAECBAgQIECAAAECBAgQIECAAAECBC4BB6CLS5gAAQIECBAgQIAAAQIECBAgQIAAAQIECBAgQIAAAQIECBAgQIBAS8ABqLWHNgQIECBAgAABAgQIECBAgAABAgQIECBAgAABAgQIECBAgAABAgQuAQegi0uYAAECBAgQIECAAAECBAgQIECAAAECBAgQIECAAAECBAgQIECAQEvAAai1hzYECBAgQIAAAQIECBAgQIAAAQIECBAgQIAAAQIECBAgQIAAAQIELgEHoItLmAABAgQIECBAgAABAgQIECBAgAABAgQIECBAgAABAgQIECBAgEBLwAGotYc2BAgQIECAAAECBAgQIECAAAECBAgQIECAAAECBAgQIECAAAECBC4BB6CLS5gAAQIECBAgQIAAAQIECBAgQIAAAQIECBAgQIAAAQIECBAgQIBAS8ABqLWHNgQIECBAgAABAgQIECBAgAABAgQIECBAgAABAgQIECBAgAABAgQuAQegi0uYAAECBAgQIECAAAECBAgQIECAAAECBAgQIECAAAECBAgQIECAQEvAAai1hzYECBAgQIAAAQIECBAgQIAAAQIECBAgQIAAAQIECBAgQIAAAQIELgEHoItLmAABAgQIECBAgAABAgQIECBAgAABAgQIECBAgAABAgQIECBAgEBLwAGotYc2BAgQIECAAAECBAgQIECAAAECBAgQIECAAAECBAgQIECAAAECBC4BB6CLS5gAAQIECBAgQIAAAQIECBAgQIAAAQIECBAgQIAAAQIECBAgQIBAS8ABqLWHNgQIECBAgAABAgQIECBAgAABAgQIECBAgAABAgQIECBAgAABAgQuAQegi0uYAAECBAgQIECAAAECBAgQIECAAAECBAgQIECAAAECBAgQIECAQEvAAai1hzYECBAgQIAAAQIECBAgQIAAAQIECBAgQIAAAQIECBAgQIAAAQIELgEHoItLmAABAgQIECBAgAABAgQIECBAgAABAgQIECBAgAABAgQIECBAgEBLwAGotYc2BAgQIECAAAECBAgQIECAAAECBAgQIECAAAECBAgQIECAAAECBC4BB6CLS5gAAQIECBAgQIAAAQIECBAgQIAAAQIECBAgQIAAAQIECBAgQIBAS8ABqLWHNgQIECBAgAABAgQIECBAgAABAgQIECBAgAABAgQIECBAgAABAgQuAQegi0uYAAECBAgQIECAAAECBAgQIECAAAECBAgQIECAAAECBAgQIECAQEvAAai1hzYECBAgQIAAAQIECBAgQIAAAQIECBAgQIAAAQIECBAgQIAAAQIELgEHoItLmAABAgQIECBAgAABAgQIECBAgAABAgQIECBAgAABAgQIECBAgEBLwAGotYc2BAgQIECAAAECBAgQIECAAAECBAgQIECAAAECBAgQIECAAAECBC4BB6CLS5gAAQIECBAgQIAAAQIECBAgQIAAAQIECBAgQIAAAQIECBAgQIBAS8ABqLWHNgQIECBAgAABAgQIECBAgAABAgQIECBAgAABAgQIECBAgAABAgQuAQegi0uYAAECBAgQIECAAAECBAgQIECAAAECBAgQIECAAAECBAgQIECAQEvAAai1hzYECBAgQIAAAQIECBAgQIAAAQIECBAgQIAAAQIECBAgQIAAAQIELgEHoItLmAABAgQIECBAgAABAgQIECBAgAABAgQIECBAgAABAgQIECBAgEBLwAGotYc2BAgQIECAAAECBAgQIECAAAECBAgQIECAAAECBAgQIECAAAECBC4BB6CLS5gAAQIECBAgQIAAAQIECBAgQIAAAQIECBAgQIAAAQIECBAgQIBAS8ABqLWHNgQIECBAgAABAgQIECBAgAABAgQIECBAgAABAgQIECBAgAABAgQuAQegi0uYAAECBAgQIECAAAECBAgQIECAAAECBAgQIECAAAECBAgQIECAQEvAAai1hzYECBAgQIAAAQIECBAgQIAAAQIECBAgQIAAAQIECBAgQIAAAQIELgEHoItLmAABAgQIECBAgAABAgQIECBAgAABAgQIECBAgAABAgQIECBAgEBLwAGotYc2BAgQIECAAAECBAgQIECAAAECBAgQIECAAAECBAgQIECAAAECBC4BB6CLS5gAAQIECBAgQIAAAQIECBAgQIAAAQIECBAgQIAAAQIECBAgQIBAS8ABqLWHNgQIECBAgAABAgQIECBAgAABAgQIECBAgAABAgQIECBAgAABAgQuAQegi0uYAAECBAgQIECAAAECBAgQIECAAAECBAgQIECAAAECBAgQIECAQEvAAai1hzYECBAgQIAAAQIECBAgQIAAAQIECBAgQIAAAQIECBAgQIAAAQIELgEHoItLmAABAgQIECBAgAABAgQIECBAgAABAgQIECBAgAABAgQIECBAgEBLwAGotYc2BAgQIECAAAECBAgQIECAAAECBAgQIECAAAECBAgQIECAAAECBC4BB6CLS5gAAQIECBAgQIAAAQIECBAgQIAAAQIECBAgQIAAAQIECBAgQIBAS8ABqLWHNgQIECBAgAABAgQIECBAgAABAgQIECBAgAABAgQIECBAgAABAgQuAQegi0uYAAECBAgQIECAAAECBAgQIECAAAECBAgQIECAAAECBAgQIECAQEvAAai1hzYECBAgQIAAAQIECBAgQIAAAQIECBAgQIAAAQIECBAgQIAAAQIELgEHoItLmAABAgQIECBAgAABAgQIECBAgAABAgQIECBAgAABAgQIECBAgEBLwAGotYc2BAgQIECAAAECBAgQIECAAAECBAgQIECAAAECBAgQIECAAAECBC4BB6CLS5gAAQIECBAgQIAAAQIECBAgQIAAAQIECBAgQIAAAQIECBAgQIBAS8ABqLWHNgQIECBAgAABAgQIECBAgAABAgQIECBAgAABAgQIECBAgAABAgQuAQegi0uYAAECBAgQIECAAAECBAgQIECAAAECBAgQIECAAAECBAgQIECAQEvAAai1hzYECBAgQIAAAQIECBAgQIAAAQIECBAgQIAAAQIECBAgQIAAAQIELgEHoItLmAABAgQIECBAgAABAgQIECBAgAABAgQIECBAgAABAgQIECBAgEBLwAGotYc2BAgQIECAAAECBAgQIECAAAECBAgQIECAAAECBAgQIECAAAECBC4BB6CLS5gAAQIECBAgQIAAAQIECBAgQIAAAQIECBAgQIAAAQIECBAgQIBAS8ABqLWHNgQIECBAgAABAgQIECBAgAABAgQIECBAgAABAgQIECBAgAABAgQuAQegi0uYAAECBAgQIECAAAECBAgQIECAAAECBAgQIECAAAECBAgQIECAQEvAAai1hzYECBAgQIAAAQIECBAgQIAAAQIECBAgQIAAAQIECBAgQIAAAQIELgEHoItLmAABAgQIECBAgAABAgQIECBAgAABAgQIECBAgAABAgQIECBAgEBLwAGotYc2BAgQIECAAAECBAgQIECAAAECBAgQIECAAAECBAgQIECAAAECBC4BB6CLS5gAAQIECBAgQIAAAQIECBAgQIAAAQIECBAgQIAAAQIECBAgQIBAS8ABqLWHNgQIECBAgAABAgQIECBAgAABAgQIECBAgAABAgQIECBAgAABAgQuAQegi0uYAAECBAgQIECAAAECBAgQIECAAAECBAgQIECAAAECBAgQIECAQEvAAai1hzYECBAgQIAAAQIECBAgQIAAAQIECBAgQIAAAQIECBAgQIAAAQIELgEHoItLmAABAgQIECBAgAABAgQIECBAgAABAgQIECBAgAABAgQIECBAgEBLwAGotYc2BAgQIECAAAECBAgQIECAAAECBAgQIECAAAECBAgQIECAAAECBC4BB6CLS5gAAQIECBAgQIAAAQIECBAgQIAAAQIECBAgQIAAAQIECBAgQIBAS8ABqLWHNgQIECBAgAABAgQIECBAgAABAgQIECBAgAABAgQIECBAgAABAgQuAQegi0uYAAECBAgQIECAAAECBAgQIECAAAECBAgQIECAAAECBAgQIECAQEvAAai1hzYECBAgQIAAAQIECBAgQIAAAQIECBAgQIAAAQIECBAgQIAAAQIELgEHoItLmAABAgQIECBAgAABAgQIECBAgAABAgQIECBAgAABAgQIECBAgEBLwAGotYc2BAgQIECAAAECBAgQIECAAAECBAgQIECAAAECBAgQIECAAAECBC4BB6CLS5gAAQIECBAgQIAAAQIECBAgQIAAAQIECBAgQIAAAQIECBAgQIBAS8ABqLWHNgQIECBAgAABAgQIECBAgAABAgQIECBAgAABAgQIECBAgAABAgQuAQegi0uYAAECBAgQIECAAAECBAgQIECAAAECBAgQIECAAAECBAgQIECAQEvAAai1hzYECBAgQIAAAQIECBAgQIAAAQIECBAgQIAAAQIECBAgQIAAAQIELgEHoItLmAABAgQIECBAgAABAgQIECBAgAABAgQIECBAgAABAgQIECBAgEBLwAGotYc2BAgQIECAAAECBAgQIECAAAECBAgQIECAAAECBAgQIECAAAECBC4BB6CLS5gAAQIECBAgQIAAAQIECBAgQIAAAQIECBAgQIAAAQIECBAgQIBAS8ABqLWHNgQIECBAgAABAgQIECBAgAABAgQIECBAgAABAgQIECBAgAABAgQuAQegi0uYAAECBAgQIECAAAECBAgQIECAAAECBAgQIECAAAECBAgQIECAQEvAAai1hzYECBAgQIAAAQIECBAgQIAAAQIECBAgQIAAAQIECBAgQIAAAQIELgEHoItLmAABAgQIECBAgAABAgQIECBAgAABAgQIECBAgAABAgQIECBAgEBLwAGotYc2BAgQIECAAAECBAgQIECAAAECBAgQIECAAAECBAgQIECAAAECBC4BB6CLS5gAAQIECBAgQIAAAQIECBAgQIAAAQIECBAgQIAAAQIECBAgQIBAS8ABqLWHNgQIECBAgAABAgQIECBAgAABAgQIECBAgAABAgQIECBAgAABAgQuAQegi0uYAAECBAgQIECAAAECBAgQIECAAAECBAgQIECAAAECBAgQIECAQEvAAai1hzYECBAgQIAAAQIECBAgQIAAAQIECBAgQIAAAQIECBAgQIAAAQIELgEHoItLmAABAgQIECBAgAABAgQIECBAgAABAgQIECBAgAABAgQIECBAgEBLwAGotYc2BAgQIECAAAECBAgQIECAAAECBAgQIECAAAECBAgQIECAAAECBC4BB6CLS5gAAQIECBAgQIAAAQIECBAgQIAAAQIECBAgQIAAAQIECBAgQIBAS8ABqLWHNgQIECBAgAABAgQIECBAgAABAgQIECBAgAABAgQIECBAgAABAgQuAQegi0uYAAECBAgQIECAAAECBAgQIECAAAECBAgQIECAAAECBAgQIECAQEvAAai1hzYECBAgQIAAAQIECBAgQIAAAQIECBAgQIAAAQIECBAgQIAAAQIELgEHoItLmAABAgQIECBAgAABAgQIECBAgAABAgQIECBAgAABAgQIECBAgEBLwAGotYc2BAgQIECAAAECBAgQIECAAAECBAgQIECAAAECBAgQIECAAAECBC4BB6CLS5gAAQIECBAgQIAAAQIECBAgQIAAAQIECBAgQIAAAQIECBAgQIBAS8ABqLWHNgQIECBAgAABAgQIECBAgAABAgQIECBAgAABAgQIECBAgAABAgQuAQegi0uYAAECBAgQIECAAAECBAgQIECAAAECBAgQIECAAAECBAgQIECAQEvAAai1hzYECBAgQIAAAQIECBAgQIAAAQIECBAgQIAAAQIECBAgQIAAAQIELgEHoItLmAABAgQIECBAgAABAgQIECBAgAABAgQIECBAgAABAgQIECBAgEBLwAGotYc2BAgQIECAAAECBAgQIECAAAECBAgQIECAAAECBAgQIECAAAECBC4BB6CLS5gAAQIECBAgQIAAAQIECBAgQIAAAQIECBAgQIAAAQIECBAgQIBAS8ABqLWHNgQIECBAgAABAgQIECBAgAABAgQIECBAgAABAgQIECBAgAABAgQuAQegi0uYAAECBAgQIECAAAECBAgQIECAAAECBAgQIECAAAECBAgQIECAQEvAAai1hzYECBAgQIAAAQIECBAgQIAAAQIECBAgQIAAAQIECBAgQIAAAQIELgEHoItLmAABAgQIECBAgAABAgQIECBAgAABAgQIECBAgAABAgQIECBAgEBLwAGotYc2BAgQIECAAAECBAgQIECAAAECBAgQIECAAAECBAgQIECAAAECBC4BB6CLS5gAAQIECBAgQIAAAQIECBAgQIAAAQIECBAgQIAAAQIECBAgQIBAS8ABqLWHNgQIECBAgAABAgQIECBAgAABAgQIECBAgAABAgQIECBAgAABAgQuAQegi0uYAAECBAgQIECAAAECBAgQIECAAAECBAgQIECAAAECBAgQIECAQEvAAai1hzYECBAgQIAAAQIECBAgQIAAAQIECBAgQIAAAQIECBAgQIAAAQIELgEHoItLmAABAgQIECBAgAABAgQIECBAgAABAgQIECBAgAABAgQIECBAgEBLwAGotYc2BAgQIECAAAECBAgQIECAAAECBAgQIECAAAECBAgQIECAAAECBC4BB6CLS5gAAQIECBAgQIAAAQIECBAgQIAAAQIECBAgQIAAAQIECBAgQIBAS8ABqLWHNgQIECBAgAABAgQIECBAgAABAgQIECBAgAABAgQIECBAgAABAgQuAQegi0uYAAECBAgQIECAAAECBAgQIECAAAECBAgQIECAAAECBAgQIECAQEvAAai1hzYECBAgQIAAAQIECBAgQIAAAQIECBAgQIAAAQIECBAgQIAAAQIELgEHoItLmAABAgQIECBAgAABAgQIECBAgAABAgQIECBAgAABAgQIECBAgEBLwAGotYc2BAgQIECAAAECBAgQIECAAAECBAgQIECAAAECBAgQIECAAAECBC4BB6CLS5gAAQIECBAgQIAAAQIECBAgQIAAAQIECBAgQIAAAQIECBAgQIBAS8ABqLWHNgQIECBAgAABAgQIECBAgAABAgQIECBAgAABAgQIECBAgAABAgQuAQegi0uYAAECBAgQIECAAAECBAgQIECAAAECBAgQIECAAAECBAgQIECAQEvAAai1hzYECBAgQIAAAQIECBAgQIAAAQIECBAgQIAAAQIECBAgQIAAAQIELgEHoItLmAABAgQIECBAgAABAgQIECBAgAABAgQIECBAgAABAgQIECBAgEBLwAGotYc2BAgQIECAAAECBAgQIECAAAECBAgQIECAAAECBAgQIECAAAECBC4BB6CLS5gAAQIECBAgQIAAAQIECBAgQIAAAQIECBAgQIAAAQIECBAgQIBAS8ABqLWHNgQIECBAgAABAgQIECBAgAABAgQIECBAgAABAgQIECBAgAABAgQuAQegi0uYAAECBAgQIECAAAECBAgQIECAAAECBAgQIECAAAECBAgQIECAQEvAAai1hzYECBAgQIAAAQIECBAgQIAAAQIECBAgQIAAAQIECBAgQIAAAQIELgEHoItLmAABAgQIECBAgAABAgQIECBAgAABAgQIECBAgAABAgQIECBAgEBLwAGotYc2BAgQIECAAAECBAgQIECAAAECBAgQIECAAAECBAgQIECAAAECBC4BB6CLS5gAAQIECBAgQIAAAQIECBAgQIAAAQIECBAgQIAAAQIECBAgQIBAS8ABqLWHNgQIECBAgAABAgQIECBAgAABAgQIECBAgAABAgQIECBAgAABAgQuAQegi0uYAAECBAgQIECAAAECBAgQIECAAAECBAgQIECAAAECBAgQIECAQEvAAai1hzYECBAgQIAAAQIECBAgQIAAAQIECBAgQIAAAQIECBAgQIAAAQIELgEHoItLmAABAgQIECBAgAABAgQIECBAgAABAgQIECBAgAABAgQIECBAgEBLwAGotYc2BAgQIECAAAECBAgQIECAAAECBAgQIECAAAECBAgQIECAAAECBC4BB6CLS5gAAQIECBAgQIAAAQIECBAgQIAAAQIECBAgQIAAAQIECBAgQIBAS8ABqLWHNgQIECBAgAABAgQIECBAgAABAgQIECBAgAABAgQIECBAgAABAgQuAQegi0uYAAECBAgQIECAAAECBAgQIECAAAECBAgQIECAAAECBAgQIECAQEvAAai1hzYECBAgQIAAAQIECBAgQIAAAQIECBAgQIAAAQIECBAgQIAAAQIELgEHoItLmAABAgQIECBAgAABAgQIECBAgAABAgQIECBAgAABAgQIECBAgEBLwAGotYc2BAgQIECAAAECBAgQIECAAAECBAgQIECAAAECBAgQIECAAAECBC4BB6CLS5gAAQIECBAgQIAAAQIECBAgQIAAAQIECBAgQIAAAQIECBAgQIBAS8ABqLWHNgQIECBAgAABAgQIECBAgAABAgQIECBAgAABAgQIECBAgAABAgQuAQegi0uYAAECBAgQIECAAAECBAgQIECAAAECBAgQIECAAAECBAgQIECAQEvAAai1hzYECBAgQIAAAQIECBAgQIAAAQIECBAgQIAAAQIECBAgQIAAAQIELgEHoItLmAABAgQIECBAgAABAgQIECBAgAABAgQIECBAgAABAgQIECBAgEBLwAGotYc2BAgQIECAAAECBAgQIECAAAECBAgQIECAAAECBAgQIECAAAECBC4BB6CLS5gAAQIECBAgQIAAAQIECBAgQIAAAQIECBAgQIAAAQIECBAgQIBAS8ABqLWHNgQIECBAgAABAgQIECBAgAABAgQIECBAgAABAgQIECBAgAABAgQuAQegi0uYAAECBAgQIECAAAECBAgQIECAAAECBAgQIECAAAECBAgQIECAQEvAAai1hzYECBAgQIAAAQIECBAgQIAAAQIECBAgQIAAAQIECBAgQIAAAQIELgEHoItLmAABAgQIECBAgAABAgQIECBAgAABAgQIECBAgAABAgQIECBAgEBLwAGotYc2BAgQIECAAAECBAgQIECAAAECBAgQIECAAAECBAgQIECAAAECBC4BB6CLS5gAAQIECBAgQIAAAQIECBAgQIAAAQIECBAgQIAAAQIECBAgQIBAS8ABqLWHNgQIECBAgAABAgQIECBAgAABAgQIECBAgAABAgQIECBAgAABAgQuAQegi0uYAAECBAgQIECAAAECBAgQIECAAAECBAgQIECAAAECBAgQIECAQEvAAai1hzYECBAgQIAAAQIECBAgQIAAAQIECBAgQIAAAQIECBAgQIAAAQIELgEHoItLmAABAgQIECBAgAABAgQIECBAgAABAgQIECBAgAABAgQIECBAgEBLwAGotYc2BAgQIECAAAECBAgQIECAAAECBAgQIECAAAECBAgQIECAAAECBC4BB6CLS5gAAQIECBAgQIAAAQIECBAgQIAAAQIECBAgQIAAAQIECBAgQIBAS8ABqLWHNgQIECBAgAABAgQIECBAgAABAgQIECBAgAABAgQIECBAgAABAgQuAQegi0uYAAECBAgQIECAAAECBAgQIECAAAECBAgQIECAAAECBAgQIECAQEvAAai1hzYECBAgQIAAAQIECBAgQIAAAQIECBAgQIAAAQIECBAgQIAAAQIELgEHoItLmAABAgQIECBAgAABAgQIECBAgAABAgQIECBAgAABAgQIECBAgEBLwAGotYc2BAgQIECAAAECBAgQIECAAAECBAgQIECAAAECBAgQIECAAAECBC4BB6CLS5gAAQIECBAgQIAAAQIECBAgQIAAAQIECBAgQIAAAQIECBAgQIBAS8ABqLWHNgQIECBAgAABAgQIECBAgAABAgQIECBAgAABAgQIECBAgAABAgQuAQegi0uYAAECBAgQIECAAAECBAgQIECAAAECBAgQIECAAAECBAgQIECAQEvAAai1idxOJAAAIABJREFUhzYECBAgQIAAAQIECBAgQIAAAQIECBAgQIAAAQIECBAgQIAAAQIELgEHoItLmAABAgQIECBAgAABAgQIECBAgAABAgQIECBAgAABAgQIECBAgEBLwAGotYc2BAgQIECAAAECBAgQIECAAAECBAgQIECAAAECBAgQIECAAAECBC4BB6CLS5gAAQIECBAgQIAAAQIECBAgQIAAAQIECBAgQIAAAQIECBAgQIBAS8ABqLWHNgQIECBAgAABAgQIECBAgAABAgQIECBAgAABAgQIECBAgAABAgQuAQegi0uYAAECBAgQIECAAAECBAgQIECAAAECBAgQIECAAAECBAgQIECAQEvAAai1hzYECBAgQIAAAQIECBAgQIAAAQIECBAgQIAAAQIECBAgQIAAAQIELgEHoItLmAABAgQIECBAgAABAgQIECBAgAABAgQIECBAgAABAgQIECBAgEBLwAGotYc2BAgQIECAAAECBAgQIECAAAECBAgQIECAAAECBAgQIECAAAECBC4BB6CLS5gAAQIECBAgQIAAAQIECBAgQIAAAQIECBAgQIAAAQIECBAgQIBAS8ABqLWHNgQIECBAgAABAgQIECBAgAABAgQIECBAgAABAgQIECBAgAABAgQuAQegi0uYAAECBAgQIECAAAECBAgQIECAAAECBAgQIECAAAECBAgQIECAQEvAAai1hzYECBAgQIAAAQIECBAgQIAAAQIECBAgQIAAAQIECBAgQIAAAQIELgEHoItLmAABAgQIECBAgAABAgQIECBAgAABAgQIECBAgAABAgQIECBAgEBLwAGotYc2BAgQIECAAAECBAgQIECAAAECBAgQIECAAAECBAgQIECAAAECBC4BB6CLS5gAAQIECBAgQIAAAQIECBAgQIAAAQIECBAgQIAAAQIECBAgQIBAS8ABqLWHNgQIECBAgAABAgQIECBAgAABAgQIECBAgAABAgQIECBAgAABAgQuAQegi0uYAAECBAgQIECAAAECBAgQIECAAAECBAgQIECAAAECBAgQIECAQEvAAai1hzYECBAgQIAAAQIECBAgQIAAAQIECBAgQIAAAQIECBAgQIAAAQIELgEHoItLmAABAgQIECBAgAABAgQIECBAgAABAgQIECBAgAABAgQIECBAgEBLwAGotYc2BAgQIECAAAECBAgQIECAAAECBAgQIECAAAECBAgQIECAAAECBC4BB6CLS5gAAQIECBAgQIAAAQIECBAgQIAAAQIECBAgQIAAAQIECBAgQIBAS8ABqLWHNgQIECBAgAABAgQIECBAgAABAgQIECBAgAABAgQIECBAgAABAgQuAQegi0uYAAECBAgQIECAAAECBAgQIECAAAECBAgQIECAAAECBAgQIECAQEvAAai1hzYECBAgQIAAAQIECBAgQIAAAQIECBAgQIAAAQIECBAgQIAAAQIELgEHoItLmAABAgQIECBAgAABAgQIECBAgAABAgQIECBAgAABAgQIECBAgEBLwAGotYc2BAgQIECAAAECBAgQIECAAAECBAgQIECAAAECBAgQIECAAAECBC4BB6CLS5gAAQIECBAgQIAAAQIECBAgQIAAAQIECBAgQIAAAQIECBAgQIBAS8ABqLWHNgQIECBAgAABAgQIECBAgAABAgQIECBAgAABAgQIECBAgAABAgQuAQegi0uYAAECBAgQIECAAAECBAgQIECAAAECBAgQIECAAAECBAgQIECAQEvAAai1hzYECBAgQIAAAQIECBAgQIAAAQIECBAgQIAAAQIECBAgQIAAAQIELgEHoItLmAABAgQIECBAgAABAgQIECBAgAABAgQIECBAgAABAgQIECBAgEBLwAGotYc2BAgQIECAAAECBAgQIECAAAECBAgQIECAAAECBAgQIECAAAECBC4BB6CLS5gAAQIECBAgQIAAAQIECBAgQIAAAQIECBAgQIAAAQIECBAgQIBAS8ABqLWHNgQIECBAgAABAgQIECBAgAABAgQIECBAgAABAgQIECBAgAABAgQuAQegi0uYAAECBAgQIECAAAECBAgQIECAAAECBAgQIECAAAECBAgQIECAQEvAAai1hzYECBAgQIAAAQIECBAgQIAAAQIECBAgQIAAAQIECBAgQIAAAQIELgEHoItLmAABAgQIECBAgAABAgQIECBAgAABAgQIECBAgAABAgQIECBAgEBLwAGotYc2BAgQIECAAAECBAgQIECAAAECBAgQIECAAAECBAgQIECAAAECBC4BB6CLS5gAAQIECBAgQIAAAQIECBAgQIAAAQIECBAgQIAAAQIECBAgQIBAS8ABqLWHNgQIECBAgAABAgQIECBAgAABAgQIECBAgAABAgQIECBAgAABAgQuAQegi0uYAAECBAgQIECAAAECBAgQIECAAAECBAgQIECAAAECBAgQIECAQEvAAai1hzYECBAgQIAAAQIECBAgQIAAAQIECBAgQIAAAQIECBAgQIAAAQIELgEHoItLmAABAgQIECBAgAABAgQIECBAgAABAgQIECBAgAABAgQIECBAgEBLwAGotYc2BAgQIECAAAECBAgQIECAAAECBAgQIECAAAECBAgQIECAAAECBC4BB6CLS5gAAQIECBAgQIAAAQIECBAgQIAAAQIECBAgQIAAAQIECBAgQIBAS8ABqLWHNgQIECBAgAABAgQIECBAgAABAgQIECBAgAABAgQIECBAgAABAgQuAQegi0uYAAECBAgQIECAAAECBAgQIECAAAECBAgQIECAAAECBAgQIECAQEvAAai1hzYECBAgQIAAAQIECBAgQIAAAQIECBAgQIAAAQIECBAgQIAAAQIELgEHoItLmAABAgQIECBAgAABAgQIECBAgAABAgQIECBAgAABAgQIECBAgEBLwAGotYc2BAgQIECAAAECBAgQIECAAAECBAgQIECAAAECBAgQIECAAAECBC4BB6CLS5gAAQIECBAgQIAAAQIECBAgQIAAAQIECBAgQIAAAQIECBAgQIBAS8ABqLWHNgQIECBAgAABAgQIECBAgAABAgQIECBAgAABAgQIECBAgAABAgQuAQegi0uYAAECBAgQIECAAAECBAgQIECAAAECBAgQIECAAAECBAgQIECAQEvAAai1hzYECBAgQIAAAQIECBAgQIAAAQIECBAgQIAAAQIECBAgQIAAAQIELgEHoItLmAABAgQIECBAgAABAgQIECBAgAABAgQIECBAgAABAgQIECBAgEBLwAGotYc2BAgQIECAAAECBAgQIECAAAECBAgQIECAAAECBAgQIECAAAECBC4BB6CLS5gAAQIECBAgQIAAAQIECBAgQIAAAQIECBAgQIAAAQIECBAgQIBAS8ABqLWHNgQIECBAgAABAgQIECBAgAABAgQIECBAgAABAgQIECBAgAABAgQuAQegi0uYAAECBAgQIECAAAECBAgQIECAAAECBAgQIECAAAECBAgQIECAQEvAAai1hzYECBAgQIAAAQIECBAgQIAAAQIECBAgQIAAAQIECBAgQIAAAQIELgEHoItLmAABAgQIECBAgAABAgQIECBAgAABAgQIECBAgAABAgQIECBAgEBLwAGotYc2BAgQIECAAAECBAgQIECAAAECBAgQIECAAAECBAgQIECAAAECBC4BB6CLS5gAAQIECBAgQIAAAQIECBAgQIAAAQIECBAgQIAAAQIECBAgQIBAS8ABqLWHNgQIECBAgAABAgQIECBAgAABAgQIECBAgAABAgQIECBAgAABAgQuAQegi0uYAAECBAgQIECAAAECBAgQIECAAAECBAgQIECAAAECBAgQIECAQEvAAai1hzYECBAgQIAAAQIECBAgQIAAAQIECBAgQIAAAQIECBAgQIAAAQIELgEHoItLmAABAgQIECBAgAABAgQIECBAgAABAgQIECBAgAABAgQIECBAgEBLwAGotYc2BAgQIECAAAECBAgQIECAAAECBAgQIECAAAECBAgQIECAAAECBC4BB6CLS5gAAQIECBAgQIAAAQIECBAgQIAAAQIECBAgQIAAAQIECBAgQIBAS8ABqLWHNgQIECBAgAABAgQIECBAgAABAgQIECBAgAABAgQIECBAgAABAgQuAQegi0uYAAECBAgQIECAAAECBAgQIECAAAECBAgQIECAAAECBAgQIECAQEvAAai1hzYECBAgQIAAAQIECBAgQIAAAQIECBAgQIAAAQIECBAgQIAAAQIELgEHoItLmAABAgQIECBAgAABAgQIECBAgAABAgQIECBAgAABAgQIECBAgEBLwAGotYc2BAgQIECAAAECBAgQIECAAAECBAgQIECAAAECBAgQIECAAAECBC4BB6CLS5gAAQIECBAgQIAAAQIECBAgQIAAAQIECBAgQIAAAQIECBAgQIBAS8ABqLWHNgQIECBAgAABAgQIECBAgAABAgQIECBAgAABAgQIECBAgAABAgQuAQegi0uYAAECBAgQIECAAAECBAgQIECAAAECBAgQIECAAAECBAgQIECAQEvAAai1hzYECBAgQIAAAQIECBAgQIAAAQIECBAgQIAAAQIECBAgQIAAAQIELgEHoItLmAABAgQIECBAgAABAgQIECBAgAABAgQIECBAgAABAgQIECBAgEBLwAGotYc2BAgQIECAAAECBAgQIECAAAECBAgQIECAAAECBAgQIECAAAECBC4BB6CLS5gAAQIECBAgQIAAAQIECBAgQIAAAQIECBAgQIAAAQIECBAgQIBAS8ABqLWHNgQIECBAgAABAgQIECBAgAABAgQIECBAgAABAgQIECBAgAABAgQuAQegi0uYAAECBAgQIECAAAECBAgQIECAAAECBAgQIECAAAECBAgQIECAQEvAAai1hzYECBAgQIAAAQIECBAgQIAAAQIECBAgQIAAAQIECBAgQIAAAQIELgEHoItLmAABAgQIECBAgAABAgQIECBAgAABAgQIECBAgAABAgQIECBAgEBLwAGotYc2BAgQIECAAAECBAgQIECAAAECBAgQIECAAAECBAgQIECAAAECBC4BB6CLS5gAAQIECBAgQIAAAQIECBAgQIAAAQIECBAgQIAAAQIECBAgQIBAS8ABqLWHNgQIECBAgAABAgQIECBAgAABAgQIECBAgAABAgQIECBAgAABAgQuAQegi0uYAAECBAgQIECAAAECBAgQIECAAAECBAgQIECAAAECBAgQIECAQEvAAai1hzYECBAgQIAAAQIECBAgQIAAAQIECBAgQIAAAQIECBAgQIAAAQIELgEHoItLmAABAgQIECBAgAABAgQIECBAgAABAgQIECBAgAABAgQIECBAgEBLwAGotYc2BAgQIECAAAECBAgQIECAAAECBAgQIECAAAECBAgQIECAAAECBC4BB6CLS5gAAQIECBAgQIAAAQIECBAgQIAAAQIECBAgQIAAAQIECBAgQIBAS8ABqLWHNgQIECBAgAABAgQIECBAgAABAgQIECBAgAABAgQIECBAgAABAgQuAQegi0uYAAECBAgQIECAAAECBAgQIECAAAECBAgQIECAAAECBAgQIECAQEvAAai1hzYECBAgQIAAAQIECBAgQIAAAQIECBAgQIAAAQIECBAgQIAAAQIELgEHoItLmAABAgQIECBAgAABAgQIECBAgAABAgQIECBAgAABAgQIECBAgEBLwAGotYc2BAgQIECAAAECBAgQIECAAAECBAgQIECAAAECBAgQIECAAAECBC4BB6CLS5gAAQIECBAgQIAAAQIECBAgQIAAAQIECBAgQIAAAQIECBAgQIBAS8ABqLWHNgQIECBAgAABAgQIECBAgAABAgQIECBAgAABAgQIECBAgAABAgQuAQegi0uYAAECBAgQIECAAAECBAgQIECAAAECBAgQIECAAAECBAgQIECAQEvAAai1hzYECBAgQIAAAQIECBAgQIAAAQIECBAgQIAAAQIECBAgQIAAAQIELgEHoItLmAABAgQIECBAgAABAgQIECBAgAABAgQIECBAgAABAgQIECBAgEBLwAGotYc2BAgQIECAAAECBAgQIECAAAECBAgQIECAAAECBAgQIECAAAECBC4BB6CLS5gAAQIECBAgQIAAAQIECBAgQIAAAQIECBAgQIAAAQIECBAgQIBAS8ABqLWHNgQIECBAgAABAgQIECBAgAABAgQIECBAgAABAgQIECBAgAABAgQuAQegi0uYAAECBAgQIECAAAECBAgQIECAAAECBAgQIECAAAECBAgQIECAQEvAAai1hzYECBAgQIAAAQIECBAgQIAAAQIECBAgQIAAAQIECBAgQIAAAQIELgEHoItLmAABAgQIECBAgAABAgQIECBAgAABAgQIECBAgAABAgQIECBAgEBLwAGotYc2BAgQIECAAAECBAgQIECAAAECBAgQIECAAAECBAgQIECAAAECBC4BB6CLS5gAAQIECBAgQIAAAQIECBAgQIAAAQIECBAgQIAAAQIECBAgQIBAS8ABqLWHNgQIECBAgAABAgQIECBAgAABAgQIECBAgAABAgQIECBAgAABAgQuAQegi0uYAAECBAgQIECAAAECBAgQIECAAAECBAgQIECAAAECBAgQIECAQEvAAai1hzYECBAgQIAAAQIECBAgQIAAAQIECBAgQIAAAQIECBAgQIAAAQIELgEHoItLmAABAgQIECBAgAABAgQIECBAgAABAgQIECBAgAABAgQIECBAgEBLwAGotYc2BAgQIECAAAECBAgQIECAAAECBAgQIECAAAECBAgQIECAAAECBC4BB6CLS5gAAQIECBAgQIAAAQIECBAgQIAAAQIECBAgQIAAAQIECBAgQIBAS8ABqLWHNgQIECBAgAABAgQIECBAgAABAgQIECBAgAABAgQIECBAgAABAgQuAQegi0uYAAECBAgQIECAAAECBAgQIECAAAECBAgQIECAAAECBAgQIECAQEvAAai1hzYECBAgQIAAAQIECBAgQIAAAQIECBAgQIAAAQIECBAgQIAAAQIELgEHoItLmAABAgQIECBAgAABAgQIECBAgAABAgQIECBAgAABAgQIECBAgEBLwAGotYc2BAgQIECAAAECBAgQIECAAAECBAgQIECAAAECBAgQIECAAAECBC4BB6CLS5gAAQIECBAgQIAAAQIECBAgQIAAAQIECBAgQIAAAQIECBAgQIBAS8ABqLWHNgQIECBAgAABAgQIECBAgAABAgQIECBAgAABAgQIECBAgAABAgQuAQegi0uYAAECBAgQIECAAAECBAgQIECAAAECBAgQIECAAAECBAgQIECAQEvAAai1hzYECBAgQIAAAQIECBAgQIAAAQIECBAgQIAAAQIECBAgQIAAAQIELgEHoItLmAABAgQIECBAgAABAgQIECBAgAABAgQIECBAgAABAgQIECBAgEBLwAGotYc2BAgQIECAAAECBAgQIECAAAECBAgQIECAAAECBAgQIECAAAECBC4BB6CLS5gAAQIECBAgQIAAAQIECBAgQIAAAQIECBAgQIAAAQIECBAgQIBAS8ABqLWHNgQIECBAgAABAgQIECBAgAABAgQIECBAgAABAgQIECBAgAABAgQuAQegi0uYAAECBAgQIECAAAECBAgQIECAAAECBAgQIECAAAECBAgQIECAQEvAAai1hzYECBAgQIAAAQIECBAgQIAAAQIECBAgQIAAAQIECBAgQIAAAQIELgEHoItLmAABAgQIECBAgAABAgQIECBAgAABAgQIECBAgAABAgQIECBAgEBLwAGotYc2BAgQIECAAAECBAgQIECAAAECBAgQIECAAAECBAgQIECAAAECBC4BB6CLS5gAAQIECBAgQIAAAQIECBAgQIAAAQIECBAgQIAAAQIECBAgQIBAS8ABqLWHNgQIECBAgAABAgQIECBAgAABAgQIECBAgAABAgQIECBAgAABAgQuAQegi0uYAAECBAgQIECAAAECBAgQIECAAAECBAgQIECAAAECBAgQIECAQEvAAai1hzYECBAgQIAAAQIECBAgQIAAAQIECBAgQIAAAQIECBAgQIAAAQIELgEHoItLmAABAgQIECBAgAABAgQIECBAgAABAgQIECBAgAABAgQIECBAgEBLwAGotYc2BAgQIECAAAECBAgQIECAAAECBAgQIECAAAECBAgQIECAAAECBC4BB6CLS5gAAQIECBAgQIAAAQIECBAgQIAAAQIECBAgQIAAAQIECBAgQIBAS8ABqLWHNgQIECBAgAABAgQIECBAgAABAgQIECBAgAABAgQIECBAgAABAgQuAQegi0uYAAECBAgQIECAAAECBAgQIECAAAECBAgQIECAAAECBAgQIECAQEvAAai1hzYECBAgQIAAAQIECBAgQIAAAQIECBAgQIAAAQIECBAgQIAAAQIELgEHoItLmAABAgQIECBAgAABAgQIECBAgAABAgQIECBAgAABAgQIECBAgEBLwAGotYc2BAgQIECAAAECBAgQIECAAAECBAgQIECAAAECBAgQIECAAAECBC4BB6CLS5gAAQIECBAgQIAAAQIECBAgQIAAAQIECBAgQIAAAQIECBAgQIBAS8ABqLWHNgQIECBAgAABAgQIECBAgAABAgQIECBAgAABAgQIECBAgAABAgQuAQegi0uYAAECBAgQIECAAAECBAgQIECAAAECBAgQIECAAAECBAgQIECAQEvAAai1hzYECBAgQIAAAQIECBAgQIAAAQIECBAgQIAAAQIECBAgQIAAAQIELgEHoItLmAABAgQIECBAgAABAgQIECBAgAABAgQIECBAgAABAgQIECBAgEBLwAGotYc2BAgQIECAAAECBAgQIECAAAECBAgQIECAAAECBAgQIECAAAECBC4BB6CLS5gAAQIECBAgQIAAAQIECBAgQIAAAQIECBAgQIAAAQIECBAgQIBAS8ABqLWHNgQIECBAgAABAgQIECBAgAABAgQIECBAgAABAgQIECBAgAABAgQuAQegi0uYAAECBAgQIECAAAECBAgQIECAAAECBAgQIECAAAECBAgQIECAQEvAAai1hzYECBAgQIAAAQIECBAgQIAAAQIECBAgQIAAAQIECBAgQIAAAQIELgEHoItLmAABAgQIECBAgAABAgQIECBAgAABAgQIECBAgAABAgQIECBAgEBLwAGotYc2BAgQIECAAAECBAgQIECAAAECBAgQIECAAAECBAgQIECAAAECBC4BB6CLS5gAAQIECBAgQIAAAQIECBAgQIAAAQIECBAgQIAAAQIECBAgQIBAS8ABqLWHNgQIECBAgAABAgQIECBAgAABAgQIECBAgAABAgQIECBAgAABAgQuAQegi0uYAAECBAgQIECAAAECBAgQIECAAAECBAgQIECAAAECBAgQIECAQEvAAai1hzYECBAgQIAAAQIECBAgQIAAAQIECBAgQIAAAQIECBAgQIAAAQIELgEHoItLmAABAgQIECBAgAABAgQIECBAgAABAgQIECBAgAABAgQIECBAgEBLwAGotYc2BAgQIECAAAECBAgQIECAAAECBAgQIECAAAECBAgQIECAAAECBC4BB6CLS5gAAQIECBAgQIAAAQIECBAgQIAAAQIECBAgQIAAAQIECBAgQIBAS8ABqLWHNgQIECBAgAABAgQIECBAgAABAgQIECBAgAABAgQIECBAgAABAgQuAQegi0uYAAECBAgQIECAAAECBAgQIECAAAECBAgQIECAAAECBAgQIECAQEvAAai1hzYECBAgQIAAAQIECBAgQIAAAQIECBAgQIAAAQIECBAgQIAAAQIELgEHoItLmAABAgQIECBAgAABAgQIECBAgAABAgQIECBAgAABAgQIECBAgEBLwAGotYc2BAgQIECAAAECBAgQIECAAAECBAgQIECAAAECBAgQIECAAAECBC4BB6CLS5gAAQIECBAgQIAAAQIECBAgQIAAAQIECBAgQIAAAQIECBAgQIBAS8ABqLWHNgQIECBAgAABAgQIECBAgAABAgQIECBAgAABAgQIECBAgAABAgQuAQegi0uYAAECBAgQIECAAAECBAgQIECAAAECBAgQIECAAAECBAgQIECAQEvAAai1hzYECBAgQIAAAQIECBAgQIAAAQIECBAgQIAAAQIECBAgQIAAAQIELgEHoItLmAABAgQIECBAgAABAgQIECBAgAABAgQIECBAgAABAgQIECBAgEBLwAGotYc2BAgQIECAAAECBAgQIECAAAECBAgQIECAAAECBAgQIECAAAECBC4BB6CLS5gAAQIECBAgQIAAAQIECBAgQIAAAQIECBAgQIAAAQIECBAgQIBAS8ABqLWHNgQIECBAgAABAgQIECBAgAABAgQIECBAgAABAgQIECBAgAABAgQuAQegi0uYAAECBAgQIECAAAECBAgQIECAAAECBAgQIECAAAECBAgQIECAQEvAAai1hzYECBAgQIAAAQIECBAgQIAAAQIECBAgQIAAAQIECBAgQIAAAQIELgEHoItLmAABAgQIECBAgAABAgQIECBAgAABAgQIECBAgAABAgQIECBAgEBLwAGotYc2BAgQIECAAAECBAgQIECAAAECBAgQIECAAAECBAgQIECAAAECBC4BB6CLS5gAAQIECBAgQIAAAQIECBAgQIAAAQIECBAgQIAAAQIECBAgQIBAS8ABqLWHNgQIECBAgAABAgQIECBAgAABAgQIECBAgAABAgQIECBAgAABAgQuAQegi0uYAAECBAgQIECAAAECBAgQIECAAAECBAgQIECAAAECBAgQIECAQEvAAai1hzYECBAgQICuJKwoAAAT0UlEQVQAAQIECBAgQIAAAQIECBAgQIAAAQIECBAgQIAAAQIELgEHoItLmAABAgQIECBAgAABAgQIECBAgAABAgQIECBAgAABAgQIECBAgEBLwAGotYc2BAgQIECAAAECBAgQIECAAAECBAgQIECAAAECBAgQIECAAAECBC4BB6CLS5gAAQIECBAgQIAAAQIECBAgQIAAAQIECBAgQIAAAQIECBAgQIBAS8ABqLWHNgQIECBAgAABAgQIECBAgAABAgQIECBAgAABAgQIECBAgAABAgQuAQegi0uYAAECBAgQIECAAAECBAgQIECAAAECBAgQIECAAAECBAgQIECAQEvAAai1hzYECBAgQIAAAQIECBAgQIAAAQIECBAgQIAAAQIECBAgQIAAAQIELgEHoItLmAABAgQIECBAgAABAgQIECBAgAABAgQIECBAgAABAgQIECBAgEBLwAGotYc2BAgQIECAAAECBAgQIECAAAECBAgQIECAAAECBAgQIECAAAECBC4BB6CLS5gAAQIECBAgQIAAAQIECBAgQIAAAQIECBAgQIAAAQIECBAgQIBAS8ABqLWHNgQIECBAgAABAgQIECBAgAABAgQIECBAgAABAgQIECBAgAABAgQuAQegi0uYAAECBAgQIECAAAECBAgQIECAAAECBAgQIECAAAECBAgQIECAQEvAAai1hzYECBAgQIAAAQIECBAgQIAAAQIECBAgQIAAAQIECBAgQIAAAQIELgEHoItLmAABAgQIECBAgAABAgQIECBAgAABAgQIECBAgAABAgQIECBAgEBLwAGotYc2BAgQIECAAAECBAgQIECAAAECBAgQIECAAAECBAgQIECAAAECBC4BB6CLS5gAAQIECBAgQIAAAQIECBAgQIAAAQIECBAgQIAAAQIECBAgQIBAS8ABqLWHNgQIECBAgAABAgQIECBAgAABAgQIECBAgAABAgQIECBAgAABAgQuAQegi0uYAAECBAgQIECAAAECBAgQIECAAAECBAgQIECAAAECBAgQIECAQEvAAai1hzYECBAgQIAAAQIECBAgQIAAAQIECBAgQIAAAQIECBAgQIAAAQIELgEHoItLmAABAgQIECBAgAABAgQIECBAgAABAgQIECBAgAABAgQIECBAgEBLwAGotYc2BAgQIECAAAECBAgQIECAAAECBAgQIECAAAECBAgQIECAAAECBC4BB6CLS5gAAQIECBAgQIAAAQIECBAgQIAAAQIECBAgQIAAAQIECBAgQIBAS8ABqLWHNgQIECBAgAABAgQIECBAgAABAgQIECBAgAABAgQIECBAgAABAgQuAQegi0uYAAECBAgQIECAAAECBAgQIECAAAECBAgQIECAAAECBAgQIECAQEvAAai1hzYECBAgQIAAAQIECBAgQIAAAQIECBAgQIAAAQIECBAgQIAAAQIELgEHoItLmAABAgQIECBAgAABAgQIECBAgAABAgQIECBAgAABAgQIECBAgEBLwAGotYc2BAgQIECAAAECBAgQIECAAAECBAgQIECAAAECBAgQIECAAAECBC4BB6CLS5gAAQIECBAgQIAAAQIECBAgQIAAAQIECBAgQIAAAQIECBAgQIBAS8ABqLWHNgQIECBAgAABAgQIECBAgAABAgQIECBAgAABAgQIECBAgAABAgQuAQegi0uYAAECBAgQIECAAAECBAgQIECAAAECBAgQIECAAAECBAgQIECAQEvAAai1hzYECBAgQIAAAQIECBAgQIAAAQIECBAgQIAAAQIECBAgQIAAAQIELgEHoItLmAABAgQIECBAgAABAgQIECBAgAABAgQIECBAgAABAgQIECBAgEBLwAGotYc2BAgQIECAAAECBAgQIECAAAECBAgQIECAAAECBAgQIECAAAECBC4BB6CLS5gAAQIECBAgQIAAAQIECBAgQIAAAQIECBAgQIAAAQIECBAgQIBAS8ABqLWHNgQIECBAgAABAgQIECBAgAABAgQIECBAgAABAgQIECBAgAABAgQuAQegi0uYAAECBAgQIECAAAECBAgQIECAAAECBAgQIECAAAECBAgQIECAQEvAAai1hzYECBAgQIAAAQIECBAgQIAAAQIECBAgQIAAAQIECBAgQIAAAQIELgEHoItLmAABAgQIECBAgAABAgQIECBAgAABAgQIECBAgAABAgQIECBAgEBLwAGotYc2BAgQIECAAAECBAgQIECAAAECBAgQIECAAAECBAgQIECAAAECBC4BB6CLS5gAAQIECBAgQIAAAQIECBAgQIAAAQIECBAgQIAAAQIECBAgQIBAS8ABqLWHNgQIECBAgAABAgQIECBAgAABAgQIECBAgAABAgQIECBAgAABAgQuAQegi0uYAAECBAgQIECAAAECBAgQIECAAAECBAgQIECAAAECBAgQIECAQEvAAai1hzYECBAgQIAAAQIECBAgQIAAAQIECBAgQIAAAQIECBAgQIAAAQIELgEHoItLmAABAgQIECBAgAABAgQIECBAgAABAgQIECBAgAABAgQIECBAgEBLwAGotYc2BAgQIECAAAECBAgQIECAAAECBAgQIECAAAECBAgQIECAAAECBC4BB6CLS5gAAQIECBAgQIAAAQIECBAgQIAAAQIECBAgQIAAAQIECBAgQIBAS8ABqLWHNgQIECBAgAABAgQIECBAgAABAgQIECBAgAABAgQIECBAgAABAgQuAQegi0uYAAECBAgQIECAAAECBAgQIECAAAECBAgQIECAAAECBAgQIECAQEvAAai1hzYECBAgQIAAAQIECBAgQIAAAQIECBAgQIAAAQIECBAgQIAAAQIELgEHoItLmAABAgQIECBAgAABAgQIECBAgAABAgQIECBAgAABAgQIECBAgEBLwAGotYc2BAgQIECAAAECBAgQIECAAAECBAgQIECAAAECBAgQIECAAAECBC4BB6CLS5gAAQIECBAgQIAAAQIECBAgQIAAAQIECBAgQIAAAQIECBAgQIBAS8ABqLWHNgQIECBAgAABAgQIECBAgAABAgQIECBAgAABAgQIECBAgAABAgQuAQegi0uYAAECBAgQIECAAAECBAgQIECAAAECBAgQIECAAAECBAgQIECAQEvAAai1hzYECBAgQIAAAQIECBAgQIAAAQIECBAgQIAAAQIECBAgQIAAAQIELgEHoItLmAABAgQIECBAgAABAgQIECBAgAABAgQIECBAgAABAgQIECBAgEBLwAGotYc2BAgQIECAAAECBAgQIECAAAECBAgQIECAAAECBAgQIECAAAECBC4BB6CLS5gAAQIECBAgQIAAAQIECBAgQIAAAQIECBAgQIAAAQIECBAgQIBAS8ABqLWHNgQIECBAgAABAgQIECBAgAABAgQIECBAgAABAgQIECBAgAABAgQuAQegi0uYAAECBAgQIECAAAECBAgQIECAAAECBAgQIECAAAECBAgQIECAQEvAAai1hzYECBAgQIAAAQIECBAgQIAAAQIECBAgQIAAAQIECBAgQIAAAQIELgEHoItLmAABAgQIECBAgAABAgQIECBAgAABAgQIECBAgAABAgQIECBAgEBLwAGotYc2BAgQIECAAAECBAgQIECAAAECBAgQIECAAAECBAgQIECAAAECBC4BB6CLS5gAAQIECBAgQIAAAQIECBAgQIAAAQIECBAgQIAAAQIECBAgQIBAS8ABqLWHNgQIECBAgAABAgQIECBAgAABAgQIECBAgAABAgQIECBAgAABAgQuAQegi0uYAAECBAgQIECAAAECBAgQIECAAAECBAgQIECAAAECBAgQIECAQEvAAai1hzYECBAgQIAAAQIECBAgQIAAAQIECBAgQIAAAQIECBAgQIAAAQIELgEHoItLmAABAgQIECBAgAABAgQIECBAgAABAgQIECBAgAABAgQIECBAgEBLwAGotYc2BAgQIECAAAECBAgQIECAAAECBAgQIECAAAECBAgQIECAAAECBC4BB6CLS5gAAQIECBAgQIAAAQIECBAgQIAAAQIECBAgQIAAAQIECBAgQIBAS8ABqLWHNgQIECBAgAABAgQIECBAgAABAgQIECBAgAABAgQIECBAgAABAgQuAQegi0uYAAECBAgQIECAAAECBAgQIECAAAECBAgQIECAAAECBAgQIECAQEvAAai1hzYECBAgQIAAAQIECBAgQIAAAQIECBAgQIAAAQIECBAgQIAAAQIELgEHoItLmAABAgQIECBAgAABAgQIECBAgAABAgQIECBAgAABAgQIECBAgEBLwAGotYc2BAgQIECAAAECBAgQIECAAAECBAgQIECAAAECBAgQIECAAAECBC4BB6CLS5gAAQIECBAgQIAAAQIECBAgQIAAAQIECBAgQIAAAQIECBAgQIBAS8ABqLWHNgQIECBAgAABAgQIECBAgAABAgQIECBAgAABAgQIECBAgAABAgQuAQegi0uYAAECBAgQIECAAAECBAgQIECAAAECBAgQIECAAAECBAgQIECAQEvAAai1hzYECBAgQIAAAQIECBAgQIAAAQIECBAgQIAAAQIECBAgQIAAAQIELgEHoItLmAABAgQIECBAgAABAgQIECBAgAABAgQIECBAgAABAgQIECBAgEBLwAGotYc2BAgQIECAAAECBNauHRIBAAAgEOvfmgzvEPMIblgIECBAgAABAgQIECBAgAABAgQIECBAgAABAgSSgANQ4hImQIAAAQIECBAgQIAAAQIECBAgQIAAAQIECBAgQIAAAQIECBAg8CXgAPS1hzYECBAgQIAAAQIECBAgQIAAAQIECBAgQIAAAQIECBAgQIAAAQIEkoADUOISJkCAAAECBAgQIECAAAECBAgQIECAAAECBAgQIECAAAECBAgQIPAl4AD0tYc2BAgQIECAAAECBAgQIECAAAECBAgQIECAAAECBAgQIECAAAECBJKAA1DiEiZAgAABAgQIECBAgAABAgQIECBAgAABAgQIECBAgAABAgQIECDwJeAA9LWHNgQIECBAgAABAgQIECBAgAABAgQIECBAgAABAgQIECBAgAABAgSSgANQ4hImQIAAAQIECBAgQIAAAQIECBAgQIAAAQIECBAgQIAAAQIECBAg8CXgAPS1hzYECBAgQIAAAQIECBAgQIAAAQIECBAgQIAAAQIECBAgQIAAAQIEkoADUOISJkCAAAECBAgQIECAAAECBAgQIECAAAECBAgQIECAAAECBAgQIPAl4AD0tYc2BAgQIECAAAECBAgQIECAAAECBAgQIECAAAECBAgQIECAAAECBJKAA1DiEiZAgAABAgQIECBAgAABAgQIECBAgAABAgQIECBAgAABAgQIECDwJeAA9LWHNgQIECBAgAABAgQIECBAgAABAgQIECBAgAABAgQIECBAgAABAgSSgANQ4hImQIAAAQIECBAgQIAAAQIECBAgQIAAAQIECBAgQIAAAQIECBAg8CXgAPS1hzYECBAgQIAAAQIECBAgQIAAAQIECBAgQIAAAQIECBAgQIAAAQIEkoADUOISJkCAAAECBAgQIECAAAECBAgQIECAAAECBAgQIECAAAECBAgQIPAl4AD0tYc2BAgQIECAAAECBAgQIECAAAECBAgQIECAAAECBAgQIECAAAECBJKAA1DiEiZAgAABAgQIECBAgAABAgQIECBAgAABAgQIECBAgAABAgQIECDwJeAA9LWHNgQIECBAgAABAgQIECBAgAABAgQIECBAgAABAgQIECBAgAABAgSSgANQ4hImQIAAAQIECBAgQIAAAQIECBAgQIAAAQIECBAgQIAAAQIECBAg8CXgAPS1hzYECBAgQIAAAQIECBAgQIAAAQIECBAgQIAAAQIECBAgQIAAAQIEkoADUOISJkCAAAECBAgQIECAAAECBAgQIECAAAECBAgQIECAAAECBAgQIPAl4AD0tYc2BAgQIECAAAECBAgQIECAAAECBAgQIECAAAECBAgQIECAAAECBJKAA1DiEiZAgAABAgQIECBAgAABAgQIECBAgAABAgQIECBAgAABAgQIECDwJeAA9LWHNgQIECBAgAABAgQIECBAgAABAgQIECBAgAABAgQIECBAgAABAgSSgANQ4hImQIAAAQIECBAgQIAAAQIECBAgQIAAAQIECBAgQIAAAQIECBAg8CXgAPS1hzYECBAgQIAAAQIECBAgQIAAAQIECBAgQIAAAQIECBAgQIAAAQIEkoADUOISJkCAAAECBAgQIECAAAECBAgQIECAAAECBAgQIECAAAECBAgQIPAl4AD0tYc2BAgQIECAAAECBAgQIECAAAECBAgQIECAAAECBAgQIECAAAECBJKAA1DiEiZAgAABAgQIECBAgAABAgQIECBAgAABAgQIECBAgAABAgQIECDwJeAA9LWHNgQIECBAgAABAgQIECBAgAABAgQIECBAgAABAgQIECBAgAABAgSSgANQ4hImQIAAAQIECBAgQIAAAQIECBAgQIAAAQIECBAgQIAAAQIECBAg8CXgAPS1hzYECBAgQIAAAQIECBAgQIAAAQIECBAgQIAAAQIECBAgQIAAAQIEkoADUOISJkCAAAECBAgQIECAAAECBAgQIECAAAECBAgQIECAAAECBAgQIPAl4AD0tYc2BAgQIECAAAECBAgQIECAAAECBAgQIECAAAECBAgQIECAAAECBJLAANDCcOmbh75OAAAAAElFTkSuQmCC\" width=\"1152\">"
      ],
      "text/plain": [
       "<IPython.core.display.HTML object>"
      ]
     },
     "metadata": {},
     "output_type": "display_data"
    }
   ],
   "source": [
    "%matplotlib notebook\n",
    "figcv = plt.figure(figsize=(8, 5))\n",
    "gs = gridspec.GridSpec(4, 4, figure=figcv)\n",
    "axfrz_stat = figcv.add_subplot(gs[0,0])\n",
    "axfrz_plot = figcv.add_subplot(gs[1,0])\n",
    "axall_stat = figcv.add_subplot(gs[0,2])\n",
    "axall_plot = figcv.add_subplot(gs[1,2])"
   ]
  },
  {
   "cell_type": "code",
   "execution_count": 97,
   "id": "c9fad41d",
   "metadata": {
    "scrolled": false
   },
   "outputs": [
    {
     "data": {
      "image/png": "[encoded data removed]",
      "text/plain": [
       "<Figure size 864x288 with 2 Axes>"
      ]
     },
     "metadata": {
      "needs_background": "light"
     },
     "output_type": "display_data"
    }
   ],
   "source": [
    "%matplotlib inline\n",
    "fig, ax = plt.subplots(1, 2, figsize=(12, 4))\n",
    "for ida, (ap, astat, f) in enumerate(zip([axfrz_plot, ax[0]], [axfrz_stat, ax[1]], [figcv, fig])):\n",
    "    if ida == 0:\n",
    "        sns.set_context(\"paper\", font_scale = 2)\n",
    "    else:\n",
    "        sns.set_context(\"notebook\")\n",
    "    gfg = sns.swarmplot(x=\"Designation\", y=\"cov_z_mean\", hue=\"Group\", size=2,\n",
    "                  data=sigz_freeze_df[~(sigz_freeze_df['Designation'] == '')], dodge=True, ax=ap)\n",
    "    gfg.legend(fontsize=6, markerscale=0.25)\n",
    "    ap.set_title('Freeze Cell Covariance', fontsize=8)\n",
    "    ap.set_ylabel(r'$\\mathregular{\\overline{Z}}$', fontsize=8)\n",
    "    ap.set_xlabel('', fontsize=8)\n",
    "    ap.tick_params(axis='both', which='major', labelsize=8, lineweight=1)\n",
    "    plt.setp(ap.spines.values(), linewidth=1)\n",
    "    sns.despine(ax=ap)\n",
    "    stats_before_after(sigz_freeze_df, 'cov_z_mean', ax=astat, fontsize=6)\n",
    "    sns.despine(ax=astat, bottom=True, left=True)\n",
    "    astat.tick_params(axis='both', left=False, bottom=False, labelleft=False, labelbottom=False)\n",
    "fig.savefig(print_dir + \"/cov_before_after_freeze_cells.pdf\")"
   ]
  },
  {
   "cell_type": "markdown",
   "id": "32e11d08",
   "metadata": {},
   "source": [
    "Plot #2: Same as #1 but for all cells"
   ]
  },
  {
   "cell_type": "code",
   "execution_count": 10,
   "id": "cc204573",
   "metadata": {},
   "outputs": [],
   "source": [
    "allz_df = cova.cov_dict_to_df(all_cov, baseline_dict_use=all_cov, include_silent=True)\n",
    "allz_df = add_memory_designations(allz_df)"
   ]
  },
  {
   "cell_type": "code",
   "execution_count": 11,
   "id": "62ac22d9",
   "metadata": {
    "scrolled": true
   },
   "outputs": [
    {
     "name": "stdout",
     "output_type": "stream",
     "text": [
      "   d1_d2 Designation Group  cov_z_mean\n",
      "0  -2_-1      Before  Ctrl   -0.005070\n",
      "1   -1_4      Before  Ctrl    0.006094\n",
      "2    4_1         4hr  Ctrl    0.020956\n",
      "   d1_d2 Group  cov_z_mean\n",
      "0  -2_-1  Ctrl   -0.005070\n",
      "1   -1_4  Ctrl    0.006094\n",
      "2    4_1  Ctrl    0.020956\n",
      "   d1_d2 Designation Group  cov_z_mean\n",
      "0  -2_-1      Before  Ctrl   -0.005070\n",
      "1   -1_4      Before  Ctrl    0.006094\n",
      "2    4_1         4hr  Ctrl    0.020956\n"
     ]
    }
   ],
   "source": [
    "allz_df_copy = deepcopy(allz_df)\n",
    "allz_df_copy.drop(['Designation'], axis=1, inplace=True)\n",
    "print(allz_df.head(3))\n",
    "print(allz_df_copy.head(3))\n",
    "print(add_memory_designations(allz_df_copy).head(3))"
   ]
  },
  {
   "cell_type": "code",
   "execution_count": 12,
   "id": "aeef4cd7",
   "metadata": {
    "scrolled": true
   },
   "outputs": [
    {
     "data": {
      "image/png": "[encoded data removed]",
      "text/plain": [
       "<Figure size 1080x180 with 5 Axes>"
      ]
     },
     "metadata": {
      "needs_background": "light"
     },
     "output_type": "display_data"
    }
   ],
   "source": [
    "sigz_df = allz_df\n",
    "\n",
    "pairs_plot = ['-2_-1', '-1_4', '4_1', '1_2', '2_7']\n",
    "fig, ax = plt.subplots(1, len(pairs_plot), figsize=(3*len(pairs_plot), 2.5))\n",
    "for a, d1_d2 in zip(ax, pairs_plot):\n",
    "    sns.stripplot(x='Group', y='cov_z_mean', data=sigz_df[sigz_df['d1_d2'] == d1_d2], ax=a)\n",
    "    sns.despine(ax=a)\n",
    "    a.set_title(d1_d2.split('_')[0])\n",
    "    df_use = sigz_df[sigz_df['d1_d2'] == d1_d2]\n",
    "    stat, pval = stats.ttest_ind(df_use[df_use['Group'] == 'Ctrl']['cov_z_mean'], \n",
    "                                 df_use[df_use['Group'] == 'ANI']['cov_z_mean'])\n",
    "    \n",
    "    a.text(0, 0.3, f'p_t = {pval:.3g}')\n",
    "    \n",
    "erp.match_max_lims(ax, axis='y')"
   ]
  },
  {
   "cell_type": "code",
   "execution_count": 104,
   "id": "4971ef43",
   "metadata": {},
   "outputs": [],
   "source": [
    "from copy import deepcopy\n",
    "smallfigParams = deepcopy(plt.rcParams)\n",
    "plotfontsize = 8.0\n",
    "smallfigParams['axes.labelsize'] = plotfontsize\n",
    "smallfigParams['axes.linewidth'] = 1.0\n",
    "smallfigParams['axes.titlesize'] = plotfontsize\n",
    "smallfigParams['font.size'] = plotfontsize\n",
    "smallfigParams['legend.fontsize'] = 6\n",
    "smallfigParams['legend.markerscale'] = 0.25\n",
    "smallfigParams['xtick.labelsize'] = plotfontsize\n",
    "smallfigParams['xtick.major.width'] = 1.0\n",
    "smallfigParams['xtick.major.width'] = 1.0\n",
    "smallfigParams['ytick.labelsize'] = plotfontsize\n",
    "smallfigParams['ytick.major.width'] = 1.0\n",
    "smallfigParams['ytick.major.width'] = 1.0"
   ]
  },
  {
   "cell_type": "code",
   "execution_count": 111,
   "id": "ab2c70e7",
   "metadata": {},
   "outputs": [],
   "source": [
    "import matplotlib.pyplot as plt"
   ]
  },
  {
   "cell_type": "code",
   "execution_count": 109,
   "id": "d3d71e21",
   "metadata": {},
   "outputs": [
    {
     "data": {
      "text/plain": [
       "Text(0.5, 0, 'test normal')"
      ]
     },
     "execution_count": 109,
     "metadata": {},
     "output_type": "execute_result"
    },
    {
     "data": {
      "image/png": "[encoded data removed]",
      "text/plain": [
       "<Figure size 432x288 with 2 Axes>"
      ]
     },
     "metadata": {
      "needs_background": "light"
     },
     "output_type": "display_data"
    }
   ],
   "source": [
    "import matplotlib as mpl\n",
    "fig1, ax1 = plt.subplots(1, 2)\n",
    "\n",
    "plt.rcParams = smallfigParams\n",
    "ax1[0].plot([0, 1])\n",
    "ax1[0].set_xlabel('test small')\n",
    "plt.rcdefaults\n",
    "\n",
    "ax1[1].plot([1, 0])\n",
    "ax1[1].set_xlabel('test normal')"
   ]
  },
  {
   "cell_type": "code",
   "execution_count": 102,
   "id": "3c3dcdc1",
   "metadata": {},
   "outputs": [
    {
     "data": {
      "text/plain": [
       "RcParams({'_internal.classic_mode': False,\n",
       "          'agg.path.chunksize': 0,\n",
       "          'animation.avconv_args': [],\n",
       "          'animation.avconv_path': 'avconv',\n",
       "          'animation.bitrate': -1,\n",
       "          'animation.codec': 'h264',\n",
       "          'animation.convert_args': [],\n",
       "          'animation.convert_path': 'convert',\n",
       "          'animation.embed_limit': 20.0,\n",
       "          'animation.ffmpeg_args': [],\n",
       "          'animation.ffmpeg_path': 'ffmpeg',\n",
       "          'animation.frame_format': 'png',\n",
       "          'animation.html': 'none',\n",
       "          'animation.html_args': [],\n",
       "          'animation.writer': 'ffmpeg',\n",
       "          'axes.autolimit_mode': 'data',\n",
       "          'axes.axisbelow': 'line',\n",
       "          'axes.edgecolor': 'black',\n",
       "          'axes.facecolor': 'white',\n",
       "          'axes.formatter.limits': [-5, 6],\n",
       "          'axes.formatter.min_exponent': 0,\n",
       "          'axes.formatter.offset_threshold': 4,\n",
       "          'axes.formatter.use_locale': False,\n",
       "          'axes.formatter.use_mathtext': False,\n",
       "          'axes.formatter.useoffset': True,\n",
       "          'axes.grid': False,\n",
       "          'axes.grid.axis': 'both',\n",
       "          'axes.grid.which': 'major',\n",
       "          'axes.labelcolor': 'black',\n",
       "          'axes.labelpad': 4.0,\n",
       "          'axes.labelsize': 12.0,\n",
       "          'axes.labelweight': 'normal',\n",
       "          'axes.linewidth': 1.25,\n",
       "          'axes.prop_cycle': cycler('color', ['#1f77b4', '#ff7f0e', '#2ca02c', '#d62728', '#9467bd', '#8c564b', '#e377c2', '#7f7f7f', '#bcbd22', '#17becf']),\n",
       "          'axes.spines.bottom': True,\n",
       "          'axes.spines.left': True,\n",
       "          'axes.spines.right': True,\n",
       "          'axes.spines.top': True,\n",
       "          'axes.titlecolor': 'auto',\n",
       "          'axes.titlelocation': 'center',\n",
       "          'axes.titlepad': 6.0,\n",
       "          'axes.titlesize': 12.0,\n",
       "          'axes.titleweight': 'normal',\n",
       "          'axes.titley': None,\n",
       "          'axes.unicode_minus': True,\n",
       "          'axes.xmargin': 0.05,\n",
       "          'axes.ymargin': 0.05,\n",
       "          'axes.zmargin': 0.05,\n",
       "          'axes3d.grid': True,\n",
       "          'backend': 'module://matplotlib_inline.backend_inline',\n",
       "          'backend_fallback': True,\n",
       "          'boxplot.bootstrap': None,\n",
       "          'boxplot.boxprops.color': 'black',\n",
       "          'boxplot.boxprops.linestyle': '-',\n",
       "          'boxplot.boxprops.linewidth': 1.0,\n",
       "          'boxplot.capprops.color': 'black',\n",
       "          'boxplot.capprops.linestyle': '-',\n",
       "          'boxplot.capprops.linewidth': 1.0,\n",
       "          'boxplot.flierprops.color': 'black',\n",
       "          'boxplot.flierprops.linestyle': 'none',\n",
       "          'boxplot.flierprops.linewidth': 1.0,\n",
       "          'boxplot.flierprops.marker': 'o',\n",
       "          'boxplot.flierprops.markeredgecolor': 'black',\n",
       "          'boxplot.flierprops.markeredgewidth': 1.0,\n",
       "          'boxplot.flierprops.markerfacecolor': 'none',\n",
       "          'boxplot.flierprops.markersize': 6.0,\n",
       "          'boxplot.meanline': False,\n",
       "          'boxplot.meanprops.color': 'C2',\n",
       "          'boxplot.meanprops.linestyle': '--',\n",
       "          'boxplot.meanprops.linewidth': 1.0,\n",
       "          'boxplot.meanprops.marker': '^',\n",
       "          'boxplot.meanprops.markeredgecolor': 'C2',\n",
       "          'boxplot.meanprops.markerfacecolor': 'C2',\n",
       "          'boxplot.meanprops.markersize': 6.0,\n",
       "          'boxplot.medianprops.color': 'C1',\n",
       "          'boxplot.medianprops.linestyle': '-',\n",
       "          'boxplot.medianprops.linewidth': 1.0,\n",
       "          'boxplot.notch': False,\n",
       "          'boxplot.patchartist': False,\n",
       "          'boxplot.showbox': True,\n",
       "          'boxplot.showcaps': True,\n",
       "          'boxplot.showfliers': True,\n",
       "          'boxplot.showmeans': False,\n",
       "          'boxplot.vertical': True,\n",
       "          'boxplot.whiskerprops.color': 'black',\n",
       "          'boxplot.whiskerprops.linestyle': '-',\n",
       "          'boxplot.whiskerprops.linewidth': 1.0,\n",
       "          'boxplot.whiskers': 1.5,\n",
       "          'contour.corner_mask': True,\n",
       "          'contour.linewidth': None,\n",
       "          'contour.negative_linestyle': 'dashed',\n",
       "          'date.autoformatter.day': '%Y-%m-%d',\n",
       "          'date.autoformatter.hour': '%m-%d %H',\n",
       "          'date.autoformatter.microsecond': '%M:%S.%f',\n",
       "          'date.autoformatter.minute': '%d %H:%M',\n",
       "          'date.autoformatter.month': '%Y-%m',\n",
       "          'date.autoformatter.second': '%H:%M:%S',\n",
       "          'date.autoformatter.year': '%Y',\n",
       "          'date.converter': None,\n",
       "          'date.epoch': '1970-01-01T00:00:00',\n",
       "          'date.interval_multiples': None,\n",
       "          'docstring.hardcopy': False,\n",
       "          'errorbar.capsize': 0.0,\n",
       "          'figure.autolayout': False,\n",
       "          'figure.constrained_layout.h_pad': 0.04167,\n",
       "          'figure.constrained_layout.hspace': 0.02,\n",
       "          'figure.constrained_layout.use': False,\n",
       "          'figure.constrained_layout.w_pad': 0.04167,\n",
       "          'figure.constrained_layout.wspace': 0.02,\n",
       "          'figure.dpi': 72.0,\n",
       "          'figure.edgecolor': (1, 1, 1, 0),\n",
       "          'figure.facecolor': (1, 1, 1, 0),\n",
       "          'figure.figsize': [6.0, 4.0],\n",
       "          'figure.frameon': True,\n",
       "          'figure.max_open_warning': 20,\n",
       "          'figure.raise_window': True,\n",
       "          'figure.subplot.bottom': 0.125,\n",
       "          'figure.subplot.hspace': 0.2,\n",
       "          'figure.subplot.left': 0.125,\n",
       "          'figure.subplot.right': 0.9,\n",
       "          'figure.subplot.top': 0.88,\n",
       "          'figure.subplot.wspace': 0.2,\n",
       "          'figure.titlesize': 'large',\n",
       "          'figure.titleweight': 'normal',\n",
       "          'font.cursive': ['Apple Chancery',\n",
       "                           'Textile',\n",
       "                           'Zapf Chancery',\n",
       "                           'Sand',\n",
       "                           'Script MT',\n",
       "                           'Felipa',\n",
       "                           'Comic Neue',\n",
       "                           'Comic Sans MS',\n",
       "                           'cursive'],\n",
       "          'font.family': ['sans-serif'],\n",
       "          'font.fantasy': ['Chicago',\n",
       "                           'Charcoal',\n",
       "                           'Impact',\n",
       "                           'Western',\n",
       "                           'Humor Sans',\n",
       "                           'xkcd',\n",
       "                           'fantasy'],\n",
       "          'font.monospace': ['DejaVu Sans Mono',\n",
       "                             'Bitstream Vera Sans Mono',\n",
       "                             'Computer Modern Typewriter',\n",
       "                             'Andale Mono',\n",
       "                             'Nimbus Mono L',\n",
       "                             'Courier New',\n",
       "                             'Courier',\n",
       "                             'Fixed',\n",
       "                             'Terminal',\n",
       "                             'monospace'],\n",
       "          'font.sans-serif': ['Arial'],\n",
       "          'font.serif': ['DejaVu Serif',\n",
       "                         'Bitstream Vera Serif',\n",
       "                         'Computer Modern Roman',\n",
       "                         'New Century Schoolbook',\n",
       "                         'Century Schoolbook L',\n",
       "                         'Utopia',\n",
       "                         'ITC Bookman',\n",
       "                         'Bookman',\n",
       "                         'Nimbus Roman No9 L',\n",
       "                         'Times New Roman',\n",
       "                         'Times',\n",
       "                         'Palatino',\n",
       "                         'Charter',\n",
       "                         'serif'],\n",
       "          'font.size': 12.0,\n",
       "          'font.stretch': 'normal',\n",
       "          'font.style': 'normal',\n",
       "          'font.variant': 'normal',\n",
       "          'font.weight': 'normal',\n",
       "          'grid.alpha': 1.0,\n",
       "          'grid.color': '#b0b0b0',\n",
       "          'grid.linestyle': '-',\n",
       "          'grid.linewidth': 1.0,\n",
       "          'hatch.color': 'black',\n",
       "          'hatch.linewidth': 1.0,\n",
       "          'hist.bins': 10,\n",
       "          'image.aspect': 'equal',\n",
       "          'image.cmap': 'viridis',\n",
       "          'image.composite_image': True,\n",
       "          'image.interpolation': 'antialiased',\n",
       "          'image.lut': 256,\n",
       "          'image.origin': 'upper',\n",
       "          'image.resample': True,\n",
       "          'interactive': True,\n",
       "          'keymap.all_axes': ['a'],\n",
       "          'keymap.back': ['left', 'c', 'backspace', 'MouseButton.BACK'],\n",
       "          'keymap.copy': ['ctrl+c', 'cmd+c'],\n",
       "          'keymap.forward': ['right', 'v', 'MouseButton.FORWARD'],\n",
       "          'keymap.fullscreen': ['f', 'ctrl+f'],\n",
       "          'keymap.grid': ['g'],\n",
       "          'keymap.grid_minor': ['G'],\n",
       "          'keymap.help': ['f1'],\n",
       "          'keymap.home': ['h', 'r', 'home'],\n",
       "          'keymap.pan': ['p'],\n",
       "          'keymap.quit': ['ctrl+w', 'cmd+w', 'q'],\n",
       "          'keymap.quit_all': [],\n",
       "          'keymap.save': ['s', 'ctrl+s'],\n",
       "          'keymap.xscale': ['k', 'L'],\n",
       "          'keymap.yscale': ['l'],\n",
       "          'keymap.zoom': ['o'],\n",
       "          'legend.borderaxespad': 0.5,\n",
       "          'legend.borderpad': 0.4,\n",
       "          'legend.columnspacing': 2.0,\n",
       "          'legend.edgecolor': '0.8',\n",
       "          'legend.facecolor': 'inherit',\n",
       "          'legend.fancybox': True,\n",
       "          'legend.fontsize': 11.0,\n",
       "          'legend.framealpha': 0.8,\n",
       "          'legend.frameon': True,\n",
       "          'legend.handleheight': 0.7,\n",
       "          'legend.handlelength': 2.0,\n",
       "          'legend.handletextpad': 0.8,\n",
       "          'legend.labelspacing': 0.5,\n",
       "          'legend.loc': 'best',\n",
       "          'legend.markerscale': 1.0,\n",
       "          'legend.numpoints': 1,\n",
       "          'legend.scatterpoints': 1,\n",
       "          'legend.shadow': False,\n",
       "          'legend.title_fontsize': 12.0,\n",
       "          'lines.antialiased': True,\n",
       "          'lines.color': 'C0',\n",
       "          'lines.dash_capstyle': <CapStyle.butt: 'butt'>,\n",
       "          'lines.dash_joinstyle': <JoinStyle.round: 'round'>,\n",
       "          'lines.dashdot_pattern': [6.4, 1.6, 1.0, 1.6],\n",
       "          'lines.dashed_pattern': [3.7, 1.6],\n",
       "          'lines.dotted_pattern': [1.0, 1.65],\n",
       "          'lines.linestyle': '-',\n",
       "          'lines.linewidth': 1.5,\n",
       "          'lines.marker': 'None',\n",
       "          'lines.markeredgecolor': 'auto',\n",
       "          'lines.markeredgewidth': 1.0,\n",
       "          'lines.markerfacecolor': 'auto',\n",
       "          'lines.markersize': 6.0,\n",
       "          'lines.scale_dashes': True,\n",
       "          'lines.solid_capstyle': <CapStyle.projecting: 'projecting'>,\n",
       "          'lines.solid_joinstyle': <JoinStyle.round: 'round'>,\n",
       "          'markers.fillstyle': 'full',\n",
       "          'mathtext.bf': 'sans:bold',\n",
       "          'mathtext.cal': 'cursive',\n",
       "          'mathtext.default': 'it',\n",
       "          'mathtext.fallback': 'cm',\n",
       "          'mathtext.fallback_to_cm': None,\n",
       "          'mathtext.fontset': 'dejavusans',\n",
       "          'mathtext.it': 'sans:italic',\n",
       "          'mathtext.rm': 'sans',\n",
       "          'mathtext.sf': 'sans',\n",
       "          'mathtext.tt': 'monospace',\n",
       "          'patch.antialiased': True,\n",
       "          'patch.edgecolor': 'black',\n",
       "          'patch.facecolor': 'C0',\n",
       "          'patch.force_edgecolor': False,\n",
       "          'patch.linewidth': 1.0,\n",
       "          'path.effects': [],\n",
       "          'path.simplify': True,\n",
       "          'path.simplify_threshold': 0.111111111111,\n",
       "          'path.sketch': None,\n",
       "          'path.snap': True,\n",
       "          'pcolor.shading': 'flat',\n",
       "          'pcolormesh.snap': True,\n",
       "          'pdf.compression': 6,\n",
       "          'pdf.fonttype': 42,\n",
       "          'pdf.inheritcolor': False,\n",
       "          'pdf.use14corefonts': False,\n",
       "          'pgf.preamble': '',\n",
       "          'pgf.rcfonts': True,\n",
       "          'pgf.texsystem': 'xelatex',\n",
       "          'polaraxes.grid': True,\n",
       "          'ps.distiller.res': 6000,\n",
       "          'ps.fonttype': 3,\n",
       "          'ps.papersize': 'letter',\n",
       "          'ps.useafm': False,\n",
       "          'ps.usedistiller': None,\n",
       "          'savefig.bbox': None,\n",
       "          'savefig.directory': '~',\n",
       "          'savefig.dpi': 'figure',\n",
       "          'savefig.edgecolor': 'auto',\n",
       "          'savefig.facecolor': 'auto',\n",
       "          'savefig.format': 'png',\n",
       "          'savefig.jpeg_quality': 95,\n",
       "          'savefig.orientation': 'portrait',\n",
       "          'savefig.pad_inches': 0.1,\n",
       "          'savefig.transparent': False,\n",
       "          'scatter.edgecolors': 'face',\n",
       "          'scatter.marker': 'o',\n",
       "          'svg.fonttype': 'path',\n",
       "          'svg.hashsalt': None,\n",
       "          'svg.image_inline': True,\n",
       "          'text.antialiased': True,\n",
       "          'text.color': 'black',\n",
       "          'text.hinting': 'force_autohint',\n",
       "          'text.hinting_factor': 8,\n",
       "          'text.kerning_factor': 0,\n",
       "          'text.latex.preamble': '',\n",
       "          'text.latex.preview': False,\n",
       "          'text.usetex': False,\n",
       "          'timezone': 'UTC',\n",
       "          'tk.window_focus': False,\n",
       "          'toolbar': 'toolbar2',\n",
       "          'webagg.address': '127.0.0.1',\n",
       "          'webagg.open_in_browser': True,\n",
       "          'webagg.port': 8988,\n",
       "          'webagg.port_retries': 50,\n",
       "          'xaxis.labellocation': 'center',\n",
       "          'xtick.alignment': 'center',\n",
       "          'xtick.bottom': True,\n",
       "          'xtick.color': 'black',\n",
       "          'xtick.direction': 'out',\n",
       "          'xtick.labelbottom': True,\n",
       "          'xtick.labelcolor': 'inherit',\n",
       "          'xtick.labelsize': 11.0,\n",
       "          'xtick.labeltop': False,\n",
       "          'xtick.major.bottom': True,\n",
       "          'xtick.major.pad': 3.5,\n",
       "          'xtick.major.size': 6.0,\n",
       "          'xtick.major.top': True,\n",
       "          'xtick.major.width': 1.25,\n",
       "          'xtick.minor.bottom': True,\n",
       "          'xtick.minor.pad': 3.4,\n",
       "          'xtick.minor.size': 4.0,\n",
       "          'xtick.minor.top': True,\n",
       "          'xtick.minor.visible': False,\n",
       "          'xtick.minor.width': 1.0,\n",
       "          'xtick.top': False,\n",
       "          'yaxis.labellocation': 'center',\n",
       "          'ytick.alignment': 'center_baseline',\n",
       "          'ytick.color': 'black',\n",
       "          'ytick.direction': 'out',\n",
       "          'ytick.labelcolor': 'inherit',\n",
       "          'ytick.labelleft': True,\n",
       "          'ytick.labelright': False,\n",
       "          'ytick.labelsize': 11.0,\n",
       "          'ytick.left': True,\n",
       "          'ytick.major.left': True,\n",
       "          'ytick.major.pad': 3.5,\n",
       "          'ytick.major.right': True,\n",
       "          'ytick.major.size': 6.0,\n",
       "          'ytick.major.width': 1.25,\n",
       "          'ytick.minor.left': True,\n",
       "          'ytick.minor.pad': 3.4,\n",
       "          'ytick.minor.right': True,\n",
       "          'ytick.minor.size': 4.0,\n",
       "          'ytick.minor.visible': False,\n",
       "          'ytick.minor.width': 1.0,\n",
       "          'ytick.right': False})"
      ]
     },
     "execution_count": 102,
     "metadata": {},
     "output_type": "execute_result"
    }
   ],
   "source": [
    "plt.rcParams"
   ]
  },
  {
   "cell_type": "code",
   "execution_count": 98,
   "id": "f13f881b",
   "metadata": {
    "scrolled": false
   },
   "outputs": [
    {
     "data": {
      "image/png": "[encoded data removed]",
      "text/plain": [
       "<Figure size 864x288 with 2 Axes>"
      ]
     },
     "metadata": {
      "needs_background": "light"
     },
     "output_type": "display_data"
    }
   ],
   "source": [
    "fig, ax = plt.subplots(1,2, figsize=(12, 4))\n",
    "for ap, astat, f in zip([axall_plot, ax[0]], [axall_stat, ax[1]], [figcv, fig]):\n",
    "    gfg = sns.swarmplot(x=\"Designation\", y=\"cov_z_mean\", hue=\"Group\", size=2,\n",
    "                  data=allz_df[~(allz_df['Designation'] == '')], dodge=True, ax=ap)\n",
    "    gfg.legend(fontsize=6, markerscale=0.25)\n",
    "    ap.set_title('All Cell Covariance', fontsize=8)\n",
    "    ap.set_ylabel(r'$\\mathregular{\\overline{Z}}$', fontsize=8)\n",
    "    ap.set_xlabel('', fontsize=8)\n",
    "    ap.tick_params(axis='both', which='major', labelsize=8, lineweight=1)\n",
    "    plt.setp(ap.spines.values(), linewidth=1)\n",
    "    sns.despine(ax=ap)\n",
    "    stats_before_after(allz_df, \"cov_z_mean\", astat, fontsize=8)\n",
    "    sns.despine(ax=astat, bottom=True, left=True)\n",
    "    astat.tick_params(axis='both', left=False, bottom=False, labelleft=False, labelbottom=False)\n",
    "fig.savefig(print_dir + \"/cov_before_after_all_cells.pdf\")"
   ]
  },
  {
   "cell_type": "code",
   "execution_count": 99,
   "id": "4cc9e2f4",
   "metadata": {},
   "outputs": [],
   "source": [
    "# Save to manuscript figure\n",
    "figcv.savefig(print_dir + \"/cov_frz_all_combined_resize.pdf\")"
   ]
  },
  {
   "cell_type": "markdown",
   "id": "d9a6a463",
   "metadata": {},
   "source": [
    "Plot #3: Same as #1 and #2 but for all cells on 4 hr session which have covariance > 2std above mean.  This one might be messy due to lots of cell turnover in ANI mice."
   ]
  },
  {
   "cell_type": "code",
   "execution_count": 15,
   "id": "49e3de32",
   "metadata": {
    "scrolled": false
   },
   "outputs": [
    {
     "name": "stderr",
     "output_type": "stream",
     "text": [
      "Marble07: 5it [00:03,  1.35it/s]\n",
      "Marble12: 5it [00:03,  1.54it/s]\n",
      "Marble24: 5it [00:03,  1.54it/s]\n",
      "Marble27: 5it [00:03,  1.49it/s]\n",
      "Marble06: 5it [00:03,  1.46it/s]\n",
      "Marble11: 5it [00:04,  1.09it/s]\n",
      "Marble29: 5it [00:03,  1.43it/s]\n",
      "Marble17: 5it [00:04,  1.24it/s]\n",
      "Marble18: 5it [00:03,  1.57it/s]\n",
      "Marble19: 5it [00:03,  1.45it/s]\n",
      "Marble20: 5it [00:03,  1.60it/s]\n",
      "Marble25: 5it [00:03,  1.44it/s]\n"
     ]
    }
   ],
   "source": [
    "sig4_cov_dict = cova.group_sig_cov_across_days(bin_size=bin_size, arena1='Shock',\n",
    "                                              arena2='Shock', base_days=[4, 4, 4, 4, 4],\n",
    "                                              reg_days=[-2, -1, 4, 1, 2], thresh=2,\n",
    "                                              keep_silent=False)"
   ]
  },
  {
   "cell_type": "code",
   "execution_count": 16,
   "id": "d0109964",
   "metadata": {},
   "outputs": [],
   "source": [
    "# Clean up and reshape dataframe\n",
    "sig4_dfreg = cova.cov_dict_to_df(sig4_cov_dict, all_cov, register=True)\n",
    "sig4_dfreg = add_memory_designations(sig4_dfreg, before=['4_-2', '4_-1'], during='4_4', after=['4_1', '4_2'])"
   ]
  },
  {
   "cell_type": "code",
   "execution_count": 17,
   "id": "809cdc65",
   "metadata": {},
   "outputs": [
    {
     "data": {
      "image/png": "[encoded data removed]",
      "text/plain": [
       "<Figure size 864x288 with 2 Axes>"
      ]
     },
     "metadata": {
      "needs_background": "light"
     },
     "output_type": "display_data"
    }
   ],
   "source": [
    "fig, ax = plt.subplots(1,2, figsize=(12, 4))\n",
    "sns.swarmplot(x=\"Designation\", y=\"cov_z_mean\", hue=\"Group\", data=sig4_dfreg, dodge=True, ax=ax[0])\n",
    "ax[0].set_title('4hr sig cells')\n",
    "sns.despine(fig=fig)\n",
    "stats_before_after(sig4_dfreg, 'cov_z_mean', ax[1])\n",
    "fig.savefig(print_dir + \"/cov_before_after_sig4_cells_registered_across_days.pdf\")"
   ]
  },
  {
   "cell_type": "markdown",
   "id": "ce5e8ab7",
   "metadata": {},
   "source": [
    "Plot #4: ID freeze cells on 4 hr session and track covariance forward/backward across whole experiment.  Include silent cells in code, but plot two ways: 1) turnover in freeze cell population between sessions, and 2) change in covariance from 4 hr session forward/backward in time.  "
   ]
  },
  {
   "cell_type": "code",
   "execution_count": 18,
   "id": "6c3e15d7",
   "metadata": {},
   "outputs": [
    {
     "name": "stderr",
     "output_type": "stream",
     "text": [
      "Marble07: 5it [00:05,  1.05s/it]\n",
      "Marble12: 5it [00:04,  1.11it/s]\n",
      "Marble24: 5it [00:04,  1.13it/s]\n",
      "Marble27: 5it [00:04,  1.09it/s]\n",
      "Marble06: 5it [00:04,  1.07it/s]\n",
      "Marble11: 5it [00:06,  1.21s/it]\n",
      "Marble29: 5it [00:04,  1.03it/s]\n",
      "Marble17: 5it [00:05,  1.08s/it]\n",
      "Marble18: 5it [00:04,  1.17it/s]\n",
      "Marble19: 5it [00:04,  1.07it/s]\n",
      "Marble20: 5it [00:04,  1.18it/s]\n",
      "Marble25: 5it [00:04,  1.07it/s]\n"
     ]
    }
   ],
   "source": [
    "freeze_4hr_reg = cova.group_cov_across_days(bin_size=bin_size, arena1='Shock', arena2='Shock',\n",
    "                                            neurons='freeze_onset', keep_silent=True,\n",
    "                                            base_days=[4, 4, 4, 4, 4], reg_days=[-2, -1, 4, 1, 2])"
   ]
  },
  {
   "cell_type": "code",
   "execution_count": 19,
   "id": "a8a1e812",
   "metadata": {},
   "outputs": [],
   "source": [
    "# Clean up and reshape dataframe\n",
    "sig4frz_dfreg = cova.cov_dict_to_df(freeze_4hr_reg, all_cov, register=True)\n",
    "sig4frz_dfreg = add_memory_designations(sig4frz_dfreg, before=['4_-2', '4_-1'], during=['4_4'], after=['4_1', '4_2'])"
   ]
  },
  {
   "cell_type": "markdown",
   "id": "84977579",
   "metadata": {},
   "source": [
    "### Now construct another set of plots tracking freeze cells from 4hr or 1 day session across days"
   ]
  },
  {
   "cell_type": "code",
   "execution_count": 20,
   "id": "e2c9ff92",
   "metadata": {},
   "outputs": [
    {
     "data": {
      "image/png": "[encoded data removed]",
      "text/plain": [
       "<Figure size 864x576 with 4 Axes>"
      ]
     },
     "metadata": {
      "needs_background": "light"
     },
     "output_type": "display_data"
    }
   ],
   "source": [
    "figfrzreg = plt.figure(figsize=(12, 8))\n",
    "gs = gridspec.GridSpec(2, 2, figure=figfrzreg)\n",
    "ax4stat = figfrzreg.add_subplot(gs[0, 0])\n",
    "ax4plot = figfrzreg.add_subplot(gs[1, 0])\n",
    "ax1stat = figfrzreg.add_subplot(gs[0, 1])\n",
    "ax1plot = figfrzreg.add_subplot(gs[1, 1])"
   ]
  },
  {
   "cell_type": "code",
   "execution_count": 21,
   "id": "9b244271",
   "metadata": {
    "scrolled": false
   },
   "outputs": [
    {
     "data": {
      "image/png": "[encoded data removed]",
      "text/plain": [
       "<Figure size 864x288 with 2 Axes>"
      ]
     },
     "metadata": {
      "needs_background": "light"
     },
     "output_type": "display_data"
    }
   ],
   "source": [
    "fig, ax = plt.subplots(1,2, figsize=(12, 4))\n",
    "for ap, astat, f in zip([ax4plot, ax[0]], [ax4stat, ax[1]], [figfrzreg, fig]):\n",
    "    sns.swarmplot(x=\"Designation\", y=\"cov_z_mean\", hue=\"Group\", data=sig4frz_dfreg, dodge=True, ax=ap)\n",
    "    ap.set_title('4 hr freeze cells reg across days')\n",
    "    ap.set_xlabel('')\n",
    "    ap.set_ylabel(r'$\\overline{Z}$')\n",
    "    sns.despine(fig=f)\n",
    "    stats_before_after(sig4frz_dfreg, 'cov_z_mean', astat)\n",
    "# fig.savefig(print_dir + \"/cov_before_after_sig1_cells_registered_across_days.pdf\")"
   ]
  },
  {
   "cell_type": "markdown",
   "id": "4d372532",
   "metadata": {},
   "source": [
    "Plot #4b: ID freeze cells on 1 day session and track covariance forward/backward across whole experiment.  Include silent cells in code, but plot two ways: 1) turnover in freeze cell population between sessions, and 2) change in covariance from 4 hr session forward/backward in time.  "
   ]
  },
  {
   "cell_type": "markdown",
   "id": "ef160920",
   "metadata": {},
   "source": [
    "Plot #5: Same as #4 but do control plot (ID cells on day -1) and plot of consolidated cells (ID cells on day 1)."
   ]
  },
  {
   "cell_type": "code",
   "execution_count": 22,
   "id": "a9911fcf",
   "metadata": {
    "scrolled": true
   },
   "outputs": [
    {
     "name": "stderr",
     "output_type": "stream",
     "text": [
      "Marble07: 5it [00:03,  1.36it/s]\n",
      "Marble12: 5it [00:03,  1.56it/s]\n",
      "Marble24: 5it [00:03,  1.53it/s]\n",
      "Marble27: 5it [00:03,  1.50it/s]\n",
      "Marble06: 5it [00:03,  1.46it/s]\n",
      "Marble11: 5it [00:04,  1.06it/s]\n",
      "Marble29: 5it [00:03,  1.44it/s]\n",
      "Marble17: 5it [00:03,  1.27it/s]\n",
      "Marble18: 5it [00:03,  1.60it/s]\n",
      "Marble19: 5it [00:03,  1.40it/s]\n",
      "Marble20: 5it [00:03,  1.58it/s]\n",
      "Marble25: 5it [00:03,  1.41it/s]\n"
     ]
    }
   ],
   "source": [
    "sig1_cov_dict = cova.group_sig_cov_across_days(bin_size=bin_size, arena1='Shock',\n",
    "                                              arena2='Shock', base_days=[1, 1, 1, 1, 1],\n",
    "                                              reg_days=[-2, -1, 4, 1, 2], thresh=2,\n",
    "                                              keep_silent=False)"
   ]
  },
  {
   "cell_type": "markdown",
   "id": "7289c611",
   "metadata": {},
   "source": [
    "## NRK - look at actual dictionary you created - how many cells? Make sure it isn't just carried by one to two cells that actually register"
   ]
  },
  {
   "cell_type": "code",
   "execution_count": 23,
   "id": "6844ae14",
   "metadata": {},
   "outputs": [],
   "source": [
    "# Clean up and reshape dataframe\n",
    "sig1_dfreg = cova.cov_dict_to_df(sig1_cov_dict, all_cov, register=True)\n",
    "sig1_dfreg = add_memory_designations(sig1_dfreg, before=['1_-2', '1_-1'], during=['1_4'], after=['1_2'])"
   ]
  },
  {
   "cell_type": "code",
   "execution_count": 24,
   "id": "42535f6b",
   "metadata": {
    "scrolled": true
   },
   "outputs": [
    {
     "data": {
      "image/png": "[encoded data removed]",
      "text/plain": [
       "<Figure size 864x288 with 2 Axes>"
      ]
     },
     "metadata": {
      "needs_background": "light"
     },
     "output_type": "display_data"
    }
   ],
   "source": [
    "fig, ax = plt.subplots(1,2, figsize=(12, 4))\n",
    "sns.swarmplot(x=\"Designation\", y=\"cov_z_mean\", hue=\"Group\", data=sig1_dfreg, dodge=True, ax=ax[0])\n",
    "ax[0].set_title('1 day sig cells')\n",
    "sns.despine(fig=fig)\n",
    "stats_before_after(sig1_dfreg, 'cov_z_mean', ax[1])\n",
    "# fig.savefig(print_dir + \"/cov_before_after_sig1_cells_registered_across_days.pdf\")"
   ]
  },
  {
   "cell_type": "markdown",
   "id": "b5baf9f7",
   "metadata": {},
   "source": [
    "Plot #6: More for ANI turnover plots, but plot turnover from day -2 to day -1 for ANI vs Ctrls and compare to day -1 to day 7 - hypothesis is that ANI induces some sort of change in the cells active during later time points, and day -1 to day 7 is the first point at which we see no suppression of activity by ANI."
   ]
  },
  {
   "cell_type": "code",
   "execution_count": 25,
   "id": "daa72bd8",
   "metadata": {
    "scrolled": false
   },
   "outputs": [
    {
     "name": "stderr",
     "output_type": "stream",
     "text": [
      "Marble07: 5it [00:05,  1.02s/it]\n",
      "Marble12: 5it [00:04,  1.12it/s]\n",
      "Marble24: 5it [00:04,  1.11it/s]\n",
      "Marble27: 5it [00:04,  1.09it/s]\n",
      "Marble06: 5it [00:04,  1.08it/s]\n",
      "Marble11: 5it [00:06,  1.21s/it]\n",
      "Marble29: 5it [00:04,  1.05it/s]\n",
      "Marble17: 5it [00:05,  1.07s/it]\n",
      "Marble18: 5it [00:04,  1.15it/s]\n",
      "Marble19: 5it [00:04,  1.04it/s]\n",
      "Marble20: 5it [00:04,  1.16it/s]\n",
      "Marble25: 5it [00:04,  1.04it/s]\n",
      "Marble07: 5it [00:05,  1.03s/it]\n",
      "Marble12: 5it [00:04,  1.12it/s]\n",
      "Marble24: 5it [00:04,  1.08it/s]\n",
      "Marble27: 5it [00:04,  1.11it/s]\n",
      "Marble06: 5it [00:04,  1.07it/s]\n",
      "Marble11: 5it [00:06,  1.23s/it]\n",
      "Marble29: 5it [00:04,  1.04it/s]\n",
      "Marble17: 5it [00:05,  1.06s/it]\n",
      "Marble18: 5it [00:04,  1.15it/s]\n",
      "Marble19: 5it [00:04,  1.04it/s]\n",
      "Marble20: 5it [00:04,  1.14it/s]\n",
      "Marble25: 5it [00:04,  1.03it/s]\n"
     ]
    }
   ],
   "source": [
    "sig1frz_cov_dict = cova.group_cov_across_days(bin_size=bin_size, arena1='Shock', neurons='freeze_onset',\n",
    "                                              arena2='Shock', base_days=[1, 1, 1, 1, 1],\n",
    "                                              reg_days=[-2, -1, 4, 1, 2], keep_silent=False)\n",
    "sig2frz_cov_dict = cova.group_cov_across_days(bin_size=bin_size, arena1='Shock', neurons='freeze_onset',\n",
    "                                              arena2='Shock', base_days=[2, 2, 2, 2, 2],\n",
    "                                              reg_days=[-2, -1, 4, 1, 2], keep_silent=False)\n",
    "# Not sure how to interpret keeping silent cells in with across-day registration...\n",
    "# sig1frz_cov_dict_wsilent = cova.group_cov_across_days(bin_size=bin_size, arena1='Shock', neurons='freeze_onset',\n",
    "#                                               arena2='Shock', base_days=[1, 1, 1, 1, 1],\n",
    "#                                               reg_days=[-2, -1, 4, 1, 2], keep_silent=True)"
   ]
  },
  {
   "cell_type": "code",
   "execution_count": 26,
   "id": "e7e42716",
   "metadata": {},
   "outputs": [
    {
     "name": "stderr",
     "output_type": "stream",
     "text": [
      "/Users/nkinsky/miniconda3/envs/eraser/lib/python3.9/site-packages/numpy/core/fromnumeric.py:3440: RuntimeWarning: Mean of empty slice.\n",
      "  return _methods._mean(a, axis=axis, dtype=dtype,\n",
      "/Users/nkinsky/miniconda3/envs/eraser/lib/python3.9/site-packages/numpy/core/_methods.py:189: RuntimeWarning: invalid value encountered in double_scalars\n",
      "  ret = ret.dtype.type(ret / rcount)\n"
     ]
    }
   ],
   "source": [
    "# Clean up and reshape dataframe\n",
    "sig1frz_dfreg = cova.cov_dict_to_df(sig1frz_cov_dict, all_cov, register=True)\n",
    "sig1frz_dfreg = add_memory_designations(sig1frz_dfreg, before=['1_-2', '1_-1'], during=['1_4'], after=['1_1', '1_2'])\n",
    "\n",
    "sig2frz_dfreg = cova.cov_dict_to_df(sig2frz_cov_dict, all_cov, register=True)\n",
    "sig2frz_dfreg = add_memory_designations(sig2frz_dfreg, before=['2_-2', '2_-1'], during=['2_4'], after=['2_1', '2_2'])"
   ]
  },
  {
   "cell_type": "code",
   "execution_count": 27,
   "id": "a4cbe8ed",
   "metadata": {},
   "outputs": [
    {
     "data": {
      "image/png": "[encoded data removed]",
      "text/plain": [
       "<Figure size 1080x180 with 5 Axes>"
      ]
     },
     "metadata": {
      "needs_background": "light"
     },
     "output_type": "display_data"
    }
   ],
   "source": [
    "sigz_df = sig1frz_dfreg\n",
    "\n",
    "pairs_plot = ['1_-2','1_-1', '1_4', '1_1', '1_2']\n",
    "fig, ax = plt.subplots(1, len(pairs_plot), figsize=(3*len(pairs_plot), 2.5))\n",
    "for a, d1_d2 in zip(ax, pairs_plot):\n",
    "    sns.stripplot(x='Group', y='cov_z_mean', data=sigz_df[sigz_df['d1_d2'] == d1_d2], ax=a)\n",
    "    sns.despine(ax=a)\n",
    "    a.set_title(d1_d2.split('_')[1])\n",
    "    df_use = sigz_df[sigz_df['d1_d2'] == d1_d2]\n",
    "    stat, pval = stats.ttest_ind(df_use[df_use['Group'] == 'Ctrl']['cov_z_mean'], \n",
    "                                 df_use[df_use['Group'] == 'ANI']['cov_z_mean'])\n",
    "    \n",
    "    a.text(0, -0.3, f'p_t = {pval:.3g}')\n",
    "    \n",
    "erp.match_max_lims(ax, axis='y')"
   ]
  },
  {
   "cell_type": "code",
   "execution_count": 28,
   "id": "de49c934",
   "metadata": {
    "scrolled": false
   },
   "outputs": [
    {
     "data": {
      "image/png": "[encoded data removed]",
      "text/plain": [
       "<Figure size 864x288 with 2 Axes>"
      ]
     },
     "metadata": {
      "needs_background": "light"
     },
     "output_type": "display_data"
    }
   ],
   "source": [
    "fig, ax = plt.subplots(1,2, figsize=(12, 4))\n",
    "for ap, astat, f in zip([ax1plot, ax[0]], [ax1stat, ax[1]], [figfrzreg, fig]):\n",
    "    sns.swarmplot(x=\"Designation\", y=\"cov_z_mean\", hue=\"Group\", data=sig1frz_dfreg, dodge=True, ax=ap)\n",
    "    ap.set_title('1 day frz cells - Tracked across sessions')\n",
    "    ap.set_xlabel('')\n",
    "    ap.set_ylabel(r'$\\overline{Z}$')\n",
    "    sns.despine(fig=f)\n",
    "    stats_before_after(sig1frz_dfreg, 'cov_z_mean', astat)"
   ]
  },
  {
   "cell_type": "code",
   "execution_count": 29,
   "id": "e3cb5774",
   "metadata": {},
   "outputs": [],
   "source": [
    "# Save to manuscript figure - supplemental?\n",
    "figfrzreg.savefig(print_dir + '/cov_frz_1and4_reg.pdf')"
   ]
  },
  {
   "cell_type": "code",
   "execution_count": 30,
   "id": "39b25bb3",
   "metadata": {
    "scrolled": true
   },
   "outputs": [
    {
     "data": {
      "image/png": "[encoded data removed]",
      "text/plain": [
       "<Figure size 1080x180 with 5 Axes>"
      ]
     },
     "metadata": {
      "needs_background": "light"
     },
     "output_type": "display_data"
    }
   ],
   "source": [
    "sigz_df = sig2frz_dfreg\n",
    "\n",
    "pairs_plot = ['2_-2','2_-1', '2_4', '2_1', '2_2']\n",
    "fig, ax = plt.subplots(1, len(pairs_plot), figsize=(3*len(pairs_plot), 2.5))\n",
    "for a, d1_d2 in zip(ax, pairs_plot):\n",
    "    sns.stripplot(x='Group', y='cov_z_mean', data=sigz_df[sigz_df['d1_d2'] == d1_d2], ax=a)\n",
    "    sns.despine(ax=a)\n",
    "    a.set_title(d1_d2.split('_')[1])\n",
    "    df_use = sigz_df[sigz_df['d1_d2'] == d1_d2]\n",
    "    stat, pval = stats.ttest_ind(df_use[df_use['Group'] == 'Ctrl']['cov_z_mean'], \n",
    "                                 df_use[df_use['Group'] == 'ANI']['cov_z_mean'], nan_policy='omit')\n",
    "    \n",
    "    a.text(0, -0.3, f'p_t = {pval:.3g}')\n",
    "    \n",
    "erp.match_max_lims(ax, axis='y')"
   ]
  },
  {
   "cell_type": "code",
   "execution_count": 31,
   "id": "d6e3910a",
   "metadata": {
    "scrolled": true
   },
   "outputs": [
    {
     "data": {
      "image/png": "[encoded data removed]",
      "text/plain": [
       "<Figure size 864x288 with 2 Axes>"
      ]
     },
     "metadata": {
      "needs_background": "light"
     },
     "output_type": "display_data"
    }
   ],
   "source": [
    "fig, ax = plt.subplots(1,2, figsize=(12, 4))\n",
    "sns.swarmplot(x=\"Designation\", y=\"cov_z_mean\", hue=\"Group\", data=sig2frz_dfreg, dodge=True, ax=ax[0])\n",
    "ax[0].set_title('2 day frz cells - Tracked across sessions')\n",
    "sns.despine(fig=fig)\n",
    "stats_before_after(sig2frz_dfreg, 'cov_z_mean', ax[1])"
   ]
  }
 ],
 "metadata": {
  "kernelspec": {
   "display_name": "Python 3 (ipykernel)",
   "language": "python",
   "name": "python3"
  },
  "language_info": {
   "codemirror_mode": {
    "name": "ipython",
    "version": 3
   },
   "file_extension": ".py",
   "mimetype": "text/x-python",
   "name": "python",
   "nbconvert_exporter": "python",
   "pygments_lexer": "ipython3",
   "version": "3.9.5"
  }
 },
 "nbformat": 4,
 "nbformat_minor": 5
}
