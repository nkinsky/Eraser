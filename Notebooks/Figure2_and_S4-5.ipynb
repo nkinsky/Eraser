{
 "cells": [
  {
   "cell_type": "markdown",
   "id": "7ff9d93e",
   "metadata": {},
   "source": [
    "### Figure 2: Cell Turnover, Anisomycin Effects, and Placefield Stability Remapping"
   ]
  },
  {
   "cell_type": "markdown",
   "id": "1521478a",
   "metadata": {},
   "source": [
    "Note that you must run through `run_placefields.py` for each mouse to check day-to-day alignment of behavioral data before running most of the place field related functions below."
   ]
  },
  {
   "cell_type": "code",
   "execution_count": 1,
   "id": "30bf2db9",
   "metadata": {},
   "outputs": [
    {
     "name": "stderr",
     "output_type": "stream",
     "text": [
      "/Users/nkinsky/miniconda3/envs/eraser/lib/python3.9/site-packages/outdated/utils.py:14: OutdatedPackageWarning: The package outdated is out of date. Your version is 0.2.1, the latest is 0.2.2.\n",
      "Set the environment variable OUTDATED_IGNORE=1 to disable these warnings.\n",
      "  return warn(\n"
     ]
    }
   ],
   "source": [
    "import scipy.stats as sstats\n",
    "import numpy as np\n",
    "import matplotlib.pyplot as plt\n",
    "from os import path\n",
    "import seaborn as sns\n",
    "import pandas as pd\n",
    "import pingouin as pg\n",
    "\n",
    "# Import project specific modules and enable automatic reloading\n",
    "import sys\n",
    "from pathlib import Path\n",
    "import os\n",
    "eraser_path = Path(os.getcwd()).parent\n",
    "reinstatement_path = eraser_path.parent / 'FearReinstatement'\n",
    "sys.path.append(str(eraser_path))\n",
    "sys.path.append(str(reinstatement_path))\n",
    "%load_ext autoreload\n",
    "%autoreload 2\n",
    "\n",
    "import eraser_reference as err\n",
    "import er_plot_functions as er\n",
    "from plotting import Fig, pretty_plot, FigMirror\n",
    "import placefield_stability as pfs\n",
    "import Placefields as pf\n",
    "import discrimination as discr\n",
    "import ca_traces as trc\n",
    "import cell_tracking as ct\n",
    "import er_plot_functions as erp\n",
    "from helpers import flatten"
   ]
  },
  {
   "cell_type": "markdown",
   "id": "5fc31d14",
   "metadata": {},
   "source": [
    "Set up main figure for plotting"
   ]
  },
  {
   "cell_type": "markdown",
   "id": "4af7c070",
   "metadata": {},
   "source": [
    "## NRK todo:\n",
    "0) Match axes for overlap plots\n",
    "1) Fix color in plots below for overlap. Black and green?\n",
    "2) remove axes on plots below\n",
    "3) Add in ANI place field plots"
   ]
  },
  {
   "cell_type": "code",
   "execution_count": null,
   "id": "a0677045",
   "metadata": {
    "scrolled": false
   },
   "outputs": [],
   "source": [
    "# Set up main figure plotting\n",
    "%matplotlib ipympl\n",
    "Fig2 = Fig(num=2, grid=(4, 4), size=(8.5, 6.5), fontsize=6)\n",
    "print(Fig2.fig.get_size_inches())"
   ]
  },
  {
   "cell_type": "code",
   "execution_count": null,
   "id": "0a5088cc",
   "metadata": {
    "scrolled": false
   },
   "outputs": [],
   "source": [
    "# Set up stats figure\n",
    "Fig2stats = Fig(num=\"Figure 2 stats\", grid=(4, 4), size=(8.5, 6.5), fontsize=6)\n",
    "print(Fig2.fig.get_size_inches())\n",
    "Fig2comb = FigMirror(Fig2, Fig2stats)"
   ]
  },
  {
   "cell_type": "code",
   "execution_count": null,
   "id": "95914f10",
   "metadata": {},
   "outputs": [],
   "source": [
    "# Set up supplemental fig + stats\n",
    "FigS4 = Fig(num=\"Figure S4\", grid=(4, 4), size=(8.5, 6.5), fontsize=6)\n",
    "print(FigS4.fig.get_size_inches())"
   ]
  },
  {
   "cell_type": "code",
   "execution_count": null,
   "id": "e8ac0bb4",
   "metadata": {},
   "outputs": [],
   "source": [
    "FigS4stats = Fig(num=\"Figure S4 stats\", grid=(4, 4), size=(8.5, 6.5), fontsize=6)\n",
    "print(FigS4stats.fig.get_size_inches())\n",
    "FigS4comb = FigMirror(FigS4, FigS4stats)"
   ]
  },
  {
   "cell_type": "markdown",
   "id": "8c201639",
   "metadata": {},
   "source": [
    "Plots #3/4: Cell turnover across days"
   ]
  },
  {
   "cell_type": "code",
   "execution_count": null,
   "id": "f429586e",
   "metadata": {
    "scrolled": true
   },
   "outputs": [],
   "source": [
    "# Test code for reshaping - want 1st index from 3rd dim folded into 2nd, e.g. combine shock v shock and open v open\n",
    "# Not currently used, but could be useful if we need to add in \"open\" v \"open\" overlaps at some later point, no\n",
    "# currently included, only \"shock\" v \"shock\"\n",
    "a = np.array([[[1, 2, 3], [4, 5, 6], [7, 8, 9]], [[1, 2, 3], [4, 5, 6], [7, 8, 9]]])\n",
    "a[:, :, 1] = a[:, :, 1]*10\n",
    "print(a)\n",
    "# So 1, 4, 7, and 20, 50, 80 are same arena, 3, 6, 9 are different\n",
    "b = np.append(a, np.nan*np.ones_like(a[:, :, 2, None]), axis=2)\n",
    "c = b.reshape((int(b.shape[0]*2), b.shape[1], int(b.shape[2]/2)), order='F')\n",
    "print('3rd dim index = 0 after reshaping - should be 1, 4, 7, 20, 50, 80')\n",
    "print(c[:, :, 0])\n",
    "print('3rd dim index = 1 after reshaping - should be 3, 6, 9, and nan')\n",
    "print(c[:, :, 1])\n",
    "# Ok, so this works - things are grouped appropriately"
   ]
  },
  {
   "cell_type": "code",
   "execution_count": null,
   "id": "727ed340",
   "metadata": {
    "scrolled": false
   },
   "outputs": [],
   "source": [
    "plot_ind = False\n",
    "\n",
    "axolap_ctrl = Fig2.subplot(441)\n",
    "axolap_ani = Fig2.subplot(442)\n",
    "\n",
    "oratioboth_comb = []\n",
    "base_day = -2\n",
    "for ax, mice, group_title in zip([axolap_ctrl, axolap_ani], [err.control_mice_good, err.ani_mice_good], \n",
    "                                 [\"Control\", \"Anisomycin\"]):\n",
    "    # days = [-1, 0, 4, 1, 2]  # use this to look at change from day 0 to 4hr sesh (good in control arena only)\n",
    "    days = [-1, 4, 1, 2, 7]  # legit way - use to look at change across all days with 10 min sessions\n",
    "    arenas = [[\"Shock\", \"Shock\"], [\"Shock\", \"Open\"]]\n",
    "    oratio1 = np.ones((len(mice), len(days), len(arenas)))*np.nan\n",
    "    oratio2 = np.ones((len(mice), len(days), len(arenas)))*np.nan\n",
    "    oratioboth = np.ones((len(mice), len(days), len(arenas)))*np.nan\n",
    "    oratiomin = np.ones((len(mice), len(days), len(arenas)))*np.nan\n",
    "    oratiomax = np.ones((len(mice), len(days), len(arenas)))*np.nan\n",
    "\n",
    "    # Get overlapping cell ratios for each day/arena using Shock day -2 as a reference\n",
    "    pathname = err.pathname  # Get plotting folder\n",
    "    for idm, mouse in enumerate(mice):\n",
    "        for idd, day in enumerate(days):\n",
    "            for ida, arena_pair in enumerate(arenas):\n",
    "                try:\n",
    "                    _, _, oratioboth[idm, idd, ida], oratiomin[idm, idd, ida], oratiomax[idm, idd, ida] = \\\n",
    "                        pfs.get_overlap(mouse, arena_pair[0], base_day, arena_pair[1], day)\n",
    "                except TypeError:\n",
    "                    print('Missing reg file for ' + mouse + ' Day ' + str(day) + ' ' + arena)\n",
    "\n",
    "        if plot_ind:\n",
    "            fig, ax, hline = er.plot_overlaps(oratio1[idm, :, :], days=days)\n",
    "            fig.savefig(os.path.join(pathname, 'Cell Overlap ' + group_title + '-' + mouse + '.pdf'))\n",
    "            plt.close(fig)\n",
    "    \n",
    "    _, _ = er.plot_overlaps(oratioboth, days=days, jitter=[-0.05, 0.05], colors = ['b', 'r'], \n",
    "                              arenas=['Shock v Shock', 'Shock v Neutral'], ax=ax, markersize=2.0)\n",
    "    ax.set_title(group_title)\n",
    "    ax.set_ylabel('Overlap Ratio')\n",
    "\n",
    "    oratioboth_comb.append(oratioboth)  # Create list with both groups data in it."
   ]
  },
  {
   "cell_type": "markdown",
   "id": "7f44f7b7",
   "metadata": {},
   "source": [
    "Per KD analysis suggestion make the above plot but use 4 hour session as baseline."
   ]
  },
  {
   "cell_type": "code",
   "execution_count": 21,
   "id": "80c14f53",
   "metadata": {},
   "outputs": [
    {
     "data": {
      "text/plain": [
       "[-2, 4, 1, 2, 7]"
      ]
     },
     "execution_count": 21,
     "metadata": {},
     "output_type": "execute_result"
    }
   ],
   "source": []
  },
  {
   "cell_type": "code",
   "execution_count": 22,
   "id": "641b62f1",
   "metadata": {},
   "outputs": [
    {
     "data": {
      "image/png": "[encoded data removed]",
      "text/plain": [
       "<Figure size 432x216 with 2 Axes>"
      ]
     },
     "metadata": {
      "needs_background": "light"
     },
     "output_type": "display_data"
    }
   ],
   "source": [
    "plot_ind = False\n",
    "\n",
    "fig4, ax4 = plt.subplots(1, 2, figsize=(6, 3), sharey=True)\n",
    "axolap4_ctrl = ax4[0]\n",
    "axolap4_ani = ax4[1]\n",
    "\n",
    "oratioboth_comb = []\n",
    "base_day = -1\n",
    "# days = [-1, 0, 4, 1, 2]  # use this to look at change from day 0 to 4hr sesh (good in control arena only)\n",
    "days = [-2, -1, 4, 1, 2, 7]  # legit way - use to look at change across all days with 10 min sessions\n",
    "for ax, mice, group_title in zip([axolap4_ctrl, axolap4_ani], [err.control_mice_good, err.ani_mice_good], \n",
    "                                 [\"Control\", \"Anisomycin\"]):\n",
    "    days_use = [day for day in days if day != base_day]\n",
    "    arenas = [[\"Shock\", \"Shock\"], [\"Shock\", \"Open\"]]\n",
    "    oratio1 = np.ones((len(mice), len(days), len(arenas)))*np.nan\n",
    "    oratio2 = np.ones((len(mice), len(days), len(arenas)))*np.nan\n",
    "    oratioboth = np.ones((len(mice), len(days), len(arenas)))*np.nan\n",
    "    oratiomin = np.ones((len(mice), len(days), len(arenas)))*np.nan\n",
    "    oratiomax = np.ones((len(mice), len(days), len(arenas)))*np.nan\n",
    "\n",
    "    # Get overlapping cell ratios for each day/arena using Shock day -2 as a reference\n",
    "    pathname = err.pathname  # Get plotting folder\n",
    "    for idm, mouse in enumerate(mice):\n",
    "        for idd, day in enumerate(days_use):\n",
    "            for ida, arena_pair in enumerate(arenas):\n",
    "                try:\n",
    "                    _, _, oratioboth[idm, idd, ida], oratiomin[idm, idd, ida], oratiomax[idm, idd, ida] = \\\n",
    "                        pfs.get_overlap(mouse, arena_pair[0], base_day, arena_pair[1], day)\n",
    "                except TypeError:\n",
    "                    print('Missing reg file for ' + mouse + ' Day ' + str(day) + ' ' + arena)\n",
    "\n",
    "        if plot_ind:\n",
    "            fig, ax, hline = er.plot_overlaps(oratio1[idm, :, :], days=days)\n",
    "            fig.savefig(os.path.join(pathname, 'Cell Overlap ' + group_title + '-' + mouse + '.pdf'))\n",
    "            plt.close(fig)\n",
    "    \n",
    "    _, _ = er.plot_overlaps(oratioboth, days=days, jitter=[-0.05, 0.05], colors = ['b', 'r'], \n",
    "                              arenas=['Shock v Shock', 'Shock v Neutral'], ax=ax, markersize=2.0)\n",
    "    ax.set_title(group_title)\n",
    "    ax.set_ylabel('Overlap Ratio')\n",
    "\n",
    "    oratioboth_comb.append(oratioboth)  # Create list with both groups data in it."
   ]
  },
  {
   "cell_type": "markdown",
   "id": "cf18fa52",
   "metadata": {},
   "source": [
    "Now quantify accelerated change and then slower change (measured by cell overlap) due to ANI administration"
   ]
  },
  {
   "cell_type": "code",
   "execution_count": null,
   "id": "7e19dc67",
   "metadata": {},
   "outputs": [],
   "source": [
    "# Dump data into dataframe for easy plotting in seaborn afterward...\n",
    "day_pairs = ['-1_4', '4_1', '1_2', '2_7']\n",
    "grp_list, dolap_list, day_list = [], [], []\n",
    "for idg, grp in enumerate(['Ctrl', 'ANI']):\n",
    "    oratio_use = oratioboth_comb[idg]\n",
    "    for idd, day_pair in enumerate(day_pairs):\n",
    "        dolap = oratio_use[:, idd, :].reshape(-1) - oratio_use[:, idd + 1, :].reshape(-1)\n",
    "        dolap_list.extend(dolap)\n",
    "        grp_list.extend(len(dolap)*[grp])\n",
    "        day_list.extend(len(dolap)*[day_pair])\n",
    "\n",
    "dolap_df = pd.DataFrame({'day_pair': day_list, 'dolap': dolap_list, 'Group': grp_list})"
   ]
  },
  {
   "cell_type": "code",
   "execution_count": null,
   "id": "cb1e832c",
   "metadata": {},
   "outputs": [],
   "source": [
    "axolap_bw, axolap_bw_stats = Fig2comb.subplot(443)\n",
    "\n",
    "# Adjust pallete to match color scheme in other plots\n",
    "pal_use = sns.color_palette(palette='Set2', as_cmap=False)  \n",
    "pal_use.pop(0)\n",
    "hdolap = sns.stripplot(data=dolap_df, x='day_pair', y='dolap', hue='Group', dodge=True, palette=pal_use, ax=axolap_bw, size=3)\n",
    "# Fix legend markers\n",
    "for h1 in hdolap.legend().legendHandles:\n",
    "    h1._sizes = [3]\n",
    "axolap_bw.set_ylabel(r'$\\Delta_{overlap}$')\n",
    "axolap_bw.set_xticklabels([' to '.join(day_pair.split('_')) for day_pair in day_pairs])\n",
    "axolap_bw.set_xlabel('Day Pair')"
   ]
  },
  {
   "cell_type": "code",
   "execution_count": null,
   "id": "380066a5",
   "metadata": {},
   "outputs": [],
   "source": [
    "ytext = 0.7\n",
    "axolap_bw_stats.text(0.1, 0.8, r'Delta overlap bw groups stats}')\n",
    "for day_pair in set(dolap_df['day_pair']):\n",
    "    ctrl = dolap_df[(dolap_df['Group'] == 'Ctrl') & (dolap_df['day_pair'] == day_pair)]['dolap']\n",
    "    ani = dolap_df[(dolap_df['Group'] == 'ANI') & (dolap_df['day_pair'] == day_pair)]['dolap']\n",
    "    tstat, pval = sstats.ttest_ind(ctrl, ani, nan_policy='omit')\n",
    "    print(f'day pair {day_pair}: pval={pval:0.3g} with tstat={tstat:0.3g}')\n",
    "    axolap_bw_stats.text(0.1, ytext, f'day pair {day_pair}: pval={pval:0.3g} with tstat={tstat:0.3g}')\n",
    "    ytext -= 0.1"
   ]
  },
  {
   "cell_type": "markdown",
   "id": "37db3cd0",
   "metadata": {},
   "source": [
    "### Plot Number of Neurons active for each session"
   ]
  },
  {
   "cell_type": "code",
   "execution_count": null,
   "id": "9c7ec14c",
   "metadata": {},
   "outputs": [],
   "source": [
    "# Aggregate #neurons\n",
    "\n",
    "days = [-2, -1, 4, 1, 2, 7]\n",
    "\n",
    "arenas = ['Shock', 'Open']\n",
    "nneurons_comb = []\n",
    "for mice in [err.control_mice_good, err.ani_mice_good]:\n",
    "\n",
    "    # # Get overlapping cell ratios for each day/arena using Shock day -2 as a reference\n",
    "    nneurons = ct.get_group_num_neurons(mice, days=days, arenas=arenas)\n",
    "    nanimals = nneurons.shape[0]\n",
    "    nneurons_comb.append(nneurons.reshape(int(2*nanimals), 1, len(days)))  # Combine both areas for each mouse\n",
    "\n",
    "# Now plot - Total #s (un-normalized) plotted in supplemental\n",
    "ax_nn_comb, ax_nn_comb_stats = Fig2comb.subplot(444)\n",
    "# _, ax_nn_comb = plt.subplots()\n",
    "pal_use = sns.color_palette(palette='Set2', as_cmap=False)  \n",
    "pal_use.pop(0)\n",
    "for nn, color, jitter in zip(nneurons_comb, pal_use[0:2], (-0.075, 0.075)):\n",
    "    ct.plot_num_neurons(nn, arena1='Combined', arena2=None, normalize='-2', colors=[color], jitter=jitter,\n",
    "                        markersize=2.0, ax=ax_nn_comb)"
   ]
  },
  {
   "cell_type": "code",
   "execution_count": null,
   "id": "4051ea81",
   "metadata": {},
   "outputs": [],
   "source": [
    "nneurons_norm = [ct.norm_num_neurons(nn, 0) for nn in nneurons_comb]\n",
    "ax_nn_comb_stats.text(0.1, 0.8, 'Between group norm. # neurons stats')\n",
    "ytext = 0.7\n",
    "for idd, day in enumerate(days):\n",
    "    # Separate data points for each arena\n",
    "    n_ctrl = nneurons_norm[0][:, :, idd].reshape(-1)\n",
    "    n_ani = nneurons_norm[1][:, :, idd].reshape(-1)\n",
    "    tstat, pval = sstats.ttest_ind(n_ctrl, n_ani)\n",
    "    print(f'Session {day}: pval={pval:0.3g}, tstat={tstat:0.3g}')\n",
    "    ax_nn_comb_stats.text(0.1, ytext, f'Session {day}: pval={pval:0.3g}, tstat={tstat:0.3g}')\n",
    "    ytext -= 0.1\n",
    "    "
   ]
  },
  {
   "cell_type": "markdown",
   "id": "a414503e",
   "metadata": {},
   "source": [
    "Plot #6: Plot of off cells by quartile - plotted separately by Dan Orlin in MATLAB"
   ]
  },
  {
   "cell_type": "code",
   "execution_count": null,
   "id": "3d673e4b",
   "metadata": {},
   "outputs": [],
   "source": [
    "# Put in placeholder\n",
    "ax_onoff = Fig2comb.subplot(445)\n",
    "ax_onoff[0].text(0.1, 0.5, 'Placeholder for DO on/off by quartile plot')"
   ]
  },
  {
   "cell_type": "markdown",
   "id": "b5b1c227",
   "metadata": {},
   "source": [
    "Plot #6a (Supplemental 1): Example max projections showing washout in ANI recordings - include with more raw data from other animals."
   ]
  },
  {
   "cell_type": "markdown",
   "id": "87378ee5",
   "metadata": {},
   "source": [
    "Plot #7: Example place-fields across sessions  \n",
    "\n",
    "Marble07, Shock Day -2 to Day -1 gives neuron #27 has a good example neuron. Grab a few others maybe? Example of remapping neuron?"
   ]
  },
  {
   "cell_type": "code",
   "execution_count": null,
   "id": "2ebae6d9",
   "metadata": {},
   "outputs": [],
   "source": [
    "gs_pf_subfig = Fig2.subplot2grid(subplot_spec=Fig2.gs[2,0], grid=(2,2))\n",
    "axp = []\n",
    "for i in range(2):\n",
    "    for j in range(2):\n",
    "        axp.append(Fig2.fig.add_subplot(gs_pf_subfig[i, j]))\n",
    "axp = np.array(axp).reshape(2,2)\n",
    "PFS1 = pfs.PFCombineObject('Marble07', 'Shock', -2, 'Shock', -1)\n",
    "nneuron = 27\n",
    "PFS1.pfplot(nneuron, ax=axp, linewidth=0.5, markersize=1.0)"
   ]
  },
  {
   "cell_type": "code",
   "execution_count": null,
   "id": "c6cb7adc",
   "metadata": {},
   "outputs": [],
   "source": [
    "Fig2.fig"
   ]
  },
  {
   "cell_type": "code",
   "execution_count": null,
   "id": "4970a309",
   "metadata": {},
   "outputs": [],
   "source": [
    "gs_pf_subfig2 = Fig2.subplot2grid(subplot_spec=Fig2.gs[1,0], grid=(2,2))\n",
    "axp2 = []\n",
    "for i in range(2):\n",
    "    for j in range(2):\n",
    "        axp2.append(Fig2.fig.add_subplot(gs_pf_subfig2[i, j]))\n",
    "axp2 = np.array(axp2).reshape(2,2)\n",
    "PFS1 = pfs.PFCombineObject('Marble07', 'Shock', -2, 'Shock', 1)\n",
    "nneuron = 64\n",
    "PFS1.pfplot(nneuron, ax=axp2, linewidth=0.5, markersize=1.0)"
   ]
  },
  {
   "cell_type": "markdown",
   "id": "ebfae614",
   "metadata": {},
   "source": [
    "Plot #7a (Supplemental 2): Example place fields from Learner, Non-Learner, and ANI. Plot by quartile - two from each maybe?"
   ]
  },
  {
   "cell_type": "markdown",
   "id": "593ddc81",
   "metadata": {},
   "source": [
    "Plots #8: Placefield stability and reorganization across days - ANI reduces shock-induced PF remapping and also stifles extinction-related remapping.  "
   ]
  },
  {
   "cell_type": "code",
   "execution_count": null,
   "id": "f8e3c8eb",
   "metadata": {},
   "outputs": [],
   "source": [
    "# Scatterplot for each group independently\n",
    "group_desig = 2  # 1 = include days 1,2, AND 7 in after shock group, 2 = include days 1 and 2 only\n",
    "\n",
    "figc, axc = plt.subplots(1,2)\n",
    "figc.set_size_inches((8.5, 3.5))\n",
    "for arena, a in zip(['Shock', 'Open'], axc):\n",
    "    _, cont_corr_sm_mean_all, _, _ = pfs.get_group_pf_corrs(err.nonlearners, arena, arena, days, \n",
    "                                                            batch_map_use=True, print_to_screen=False)\n",
    "    _, ani_corr_sm_mean_all, _, _ = pfs.get_group_pf_corrs(err.ani_mice_good, arena, arena, days, \n",
    "                                                           batch_map_use=True, print_to_screen=False)\n",
    "\n",
    "    # Combined scatterplot\n",
    "    pfs.plot_pfcorr_bygroup(cont_corr_sm_mean_all, arena, arena, '', ax_use=a,\n",
    "                            color='k', offset=-0.1, save_fig=False, group_desig=group_desig)\n",
    "    pfs.plot_pfcorr_bygroup(ani_corr_sm_mean_all, arena, arena, 'Combined (green=Ani)',\n",
    "                        color='g', offset=0.1, ax_use=a, group_desig=group_desig, best_rot=False)"
   ]
  },
  {
   "cell_type": "code",
   "execution_count": null,
   "id": "c3e299c7",
   "metadata": {
    "scrolled": false
   },
   "outputs": [],
   "source": [
    "def assemble_mean_corrs_all(corr_type: str in ['PF', 'PV1dboth', 'PV1all'], best_rot: bool, group_desig: int in [1, 2],\n",
    "                       plot=False, nshuf=0):\n",
    "    \"\"\"Assemble pre-run MEAN place-field or MEAN population-vector correlations.\n",
    "    :param corr_type: 2d PFs, 1d pv including only cells active in both sessions or all sessions\n",
    "    :param best_rot: only applies to 2d PFs. True = rotate map to best rotation\n",
    "    :param group_desig: 1 = include day 7 in \"After\" comparisons, 2 = only include days 1-2 (before more extinction happens)\n",
    "    \"\"\"\n",
    "    # Need to run this to set up plots - I'm sure there is a better way...one option is to write code to assemble\n",
    "    # these values for each day-pair independently...\n",
    "    amice = err.ani_mice_good\n",
    "    lmice = err.learners\n",
    "    nlmice = err.nonlearners\n",
    "    days = [-2, -1, 4, 1, 2, 7]\n",
    "\n",
    "    learn_bestcorr_mean_all = []\n",
    "    nlearn_bestcorr_mean_all = []\n",
    "    ani_bestcorr_mean_all = []\n",
    "    \n",
    "    l_shuf_all, nl_shuf_all, ani_shuf_all = [], [], []\n",
    "\n",
    "    if plot:\n",
    "        figc, axc = plt.subplots(1,2)\n",
    "        figc.set_size_inches((8.5, 3.5))\n",
    "        \n",
    "    for ida, arena in enumerate(['Open', 'Shock']):\n",
    "        arena1 = arena\n",
    "        arena2 = arena\n",
    "        if corr_type == 'PF':\n",
    "            _, templ, _, templ_shuf = pfs.get_group_pf_corrs(lmice, arena1, arena2, days, best_rot=best_rot, \n",
    "                                                             print_to_screen=False, nshuf=nshuf)\n",
    "            _, tempnl, _, tempnl_shuf = pfs.get_group_pf_corrs(nlmice, arena1, arena2, days, best_rot=best_rot, \n",
    "                                                               print_to_screen=False, nshuf=nshuf)\n",
    "            _, tempa, _, tempa_shuf = pfs.get_group_pf_corrs(amice, arena1, arena2, days, best_rot=best_rot, \n",
    "                                                             print_to_screen=False, nshuf=nshuf)\n",
    "            prefix = 'PFcorrs'\n",
    "        elif corr_type == 'PV1dboth':\n",
    "            _, templ, _, templ_shuf = pfs.get_group_PV1d_corrs(lmice, arena1, arena2, days, alert_on_load_previous=False,\n",
    "                                                               nshuf=nshuf)\n",
    "            _, tempnl, _, tempnl_shuf = pfs.get_group_PV1d_corrs(nlmice, arena1, arena2, days, alert_on_load_previous=False,\n",
    "                                                                 nshuf=nshuf)\n",
    "            _, tempa, _, tempa_shuf = pfs.get_group_PV1d_corrs(amice, arena1, arena2, days, alert_on_load_previous=False, \n",
    "                                                               nshuf=nshuf)\n",
    "            prefix = 'PV1dcorrs_both'\n",
    "        elif corr_type == 'PV1dall':\n",
    "            templ, _, templ_shuf, _ = pfs.get_group_PV1d_corrs(lmice, arena1, arena2, days, alert_on_load_previous=False, \n",
    "                                                               nshuf=nshuf)\n",
    "            tempnl, _, tempnl_shuf, _ = pfs.get_group_PV1d_corrs(nlmice, arena1, arena2, days, alert_on_load_previous=False, \n",
    "                                                                 nshuf=nshuf)\n",
    "            tempa, _, tempa_shuf, _ = pfs.get_group_PV1d_corrs(amice, arena1, arena2, days, alert_on_load_previous=False, \n",
    "                                                               nshuf=nshuf)\n",
    "            prefix = 'PV1dcorrs_all'\n",
    "\n",
    "        learn_bestcorr_mean_all.append(templ)\n",
    "        nlearn_bestcorr_mean_all.append(tempnl)\n",
    "        ani_bestcorr_mean_all.append(tempa)\n",
    "        \n",
    "        l_shuf_all.append(templ_shuf)\n",
    "        nl_shuf_all.append(tempnl_shuf)\n",
    "        ani_shuf_all.append(tempa_shuf)\n",
    "\n",
    "        #  Combined scatterplots\n",
    "        if plot:\n",
    "            pfs.plot_pfcorr_bygroup(learn_bestcorr_mean_all[ida], arena1, arena2, '', prefix=prefix, ax_use=axc[ida],\n",
    "                                                color='k', offset=0, save_fig=False, group_desig=group_desig)\n",
    "            pfs.plot_pfcorr_bygroup(ani_bestcorr_mean_all[ida], arena1, arena2, '', prefix=prefix,\n",
    "                                    color='g', offset=0.1, ax_use=axc[ida], group_desig=group_desig, save_fig=False)\n",
    "            pfs.plot_pfcorr_bygroup(nlearn_bestcorr_mean_all[ida], arena1, arena2,\n",
    "                                    prefix + ' ' + arena1 + 'v' + arena2 + ' Combined (k=learn, b=n-learn, g=Ani) best_rot=' + \n",
    "                                    str(best_rot), prefix=prefix, color='b', offset=0.1, ax_use=axc[ida], \n",
    "                                    group_desig=group_desig, save_fig=True, best_rot=best_rot)\n",
    "        \n",
    "    if nshuf == 0:\n",
    "        return learn_bestcorr_mean_all, nlearn_bestcorr_mean_all, ani_bestcorr_mean_all\n",
    "    else:\n",
    "        return learn_bestcorr_mean_all, nlearn_bestcorr_mean_all, ani_bestcorr_mean_all, l_shuf_all, nl_shuf_all, ani_shuf_all\n",
    "\n",
    "# Now run it to get a plot of raw data and test things out\n",
    "\n",
    "a, b, c, d, e, f = assemble_mean_corrs_all(corr_type='PV1dboth', best_rot=True, group_desig=2, plot=True, nshuf=1000)"
   ]
  },
  {
   "cell_type": "code",
   "execution_count": null,
   "id": "d407af53",
   "metadata": {
    "scrolled": true
   },
   "outputs": [],
   "source": [
    "def mean_corrs_to_df(learn_bestcorr_mean_all, nlearn_bestcorr_mean_all, ani_bestcorr_mean_all, group_desig):\n",
    "    \"\"\"Dump output of above function into dataframe\"\"\"\n",
    "    # Assemble mean correlations\n",
    "    lgroups, group_labels = pfs.get_time_epochs(len(err.learners), group_desig)\n",
    "    agroups, _ = pfs.get_time_epochs(len(err.ani_mice_good), group_desig)\n",
    "    nlgroups, _ = pfs.get_time_epochs(len(err.nonlearners), group_desig)\n",
    "    corrs_all, grp_all, arena_all, comp_type, subject_id = [], [], [], [], []\n",
    "    for idg, (group, grp_label) in enumerate(zip(np.unique(lgroups[~np.isnan(lgroups)]).tolist(), group_labels)):\n",
    "        open_corrs1 = learn_bestcorr_mean_all[0][lgroups == group]\n",
    "        shock_corrs1 = learn_bestcorr_mean_all[1][lgroups == group]\n",
    "        open_corrs2 = ani_bestcorr_mean_all[0][agroups == group]\n",
    "        shock_corrs2 = ani_bestcorr_mean_all[1][agroups == group]\n",
    "        open_corrs3 = nlearn_bestcorr_mean_all[0][nlgroups == group]\n",
    "        shock_corrs3 = nlearn_bestcorr_mean_all[1][nlgroups == group]\n",
    "\n",
    "        # Assemble data-frame!!!\n",
    "        sid_prefix = 0\n",
    "        for open_corr, shock_corr, grp in zip([open_corrs1, open_corrs2, open_corrs3], \n",
    "                                              [shock_corrs1, shock_corrs2, shock_corrs3], \n",
    "                                              ['Learners', 'ANI', 'Non-Learners']):\n",
    "            corrs_all.extend(open_corr)\n",
    "            grp_all.extend([grp]*len(open_corr))\n",
    "            arena_all.extend(['Neutral']*len(open_corr))\n",
    "\n",
    "            corrs_all.extend(shock_corr)\n",
    "            grp_all.extend([grp]*len(shock_corr))\n",
    "            arena_all.extend(['Shock']*len(shock_corr))\n",
    "\n",
    "            comp_type.extend([grp_label]*(len(shock_corr) + len(open_corr)))\n",
    "\n",
    "            if len(open_corr) != len(shock_corr):\n",
    "                print('Mismatch in group ' + grp + ' ' + grp_label)\n",
    "            elif len(open_corr) == len(shock_corr):\n",
    "                subject_id.extend(np.arange(len(open_corr)) + sid_prefix)  # Label for open field corrs\n",
    "                subject_id.extend(np.arange(len(open_corr)) + sid_prefix)  # Label for shock arena corrs\n",
    "                sid_prefix += 100\n",
    "\n",
    "    corr_df = pd.DataFrame({'corr': corrs_all, 'arena': arena_all, 'group': grp_all, 'comp_type': comp_type, \n",
    "                           'subject': subject_id})\n",
    "    \n",
    "    return corr_df"
   ]
  },
  {
   "cell_type": "markdown",
   "id": "d266117c",
   "metadata": {},
   "source": [
    "Functions for plotting group-wise comparison scatter/box plots here"
   ]
  },
  {
   "cell_type": "code",
   "execution_count": null,
   "id": "4de9b2cc",
   "metadata": {},
   "outputs": [],
   "source": [
    "def pfplot_compare2(corr_df, comp_plot, ax, alpha=0.5, within_first=False, ax_lims=[0, 0.6], dotsize=3,\n",
    "                   anova_type: str in ['normal', 'mixed'] = 'mixed', legend_keep=False, **kwargs):\n",
    "    \"\"\"Plotting function to overlay pf correlation stripplot with boxplot.\n",
    "    **kwargs send to plt.text()\"\"\"\n",
    "    boxprops = dict(alpha=alpha)\n",
    "    \n",
    "    # Plot data and label\n",
    "    sns.stripplot(data=corr_df[corr_df['comp_type'] == comp_plot], palette='Set2', x='arena', y='corr', hue='group', \n",
    "                  dodge=True, hue_order=['Learners', 'Non-Learners', 'ANI'], size=dotsize, ax=ax[0])\n",
    "    sns.boxplot(data=corr_df[corr_df['comp_type'] == comp_plot], palette='Set2', x='arena', y='corr', hue='group', \n",
    "                  dodge=True, hue_order=['Learners', 'Non-Learners', 'ANI'], ax=ax[0], boxprops=boxprops)\n",
    "    if not legend_keep:\n",
    "        ax[0].get_legend().remove()\n",
    "    ax[0].set_ylim(ax_lims)\n",
    "    ax[0].set_xlabel('Arena')\n",
    "    ax[0].set_ylabel('Mean PF Corr.')\n",
    "    ax[0].set_title(comp_plot)\n",
    "    \n",
    "    # Now run stats: 2-way or mixed anova and post-hoc test\n",
    "    aov = pg.anova(data=corr_df[corr_df['comp_type'] == comp_plot], dv='corr', between=['arena', 'group']).round(5)\n",
    "    maov = pg.mixed_anova(data=corr_df[corr_df['comp_type'] == comp_plot], dv='corr', \n",
    "                          within='arena', between='group', subject='subject').round(3)\n",
    "    if anova_type == 'normal':\n",
    "        ax[1].text(0.05, 0.8, aov.to_string(index=False), **kwargs)\n",
    "    elif anova_type == 'mixed':\n",
    "        ax[1].text(0.05, 0.8, maov.to_string(index=False), **kwargs)  \n",
    "            \n",
    "    pw = pg.pairwise_tests(data=corr_df[corr_df['comp_type'] == comp_plot], dv='corr', within_first=within_first,\n",
    "                          within='arena', between='group', subject='subject', padjust='bonf').round(3)\n",
    "    pwtrim = pw.drop(['Contrast', 'Paired', 'Parametric', 'dof', 'alternative', 'p-adjust', 'BF10', 'hedges'], axis=1)\n",
    "    ax[1].text(0.05, 0.05, pwtrim.to_string(index=False), **kwargs)"
   ]
  },
  {
   "cell_type": "code",
   "execution_count": null,
   "id": "0a1b1604",
   "metadata": {},
   "outputs": [],
   "source": [
    "def get_CI_mean(group, arena, comparison, group_desig):\n",
    "    \"\"\"Gets mean CIs for 2d PF correlations only\"\"\"\n",
    "    # Get shuffled mean correlations\n",
    "    shuf_CI_all = []\n",
    "    for mouse in group:\n",
    "        shuf_CI_temp = pfs.get_all_CIshuf(mouse, arena, arena, print_to_screen=False)\n",
    "        shuf_CI_all.append(shuf_CI_temp)\n",
    "    shuf_CI_all = np.stack(shuf_CI_all, axis=0)\n",
    "\n",
    "    # Grab appropriate session-pair(s)\n",
    "    nmice = len(group)\n",
    "    group_mat, group_labels = pfs.get_time_epochs(nmice, group_desig)\n",
    "    comp_id = np.where([label == comparison for label in group_labels])[0] + 1\n",
    "    keep_bool = group_mat[0] == comp_id\n",
    "\n",
    "    comp_shuf_CI = shuf_CI_all[:, :, keep_bool].squeeze()\n",
    "    \n",
    "    return comp_shuf_CI"
   ]
  },
  {
   "cell_type": "code",
   "execution_count": null,
   "id": "e4b626cd",
   "metadata": {},
   "outputs": [],
   "source": [
    "def add_shuf_CI(ax, comparison, group_desig):\n",
    "    \"\"\"Add confidence intervals (95%) from shuffled data to plots for mean correlation value - for PF2d only\"\"\"\n",
    "    groups = [err.learners, err.ani_mice_good, err.nonlearners]\n",
    "    x_offset = np.array([-0.25, 0, 0.25]) # amount seaborn offets data with dodge=True\n",
    "    \n",
    "    for ida, arena in enumerate(['Neutral', 'Shock']):\n",
    "        # Get CIs\n",
    "        CI_comb = []\n",
    "        for group in groups:\n",
    "            comp_shuf_CI = get_CI_mean(group, 'Open' if arena == 'Neutral' else arena, \n",
    "                                       comparison, group_desig)  # Get shuffled CI for all mice in group\n",
    "            if comp_shuf_CI.ndim == 3:  # Reshape if more than one set of day-pairs in comparison\n",
    "                comp_shuf_CI = comp_shuf_CI.swapaxes(0,1).reshape(3,-1).T\n",
    "            CI_comb.append(np.nanmean(comp_shuf_CI, axis=0))  # Average it, add it into grou\n",
    "        CI_plot = np.stack(CI_comb)  # make into array\n",
    "        \n",
    "        # Add to plot\n",
    "        hl = ax.plot(x_offset + ida, CI_plot, linestyle='--', color=[0, 0, 0, 0.5])\n",
    "        hl[1].set_linestyle('-')"
   ]
  },
  {
   "cell_type": "code",
   "execution_count": null,
   "id": "a655a598",
   "metadata": {},
   "outputs": [],
   "source": [
    "def calc_PV1d_CI_from_mean_corrs(mean_shuf_corrs):\n",
    "    \"\"\"Calculates mean CI across all mice in a group. \n",
    "    Input = nmice x ndays x ndays x nshuffles arrray of mean shuffled values\"\"\"\n",
    "    mean_CI = np.array([np.insert(np.quantile(_, (0.025, 0.975), axis=2), 1, \n",
    "                                  np.mean(_, axis=2)[None, :, :], axis=0) for _ in mean_shuf_corrs]).mean(axis=0)\n",
    "    return mean_CI"
   ]
  },
  {
   "cell_type": "code",
   "execution_count": null,
   "id": "be90d8bc",
   "metadata": {},
   "outputs": [],
   "source": [
    "def add_PV1shuf_CI(ax, learn_shuf_all, nl_shuf_all, ani_shuf_all, comparison, group_desig):\n",
    "    \"\"\"Add shuffled CIs to PV1d plots\"\"\"\n",
    "    x_offset = np.array([-0.25, 0, 0.25])\n",
    "\n",
    "    # ID appropriate session-pair(s)\n",
    "    group_mat, group_labels = pfs.get_time_epochs(2, group_desig)\n",
    "    comp_id = np.where([label == comparison for label in group_labels])[0] + 1\n",
    "    keep_bool = group_mat[0] == comp_id\n",
    "\n",
    "    for ida, arena in enumerate(['Neutral', 'Shock']):\n",
    "        CI_comb = []\n",
    "        for shuf_corrs in [l_shuf_all[ida], nl_shuf_all[ida], ani_shuf_all[ida]]:  # Grab corrs for that arena only\n",
    "            mean_CI_shuf = calc_PV1d_CI_from_mean_corrs(shuf_corrs)\n",
    "            CI_comb.append(mean_CI_shuf[:, keep_bool])\n",
    "        CI_plot = np.array(CI_comb).squeeze()\n",
    "        if CI_plot.ndim == 3:  # Take mean again if more than 1 session-pair\n",
    "            CI_plot = CI_plot.mean(axis=2)\n",
    "        hl = ax.plot(x_offset + ida, CI_plot, linestyle='--', color=[0, 0, 0, 0.5])\n",
    "        hl[1].set_linestyle('-')\n",
    "\n",
    "# Test code - uncomment to check function working properly\n",
    "# _, ax = plt.subplots()\n",
    "# add_PV1shuf_CI(ax, l_shuf_all, nl_shuf_all, ani_shuf_all, 'Before v After(Days1-2)', 2)"
   ]
  },
  {
   "cell_type": "markdown",
   "id": "c316b094",
   "metadata": {},
   "source": [
    "### Finally plot PF corrs by mouse into Figure 2 and S4 here."
   ]
  },
  {
   "cell_type": "code",
   "execution_count": null,
   "id": "c6d1adcf",
   "metadata": {
    "scrolled": false
   },
   "outputs": [],
   "source": [
    "# Assemble dataframe\n",
    "learn_corr_all, nl_corr_all, ani_corr_all = assemble_mean_corrs_all(corr_type='PF', best_rot=True, \n",
    "                                                                    group_desig=group_desig, plot=False)\n",
    "corr_df = mean_corrs_to_df(learn_corr_all, nl_corr_all, ani_corr_all, group_desig=group_desig)\n",
    "\n",
    "# Set up plots for Fig2 and FigS4\n",
    "ax_bef_comb = Fig2comb.subplot([Fig2.gs[2, 1], Fig2stats.gs[2, 1]])\n",
    "ax_aft_comb = Fig2comb.subplot([Fig2.gs[2, 2], Fig2stats.gs[2, 2]])\n",
    "ax_ba_comb = Fig2comb.subplot([Fig2.gs[2, 3], Fig2stats.gs[2, 3]])\n",
    "ax_bstm_comb = FigS4comb.subplot(445)\n",
    "ax_stma_comb = FigS4comb.subplot(446)\n",
    "\n",
    "# Set up plotting params\n",
    "ax_lims = [-0.1, 0.6]\n",
    "anova_type = 'mixed'\n",
    "within_first = True\n",
    "\n",
    "# Now make the plots\n",
    "for a, comp_type in zip([ax_bef_comb, ax_aft_comb, ax_ba_comb, ax_bstm_comb, ax_stma_comb], \n",
    "                        corr_df['comp_type'].unique()):\n",
    "    legend_keep = True if comp_type in ['Before', 'Before v STM'] else False\n",
    "    pfplot_compare2(corr_df, comp_type, a, ax_lims=ax_lims, anova_type=anova_type, within_first=within_first,\n",
    "                   legend_keep=legend_keep, fontdict={\"size\": 3})\n",
    "    add_shuf_CI(a[0], comp_type, group_desig)"
   ]
  },
  {
   "cell_type": "markdown",
   "id": "ea46a12b",
   "metadata": {},
   "source": [
    "Plot #11: compare before to after to examine stability change due to shock"
   ]
  },
  {
   "cell_type": "markdown",
   "id": "0418e6bb",
   "metadata": {},
   "source": [
    "Plot #9-10: same thing but combining all mice - plot ecdfs at various time points to look at remapping."
   ]
  },
  {
   "cell_type": "code",
   "execution_count": null,
   "id": "2175b95f",
   "metadata": {},
   "outputs": [],
   "source": [
    "# Define axes to plot into\n",
    "\n",
    "# Main fig\n",
    "gs_corr_subfig = Fig2.subplot2grid(subplot_spec=Fig2.gs[1, 1], grid=(1,2))\n",
    "ax_all_bef_comb = [[Fig2.fig.add_subplot(gs) for gs in gs_corr_subfig], Fig2stats.subplot(446)]\n",
    "gs_corr_subfig = Fig2.subplot2grid(subplot_spec=Fig2.gs[1, 2], grid=(1,2))\n",
    "ax_all_aft_comb = [[Fig2.fig.add_subplot(gs) for gs in gs_corr_subfig], Fig2stats.subplot(447)]\n",
    "gs_corr_subfig = Fig2.subplot2grid(subplot_spec=Fig2.gs[1, 3], grid=(1,2))\n",
    "ax_all_ba_comb = [[Fig2.fig.add_subplot(gs) for gs in gs_corr_subfig], Fig2stats.subplot(448)]\n",
    "\n",
    "# Supplemental Fig\n",
    "gs_corr_subfig = FigS4.subplot2grid(subplot_spec=FigS4.gs[0, 0], grid=(1,2))\n",
    "ax_all_bstm_comb = [[FigS4.fig.add_subplot(gs) for gs in gs_corr_subfig], FigS4stats.subplot(441)]\n",
    "gs_corr_subfig = FigS4.subplot2grid(subplot_spec=FigS4.gs[0, 1], grid=(1,2))\n",
    "ax_all_stma_comb = [[FigS4.fig.add_subplot(gs) for gs in gs_corr_subfig], FigS4stats.subplot(442)]\n",
    "\n",
    "ax_allpf_comb = [ax_all_bef_comb, ax_all_aft_comb, ax_all_ba_comb, ax_all_bstm_comb, ax_all_stma_comb]"
   ]
  },
  {
   "cell_type": "code",
   "execution_count": null,
   "id": "d6ca766e",
   "metadata": {},
   "outputs": [],
   "source": [
    "Fig2inset = Fig(num=\"Figure 2 Inset\", grid=(2, 3), size=(6.5, 2*2 ), fontsize=6)\n",
    "Fig2inset_stats = Fig(num=\"Figure 2 Inset stats\", grid=(2, 3), size=(8.5, 2.5*3 ), fontsize=6)\n",
    "Fig2insetcomb = FigMirror(Fig2inset, Fig2inset_stats)\n",
    "\n",
    "# Main fig\n",
    "gs_corr_subfig = Fig2inset.subplot2grid(subplot_spec=Fig2inset.gs[0, 0], grid=(1,2))\n",
    "ax_all_bef_comb_i = [[Fig2inset.fig.add_subplot(gs) for gs in gs_corr_subfig], Fig2inset_stats.subplot(231)]\n",
    "gs_corr_subfig = Fig2inset.subplot2grid(subplot_spec=Fig2inset.gs[0, 1], grid=(1,2))\n",
    "ax_all_aft_comb_i = [[Fig2inset.fig.add_subplot(gs) for gs in gs_corr_subfig], Fig2inset_stats.subplot(232)]\n",
    "gs_corr_subfig = Fig2inset.subplot2grid(subplot_spec=Fig2inset.gs[0, 2], grid=(1,2))\n",
    "ax_all_ba_comb_i = [[Fig2inset.fig.add_subplot(gs) for gs in gs_corr_subfig], Fig2inset_stats.subplot(233)]\n",
    "\n",
    "gs_corr_subfig = Fig2inset.subplot2grid(subplot_spec=Fig2inset.gs[1, 0], grid=(1,2))\n",
    "ax_all_bstm_comb_i = [[Fig2inset.fig.add_subplot(gs) for gs in gs_corr_subfig], Fig2inset_stats.subplot(234)]\n",
    "gs_corr_subfig = Fig2inset.subplot2grid(subplot_spec=Fig2inset.gs[1, 1], grid=(1,2))\n",
    "ax_all_stma_comb_i = [[Fig2inset.fig.add_subplot(gs) for gs in gs_corr_subfig], Fig2inset_stats.subplot(235)]\n",
    "\n",
    "ax_allpf_comb_i = [ax_all_bef_comb_i, ax_all_aft_comb_i, ax_all_ba_comb_i, ax_all_bstm_comb_i, ax_all_stma_comb_i]"
   ]
  },
  {
   "cell_type": "code",
   "execution_count": null,
   "id": "bc0d8d67",
   "metadata": {},
   "outputs": [],
   "source": [
    "# Function here to add in stats to ecdf group\n",
    "def add_ks_stats_to_ecdf(group_corrs, ax_use, ytext_start=0.8, bonf_corr=3, **kwargs):\n",
    "    id1, id2 = [0, 0, 1], [1, 2, 2]\n",
    "    group_names = ['Learners', 'Non-Learners', 'ANI']\n",
    "    y = ytext_start\n",
    "    for i1, i2 in zip(id1, id2):\n",
    "        kstat, pval = sstats.ks_2samp(group_corrs[i1], group_corrs[i2])\n",
    "        ax_use.text(0.1, y, f'{group_names[i1]} v {group_names[i2]}: pval={pval*bonf_corr:0.3g}, kstat={kstat:0.3g}',\n",
    "                   **kwargs)\n",
    "        y -= 0.1"
   ]
  },
  {
   "cell_type": "code",
   "execution_count": null,
   "id": "16cf264c",
   "metadata": {
    "scrolled": false
   },
   "outputs": [],
   "source": [
    "# Assemble and plot ecdfs\n",
    "groups = [err.learners, err.nonlearners, err.ani_mice_good]\n",
    "group_names = ['Learners', 'Non-Learners', 'ANI']\n",
    "days = np.array([-2, -1, 4, 1, 2, 7])\n",
    "best_rot = True\n",
    "bonferroni_correction = 3 # multiply by this for bonferroni correction for multiple comparisons\n",
    "\n",
    "epochs, group_labels = pfs.get_time_epochs(2, group_desig=group_desig)\n",
    "\n",
    "rot_append = ': Best Rotation' if best_rot else ''\n",
    "all_corrs = []\n",
    "for ax, axin, comp in zip(ax_allpf_comb, ax_allpf_comb_i, group_labels):\n",
    "    ax[0][0].set_title(comp + rot_append)\n",
    "    comp_id = np.where([comp == group for group in group_labels])[0][0] + 1\n",
    "    arena_corrs = []\n",
    "    for ida, (a, ain, arena) in enumerate(zip(ax[0], axin[0], ['Open', 'Shock'])):\n",
    "\n",
    "        # Aggregate corrs for arena\n",
    "        days1, days2 = [days[id] for id in np.where(epochs[0] == comp_id)]\n",
    "        group_corrs = []\n",
    "        for group in groups:\n",
    "            mouse_corrs = []\n",
    "            for mouse in group:\n",
    "                for day1, day2 in zip(days1, days2):\n",
    "                    # Rotate pf maps to best rotation if specified\n",
    "                    if best_rot:\n",
    "                        _, rot_use, _ = pfs.get_best_rot(mouse, arena, int(day1), arena, int(day2), \n",
    "                                                         batch_map_use=True, print_to_screen=False)\n",
    "                        rot = rot_use[1]\n",
    "                    else:\n",
    "                        rot = 0\n",
    "                    _, corrs_sm = pfs.pf_corr_bw_sesh(mouse, arena, int(day1), arena, int(day2), batch_map_use=True,\n",
    "                                                     rot_deg=rot)\n",
    "                mouse_corrs.extend(corrs_sm)\n",
    "            group_corrs.append(mouse_corrs)\n",
    "\n",
    "        # Plot for arena\n",
    "        line_types = ['-', '--', ':']\n",
    "        for idc, corrs in enumerate(group_corrs):\n",
    "            sns.ecdfplot(data=corrs, ax=a, color=plt.get_cmap(\"Set2\").colors[idc], linewidth=0.5, \n",
    "                         linestyle=line_types[idc])\n",
    "\n",
    "        if arena == 'Open':\n",
    "            a.legend(a.lines, ['Learners', 'Non-Learners', 'ANI'])\n",
    "            arena_str = 'Neutral'\n",
    "        elif arena == 'Shock':\n",
    "            arena_str = 'Shock'\n",
    "        a.set_title(arena_str)\n",
    "        a.set_xlabel('PF corrs')\n",
    "        \n",
    "        # Stats\n",
    "        ax[1].text(0.1, 1.0, comp)\n",
    "        ystatloc = 0.9 if arena == 'Open' else 0.4\n",
    "#         print(str(ystatloc))\n",
    "        ax[1].text(0.1, ystatloc, f'{arena_str}: pvals w/bonf corr={bonferroni_correction}')\n",
    "        add_ks_stats_to_ecdf(group_corrs, ax[1], 0.8 - (0.4 * ida), bonf_corr=bonferroni_correction,\n",
    "                             fontdict={\"size\": 3})\n",
    "        arena_corrs.append(group_corrs)\n",
    "        \n",
    "        # Plot out inset bar plots\n",
    "        dfbar = pd.DataFrame({'Corrs': list(flatten(group_corrs)), \n",
    "                              'Group' : list(flatten([[group_name]*len(group_corr) for \n",
    "                                                      group_corr, group_name in zip(group_corrs, group_names)]))})\n",
    "        sns.barplot(data=dfbar, y='Corrs', x='Group', ax=ain, errwidth=1.0, palette='Set2')\n",
    "        ain.set_title(f'{arena_str}: {comp}')\n",
    "        astats = pg.anova(data=dfbar, dv='Corrs', between='Group')\n",
    "        axin[1].text(0.1, ystatloc + 0.1, f'{arena_str}: {comp}')\n",
    "        axin[1].text(0.1, ystatloc, str(astats))\n",
    "        tuk_stats = pg.pairwise_tukey(data=dfbar, dv='Corrs', between='Group')\n",
    "        axin[1].text(0.1, ystatloc-0.3, str(tuk_stats))\n",
    "        \n",
    "        \n",
    "    all_corrs.append(arena_corrs)\n"
   ]
  },
  {
   "cell_type": "code",
   "execution_count": null,
   "id": "ea21abb1",
   "metadata": {
    "scrolled": true
   },
   "outputs": [],
   "source": [
    "# Sanity check plots to make sure colors are being applied properly - uncomment if needed\n",
    "# _, ax2 = plt.subplots(1, 2)\n",
    "# for corrs in group_corrs:\n",
    "#     sns.ecdfplot(data=corrs, ax=ax2[1], palette='Set2', linewidth=0.5)\n",
    "\n",
    "# ax2[1].legend(ax2[1].lines, ['Learners', 'Non-Learners', 'ANI'])\n",
    "\n",
    "# sns.set_palette(\"Set2\")\n",
    "# sns.ecdfplot(data=group_corrs[0], ax=ax2[0], color=plt.get_cmap(\"Set2\").colors[0], linewidth=0.5)"
   ]
  },
  {
   "cell_type": "markdown",
   "id": "a37c2320",
   "metadata": {},
   "source": [
    "### Plot PV1d corrs (both) here"
   ]
  },
  {
   "cell_type": "code",
   "execution_count": null,
   "id": "6204fa7d",
   "metadata": {},
   "outputs": [],
   "source": [
    "# Test code for plotting out combined data means\n",
    "dfbar = pd.DataFrame({'Corrs': list(flatten(group_corrs)), \n",
    "                      'Group' : list(flatten([[group_name]*len(group_corr) for \n",
    "                                              group_corr, group_name in zip(group_corrs, group_names)]))})\n",
    "fig, ax = plt.subplots(figsize=(2.0, 2.5))\n",
    "sns.barplot(data=dfbar, y='Corrs', x='Group', ax=ax, errwidth=1.0, palette='Set2')\n",
    "astats = pg.anova(data=dfbar, dv='Corrs', between='Group')\n",
    "print(astats)\n",
    "tuk_stats = pg.pairwise_tukey(data=dfbar, dv='Corrs', between='Group')\n",
    "print(tuk_stats)"
   ]
  },
  {
   "cell_type": "code",
   "execution_count": null,
   "id": "56426efa",
   "metadata": {
    "scrolled": true
   },
   "outputs": [],
   "source": [
    "FigS4b = Fig(num=\"Figure S4b\", grid=(4, 4), size=(7.2, 5.3), fontsize=6)\n",
    "print(FigS4b.fig.get_size_inches())\n",
    "FigS4bstats = Fig(num=\"Figure S4bstats\", grid=(4, 4), size=(7.2, 5.3), fontsize=6)\n",
    "print(FigS4bstats.fig.get_size_inches())\n",
    "FigS4bcomb = FigMirror(FigS4b, FigS4bstats)"
   ]
  },
  {
   "cell_type": "code",
   "execution_count": null,
   "id": "62920043",
   "metadata": {},
   "outputs": [],
   "source": [
    "FigS4c = Fig(num=\"Figure S4c\", grid=(4, 4), size=(7.2, 5.3), fontsize=6)\n",
    "print(FigS4c.fig.get_size_inches())\n",
    "FigS4cstats = Fig(num=\"Figure S4cstats\", grid=(4, 4), size=(7.2, 5.3), fontsize=6)\n",
    "print(FigS4cstats.fig.get_size_inches())\n",
    "FigS4ccomb = FigMirror(FigS4c, FigS4cstats)"
   ]
  },
  {
   "cell_type": "code",
   "execution_count": null,
   "id": "d13148ba",
   "metadata": {
    "scrolled": true
   },
   "outputs": [],
   "source": [
    "for figcomb, corr_type, ax_lims in zip((FigS4bcomb, FigS4ccomb), ['PV1dboth', 'PV1dall'], ([-0.4, 0.8], [-0.8, 0.4])):\n",
    "    \n",
    "    # Assemble dataframe\n",
    "    corrs_tup = assemble_mean_corrs_all(corr_type=corr_type, best_rot=True, group_desig=group_desig, plot=False, nshuf=1000)\n",
    "    learn_corr_all, nl_corr_all, ani_corr_all, l_shuf_all, nl_shuf_all, ani_shuf_all = corrs_tup\n",
    "    corr_df = mean_corrs_to_df(learn_corr_all, nl_corr_all, ani_corr_all, group_desig=group_desig)\n",
    "\n",
    "    # Now plot into S4b and S4c\n",
    "    ax_bef_comb = figcomb.subplot(441)\n",
    "    ax_aft_comb = figcomb.subplot(442)\n",
    "    ax_ba_comb = figcomb.subplot(443)\n",
    "    ax_bstm_comb = figcomb.subplot(444)\n",
    "    ax_stma_comb = figcomb.subplot(445)\n",
    "\n",
    "    anova_type = 'mixed'\n",
    "    within_first = True\n",
    "\n",
    "    for a, comp_type in zip([ax_bef_comb, ax_aft_comb, ax_ba_comb, ax_bstm_comb, ax_stma_comb], \n",
    "                            corr_df['comp_type'].unique()):\n",
    "        legend_keep = True if comp_type == 'Before' else False\n",
    "        pfplot_compare2(corr_df, comp_type, a, ax_lims=ax_lims, anova_type=anova_type, within_first=within_first,\n",
    "                       legend_keep=legend_keep)\n",
    "        add_PV1shuf_CI(a[0], l_shuf_all, nl_shuf_all, ani_shuf_all, comp_type, group_desig)\n",
    "        \n",
    "    figcomb.Fig1.fig.suptitle(corr_type)"
   ]
  },
  {
   "cell_type": "code",
   "execution_count": null,
   "id": "fb3f19d7",
   "metadata": {},
   "outputs": [],
   "source": [
    "FigS4b.fig"
   ]
  },
  {
   "cell_type": "code",
   "execution_count": null,
   "id": "d1a1faeb",
   "metadata": {
    "scrolled": true
   },
   "outputs": [],
   "source": [
    "FigS4c.fig"
   ]
  },
  {
   "cell_type": "markdown",
   "id": "7d60cc56",
   "metadata": {},
   "source": [
    "### NRK todo: look at overall event rate across days, normalized to day -1 for each mouse. Compare between groups.\n",
    "\n",
    "2) Plot overlap between arenas for ANI vs Ctrls across all days - 4 hr session could be super interesting for ANI."
   ]
  },
  {
   "cell_type": "markdown",
   "id": "8ff91886",
   "metadata": {},
   "source": [
    "#2) Plot delta ER for ANI neurons vs. Ctrl neurons from -1 to -4 to 1 in shock arena"
   ]
  },
  {
   "cell_type": "code",
   "execution_count": null,
   "id": "62634bf4",
   "metadata": {},
   "outputs": [],
   "source": [
    "peak_mean_c, peak_mean_a = [], []\n",
    "def assemble_mean_peak(mice, day1, day2, arena, group_type=None):\n",
    "    mean_peak_all, days_all, arena_all, animal_id = [], [], [], []\n",
    "    for idm, mouse in enumerate(mice):\n",
    "        a, b = discr.get_matched_peak_heights(mouse, arena, day1, arena, day2)\n",
    "        mean_peak_all.extend([a.mean(), b.mean()])\n",
    "        days_all.extend([day1, day2])\n",
    "        arena_all.extend([arena, arena])\n",
    "        animal_id.extend([idm, idm])\n",
    "    if group_type is None:\n",
    "        return pd.DataFrame({'Day': days_all, 'Arena': arena_all, 'Animal': animal_id, 'Mean Peak Height': mean_peak_all})\n",
    "    else:\n",
    "        return pd.DataFrame({'Day': days_all, 'Arena': arena_all, 'Animal': animal_id, 'Group': [group_type]*len(days_all), 'Mean Peak Height': mean_peak_all})\n"
   ]
  },
  {
   "cell_type": "code",
   "execution_count": null,
   "id": "180d68ec",
   "metadata": {},
   "outputs": [],
   "source": [
    "FigS4comb.Fig1.fig"
   ]
  },
  {
   "cell_type": "code",
   "execution_count": null,
   "id": "aaab4114",
   "metadata": {
    "scrolled": true
   },
   "outputs": [],
   "source": [
    "# Plot mean of transient peaks for each session before/after ANI admin.\n",
    "# ax_anipeak_14, ax_anipeak_14stats = FigS4comb.subplot2grid(FigS4comb.Fig1.gs[2,0], grid=(1,2), return_axes=True)\n",
    "# ax_anipeak_1n1, ax_anipeak_1n1stats = FigS4comb.subplot2grid(FigS4comb.Fig1.gs[2,1], grid=(1,2), return_axes=True)\n",
    "\n",
    "# For some reason things are plotting weird into FigS4 directly, so here is a workaround\n",
    "fig_anipeak, ax_anipeak = plt.subplots(2, 2, figsize=(8.5/4, 6.5/2))\n",
    "fig_anipeak_stats, ax_anipeak_stats = plt.subplots(2, 2, figsize=(4.25, 6.5/2))\n",
    "ax_anipeak_14, ax_anipeak_1n1 = ax_anipeak\n",
    "ax_anipeak_14stats, ax_anipeak_1n1stats = ax_anipeak_stats\n",
    "day_pairs = [[-1, 4], [-1, 1]]\n",
    "for ax, axs, day_pair in zip([ax_anipeak_14, ax_anipeak_1n1], [ax_anipeak_14stats, ax_anipeak_1n1stats], day_pairs):\n",
    "    df_ctrl = assemble_mean_peak(err.control_mice_good, day_pair[0], day_pair[1], 'Open', 'Control')\n",
    "    df_ani = assemble_mean_peak(err.ani_mice_good, day_pair[0], day_pair[1], 'Open', 'ANI')\n",
    "    ax[0].get_shared_y_axes().join(ax[0], ax[1])\n",
    "    ax[1].set_yticklabels([])\n",
    "    for ida, (a, df) in enumerate(zip(ax, [df_ctrl, df_ani])):\n",
    "        g = sns.pointplot(data=df, x='Day', y='Mean Peak Height', hue='Animal', ax=a, scale=0.5,\n",
    "                          palette=[plt.get_cmap('Set2').colors[ida*2]]*len(df['Animal'].unique()), legend=False)\n",
    "        g.legend_.remove()\n",
    "        a.set_title(df['Group'][0])\n",
    "        sns.despine(ax=a)\n",
    "        \n",
    "        stats = pg.ttest(df[df['Day'] == day_pair[0]]['Mean Peak Height'], \n",
    "                      df[df['Day'] == day_pair[1]]['Mean Peak Height'])\n",
    "        axs[0].set_title(f'Mean Peak height day {day_pair[0]} to day {day_pair[1]}')\n",
    "        axs[0].text(0.1, 0.9 - ida * 0.5, f\"{df['Group'][0]} t-test\")\n",
    "        axs[0].text(0.1, 0.6 - ida * 0.5, str(stats), fontdict={\"size\": 3})\n",
    "        axs[1].axis('off')\n",
    "        \n"
   ]
  },
  {
   "cell_type": "code",
   "execution_count": null,
   "id": "64dc215f",
   "metadata": {},
   "outputs": [],
   "source": [
    "FigS4.fig"
   ]
  },
  {
   "cell_type": "markdown",
   "id": "b4811eb7",
   "metadata": {},
   "source": [
    "## Save all figures"
   ]
  },
  {
   "cell_type": "code",
   "execution_count": null,
   "id": "58d39ec7",
   "metadata": {},
   "outputs": [],
   "source": [
    "plot_path = Path('/Users/nkinsky/Documents/BU/Working/Eraser/plots')\n",
    "for comb_fig_save, name in zip([Fig2comb, FigS4comb, FigS4bcomb, FigS4ccomb, Fig2insetcomb], \n",
    "                               ['Figure2', 'FigureS4', 'FigureS4b_PV1dboth', 'FigureS4c_PV1dall', 'Figure2inset']):\n",
    "    comb_fig_save.Fig1.savefig(plot_path / (name + '.pdf'), scriptname = 'Figure2_and_S4.ipynb')\n",
    "    comb_fig_save.Fig2.savefig(plot_path / (name + '_stats.pdf'), scriptname = 'Figure2_and_S4.ipynb')"
   ]
  },
  {
   "cell_type": "code",
   "execution_count": null,
   "id": "02814be5",
   "metadata": {},
   "outputs": [],
   "source": [
    "plot_path = Path('/Users/nkinsky/Documents/BU/Working/Eraser/plots')\n",
    "Fig2insetcomb.Fig1.savefig(plot_path / 'Figure2inset.pdf', scriptname = 'Figure2_and_S4.ipynb')\n",
    "Fig2insetcomb.Fig2.savefig(plot_path / 'Figure2inset_stats.pdf', scriptname = 'Figure2_and_S4.ipynb')\n",
    "fig_anipeak.savefig(plot_path / 'FigureS4_transient_peaks.pdf')\n",
    "fig_anipeak_stats.savefig(plot_path / 'FigureS4_transient_peaks_stats.pdf')"
   ]
  }
 ],
 "metadata": {
  "kernelspec": {
   "display_name": "Python 3 (ipykernel)",
   "language": "python",
   "name": "python3"
  },
  "language_info": {
   "codemirror_mode": {
    "name": "ipython",
    "version": 3
   },
   "file_extension": ".py",
   "mimetype": "text/x-python",
   "name": "python",
   "nbconvert_exporter": "python",
   "pygments_lexer": "ipython3",
   "version": "3.9.5"
  }
 },
 "nbformat": 4,
 "nbformat_minor": 5
}
