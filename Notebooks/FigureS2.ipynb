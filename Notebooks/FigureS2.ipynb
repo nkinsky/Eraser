{
 "cells": [
  {
   "cell_type": "markdown",
   "id": "0ea131ec",
   "metadata": {},
   "source": [
    "Max projections + traces + histo from one animal from each group before/after shock."
   ]
  },
  {
   "cell_type": "code",
   "execution_count": null,
   "id": "0c3d1184",
   "metadata": {},
   "outputs": [],
   "source": [
    "import scipy.stats as s\n",
    "import numpy as np\n",
    "import matplotlib.pyplot as plt\n",
    "from os import path\n",
    "import seaborn as sns\n",
    "import pandas as pd\n",
    "\n",
    "# Import project specific modules and enable automatic reloading\n",
    "import sys\n",
    "from pathlib import Path\n",
    "import os\n",
    "eraser_path = Path(os.getcwd()).parent\n",
    "reinstatement_path = eraser_path.parent / 'FearReinstatement'\n",
    "sys.path.append(str(eraser_path))\n",
    "sys.path.append(str(reinstatement_path))\n",
    "%load_ext autoreload\n",
    "%autoreload 2\n",
    "\n",
    "import eraser_reference as err\n",
    "import er_plot_functions as er\n",
    "from plotting import Fig, pretty_plot, FigMirror\n",
    "import placefield_stability as pfs\n",
    "import Placefields as pf\n",
    "import discrimination as discr\n",
    "import ca_traces as trc"
   ]
  },
  {
   "cell_type": "markdown",
   "id": "d2fe641b",
   "metadata": {},
   "source": [
    "Top row: histo from 3 example animals"
   ]
  },
  {
   "cell_type": "markdown",
   "id": "c6d63920",
   "metadata": {},
   "source": [
    "Next row: Learner: 1: max proj with 10 ROIs, 2: 10 corresponding traces, 3/4: ditto for day 1"
   ]
  },
  {
   "cell_type": "markdown",
   "id": "89102cdf",
   "metadata": {},
   "source": [
    "Next row: same as above but for non-learner"
   ]
  },
  {
   "cell_type": "markdown",
   "id": "e2794b9d",
   "metadata": {},
   "source": [
    "Next row: same as above but for ANI"
   ]
  }
 ],
 "metadata": {
  "kernelspec": {
   "display_name": "Python 3 (ipykernel)",
   "language": "python",
   "name": "python3"
  },
  "language_info": {
   "codemirror_mode": {
    "name": "ipython",
    "version": 3
   },
   "file_extension": ".py",
   "mimetype": "text/x-python",
   "name": "python",
   "nbconvert_exporter": "python",
   "pygments_lexer": "ipython3",
   "version": "3.9.5"
  }
 },
 "nbformat": 4,
 "nbformat_minor": 5
}
