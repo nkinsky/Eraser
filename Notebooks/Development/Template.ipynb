{
 "cells": [
  {
   "cell_type": "markdown",
   "id": "1deb6b43",
   "metadata": {},
   "source": [
    "First set up paths."
   ]
  },
  {
   "cell_type": "code",
   "execution_count": 3,
   "id": "cc2f21af",
   "metadata": {},
   "outputs": [
    {
     "data": {
      "text/plain": [
       "['C:\\\\Users\\\\Nat\\\\Documents\\\\BU\\\\Imaging\\\\Python\\\\Eraser\\\\Notebooks',\n",
       " 'C:\\\\Users\\\\Nat\\\\Documents\\\\BU\\\\Imaging\\\\Python\\\\Eraser\\\\Notebooks\\\\\"\"',\n",
       " 'C:\\\\Users\\\\Nat\\\\Anaconda3\\\\envs\\\\eraser7\\\\python39.zip',\n",
       " 'C:\\\\Users\\\\Nat\\\\Anaconda3\\\\envs\\\\eraser7\\\\DLLs',\n",
       " 'C:\\\\Users\\\\Nat\\\\Anaconda3\\\\envs\\\\eraser7\\\\lib',\n",
       " 'C:\\\\Users\\\\Nat\\\\Anaconda3\\\\envs\\\\eraser7',\n",
       " '',\n",
       " 'C:\\\\Users\\\\Nat\\\\Anaconda3\\\\envs\\\\eraser7\\\\lib\\\\site-packages',\n",
       " 'C:\\\\Users\\\\Nat\\\\Anaconda3\\\\envs\\\\eraser7\\\\lib\\\\site-packages\\\\win32',\n",
       " 'C:\\\\Users\\\\Nat\\\\Anaconda3\\\\envs\\\\eraser7\\\\lib\\\\site-packages\\\\win32\\\\lib',\n",
       " 'C:\\\\Users\\\\Nat\\\\Anaconda3\\\\envs\\\\eraser7\\\\lib\\\\site-packages\\\\Pythonwin',\n",
       " 'C:\\\\Users\\\\Nat\\\\Anaconda3\\\\envs\\\\eraser7\\\\lib\\\\site-packages\\\\IPython\\\\extensions',\n",
       " 'C:\\\\Users\\\\Nat\\\\.ipython',\n",
       " 'C:\\\\Users\\\\Nat\\\\Documents\\\\BU\\\\Imaging\\\\Python\\\\Eraser',\n",
       " 'C:\\\\Users\\\\Nat\\\\Documents\\\\BU\\\\Imaging\\\\Python\\\\FearReinstatement']"
      ]
     },
     "execution_count": 3,
     "metadata": {},
     "output_type": "execute_result"
    }
   ],
   "source": [
    "import sys\n",
    "sys.path.append(r'C:\\Users\\Nat\\Documents\\BU\\Imaging\\Python\\Eraser')\n",
    "sys.path.append(r'C:\\Users\\Nat\\Documents\\BU\\Imaging\\Python\\FearReinstatement')\n",
    "sys.path"
   ]
  }
 ],
 "metadata": {
  "kernelspec": {
   "display_name": "Python [conda env:eraser7]",
   "language": "python",
   "name": "conda-env-eraser7-py"
  },
  "language_info": {
   "codemirror_mode": {
    "name": "ipython",
    "version": 3
   },
   "file_extension": ".py",
   "mimetype": "text/x-python",
   "name": "python",
   "nbconvert_exporter": "python",
   "pygments_lexer": "ipython3",
   "version": "3.9.4"
  }
 },
 "nbformat": 4,
 "nbformat_minor": 5
}
