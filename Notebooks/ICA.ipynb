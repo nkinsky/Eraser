{
 "cells": [
  {
   "cell_type": "markdown",
   "id": "0c0ba963",
   "metadata": {},
   "source": [
    "This notebook holds all development of ICA related analysis.  \n",
    "  \n",
    "Road map:  \n",
    "1) Run ICA on running only PSAbool data from open field day -1. Should be able to identify cells with similar place fields!  Sanity check.  \n",
    "  \n",
    "2) Run ICA on circa-freezing data only. Another sanity check. Create boolean of freezing times +/- 2 seconds. Should be able to recover cells I have already identified as freeze cells with freezing_analysis.MotionTuning class.  \n",
    "  \n",
    "3) Run ICA on non-filtered PSAbool data. Correlate different component activations with freezing and/or velocity to pull out the \"freezing\" ensembles on day 1.  \n",
    "  \n",
    "3a) Track these ensembles backward and forward one session to see how they develop. Should match single cell findings, but maybe we will see something interesting in the ANI vs. Control stuff?"
   ]
  },
  {
   "cell_type": "code",
   "execution_count": 1,
   "id": "32456209",
   "metadata": {},
   "outputs": [],
   "source": [
    "# Import useful modules\n",
    "import numpy as np\n",
    "import seaborn as sns\n",
    "import matplotlib.pyplot as plt\n",
    "import scipy.stats as stats\n",
    "import matplotlib.gridspec as gridspec\n",
    "import pandas as pd"
   ]
  },
  {
   "cell_type": "code",
   "execution_count": 2,
   "id": "ac912a5a",
   "metadata": {},
   "outputs": [],
   "source": [
    "# Import project specific modules and enable automatic reloading\n",
    "import sys\n",
    "from pathlib import Path\n",
    "import os\n",
    "eraser_path = Path(os.getcwd()).parent\n",
    "reinstatement_path = eraser_path.parent / 'FearReinstatement'\n",
    "sys.path.append(str(eraser_path))\n",
    "sys.path.append(str(reinstatement_path))\n",
    "%load_ext autoreload\n",
    "%autoreload 2\n",
    "\n",
    "from session_directory import find_eraser_directory as get_dir\n",
    "import er_plot_functions as erp\n",
    "import Placefields as pf\n",
    "import freezing_analysis as fa\n",
    "import helpers \n",
    "import eraser_reference as err\n",
    "\n",
    "# Project save directory here\n",
    "print_dir = '/Users/nkinsky/Documents/BU/Working/Eraser/plots'"
   ]
  },
  {
   "cell_type": "markdown",
   "id": "c4baf0f1",
   "metadata": {},
   "source": [
    "# First try to recover cells with similar place fields using ICA as a sanity check."
   ]
  },
  {
   "cell_type": "code",
   "execution_count": 9,
   "id": "c2bcab68",
   "metadata": {},
   "outputs": [],
   "source": [
    "# First define moving average function to smooth things into 1 second\n",
    "def moving_average(arr, n=20):\n",
    "    ret = np.cumsum(arr, dtype=float)\n",
    "    ret[n:] = ret[n:] - ret[:-n]\n",
    "    return ret[n - 1:] / n\n",
    "\n",
    "def bin_array(arr, n=20):\n",
    "    return np.add.reduceat(arr, np.arange(0, len(arr), n))\n"
   ]
  },
  {
   "cell_type": "code",
   "execution_count": 10,
   "id": "8b49e6de",
   "metadata": {},
   "outputs": [
    {
     "name": "stdout",
     "output_type": "stream",
     "text": [
      "[0.33333333 0.66666667 0.66666667 1.33333333 1.66666667 2.66666667\n",
      " 3.         3.33333333]\n",
      "[1 4 9 4]\n"
     ]
    }
   ],
   "source": [
    "c = [1, 0, 0, 2, 0, 2, 3, 3, 3, 4]\n",
    "print(moving_average(c, n=3))\n",
    "print(bin_array(c, n=3))"
   ]
  },
  {
   "cell_type": "code",
   "execution_count": 12,
   "id": "0f9c32c6",
   "metadata": {},
   "outputs": [],
   "source": [
    "from sklearn.datasets import load_digits\n",
    "from sklearn.decomposition import FastICA\n",
    "\n",
    "PF = pf.load_pf('Marble07', 'Open', -1)\n",
    "PSAsmooth, PSAbin = [], []\n",
    "for psa in PF.PSAboolrun:\n",
    "    PSAsmooth.append(moving_average(psa)) # Create 1 second moving-average array\n",
    "    PSAbin.append(bin_array(psa)) # Create 1 second non-overlapping bin array\n",
    "PSAsmooth = np.asarray(PSAsmooth)\n",
    "PSAbin = np.asarray(PSAbin)\n",
    "\n",
    "# Run ICA on the two different PSAs\n",
    "transformer_sm = FastICA(n_components=7, random_state=0)\n",
    "transformer_bin = FastICA(n_components=7, random_state=0)\n",
    "PSAsm_trans = transformer_sm.fit_transform(PSAsmooth.T)\n",
    "PSAbin_trans = transformer_bin.fit_transform(PSAbin.T)\n"
   ]
  },
  {
   "cell_type": "code",
   "execution_count": 14,
   "id": "ca5d6c6d",
   "metadata": {},
   "outputs": [
    {
     "data": {
      "text/plain": [
       "(672, 7)"
      ]
     },
     "execution_count": 14,
     "metadata": {},
     "output_type": "execute_result"
    }
   ],
   "source": [
    "transformer_bin.mixing_.shape\n",
    "#plt.hist(PSAbin_trans)"
   ]
  },
  {
   "cell_type": "code",
   "execution_count": 15,
   "id": "589dc904",
   "metadata": {},
   "outputs": [
    {
     "data": {
      "text/plain": [
       "(7, 672)"
      ]
     },
     "execution_count": 15,
     "metadata": {},
     "output_type": "execute_result"
    }
   ],
   "source": [
    "transformer_bin.components_.shape"
   ]
  },
  {
   "cell_type": "code",
   "execution_count": 16,
   "id": "a6a54812",
   "metadata": {},
   "outputs": [
    {
     "data": {
      "text/plain": [
       "(672, 578)"
      ]
     },
     "execution_count": 16,
     "metadata": {},
     "output_type": "execute_result"
    }
   ],
   "source": [
    "PSAbin.shape"
   ]
  },
  {
   "cell_type": "code",
   "execution_count": null,
   "id": "f390db90",
   "metadata": {},
   "outputs": [],
   "source": [
    "PSAb"
   ]
  }
 ],
 "metadata": {
  "kernelspec": {
   "display_name": "Python 3 (ipykernel)",
   "language": "python",
   "name": "python3"
  },
  "language_info": {
   "codemirror_mode": {
    "name": "ipython",
    "version": 3
   },
   "file_extension": ".py",
   "mimetype": "text/x-python",
   "name": "python",
   "nbconvert_exporter": "python",
   "pygments_lexer": "ipython3",
   "version": "3.9.5"
  }
 },
 "nbformat": 4,
 "nbformat_minor": 5
}
