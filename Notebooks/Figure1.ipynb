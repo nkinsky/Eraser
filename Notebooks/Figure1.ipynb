{
 "cells": [
  {
   "cell_type": "markdown",
   "id": "26447599",
   "metadata": {},
   "source": [
    "# Figure 1: Behavior and Neural Discrimination plots"
   ]
  },
  {
   "cell_type": "code",
   "execution_count": 1,
   "id": "7a85d08d",
   "metadata": {},
   "outputs": [],
   "source": [
    "import scipy.stats as s\n",
    "import numpy as np\n",
    "import matplotlib.pyplot as plt\n",
    "from os import path\n",
    "import seaborn as sns\n",
    "import pandas as pd\n",
    "\n",
    "# Import project specific modules and enable automatic reloading\n",
    "import sys\n",
    "from pathlib import Path\n",
    "import os\n",
    "eraser_path = Path(os.getcwd()).parent\n",
    "reinstatement_path = eraser_path.parent / 'FearReinstatement'\n",
    "sys.path.append(str(eraser_path))\n",
    "sys.path.append(str(reinstatement_path))\n",
    "%load_ext autoreload\n",
    "%autoreload 2\n",
    "\n",
    "import eraser_reference as err\n",
    "import er_plot_functions as er\n",
    "from plotting import Fig, pretty_plot\n",
    "import placefield_stability as pfs\n",
    "import Placefields as pf\n",
    "import discrimination as discr"
   ]
  },
  {
   "cell_type": "code",
   "execution_count": 2,
   "id": "80935fe5",
   "metadata": {},
   "outputs": [],
   "source": [
    "# Fix for only certain xticks appearing...\n",
    "def fix_xticks(ax, days_plot = [-2, -1, 4, 1, 2, 7]):\n",
    "    days_str = [str(e) for e in days_plot]\n",
    "    plt.sca(ax)\n",
    "    plt.xticks(list(range(len(days_plot))), days_str)\n"
   ]
  },
  {
   "cell_type": "code",
   "execution_count": 3,
   "id": "672bf3c0",
   "metadata": {},
   "outputs": [
    {
     "data": {
      "image/png": "[encoded data removed]",
      "text/html": [
       "<div style=\"vertical-align: middle;\"><strong>Set2</strong> </div><div class=\"cmap\"><img alt=\"Set2 colormap\" title=\"Set2\" style=\"border: 1px solid #555;\" src=\"data:image/png;base64,iVBORw0KGgoAAAANSUhEUgAAAgAAAABACAYAAABsv8+/AAAAE3RFWHRUaXRsZQBTZXQyIGNvbG9ybWFw8Jt8/wAAABl0RVh0RGVzY3JpcHRpb24AU2V0MiBjb2xvcm1hcHsp7GcAAAAwdEVYdEF1dGhvcgBNYXRwbG90bGliIHYzLjQuMiwgaHR0cHM6Ly9tYXRwbG90bGliLm9yZ6zWY90AAAAydEVYdFNvZnR3YXJlAE1hdHBsb3RsaWIgdjMuNC4yLCBodHRwczovL21hdHBsb3RsaWIub3JngnD8+gAAAWZJREFUeJzt1qFtAgAUAFFgBQZgIzx4mjAOhg0Yg5BgSVgAX9GK2rp2C7649yY4ecuP++VvEXZ+XKcTRp3Wx+mEUfuv3+mEUbftaTph1G75mk4Y9fl9mE4Y9fzZTCeMWk0HAADvZwAAIMgAAECQAQCAIAMAAEEGAACCDAAABBkAAAgyAAAQZAAAIMgAAECQAQCAIAMAAEEGAACCDAAABBkAAAgyAAAQZAAAIMgAAECQAQCAIAMAAEEGAACCDAAABBkAAAgyAAAQZAAAIMgAAECQAQCAIAMAAEEGAACCDAAABBkAAAgyAAAQZAAAIMgAAECQAQCAIAMAAEEGAACCDAAABBkAAAgyAAAQZAAAIMgAAECQAQCAIAMAAEEGAACCDAAABBkAAAgyAAAQZAAAIMgAAECQAQCAIAMAAEEGAACCDAAABBkAAAgyAAAQZAAAIMgAAECQAQCAIAMAAEEGAACCDAAABP0Dyt0PmA+ixo4AAAAASUVORK5CYII=\"></div><div style=\"vertical-align: middle; max-width: 514px; display: flex; justify-content: space-between;\"><div style=\"float: left;\"><div title=\"#66c2a5ff\" style=\"display: inline-block; width: 1em; height: 1em; margin: 0; vertical-align: middle; border: 1px solid #555; background-color: #66c2a5ff;\"></div> under</div><div style=\"margin: 0 auto; display: inline-block;\">bad <div title=\"#00000000\" style=\"display: inline-block; width: 1em; height: 1em; margin: 0; vertical-align: middle; border: 1px solid #555; background-color: #00000000;\"></div></div><div style=\"float: right;\">over <div title=\"#b3b3b3ff\" style=\"display: inline-block; width: 1em; height: 1em; margin: 0; vertical-align: middle; border: 1px solid #555; background-color: #b3b3b3ff;\"></div></div>"
      ],
      "text/plain": [
       "<matplotlib.colors.ListedColormap at 0x166f2f790>"
      ]
     },
     "execution_count": 3,
     "metadata": {},
     "output_type": "execute_result"
    }
   ],
   "source": [
    "plt.get_cmap('Set2')"
   ]
  },
  {
   "cell_type": "code",
   "execution_count": 4,
   "id": "1c1e16f9",
   "metadata": {
    "scrolled": false
   },
   "outputs": [
    {
     "name": "stdout",
     "output_type": "stream",
     "text": [
      "[8.5  4.75]\n"
     ]
    },
    {
     "data": {
      "application/vnd.jupyter.widget-view+json": {
       "model_id": "3aff19a9b0784467a7fc5efe55e8fa98",
       "version_major": 2,
       "version_minor": 0
      },
      "image/png": "[encoded data removed]",
      "text/html": [
       "\n",
       "            <div style=\"display: inline-block;\">\n",
       "                <div class=\"jupyter-widgets widget-label\" style=\"text-align: center;\">\n",
       "                    Figure\n",
       "                </div>\n",
       "                <img src='data:image/png;base64,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' width=850.0/>\n",
       "            </div>\n",
       "        "
      ],
      "text/plain": [
       "Canvas(toolbar=Toolbar(toolitems=[('Home', 'Reset original view', 'home', 'home'), ('Back', 'Back to previous …"
      ]
     },
     "metadata": {},
     "output_type": "display_data"
    }
   ],
   "source": [
    "# Set up main figure plotting\n",
    "%matplotlib ipympl\n",
    "Fig1 = Fig(num=1, grid=(3, 4), size=(8.5, 4.75), fontsize=6)\n",
    "print(Fig1.fig.get_size_inches())"
   ]
  },
  {
   "cell_type": "code",
   "execution_count": 5,
   "id": "0fe972ff",
   "metadata": {
    "scrolled": false
   },
   "outputs": [
    {
     "name": "stdout",
     "output_type": "stream",
     "text": [
      "[8.5  4.75]\n"
     ]
    },
    {
     "data": {
      "application/vnd.jupyter.widget-view+json": {
       "model_id": "88d1a8dcc62e4cf8b65606a142196392",
       "version_major": 2,
       "version_minor": 0
      },
      "image/png": "[encoded data removed]",
      "text/html": [
       "\n",
       "            <div style=\"display: inline-block;\">\n",
       "                <div class=\"jupyter-widgets widget-label\" style=\"text-align: center;\">\n",
       "                    Figure 1 stats\n",
       "                </div>\n",
       "                <img src='data:image/png;base64,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' width=850.0/>\n",
       "            </div>\n",
       "        "
      ],
      "text/plain": [
       "Canvas(toolbar=Toolbar(toolitems=[('Home', 'Reset original view', 'home', 'home'), ('Back', 'Back to previous …"
      ]
     },
     "metadata": {},
     "output_type": "display_data"
    }
   ],
   "source": [
    "# Set up main figure stats companion plot\n",
    "Fig1stats = Fig(num='Figure 1 stats', grid=(3, 4), size=(8.5, 4.75), fontsize=6)\n",
    "print(Fig1stats.fig.get_size_inches())"
   ]
  },
  {
   "cell_type": "code",
   "execution_count": 6,
   "id": "5bbd7949",
   "metadata": {},
   "outputs": [],
   "source": [
    "# Designate Placeholders\n",
    "aexp = Fig1.subplot(Fig1.gs[0, 0:2])\n",
    "aexp.set_title('Exp. Outline Here')\n",
    "aexp.axis('off')\n",
    "aehisto = Fig1.subplot(345)\n",
    "aehisto.set_title('Histology Here?')\n",
    "aehisto.axis('off')\n",
    "plt.draw()"
   ]
  },
  {
   "cell_type": "markdown",
   "id": "57f62198",
   "metadata": {},
   "source": [
    "## Start with behavioral plots"
   ]
  },
  {
   "cell_type": "code",
   "execution_count": 7,
   "id": "61e01fc3",
   "metadata": {
    "scrolled": true
   },
   "outputs": [
    {
     "name": "stdout",
     "output_type": "stream",
     "text": [
      "/Users/nkinsky/Documents/BU/Working/Eraser/Control Group/Marble6/20180421_1_openfield: nbadpts = 63 max_in_a_row = 38\n",
      "['Unknown file missing and/or IndexError for Marble06 Open 7']\n",
      "Freezing left as NaN for this session\n",
      "['Unknown file missing and/or IndexError for Marble06 Shock 7']\n",
      "Freezing left as NaN for this session\n",
      "['Unknown file missing and/or IndexError for Marble14 Open 4']\n",
      "Freezing left as NaN for this session\n",
      "['Unknown file missing and/or IndexError for Marble14 Open 1']\n",
      "Freezing left as NaN for this session\n",
      "['Unknown file missing and/or IndexError for Marble14 Open 2']\n",
      "Freezing left as NaN for this session\n",
      "['Unknown file missing and/or IndexError for Marble14 Open 7']\n",
      "Freezing left as NaN for this session\n",
      "/Users/nkinsky/Documents/BU/Working/Eraser/Control Group/Marble24/20181126_1_openfield: nbadpts = 18 max_in_a_row = 3\n",
      "/Users/nkinsky/Documents/BU/Working/Eraser/Control Group/Marble24/20181127_1_openfield: nbadpts = 10 max_in_a_row = 4\n"
     ]
    },
    {
     "data": {
      "text/plain": [
       "[Text(0, 0, ''),\n",
       " Text(1, 0, ''),\n",
       " Text(2, 0, ''),\n",
       " Text(3, 0, ''),\n",
       " Text(4, 0, ''),\n",
       " Text(5, 0, '')]"
      ]
     },
     "execution_count": 7,
     "metadata": {},
     "output_type": "execute_result"
    }
   ],
   "source": [
    "# Plot Control mice behavior\n",
    "axc = Fig1.subplot(343)\n",
    "figc, axc, fratio_cont = er.plot_all_freezing(err.control_mice_good, ax=axc, s=9, xoffset=0.1)\n",
    "axc.set_ylim([-0.025, 0.80])\n",
    "axc.set_title('Control')\n",
    "fix_xticks(axc)\n",
    "axc.set_xlabel('')\n",
    "axc.set_xticklabels('')"
   ]
  },
  {
   "cell_type": "code",
   "execution_count": 8,
   "id": "497f3eae",
   "metadata": {},
   "outputs": [
    {
     "name": "stdout",
     "output_type": "stream",
     "text": [
      "0.025104577549869396\n",
      "-2.046407579787083\n"
     ]
    },
    {
     "data": {
      "text/plain": [
       "(0.0, 1.0, 0.0, 1.0)"
      ]
     },
     "execution_count": 8,
     "metadata": {},
     "output_type": "execute_result"
    }
   ],
   "source": [
    "# Increase in arena-specific freezing from days -2/-1 to days 1/2 is significant for controls\n",
    "tstatc, ptc = s.ttest_ind((fratio_cont[1, 0:2, :] - fratio_cont[0, 0:2, :]).reshape(-1),\n",
    "                           (fratio_cont[1, 3:5, :] - fratio_cont[0, 3:5, :]).reshape(-1), nan_policy='omit')\n",
    "print(ptc/2)\n",
    "print(tstatc)\n",
    "\n",
    "astatsc = Fig1stats.subplot(343)\n",
    "astatsc.text(0.1, 0.7, 'Control Mice')\n",
    "astatsc.text(0.1, 0.6, 'un-paired one-way t-test days -2/-1 to days 1/2', fontdict=None)\n",
    "astatsc.text(0.1, 0.5, f'p={ptc/2:0.3g}')\n",
    "astatsc.text(0.1, 0.4, f'tstat={tstatc:0.3g}')\n",
    "astatsc.axis('off')"
   ]
  },
  {
   "cell_type": "code",
   "execution_count": 9,
   "id": "b3c6bbb4",
   "metadata": {},
   "outputs": [
    {
     "name": "stdout",
     "output_type": "stream",
     "text": [
      "/Users/nkinsky/Documents/BU/Working/Eraser/Anisomycin Group/Marble25/20181203_1_openfield: nbadpts = 9 max_in_a_row = 6\n"
     ]
    },
    {
     "data": {
      "text/plain": [
       "Text(0.5, 1.0, 'Anisomycin')"
      ]
     },
     "execution_count": 9,
     "metadata": {},
     "output_type": "execute_result"
    }
   ],
   "source": [
    "# Plot ANI mice behavior\n",
    "axa = Fig1.subplot(344)\n",
    "figa, axa, fratio_ani = er.plot_all_freezing(err.ani_mice_good, ax=axa, s=9, xoffset=0.1)\n",
    "axa.set_ylim([-0.025, 0.80])\n",
    "fix_xticks(axa)\n",
    "axa.set_xlabel('')\n",
    "axa.set_xticklabels('')\n",
    "axa.set_ylabel('')\n",
    "axa.set_title('Anisomycin')"
   ]
  },
  {
   "cell_type": "code",
   "execution_count": 10,
   "id": "adcc0305",
   "metadata": {
    "scrolled": true
   },
   "outputs": [
    {
     "name": "stdout",
     "output_type": "stream",
     "text": [
      "0.11178530200553738\n",
      "-1.2605402424159724\n"
     ]
    },
    {
     "data": {
      "text/plain": [
       "(0.0, 1.0, 0.0, 1.0)"
      ]
     },
     "execution_count": 10,
     "metadata": {},
     "output_type": "execute_result"
    }
   ],
   "source": [
    "# Non-significant increase in freezing for ANI mice from before to after (days -2/-1 to days 1/2)\n",
    "astatsa = Fig1stats.subplot(344)\n",
    "tstata, pta = s.ttest_ind((fratio_ani[1, 0:2, :] - fratio_ani[0, 0:2, :]).reshape(-1),\n",
    "                           (fratio_ani[1, 3:5, :] - fratio_ani[0, 3:5, :]).reshape(-1), nan_policy='omit')\n",
    "print(pta/2)\n",
    "print(tstata)\n",
    "\n",
    "astatsa.text(0.1, 0.7, 'ANI Mice')\n",
    "astatsa.text(0.1, 0.6, 'un-paired one-way t-test days -2/-1 to days 1/2', fontdict=None)\n",
    "astatsa.text(0.1, 0.5, f'p={pta/2:0.3g}')\n",
    "astatsa.text(0.1, 0.4, f'tstat={tstata:0.3g}')\n",
    "astatsa.axis('off')"
   ]
  },
  {
   "cell_type": "code",
   "execution_count": 11,
   "id": "bd61e5eb",
   "metadata": {},
   "outputs": [],
   "source": [
    "# Calculate Discrimination Index (DI) ratios for day 1-2\n",
    "learning_cutoff = -0.35\n",
    "\n",
    "# Controls\n",
    "DI_aft = ((fratio_cont[0, 3:5, :] - fratio_cont[1, 3:5, :]).reshape(-1))/((fratio_cont[0, 3:5, :] + \n",
    "                                                                           fratio_cont[1, 3:5, :]).reshape(-1))\n",
    "# ANI - not used due to this being a poor metric if animals don't freeze a lot, only good for specifying\n",
    "# how specific a memory is in mice that actually freeze.  See next block.\n",
    "DI_aft_ani = ((fratio_ani[0, 3:5, :] - fratio_ani[1, 3:5, :]).reshape(-1))/((fratio_ani[0, 3:5, :] + \n",
    "                                                                           fratio_ani[1, 3:5, :]).reshape(-1))"
   ]
  },
  {
   "cell_type": "code",
   "execution_count": 12,
   "id": "d53eb49e",
   "metadata": {},
   "outputs": [
    {
     "data": {
      "text/plain": [
       "array([-0.10379693, -0.39033887, -0.21642609, -0.59563518,         nan,\n",
       "       -0.71391564, -0.36638349, -0.06170731])"
      ]
     },
     "execution_count": 12,
     "metadata": {},
     "output_type": "execute_result"
    }
   ],
   "source": [
    "# Here are all the DIs for controls averaged across days 1 and 2 - note that this metric can distort things as \n",
    "# animal 3, for example, freezes very little in either arena and so is a non-learner even though he has a lower DI\n",
    "# value, while animal 1 and animal 3 freeze in both arenas and are also a non-learner.\n",
    "DI_aft.reshape(fratio_cont[1, 3:5, :].shape).mean(axis=0)"
   ]
  },
  {
   "cell_type": "code",
   "execution_count": 13,
   "id": "5727df62",
   "metadata": {},
   "outputs": [
    {
     "name": "stdout",
     "output_type": "stream",
     "text": [
      "Learners\n",
      "['Marble07', 'Marble12', 'Marble24', 'Marble27']\n",
      "['Marble07', 'Marble12', 'Marble24', 'Marble27']\n",
      "Non-Learners\n",
      "['Marble06', 'Marble11', 'Marble14', 'Marble29']\n",
      "['Marble06', 'Marble11', 'Marble29']\n"
     ]
    }
   ],
   "source": [
    "from itertools import compress\n",
    "# Print out learners vs. non-learners\n",
    "learn_bool = DI_aft.reshape(fratio_cont[1, 3:5, :].shape).mean(axis=0) < learning_cutoff\n",
    "# learners = err.control_mice_good[learn_bool]\n",
    "learners = list(compress(err.control_mice_good, learn_bool))\n",
    "nonlearners = list(compress(err.control_mice_good, ~learn_bool))\n",
    "print('Learners')\n",
    "print(learners)\n",
    "# Check that matches what's in your code\n",
    "print(err.learners)\n",
    "\n",
    "# Note that Marble 14 can't really be designated either way since his open field behavioral data was corrupted on\n",
    "# those days. However, he would likely be a non-learner since he barely freezes in the shock arena after shock.\n",
    "print('Non-Learners')\n",
    "print(nonlearners)\n",
    "# Check that matches what's in your code\n",
    "print(err.nonlearners)"
   ]
  },
  {
   "cell_type": "code",
   "execution_count": 14,
   "id": "d09ce17c",
   "metadata": {},
   "outputs": [
    {
     "name": "stdout",
     "output_type": "stream",
     "text": [
      "/Users/nkinsky/Documents/BU/Working/Eraser/Control Group/Marble24/20181126_1_openfield: nbadpts = 18 max_in_a_row = 3\n",
      "/Users/nkinsky/Documents/BU/Working/Eraser/Control Group/Marble24/20181127_1_openfield: nbadpts = 10 max_in_a_row = 4\n",
      "/Users/nkinsky/Documents/BU/Working/Eraser/Control Group/Marble6/20180421_1_openfield: nbadpts = 63 max_in_a_row = 38\n",
      "['Unknown file missing and/or IndexError for Marble06 Open 7']\n",
      "Freezing left as NaN for this session\n",
      "['Unknown file missing and/or IndexError for Marble06 Shock 7']\n",
      "Freezing left as NaN for this session\n"
     ]
    },
    {
     "data": {
      "text/plain": [
       "Text(0.5, 1.0, 'Non-Learners')"
      ]
     },
     "execution_count": 14,
     "metadata": {},
     "output_type": "execute_result"
    }
   ],
   "source": [
    "# Plot non-learners and learners\n",
    "axlrn = Fig1.subplot(347)\n",
    "_, axlrn, fratio_lrn = er.plot_all_freezing(err.learners, ax=axlrn, s=9, xoffset=0.1)\n",
    "axlrn.set_title('Learners')\n",
    "axlrn.set_ylim([-0.025, 0.80])\n",
    "\n",
    "axnlrn = Fig1.subplot(348)\n",
    "_, axnlrn, fratio_nl = er.plot_all_freezing(err.nonlearners, ax=axnlrn, s=9, xoffset=0.1)\n",
    "axnlrn.set_ylim([-0.025, 0.80])\n",
    "axnlrn.set_ylabel('')\n",
    "axnlrn.set_title('Non-Learners')"
   ]
  },
  {
   "cell_type": "code",
   "execution_count": 15,
   "id": "d17c945d",
   "metadata": {},
   "outputs": [
    {
     "name": "stdout",
     "output_type": "stream",
     "text": [
      "2.604580452861292e-05\n",
      "-6.1303015328719015\n"
     ]
    },
    {
     "data": {
      "text/plain": [
       "(0.0, 1.0, 0.0, 1.0)"
      ]
     },
     "execution_count": 15,
     "metadata": {},
     "output_type": "execute_result"
    }
   ],
   "source": [
    "# Highly sig freezing for Learners\n",
    "tstatlrn, ptlrn = s.ttest_ind((fratio_lrn[1, 0:2, :] - fratio_lrn[0, 0:2, :]).reshape(-1),\n",
    "                           (fratio_lrn[1, 3:5, :] - fratio_lrn[0, 3:5, :]).reshape(-1), nan_policy='omit')\n",
    "print(ptlrn)\n",
    "print(tstatlrn)\n",
    "astatslrn = Fig1stats.subplot(347)\n",
    "astatslrn.text(0.1, 0.7, 'Learners')\n",
    "astatslrn.text(0.1, 0.6, 'un-paired one-way t-test days -2/-1 to days 1/2', fontdict=None)\n",
    "astatslrn.text(0.1, 0.5, f'p={ptlrn/2:0.3g}')\n",
    "astatslrn.text(0.1, 0.4, f'tstat={tstatlrn:0.3g}')\n",
    "astatslrn.axis('off')"
   ]
  },
  {
   "cell_type": "code",
   "execution_count": 16,
   "id": "de3c3fe9",
   "metadata": {},
   "outputs": [
    {
     "name": "stdout",
     "output_type": "stream",
     "text": [
      "0.34211175634596924\n",
      "0.9973584695991825\n"
     ]
    },
    {
     "data": {
      "text/plain": [
       "(0.0, 1.0, 0.0, 1.0)"
      ]
     },
     "execution_count": 16,
     "metadata": {},
     "output_type": "execute_result"
    }
   ],
   "source": [
    "# Non-sig freezing for NonLearners\n",
    "tstatnl, ptnl = s.ttest_ind((fratio_nl[1, 0:2, :] - fratio_nl[0, 0:2, :]).reshape(-1),\n",
    "                           (fratio_nl[1, 3:5, :] - fratio_nl[0, 3:5, :]).reshape(-1), nan_policy='omit')\n",
    "\n",
    "print(ptnl)\n",
    "print(tstatnl)\n",
    "astatsnl = Fig1stats.subplot(348)\n",
    "astatsnl.text(0.1, 0.7, 'Non-Learners')\n",
    "astatsnl.text(0.1, 0.6, 'un-paired one-way t-test days -2/-1 to days 1/2', fontdict=None)\n",
    "astatsnl.text(0.1, 0.5, f'p={ptnl/2:0.3g}')\n",
    "astatsnl.text(0.1, 0.4, f'tstat={tstatnl:0.3g}')\n",
    "astatsnl.axis('off')"
   ]
  },
  {
   "cell_type": "code",
   "execution_count": 17,
   "id": "6e4addab",
   "metadata": {},
   "outputs": [],
   "source": [
    "## Run stats - group of interests are Learners vs. ANI, other comparisons included for completeness.\n",
    "pval_bwgroup_1sidedt_specific = np.ones(6)*np.nan\n",
    "pval_ani_nl_1sidedt_specific = np.ones(6)*np.nan\n",
    "pval_lrn_nl_1sidedt_specific = np.ones(6)*np.nan\n",
    "pval_bwgroup_1sidedt_shockonly = np.ones(6)*np.nan # bw lrn and ani directly, no accounting for specificity\n",
    "for id in range(0, 6):\n",
    "    \n",
    "    # ANI vs Learners\n",
    "    stats, pval = s.ttest_ind(fratio_ani[1, id, :].reshape(-1) - fratio_ani[0, id, :].reshape(-1),\n",
    "                              fratio_lrn[1, id, :].reshape(-1) - fratio_lrn[0, id, :].reshape(-1),\n",
    "                              nan_policy='omit')\n",
    "    \n",
    "    # ANI vs Non-Learners\n",
    "    stats_nla, pval_nla = s.ttest_ind(fratio_ani[1, id, :].reshape(-1) - fratio_ani[0, id, :].reshape(-1),\n",
    "                              fratio_nl[1, id, :].reshape(-1) - fratio_nl[0, id, :].reshape(-1),\n",
    "                              nan_policy='omit')\n",
    "    \n",
    "    # Learners vs Non-Learners\n",
    "    stats_lrnnl, pval_lrnnl = s.ttest_ind(fratio_nl[1, id, :].reshape(-1) - fratio_nl[0, id, :].reshape(-1),\n",
    "                              fratio_lrn[1, id, :].reshape(-1) - fratio_lrn[0, id, :].reshape(-1),\n",
    "                              nan_policy='omit')\n",
    "    \n",
    "\n",
    "    statss, pvals = s.ttest_ind(fratio_ani[1, id, :], fratio_lrn[1, id, :], nan_policy='omit')\n",
    "    pval_bwgroup_1sidedt_shockonly[id] = pvals/2\n",
    "\n",
    "    # Hypothesis is that ani freezing is less than control guys relative to neutral arena\n",
    "    # So if ani guys mean freezing relative to shock is < 0 (i.e. if stats < 0), divide the pvalue by 2\n",
    "    # If it's actually larger, then test fails and p = 1-pval/2\n",
    "    if stats < 0:\n",
    "        pval_bwgroup_1sidedt_specific[id] = pval/2\n",
    "    elif stats > 0:\n",
    "        pval_bwgroup_1sidedt_specific[id] = 1 - pval/2\n",
    "        \n",
    "    if stats_nla < 0:\n",
    "        pval_ani_nl_1sidedt_specific[id] = pval_nla/2\n",
    "    elif stats_nla > 0:\n",
    "        pval_ani_nl_1sidedt_specific[id] = 1 - pval_nla/2\n",
    "       \n",
    "    if stats_lrnnl < 0:\n",
    "        pval_lrn_nl_1sidedt_specific [id] = pval_lrnnl/2\n",
    "    elif stats_lrnnl > 0:\n",
    "        pval_lrn_nl_1sidedt_specific [id] = 1 - pval_lrnnl/2\n"
   ]
  },
  {
   "cell_type": "code",
   "execution_count": 18,
   "id": "a7c837bc",
   "metadata": {},
   "outputs": [
    {
     "data": {
      "text/plain": [
       "Text(0.1, 0.2, \"['-2: p=0.894', '-1: p=0.747', '4: p=0.22', '1: p=0.00391', '2: p=0.0267', '7: p=0.657']\")"
      ]
     },
     "execution_count": 18,
     "metadata": {},
     "output_type": "execute_result"
    }
   ],
   "source": [
    "# Add between group stats to stats figure\n",
    "abw_grp_stats = Fig1stats.subplot(Fig1stats.gs[0, 0:2])\n",
    "days = [-2, -1, 4, 1, 2, 7]\n",
    "abw_grp_stats.text(0.1, 0.8, '1-sided t-test bw groups')\n",
    "abw_grp_stats.text(0.1, 0.7, 'Learners v ANI shock arena only')\n",
    "abw_grp_stats.text(0.1, 0.6, [f'{day}: p={p:0.3g}' for day, p in zip(days, pval_bwgroup_1sidedt_shockonly)])\n",
    "\n",
    "abw_grp_stats.text(0.1, 0.5, 'ANI vs Non-learners shock-open freezing')\n",
    "abw_grp_stats.text(0.1, 0.4, [f'{day}: p={p:0.3g}' for day, p in zip(days, pval_ani_nl_1sidedt_specific)])\n",
    "\n",
    "abw_grp_stats.text(0.1, 0.3, 'Non-Learners vs. Learners')\n",
    "abw_grp_stats.text(0.1, 0.2, [f'{day}: p={p:0.3g}' for day, p in zip(days, pval_lrn_nl_1sidedt_specific)])"
   ]
  },
  {
   "cell_type": "markdown",
   "id": "b8df2f8d",
   "metadata": {},
   "source": [
    "## DI ratio plots by group"
   ]
  },
  {
   "cell_type": "code",
   "execution_count": 19,
   "id": "8b53b623",
   "metadata": {
    "scrolled": true
   },
   "outputs": [],
   "source": [
    "# Calculate DI ratio for all groups\n",
    "DI_lrn = (fratio_lrn[0] - fratio_lrn[1])/(fratio_lrn[0] + fratio_lrn[1])\n",
    "DI_nl = (fratio_nl[0] - fratio_nl[1])/(fratio_nl[0] + fratio_nl[1])\n",
    "DI_a = (fratio_ani[0] - fratio_ani[1])/(fratio_ani[0] + fratio_ani[1])\n",
    "\n",
    "# Dump into nice dataframe\n",
    "DI_all = []\n",
    "days_all = []\n",
    "grp_all = []\n",
    "for DI, grp in zip([DI_lrn, DI_nl, DI_a], ['Learners', 'Non-Learners', 'ANI']):\n",
    "    DI_all.extend(DI.reshape(-1))\n",
    "    grp_all.extend([grp for _ in DI.reshape(-1)])\n",
    "    days_all.extend(np.matlib.repmat(days, DI.shape[1], 1).T.reshape(-1))\n",
    "\n",
    "DIdf = pd.DataFrame({'DI': DI_all, 'Day': days_all, 'Group': grp_all})"
   ]
  },
  {
   "cell_type": "markdown",
   "id": "efcfbf53",
   "metadata": {},
   "source": [
    "## NRK todo: make this a nice plot with Set2 colors and dump into the above figure.\n",
    "Then dump in overlap ratios `pfs.get_overlap` and plot out same plot but for neural discrimination before (here) and after (here or supplemental) along with DIbeh vs. overlap and DIbeh vs DIneural"
   ]
  },
  {
   "cell_type": "markdown",
   "id": "deb54e20",
   "metadata": {},
   "source": [
    "Make behavioral breakdown plots showing DI is different between Learners and Non-Learners/ANI"
   ]
  },
  {
   "cell_type": "code",
   "execution_count": 20,
   "id": "bc82eac5",
   "metadata": {},
   "outputs": [
    {
     "data": {
      "text/plain": [
       "Text(0, 0.5, '$DI_{beh}$')"
      ]
     },
     "execution_count": 20,
     "metadata": {},
     "output_type": "execute_result"
    }
   ],
   "source": [
    "axDIaft = Fig1.subplot(346)\n",
    "DIaft = DIdf[((DIdf['Day'] == 1) | (DIdf['Day'] == 2))]\n",
    "sns.stripplot(x='Group', y='DI', data=DIaft, ax=axDIaft, cmap='Set2', size=3)\n",
    "fix_xticks(axDIaft, ['Learners', 'Non-Learners', 'ANI'])\n",
    "axDIaft.set_title('After: Days 1 and 2')\n",
    "axDIaft.set_ylabel('$DI_{beh}$')"
   ]
  },
  {
   "cell_type": "markdown",
   "id": "0e2bd8d7",
   "metadata": {},
   "source": [
    "Run stats on this plot"
   ]
  },
  {
   "cell_type": "code",
   "execution_count": 21,
   "id": "fe7ece85",
   "metadata": {},
   "outputs": [],
   "source": [
    "tstat_aft_ln, p_aft_ln = s.ttest_ind(DIaft[DIaft.Group == 'Learners'].DI, DIaft[DIaft.Group == 'Non-Learners'].DI)\n",
    "tstat_aft_la, p_aft_la = s.ttest_ind(DIaft[DIaft.Group == 'Learners'].DI, DIaft[DIaft.Group == 'ANI'].DI)\n",
    "tstat_aft_na, p_aft_na = s.ttest_ind(DIaft[DIaft.Group == 'Non-Learners'].DI, DIaft[DIaft.Group == 'ANI'].DI)\n",
    "\n",
    "axDIaft_stats = Fig1stats.subplot(346)\n",
    "groups = ['L v NL', 'L v ANI', 'NL v ANI']\n",
    "axDIaft_stats.text(0.1, 0.7, '1-sided t-test DIbehavior bw groups days 1 and 2')\n",
    "ytext = 0.6\n",
    "for grp, tstat, p in zip(groups, [tstat_aft_ln, tstat_aft_la, tstat_aft_na], [p_aft_ln, p_aft_la, p_aft_na]):\n",
    "    puse = p/2 if tstat < 0 else 1 - p/2\n",
    "    axDIaft_stats.text(0.1, ytext, f'{grp}: p={puse:0.3g} w/tstat={tstat:0.3g}')\n",
    "    ytext -= 0.1"
   ]
  },
  {
   "cell_type": "markdown",
   "id": "f292b624",
   "metadata": {},
   "source": [
    "Get cell overlap between arenas for each day and dump into DI dataframe."
   ]
  },
  {
   "cell_type": "code",
   "execution_count": 22,
   "id": "d9bc4735",
   "metadata": {},
   "outputs": [
    {
     "name": "stdout",
     "output_type": "stream",
     "text": [
      "placefields_cm1_manlims_1000shuf.pkl not found, loading FinalOutput.mat which is slow\n"
     ]
    }
   ],
   "source": [
    "days = [-2, -1, 4, 1, 2, 7]\n",
    "mice_grp = [err.learners, err.nonlearners, err.ani_mice_good]\n",
    "overlaps_all = []\n",
    "for mice in mice_grp:\n",
    "    grp_overlaps = []\n",
    "    for mouse in mice:\n",
    "        mouse_overlaps = []\n",
    "        for day in days:\n",
    "            _, _, overlap, _, _ = pfs.get_overlap(mouse, 'Shock', day, 'Open', day)\n",
    "            mouse_overlaps.append(overlap)\n",
    "        grp_overlaps.append(mouse_overlaps)\n",
    "    overlaps_all.append(np.asarray(grp_overlaps).T)\n",
    "\n",
    "# Now build up in same way as above for consistency\n",
    "olap_list = []\n",
    "for olap, grp in zip(overlaps_all, ['Learners', 'Non-Learners', 'ANI']):\n",
    "    olap_list.extend(olap.reshape(-1))\n",
    "DIdf.insert(2, 'Cell Overlap', olap_list)"
   ]
  },
  {
   "cell_type": "code",
   "execution_count": 23,
   "id": "db8b0fbf",
   "metadata": {},
   "outputs": [],
   "source": [
    "# Calculate neural discrimination index\n",
    "\n",
    "days = [-2, -1, 4, 1, 2, 7]\n",
    "mice_grp = [err.learners, err.nonlearners, err.ani_mice_good]\n",
    "discr_all = []\n",
    "for mice in mice_grp:\n",
    "    grp_discr = []\n",
    "    for mouse in mice:\n",
    "        mouse_discr = []\n",
    "        for day in days:\n",
    "            DIneurons = discr.get_DI_scores(mouse, 'Open', day, 'Shock', day)\n",
    "            mouse_discr.append(np.mean(np.abs(DIneurons)))\n",
    "        grp_discr.append(mouse_discr)\n",
    "    discr_all.append(np.asarray(grp_discr).T)\n",
    "\n",
    "# Now build up in same way as above for consistency\n",
    "DImean_list = []\n",
    "for DImean, grp in zip(discr_all, ['Learners', 'Non-Learners', 'ANI']):\n",
    "    DImean_list.extend(DImean.reshape(-1))\n",
    "DIdf.insert(3, '|DI|mean', DImean_list)"
   ]
  },
  {
   "cell_type": "code",
   "execution_count": 24,
   "id": "ab706cd7",
   "metadata": {},
   "outputs": [
    {
     "data": {
      "text/html": [
       "<div>\n",
       "<style scoped>\n",
       "    .dataframe tbody tr th:only-of-type {\n",
       "        vertical-align: middle;\n",
       "    }\n",
       "\n",
       "    .dataframe tbody tr th {\n",
       "        vertical-align: top;\n",
       "    }\n",
       "\n",
       "    .dataframe thead th {\n",
       "        text-align: right;\n",
       "    }\n",
       "</style>\n",
       "<table border=\"1\" class=\"dataframe\">\n",
       "  <thead>\n",
       "    <tr style=\"text-align: right;\">\n",
       "      <th></th>\n",
       "      <th>DI</th>\n",
       "      <th>Day</th>\n",
       "      <th>Cell Overlap</th>\n",
       "      <th>|DI|mean</th>\n",
       "      <th>Group</th>\n",
       "    </tr>\n",
       "  </thead>\n",
       "  <tbody>\n",
       "    <tr>\n",
       "      <th>0</th>\n",
       "      <td>0.136270</td>\n",
       "      <td>-2</td>\n",
       "      <td>0.413377</td>\n",
       "      <td>0.379145</td>\n",
       "      <td>Learners</td>\n",
       "    </tr>\n",
       "    <tr>\n",
       "      <th>1</th>\n",
       "      <td>-0.433829</td>\n",
       "      <td>-2</td>\n",
       "      <td>0.386935</td>\n",
       "      <td>0.333681</td>\n",
       "      <td>Learners</td>\n",
       "    </tr>\n",
       "    <tr>\n",
       "      <th>2</th>\n",
       "      <td>-0.207305</td>\n",
       "      <td>-2</td>\n",
       "      <td>0.267769</td>\n",
       "      <td>0.438071</td>\n",
       "      <td>Learners</td>\n",
       "    </tr>\n",
       "    <tr>\n",
       "      <th>3</th>\n",
       "      <td>-0.206123</td>\n",
       "      <td>-2</td>\n",
       "      <td>0.517056</td>\n",
       "      <td>0.319441</td>\n",
       "      <td>Learners</td>\n",
       "    </tr>\n",
       "    <tr>\n",
       "      <th>4</th>\n",
       "      <td>-0.180234</td>\n",
       "      <td>-1</td>\n",
       "      <td>0.377252</td>\n",
       "      <td>0.376256</td>\n",
       "      <td>Learners</td>\n",
       "    </tr>\n",
       "    <tr>\n",
       "      <th>...</th>\n",
       "      <td>...</td>\n",
       "      <td>...</td>\n",
       "      <td>...</td>\n",
       "      <td>...</td>\n",
       "      <td>...</td>\n",
       "    </tr>\n",
       "    <tr>\n",
       "      <th>67</th>\n",
       "      <td>-0.372626</td>\n",
       "      <td>7</td>\n",
       "      <td>0.192623</td>\n",
       "      <td>0.314473</td>\n",
       "      <td>ANI</td>\n",
       "    </tr>\n",
       "    <tr>\n",
       "      <th>68</th>\n",
       "      <td>0.046989</td>\n",
       "      <td>7</td>\n",
       "      <td>0.209486</td>\n",
       "      <td>0.362588</td>\n",
       "      <td>ANI</td>\n",
       "    </tr>\n",
       "    <tr>\n",
       "      <th>69</th>\n",
       "      <td>-0.156865</td>\n",
       "      <td>7</td>\n",
       "      <td>0.320000</td>\n",
       "      <td>0.340411</td>\n",
       "      <td>ANI</td>\n",
       "    </tr>\n",
       "    <tr>\n",
       "      <th>70</th>\n",
       "      <td>-0.279648</td>\n",
       "      <td>7</td>\n",
       "      <td>0.294922</td>\n",
       "      <td>0.391373</td>\n",
       "      <td>ANI</td>\n",
       "    </tr>\n",
       "    <tr>\n",
       "      <th>71</th>\n",
       "      <td>-0.298026</td>\n",
       "      <td>7</td>\n",
       "      <td>0.332707</td>\n",
       "      <td>0.314768</td>\n",
       "      <td>ANI</td>\n",
       "    </tr>\n",
       "  </tbody>\n",
       "</table>\n",
       "<p>72 rows × 5 columns</p>\n",
       "</div>"
      ],
      "text/plain": [
       "          DI  Day  Cell Overlap  |DI|mean     Group\n",
       "0   0.136270   -2      0.413377  0.379145  Learners\n",
       "1  -0.433829   -2      0.386935  0.333681  Learners\n",
       "2  -0.207305   -2      0.267769  0.438071  Learners\n",
       "3  -0.206123   -2      0.517056  0.319441  Learners\n",
       "4  -0.180234   -1      0.377252  0.376256  Learners\n",
       "..       ...  ...           ...       ...       ...\n",
       "67 -0.372626    7      0.192623  0.314473       ANI\n",
       "68  0.046989    7      0.209486  0.362588       ANI\n",
       "69 -0.156865    7      0.320000  0.340411       ANI\n",
       "70 -0.279648    7      0.294922  0.391373       ANI\n",
       "71 -0.298026    7      0.332707  0.314768       ANI\n",
       "\n",
       "[72 rows x 5 columns]"
      ]
     },
     "execution_count": 24,
     "metadata": {},
     "output_type": "execute_result"
    }
   ],
   "source": [
    "DIdf"
   ]
  },
  {
   "cell_type": "markdown",
   "id": "e6d0cc8e",
   "metadata": {},
   "source": [
    "Plot DIneuron by group BEFORE shock"
   ]
  },
  {
   "cell_type": "code",
   "execution_count": 25,
   "id": "b251393d",
   "metadata": {
    "scrolled": false
   },
   "outputs": [
    {
     "data": {
      "text/plain": [
       "Text(0, 0.5, '$\\\\overline{|DI_{neural}|}$')"
      ]
     },
     "execution_count": 25,
     "metadata": {},
     "output_type": "execute_result"
    }
   ],
   "source": [
    "axDIbef = Fig1.subplot(Fig1.gs[2, 1])\n",
    "DIbef = DIdf[((DIdf['Day'] == -2) | (DIdf['Day'] == -1))]\n",
    "sns.stripplot(x='Group', y='|DI|mean', data=DIbef, ax=axDIbef, palette='Set2', size=3)\n",
    "fix_xticks(axDIbef,['Learners', 'Non-Learners', 'ANI'])\n",
    "axDIbef.set_title('Before: Days -2 and -1')\n",
    "axDIbef.set_ylabel(r\"$\\overline{|DI_{neural}|}$\")"
   ]
  },
  {
   "cell_type": "code",
   "execution_count": 26,
   "id": "8d81deaf",
   "metadata": {},
   "outputs": [
    {
     "name": "stdout",
     "output_type": "stream",
     "text": [
      "0.03011891596549444\n",
      "0.05890575797380454\n",
      "0.2933162083583539\n"
     ]
    }
   ],
   "source": [
    "axDIbef_stats = Fig1stats.subplot(Fig1stats.gs[2, 1])\n",
    "statb_ln, pb_ln = s.ttest_ind(DIbef[DIbef.Group == 'Non-Learners']['|DI|mean'], \n",
    "                              DIbef[DIbef.Group == 'Learners']['|DI|mean'])\n",
    "statb_an, pb_an = s.ttest_ind(DIbef[DIbef.Group == 'ANI']['|DI|mean'], \n",
    "                              DIbef[DIbef.Group == 'Non-Learners']['|DI|mean'])\n",
    "statb_la, pb_la = s.ttest_ind(DIbef[DIbef.Group == 'ANI']['|DI|mean'],\n",
    "                              DIbef[DIbef.Group == 'Learners']['|DI|mean'])\n",
    "\n",
    "axDIbef_stats.text(0.1, 0.8, 'two-sided t-test abs(DIneural)_mean BEFORE shock days')\n",
    "axDIbef_stats.text(0.1, 0.7, f'NL vs. L p={pb_ln:0.3g} w/tstat={statb_ln:0.3g}')\n",
    "axDIbef_stats.text(0.1, 0.6, f'NL vs. ANI p={pb_an:0.3g} w/tstat={statb_an:0.3g}')\n",
    "axDIbef_stats.text(0.1, 0.5, f'ANI vs. L p={pb_la:0.3g} w/tstat={statb_la:0.3g}')\n",
    "print(pb_ln)\n",
    "print(pb_an)\n",
    "print(pb_la)"
   ]
  },
  {
   "cell_type": "markdown",
   "id": "fbaab7b0",
   "metadata": {},
   "source": [
    "## NRK todo: \n",
    "dump this and plot above into figure, plot lines over the below, dump stats into stats fig, then move onto same with on/off cells"
   ]
  },
  {
   "cell_type": "code",
   "execution_count": 27,
   "id": "bcabd350",
   "metadata": {
    "scrolled": false
   },
   "outputs": [
    {
     "data": {
      "text/plain": [
       "Text(0, 0.5, '$\\\\overline{|DI_{neural}|}$')"
      ]
     },
     "execution_count": 27,
     "metadata": {},
     "output_type": "execute_result"
    }
   ],
   "source": [
    "axDIvDI = Fig1.subplot(Fig1.gs[2, 2])\n",
    "DIaft = DIdf[((DIdf['Day'] == 1) | (DIdf['Day'] == 2) | (DIdf['Day'] == 7))]\n",
    "sns.scatterplot(x='DI', y='|DI|mean', data=DIaft[DIaft.Group != 'ANI'], hue='Group', ax=axDIvDI,\n",
    "                size=3, palette='Set2', legend=False)\n",
    "axDIvDI.set_xlabel(r\"$DI_{beh}$\")\n",
    "axDIvDI.set_ylabel(r\"$\\overline{|DI_{neural}|}$\")"
   ]
  },
  {
   "cell_type": "markdown",
   "id": "953a75cb",
   "metadata": {},
   "source": [
    "Get Stats and plot regression lines over actual plot"
   ]
  },
  {
   "cell_type": "code",
   "execution_count": 28,
   "id": "712723af",
   "metadata": {},
   "outputs": [
    {
     "name": "stdout",
     "output_type": "stream",
     "text": [
      "0.05858947538856762\n",
      "0.8665262706759089\n"
     ]
    }
   ],
   "source": [
    "axDIvDIstats = Fig1stats.subplot(Fig1stats.gs[2, 2])\n",
    "cmap_use = plt.get_cmap('Set2')\n",
    "\n",
    "# Learners\n",
    "corr_lrn, p_corr_lrn = s.spearmanr(DIaft[DIaft.Group == 'Learners']['DI'], \n",
    "                                   DIaft[DIaft.Group == 'Learners']['|DI|mean'])\n",
    "lrn_lreg = s.linregress(DIaft[DIaft.Group == 'Learners']['DI'], DIaft[DIaft.Group == 'Learners']['|DI|mean'])\n",
    "lrn_range = np.array([np.min(DIaft[DIaft.Group == 'Learners']['DI']), \n",
    "                      np.max(DIaft[DIaft.Group == 'Learners']['DI'])])\n",
    "axDIvDI.plot(lrn_range, lrn_range*lrn_lreg.slope + lrn_lreg.intercept, linestyle='-', color=cmap_use.colors[0])\n",
    "axDIvDIstats.text(0.1, 0.7, 'Spearman rho for DIneural vs DIbeh')\n",
    "axDIvDIstats.text(0.1, 0.6, f'Learners rho={corr_lrn:0.3g}, pval={p_corr_lrn:0.3g}')\n",
    "\n",
    "# Non-Learners             \n",
    "corr_nl, p_corr_nl = s.spearmanr(DIaft[DIaft.Group == 'Non-Learners']['DI'], \n",
    "                                   DIaft[DIaft.Group == 'Non-Learners']['|DI|mean'], nan_policy='omit')\n",
    "df_aftnl = DIaft[DIaft.Group == 'Non-Learners'][~DIaft[DIaft.Group == 'Non-Learners']['DI'].isna()]  # Remove nan\n",
    "nl_lreg = s.linregress(df_aftnl['DI'], df_aftnl['|DI|mean'])\n",
    "nl_range = np.array([np.min(df_aftnl['DI']), np.max(df_aftnl['DI'])])\n",
    "axDIvDI.plot(nl_range, nl_range*nl_lreg.slope + nl_lreg.intercept, linestyle='-', color=cmap_use.colors[1])\n",
    "axDIvDIstats.text(0.1, 0.5, f'Non-Learners rho={corr_nl:0.3g}, pval={p_corr_nl:0.3g}')\n",
    "\n",
    "print(p_corr_lrn)\n",
    "print(p_corr_nl)"
   ]
  },
  {
   "cell_type": "code",
   "execution_count": 29,
   "id": "0bf3efaf",
   "metadata": {
    "scrolled": false
   },
   "outputs": [
    {
     "data": {
      "text/plain": [
       "Text(0, 0.5, 'Overlap Ratio b/w arenas')"
      ]
     },
     "execution_count": 29,
     "metadata": {},
     "output_type": "execute_result"
    }
   ],
   "source": [
    "axolapvDI = Fig1.subplot(Fig1.gs[2, 3])\n",
    "DIaft = DIdf[((DIdf['Day'] == 1) | (DIdf['Day'] == 2) | (DIdf['Day'] == 7))]\n",
    "sns.scatterplot(x='DI', y='Cell Overlap', data=DIaft[DIaft.Group != 'ANI'], hue='Group', ax=axolapvDI, \n",
    "                palette='Set2', size=3, legend=False)\n",
    "axolapvDI.set_xlabel(r\"$DI_{beh}$\")\n",
    "axolapvDI.set_ylabel(\"Overlap Ratio b/w arenas\")"
   ]
  },
  {
   "cell_type": "code",
   "execution_count": 30,
   "id": "5eaacee9",
   "metadata": {
    "scrolled": true
   },
   "outputs": [
    {
     "name": "stdout",
     "output_type": "stream",
     "text": [
      "0.6153846153846154\n",
      "0.03316990109010587\n",
      "-0.2142857142857143\n",
      "0.6103444156452669\n"
     ]
    }
   ],
   "source": [
    "# Stats for overlap v DI\n",
    "axolapvDIstats = Fig1stats.subplot(Fig1stats.gs[2, 3])\n",
    "\n",
    "# Learners\n",
    "olap_corr_lrn, p_olap_corr_lrn = s.spearmanr(DIaft[DIaft.Group == 'Learners']['DI'], \n",
    "                                   DIaft[DIaft.Group == 'Learners']['Cell Overlap'])\n",
    "lrn_olap_lreg = s.linregress(DIaft[DIaft.Group == 'Learners']['DI'], DIaft[DIaft.Group == 'Learners']['Cell Overlap'])\n",
    "lrn_olap_range = np.array([np.min(DIaft[DIaft.Group == 'Learners']['DI']), \n",
    "                      np.max(DIaft[DIaft.Group == 'Learners']['DI'])])\n",
    "axolapvDI.plot(lrn_olap_range, lrn_olap_range*lrn_olap_lreg.slope + lrn_olap_lreg.intercept, \n",
    "               linestyle='-', color=cmap_use.colors[0])\n",
    "axolapvDIstats.text(0.1, 0.7, 'Spearman rho for olap vs DIbeh')\n",
    "axolapvDIstats.text(0.1, 0.6, f'Learners rho={olap_corr_lrn:0.3g}, pval={p_olap_corr_lrn:0.3g}')\n",
    "\n",
    "# Non-Learners\n",
    "df_aftnl = DIaft[DIaft.Group == 'Non-Learners'][~DIaft[DIaft.Group == 'Non-Learners']['DI'].isna()]  # Remove nan\n",
    "olap_corr_nl, p_olap_corr_nl = s.spearmanr(df_aftnl['DI'], df_aftnl['Cell Overlap'], nan_policy='omit')\n",
    "nl_olap_lreg = s.linregress(df_aftnl['DI'], df_aftnl['Cell Overlap'])\n",
    "nl_olap_range = np.array([np.min(df_aftnl['DI']), np.max(df_aftnl['DI'])])\n",
    "axolapvDI.plot(nl_olap_range, nl_olap_range*nl_olap_lreg.slope + nl_olap_lreg.intercept, \n",
    "               linestyle='-', color=cmap_use.colors[1])\n",
    "axolapvDIstats.text(0.1, 0.5, f'Non-Learners rho={olap_corr_nl:0.3g}, pval={p_olap_corr_nl:0.3g}')\n",
    "\n",
    "print(olap_corr_lrn)\n",
    "print(p_olap_corr_lrn)\n",
    "print(olap_corr_nl)\n",
    "print(p_olap_corr_nl)"
   ]
  },
  {
   "cell_type": "markdown",
   "id": "40835a7d",
   "metadata": {},
   "source": [
    "Finally generate some example traces of on/off neurons and highly discriminative neurons"
   ]
  },
  {
   "cell_type": "code",
   "execution_count": 31,
   "id": "542c8ee2",
   "metadata": {},
   "outputs": [],
   "source": [
    "import scipy.io as sio\n",
    "traces = []\n",
    "for arena in ['Open', 'Shock']:\n",
    "    dir_use = pf.get_dir('Marble11', arena, -1)\n",
    "    im_data_file = path.join(dir_use, 'FinalOutput.mat')\n",
    "    im_data = sio.loadmat(im_data_file)\n",
    "    traces.append(im_data['NeuronTraces'])\n",
    "\n",
    "traces_o = traces[0][0,0].squeeze()[0]\n",
    "traces_s = traces[1][0,0].squeeze()[0]"
   ]
  },
  {
   "cell_type": "code",
   "execution_count": 32,
   "id": "43a63dd7",
   "metadata": {},
   "outputs": [
    {
     "ename": "NameError",
     "evalue": "name 'neuron_map_base' is not defined",
     "output_type": "error",
     "traceback": [
      "\u001b[0;31m---------------------------------------------------------------------------\u001b[0m",
      "\u001b[0;31mNameError\u001b[0m                                 Traceback (most recent call last)",
      "\u001b[0;32m/var/folders/7g/v7xwy2z52hxcjg7pfsxbb8zc0000gn/T/ipykernel_21690/2557586136.py\u001b[0m in \u001b[0;36m<module>\u001b[0;34m\u001b[0m\n\u001b[0;32m----> 1\u001b[0;31m \u001b[0mtraces_o2\u001b[0m \u001b[0;34m=\u001b[0m \u001b[0mtraces_o\u001b[0m\u001b[0;34m[\u001b[0m\u001b[0mneuron_map_base\u001b[0m\u001b[0;34m]\u001b[0m\u001b[0;34m\u001b[0m\u001b[0;34m\u001b[0m\u001b[0m\n\u001b[0m\u001b[1;32m      2\u001b[0m \u001b[0mtraces_s2\u001b[0m \u001b[0;34m=\u001b[0m \u001b[0mtraces_s\u001b[0m\u001b[0;34m[\u001b[0m\u001b[0mneuron_map_reg\u001b[0m\u001b[0;34m]\u001b[0m\u001b[0;34m\u001b[0m\u001b[0;34m\u001b[0m\u001b[0m\n",
      "\u001b[0;31mNameError\u001b[0m: name 'neuron_map_base' is not defined"
     ]
    }
   ],
   "source": [
    "traces_o2 = traces_o[neuron_map_base]\n",
    "traces_s2 = traces_s[neuron_map_reg]"
   ]
  },
  {
   "cell_type": "code",
   "execution_count": null,
   "id": "cc44e9d0",
   "metadata": {},
   "outputs": [],
   "source": [
    "_, axtest = plt.subplots(2, 2)\n",
    "axtest[0, 0].plot(traces_o2[iDI][-3])\n",
    "axtest[0, 1].plot(traces_s2[iDI][-3])\n",
    "# sns.heatmap(traces_o2[iDI][0:5], ax=axtest[0, 0])\n",
    "# sns.heatmap(traces_s2[iDI][0:5], ax=axtest[0, 1])"
   ]
  },
  {
   "cell_type": "code",
   "execution_count": null,
   "id": "28ee4eec",
   "metadata": {},
   "outputs": [],
   "source": [
    "_, axtest = plt.subplots(1, 2)\n",
    "day = -1\n",
    "PFo = pf.load_pf('Marble11', 'Open', day)\n",
    "PFs = pf.load_pf('Marble11', 'Shock', day)\n",
    "neuron_map = pfs.get_neuronmap('Marble11', 'Open', day, 'Shock', day)\n",
    "\n",
    "# Keep only neurons active in both sessions\n",
    "neuron_map_base = np.where(neuron_map >= 0)\n",
    "neuron_map_reg = neuron_map[neuron_map >= 0]\n",
    "PSAo = PFo.PSAbool_align[neuron_map_base]\n",
    "PSAs = PFs.PSAbool_align[neuron_map_reg]\n",
    "traces_o2 = traces_o[neuron_map_base]\n",
    "traces_s2 = traces_s[neuron_map_reg]\n",
    "\n",
    "# Calculate and sort by DI\n",
    "DIneuron = discr.get_DI_scores('Marble11', 'Open', day, 'Shock', day)\n",
    "iDI = np.argsort(DIneuron)\n",
    "\n",
    "# Plot each\n",
    "sns.heatmap(PSAo[iDI], ax=axtest[0])\n",
    "sns.heatmap(PSAs[iDI], ax=axtest[1])"
   ]
  },
  {
   "cell_type": "code",
   "execution_count": null,
   "id": "07635cbf",
   "metadata": {},
   "outputs": [],
   "source": [
    "Fig1.savefig(Path('/Users/nkinsky/Documents/BU/Working/Eraser/plots/Fig1'), scriptname='Figure1Notebook')"
   ]
  },
  {
   "cell_type": "code",
   "execution_count": null,
   "id": "72b7b34e",
   "metadata": {},
   "outputs": [],
   "source": [
    "Fig1stats.savefig(Path('/Users/nkinsky/Documents/BU/Working/Eraser/plots/Fig1stats'), scriptname='Figure1Notebook')"
   ]
  }
 ],
 "metadata": {
  "kernelspec": {
   "display_name": "Python 3 (ipykernel)",
   "language": "python",
   "name": "python3"
  },
  "language_info": {
   "codemirror_mode": {
    "name": "ipython",
    "version": 3
   },
   "file_extension": ".py",
   "mimetype": "text/x-python",
   "name": "python",
   "nbconvert_exporter": "python",
   "pygments_lexer": "ipython3",
   "version": "3.9.5"
  }
 },
 "nbformat": 4,
 "nbformat_minor": 5
}
