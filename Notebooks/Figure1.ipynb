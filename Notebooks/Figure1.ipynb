{
 "cells": [
  {
   "cell_type": "markdown",
   "id": "26447599",
   "metadata": {},
   "source": [
    "# Figure 1: Behavior and Neural Discrimination plots"
   ]
  },
  {
   "cell_type": "code",
   "execution_count": 1,
   "id": "7a85d08d",
   "metadata": {},
   "outputs": [],
   "source": [
    "import scipy.stats as s\n",
    "import numpy as np\n",
    "import matplotlib.pyplot as plt\n",
    "from os import path\n",
    "import seaborn as sns\n",
    "import pandas as pd\n",
    "\n",
    "# Import project specific modules and enable automatic reloading\n",
    "import sys\n",
    "from pathlib import Path\n",
    "import os\n",
    "eraser_path = Path(os.getcwd()).parent\n",
    "reinstatement_path = eraser_path.parent / 'FearReinstatement'\n",
    "sys.path.append(str(eraser_path))\n",
    "sys.path.append(str(reinstatement_path))\n",
    "%load_ext autoreload\n",
    "%autoreload 2\n",
    "\n",
    "import eraser_reference as err\n",
    "import er_plot_functions as er\n",
    "from plotting import Fig, pretty_plot\n",
    "import placefield_stability as pfs\n",
    "import discrimination as discr"
   ]
  },
  {
   "cell_type": "code",
   "execution_count": 2,
   "id": "80935fe5",
   "metadata": {},
   "outputs": [],
   "source": [
    "# Fix for only certain xticks appearing...\n",
    "def fix_xticks(ax, days_plot = [-2, -1, 4, 1, 2, 7]):\n",
    "    days_str = [str(e) for e in days_plot]\n",
    "    plt.sca(ax)\n",
    "    plt.xticks(list(range(len(days_plot))), days_str)\n"
   ]
  },
  {
   "cell_type": "code",
   "execution_count": 24,
   "id": "1c1e16f9",
   "metadata": {
    "scrolled": false
   },
   "outputs": [
    {
     "name": "stdout",
     "output_type": "stream",
     "text": [
      "[8.5  4.75]\n"
     ]
    },
    {
     "data": {
      "application/vnd.jupyter.widget-view+json": {
       "model_id": "03b0d779f532441a93e561130f81f28e",
       "version_major": 2,
       "version_minor": 0
      },
      "image/png": "[encoded data removed]",
      "text/html": [
       "\n",
       "            <div style=\"display: inline-block;\">\n",
       "                <div class=\"jupyter-widgets widget-label\" style=\"text-align: center;\">\n",
       "                    Figure\n",
       "                </div>\n",
       "                <img src='data:image/png;base64,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' width=850.0/>\n",
       "            </div>\n",
       "        "
      ],
      "text/plain": [
       "Canvas(toolbar=Toolbar(toolitems=[('Home', 'Reset original view', 'home', 'home'), ('Back', 'Back to previous …"
      ]
     },
     "metadata": {},
     "output_type": "display_data"
    }
   ],
   "source": [
    "# Set up main figure plotting\n",
    "%matplotlib ipympl\n",
    "Fig1 = Fig(num=1, grid=(3, 4), size=(8.5, 4.75), fontsize=6)\n",
    "print(Fig1.fig.get_size_inches())"
   ]
  },
  {
   "cell_type": "code",
   "execution_count": 4,
   "id": "0fe972ff",
   "metadata": {
    "scrolled": false
   },
   "outputs": [
    {
     "name": "stdout",
     "output_type": "stream",
     "text": [
      "[8.5  4.75]\n"
     ]
    },
    {
     "data": {
      "application/vnd.jupyter.widget-view+json": {
       "model_id": "6acf70f8b55240ed8385d9f4d7e3107f",
       "version_major": 2,
       "version_minor": 0
      },
      "image/png": "[encoded data removed]",
      "text/html": [
       "\n",
       "            <div style=\"display: inline-block;\">\n",
       "                <div class=\"jupyter-widgets widget-label\" style=\"text-align: center;\">\n",
       "                    Figure 1 stats\n",
       "                </div>\n",
       "                <img src='data:image/png;base64,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' width=850.0/>\n",
       "            </div>\n",
       "        "
      ],
      "text/plain": [
       "Canvas(toolbar=Toolbar(toolitems=[('Home', 'Reset original view', 'home', 'home'), ('Back', 'Back to previous …"
      ]
     },
     "metadata": {},
     "output_type": "display_data"
    }
   ],
   "source": [
    "# Set up main figure stats companion plot\n",
    "Fig1stats = Fig(num='Figure 1 stats', grid=(3, 4), size=(8.5, 4.75), fontsize=6)\n",
    "print(Fig1stats.fig.get_size_inches())"
   ]
  },
  {
   "cell_type": "code",
   "execution_count": 5,
   "id": "5bbd7949",
   "metadata": {},
   "outputs": [],
   "source": [
    "# Designate Placeholders\n",
    "aexp = Fig1.subplot(Fig1.gs[0, 0:2])\n",
    "aexp.set_title('Exp. Outline Here')\n",
    "aexp.axis('off')\n",
    "aehisto = Fig1.subplot(345)\n",
    "aehisto.set_title('Histology Here?')\n",
    "aehisto.axis('off')\n",
    "plt.draw()"
   ]
  },
  {
   "cell_type": "markdown",
   "id": "57f62198",
   "metadata": {},
   "source": [
    "## Start with behavioral plots"
   ]
  },
  {
   "cell_type": "code",
   "execution_count": 6,
   "id": "61e01fc3",
   "metadata": {
    "scrolled": true
   },
   "outputs": [
    {
     "name": "stdout",
     "output_type": "stream",
     "text": [
      "/Users/nkinsky/Documents/BU/Working/Eraser/Control Group/Marble6/20180421_1_openfield: nbadpts = 63 max_in_a_row = 38\n",
      "['Unknown file missing and/or IndexError for Marble06 Open 7']\n",
      "Freezing left as NaN for this session\n",
      "['Unknown file missing and/or IndexError for Marble06 Shock 7']\n",
      "Freezing left as NaN for this session\n",
      "['Unknown file missing and/or IndexError for Marble14 Open 4']\n",
      "Freezing left as NaN for this session\n",
      "['Unknown file missing and/or IndexError for Marble14 Open 1']\n",
      "Freezing left as NaN for this session\n",
      "['Unknown file missing and/or IndexError for Marble14 Open 2']\n",
      "Freezing left as NaN for this session\n",
      "['Unknown file missing and/or IndexError for Marble14 Open 7']\n",
      "Freezing left as NaN for this session\n",
      "/Users/nkinsky/Documents/BU/Working/Eraser/Control Group/Marble24/20181126_1_openfield: nbadpts = 18 max_in_a_row = 3\n",
      "/Users/nkinsky/Documents/BU/Working/Eraser/Control Group/Marble24/20181127_1_openfield: nbadpts = 10 max_in_a_row = 4\n"
     ]
    },
    {
     "data": {
      "text/plain": [
       "[Text(0, 0, ''),\n",
       " Text(1, 0, ''),\n",
       " Text(2, 0, ''),\n",
       " Text(3, 0, ''),\n",
       " Text(4, 0, ''),\n",
       " Text(5, 0, '')]"
      ]
     },
     "execution_count": 6,
     "metadata": {},
     "output_type": "execute_result"
    }
   ],
   "source": [
    "# Plot Control mice behavior\n",
    "axc = Fig1.subplot(343)\n",
    "figc, axc, fratio_cont = er.plot_all_freezing(err.control_mice_good, ax=axc, s=9, xoffset=0.1)\n",
    "axc.set_ylim([-0.025, 0.80])\n",
    "axc.set_title('Control')\n",
    "fix_xticks(axc)\n",
    "axc.set_xlabel('')\n",
    "axc.set_xticklabels('')"
   ]
  },
  {
   "cell_type": "code",
   "execution_count": 7,
   "id": "497f3eae",
   "metadata": {},
   "outputs": [
    {
     "name": "stdout",
     "output_type": "stream",
     "text": [
      "0.025104577549869396\n",
      "-2.046407579787083\n"
     ]
    },
    {
     "data": {
      "text/plain": [
       "(0.0, 1.0, 0.0, 1.0)"
      ]
     },
     "execution_count": 7,
     "metadata": {},
     "output_type": "execute_result"
    }
   ],
   "source": [
    "# Increase in arena-specific freezing from days -2/-1 to days 1/2 is significant for controls\n",
    "tstatc, ptc = s.ttest_ind((fratio_cont[1, 0:2, :] - fratio_cont[0, 0:2, :]).reshape(-1),\n",
    "                           (fratio_cont[1, 3:5, :] - fratio_cont[0, 3:5, :]).reshape(-1), nan_policy='omit')\n",
    "print(ptc/2)\n",
    "print(tstatc)\n",
    "\n",
    "astatsc = Fig1stats.subplot(343)\n",
    "astatsc.text(0.1, 0.7, 'Control Mice')\n",
    "astatsc.text(0.1, 0.6, 'un-paired one-way t-test days -2/-1 to days 1/2', fontdict=None)\n",
    "astatsc.text(0.1, 0.5, f'p={ptc/2:0.3g}')\n",
    "astatsc.text(0.1, 0.4, f'tstat={tstatc:0.3g}')\n",
    "astatsc.axis('off')"
   ]
  },
  {
   "cell_type": "code",
   "execution_count": 8,
   "id": "b3c6bbb4",
   "metadata": {},
   "outputs": [
    {
     "name": "stdout",
     "output_type": "stream",
     "text": [
      "/Users/nkinsky/Documents/BU/Working/Eraser/Anisomycin Group/Marble25/20181203_1_openfield: nbadpts = 9 max_in_a_row = 6\n"
     ]
    },
    {
     "data": {
      "text/plain": [
       "Text(0.5, 1.0, 'Anisomycin')"
      ]
     },
     "execution_count": 8,
     "metadata": {},
     "output_type": "execute_result"
    }
   ],
   "source": [
    "# Plot ANI mice behavior\n",
    "axa = Fig1.subplot(344)\n",
    "figa, axa, fratio_ani = er.plot_all_freezing(err.ani_mice_good, ax=axa, s=9, xoffset=0.1)\n",
    "axa.set_ylim([-0.025, 0.80])\n",
    "fix_xticks(axa)\n",
    "axa.set_xlabel('')\n",
    "axa.set_xticklabels('')\n",
    "axa.set_ylabel('')\n",
    "axa.set_title('Anisomycin')"
   ]
  },
  {
   "cell_type": "code",
   "execution_count": 9,
   "id": "adcc0305",
   "metadata": {
    "scrolled": true
   },
   "outputs": [
    {
     "name": "stdout",
     "output_type": "stream",
     "text": [
      "0.11178530200553738\n",
      "-1.2605402424159724\n"
     ]
    },
    {
     "data": {
      "text/plain": [
       "(0.0, 1.0, 0.0, 1.0)"
      ]
     },
     "execution_count": 9,
     "metadata": {},
     "output_type": "execute_result"
    }
   ],
   "source": [
    "# Non-significant increase in freezing for ANI mice from before to after (days -2/-1 to days 1/2)\n",
    "astatsa = Fig1stats.subplot(344)\n",
    "tstata, pta = s.ttest_ind((fratio_ani[1, 0:2, :] - fratio_ani[0, 0:2, :]).reshape(-1),\n",
    "                           (fratio_ani[1, 3:5, :] - fratio_ani[0, 3:5, :]).reshape(-1), nan_policy='omit')\n",
    "print(pta/2)\n",
    "print(tstata)\n",
    "\n",
    "astatsa.text(0.1, 0.7, 'ANI Mice')\n",
    "astatsa.text(0.1, 0.6, 'un-paired one-way t-test days -2/-1 to days 1/2', fontdict=None)\n",
    "astatsa.text(0.1, 0.5, f'p={pta/2:0.3g}')\n",
    "astatsa.text(0.1, 0.4, f'tstat={tstata:0.3g}')\n",
    "astatsa.axis('off')"
   ]
  },
  {
   "cell_type": "code",
   "execution_count": 10,
   "id": "bd61e5eb",
   "metadata": {},
   "outputs": [],
   "source": [
    "# Calculate Discrimination Index (DI) ratios for day 1-2\n",
    "learning_cutoff = -0.35\n",
    "\n",
    "# Controls\n",
    "DI_aft = ((fratio_cont[0, 3:5, :] - fratio_cont[1, 3:5, :]).reshape(-1))/((fratio_cont[0, 3:5, :] + \n",
    "                                                                           fratio_cont[1, 3:5, :]).reshape(-1))\n",
    "# ANI - not used due to this being a poor metric if animals don't freeze a lot, only good for specifying\n",
    "# how specific a memory is in mice that actually freeze.  See next block.\n",
    "DI_aft_ani = ((fratio_ani[0, 3:5, :] - fratio_ani[1, 3:5, :]).reshape(-1))/((fratio_ani[0, 3:5, :] + \n",
    "                                                                           fratio_ani[1, 3:5, :]).reshape(-1))"
   ]
  },
  {
   "cell_type": "code",
   "execution_count": 11,
   "id": "d53eb49e",
   "metadata": {},
   "outputs": [
    {
     "data": {
      "text/plain": [
       "array([-0.10379693, -0.39033887, -0.21642609, -0.59563518,         nan,\n",
       "       -0.71391564, -0.36638349, -0.06170731])"
      ]
     },
     "execution_count": 11,
     "metadata": {},
     "output_type": "execute_result"
    }
   ],
   "source": [
    "# Here are all the DIs for controls averaged across days 1 and 2 - note that this metric can distort things as \n",
    "# animal 3, for example, freezes very little in either arena and so is a non-learner even though he has a lower DI\n",
    "# value, while animal 1 and animal 3 freeze in both arenas and are also a non-learner.\n",
    "DI_aft.reshape(fratio_cont[1, 3:5, :].shape).mean(axis=0)"
   ]
  },
  {
   "cell_type": "code",
   "execution_count": 12,
   "id": "5727df62",
   "metadata": {},
   "outputs": [
    {
     "name": "stdout",
     "output_type": "stream",
     "text": [
      "Learners\n",
      "['Marble07', 'Marble12', 'Marble24', 'Marble27']\n",
      "['Marble07', 'Marble12', 'Marble24', 'Marble27']\n",
      "Non-Learners\n",
      "['Marble06', 'Marble11', 'Marble14', 'Marble29']\n",
      "['Marble06', 'Marble11', 'Marble29']\n"
     ]
    }
   ],
   "source": [
    "from itertools import compress\n",
    "# Print out learners vs. non-learners\n",
    "learn_bool = DI_aft.reshape(fratio_cont[1, 3:5, :].shape).mean(axis=0) < learning_cutoff\n",
    "# learners = err.control_mice_good[learn_bool]\n",
    "learners = list(compress(err.control_mice_good, learn_bool))\n",
    "nonlearners = list(compress(err.control_mice_good, ~learn_bool))\n",
    "print('Learners')\n",
    "print(learners)\n",
    "# Check that matches what's in your code\n",
    "print(err.learners)\n",
    "\n",
    "# Note that Marble 14 can't really be designated either way since his open field behavioral data was corrupted on\n",
    "# those days. However, he would likely be a non-learner since he barely freezes in the shock arena after shock.\n",
    "print('Non-Learners')\n",
    "print(nonlearners)\n",
    "# Check that matches what's in your code\n",
    "print(err.nonlearners)"
   ]
  },
  {
   "cell_type": "code",
   "execution_count": 13,
   "id": "d09ce17c",
   "metadata": {},
   "outputs": [
    {
     "name": "stdout",
     "output_type": "stream",
     "text": [
      "/Users/nkinsky/Documents/BU/Working/Eraser/Control Group/Marble24/20181126_1_openfield: nbadpts = 18 max_in_a_row = 3\n",
      "/Users/nkinsky/Documents/BU/Working/Eraser/Control Group/Marble24/20181127_1_openfield: nbadpts = 10 max_in_a_row = 4\n",
      "/Users/nkinsky/Documents/BU/Working/Eraser/Control Group/Marble6/20180421_1_openfield: nbadpts = 63 max_in_a_row = 38\n",
      "['Unknown file missing and/or IndexError for Marble06 Open 7']\n",
      "Freezing left as NaN for this session\n",
      "['Unknown file missing and/or IndexError for Marble06 Shock 7']\n",
      "Freezing left as NaN for this session\n"
     ]
    },
    {
     "data": {
      "text/plain": [
       "Text(0.5, 1.0, 'Non-Learners')"
      ]
     },
     "execution_count": 13,
     "metadata": {},
     "output_type": "execute_result"
    }
   ],
   "source": [
    "# Plot non-learners and learners\n",
    "axlrn = Fig1.subplot(347)\n",
    "_, axlrn, fratio_lrn = er.plot_all_freezing(err.learners, ax=axlrn, s=9, xoffset=0.1)\n",
    "axlrn.set_title('Learners')\n",
    "axlrn.set_ylim([-0.025, 0.80])\n",
    "\n",
    "axnlrn = Fig1.subplot(348)\n",
    "_, axnlrn, fratio_nl = er.plot_all_freezing(err.nonlearners, ax=axnlrn, s=9, xoffset=0.1)\n",
    "axnlrn.set_ylim([-0.025, 0.80])\n",
    "axnlrn.set_ylabel('')\n",
    "axnlrn.set_title('Non-Learners')"
   ]
  },
  {
   "cell_type": "code",
   "execution_count": 14,
   "id": "d17c945d",
   "metadata": {},
   "outputs": [
    {
     "name": "stdout",
     "output_type": "stream",
     "text": [
      "2.604580452861292e-05\n",
      "-6.1303015328719015\n"
     ]
    },
    {
     "data": {
      "text/plain": [
       "(0.0, 1.0, 0.0, 1.0)"
      ]
     },
     "execution_count": 14,
     "metadata": {},
     "output_type": "execute_result"
    }
   ],
   "source": [
    "# Highly sig freezing for Learners\n",
    "tstatlrn, ptlrn = s.ttest_ind((fratio_lrn[1, 0:2, :] - fratio_lrn[0, 0:2, :]).reshape(-1),\n",
    "                           (fratio_lrn[1, 3:5, :] - fratio_lrn[0, 3:5, :]).reshape(-1), nan_policy='omit')\n",
    "print(ptlrn)\n",
    "print(tstatlrn)\n",
    "astatslrn = Fig1stats.subplot(347)\n",
    "astatslrn.text(0.1, 0.7, 'Learners')\n",
    "astatslrn.text(0.1, 0.6, 'un-paired one-way t-test days -2/-1 to days 1/2', fontdict=None)\n",
    "astatslrn.text(0.1, 0.5, f'p={ptlrn/2:0.3g}')\n",
    "astatslrn.text(0.1, 0.4, f'tstat={tstatlrn:0.3g}')\n",
    "astatslrn.axis('off')"
   ]
  },
  {
   "cell_type": "code",
   "execution_count": 15,
   "id": "de3c3fe9",
   "metadata": {},
   "outputs": [
    {
     "name": "stdout",
     "output_type": "stream",
     "text": [
      "0.34211175634596924\n",
      "0.9973584695991825\n"
     ]
    },
    {
     "data": {
      "text/plain": [
       "(0.0, 1.0, 0.0, 1.0)"
      ]
     },
     "execution_count": 15,
     "metadata": {},
     "output_type": "execute_result"
    }
   ],
   "source": [
    "# Non-sig freezing for NonLearners\n",
    "tstatnl, ptnl = s.ttest_ind((fratio_nl[1, 0:2, :] - fratio_nl[0, 0:2, :]).reshape(-1),\n",
    "                           (fratio_nl[1, 3:5, :] - fratio_nl[0, 3:5, :]).reshape(-1), nan_policy='omit')\n",
    "\n",
    "print(ptnl)\n",
    "print(tstatnl)\n",
    "astatsnl = Fig1stats.subplot(348)\n",
    "astatsnl.text(0.1, 0.7, 'Non-Learners')\n",
    "astatsnl.text(0.1, 0.6, 'un-paired one-way t-test days -2/-1 to days 1/2', fontdict=None)\n",
    "astatsnl.text(0.1, 0.5, f'p={ptnl/2:0.3g}')\n",
    "astatsnl.text(0.1, 0.4, f'tstat={tstatnl:0.3g}')\n",
    "astatsnl.axis('off')"
   ]
  },
  {
   "cell_type": "code",
   "execution_count": 16,
   "id": "6e4addab",
   "metadata": {},
   "outputs": [],
   "source": [
    "## Run stats - group of interests are Learners vs. ANI, other comparisons included for completeness.\n",
    "pval_bwgroup_1sidedt_specific = np.ones(6)*np.nan\n",
    "pval_ani_nl_1sidedt_specific = np.ones(6)*np.nan\n",
    "pval_lrn_nl_1sidedt_specific = np.ones(6)*np.nan\n",
    "pval_bwgroup_1sidedt_shockonly = np.ones(6)*np.nan # bw lrn and ani directly, no accounting for specificity\n",
    "for id in range(0, 6):\n",
    "    \n",
    "    # ANI vs Learners\n",
    "    stats, pval = s.ttest_ind(fratio_ani[1, id, :].reshape(-1) - fratio_ani[0, id, :].reshape(-1),\n",
    "                              fratio_lrn[1, id, :].reshape(-1) - fratio_lrn[0, id, :].reshape(-1),\n",
    "                              nan_policy='omit')\n",
    "    \n",
    "    # ANI vs Non-Learners\n",
    "    stats_nla, pval_nla = s.ttest_ind(fratio_ani[1, id, :].reshape(-1) - fratio_ani[0, id, :].reshape(-1),\n",
    "                              fratio_nl[1, id, :].reshape(-1) - fratio_nl[0, id, :].reshape(-1),\n",
    "                              nan_policy='omit')\n",
    "    \n",
    "    # Learners vs Non-Learners\n",
    "    stats_lrnnl, pval_lrnnl = s.ttest_ind(fratio_nl[1, id, :].reshape(-1) - fratio_nl[0, id, :].reshape(-1),\n",
    "                              fratio_lrn[1, id, :].reshape(-1) - fratio_lrn[0, id, :].reshape(-1),\n",
    "                              nan_policy='omit')\n",
    "    \n",
    "\n",
    "    statss, pvals = s.ttest_ind(fratio_ani[1, id, :], fratio_lrn[1, id, :], nan_policy='omit')\n",
    "    pval_bwgroup_1sidedt_shockonly[id] = pvals/2\n",
    "\n",
    "    # Hypothesis is that ani freezing is less than control guys relative to neutral arena\n",
    "    # So if ani guys mean freezing relative to shock is < 0 (i.e. if stats < 0), divide the pvalue by 2\n",
    "    # If it's actually larger, then test fails and p = 1-pval/2\n",
    "    if stats < 0:\n",
    "        pval_bwgroup_1sidedt_specific[id] = pval/2\n",
    "    elif stats > 0:\n",
    "        pval_bwgroup_1sidedt_specific[id] = 1 - pval/2\n",
    "        \n",
    "    if stats_nla < 0:\n",
    "        pval_ani_nl_1sidedt_specific[id] = pval_nla/2\n",
    "    elif stats_nla > 0:\n",
    "        pval_ani_nl_1sidedt_specific[id] = 1 - pval_nla/2\n",
    "       \n",
    "    if stats_lrnnl < 0:\n",
    "        pval_lrn_nl_1sidedt_specific [id] = pval_lrnnl/2\n",
    "    elif stats_lrnnl > 0:\n",
    "        pval_lrn_nl_1sidedt_specific [id] = 1 - pval_lrnnl/2\n"
   ]
  },
  {
   "cell_type": "code",
   "execution_count": 17,
   "id": "a7c837bc",
   "metadata": {},
   "outputs": [
    {
     "data": {
      "text/plain": [
       "Text(0.1, 0.2, \"['-2: p=0.894', '-1: p=0.747', '4: p=0.22', '1: p=0.00391', '2: p=0.0267', '7: p=0.657']\")"
      ]
     },
     "execution_count": 17,
     "metadata": {},
     "output_type": "execute_result"
    }
   ],
   "source": [
    "# Add between group stats to stats figure\n",
    "abw_grp_stats = Fig1stats.subplot(Fig1stats.gs[0, 0:2])\n",
    "days = [-2, -1, 4, 1, 2, 7]\n",
    "abw_grp_stats.text(0.1, 0.8, '1-sided t-test bw groups')\n",
    "abw_grp_stats.text(0.1, 0.7, 'Learners v ANI shock arena only')\n",
    "abw_grp_stats.text(0.1, 0.6, [f'{day}: p={p:0.3g}' for day, p in zip(days, pval_bwgroup_1sidedt_shockonly)])\n",
    "\n",
    "abw_grp_stats.text(0.1, 0.5, 'ANI vs Non-learners shock-open freezing')\n",
    "abw_grp_stats.text(0.1, 0.4, [f'{day}: p={p:0.3g}' for day, p in zip(days, pval_ani_nl_1sidedt_specific)])\n",
    "\n",
    "abw_grp_stats.text(0.1, 0.3, 'Non-Learners vs. Learners')\n",
    "abw_grp_stats.text(0.1, 0.2, [f'{day}: p={p:0.3g}' for day, p in zip(days, pval_lrn_nl_1sidedt_specific)])"
   ]
  },
  {
   "cell_type": "markdown",
   "id": "b8df2f8d",
   "metadata": {},
   "source": [
    "## DI ratio plots by group"
   ]
  },
  {
   "cell_type": "code",
   "execution_count": 18,
   "id": "8b53b623",
   "metadata": {
    "scrolled": true
   },
   "outputs": [],
   "source": [
    "# Calculate DI ratio for all groups\n",
    "DI_lrn = (fratio_lrn[0] - fratio_lrn[1])/(fratio_lrn[0] + fratio_lrn[1])\n",
    "DI_nl = (fratio_nl[0] - fratio_nl[1])/(fratio_nl[0] + fratio_nl[1])\n",
    "DI_a = (fratio_ani[0] - fratio_ani[1])/(fratio_ani[0] + fratio_ani[1])\n",
    "\n",
    "# Dump into nice dataframe\n",
    "DI_all = []\n",
    "days_all = []\n",
    "grp_all = []\n",
    "for DI, grp in zip([DI_lrn, DI_nl, DI_a], ['Learners', 'Non-Learners', 'ANI']):\n",
    "    DI_all.extend(DI.reshape(-1))\n",
    "    grp_all.extend([grp for _ in DI.reshape(-1)])\n",
    "    days_all.extend(np.matlib.repmat(days, DI.shape[1], 1).T.reshape(-1))\n",
    "\n",
    "DIdf = pd.DataFrame({'DI': DI_all, 'Day': days_all, 'Group': grp_all})"
   ]
  },
  {
   "cell_type": "markdown",
   "id": "efcfbf53",
   "metadata": {},
   "source": [
    "## NRK todo: make this a nice plot with Set2 colors and dump into the above figure.\n",
    "Then dump in overlap ratios `pfs.get_overlap` and plot out same plot but for neural discrimination before (here) and after (here or supplemental) along with DIbeh vs. overlap and DIbeh vs DIneural"
   ]
  },
  {
   "cell_type": "markdown",
   "id": "deb54e20",
   "metadata": {},
   "source": [
    "Make behavioral breakdown plots showing DI is different between Learners and Non-Learners/ANI"
   ]
  },
  {
   "cell_type": "code",
   "execution_count": 26,
   "id": "bc82eac5",
   "metadata": {},
   "outputs": [
    {
     "data": {
      "text/plain": [
       "Text(0, 0.5, '$DI_{beh}$')"
      ]
     },
     "execution_count": 26,
     "metadata": {},
     "output_type": "execute_result"
    }
   ],
   "source": [
    "axDIaft = Fig1.subplot(346)\n",
    "DIaft = DIdf[((DIdf['Day'] == 1) | (DIdf['Day'] == 2))]\n",
    "sns.stripplot(x='Group', y='DI', data=DIaft, ax=axDIaft, cmap='Set2', size=3)\n",
    "axDIaft.set_title('After: Days 1 and 2')\n",
    "axDIaft.set_ylabel('$DI_{beh}$')"
   ]
  },
  {
   "cell_type": "markdown",
   "id": "0e2bd8d7",
   "metadata": {},
   "source": [
    "Run stats on this plot"
   ]
  },
  {
   "cell_type": "code",
   "execution_count": 53,
   "id": "fe7ece85",
   "metadata": {},
   "outputs": [],
   "source": [
    "tstat_aft_ln, p_aft_ln = s.ttest_ind(DIaft[DIaft.Group == 'Learners'].DI, DIaft[DIaft.Group == 'Non-Learners'].DI)\n",
    "tstat_aft_la, p_aft_la = s.ttest_ind(DIaft[DIaft.Group == 'Learners'].DI, DIaft[DIaft.Group == 'ANI'].DI)\n",
    "tstat_aft_na, p_aft_na = s.ttest_ind(DIaft[DIaft.Group == 'Non-Learners'].DI, DIaft[DIaft.Group == 'ANI'].DI)\n",
    "\n",
    "axDIaft_stats = Fig1stats.subplot(346)\n",
    "groups = ['L v NL', 'L v ANI', 'NL v ANI']\n",
    "axDIaft_stats.text(0.1, 0.7, '1-sided t-test bw groups days 1 and 2')\n",
    "ytext = 0.6\n",
    "for grp, tstat, p in zip(groups, [tstat_aft_ln, tstat_aft_la, tstat_aft_na], [p_aft_ln, p_aft_la, p_aft_na]):\n",
    "    puse = p/2 if tstat < 0 else 1 - p/2\n",
    "    axDIaft_stats.text(0.1, ytext, f'{grp}: p={puse:0.3g} w/tstat={tstat:0.3g}')"
   ]
  },
  {
   "cell_type": "markdown",
   "id": "f292b624",
   "metadata": {},
   "source": [
    "Get cell overlap between arenas for each dayn and dump into DI dataframe."
   ]
  },
  {
   "cell_type": "code",
   "execution_count": 90,
   "id": "bb7407a7",
   "metadata": {},
   "outputs": [
    {
     "data": {
      "text/plain": [
       "(6, 3)"
      ]
     },
     "execution_count": 90,
     "metadata": {},
     "output_type": "execute_result"
    }
   ],
   "source": [
    "overlaps_all[1].shape"
   ]
  },
  {
   "cell_type": "code",
   "execution_count": 83,
   "id": "d9bc4735",
   "metadata": {},
   "outputs": [
    {
     "name": "stdout",
     "output_type": "stream",
     "text": [
      "placefields_cm1_manlims_1000shuf.pkl not found, loading FinalOutput.mat which is slow\n"
     ]
    }
   ],
   "source": [
    "days = [-2, -1, 4, 1, 2, 7]\n",
    "mice_grp = [err.learners, err.nonlearners, err.ani_mice_good]\n",
    "overlaps_all = []\n",
    "for mice in mice_grp:\n",
    "    grp_overlaps = []\n",
    "    for mouse in mice:\n",
    "        mouse_overlaps = []\n",
    "        for day in days:\n",
    "            _, _, overlap, _, _ = pfs.get_overlap(mouse, 'Shock', day, 'Open', day)\n",
    "            mouse_overlaps.append(overlap)\n",
    "        grp_overlaps.append(mouse_overlaps)\n",
    "    overlaps_all.append(np.asarray(grp_overlaps).T)\n",
    "\n",
    "# Now build up in same way as above for consistency\n",
    "olap_list = []\n",
    "for olap, grp in zip(overlaps_all, ['Learners', 'Non-Learners', 'ANI']):\n",
    "    olap_list.extend(olap.reshape(-1))\n",
    "DIdf.insert(2, 'Cell Overlap', olap_list)"
   ]
  },
  {
   "cell_type": "code",
   "execution_count": 111,
   "id": "26535077",
   "metadata": {},
   "outputs": [],
   "source": [
    "DIneurons = discr.get_DI_scores('Marble07', 'Open', -1, 'Shock', -1)"
   ]
  },
  {
   "cell_type": "code",
   "execution_count": 118,
   "id": "92fcfc3b",
   "metadata": {},
   "outputs": [
    {
     "data": {
      "text/plain": [
       "[array([[0.37914505, 0.33368139, 0.43807053, 0.31944073],\n",
       "        [0.3762564 , 0.34971257, 0.37859547, 0.30539194],\n",
       "        [0.37166191, 0.37542563, 0.38753964, 0.32036909],\n",
       "        [0.34751343, 0.38934156, 0.41841027, 0.32273851],\n",
       "        [0.35661296, 0.34744557, 0.38165474, 0.33237247],\n",
       "        [0.34296777, 0.35684699, 0.39409512, 0.29401955]]),\n",
       " array([[0.32175408, 0.27083695, 0.32101696],\n",
       "        [0.31656309, 0.29243579, 0.34685081],\n",
       "        [0.33370296, 0.28585974, 0.36519404],\n",
       "        [0.36544128, 0.28300066, 0.38921317],\n",
       "        [0.35561463, 0.26476024, 0.35865007],\n",
       "        [       nan, 0.27010282, 0.36986181]]),\n",
       " array([[0.303717  , 0.33767588, 0.35777332, 0.39384806, 0.31877705],\n",
       "        [0.307986  , 0.33263312, 0.36614895, 0.37018825, 0.32816361],\n",
       "        [0.30208439, 0.36572882, 0.36454083, 0.3963374 , 0.36295686],\n",
       "        [0.30787474, 0.38301169, 0.34722218, 0.38650391, 0.36580497],\n",
       "        [0.30976583, 0.38697435, 0.3542694 , 0.35521657, 0.33202925],\n",
       "        [0.31447324, 0.36258757, 0.34041067, 0.39137272, 0.3147677 ]])]"
      ]
     },
     "execution_count": 118,
     "metadata": {},
     "output_type": "execute_result"
    }
   ],
   "source": [
    "discr_all"
   ]
  },
  {
   "cell_type": "code",
   "execution_count": 117,
   "id": "db8b0fbf",
   "metadata": {},
   "outputs": [],
   "source": [
    "# Calculate neural discrimination index\n",
    "\n",
    "days = [-2, -1, 4, 1, 2, 7]\n",
    "mice_grp = [err.learners, err.nonlearners, err.ani_mice_good]\n",
    "discr_all = []\n",
    "for mice in mice_grp:\n",
    "    grp_discr = []\n",
    "    for mouse in mice:\n",
    "        mouse_discr = []\n",
    "        for day in days:\n",
    "            DIneurons = discr.get_DI_scores(mouse, 'Open', day, 'Shock', day)\n",
    "            mouse_discr.append(np.mean(np.abs(DIneurons)))\n",
    "        grp_discr.append(mouse_discr)\n",
    "    discr_all.append(np.asarray(grp_discr).T)\n",
    "\n",
    "# Now build up in same way as above for consistency\n",
    "DImean_list = []\n",
    "for DImean, grp in zip(discr_all, ['Learners', 'Non-Learners', 'ANI']):\n",
    "    DImean_list.extend(DImean.reshape(-1))\n",
    "DIdf.insert(3, '|DI|mean', DImean_list)"
   ]
  },
  {
   "cell_type": "code",
   "execution_count": 126,
   "id": "ab706cd7",
   "metadata": {},
   "outputs": [
    {
     "data": {
      "text/html": [
       "<div>\n",
       "<style scoped>\n",
       "    .dataframe tbody tr th:only-of-type {\n",
       "        vertical-align: middle;\n",
       "    }\n",
       "\n",
       "    .dataframe tbody tr th {\n",
       "        vertical-align: top;\n",
       "    }\n",
       "\n",
       "    .dataframe thead th {\n",
       "        text-align: right;\n",
       "    }\n",
       "</style>\n",
       "<table border=\"1\" class=\"dataframe\">\n",
       "  <thead>\n",
       "    <tr style=\"text-align: right;\">\n",
       "      <th></th>\n",
       "      <th>DI</th>\n",
       "      <th>Day</th>\n",
       "      <th>Cell Overlap</th>\n",
       "      <th>|DI|mean</th>\n",
       "      <th>Group</th>\n",
       "    </tr>\n",
       "  </thead>\n",
       "  <tbody>\n",
       "    <tr>\n",
       "      <th>0</th>\n",
       "      <td>0.136270</td>\n",
       "      <td>-2</td>\n",
       "      <td>0.662281</td>\n",
       "      <td>0.379145</td>\n",
       "      <td>Learners</td>\n",
       "    </tr>\n",
       "    <tr>\n",
       "      <th>1</th>\n",
       "      <td>-0.433829</td>\n",
       "      <td>-2</td>\n",
       "      <td>0.683417</td>\n",
       "      <td>0.333681</td>\n",
       "      <td>Learners</td>\n",
       "    </tr>\n",
       "    <tr>\n",
       "      <th>2</th>\n",
       "      <td>-0.207305</td>\n",
       "      <td>-2</td>\n",
       "      <td>0.484298</td>\n",
       "      <td>0.438071</td>\n",
       "      <td>Learners</td>\n",
       "    </tr>\n",
       "    <tr>\n",
       "      <th>3</th>\n",
       "      <td>-0.206123</td>\n",
       "      <td>-2</td>\n",
       "      <td>0.705566</td>\n",
       "      <td>0.319441</td>\n",
       "      <td>Learners</td>\n",
       "    </tr>\n",
       "    <tr>\n",
       "      <th>4</th>\n",
       "      <td>-0.180234</td>\n",
       "      <td>-1</td>\n",
       "      <td>0.620495</td>\n",
       "      <td>0.376256</td>\n",
       "      <td>Learners</td>\n",
       "    </tr>\n",
       "    <tr>\n",
       "      <th>...</th>\n",
       "      <td>...</td>\n",
       "      <td>...</td>\n",
       "      <td>...</td>\n",
       "      <td>...</td>\n",
       "      <td>...</td>\n",
       "    </tr>\n",
       "    <tr>\n",
       "      <th>67</th>\n",
       "      <td>-0.372626</td>\n",
       "      <td>7</td>\n",
       "      <td>0.559836</td>\n",
       "      <td>0.314473</td>\n",
       "      <td>ANI</td>\n",
       "    </tr>\n",
       "    <tr>\n",
       "      <th>68</th>\n",
       "      <td>0.046989</td>\n",
       "      <td>7</td>\n",
       "      <td>0.600791</td>\n",
       "      <td>0.362588</td>\n",
       "      <td>ANI</td>\n",
       "    </tr>\n",
       "    <tr>\n",
       "      <th>69</th>\n",
       "      <td>-0.156865</td>\n",
       "      <td>7</td>\n",
       "      <td>0.600889</td>\n",
       "      <td>0.340411</td>\n",
       "      <td>ANI</td>\n",
       "    </tr>\n",
       "    <tr>\n",
       "      <th>70</th>\n",
       "      <td>-0.279648</td>\n",
       "      <td>7</td>\n",
       "      <td>0.589844</td>\n",
       "      <td>0.391373</td>\n",
       "      <td>ANI</td>\n",
       "    </tr>\n",
       "    <tr>\n",
       "      <th>71</th>\n",
       "      <td>-0.298026</td>\n",
       "      <td>7</td>\n",
       "      <td>0.618421</td>\n",
       "      <td>0.314768</td>\n",
       "      <td>ANI</td>\n",
       "    </tr>\n",
       "  </tbody>\n",
       "</table>\n",
       "<p>72 rows × 5 columns</p>\n",
       "</div>"
      ],
      "text/plain": [
       "          DI  Day  Cell Overlap  |DI|mean     Group\n",
       "0   0.136270   -2      0.662281  0.379145  Learners\n",
       "1  -0.433829   -2      0.683417  0.333681  Learners\n",
       "2  -0.207305   -2      0.484298  0.438071  Learners\n",
       "3  -0.206123   -2      0.705566  0.319441  Learners\n",
       "4  -0.180234   -1      0.620495  0.376256  Learners\n",
       "..       ...  ...           ...       ...       ...\n",
       "67 -0.372626    7      0.559836  0.314473       ANI\n",
       "68  0.046989    7      0.600791  0.362588       ANI\n",
       "69 -0.156865    7      0.600889  0.340411       ANI\n",
       "70 -0.279648    7      0.589844  0.391373       ANI\n",
       "71 -0.298026    7      0.618421  0.314768       ANI\n",
       "\n",
       "[72 rows x 5 columns]"
      ]
     },
     "execution_count": 126,
     "metadata": {},
     "output_type": "execute_result"
    }
   ],
   "source": [
    "DIdf"
   ]
  },
  {
   "cell_type": "code",
   "execution_count": 123,
   "id": "b251393d",
   "metadata": {
    "scrolled": true
   },
   "outputs": [
    {
     "data": {
      "text/plain": [
       "<AxesSubplot:xlabel='Group', ylabel='|DI|mean'>"
      ]
     },
     "execution_count": 123,
     "metadata": {},
     "output_type": "execute_result"
    },
    {
     "data": {
      "application/vnd.jupyter.widget-view+json": {
       "model_id": "f5f444c4a33e40209896fcd47472c499",
       "version_major": 2,
       "version_minor": 0
      },
      "image/png": "[encoded data removed]",
      "text/html": [
       "\n",
       "            <div style=\"display: inline-block;\">\n",
       "                <div class=\"jupyter-widgets widget-label\" style=\"text-align: center;\">\n",
       "                    Figure\n",
       "                </div>\n",
       "                <img src='data:image/png;base64,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' width=640.0/>\n",
       "            </div>\n",
       "        "
      ],
      "text/plain": [
       "Canvas(toolbar=Toolbar(toolitems=[('Home', 'Reset original view', 'home', 'home'), ('Back', 'Back to previous …"
      ]
     },
     "metadata": {},
     "output_type": "display_data"
    }
   ],
   "source": [
    "_, axtest = plt.subplots()\n",
    "DIbef = DIdf[((DIdf['Day'] == -2) | (DIdf['Day'] == -1))]\n",
    "sns.stripplot(x='Group', y='|DI|mean', data=DIbef, ax=axtest)"
   ]
  },
  {
   "cell_type": "code",
   "execution_count": 129,
   "id": "44a87f2c",
   "metadata": {},
   "outputs": [
    {
     "data": {
      "text/plain": [
       "12     True\n",
       "13     True\n",
       "14     True\n",
       "15     True\n",
       "16     True\n",
       "17     True\n",
       "18     True\n",
       "19     True\n",
       "33     True\n",
       "34     True\n",
       "35     True\n",
       "36     True\n",
       "37     True\n",
       "38     True\n",
       "57    False\n",
       "58    False\n",
       "59    False\n",
       "60    False\n",
       "61    False\n",
       "62    False\n",
       "63    False\n",
       "64    False\n",
       "65    False\n",
       "66    False\n",
       "Name: Group, dtype: bool"
      ]
     },
     "execution_count": 129,
     "metadata": {},
     "output_type": "execute_result"
    }
   ],
   "source": [
    "DIaft.Group != 'ANI'"
   ]
  },
  {
   "cell_type": "code",
   "execution_count": 131,
   "id": "bcabd350",
   "metadata": {},
   "outputs": [
    {
     "data": {
      "text/plain": [
       "<AxesSubplot:xlabel='DI', ylabel='|DI|mean'>"
      ]
     },
     "execution_count": 131,
     "metadata": {},
     "output_type": "execute_result"
    },
    {
     "data": {
      "application/vnd.jupyter.widget-view+json": {
       "model_id": "57235000766b48578dab3995a9d29bae",
       "version_major": 2,
       "version_minor": 0
      },
      "image/png": "[encoded data removed]",
      "text/html": [
       "\n",
       "            <div style=\"display: inline-block;\">\n",
       "                <div class=\"jupyter-widgets widget-label\" style=\"text-align: center;\">\n",
       "                    Figure\n",
       "                </div>\n",
       "                <img src='data:image/png;base64,iVBORw0KGgoAAAANSUhEUgAAAoAAAAHgCAYAAAA10dzkAAAAOXRFWHRTb2Z0d2FyZQBNYXRwbG90bGliIHZlcnNpb24zLjQuMiwgaHR0cHM6Ly9tYXRwbG90bGliLm9yZy8rg+JYAAAACXBIWXMAAA9hAAAPYQGoP6dpAAA7bUlEQVR4nO3dfXxU5Z3///c5k8xNMglJuBNQgYiCIFVCEDDcKikoLawFRKq1UGxd3e/6U3dbutYqdaUSbatCcVexBVo3VWI3tNb68xuqEFRQRGO9iRQEBAIEiEmYTDKTZOZ8/6BMRTIhgWEmyXk9Hw8eD+ZcJ9d8Zk4yeee6zrmOYVmWJQAAANiGmegCAAAAEF8EQAAAAJvpdAEwGAxq165dCgaDiS4FAACgU+p0AbCiokKLFi1SRUVFoksBAADolDpdAAQAAMDZIQACAADYTFKiCwAAAPiyUCikpqamRJfRKSUnJ8vhcLS6DwEQAAB0KHV1ddq/f79YqvjMGIah888/X16vN+o+BEAAANBhhEIh7d+/XykpKerZs6cMw0h0SZ2KZVk6cuSI9u/fr4svvjjqSCABEAAAdBhNTU2yLEs9e/aUx+NJdDmdUs+ePbVnzx41NTVFDYBcBAIAADocRv7OXFveOwIgAACApI0bN2rixImaMGGCpk6dqk8++STRJZ0zTAEDAADbq6qq0n333ac//OEPysrK0qeffqof/OAH+v3vf5/o0s4JRgABAIDtvfTSS7rxxhuVlZUlSbrooov0wgsvaNiwYRo3bpy2bdumefPmaeLEibr55psVCoU0adKkyNdPmjRJe/bs0dVXX61rrrlGEydOVFVVVYJezekRAAEAgO3t379fgwYNkiQ9/fTTmjRpki699FL5fD6VlpZq9+7duuyyy7Rx40YNHTpU//u//9tiP36/XyUlJbrjjju0Zs2aeL6EdiEAAgAA2+vTp48OHDggSfre976nDRs26LzzztOAAQNkmqY+/fRT5ebmSpJGjhypnTt3Rr72i+sVjhw5UqZp6oorrtCuXbvi+yLaIaYBMBgMaubMmcrLy9PKlStPaV+8eLFWr14tSXr22Wc1ZswYXXXVVSorK4tlGQAAAO3yta99TatWrVJ1dbUk6cCBA/rss89kmsej0sCBA/XOO+9Ikt555x31799fLpdLR44c0ccffxzp58MPP5Qkvfvuu7rkkkvi/CraLqYBcO3atZo2bZo2bdqkoqIiBQKBSNvRo0dPCoUrVqzQG2+8ocLCQv30pz+NZRkAAADt0rNnTy1dulRz5szR1VdfrRtvvFE/+9nPIu3XX3+9PvjgA40fP17l5eWaO3eubr31Vn31q1/V448/rszMTElSTU2NJk+erNWrV+uWW25J1Ms5rZheBbxt2zYtXLhQpmlq+PDhKi8v14gRIyRJjzzyyElvxIsvviiHw6GmpiY5nc6ofVZXV0fSuCRVVFTEsmQAAABJ0lVXXaX169eftG3WrFmSjt9f97nnnjupbc6cOZozZ07k8Z49e5STkxOZ7ezIYhoAfT5f5L5zqampqqurkyTt27dPPp9Po0ePjuzbo0cPBYNB3XHHHVq6dGnUPktKSlRUVBTLMltlWZaOBsP6pKZJO2qbdL43SVdkOZXlMpVksiglAADo/GIaAL1er/x+v6TjV8Gkp6dLkh5++GEtWrRIGzZsiOzb1NSkOXPm6KabbtLIkSOj9pmfnx856VI6PgK4bNmyWJZ9kor6kB4qq5W/+cQJnUE9Z/q16CvddHF6kkxWJgcAAC0YMGBApxj9k2IcAHNyclRaWqphw4aprKxMS5YskSRt3bpV8+fP16FDhyRJ48aN0xNPPKFrr71W8+fPb7XPzMzMyLz6uVbbGNaKct8Xwt9xTWHp8Q+P6aGRGerubvmeegAAAJ1FTAPg3LlzNW/ePK1atUoLFizQ8uXLNX36dG3dulWSIqk4LS1NzzzzjEaPHq3nn39ew4cP1/Lly2NZyhnxNYW13x9qsa2u2VJ1Y5gACAAAOr2YBkC3263i4uKo7V8c7WtoaIjlU8dEc7j19mDIan0HAACAToB7AX+BN9lQisNQfQtBz5DUg9E/AAA6jLBlaXttk2oaLWU4DQ3ultzuc/VPzE6e7pS0roYA+AWZTlM3Zqfo1zv8p7Rde75b6clcAAIAQEew9UhQz+706/PGf0zfZTlN3TwoVaN6uhJYWedAAPwCh2noyp4uZbhMPb+rXhX1IfVwmfqn/ika0d0pTxJ3zgMAING2Hglq2ce+U7Z/3hjWso99unOozjgEFhUV6bHHHpPT6dRTTz2lCy64QN/+9rcjaxK/+OKLuv3223Xs2DFdfvnlevPNN5WVlaWPPvpITz75pMaOHavvfOc72rt3rwYOHKhf/epXWrBgQWT/qqoqvf/+++rWrZuKiorkciUmrBIAvyQ12dSI7i5lpyWrOWzJYUgZLqZ+AQDoCMKWpWd3njpT90XPfurXyB7Odk8Hh8NhPfHEE9q0aZMqKyt1991368EHH9Stt96qqVOn6u6779a2bdskSXfccYemTJmiIUOG6Pnnn1d5eblWrVqlI0eOaMiQIVqzZo0KCgr00ksvnbT/+PHj9fLLL2vLli2qra1Vr169zuyNOEsEwCi6ORntAwCgo9le23TStG9LPg+Gtb22SZdmRL/TWEuOHDmiHTt26JprrpEkOZ3OyC3innvuOf3tb3/TzJkzJUnZ2dmSpN69eysjI0N9+vRRY2Oj/va3v+m5557TK6+8ooaGhsiayCf2/4//+A/NnTtX6enp+uUvf9mu+mKJlAMAADqNmsa2rcjR1v2+qEePHrr88sv12muvae3atZoxY4bWrFmjiRMnatWqVerVq5cs63i/pnk8QhlfGmXMzs7WP//zP2vDhg360Y9+pFGjRkX2DwaD2rp1q1566SXl5eVFRgcTgRFAAADQaWQ42zat29b9JOknP/lJZDTu61//uiZMmKC6ujotXbpUPXr00Le+9S0988wz8ng8qqysbLWv66+/XgsWLFBhYaHcbvdJt7N1uVyqqanRlVdeqe7du2vNmjVtrjHWDOtElO0kdu3apUWLFqmgoCAynAoAALqGQCCg3bt3a+DAgXK73ae0hy1Ld2+pbnUaOMtl6rHRmba9fevp3kOJKWAAANCJmIahmweltrrPzRel2jb8tRUBEAAAdCqjerp059A0ZX3pgs0sl6k7h6axDmAbcA4gAADodEb1dGlkD+dZ3wnErgiAAACgUzINo91LveA4poABAABshgAIAAA6JSscVrjyoMJ7PlW48qCscOsLRLdk9erVmjp16kmPV69e3a4+Fi9erA0bNrT7uROJKWAAANDphPfuUWjbFqm+/h8bU1LkGDlG5oUD2tXXO++8oz/+8Y+aMWNGbIvswAiAAACgUwnv3aPQpldPbaivP759/NXtCoH//u//rsWLF2vatGmSpH379mny5MlqbGzUN77xDf3bv/2bxo4dq969e+uzzz7T888/r0suuaTVPh9//HG98MIL8nq9WrNmjSzL0ne/+13V1dWpe/fueuGFFzRjxgyFQiHNnDlTq1atOqn/Pn366JZbblF1dbXGjh2rhx9+OLL/jBkz9Oqrr+rgwYPKzs5u94ilxBQwAADoRKxw+PjIXytC295q13Rwnz59dMMNN+ixxx6TJBUUFOihhx7SG2+8ob/85S86dOiQ9u/frxdeeEE/+MEP9MILL7Ta3+HDh7V+/Xq9/vrr+slPfqJHH31Uu3fv1v3336/XXntN4XBY+/fv17Fjx/TEE0/oe9/73in9P/PMM7rhhhu0YcMG1dbW6oMPPojsf+ONN6q2tlYlJSWaMWOGGhoa2vxaT2AEEAAAdBrWkcqTp31bUu+XdaRSRu8+be737rvv1tixY3XDDTcoFAopNzdXknT55Zdr9+7dys7OVlJSkvr06aPt27fr0Ucf1UsvvaT8/PxT+tq9e7c++OADTZo0SZZlacCAATrvvPP04x//WE6nUzt37lRzc7MkRe5q9uX+9+3bp+eee05PPfWUfD6frr322sh+pmnqpptu0owZM9S/f39dd911bX6dJzACCAAAOo+G04S/9u73dy6XSw888IAeffRRGYahd955R5L07rvv6oILLpDxpfUFv//972vDhg360Y9+dEpf/fv3V15enjZs2KD//u//1tSpU/X444/r1ltv1cqVK+V0OnXiTrymeTyKfbn/7OzsyMUl//qv/6phw4ZF9j948KBqa2v1yiuvKD09XW+//Xa7XqvECCAAAOhMPCmx3e8LZs6cqZEjRyovL0/33Xef6uvrdeONN+r8888/7dfedtttSktLkyQVFhYqJydHEyZMUH19vZ5++mllZGTo9ttvV/fu3eXxeFRZWdlqf9/73vf07W9/W//5n/+p888/XzfddFOkrXfv3nr99ddVWFioPn36aNSoUe1+rYZ1IoJ2Ert27dKiRYtUUFAQGTYFAABdQyAQ0O7duzVw4EC53e5T2q1wWM1/WNv6NHBKqpJmzpFh2nOi83TvocQUMAAA6EQM05Rj5JhW93GMHG3b8NdWvDsAAKBTMS8cIMf4q6WUL03zpqTK0c4lYOyKcwABAECnY144QMb5Fx6/KrihXvKkyOjZm5G/NiIAAgCADufYsWOyLOuUq2NP0S3z+D9Jamw894V1cJZlyefzSTr1yuIvIgACAIAOw+VyKT09XVVVVaqqqkp0OZ1Wenq6nE5n1HYCIAAA6DAMw1C/fv3Uu3fvyGLJaJ+kpCQlJbUe8QiAAACgw2lLiMGZ40xJAAAAmyEAAgAA2AwBEAAAwGYIgAAAADZDAAQAALAZAiAAAIDNEAABAABshgAIAABgMwRAAAAAmyEAAgAA2AwBEAAAwGYIgAAAADZDAAQAALAZAiAAAIDNEAABAABshgAIAABgMzENgMFgUDNnzlReXp5Wrlx5SvvixYu1evVqSdLmzZs1evRoTZ48Wbt3745lGQAAAGhFTAPg2rVrNW3aNG3atElFRUUKBAKRtqNHj54UCpcsWaKXX35ZK1as0NKlS2NZBgAAAFqRFMvOtm3bpoULF8o0TQ0fPlzl5eUaMWKEJOmRRx7RLbfcEtm3oaFBWVlZysrK0o4dO6L2WV1drerq6sjjioqKWJYMAABgOzENgD6fT16vV5KUmpqquro6SdK+ffvk8/k0evToyL7hcDjyf8uyovZZUlKioqKiWJYJAABgazENgF6vV36/X5Lk9/uVnp4uSXr44Ye1aNEibdiwIbKvYRiR/5tm9Jno/Px85ebmRh5XVFRo2bJlsSwbAADAVmIaAHNyclRaWqphw4aprKxMS5YskSRt3bpV8+fP16FDhyRJ48aNk8fj0dGjR3X48GENGDAgap+ZmZnKzMyMZZkAAAC2FtMAOHfuXM2bN0+rVq3SggULtHz5ck2fPl1bt26VpMgVwIMGDdKPf/xjfe1rX5NhGPrtb38byzIAAADQipgGQLfbreLi4qjt8+fPj/x/zJgx2rJlSyyfHgAAAG3AQtAAAAA2QwAEAACwGQIgAACAzRAAAQAAbIYACAAAYDMEQAAAAJuJ6TIwdhZsDqu2yZK/2ZLHYSgt2VBqMvkaAAB0PATAGKgJhvSHvQ167WBAob/f1vgrmclacIlXPdyOxBYHAADwJQxRnaXGUFgv7m3Q+gP/CH+S9NfqJi3/2KfaxnDiigMAAGgBAfAs1TRaevVgoMW2Xb5mAiAAAOhwCIBnKRCy1GxFbz8aCMWvGAAAgDYgAJ4ll8No9U3MdPEWAwCAjoV0cpbSkw1d2cvZYtt5HocynbzFAACgYyGdnCVPkql52an6SmbySdv7pjj075elKcPFVcAAAKBjYRmYGMhyOXT7pWmqbQyrpjEsb7Kpbk5DGU7CHwAA6HgIgDHiTTblTTbVLzXRlQAAALSOKWAAAACbIQACAADYDFPAQAJYlqVjTZZkSd5kQw7TSHRJAAAbIQACcVYdDOmdo4169UBAzZalMT1dmtjHzX2jAcAGrGBQaqhX+NAByTBkntdX8qTIcLa8pNy5QgAE4qg6GNJjHx7T7rp/3CFm3d4GbTwU1P0juhECAaALswINCv31PVk7PolsC0syL7tC5pChMlzuuNXCOYBAHO081nxS+DuhujGs1w4EFAq3cl9BAECnZh09clL4OyH8YZms2tq41kIABOKkMRTWxkOBqO1vHg7K1xSOY0UAgHixGoMKf/zXqO3h8g9lNTfHrR4CIBAnhmHIYUS/2MM0JHEtCAB0TaGQrED0QQAFGqTwqTNE5woBEIiTZNPQNX2jn98xuY9b6cn8SAJAl+R0yTivb9Rmo28/KSk5anus8dsGiKMLvQ5dkXXqD3i/FIeu6uWS2coIIQCg8zIcDjmGDJMcLVx/63TKHDhIhhm/WMZVwEAcZTgdWniJV3vqQio50KDmsDThPJcuzUhWlosrgAGgS/OmyTH1awq/s0XW4UOSJKNPPzlGjpZSvXEthQAIxFmGy6ErXA4NzUhSWJLbwUA8ANiBYZoyMrNkTLhaamyUDOP41HCc1wCUCIBAwjgJfgBgS4bLLcVxzb+W8BsIAADAZgiAAAAANkMABAAAsBkCIAAAgM0QAAEAAGyGAAgAAGAzBEAAAACbIQACAADYDAEQAADAZrgTCDq1UNiSv9mSw5BSk/l7BgCAtiAAolOyLEtHAmFtOBjQe1WN8iQZuvZ8jy7plqRuTkeiywMAoEMjAKJTqmwIa/F7NfI3W5FtOz726coeTn37Yq/SnYwGAgAQDb8l0ekEQmH9fo//pPB3wttHG3UkEEpAVQAAdB4EQHQ69U2Wth5tjNq+5UgwjtUAAND5EADR6ViSjFba+aYGAKB1Mf1dGQwGNXPmTOXl5WnlypWR7T6fT1OnTtWYMWNUWFgoSSotLdWoUaM0YcIEffbZZ7EsA12cN9nQ6J7OqO1jerniWA0AAJ1PTAPg2rVrNW3aNG3atElFRUUKBAKSpMLCQs2bN0+bN2+OBMOf//znWrdunZYsWaIVK1bEsgx0cS6HqesHpKpb8qnjgBN6u9TDzVXAAAC0JqZXAW/btk0LFy6UaZoaPny4ysvLNWLECN12220KhULy+XwKh8OSpJEjR6q2tlZ1dXXyer1R+6yurlZ1dXXkcUVFRSxLRifV2+PQ4pwMbTkc1DtHG5WSZGja+R4N8CYpjfUAAQBoVUwDoM/ni4S51NRU1dXVRdoqKys1duxYzZ49W5LUt29fTZkyRZK0cePGqH2WlJSoqKgolmWii+jhdui6Czya3Mcthym5HQQ/AADaIqYB0Ov1yu/3S5L8fr/S09MjbX379tWePXs0a9Ysbd++XY899pg++eQT1dTU6I477tCf/vSnFvvMz89Xbm5u5HFFRYWWLVsWy7LRiZmGodQWpoIBAEB0MR0yycnJUWlpqSzLUllZmQYPHixJWr58uUpKSmQYhtxutwzDUFZWltxutzIyMiKhsSWZmZnKzs6O/OvXr18sSwYAALCdmAbAuXPnqqSkRFdeeaVmzZql5cuX6+OPP9acOXNUUFCg8ePHa9CgQbrkkkt0zz33aPz48Zo6daruu+++WJYBAACAVhiWZZ16O4UObNeuXVq0aJEKCgqUnZ2d6HIAAAA6Hc6aBwAAsBkCIAAAgM0QAAEAAGyGAAgAAGAzBEAAAACbIQACAADYDAEQAADAZgiAAAAANkMABAAAsBkCIAAAgM0QAAEAAGyGAAgAAGAzBEAAAACbIQACAADYDAEQAADAZgiAAAAANkMABAAAsJmkRBcAADjOam6SAgEpHJaSk2V4UhJdEoAuigAIAB2A5a9T6P13ZX2263gATEuXI3eMjJ69ZCQ7E10egC6GKWAASDCr3q/mV/+vrN07j4c/SfIdU+i1/yvr6JHEFgegSyIAAkCCWbW10rGaFttC296S1dAQ34IAdHkEQABIMKvyQPTG2hop1By3WgDYAwEQABItxRu9LSlJMvioBhBbfKoAQIKZffpKhtFy2yWXSm53nCsC0NURAAEg0VJS5JhwjWSe/JFs9Owtc/AwGQ5HggoD0FWxDAwAJJjhSJL69FPS174h6+hhWYGAjJ69ZaR6ZXg8iS4PQBdEAASADsBwOKS0dBlp6YkuBYANMAUMAABgMwRAAAAAm2EKGACANrLCYaner/Chg5Kv9vi5mplZMlJbWcoH6IAIgAAAtIEVDss6elihV1+RQqG/b/1A8qQoKf9aGWndElof0B5MAQMA0BYN9QptXP+F8PeF7VvekBUMJKYu4AwQAAEAaAOrzic1NrbcdviQFAzGuSLgzBEAAQBoiyjhL+LLI4NAB0YABACgDYz0Vs7xc7kkpzN+xQBniQAIAEBbuD0yBlzUYpM5YpTkSYlzQcCZ4ypgAADawHC55MgZpXBGpsLlHxw/5y8tXY4rcmX07iPDZEwFnQcBEACANjI8KTIvvUzmwIukcFhyOGQw8odOiAAIAEA7GKYppaQmugzgrDBeDQAAYDMEQAAAAJshAAIAANgMARAAAMBmCIAAAAA2E9MAGAwGNXPmTOXl5WnlypWR7T6fT1OnTtWYMWNUWFgoSXr77bc1fvx4jRo1SiUlJbEsAwAAAK2IaQBcu3atpk2bpk2bNqmoqEiBQECSVFhYqHnz5mnz5s2RYHj//feruLhYr7zyivbu3RvLMgAAANCKmK4DuG3bNi1cuFCmaWr48OEqLy/XiBEjdNtttykUCsnn8ykcDsvv96upqUl33XWXDh8+rKeeeipqn9XV1aquro48rqioiGXJAIBzyGpslJqbpSSHDKcr0eUA+LuYBkCfzyev1ytJSk1NVV1dXaStsrJSY8eO1ezZs1VdXa333ntPv/vd73T48GEtWrRIa9eubbHPkpISFRUVxbJMAMA5ZjU1yqqpUfiD92TV1shI7yZz+BUyMrJkOJ2JLg+wvZgGQK/XK7/fL0ny+/1KT0+PtPXt21d79uzRrFmzVFVVpUsvvVS9evVSr169VFVVFbXP/Px85ebmRh5XVFRo2bJlsSwbABBDVjiscMU+hd/Y+I9t9X6FDh2QOTpP5sBBMhyOBFYIIKbnAObk5Ki0tFSWZamsrEyDBw+WJC1fvlwlJSUyDENut1sej0fNzc06evSo9u7dq549e0btMzMzU9nZ2ZF//fr1i2XJAIBYa6hX+O3NLTaF33lLaqiPc0EAviymAXDu3LkqKSnRlVdeqVmzZmn58uX6+OOPNWfOHBUUFGj8+PEaNGiQLrnkEi1ZskTXXXed5syZox/+8IexLAMAkEBWICA1NbbcGGqWFWiIb0EAThHTKWC3263i4uIW29avX3/S4ylTpmjKlCmxfHqgywhZlmqCYTWELCWbhtKTDXmSWLYTnYNhGKfZge9lINFiGgABnD1fU1hvHQ7qhT318jdbMiSN6J6sbw3yqoeb86ZwspBl6fNAWNtrm3SwPqTs9CQN8CapeyK/V9xuyeORGloY6XO6ZLjd8a8JwEkIgEAHErYsbTvaqDU7/ZFtlqR3q5p0qOGY/uMr3ZThYvQEx4UtS7uONavgr7UKhv+xPcNp6t7L09UnJUEf8Z4UOfImKfTqK1L4C4UZhhx5EyVPSmLqAhDBbxKgA6lpDOuF3f4W2w7Uh1TZEIpzRejIqoNhPfbRsZPCn3T8++jpT+rkawq3/IXnmGEYMnr0UtL062VeepmM3n1kDB6qpOnXy+h9ngyTXz3xYDXUy6r3ywoGEl0KOiBGAIEOJBiyVNtkRW3/rK5ZgzOS41gROrKqYFi+KN8vO33N8jWFlZacmLBlOBxSejeZV+RKoZDkcBD84sQKNChcsV/hD8uker+MzCyZI0bJyOzOGoyI4KcR6ECSTUOt/b7u4eZHFv/Q0Bz9jwVJStAA4EkM05SRnEz4ixOrsVGhD95XeMsmqc4nhcOyqo4qtP5lhQ9WyLJa/56BffATCXQg6U5Tk85r+QR5j8PQhV4G7fEPvTzRP8JTHIZSk05zNS66nkCDrL993GJT+J0trMGICAIg0IE4TUNfv9Cj4ZknT/N6kwwt+kq6srgABF/QzWlqwnkt3193zsAUZTr5frEb61ht9MZAgxQMxq8YdGgMJwAdTKbLoduHpKm6MawD9SGlJxvq7XEo02XKPN36arCVlCRTNwxMVV+PQy/tb5CvyVJPt6kbBqboskynHCbfL7aTdJpf60zF4+8IgEAHlOY0leY0mfLFaXVzmrr2Ao/G9nYpFJaSTSnDxXqRdmWkpR8Pgc3Np7ZldZdcrMGI4/hTAAA6OdMwlOVyqKfHQfizO7dHjvFXS1+eLXC65Bg7gUW4EcHwAgAAXYThcEi9+yjpa99Q+LPdso7VyOjdV+Z5fWR40xJdHjoQAiAAAF3IiTUYHcOvSHQp6MCYAgYAALAZAiAAAIDNEAABAABshgAIAABgMwRAAAAAmyEAAgAA2AwBEAAAwGYIgAAAADZDAAQAALAZAiAAAIDNEAABAABshnsBo0MJW5YkyTSMBFdiH5Zl6VjT8fc9LdngvQcAGyAAokOoCYa0zx/SxkMBJRmGJvVxq0+KQ92cDFKfS58HQnr7aFAbDwYVljS+t0tje7nU3e1IdGkAgHOIAIiEqw6G9GS5T5/UNke2vXE4qNE9nfrWoFR1cxJGzoXPAyE9+sEx7a8PRbY9v7terx0M6N7LuxECAaALY3gFCff+500nhb8T3jrSqL11oRa+ArHwQXXTSeHvhMOBsN46EoxMxwMAuh4CIBLK1xRWSUVD1PZXKhoUDIXjWJE91DeHVXooELX99cqg6poIgADQVREAkVBhS2oMRw8awdDxfRBbhlq/0MY0ju8DAOiaop4DuHPnTr3wwgtqbGyMbLv//vvjUhTsw5tkaFQPl17c1/Io4FW9nfIk8XdKrHmSTF3T161PaptabL+mj1tpXIADAF1W1AA4d+5cff/731efPn3iWQ9sxmEev+J346FAZCmSE3q5TX0l05mgyrq+wd2SNLhbkrZ/6fzLAV6HLu/O+w4AXVnUAHjhhRfqhhtukGkyCoBzq5fHoQdGZOjl/Q3acjgohyGNP8+ta/q6uRL1HMp0OfQvl6Zp57Fm/eVAQJakSX3cGtwtSVku3ncA6MqiBsDKykoNHDhQ2dnZkiTDMPTqq6/GrTDYSy+PQ/MuStXXL/TIkJSebMphchbauZbpcmhUT4eGZyXLssR0OwDYRNQA+Oabb570OBRiOQ6cW07TYOQpQdwOgh8A2EnUAPizn/1MxcXFCgaD8vv9SktL09tvvx3P2gAAAHAORP2zv7i4WKWlpcrNzdXGjRuVlpYWz7oAAMAXhC1L1cGQqgIh+RpZHxVnJ+oIoMfjUX19vWpra5WZmamqqqp41gUAAP6uJhjS65VB/Xl/g3xNlvp7HfrmRaka6E3i3F2ckajfNT/5yU+0bt06LVy4UOPGjdP1118fz7oAAICO3zFpzY46Pb+7Xr6/L5f1WV1ID79/TJ/UtLyWJ3A6UUcA8/LyVFNTo08//VRPPvmkLr744njWBQAAJNUEw3qnquWg99tP/RqQlqRMLqBDO0UdAbz11lv10UcfafXq1Tpw4IDmzJkTz7oAAICkT33RR/mOBMJqCHG/TLRf1AC4e/du/eAHP5DH49HXv/51NTS0fKsuAABw7qS2co6fIcnRyn29gWiiflddcMEFKigo0Oeff66nnnpKAwYMiGNZAABAkgZ4k5QcJeNdnpWs9GiNQCuiBsBf//rXGjx4sG666Sb16NFDq1evjmNZAABAkjKcpv51aNopv7C7u0x9a5CXq4BxRqJeBLJmzRo9//zzCgaDkqQVK1ZwKzgAAOIs2WFoWKZTBaMy9V5VUEcCYQ3NSFZ2WpKyuF86zlDUALhixQpt2LBBXq+3zZ0Fg0HdcMMNOnr0qObPn6/vfve7kiSfz6fZs2ertrZWd955p775zW9Kkpqbm3XppZdqx44dZ/kyAADoupwOQ+elOHRtSkqiS0EXEXXcePbs2fr973+v0tLSyL/TWbt2raZNm6ZNmzapqKhIgUBAklRYWKh58+Zp8+bNWrlyZWT/X/3qVzp06FAMXgYAAADaKuoI4Pr16zV06FDt2bNHkmQYhiZMmNBqZ9u2bdPChQtlmqaGDx+u8vJyjRgxQrfddptCoZB8Pp/C4eO3r2loaNBrr72mkSNHxu7VAAAA4LSiBsCUlBT94he/UFJS1F1O4fP5IlPGqampqquri7RVVlZq7Nixmj17tiTpl7/8pW6//XY98MADrfZZXV2t6urqyOOKioo21wMAAIBTRU13lZWVGjRokAYOHCjp+Ajg6S4C8Xq98vv9kiS/36/09PRIW9++fbVnzx7NmjVL77//vt599119//vfP22BJSUlKioqatOLAQAAwOlFDYBvvfVWuzvLyclRaWmphg0bprKyMi1ZskSStHz5cg0ZMkT5+flyu93asmWLtm/frkmTJqmsrEy33nqrnnnmmRb7zM/PV25ubuRxRUWFli1b1u7aAAAAcJxhWdZJ95BZsGCBjCiriluWJcMw9Otf/7rF9kAgoHnz5mn//v1asGCB/H6/pk+frqysLN18880KBoOaPHmyHnzwwcjXTJo0SRs2bGhzwbt27dKiRYtUUFCg7OzsNn8dAAAAjjslAHZ0BEAAAICzc8oUcGsjgNFG/gAAANB5nBIAFy9enIAyAAAAEC+nBMD+/ftr69ateuWVV3Tw4EH16tVL1113nUaNGpWI+gAAABBjpwTARx55RDt37tR3vvMdde/eXQcPHtSTTz6poUOHtmnZFgAAAHRspwTA4uJibd68OfL44osv1oQJEzR+/HgCIAAAQBdwyr2APR5PizsmJyef82IAAABw7p0yArh79+6T1umTjq//d+KewAAAAOjc2nwV8AMPPKDf/OY3kqRbbrnlnBYFAACAc+eUADhgwIAElAEAAIB4OSUATpw4MRF1AAAAIE5OuQgEAAAAXdspI4AAgI4lZFmqCYZ1NBhWQ7Ol8zym0p2mUpL4Gx7AmSEAAkAH1hy29OmxZj320TH5my1JkiFpch+XvjEgVd2chEAA7ccnBwB0YJ8Hwyr4oDYS/iTJkvTqwaDeOhyUZVnRvxgAoiAAAkAH9kF1o5rCLbe9uK9BNY1RGgGgFQRAAOjADvhDUdtqGsMKMQAI4AwQAAGgA7ukW/TbcPbxOJRsGnGsBkBXQQAEgA7sovQkpSe3HPLmZqdwEQiAM8InBwB0YD3cDv3o8m4amPaPRRtSkwzdeolXQ1oZHQSA1rAMDAB0cH1Tk/Tvl6WrrjmsprDkTTKU4TLlMJj+BXBmCIAA0AmkO48v/gwAscCnCQAAgM0QAAEAAGyGAAgAAGAzBEAAAACbIQACAADYDAEQAADAZgiAAAAANkMABAAAsBkCIAAAgM0QAAEAAGyGAAgAAGAzBEAAAACbIQACAADYDAEQAADAZgiAAAAANpOU6AIA4IT65rBqGy3VN4eVkmQoPdlUajJ/pwJArBEAAXQInwdD+s2OOm2raops+0pWsr5zsVfd3Y4EVgYAXQ9/WgNIuPrm8CnhT5L++nmTVm6vU11TOEGVAUDXRAAEkHC1jdYp4e+Ej2qadIwACAAxRQAEkHD1za0HPH+TFadKAMAeCIAAEi4lyTirdgBA+xAAASRcerKpr2Qlt9g2uFuS0p18VAFALPGpCiDhUpNNfedir4ZlnBwCB3dL0j8PSVMaS8EAQEzF9FM1GAxq5syZysvL08qVKyPbfT6fpk6dqjFjxqiwsFCS9Oyzz2rMmDG66qqrVFZWFssyAHRC3d0O/Z+haSoYlaH7r+impbkZ+v+GpasHS8AAQMzFNACuXbtW06ZN06ZNm1RUVKRAICBJKiws1Lx587R58+ZIMFyxYoXeeOMNFRYW6qc//WksywDQSXmTTfVNSdLF3ZLVLzWJkT8AOEdiuhD0tm3btHDhQpmmqeHDh6u8vFwjRozQbbfdplAoJJ/Pp3D4+NV+L774ohwOh5qamuR0OmNZBgAAAFoR0wDo8/nk9XolSampqaqrq4u0VVZWauzYsZo9e7YkqUePHgoGg7rjjju0dOnSqH1WV1eruro68riioiKWJQMAANhOTAOg1+uV3++XJPn9fqWnp0fa+vbtqz179mjWrFnavn27srOzNWfOHN10000aOXJk1D5LSkpUVFQUyzIBAABsLaYBMCcnR6WlpRo2bJjKysq0ZMkSSdLy5cs1ZMgQ5efny+12yzAM3XPPPbr22ms1f/78VvvMz89Xbm5u5HFFRYWWLVsWy7IBAABsxbAsK2ZL7AcCAc2bN0/79+/XggUL5Pf7NX36dGVlZenmm29WMBjU5MmT9S//8i8aMGCARo8eLUkaPny4li9f3qbn2LVrlxYtWqSCggJlZ2fHqnQAAADbiOkIoNvtVnFxcYtt69evP+lxQ0NDLJ8aAAAAbcQaCwAAADZDAAQAALAZAiAAAIDNEAABAABshgAIAABgMwRAAAAAmyEAAgAA2AwBEAAAwGYIgAAAADZDAAQAALAZAiAAAIDNEAABAABshgAIAABgMwRAAAAAmyEAAgAA2AwBEAAAwGYIgAAAADZDAAQAALAZAiAAAIDNEAABAABshgAIAABgMwRAAAAAmyEAAgAA2AwBEAAAwGYIgAAAADZDAAQAALAZAiAAAIDNEAABAABshgAIAABgMwRAAAAAmyEAAgAA2AwBEAAAwGYIgAAAADZDAAQAALAZAiAAAIDNEAABAABshgAIAABgMwRAAAAAmyEAAgAA2AwBEAAAwGYIgAAAADZDAAQAALAZAiAAAIDNEAABAABsJqYBMBgMaubMmcrLy9PKlSsj230+n6ZOnaoxY8aosLBQkrR582aNHj1akydP1u7du2NZBgAAAFoR0wC4du1aTZs2TZs2bVJRUZECgYAkqbCwUPPmzdPmzZsjwXDJkiV6+eWXtWLFCi1dujSWZQAAAKAVSbHsbNu2bVq4cKFM09Tw4cNVXl6uESNG6LbbblMoFJLP51M4HJYkNTQ0KCsrS1lZWdqxY0csywAAAEArYhoAfT6fvF6vJCk1NVV1dXWRtsrKSo0dO1azZ8+WpEgQlCTLsqL2WV1drerq6sjjioqKWJYMAABgOzENgF6vV36/X5Lk9/uVnp4eaevbt6/27NmjWbNmafv27TIMI9JmmtFnoktKSlRUVBTLMgEAAGwtpgEwJydHpaWlGjZsmMrKyrRkyRJJ0vLlyzVkyBDl5+fL7XbLMAx5PB4dPXpUhw8f1oABA6L2mZ+fr9zc3MjjiooKLVu2LJZlAwAA2IphtTb/2k6BQEDz5s3T/v37tWDBAvn9fk2fPl1ZWVm6+eabFQwGNXnyZD344IPasmWL7rrrLhmGod/+9rcaNGhQm55j165dWrRokQoKCpSdnR2r0gEAAGwjpiOAbrdbxcXFLbatX7/+pMdjxozRli1bYvn0AAAAaAMWggYAALAZAiAAAIDNEAABAABshgAIAABgMwRAAAAAmyEAAgAA2AwBEAAAwGZiug4g0Jn4m8KqaQxrn79ZHoepvikOZbhMJZvG6b8YAIBOjAAIW6ptDGvtLr9KK4ORbU5T+j+XpmlYplNOByEQANB1MQUM27EsS9uOBk8Kf5LUGJYe/8inz4OhBFUGAEB8EABhO7WNYf1xb0OLbWFJW482xrcgAADijAAI2wlLqg6Go7YfqGcEEADQtREAYTvJpqEBadFPfx2WmRzHagAAiD8CIGwnLdnUvOyUFtu6JRsa0o0ACADo2giAsKX+3iTdNSxNWa5//AgM7pakH13RTT3cjgRWBgDAuccyMLAlT5KpnO5OZaclyd9sKcmQvMmmvMn8TQQA6PoIgLAtwzCU6XIo05XoSgAAiC+GOwAAAGyGAAgAAGAzBEAAAACbIQACAADYDAEQAADAZgiAAAAANkMABAAAsBkCIAAAgM0QAAEAAGyGAAgAAGAzBEAAAACbIQACAADYDAEQAADAZgiAAAAANkMABAAAsBkCIAAAgM0QAAEAAGyGAAgAAGAzBEAA6AKs5mZZzc2JLgNAJ5GU6AIAAGfOqq+XVXVE4Z3bJcOQOWiwjKweMlJSEl0agA6MAAgAnZRVX6/Q66/JOlIZ2Raq2Cejdx85rppICAQQFVPAANBJhQ9VnBT+TrAqD7a4HQBOIAACQCdkBYOy/lYetT38t49lNTbGsSIAnQkBEAA6I8uSFQ5Hbw+FJcuKXz0AOhUCIAB0Ri6XzIEXRW02sgfJcLniWBCAzoQACACdkGEYMi8cKKV6T21MS5fZ78L4FwWg0+AqYADopIxUr5Lyr1P40x0K794pSTIvuljmwEEyUlMTXB2AjiymI4DBYFAzZ85UXl6eVq5cGdm+b98+TZ48WVdddZWWLl0qSSotLdWoUaM0YcIEffbZZ7EsAwBsw0j1yrzsciV9dbqSvjpd5tCvyGhpVBAAviCmAXDt2rWaNm2aNm3apKKiIgUCAUnSE088ocWLF+vNN99USUmJfD6ffv7zn2vdunVasmSJVqxYEcsyAMBWDNOU4Uk5/s/kzB4ApxfTT4pt27Zp3LhxMk1Tw4cPV3n58SUK7r33Xo0bN06SFAqFlJSUpJEjR6q2tlZ1dXXyevlrFQAAIF5ieg6gz+eLhLnU1FTV1dVJkrKysiRJTz/9tHJycuTxeNS3b19NmTJFkrRx48aofVZXV6u6ujryuKKiIpYlAwAA2E5MA6DX65Xf75ck+f1+paenR9qeffZZrVu3TuvWrZMkPfbYY/rkk09UU1OjO+64Q3/6059a7LOkpERFRUWxLBMAAMDWYhoAc3JyVFpaqmHDhqmsrExLliyRJL311ltas2aN/vjHP8rpdEo6PirodruVkZERCY0tyc/PV25ubuRxRUWFli1bFsuyAQAAbCWmAXDu3LmaN2+eVq1apQULFmj58uWaPn26HnroIR06dEjXXnutJOl//ud/dM8992j8+PEyTVMPPfRQ1D4zMzOVmZkZyzIBAABszbCsznWvoF27dmnRokUqKChQdnZ2ossBAADodFgvAAAAwGYIgAAAADZDAAQAALAZAiAAAIDNEAABAABshgAIAABgMwRAAAAAmyEAAgAA2AwBEAAAwGYIgAAAADZDAAQAALAZAiAAAIDNEAABAABshgAIAABgMwRAAAAAmyEAAgAA2AwBEAAAwGaSEl0AAACID6uhQWpqlAxDcrllOJ2JLgkJQgAEAKCLs5qbZFUdVejtzdKxGkmS0e8COUaOlpGWntjikBBMAQMA0MVZtTUK/eX/j4Q/SbIq9qm55M+y/HWJKwwJQwAEAKALsxqDCr/3jmRZpzY21Ct8+FD8i0LCEQABAOjKmpplHT0ctdmq2BfHYtBREAABAOjKTENye6I2G960OBaDjoIACABAV+b2yBw6PGqzOfCiOBaDjoIACABAF2YYhswLBsi4cOCXG2ReNUFK8SamMCQUy8AAANDFGR6PHFeOlS67XOEjlTKSkmX07CV5PDKSkhNdHhKAAAgAgA0YLrfkcsuRmZXoUtABMAUMAABgMwRAAAAAmyEAAgAA2AwBEAAAwGa4CAQAgHawLEtqqJeCQcnhkFxuGS5XossC2oUACABAG1mNjQof3K/wO29JgQZJktGjlxxjxsvo1i3B1QFtxxQwAABtZFUdUfj1DZHwJ0nW0cNqXv9nWf66xBUGtBMBEACANrACDQq9u7XlxkCDrCOV8S0IOAsEQAAA2iIUkmo+j9ocrjwUx2KAs0MABACgLQxT8qREb07nHEB0HgRAAADawuOROezylttMU+b5F8a3HuAsEAABAGgDwzBkXjhAxkUXn9yQlCTHpHwpJTUxhQFngGVgAABoI8PjkWPEldLQr8iqqZaSnTLS0yW3R4bDkejygDYjAAIA0A6GyyW5XJzzh06NKWAAAACbIQACAADYDAEQAADAZgiAAAAANhPTABgMBjVz5kzl5eVp5cqVke379u3T5MmTddVVV2np0qWSpLffflvjx4/XqFGjVFJSEssyAAAA0IqYBsC1a9dq2rRp2rRpk4qKihQIBCRJTzzxhBYvXqw333xTJSUl8vl8uv/++1VcXKxXXnlFe/fujWUZAAAAaEVMl4HZtm2bFi5cKNM0NXz4cJWXl2vEiBG699571a3b8cvlQ6GQTNNUU1OT7rrrLh0+fFhPPfVU1D6rq6tVXV0deVxRURHLkgEAAGwnpgHQ5/PJ6/VKklJTU1VXVydJysrKkiQ9/fTTysnJUXV1td577z397ne/0+HDh7Vo0SKtXbu2xT5LSkpUVFQUyzIBAABsLaYB0Ov1yu/3S5L8fr/S09Mjbc8++6zWrVundevWqbGxUZdeeql69eqlXr16qaqqKmqf+fn5ys3NjTyuqKjQsmXLYlk2AACArcQ0AObk5Ki0tFTDhg1TWVmZlixZIkl66623tGbNGv3xj3+U0+mU0+lUc3Ozjh49qvr6evXs2TNqn5mZmcrMzIxlmQAAALYW04tA5s6dq5KSEl155ZWaNWuWli9fro8//lgPPfSQDh06pGuvvVaTJk1SRUWFlixZouuuu05z5szRD3/4w1iWAQAAgFbEdATQ7XaruLj4lO0vvvjiKdv69eunKVOmxPLpAQAA0AYsBA0AAGAzBEAAAACbiekUcDw0NjZKYj1AAACA9ujXr59cLpekThgAjxw5IkksBQMAANAOBQUFys7OliQZlmVZCa6nXY4dO6b3339fPXv2lNPpjMtznlh78M4771S/fv3i8pw49ziuXRPHtWviuHZNHNf46tQjgOnp6Ro/fnxCnrtfv36R5Iyug+PaNXFcuyaOa9fEcY0/LgIBAACwGQIgAACAzRAA2yAzM1Nz5szhlnRdDMe1a+K4dk0c166J45o4ne4iEAAAAJwdRgCjqKqq0tVXX628vDy99NJLJ7UdOnRIEydO1OjRo/Xyyy8nqEKcidaO65EjRzR9+nSNGTNGDz/8cIIqxJlo7bieMH/+fG3YsCG+heGstHZc33//fY0bN06jR4/Wb3/72wRViPYKBoOaOXOm8vLytHLlytNuxzlkoUUPPvig9ec//9lqaGiwpkyZclLbL37xC+vZZ5+1/H6/dfXVVyeoQpyJ1o7r3XffbZWWllqWZVmPPPJIIsrDGWrtuFqWZX300UdWt27drNdeey3+xeGMtXZcZ82aZe3Zs8dqbm62xowZk6AK0V6/+c1vrCeffNIKhUJWfn6+1dDQ0Op2nDuMAEaxbds2jRs3Tm63W+np6aquro60XX755aqrq1NDQ4M8Hk8Cq0R7tXZcy8vL9ac//UmTJk3SZZddlsAq0V6tHVdJevTRR3XLLbckqDqcqdaO63/913+pf//+kiTDMBJVItrpxDE1TVPDhw9XeXl5q9tx7hAAo/D5fPJ6vZKk1NRU1dXVRdpSU1O1ZMkSXXHFFfrmN7+ZqBJxBlo7rjt27NCUKVP00ksv6cEHH1Q4HE5UmWin1o7r1q1bNXDgQGVlZSWqPJyh1o5rz549JUn33XefbrzxxoTUh/aLdkxbO9Y4NzrdQtDnyrJly7R27drI461bt8rv98vr9crv9ystLS3StnTpUhUXF+uyyy7TV7/6VV1//fWMBHZQ7TmuGRkZmjhxopxOp/r376+qqqrILxl0LO05rj/72c+0cuVK/eIXv0hEqWiH9hxXSfrpT3+qw4cPc85uJ3LiWEqS3+9Xenp6q9tx7jAC+Hd33nmnXn/99ci/e++9V6WlpQoEAvr888+VkZER2Tc1NVVpaWlyuVwyTVNNTU2JKxytas9xHTlypEpLS9Xc3KwDBw4Q/jqwth7Xuro6ffDBB5oxY4ZWr16tu+66i5GFDqw9P6+///3v9eGHH3LBQCeTk5Oj0tJSWZalsrIyDR48uNXtOIcSfRJiR3XkyBFrypQp1siRI63i4mLLsizrnnvusaqqqqxPPvnEGj9+vDVmzBjr0UcfTWyhaJfWjutnn31mTZw40crNzbXWrFmT2ELRLq0d1xMeeOABLgLpZFo7rpdddpmVm5trTZw40Zo4caLV3Nyc2GLRJg0NDdY//dM/Wbm5udaKFSusRx55xProo49O2Y5zj3UAAQAAbIYpYAAAAJshAAIAANgMARAAAMBmCIAAAAA2QwAEAACwGQIgAACAzRAAAQAAbIYACABnYfXq1RoyZIgmTZqk0aNHa/Xq1dqwYYMWL16c6NIAICoCIACcpR/+8IfasGGD3nzzTRUXF2vv3r2JLgkAWkUABIAYcTgcuvHGG2UYRqJLAYBWEQABIIa6d++uAwcOJLoMAGgVARAAYujgwYPq1atXossAgFYRAAEgRkKhkAoLC+V0OhNdCgC0igAIAGdp6dKlmjRpksaPH69vfvOb6tevX6JLAoBWGZZlWYkuAgAAAPHDCCAAAIDNEAABAABshgAIAABgMwRAAAAAmyEAAgAA2Mz/A8Qom4iHGlNAAAAAAElFTkSuQmCC' width=640.0/>\n",
       "            </div>\n",
       "        "
      ],
      "text/plain": [
       "Canvas(toolbar=Toolbar(toolitems=[('Home', 'Reset original view', 'home', 'home'), ('Back', 'Back to previous …"
      ]
     },
     "metadata": {},
     "output_type": "display_data"
    }
   ],
   "source": [
    "_, axtest2 = plt.subplots()\n",
    "DIaft = DIdf[((DIdf['Day'] == 1) | (DIdf['Day'] == 2) | (DIdf['Day'] == 7))]\n",
    "sns.scatterplot(x='DI', y='|DI|mean', data=DIaft[DIaft.Group != 'ANI'], hue='Group', ax=axtest2)"
   ]
  },
  {
   "cell_type": "code",
   "execution_count": null,
   "id": "863649d1",
   "metadata": {},
   "outputs": [],
   "source": [
    "Fig1.savefig(Path('/Users/nkinsky/Documents/BU/Working/Eraser/plots/Fig1'), scriptname='Figure1Notebook')"
   ]
  },
  {
   "cell_type": "code",
   "execution_count": null,
   "id": "72b7b34e",
   "metadata": {},
   "outputs": [],
   "source": [
    "Fig1stats.savefig(Path('/Users/nkinsky/Documents/BU/Working/Eraser/plots/Fig1stats'), scriptname='Figure1Notebook')"
   ]
  }
 ],
 "metadata": {
  "kernelspec": {
   "display_name": "Python 3 (ipykernel)",
   "language": "python",
   "name": "python3"
  },
  "language_info": {
   "codemirror_mode": {
    "name": "ipython",
    "version": 3
   },
   "file_extension": ".py",
   "mimetype": "text/x-python",
   "name": "python",
   "nbconvert_exporter": "python",
   "pygments_lexer": "ipython3",
   "version": "3.9.5"
  }
 },
 "nbformat": 4,
 "nbformat_minor": 5
}
