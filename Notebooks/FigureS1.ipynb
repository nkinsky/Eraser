{
 "cells": [
  {
   "cell_type": "markdown",
   "id": "885e3a8e",
   "metadata": {},
   "source": [
    "Figure to capture behavior-related data that doesn't belong in Figure 1."
   ]
  },
  {
   "cell_type": "code",
   "execution_count": null,
   "id": "4ccb5452",
   "metadata": {},
   "outputs": [],
   "source": [
    "import scipy.stats as s\n",
    "import numpy as np\n",
    "import matplotlib.pyplot as plt\n",
    "from os import path\n",
    "import seaborn as sns\n",
    "\n",
    "# Import project specific modules and enable automatic reloading\n",
    "import sys\n",
    "from pathlib import Path\n",
    "import os\n",
    "eraser_path = Path(os.getcwd()).parent\n",
    "reinstatement_path = eraser_path.parent / 'FearReinstatement'\n",
    "sys.path.append(str(eraser_path))\n",
    "sys.path.append(str(reinstatement_path))\n",
    "%load_ext autoreload\n",
    "%autoreload 2\n",
    "\n",
    "import eraser_reference as err\n",
    "import er_plot_functions as er\n",
    "from plotting import Fig, pretty_plot"
   ]
  },
  {
   "cell_type": "code",
   "execution_count": null,
   "id": "23cad655",
   "metadata": {},
   "outputs": [],
   "source": [
    "# Set up main figure plotting\n",
    "%matplotlib ipympl\n",
    "FigS1 = Fig(num=1, grid=(3, 4), size=(8.5, 4.75), fontsize=6)\n",
    "print(Fig1.fig.get_size_inches())"
   ]
  },
  {
   "cell_type": "code",
   "execution_count": null,
   "id": "a8bea491",
   "metadata": {},
   "outputs": [],
   "source": [
    "# Get freezing ratios for future calculations\n",
    "figc, axc, fratio_cont = er.plot_all_freezing(err.control_mice_good, s=9, xoffset=0.1)"
   ]
  },
  {
   "cell_type": "code",
   "execution_count": null,
   "id": "1e52622c",
   "metadata": {},
   "outputs": [],
   "source": [
    "figa, axa, fratio_ani = er.plot_all_freezing(err.ani_mice_good, s=9, xoffset=0.1)"
   ]
  },
  {
   "cell_type": "code",
   "execution_count": null,
   "id": "be9d5153",
   "metadata": {},
   "outputs": [],
   "source": [
    "# ANI DI ratios - Plot into supplemental\n",
    "ahista = FigS1.subplot(341)\n",
    "DI_aft_ani = ((fratio_ani[0, 3:5, :] - fratio_ani[1, 3:5, :]).reshape(-1))/((fratio_ani[0, 3:5, :] + \n",
    "                                                                           fratio_ani[1, 3:5, :]).reshape(-1))\n",
    "ahista.hist(DI_aft_ani, bins=bins, histtype='step')\n",
    "ahista.set_title('ANI')\n",
    "ahista.set_xlabel('$DI_{beh}$')"
   ]
  },
  {
   "cell_type": "code",
   "execution_count": null,
   "id": "3f604a1b",
   "metadata": {},
   "outputs": [],
   "source": [
    "# Supplemental to anticipate reviewer question: \n",
    "# Exclude Marble29 who is freezing a bunch before even being shocked in shock arena\n",
    "ax29 = FigS1.subplot(342)\n",
    "figcn29, axcn29, fratio_contn29 = er.plot_all_freezing(err.control_mice_good[0:-1], ax=ax29, s=9, xoffset=0.1)\n",
    "axcn29.set_ylim([-0.025, 0.80])\n",
    "axcn29.set_title('Control - No Marble29')"
   ]
  }
 ],
 "metadata": {
  "kernelspec": {
   "display_name": "Python 3 (ipykernel)",
   "language": "python",
   "name": "python3"
  },
  "language_info": {
   "codemirror_mode": {
    "name": "ipython",
    "version": 3
   },
   "file_extension": ".py",
   "mimetype": "text/x-python",
   "name": "python",
   "nbconvert_exporter": "python",
   "pygments_lexer": "ipython3",
   "version": "3.9.5"
  }
 },
 "nbformat": 4,
 "nbformat_minor": 5
}
