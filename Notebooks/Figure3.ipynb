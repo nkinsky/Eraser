{
 "cells": [
  {
   "cell_type": "markdown",
   "id": "9748b31e",
   "metadata": {},
   "source": [
    "Figure 3: Shock predicting cell co-firing stifled by ANI administration"
   ]
  },
  {
   "cell_type": "code",
   "execution_count": 1,
   "id": "4b41c5ee",
   "metadata": {},
   "outputs": [],
   "source": [
    "import scipy.stats as s\n",
    "import numpy as np\n",
    "import matplotlib.pyplot as plt\n",
    "from os import path\n",
    "import seaborn as sns\n",
    "import pandas as pd\n",
    "\n",
    "# Import project specific modules and enable automatic reloading\n",
    "import sys\n",
    "from pathlib import Path\n",
    "import os\n",
    "eraser_path = Path(os.getcwd()).parent\n",
    "reinstatement_path = eraser_path.parent / 'FearReinstatement'\n",
    "sys.path.append(str(eraser_path))\n",
    "sys.path.append(str(reinstatement_path))\n",
    "%load_ext autoreload\n",
    "%autoreload 2\n",
    "\n",
    "import eraser_reference as err\n",
    "import er_plot_functions as er\n",
    "from plotting import Fig, pretty_plot, FigMirror\n",
    "import placefield_stability as pfs\n",
    "import Placefields as pf\n",
    "import discrimination as discr\n",
    "import ca_traces as trc"
   ]
  },
  {
   "cell_type": "markdown",
   "id": "2378b15e",
   "metadata": {},
   "source": [
    "Plot #1: Example motion trace with cell activity overlaid.  Ideally this would show two neurons that aren't tuned together before shock and then activate together after shock."
   ]
  },
  {
   "cell_type": "markdown",
   "id": "dbb989f6",
   "metadata": {},
   "source": [
    "Plot #2: Example freeze-tuned cell rasters from each group?"
   ]
  },
  {
   "cell_type": "markdown",
   "id": "4f4326df",
   "metadata": {},
   "source": [
    "Plot #3: Covariance matrix plot?"
   ]
  },
  {
   "cell_type": "markdown",
   "id": "367cd018",
   "metadata": {},
   "source": [
    "Plot #3a (Supplemental): Ensemble plots - show example of a couple ensembles that form and how they match freeze-cells."
   ]
  },
  {
   "cell_type": "markdown",
   "id": "dc7374b4",
   "metadata": {},
   "source": [
    "Plot #4: Plot of %shock cells between groups across different epochs."
   ]
  },
  {
   "cell_type": "markdown",
   "id": "81cf0d2c",
   "metadata": {},
   "source": [
    "Plot #5: Plot of ANI effects on shock cell covariance"
   ]
  },
  {
   "cell_type": "markdown",
   "id": "e6b599f3",
   "metadata": {},
   "source": [
    "Plot #6: ANI effects on all cell covariance (none)"
   ]
  },
  {
   "cell_type": "markdown",
   "id": "4f7d3fa7",
   "metadata": {},
   "source": [
    "Plot #7: ANI effects on place-cell covariance? Look at only top cells maybe? Or look at just cells with high covariance on days -2/-1? Might expect it to stay high for ANI and get much reduced for others.  This is above and beyond the correlation metric because it looks at how cells fire together across the whole session, not just whether they happen to fire in the same spot."
   ]
  }
 ],
 "metadata": {
  "kernelspec": {
   "display_name": "Python 3 (ipykernel)",
   "language": "python",
   "name": "python3"
  },
  "language_info": {
   "codemirror_mode": {
    "name": "ipython",
    "version": 3
   },
   "file_extension": ".py",
   "mimetype": "text/x-python",
   "name": "python",
   "nbconvert_exporter": "python",
   "pygments_lexer": "ipython3",
   "version": "3.9.5"
  }
 },
 "nbformat": 4,
 "nbformat_minor": 5
}
