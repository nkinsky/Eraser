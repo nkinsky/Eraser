{
 "cells": [
  {
   "cell_type": "markdown",
   "id": "d59b9c8c",
   "metadata": {},
   "source": [
    "# NRK todo:\n",
    "\n",
    "1) Write function to calculate assembly activation in line with van de Ven and Trouche papers: Rk(t) = z(t)T*pk*z(t).  Make SURE to zero out diagnoal in pk!!!\n",
    "  \n",
    "2) Plot out assembly activation for Marble07 day 2.  \n",
    "\n",
    "3) Compare to previous method, directly multiplying the ica weight * PSAbool.\n",
    "\n",
    "4) Figure out why ICAs are so similar for this method - plot out zproj, PCmats (Zproj_cov), etc. and compare between Marble07 day 1 and 2.  Is it because ICA is not converging? Or for some other reason?\n"
   ]
  }
 ],
 "metadata": {
  "kernelspec": {
   "display_name": "Python 3 (ipykernel)",
   "language": "python",
   "name": "python3"
  },
  "language_info": {
   "codemirror_mode": {
    "name": "ipython",
    "version": 3
   },
   "file_extension": ".py",
   "mimetype": "text/x-python",
   "name": "python",
   "nbconvert_exporter": "python",
   "pygments_lexer": "ipython3",
   "version": "3.9.5"
  }
 },
 "nbformat": 4,
 "nbformat_minor": 5
}
