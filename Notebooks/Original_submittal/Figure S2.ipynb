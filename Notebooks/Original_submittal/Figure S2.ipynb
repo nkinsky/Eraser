{
 "cells": [
  {
   "cell_type": "markdown",
   "id": "d9aab1f3",
   "metadata": {},
   "source": [
    "Figure to provide lots of raw data shots of imaging - FOVs, neuron layouts, registrations between sessions, and traces.  Provide at least one from Learners, Non-Learners, and ANI."
   ]
  }
 ],
 "metadata": {
  "kernelspec": {
   "display_name": "Python 3 (ipykernel)",
   "language": "python",
   "name": "python3"
  },
  "language_info": {
   "codemirror_mode": {
    "name": "ipython",
    "version": 3
   },
   "file_extension": ".py",
   "mimetype": "text/x-python",
   "name": "python",
   "nbconvert_exporter": "python",
   "pygments_lexer": "ipython3",
   "version": "3.9.5"
  }
 },
 "nbformat": 4,
 "nbformat_minor": 5
}
