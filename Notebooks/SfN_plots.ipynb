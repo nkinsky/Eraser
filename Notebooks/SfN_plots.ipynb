{
 "cells": [
  {
   "cell_type": "markdown",
   "id": "99b4118e",
   "metadata": {},
   "source": [
    "First, plot example freezing cells from Marble07: 53, 67, 90, and 334"
   ]
  },
  {
   "cell_type": "markdown",
   "id": "11fc6918",
   "metadata": {},
   "source": [
    "Next, plot example cell from ANI (Marble17 cell 144 from day 1) to show crappy stability along with Marble25 cell 375 day 1."
   ]
  },
  {
   "cell_type": "markdown",
   "id": "4364f3bd",
   "metadata": {},
   "source": [
    "Next plot example cell from Learner (Marble24 day 1 cell 36) to show a cell that comes online during 4 hour session and then stays stable through day 2. Also Marble 12 shock day 4 cell 128."
   ]
  },
  {
   "cell_type": "code",
   "execution_count": null,
   "id": "785d1cca",
   "metadata": {},
   "outputs": [],
   "source": [
    "# Super rough copy of terminal history for plotting across day stability between groups!\n",
    "import freezing_analysis as fa\n",
    "ts = fa.TuningStability('Shock', 'freeze_onset', 0.01)\n",
    "df1er = ts.metric_to_df(1, 'event_rates', delta=True)\n",
    "sns.stripplot(x='Day', y='event_rates', data=df1er, hue='Group', dodge=True, order=[-1, 4, 1, 2])\n",
    "sns.stripplot(x='Day', y='\\Detlaevent_rates', data=df1er, hue='Group', dodge=True, order=[-1, 4, 1, 2])\n",
    "sns.stripplot(x='Day', y='\\Deltaaevent_rates', data=df1er, hue='Group', dodge=True, order=[-1, 4, 1, 2])\n",
    "sns.stripplot(x='Day', y='\\Deltaevent_rates', data=df1er, hue='Group', dodge=True, order=[-1, 4, 1, 2])\n",
    "sns.stripplot(x='Day', y='\\Deltaevent_rates', data=df1er, hue='Group', dodge=True, order=[-1, 4, 1, 2], palette='Set2')\n",
    "sns.barplot(x='Day', y='\\Deltaevent_rates', data=df1er, hue='Group', dodge=True, order=[-1, 4, 1, 2], palette='Set2', facecolor=(1,1,1,0), edgecolor=(1,1,1,0))\n",
    "df1er.filter(like='Control', axis='Exp Group')\n",
    "df1er.filter(like='ANI', axis='Group')\n",
    "df1er.filter(like='ANI', axis=1)\n",
    "df1er.filter(like='ANI', axis=2)\n",
    "df1er.filter(like='ANI', axis=0)\n",
    "df1er['Exp Group'] == 'ANI'\n",
    "df1er[df1er['Exp Group'] == 'ANI']\n",
    "df1er\n",
    "import scipy.stats as stats\n",
    "df1er[df1er['Group'] == 'Learners' & df1er['Base Day'] == 4]\n",
    "df1er['Group'] == 'Learners' & df1er['Base Day'] == 4\n",
    "bool(df1er['Group'] == 'Learners')\n",
    "df1er['Group'] == 'Learners'\n",
    "np.bitwise_and(df1er['Group'] == 'Learners', df1er['Day'] == 4]\n",
    "np.bitwise_and(df1er['Group'] == 'Learners', df1er['Day'] == 4])\n",
    "np.bitwise_and(df1er['Group'] == 'Learners', df1er['Day'] == 4)\n",
    "np.bitwise_and(df1er['Group'] == 'Learners', df1er['Day'] == 4).sum()\n",
    "grp1 = df1er[np.bitwise_and(df1er['Group'] == 'Learners', df1er['Day'] == 4)]\n",
    "grp2 = df1er[np.bitwise_and(df1er['Group'] == 'Nonlearners', df1er['Day'] == 4)]\n",
    "grp3 = df1er[np.bitwise_and(df1er['Group'] == 'ANI', df1er['Day'] == 4)]\n",
    "stat, pval = stats.ttest_ind(grp1, grp2)\n",
    "grp1\n",
    "stat, pval = stats.ttest_ind(grp1['\\Deltaevent_rates'], grp2['\\Deltaevent_rates'])\n",
    "stat, pval = stats.ttest_ind(grp1['\\Deltaevent_rates'], grp2['\\Deltaevent_rates'], nan_policy='omit')\n",
    "stat\n",
    "stat, pval = stats.ttest_ind(grp1['\\Deltaevent_rates'], grp3['\\Deltaevent_rates'], nan_policy='omit')\n",
    "stat, pval = stats.ttest_ind(grp2['\\Deltaevent_rates'], grp3['\\Deltaevent_rates'], nan_policy='omit')\n",
    "plt.gca().legend(loc='upper right')\n",
    "sns.despine(ax=plt.gca())\n",
    "fig = plt.gcf()\n",
    "fig.savefig('/Users/nkinsky/Documents/BU/Working/Eraser/plots/freeze_cell_event_rate_across_days_base1.pdf')\n",
    "grp12 = df1er[np.bitwise_and(df1er['Group'] == 'Learners', df1er['Day'] == 2)]\n",
    "grp22 = df1er[np.bitwise_and(df1er['Group'] == 'Nonlearners', df1er['Day'] == 2)]\n",
    "grp32 = df1er[np.bitwise_and(df1er['Group'] == 'ANI', df1er['Day'] == 2)]\n",
    "stat, pval = stats.ttest_ind(grp12['\\Deltaevent_rates'], grp22['\\Deltaevent_rates'], nan_policy='omit')\n",
    "stat, pval = stats.ttest_ind(grp12['\\Deltaevent_rates'], grp32['\\Deltaevent_rates'], nan_policy='omit')\n",
    "pval"
   ]
  }
 ],
 "metadata": {
  "kernelspec": {
   "display_name": "Python 3 (ipykernel)",
   "language": "python",
   "name": "python3"
  },
  "language_info": {
   "codemirror_mode": {
    "name": "ipython",
    "version": 3
   },
   "file_extension": ".py",
   "mimetype": "text/x-python",
   "name": "python",
   "nbconvert_exporter": "python",
   "pygments_lexer": "ipython3",
   "version": "3.9.5"
  }
 },
 "nbformat": 4,
 "nbformat_minor": 5
}
