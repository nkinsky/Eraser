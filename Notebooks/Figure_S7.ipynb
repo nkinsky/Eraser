{
 "cells": [
  {
   "cell_type": "code",
   "execution_count": 1,
   "id": "dca68091",
   "metadata": {},
   "outputs": [],
   "source": [
    "from pathlib import Path\n",
    "import pandas as pd\n",
    "import numpy as np\n",
    "import matplotlib.pyplot as plt\n",
    "import h5py\n",
    "import seaborn as sns\n",
    "import sys\n",
    "\n",
    "neuropy_path = Path('/Users/nkinsky/Documents/UM/GitHub/NeuroPy')\n",
    "eraser_path = Path('/Users/nkinsky/Documents/BU/GitHub/Eraser')\n",
    "sys.path.append(str(neuropy_path))\n",
    "sys.path.append(str(eraser_path))\n",
    "%load_ext autoreload\n",
    "%autoreload 2\n",
    "\n",
    "from neuropy.utils.ccg import correlograms\n",
    "from neuropy.utils.mathutil import contiguous_regions\n",
    "from neuropy.io.openephysio import get_dat_timestamps\n",
    "from neuropy.plotting import Fig\n",
    "from neuropy.io.binarysignalio import BinarysignalIO\n",
    "from neuropy.plotting.signals import plot_signal_traces\n",
    "\n",
    "# Eraser github imports\n",
    "from Ephys.ephys import *\n",
    "# from plotting import Fig, pretty_plot, FigMirror"
   ]
  },
  {
   "cell_type": "code",
   "execution_count": 2,
   "id": "43b04887",
   "metadata": {},
   "outputs": [
    {
     "name": "stdout",
     "output_type": "stream",
     "text": [
      "[7. 3.]\n"
     ]
    },
    {
     "data": {
      "text/plain": [
       "<Figure size 700x300 with 0 Axes>"
      ]
     },
     "metadata": {},
     "output_type": "display_data"
    }
   ],
   "source": [
    "FigS7 = Fig(num=\"Figure S7\", grid=(4, 5), size=(7, 3), fontsize=6)\n",
    "print(FigS7.fig.get_size_inches())"
   ]
  },
  {
   "cell_type": "code",
   "execution_count": 3,
   "id": "4667a957",
   "metadata": {},
   "outputs": [],
   "source": [
    "fig_save_dir = Path('/Users/nkinsky/Documents/BU/Working/Eraser/plots')"
   ]
  },
  {
   "cell_type": "code",
   "execution_count": 4,
   "id": "5f43fd82",
   "metadata": {},
   "outputs": [],
   "source": [
    "working_dir = Path('/Users/nkinsky/Documents/UM/Working/Anisomycin/Recording_Rats/Wedge')"
   ]
  },
  {
   "cell_type": "code",
   "execution_count": 5,
   "id": "2af1e06e",
   "metadata": {},
   "outputs": [],
   "source": [
    "saline1_folder = '2022_12_12_saline'\n",
    "ani_folder = '2022_12_13_anisomycin50mg'\n",
    "saline2_folder = '2022_12_14_saline2'\n",
    "ani2_folder = '2022_12_15_anisomycin25'\n",
    "rec_only_folder = '2022_12_16_recordonly'\n",
    "saline3_folder = '2022_12_21_saline3'\n",
    "\n",
    "\n",
    "folder_list = [saline1_folder, ani_folder, saline2_folder, saline3_folder]\n",
    "unit_type = ['single', 'single', 'single', 'single']\n",
    "session = ['saline1', 'ANI', 'saline2', 'saline3']"
   ]
  },
  {
   "cell_type": "code",
   "execution_count": 6,
   "id": "bef2236f",
   "metadata": {},
   "outputs": [
    {
     "name": "stdout",
     "output_type": "stream",
     "text": [
      "start time = 2022-12-13 11:25:07\n",
      "start time = 2022-12-13 11:44:12\n",
      "start time = 2022-12-13 12:30:43\n",
      "start time = 2022-12-13 15:19:03\n",
      "start time = 2022-12-13 15:39:55\n",
      "start time = 2022-12-13 15:47:14\n",
      "start time = 2022-12-13 16:26:17\n"
     ]
    }
   ],
   "source": [
    "ani_timestamps = get_dat_timestamps(working_dir / ani_folder)"
   ]
  },
  {
   "cell_type": "code",
   "execution_count": 7,
   "id": "74abb8eb",
   "metadata": {},
   "outputs": [
    {
     "data": {
      "text/html": [
       "<div>\n",
       "<style scoped>\n",
       "    .dataframe tbody tr th:only-of-type {\n",
       "        vertical-align: middle;\n",
       "    }\n",
       "\n",
       "    .dataframe tbody tr th {\n",
       "        vertical-align: top;\n",
       "    }\n",
       "\n",
       "    .dataframe thead th {\n",
       "        text-align: right;\n",
       "    }\n",
       "</style>\n",
       "<table border=\"1\" class=\"dataframe\">\n",
       "  <thead>\n",
       "    <tr style=\"text-align: right;\">\n",
       "      <th></th>\n",
       "      <th>start</th>\n",
       "      <th>stop</th>\n",
       "      <th>label</th>\n",
       "    </tr>\n",
       "  </thead>\n",
       "  <tbody>\n",
       "    <tr>\n",
       "      <th>0</th>\n",
       "      <td>2022-12-13 11:25:00</td>\n",
       "      <td>2022-12-13 11:41:50</td>\n",
       "      <td>pre</td>\n",
       "    </tr>\n",
       "    <tr>\n",
       "      <th>1</th>\n",
       "      <td>2022-12-13 11:42:00</td>\n",
       "      <td>2022-12-13 11:42:10</td>\n",
       "      <td>injection</td>\n",
       "    </tr>\n",
       "    <tr>\n",
       "      <th>2</th>\n",
       "      <td>2022-12-13 11:44:00</td>\n",
       "      <td>2022-12-13 12:30:00</td>\n",
       "      <td>track 1 (novel)</td>\n",
       "    </tr>\n",
       "    <tr>\n",
       "      <th>3</th>\n",
       "      <td>2022-12-13 12:30:43</td>\n",
       "      <td>2022-12-13 15:46:40</td>\n",
       "      <td>post</td>\n",
       "    </tr>\n",
       "    <tr>\n",
       "      <th>4</th>\n",
       "      <td>2022-12-13 15:47:00</td>\n",
       "      <td>2022-12-13 16:25:40</td>\n",
       "      <td>track 2 (new config)</td>\n",
       "    </tr>\n",
       "    <tr>\n",
       "      <th>5</th>\n",
       "      <td>2022-12-13 16:26:00</td>\n",
       "      <td>2022-12-13 16:41:00</td>\n",
       "      <td>post 2</td>\n",
       "    </tr>\n",
       "  </tbody>\n",
       "</table>\n",
       "</div>"
      ],
      "text/plain": [
       "                start                stop                 label\n",
       "0 2022-12-13 11:25:00 2022-12-13 11:41:50                   pre\n",
       "1 2022-12-13 11:42:00 2022-12-13 11:42:10             injection\n",
       "2 2022-12-13 11:44:00 2022-12-13 12:30:00       track 1 (novel)\n",
       "3 2022-12-13 12:30:43 2022-12-13 15:46:40                  post\n",
       "4 2022-12-13 15:47:00 2022-12-13 16:25:40  track 2 (new config)\n",
       "5 2022-12-13 16:26:00 2022-12-13 16:41:00                post 2"
      ]
     },
     "execution_count": 7,
     "metadata": {},
     "output_type": "execute_result"
    }
   ],
   "source": [
    "load_events_csv(ani_folder, ani_timestamps.iloc[0])"
   ]
  },
  {
   "cell_type": "code",
   "execution_count": 8,
   "id": "ecc33f9f",
   "metadata": {},
   "outputs": [
    {
     "name": "stdout",
     "output_type": "stream",
     "text": [
      "Calculating CCGs for epoch pre\n",
      "Calculating CCGs for epoch injection\n",
      "Calculating CCGs for epoch track 1 (novel)\n",
      "Calculating CCGs for epoch post\n",
      "Calculating CCGs for epoch track 2 (new config)\n",
      "Calculating CCGs for epoch post 2\n"
     ]
    }
   ],
   "source": [
    "corr_by_epoch_ani, time_bins_ani, epochs_used_ani = calc_ccg_by_epoch(ani_folder, timestamps=ani_timestamps)"
   ]
  },
  {
   "cell_type": "code",
   "execution_count": 9,
   "id": "3c218805",
   "metadata": {},
   "outputs": [
    {
     "name": "stdout",
     "output_type": "stream",
     "text": [
      "Calculating CCGs for epoch pre\n",
      "Calculating CCGs for epoch injection\n",
      "Calculating CCGs for epoch track 1 (novel)\n",
      "Calculating CCGs for epoch post\n",
      "Calculating CCGs for epoch track 2 (new config)\n",
      "Calculating CCGs for epoch post 2\n"
     ]
    }
   ],
   "source": [
    "corr_by_epoch_anic, time_bins_anic, epochs_used_anic = calc_ccg_by_epoch(ani_folder, timestamps=ani_timestamps, \n",
    "                                                                        combine_units=True)"
   ]
  },
  {
   "cell_type": "code",
   "execution_count": 10,
   "id": "91a843ac",
   "metadata": {
    "scrolled": true
   },
   "outputs": [
    {
     "data": {
      "image/png": "[encoded data removed]",
      "text/plain": [
       "<Figure size 1100x175 with 5 Axes>"
      ]
     },
     "metadata": {},
     "output_type": "display_data"
    }
   ],
   "source": [
    "plot_ccg_by_epoch(corr_by_epoch_anic[:, 0, 0, :].reshape((corr_by_epoch_anic.shape[0], 1, 1, corr_by_epoch_anic.shape[3])), \n",
    "                  time_bins_anic, epochs_used_anic, 'ANI1 Combined')\n",
    "plt.gcf().set_size_inches((11, 1.75))"
   ]
  },
  {
   "cell_type": "code",
   "execution_count": 11,
   "id": "17441b09",
   "metadata": {
    "scrolled": true
   },
   "outputs": [
    {
     "data": {
      "image/png": "[encoded data removed]",
      "text/plain": [
       "<Figure size 700x300 with 5 Axes>"
      ]
     },
     "execution_count": 11,
     "metadata": {},
     "output_type": "execute_result"
    }
   ],
   "source": [
    "ax_ani1 = []\n",
    "for i in range(5):\n",
    "    ax_ani1.append(FigS7.subplot(FigS7.gs[0, i]))\n",
    "ax_ani1 = np.array(ax_ani1)[None, :]\n",
    "plot_ccg_by_epoch(corr_by_epoch_anic, time_bins_anic, epochs_used_anic, 'ANI1 combined',\n",
    "                                    ax=ax_ani1)\n",
    "\n",
    "FigS7.fig"
   ]
  },
  {
   "cell_type": "code",
   "execution_count": 12,
   "id": "2c7354cf",
   "metadata": {},
   "outputs": [],
   "source": [
    "FigS7.savefig(fig_save_dir / 'Figure S7.pdf')"
   ]
  },
  {
   "cell_type": "code",
   "execution_count": 13,
   "id": "2b90fe5f",
   "metadata": {
    "scrolled": true
   },
   "outputs": [],
   "source": [
    "# plot_ccg_by_epoch(corr_by_epoch_ani, time_bins_ani, epochs_used_ani, 'ANI1')\n",
    "# plt.gcf().set_size_inches((10, 12))"
   ]
  },
  {
   "cell_type": "markdown",
   "id": "baafd3ed",
   "metadata": {},
   "source": [
    "### Import eeg file and get raw theta and SWR traces"
   ]
  },
  {
   "cell_type": "code",
   "execution_count": 14,
   "id": "1f75bef0",
   "metadata": {},
   "outputs": [
    {
     "data": {
      "text/plain": [
       "PosixPath('/Users/nkinsky/Documents/UM/Working/Anisomycin/Recording_Rats/Wedge/2022_12_13_anisomycin50mg/Wedge_ani1.eeg')"
      ]
     },
     "execution_count": 14,
     "metadata": {},
     "output_type": "execute_result"
    }
   ],
   "source": [
    "sorted((working_dir / ani_folder).glob(\"*.eeg\"))[0]"
   ]
  },
  {
   "cell_type": "code",
   "execution_count": 15,
   "id": "971a1554",
   "metadata": {
    "scrolled": true
   },
   "outputs": [
    {
     "name": "stdout",
     "output_type": "stream",
     "text": [
      "duration: 18406.83 seconds \n",
      "duration: 5.11 hours \n",
      "\n"
     ]
    }
   ],
   "source": [
    "ani_signal = BinarysignalIO(sorted((working_dir / ani_folder).glob(\"*.eeg\"))[0], n_channels=35, sampling_rate=1250)\n",
    "print(ani_signal)"
   ]
  },
  {
   "cell_type": "code",
   "execution_count": 16,
   "id": "563db2d6",
   "metadata": {},
   "outputs": [
    {
     "name": "stdout",
     "output_type": "stream",
     "text": [
      "duration: 18406.83 seconds \n",
      "duration: 5.11 hours \n",
      "\n"
     ]
    }
   ],
   "source": [
    "print(ani_signal)"
   ]
  },
  {
   "cell_type": "code",
   "execution_count": 17,
   "id": "3808f3f6",
   "metadata": {},
   "outputs": [
    {
     "data": {
      "text/html": [
       "<div>\n",
       "<style scoped>\n",
       "    .dataframe tbody tr th:only-of-type {\n",
       "        vertical-align: middle;\n",
       "    }\n",
       "\n",
       "    .dataframe tbody tr th {\n",
       "        vertical-align: top;\n",
       "    }\n",
       "\n",
       "    .dataframe thead th {\n",
       "        text-align: right;\n",
       "    }\n",
       "</style>\n",
       "<table border=\"1\" class=\"dataframe\">\n",
       "  <thead>\n",
       "    <tr style=\"text-align: right;\">\n",
       "      <th></th>\n",
       "      <th>start</th>\n",
       "      <th>stop</th>\n",
       "      <th>label</th>\n",
       "    </tr>\n",
       "  </thead>\n",
       "  <tbody>\n",
       "    <tr>\n",
       "      <th>0</th>\n",
       "      <td>2022-12-13 11:25:00</td>\n",
       "      <td>2022-12-13 11:41:50</td>\n",
       "      <td>pre</td>\n",
       "    </tr>\n",
       "    <tr>\n",
       "      <th>1</th>\n",
       "      <td>2022-12-13 11:42:00</td>\n",
       "      <td>2022-12-13 11:42:10</td>\n",
       "      <td>injection</td>\n",
       "    </tr>\n",
       "    <tr>\n",
       "      <th>2</th>\n",
       "      <td>2022-12-13 11:44:00</td>\n",
       "      <td>2022-12-13 12:30:00</td>\n",
       "      <td>track 1 (novel)</td>\n",
       "    </tr>\n",
       "    <tr>\n",
       "      <th>3</th>\n",
       "      <td>2022-12-13 12:30:43</td>\n",
       "      <td>2022-12-13 15:46:40</td>\n",
       "      <td>post</td>\n",
       "    </tr>\n",
       "    <tr>\n",
       "      <th>4</th>\n",
       "      <td>2022-12-13 15:47:00</td>\n",
       "      <td>2022-12-13 16:25:40</td>\n",
       "      <td>track 2 (new config)</td>\n",
       "    </tr>\n",
       "    <tr>\n",
       "      <th>5</th>\n",
       "      <td>2022-12-13 16:26:00</td>\n",
       "      <td>2022-12-13 16:41:00</td>\n",
       "      <td>post 2</td>\n",
       "    </tr>\n",
       "  </tbody>\n",
       "</table>\n",
       "</div>"
      ],
      "text/plain": [
       "                start                stop                 label\n",
       "0 2022-12-13 11:25:00 2022-12-13 11:41:50                   pre\n",
       "1 2022-12-13 11:42:00 2022-12-13 11:42:10             injection\n",
       "2 2022-12-13 11:44:00 2022-12-13 12:30:00       track 1 (novel)\n",
       "3 2022-12-13 12:30:43 2022-12-13 15:46:40                  post\n",
       "4 2022-12-13 15:47:00 2022-12-13 16:25:40  track 2 (new config)\n",
       "5 2022-12-13 16:26:00 2022-12-13 16:41:00                post 2"
      ]
     },
     "execution_count": 17,
     "metadata": {},
     "output_type": "execute_result"
    }
   ],
   "source": [
    "ani_epochs = load_events_csv(ani_folder, start_time=ani_timestamps.iloc[0])\n",
    "ani_epochs"
   ]
  },
  {
   "cell_type": "code",
   "execution_count": 18,
   "id": "65d7273f",
   "metadata": {},
   "outputs": [
    {
     "data": {
      "text/plain": [
       "(-2.3360459973463072, 2.6827952233524988)"
      ]
     },
     "execution_count": 18,
     "metadata": {},
     "output_type": "execute_result"
    },
    {
     "data": {
      "image/png": "[encoded data removed]",
      "text/plain": [
       "<Figure size 640x480 with 1 Axes>"
      ]
     },
     "metadata": {},
     "output_type": "display_data"
    }
   ],
   "source": [
    "def get_epoch_signal(signal, epoch, epochs_df, channel_indx=None, SR=30000):\n",
    "    SR = 30000\n",
    "    epochs = epochs_df\n",
    "    ts = ani_timestamps.squeeze()\n",
    "    epoch_use = epochs[epochs['label'] == epoch]\n",
    "    start_sec = ts.searchsorted(epoch_use['start'])/SR\n",
    "    stop_sec = ts.searchsorted(epoch_use['stop'])/SR\n",
    "\n",
    "    return signal.get_signal(channel_indx=channel_indx, t_start=start_sec, t_stop=stop_sec)\n",
    "\n",
    "# Make sure it is working well by plotting\n",
    "pre_theta = get_epoch_signal(ani_signal, 'pre', ani_epochs, channel_indx=4)\n",
    "ax = plot_signal_traces(pre_theta.time_slice(t_start=395, t_stop=400))\n",
    "ax.set_ylim(np.array(ax.get_ylim())*2)"
   ]
  },
  {
   "cell_type": "code",
   "execution_count": null,
   "id": "44711aee",
   "metadata": {},
   "outputs": [],
   "source": [
    "ax_theta = FigS7.subplot2grid(FigS7.gs[1:, 0:2], grid=(4, 1), return_axes=True)\n",
    "\n",
    "### TODO: set ylim to be all the same\n",
    "track_theta = get_epoch_signal(ani_signal, 'track 1 (novel)', ani_epochs, channel_indx=4)\n",
    "post_theta = get_epoch_signal(ani_signal, 'post', ani_epochs, channel_indx=4)\n",
    "post_hp = filter_sig.highpass(post_theta, cutoff=2)  # highpass filter to get rid of floating ground issue in homecage\n",
    "track2_theta = get_epoch_signal(ani_signal, 'track 2 (new config)', ani_epochs, channel_indx=4)\n",
    "\n",
    "# Track 10 min post ANI\n",
    "plot_signal_traces(track_theta.time_slice(t_start=1529, t_stop=1532), ax=ax_theta[0])\n",
    "ax_theta[0].set_title('Track: 10 min post ANI')\n",
    "\n",
    "# Post 50 min post ANI\n",
    "plot_signal_traces(post_hp.time_slice(t_start=3829, t_stop=3833), ax=ax_theta[1])\n",
    "ax_theta[1].set_title('Post: 50 min post ANI')\n",
    "ax_theta[1].sharey(ax_theta[0])\n",
    "\n",
    "# Post 3 hrs post ANI\n",
    "# ax = plot_signal_traces(post_hp.time_slice(t_start=11780, t_stop=11783), ax=ax_theta[2])\n",
    "# plot_signal_traces(post_hp.time_slice(t_start=12986, t_stop=12989), ax=ax_theta[2])\n",
    "plot_signal_traces(post_hp.time_slice(t_start=13000, t_stop=13003), ax=ax_theta[2])\n",
    "# plot_signal_traces(post_hp.time_slice(t_start=13319, t_stop=13322), ax=ax_theta[2])\n",
    "ax_theta[2].set_title('Post: 3 hours post ANI')\n",
    "ax_theta[2].sharey(ax_theta[0])\n",
    "\n",
    "# 4 hours 15 min in, so 4 hours post.  Theta still there.\n",
    "plot_signal_traces(track2_theta.time_slice(t_start=15372, t_stop=15375), ax=ax_theta[3])\n",
    "ax_theta[3].set_title('Track 2: 4 hrs 15 min post ANI')\n",
    "ax_theta[3].sharey(ax_theta[0])\n",
    "\n",
    "FigS7.fig"
   ]
  },
  {
   "cell_type": "markdown",
   "id": "c21ba8c3",
   "metadata": {},
   "source": [
    "## Now grab some ripples"
   ]
  },
  {
   "cell_type": "code",
   "execution_count": null,
   "id": "c445cfd5",
   "metadata": {},
   "outputs": [],
   "source": [
    "swr_track = get_epoch_signal(ani_signal, 'track 1 (novel)', ani_epochs, channel_indx=[1, 2, 3, 4, 5, 6, 7, 8, 9])\n",
    "swr_post = get_epoch_signal(ani_signal, 'post', ani_epochs, channel_indx=[1, 2, 3, 4, 5, 6, 7, 8, 9])\n",
    "swr_track2 = get_epoch_signal(ani_signal, 'track 2 (new config)', ani_epochs, \n",
    "                              channel_indx=[1, 2, 3, 4, 5, 6, 7, 8, 9])"
   ]
  },
  {
   "cell_type": "code",
   "execution_count": null,
   "id": "d12531cf",
   "metadata": {},
   "outputs": [],
   "source": [
    "ax_swr = FigS7.subplot2grid(FigS7.gs[1:, 2:], grid=(1, 4), return_axes=True)"
   ]
  },
  {
   "cell_type": "code",
   "execution_count": null,
   "id": "29c91014",
   "metadata": {},
   "outputs": [],
   "source": [
    "# Track - 25 min post injection\n",
    "plot_signal_traces(swr_track.time_slice(t_start=2295.30, t_stop=2295.6), ax=ax_swr[0])\n",
    "ax_swr[0].set_title('Track: 25 min post ANI')\n",
    "\n",
    "# Post: 50 min post\n",
    "plot_signal_traces(swr_post.time_slice(t_start=3963.3, t_stop=3963.6), ax=ax_swr[1])\n",
    "ax_swr[1].set_title('Post: 50 min post ANI')\n",
    "\n",
    "# Post: ~195 min post\n",
    "plot_signal_traces(swr_post.time_slice(t_start=12570.1, t_stop=12570.4), ax=ax_swr[2])\n",
    "ax_swr[2].set_title('Post: 3hr 15 min post ANI')\n",
    "\n",
    "\n",
    "# Track 2: 265 min post\n",
    "plot_signal_traces(swr_track2.time_slice(t_start=16943.3, t_stop=16943.6), ax=ax_swr[3])\n",
    "ax_swr[3].set_title('Track 2: 4hr 15 min post ANI')\n",
    "\n",
    "\n",
    "FigS7.fig"
   ]
  }
 ],
 "metadata": {
  "kernelspec": {
   "display_name": "Python 3 (ipykernel)",
   "language": "python",
   "name": "python3"
  },
  "language_info": {
   "codemirror_mode": {
    "name": "ipython",
    "version": 3
   },
   "file_extension": ".py",
   "mimetype": "text/x-python",
   "name": "python",
   "nbconvert_exporter": "python",
   "pygments_lexer": "ipython3",
   "version": "3.9.13"
  }
 },
 "nbformat": 4,
 "nbformat_minor": 5
}
