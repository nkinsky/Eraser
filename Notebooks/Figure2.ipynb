{
 "cells": [
  {
   "cell_type": "markdown",
   "id": "7ff9d93e",
   "metadata": {},
   "source": [
    "### Figure 2: Cell Turnover, Anisomycin Effects, and Placefield Stability Remapping"
   ]
  },
  {
   "cell_type": "code",
   "execution_count": 1,
   "id": "30bf2db9",
   "metadata": {},
   "outputs": [],
   "source": [
    "import scipy.stats as sstats\n",
    "import numpy as np\n",
    "import matplotlib.pyplot as plt\n",
    "from os import path\n",
    "import seaborn as sns\n",
    "import pandas as pd\n",
    "\n",
    "\n",
    "# Import project specific modules and enable automatic reloading\n",
    "import sys\n",
    "from pathlib import Path\n",
    "import os\n",
    "eraser_path = Path(os.getcwd()).parent\n",
    "reinstatement_path = eraser_path.parent / 'FearReinstatement'\n",
    "sys.path.append(str(eraser_path))\n",
    "sys.path.append(str(reinstatement_path))\n",
    "%load_ext autoreload\n",
    "%autoreload 2\n",
    "\n",
    "import eraser_reference as err\n",
    "import er_plot_functions as er\n",
    "from plotting import Fig, pretty_plot, FigMirror\n",
    "import placefield_stability as pfs\n",
    "import Placefields as pf\n",
    "import discrimination as discr\n",
    "import ca_traces as trc\n",
    "import cell_tracking as ct"
   ]
  },
  {
   "cell_type": "markdown",
   "id": "5fc31d14",
   "metadata": {},
   "source": [
    "Set up main figure for plotting"
   ]
  },
  {
   "cell_type": "markdown",
   "id": "82acbc26",
   "metadata": {},
   "source": [
    "## NRK todo:\n",
    "0) Match axes for overlap plots\n",
    "1) Fix color in plots below for overlap. Black and green?\n",
    "2) remove axes on plots below\n",
    "3) Add in ANI place field plots"
   ]
  },
  {
   "cell_type": "code",
   "execution_count": 2,
   "id": "a0677045",
   "metadata": {
    "scrolled": false
   },
   "outputs": [
    {
     "name": "stdout",
     "output_type": "stream",
     "text": [
      "[8.5 6.5]\n"
     ]
    },
    {
     "data": {
      "application/vnd.jupyter.widget-view+json": {
       "model_id": "ba51ed8d2543482bbeea60f2204de9b1",
       "version_major": 2,
       "version_minor": 0
      },
      "image/png": "[encoded data removed]",
      "text/html": [
       "\n",
       "            <div style=\"display: inline-block;\">\n",
       "                <div class=\"jupyter-widgets widget-label\" style=\"text-align: center;\">\n",
       "                    Figure\n",
       "                </div>\n",
       "                <img src='data:image/png;base64,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' width=850.0/>\n",
       "            </div>\n",
       "        "
      ],
      "text/plain": [
       "Canvas(toolbar=Toolbar(toolitems=[('Home', 'Reset original view', 'home', 'home'), ('Back', 'Back to previous …"
      ]
     },
     "metadata": {},
     "output_type": "display_data"
    }
   ],
   "source": [
    "# Set up main figure plotting\n",
    "%matplotlib ipympl\n",
    "Fig2 = Fig(num=2, grid=(4, 4), size=(8.5, 6.5), fontsize=6)\n",
    "print(Fig2.fig.get_size_inches())"
   ]
  },
  {
   "cell_type": "code",
   "execution_count": 3,
   "id": "0a5088cc",
   "metadata": {
    "scrolled": false
   },
   "outputs": [
    {
     "name": "stdout",
     "output_type": "stream",
     "text": [
      "[8.5 6.5]\n"
     ]
    },
    {
     "data": {
      "application/vnd.jupyter.widget-view+json": {
       "model_id": "0034eb9430a44f129c330742d0c27f32",
       "version_major": 2,
       "version_minor": 0
      },
      "image/png": "[encoded data removed]",
      "text/html": [
       "\n",
       "            <div style=\"display: inline-block;\">\n",
       "                <div class=\"jupyter-widgets widget-label\" style=\"text-align: center;\">\n",
       "                    Figure 2 stats\n",
       "                </div>\n",
       "                <img src='data:image/png;base64,iVBORw0KGgoAAAANSUhEUgAAA1IAAAKKCAYAAAA3PGrxAAAAOXRFWHRTb2Z0d2FyZQBNYXRwbG90bGliIHZlcnNpb24zLjQuMiwgaHR0cHM6Ly9tYXRwbG90bGliLm9yZy8rg+JYAAAACXBIWXMAAA9hAAAPYQGoP6dpAAANxklEQVR4nO3XwQ3AIBDAsNL9dz5WIC+EZE+Qb9bMzAcAAMCx/3YAAADAa4wUAABAZKQAAAAiIwUAABAZKQAAgMhIAQAAREYKAAAgMlIAAACRkQIAAIiMFAAAQGSkAAAAIiMFAAAQGSkAAIDISAEAAERGCgAAIDJSAAAAkZECAACIjBQAAEBkpAAAACIjBQAAEBkpAACAyEgBAABERgoAACAyUgAAAJGRAgAAiIwUAABAZKQAAAAiIwUAABAZKQAAgMhIAQAAREYKAAAgMlIAAACRkQIAAIiMFAAAQGSkAAAAIiMFAAAQGSkAAIDISAEAAERGCgAAIDJSAAAAkZECAACIjBQAAEBkpAAAACIjBQAAEBkpAACAyEgBAABERgoAACAyUgAAAJGRAgAAiIwUAABAZKQAAAAiIwUAABAZKQAAgMhIAQAAREYKAAAgMlIAAACRkQIAAIiMFAAAQGSkAAAAIiMFAAAQGSkAAIDISAEAAERGCgAAIDJSAAAAkZECAACIjBQAAEBkpAAAACIjBQAAEBkpAACAyEgBAABERgoAACAyUgAAAJGRAgAAiIwUAABAZKQAAAAiIwUAABAZKQAAgMhIAQAAREYKAAAgMlIAAACRkQIAAIiMFAAAQGSkAAAAIiMFAAAQGSkAAIDISAEAAERGCgAAIDJSAAAAkZECAACIjBQAAEBkpAAAACIjBQAAEBkpAACAyEgBAABERgoAACAyUgAAAJGRAgAAiIwUAABAZKQAAAAiIwUAABAZKQAAgMhIAQAAREYKAAAgMlIAAACRkQIAAIiMFAAAQGSkAAAAIiMFAAAQGSkAAIDISAEAAERGCgAAIDJSAAAAkZECAACIjBQAAEBkpAAAACIjBQAAEBkpAACAyEgBAABERgoAACAyUgAAAJGRAgAAiIwUAABAZKQAAAAiIwUAABAZKQAAgMhIAQAAREYKAAAgMlIAAACRkQIAAIiMFAAAQGSkAAAAIiMFAAAQGSkAAIDISAEAAERGCgAAIDJSAAAAkZECAACIjBQAAEBkpAAAACIjBQAAEBkpAACAyEgBAABERgoAACAyUgAAAJGRAgAAiIwUAABAZKQAAAAiIwUAABAZKQAAgMhIAQAAREYKAAAgMlIAAACRkQIAAIiMFAAAQGSkAAAAIiMFAAAQGSkAAIDISAEAAERGCgAAIDJSAAAAkZECAACIjBQAAEBkpAAAACIjBQAAEBkpAACAyEgBAABERgoAACAyUgAAAJGRAgAAiIwUAABAZKQAAAAiIwUAABAZKQAAgMhIAQAAREYKAAAgMlIAAACRkQIAAIiMFAAAQGSkAAAAIiMFAAAQGSkAAIDISAEAAERGCgAAIDJSAAAAkZECAACIjBQAAEBkpAAAACIjBQAAEBkpAACAyEgBAABERgoAACAyUgAAAJGRAgAAiIwUAABAZKQAAAAiIwUAABAZKQAAgMhIAQAAREYKAAAgMlIAAACRkQIAAIiMFAAAQGSkAAAAIiMFAAAQGSkAAIDISAEAAERGCgAAIDJSAAAAkZECAACIjBQAAEBkpAAAACIjBQAAEBkpAACAyEgBAABERgoAACAyUgAAAJGRAgAAiIwUAABAZKQAAAAiIwUAABAZKQAAgMhIAQAAREYKAAAgMlIAAACRkQIAAIiMFAAAQGSkAAAAIiMFAAAQGSkAAIDISAEAAERGCgAAIDJSAAAAkZECAACIjBQAAEBkpAAAACIjBQAAEBkpAACAyEgBAABERgoAACAyUgAAAJGRAgAAiIwUAABAZKQAAAAiIwUAABAZKQAAgMhIAQAAREYKAAAgMlIAAACRkQIAAIiMFAAAQGSkAAAAIiMFAAAQGSkAAIDISAEAAERGCgAAIDJSAAAAkZECAACIjBQAAEBkpAAAACIjBQAAEBkpAACAyEgBAABERgoAACAyUgAAAJGRAgAAiIwUAABAZKQAAAAiIwUAABAZKQAAgMhIAQAAREYKAAAgMlIAAACRkQIAAIiMFAAAQGSkAAAAIiMFAAAQGSkAAIDISAEAAERGCgAAIDJSAAAAkZECAACIjBQAAEBkpAAAACIjBQAAEBkpAACAyEgBAABERgoAACAyUgAAAJGRAgAAiIwUAABAZKQAAAAiIwUAABAZKQAAgMhIAQAAREYKAAAgMlIAAACRkQIAAIiMFAAAQGSkAAAAIiMFAAAQGSkAAIDISAEAAERGCgAAIDJSAAAAkZECAACIjBQAAEBkpAAAACIjBQAAEBkpAACAyEgBAABERgoAACAyUgAAAJGRAgAAiIwUAABAZKQAAAAiIwUAABAZKQAAgMhIAQAAREYKAAAgMlIAAACRkQIAAIiMFAAAQGSkAAAAIiMFAAAQGSkAAIDISAEAAERGCgAAIDJSAAAAkZECAACIjBQAAEBkpAAAACIjBQAAEBkpAACAyEgBAABERgoAACAyUgAAAJGRAgAAiIwUAABAZKQAAAAiIwUAABAZKQAAgMhIAQAAREYKAAAgMlIAAACRkQIAAIiMFAAAQGSkAAAAIiMFAAAQGSkAAIDISAEAAERGCgAAIDJSAAAAkZECAACIjBQAAEBkpAAAACIjBQAAEBkpAACAyEgBAABERgoAACAyUgAAAJGRAgAAiIwUAABAZKQAAAAiIwUAABAZKQAAgMhIAQAAREYKAAAgMlIAAACRkQIAAIiMFAAAQGSkAAAAIiMFAAAQGSkAAIDISAEAAERGCgAAIDJSAAAAkZECAACIjBQAAEBkpAAAACIjBQAAEBkpAACAyEgBAABERgoAACAyUgAAAJGRAgAAiIwUAABAZKQAAAAiIwUAABAZKQAAgMhIAQAAREYKAAAgMlIAAACRkQIAAIiMFAAAQGSkAAAAIiMFAAAQGSkAAIDISAEAAERGCgAAIDJSAAAAkZECAACIjBQAAEBkpAAAACIjBQAAEBkpAACAyEgBAABERgoAACAyUgAAAJGRAgAAiIwUAABAZKQAAAAiIwUAABAZKQAAgMhIAQAAREYKAAAgMlIAAACRkQIAAIiMFAAAQGSkAAAAIiMFAAAQGSkAAIDISAEAAERGCgAAIDJSAAAAkZECAACIjBQAAEBkpAAAACIjBQAAEBkpAACAyEgBAABERgoAACAyUgAAAJGRAgAAiIwUAABAZKQAAAAiIwUAABAZKQAAgMhIAQAAREYKAAAgMlIAAACRkQIAAIiMFAAAQGSkAAAAIiMFAAAQGSkAAIDISAEAAERGCgAAIDJSAAAAkZECAACIjBQAAEBkpAAAACIjBQAAEBkpAACAyEgBAABERgoAACAyUgAAAJGRAgAAiIwUAABAZKQAAAAiIwUAABAZKQAAgMhIAQAAREYKAAAgMlIAAACRkQIAAIiMFAAAQGSkAAAAIiMFAAAQGSkAAIDISAEAAERGCgAAIDJSAAAAkZECAACIjBQAAEBkpAAAACIjBQAAEBkpAACAyEgBAABERgoAACAyUgAAAJGRAgAAiIwUAABAZKQAAAAiIwUAABAZKQAAgMhIAQAAREYKAAAgMlIAAACRkQIAAIiMFAAAQGSkAAAAIiMFAAAQGSkAAIDISAEAAERGCgAAIDJSAAAAkZECAACIjBQAAEBkpAAAACIjBQAAEBkpAACAyEgBAABERgoAACAyUgAAAJGRAgAAiIwUAABAZKQAAAAiIwUAABAZKQAAgMhIAQAAREYKAAAgMlIAAACRkQIAAIiMFAAAQGSkAAAAIiMFAAAQGSkAAIDISAEAAERGCgAAIDJSAAAAkZECAACIjBQAAEBkpAAAACIjBQAAEBkpAACAyEgBAABERgoAACAyUgAAAJGRAgAAiIwUAABAZKQAAAAiIwUAABAZKQAAgMhIAQAAREYKAAAgMlIAAACRkQIAAIiMFAAAQGSkAAAAIiMFAAAQGSkAAIDISAEAAERGCgAAIDJSAAAAkZECAACIjBQAAEBkpAAAACIjBQAAEBkpAACAyEgBAABERgoAACAyUgAAAJGRAgAAiIwUAABAZKQAAAAiIwUAABAZKQAAgMhIAQAAREYKAAAgMlIAAACRkQIAAIiMFAAAQGSkAAAAIiMFAAAQGSkAAIDISAEAAERGCgAAIDJSAAAAkZECAACIjBQAAEBkpAAAACIjBQAAEBkpAACAyEgBAABERgoAACAyUgAAAJGRAgAAiIwUAABAZKQAAAAiIwUAABAZKQAAgMhIAQAAREYKAAAgMlIAAACRkQIAAIiMFAAAQGSkAAAAIiMFAAAQGSkAAIDISAEAAERGCgAAIDJSAAAAkZECAACIjBQAAEBkpAAAACIjBQAAEBkpAACAyEgBAABERgoAACAyUgAAAJGRAgAAiIwUAABAZKQAAAAiIwUAABAZKQAAgMhIAQAAREYKAAAgMlIAAACRkQIAAIiMFAAAQGSkAAAAIiMFAAAQGSkAAIDISAEAAERGCgAAIDJSAAAAkZECAACIjBQAAEBkpAAAACIjBQAAEBkpAACAyEgBAABERgoAACAyUgAAAJGRAgAAiIwUAABAZKQAAAAiIwUAABAZKQAAgMhIAQAAREYKAAAgMlIAAACRkQIAAIiMFAAAQGSkAAAAIiMFAAAQGSkAAIDISAEAAERGCgAAIDJSAAAAkZECAACIjBQAAEBkpAAAACIjBQAAEBkpAACAyEgBAABERgoAACAyUgAAAJGRAgAAiDbF5gkQjfVqewAAAABJRU5ErkJggg==' width=850.0/>\n",
       "            </div>\n",
       "        "
      ],
      "text/plain": [
       "Canvas(toolbar=Toolbar(toolitems=[('Home', 'Reset original view', 'home', 'home'), ('Back', 'Back to previous …"
      ]
     },
     "metadata": {},
     "output_type": "display_data"
    }
   ],
   "source": [
    "# Set up stats figure\n",
    "Fig2stats = Fig(num=\"Figure 2 stats\", grid=(4, 4), size=(8.5, 6.5), fontsize=6)\n",
    "print(Fig2.fig.get_size_inches())\n",
    "Fig2comb = FigMirror(Fig2, Fig2stats)"
   ]
  },
  {
   "cell_type": "markdown",
   "id": "8c201639",
   "metadata": {},
   "source": [
    "Plots #3/4: Cell turnover across days"
   ]
  },
  {
   "cell_type": "code",
   "execution_count": 4,
   "id": "f429586e",
   "metadata": {
    "scrolled": true
   },
   "outputs": [
    {
     "name": "stdout",
     "output_type": "stream",
     "text": [
      "[[[ 1 20  3]\n",
      "  [ 4 50  6]\n",
      "  [ 7 80  9]]\n",
      "\n",
      " [[ 1 20  3]\n",
      "  [ 4 50  6]\n",
      "  [ 7 80  9]]]\n",
      "3rd dim index = 0 after reshaping - should be 1, 4, 7, 20, 50, 80\n",
      "[[ 1.  7. 50.]\n",
      " [ 1.  7. 50.]\n",
      " [ 4. 20. 80.]\n",
      " [ 4. 20. 80.]]\n",
      "3rd dim index = 1 after reshaping - should be 3, 6, 9, and nan\n",
      "[[ 3.  9. nan]\n",
      " [ 3.  9. nan]\n",
      " [ 6. nan nan]\n",
      " [ 6. nan nan]]\n"
     ]
    }
   ],
   "source": [
    "# Test code for reshaping - want 1st index from 3rd dim folded into 2nd, e.g. combine shock v shock and open v open\n",
    "# Not currently used, but could be useful if we need to add in \"open\" v \"open\" overlaps at some later point, no\n",
    "# currently included, only \"shock\" v \"shock\"\n",
    "a = np.array([[[1, 2, 3], [4, 5, 6], [7, 8, 9]], [[1, 2, 3], [4, 5, 6], [7, 8, 9]]])\n",
    "a[:, :, 1] = a[:, :, 1]*10\n",
    "print(a)\n",
    "# So 1, 4, 7, and 20, 50, 80 are same arena, 3, 6, 9 are different\n",
    "b = np.append(a, np.nan*np.ones_like(a[:, :, 2, None]), axis=2)\n",
    "c = b.reshape((int(b.shape[0]*2), b.shape[1], int(b.shape[2]/2)), order='F')\n",
    "print('3rd dim index = 0 after reshaping - should be 1, 4, 7, 20, 50, 80')\n",
    "print(c[:, :, 0])\n",
    "print('3rd dim index = 1 after reshaping - should be 3, 6, 9, and nan')\n",
    "print(c[:, :, 1])\n",
    "# Ok, so this works - things are grouped appropriately"
   ]
  },
  {
   "cell_type": "code",
   "execution_count": 5,
   "id": "727ed340",
   "metadata": {
    "scrolled": false
   },
   "outputs": [],
   "source": [
    "plot_ind = False\n",
    "\n",
    "axolap_ctrl = Fig2.subplot(441)\n",
    "axolap_ani = Fig2.subplot(442)\n",
    "\n",
    "oratioboth_comb = []\n",
    "for ax, mice, group_title in zip([axolap_ctrl, axolap_ani], [err.control_mice_good, err.ani_mice_good], \n",
    "                                 [\"Control\", \"Anisomycin\"]):\n",
    "    # days = [-1, 0, 4, 1, 2]  # use this to look at change from day 0 to 4hr sesh (good in control arena only)\n",
    "    days = [-1, 4, 1, 2, 7]  # legit way - use to look at change across all days with 10 min sessions\n",
    "#     arenas = ['Shock', 'Open']\n",
    "    arenas = [[\"Shock\", \"Shock\"], [\"Shock\", \"Open\"]]\n",
    "    oratio1 = np.ones((len(mice), len(days), len(arenas)))*np.nan\n",
    "    oratio2 = np.ones((len(mice), len(days), len(arenas)))*np.nan\n",
    "    oratioboth = np.ones((len(mice), len(days), len(arenas)))*np.nan\n",
    "    oratiomin = np.ones((len(mice), len(days), len(arenas)))*np.nan\n",
    "    oratiomax = np.ones((len(mice), len(days), len(arenas)))*np.nan\n",
    "\n",
    "    # Get overlapping cell ratios for each day/arena using Shock day -2 as a reference\n",
    "    pathname = err.pathname  # Get plotting folder\n",
    "    for idm, mouse in enumerate(mice):\n",
    "        for idd, day in enumerate(days):\n",
    "            for ida, arena_pair in enumerate(arenas):\n",
    "                try:\n",
    "                    _, _, oratioboth[idm, idd, ida], oratiomin[idm, idd, ida], oratiomax[idm, idd, ida] = \\\n",
    "                        pfs.get_overlap(mouse, arena_pair[0], -2, arena_pair[1], day)\n",
    "                except TypeError:\n",
    "                    print('Missing reg file for ' + mouse + ' Day ' + str(day) + ' ' + arena)\n",
    "\n",
    "        if plot_ind:\n",
    "            fig, ax, hline = er.plot_overlaps(oratio1[idm, :, :], days=days)\n",
    "            fig.savefig(os.path.join(pathname, 'Cell Overlap ' + group_title + '-' + mouse + '.pdf'))\n",
    "            plt.close(fig)\n",
    "    \n",
    "#     # Now reshape things in oratio both to make plotting easier - see above code block for sanity check - not working\n",
    "#     temp = np.append(oratioboth, np.nan*np.ones_like(oratioboth[:, :, 2, None]), axis=2)\n",
    "#     oratioboth_rs = temp.reshape((int(temp.shape[0]*2), temp.shape[1], int(temp.shape[2]/2)), order='F')\n",
    "    \n",
    "    _, _ = er.plot_overlaps(oratioboth, days=days, jitter=[-0.05, 0.05], colors = ['b', 'r'], \n",
    "                              arenas=['Shock v Shock', 'Shock v Neutral'], ax=ax, markersize=2.0)\n",
    "    ax.set_title(group_title)\n",
    "    ax.set_ylabel('Overlap Ratio')\n",
    "\n",
    "    oratioboth_comb.append(oratioboth)  # Create list with both groups data in it."
   ]
  },
  {
   "cell_type": "markdown",
   "id": "cf18fa52",
   "metadata": {},
   "source": [
    "Now quantify accelerated change and then slower change (measured by cell overlap) due to ANI administration"
   ]
  },
  {
   "cell_type": "code",
   "execution_count": 6,
   "id": "7e19dc67",
   "metadata": {},
   "outputs": [],
   "source": [
    "# Dump data into dataframe for easy plotting in seaborn afterward...\n",
    "day_pairs = ['-1_4', '4_1', '1_2', '2_7']\n",
    "grp_list, dolap_list, day_list = [], [], []\n",
    "for idg, grp in enumerate(['Ctrl', 'ANI']):\n",
    "    oratio_use = oratioboth_comb[idg]\n",
    "    for idd, day_pair in enumerate(day_pairs):\n",
    "        dolap = oratio_use[:, idd, :].reshape(-1) - oratio_use[:, idd + 1, :].reshape(-1)\n",
    "        dolap_list.extend(dolap)\n",
    "        grp_list.extend(len(dolap)*[grp])\n",
    "        day_list.extend(len(dolap)*[day_pair])\n",
    "\n",
    "dolap_df = pd.DataFrame({'day_pair': day_list, 'dolap': dolap_list, 'Group': grp_list})"
   ]
  },
  {
   "cell_type": "code",
   "execution_count": 7,
   "id": "cb1e832c",
   "metadata": {},
   "outputs": [
    {
     "data": {
      "text/plain": [
       "Text(0.5, 0, 'Day Pair')"
      ]
     },
     "execution_count": 7,
     "metadata": {},
     "output_type": "execute_result"
    }
   ],
   "source": [
    "axolap_bw, axolap_bw_stats = Fig2comb.subplot(443)\n",
    "\n",
    "# Adjust pallete to match color scheme in other plots\n",
    "pal_use = sns.color_palette(palette='Set2', as_cmap=False)  \n",
    "pal_use.pop(0)\n",
    "hdolap = sns.stripplot(data=dolap_df, x='day_pair', y='dolap', hue='Group', dodge=True, palette=pal_use, ax=axolap_bw, size=3)\n",
    "# Fix legend markers\n",
    "for h1 in hdolap.legend().legendHandles:\n",
    "    h1._sizes = [3]\n",
    "axolap_bw.set_ylabel(r'$\\Delta_{overlap}$')\n",
    "axolap_bw.set_xticklabels([' to '.join(day_pair.split('_')) for day_pair in day_pairs])\n",
    "axolap_bw.set_xlabel('Day Pair')"
   ]
  },
  {
   "cell_type": "code",
   "execution_count": 8,
   "id": "380066a5",
   "metadata": {},
   "outputs": [
    {
     "name": "stdout",
     "output_type": "stream",
     "text": [
      "day pair 2_7: pval=0.229 with tstat=-1.24\n",
      "day pair 1_2: pval=0.624 with tstat=0.496\n",
      "day pair 4_1: pval=0.028 with tstat=2.34\n",
      "day pair -1_4: pval=0.000244 with tstat=-4.3\n"
     ]
    }
   ],
   "source": [
    "ytext = 0.7\n",
    "axolap_bw_stats.text(0.1, 0.8, r'Delta overlap bw groups stats}')\n",
    "for day_pair in set(dolap_df['day_pair']):\n",
    "    ctrl = dolap_df[(dolap_df['Group'] == 'Ctrl') & (dolap_df['day_pair'] == day_pair)]['dolap']\n",
    "    ani = dolap_df[(dolap_df['Group'] == 'ANI') & (dolap_df['day_pair'] == day_pair)]['dolap']\n",
    "    tstat, pval = sstats.ttest_ind(ctrl, ani, nan_policy='omit')\n",
    "    print(f'day pair {day_pair}: pval={pval:0.3g} with tstat={tstat:0.3g}')\n",
    "    axolap_bw_stats.text(0.1, ytext, f'day pair {day_pair}: pval={pval:0.3g} with tstat={tstat:0.3g}')\n",
    "    ytext -= 0.1"
   ]
  },
  {
   "cell_type": "markdown",
   "id": "4765980d",
   "metadata": {},
   "source": [
    "### Plot Number of Neurons active for each session"
   ]
  },
  {
   "cell_type": "code",
   "execution_count": 9,
   "id": "9c7ec14c",
   "metadata": {},
   "outputs": [],
   "source": [
    "# Aggregate #neurons\n",
    "\n",
    "days = [-2, -1, 4, 1, 2, 7]\n",
    "\n",
    "arenas = ['Shock', 'Open']\n",
    "nneurons_comb = []\n",
    "for mice in [err.control_mice_good, err.ani_mice_good]:\n",
    "\n",
    "    # # Get overlapping cell ratios for each day/arena using Shock day -2 as a reference\n",
    "    nneurons = ct.get_group_num_neurons(mice, days=days, arenas=arenas)\n",
    "    nanimals = nneurons.shape[0]\n",
    "    nneurons_comb.append(nneurons.reshape(int(2*nanimals), 1, len(days)))  # Combine both areas for each mouse\n",
    "\n",
    "# Now plot - Total #s (un-normalized) plotted in supplemental\n",
    "ax_nn_comb, ax_nn_comb_stats = Fig2comb.subplot(444)\n",
    "# _, ax_nn_comb = plt.subplots()\n",
    "pal_use = sns.color_palette(palette='Set2', as_cmap=False)  \n",
    "pal_use.pop(0)\n",
    "for nn, color, jitter in zip(nneurons_comb, pal_use[0:2], (-0.075, 0.075)):\n",
    "    ct.plot_num_neurons(nn, arena1='Combined', arena2=None, normalize='-2', colors=[color], jitter=jitter,\n",
    "                        markersize=2.0, ax=ax_nn_comb)"
   ]
  },
  {
   "cell_type": "code",
   "execution_count": 10,
   "id": "09acbf26",
   "metadata": {},
   "outputs": [
    {
     "name": "stdout",
     "output_type": "stream",
     "text": [
      "Session -2: pval=nan, tstat=nan\n",
      "Session -1: pval=0.468, tstat=-0.737\n",
      "Session 4: pval=0.0391, tstat=2.18\n",
      "Session 1: pval=0.314, tstat=1.03\n",
      "Session 2: pval=0.43, tstat=0.803\n",
      "Session 7: pval=0.306, tstat=1.05\n"
     ]
    }
   ],
   "source": [
    "nneurons_norm = [ct.norm_num_neurons(nn, 0) for nn in nneurons_comb]\n",
    "ax_nn_comb_stats.text(0.1, 0.8, 'Between group norm. # neurons stats')\n",
    "ytext = 0.7\n",
    "for idd, day in enumerate(days):\n",
    "    # Separate data points for each arena\n",
    "    n_ctrl = nneurons_norm[0][:, :, idd].reshape(-1)\n",
    "    n_ani = nneurons_norm[1][:, :, idd].reshape(-1)\n",
    "    tstat, pval = sstats.ttest_ind(n_ctrl, n_ani)\n",
    "    print(f'Session {day}: pval={pval:0.3g}, tstat={tstat:0.3g}')\n",
    "    ax_nn_comb_stats.text(0.1, ytext, f'Session {day}: pval={pval:0.3g}, tstat={tstat:0.3g}')\n",
    "    ytext -= 0.1\n",
    "    "
   ]
  },
  {
   "cell_type": "markdown",
   "id": "a414503e",
   "metadata": {},
   "source": [
    "Plot #6: Plot of off cells by quartile"
   ]
  },
  {
   "cell_type": "markdown",
   "id": "b5b1c227",
   "metadata": {},
   "source": [
    "Plot #6a (Supplemental 1): Example max projections showing washout in ANI recordings - include with more raw data from other animals."
   ]
  },
  {
   "cell_type": "markdown",
   "id": "87378ee5",
   "metadata": {},
   "source": [
    "Plot #7: Example place-fields across sessions  \n",
    "\n",
    "Marble07, Shock Day -2 to Day -1 gives neuron #27 has a good example neuron. Grab a few others maybe? Example of remapping neuron?"
   ]
  },
  {
   "cell_type": "code",
   "execution_count": 11,
   "id": "fb824b00",
   "metadata": {},
   "outputs": [],
   "source": [
    "gs_pf_subfig = Fig2.subplot2grid(subplot_spec=Fig2.gs[1,0], grid=(2,2))"
   ]
  },
  {
   "cell_type": "code",
   "execution_count": 12,
   "id": "1da204d0",
   "metadata": {},
   "outputs": [],
   "source": [
    "# for i in range(4):\n",
    "#     gs_pf_subfig = Fig2.subplot2grid(subplot_spec=Fig2.gs[1,i], grid=(2,2))\n",
    "#     for a in gs_pf_subfig:\n",
    "#         Fig2.fig.add_subplot(a)"
   ]
  },
  {
   "cell_type": "code",
   "execution_count": 13,
   "id": "1a11d106",
   "metadata": {},
   "outputs": [
    {
     "data": {
      "text/plain": [
       "array([[<AxesSubplot:title={'center':'Shock Day -2'}>,\n",
       "        <AxesSubplot:title={'center':'Shock Day -1'}>],\n",
       "       [<AxesSubplot:>, <AxesSubplot:>]], dtype=object)"
      ]
     },
     "execution_count": 13,
     "metadata": {},
     "output_type": "execute_result"
    }
   ],
   "source": [
    "axp = []\n",
    "for i in range(2):\n",
    "    for j in range(2):\n",
    "        axp.append(Fig2.fig.add_subplot(gs_pf_subfig[i, j]))\n",
    "axp = np.array(axp).reshape(2,2)\n",
    "# ax1 = Fig2.fig.add_subplot(gs_pf_subfig[0, 0])\n",
    "# ax2 = Fig2.fig.add_subplot(gs_pf_subfig[0, 1])\n",
    "PFS1 = pfs.PFCombineObject('Marble07', 'Shock', -2, 'Shock', -1)\n",
    "nneuron = 27\n",
    "PFS1.pfplot(nneuron, ax=axp, linewidth=0.5, markersize=1.0)\n"
   ]
  },
  {
   "cell_type": "markdown",
   "id": "ebfae614",
   "metadata": {},
   "source": [
    "Plot #7a (Supplemental 2): Example place fields from Learner, Non-Learner, and ANI. Plot by quartile - two from each maybe?"
   ]
  },
  {
   "cell_type": "markdown",
   "id": "593ddc81",
   "metadata": {},
   "source": [
    "Plots #8: Placefield stability and reorganization across days - ANI reduces shock-induced PF remapping and also stifles extinction-related remapping.  "
   ]
  },
  {
   "cell_type": "code",
   "execution_count": null,
   "id": "f8e3c8eb",
   "metadata": {},
   "outputs": [],
   "source": []
  }
 ],
 "metadata": {
  "kernelspec": {
   "display_name": "Python 3 (ipykernel)",
   "language": "python",
   "name": "python3"
  },
  "language_info": {
   "codemirror_mode": {
    "name": "ipython",
    "version": 3
   },
   "file_extension": ".py",
   "mimetype": "text/x-python",
   "name": "python",
   "nbconvert_exporter": "python",
   "pygments_lexer": "ipython3",
   "version": "3.9.5"
  }
 },
 "nbformat": 4,
 "nbformat_minor": 5
}
