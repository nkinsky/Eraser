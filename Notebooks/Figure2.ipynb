{
 "cells": [
  {
   "cell_type": "markdown",
   "id": "7ff9d93e",
   "metadata": {},
   "source": [
    "### Figure 2: Cell Turnover, Anisomycin Effects, and Placefield Stability Remapping"
   ]
  },
  {
   "cell_type": "code",
   "execution_count": null,
   "id": "30bf2db9",
   "metadata": {},
   "outputs": [],
   "source": [
    "import scipy.stats as s\n",
    "import numpy as np\n",
    "import matplotlib.pyplot as plt\n",
    "from os import path\n",
    "import seaborn as sns\n",
    "import pandas as pd\n",
    "\n",
    "# Import project specific modules and enable automatic reloading\n",
    "import sys\n",
    "from pathlib import Path\n",
    "import os\n",
    "eraser_path = Path(os.getcwd()).parent\n",
    "reinstatement_path = eraser_path.parent / 'FearReinstatement'\n",
    "sys.path.append(str(eraser_path))\n",
    "sys.path.append(str(reinstatement_path))\n",
    "%load_ext autoreload\n",
    "%autoreload 2\n",
    "\n",
    "import eraser_reference as err\n",
    "import er_plot_functions as er\n",
    "from plotting import Fig, pretty_plot, FigMirror\n",
    "import placefield_stability as pfs\n",
    "import Placefields as pf\n",
    "import discrimination as discr\n",
    "import ca_traces as trc"
   ]
  },
  {
   "cell_type": "markdown",
   "id": "a4bfe836",
   "metadata": {},
   "source": [
    "Plots #1/2: # Cells recorded across days"
   ]
  },
  {
   "cell_type": "markdown",
   "id": "8c201639",
   "metadata": {},
   "source": [
    "Plots #3/4: Cell turnover across days"
   ]
  },
  {
   "cell_type": "markdown",
   "id": "a4f2caa9",
   "metadata": {},
   "source": [
    "Plot # 5: Normalized cell count across days with comparisons between ANI and Controls"
   ]
  },
  {
   "cell_type": "markdown",
   "id": "a414503e",
   "metadata": {},
   "source": [
    "Plot #6: Plot of off cells by quartile"
   ]
  },
  {
   "cell_type": "markdown",
   "id": "b5b1c227",
   "metadata": {},
   "source": [
    "Plot #6a (Supplemental 1): Example max projections showing washout in ANI recordings - include with more raw data from other animals."
   ]
  },
  {
   "cell_type": "markdown",
   "id": "87378ee5",
   "metadata": {},
   "source": [
    "Plot #7: Example place-fields across sessions"
   ]
  },
  {
   "cell_type": "markdown",
   "id": "ebfae614",
   "metadata": {},
   "source": [
    "Plot #7a (Supplemental 2): Example place fields from Learner, Non-Learner, and ANI. Plot by quartile - two from each maybe?"
   ]
  },
  {
   "cell_type": "markdown",
   "id": "593ddc81",
   "metadata": {},
   "source": [
    "Plots #8: Placefield stability and reorganization across days - ANI reduces shock-induced PF remapping and also stifles extinction-related remapping.  "
   ]
  },
  {
   "cell_type": "code",
   "execution_count": null,
   "id": "f8e3c8eb",
   "metadata": {},
   "outputs": [],
   "source": []
  }
 ],
 "metadata": {
  "kernelspec": {
   "display_name": "Python 3 (ipykernel)",
   "language": "python",
   "name": "python3"
  },
  "language_info": {
   "codemirror_mode": {
    "name": "ipython",
    "version": 3
   },
   "file_extension": ".py",
   "mimetype": "text/x-python",
   "name": "python",
   "nbconvert_exporter": "python",
   "pygments_lexer": "ipython3",
   "version": "3.9.5"
  }
 },
 "nbformat": 4,
 "nbformat_minor": 5
}
